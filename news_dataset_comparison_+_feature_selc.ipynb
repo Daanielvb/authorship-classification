{
  "nbformat": 4,
  "nbformat_minor": 0,
  "metadata": {
    "colab": {
      "name": "news dataset comparison + feature selc.ipynb",
      "provenance": [],
      "collapsed_sections": []
    },
    "kernelspec": {
      "name": "python3",
      "display_name": "Python 3"
    }
  },
  "cells": [
    {
      "cell_type": "code",
      "metadata": {
        "id": "Xddwaic6Uf00",
        "colab_type": "code",
        "colab": {
          "base_uri": "https://localhost:8080/",
          "height": 51
        },
        "outputId": "2895af61-5397-4e71-c637-0a425a12b39a"
      },
      "source": [
        "!pip install -U -q PyDrive\n",
        "from pydrive.auth import GoogleAuth\n",
        "from pydrive.drive import GoogleDrive\n",
        "from google.colab import auth\n",
        "from oauth2client.client import GoogleCredentials\n",
        "import warnings\n",
        "\n",
        "# Authenticate and create the PyDrive client.\n",
        "auth.authenticate_user()\n",
        "gauth = GoogleAuth()\n",
        "gauth.credentials = GoogleCredentials.get_application_default()\n",
        "drive = GoogleDrive(gauth)\n",
        "\n",
        "# The dataset shareable link\n",
        "\n",
        "#new stylo data\n",
        "#link = 'https://drive.google.com/open?id=1qg3fx5JyibrfBBycl3y8hCQJWBiXkP2N'\n",
        "link = 'https://drive.google.com/open?id=15e0XWZR1CYx0nyBOLasWJuwMyFgF-U5l'\n",
        "\n",
        "fluff, id = link.split('=')\n",
        "print(id)\n",
        "filename = 'stylo-data.csv'\n",
        "downloaded = drive.CreateFile({'id':id})\n",
        "downloaded.GetContentFile(filename)\n",
        "\n",
        "#news stylo dataset\n",
        "news_link = 'https://drive.google.com/open?id=1C5MS8fWH2yS5GKS_TVddhuXPgR63JC-c'\n",
        "fluff, id = news_link.split('=')\n",
        "print(id)\n",
        "news_filename = 'news-data.csv'\n",
        "downloaded = drive.CreateFile({'id':id})\n",
        "downloaded.GetContentFile(news_filename)"
      ],
      "execution_count": 1,
      "outputs": [
        {
          "output_type": "stream",
          "text": [
            "15e0XWZR1CYx0nyBOLasWJuwMyFgF-U5l\n",
            "1C5MS8fWH2yS5GKS_TVddhuXPgR63JC-c\n"
          ],
          "name": "stdout"
        }
      ]
    },
    {
      "cell_type": "code",
      "metadata": {
        "id": "1zGcn_MPPWv-",
        "colab_type": "code",
        "colab": {
          "base_uri": "https://localhost:8080/",
          "height": 153
        },
        "outputId": "00542bdc-f134-4713-fd58-d57c71dfb8e8"
      },
      "source": [
        "import pandas as pd\n",
        "\n",
        "import numpy as np\n",
        "from matplotlib import pyplot as plt\n",
        "\n",
        "from sklearn.model_selection import train_test_split, cross_validate, StratifiedKFold, RandomizedSearchCV\n",
        "from sklearn.metrics import classification_report, confusion_matrix, accuracy_score, roc_auc_score\n",
        "from sklearn.preprocessing import LabelEncoder, StandardScaler\n",
        "from sklearn.mixture import GaussianMixture, BayesianGaussianMixture\n",
        "from sklearn.cluster import KMeans\n",
        "from sklearn.decomposition import PCA\n",
        "from sklearn.pipeline import Pipeline, make_pipeline\n",
        "from sklearn.linear_model import SGDClassifier, LogisticRegression\n",
        "from sklearn.ensemble import AdaBoostClassifier, BaggingClassifier, ExtraTreesClassifier, GradientBoostingClassifier, RandomForestClassifier\n",
        "from sklearn.svm import SVC, SVR, LinearSVC\n",
        "from sklearn.feature_extraction.text import TfidfTransformer,TfidfVectorizer\n",
        "from sklearn.naive_bayes import GaussianNB, BernoulliNB, MultinomialNB\n",
        "from sklearn.neural_network import MLPClassifier\n",
        "from sklearn.neighbors import KNeighborsClassifier\n",
        "from sklearn.feature_selection import SelectKBest, SelectFromModel, VarianceThreshold, SelectPercentile, SelectFwe, RFECV,  chi2, f_classif, mutual_info_classif\n",
        "from sklearn.preprocessing import StandardScaler, MinMaxScaler, PowerTransformer, QuantileTransformer, Normalizer\n",
        "\n",
        "!pip install -U keras\n",
        "from keras.utils import np_utils\n",
        "from keras.preprocessing.text import Tokenizer\n",
        "from keras.preprocessing.sequence import pad_sequences\n",
        "from tensorflow.python.keras.layers import InputLayer, Embedding, Conv1D, MaxPool1D, Dense, Flatten, Dropout, GRU, LSTM, Input\n",
        "from tensorflow.python.keras import Sequential, Model\n",
        "from keras.initializers import Constant\n",
        "\n",
        "from pprint import pprint\n",
        "\n",
        "from imblearn.over_sampling import SMOTE"
      ],
      "execution_count": 44,
      "outputs": [
        {
          "output_type": "stream",
          "text": [
            "Requirement already up-to-date: keras in /usr/local/lib/python3.6/dist-packages (2.3.1)\n",
            "Requirement already satisfied, skipping upgrade: pyyaml in /usr/local/lib/python3.6/dist-packages (from keras) (3.13)\n",
            "Requirement already satisfied, skipping upgrade: numpy>=1.9.1 in /usr/local/lib/python3.6/dist-packages (from keras) (1.18.2)\n",
            "Requirement already satisfied, skipping upgrade: six>=1.9.0 in /usr/local/lib/python3.6/dist-packages (from keras) (1.12.0)\n",
            "Requirement already satisfied, skipping upgrade: h5py in /usr/local/lib/python3.6/dist-packages (from keras) (2.10.0)\n",
            "Requirement already satisfied, skipping upgrade: keras-applications>=1.0.6 in /usr/local/lib/python3.6/dist-packages (from keras) (1.0.8)\n",
            "Requirement already satisfied, skipping upgrade: keras-preprocessing>=1.0.5 in /usr/local/lib/python3.6/dist-packages (from keras) (1.1.0)\n",
            "Requirement already satisfied, skipping upgrade: scipy>=0.14 in /usr/local/lib/python3.6/dist-packages (from keras) (1.4.1)\n"
          ],
          "name": "stdout"
        }
      ]
    },
    {
      "cell_type": "code",
      "metadata": {
        "colab_type": "code",
        "id": "vCg33ap_U4ei",
        "colab": {}
      },
      "source": [
        "# read dataset\n",
        "df = pd.read_csv(filename)\n",
        "df_news = pd.read_csv(news_filename)\n",
        "\n",
        "# Remove single class entries (We need at least 3 samples of an author)#\n",
        "df = df.groupby('Author').filter(lambda x: len(x) > 3)"
      ],
      "execution_count": 0,
      "outputs": []
    },
    {
      "cell_type": "code",
      "metadata": {
        "id": "z0nBZUDPU5mN",
        "colab_type": "code",
        "colab": {}
      },
      "source": [
        "#Separate data from labels\n",
        "\n",
        "y = df.pop('Author')\n",
        "y_news = df_news.pop('Author')\n",
        "\n",
        "le = LabelEncoder()\n",
        "le.fit(y)\n",
        "encoded_Y = le.transform(y)\n",
        "\n",
        "le.fit(y_news)\n",
        "encoded_y_news = le.transform(y_news)"
      ],
      "execution_count": 0,
      "outputs": []
    },
    {
      "cell_type": "code",
      "metadata": {
        "id": "CLqTaPXgU80J",
        "colab_type": "code",
        "colab": {
          "base_uri": "https://localhost:8080/",
          "height": 119
        },
        "outputId": "3b02af4c-da6e-46c5-9f81-3d141f379f84"
      },
      "source": [
        "# Feature selection\n",
        "\n",
        "# Baseline (Variance threshold):\n",
        "threshold=(.01)\n",
        "selector = VarianceThreshold(threshold)\n",
        "selector.fit(df)\n",
        "\n",
        "df.columns[selector.get_support(indices=True)] # 20 features, data has very low variance (features are mostly very close)\n",
        "\n",
        "selector.fit(df_news)\n",
        "\n",
        "df_news.columns[selector.get_support(indices=True)]"
      ],
      "execution_count": 181,
      "outputs": [
        {
          "output_type": "execute_result",
          "data": {
            "text/plain": [
              "Index(['DiversidadeLexica', 'TamanhoMedioDasPalavras', 'TamanhoMedioSentencas',\n",
              "       'StdevSentencas', 'TamanhoMedioParagrafos', 'StdevTamParagrafos',\n",
              "       'MediaSilabasPorPalavra', 'Ponto', 'Virgulas', 'Exclamacoes',\n",
              "       'DoisPontos', 'PronomesPorPreposicao', 'GuiraudR', 'HerdanV', 'MedidaK',\n",
              "       'DugastU', 'BRFleshIndex'],\n",
              "      dtype='object')"
            ]
          },
          "metadata": {
            "tags": []
          },
          "execution_count": 181
        }
      ]
    },
    {
      "cell_type": "code",
      "metadata": {
        "id": "E1hUjRi3U_Si",
        "colab_type": "code",
        "colab": {
          "base_uri": "https://localhost:8080/",
          "height": 170
        },
        "outputId": "6ee02edf-e2a4-4b79-a5ce-5fbfe8a4d6c1"
      },
      "source": [
        "# 50% better based on percentile using chi2\n",
        "selector = SelectPercentile(chi2, percentile=50)\n",
        "selector.fit(df, y)\n",
        "df.columns[selector.get_support(indices=True)]"
      ],
      "execution_count": 182,
      "outputs": [
        {
          "output_type": "execute_result",
          "data": {
            "text/plain": [
              "Index(['DiversidadeLexica', 'TamanhoMedioDasPalavras', 'TamanhoMedioSentencas',\n",
              "       'StdevSentencas', 'TamanhoMedioParagrafos', 'StdevTamParagrafos',\n",
              "       'FrequenciaDeParagrafos', 'Ponto', 'Virgulas', 'Exclamacoes',\n",
              "       'DoisPontos', 'PronomesPorPreposicao', 'FreqEAbstracao',\n",
              "       'FreqEAcontecimento', 'FreqECoisa', 'FreqEOrganizacao', 'FreqEObra',\n",
              "       'FreqEOutro', 'FreqEPessoa', 'FreqETempo', 'FreqEValor', 'GuiraudR',\n",
              "       'HerdanV', 'DugastU', 'HonoresH', 'FrequenciaDeHapaxLegomenaLocal',\n",
              "       'BRFleshIndex'],\n",
              "      dtype='object')"
            ]
          },
          "metadata": {
            "tags": []
          },
          "execution_count": 182
        }
      ]
    },
    {
      "cell_type": "code",
      "metadata": {
        "id": "F_v7US4sVB_J",
        "colab_type": "code",
        "colab": {
          "base_uri": "https://localhost:8080/",
          "height": 170
        },
        "outputId": "3bf93800-46ab-41dc-fec6-67eff9107fc2"
      },
      "source": [
        "selector = SelectPercentile(chi2, percentile=50)\n",
        "selector.fit(df_news, y_news)\n",
        "df.columns[selector.get_support(indices=True)]"
      ],
      "execution_count": 183,
      "outputs": [
        {
          "output_type": "execute_result",
          "data": {
            "text/plain": [
              "Index(['DiversidadeLexica', 'TamanhoMedioDasPalavras', 'TamanhoMedioSentencas',\n",
              "       'StdevSentencas', 'TamanhoMedioParagrafos', 'StdevTamParagrafos',\n",
              "       'Ponto', 'Virgulas', 'Exclamacoes', 'DoisPontos', 'FreqCitacoes',\n",
              "       'FreqAdv', 'FreqVerbosPtcp', 'FreqPronomes', 'PronomesPorPreposicao',\n",
              "       'FreqTermosNaoTageados', 'FreqECoisa', 'FreqEObra', 'FreqEOutro',\n",
              "       'FreqEPessoa', 'FreqETempo', 'GuiraudR', 'HerdanV', 'DugastU',\n",
              "       'FreqPalavrasErradas', 'FrequenciaDeHapaxLegomenaLocal',\n",
              "       'BRFleshIndex'],\n",
              "      dtype='object')"
            ]
          },
          "metadata": {
            "tags": []
          },
          "execution_count": 183
        }
      ]
    },
    {
      "cell_type": "code",
      "metadata": {
        "id": "cwHSf7U5VEWl",
        "colab_type": "code",
        "colab": {
          "base_uri": "https://localhost:8080/",
          "height": 952
        },
        "outputId": "ecc26c3a-d37b-47f9-c6b2-105464afd86c"
      },
      "source": [
        "# K-Best (chi2)\n",
        "best_k_features = SelectKBest(chi2, k=54).fit(df, y)\n",
        "dfscores = pd.DataFrame(best_k_features.scores_)\n",
        "dfcolumns = pd.DataFrame(df.columns)\n",
        "featureScores = pd.concat([dfcolumns,dfscores],axis=1)\n",
        "featureScores.columns = ['Feature','Score'] \n",
        "print(featureScores.nlargest(54,'Score'))"
      ],
      "execution_count": 184,
      "outputs": [
        {
          "output_type": "stream",
          "text": [
            "                           Feature        Score\n",
            "41                         HerdanV  1640.030726\n",
            "5               StdevTamParagrafos  1190.145679\n",
            "4           TamanhoMedioParagrafos  1083.505879\n",
            "3                   StdevSentencas    83.212074\n",
            "0                DiversidadeLexica    68.963605\n",
            "2            TamanhoMedioSentencas    42.317390\n",
            "43                         DugastU    40.001632\n",
            "10                        Virgulas    12.506046\n",
            "9                            Ponto     8.796392\n",
            "12                      DoisPontos     8.654201\n",
            "39                        GuiraudR     7.570860\n",
            "11                     Exclamacoes     5.398750\n",
            "52                    BRFleshIndex     2.558055\n",
            "23           PronomesPorPreposicao     2.380678\n",
            "47  FrequenciaDeHapaxLegomenaLocal     1.056917\n",
            "1          TamanhoMedioDasPalavras     1.034314\n",
            "45                        HonoresH     0.898729\n",
            "30              FreqEAcontecimento     0.542428\n",
            "37                      FreqETempo     0.538987\n",
            "35                      FreqEOutro     0.433414\n",
            "33                FreqEOrganizacao     0.386386\n",
            "34                       FreqEObra     0.323971\n",
            "6           FrequenciaDeParagrafos     0.316969\n",
            "29                  FreqEAbstracao     0.289026\n",
            "36                     FreqEPessoa     0.276762\n",
            "38                      FreqEValor     0.222563\n",
            "31                      FreqECoisa     0.208482\n",
            "50          FreqPalavrasComunsTam4     0.172185\n",
            "32                      FreqELocal     0.163691\n",
            "7     FrequenciaPalavrasDuplicadas     0.154284\n",
            "42                         MedidaK     0.124415\n",
            "24           FreqTermosNaoTageados     0.119277\n",
            "22                    FreqPronomes     0.105890\n",
            "15                         FreqAdv     0.100361\n",
            "46             FreqPalavrasErradas     0.084512\n",
            "14                   FreqAdjetivos     0.083546\n",
            "13                    FreqCitacoes     0.079495\n",
            "49          FreqPalavrasComunsTam3     0.076480\n",
            "20                  FreqVerbosPtcp     0.074478\n",
            "28      FreqTotalEntidadesNomeadas     0.069403\n",
            "8           MediaSilabasPorPalavra     0.069180\n",
            "21                        FreqConj     0.062580\n",
            "26          FreqPalavrasFuncionais     0.056714\n",
            "48          FreqPalavrasComunsTam2     0.054638\n",
            "16                         FreqArt     0.048959\n",
            "18                        FreqPrep     0.048056\n",
            "53           FreqOperadoresLogicos     0.042504\n",
            "19                        FreqVerb     0.035827\n",
            "51             FrequenciaStopWords     0.034237\n",
            "40                         HerdanC     0.028714\n",
            "27        FrequenciaFrasesNominais     0.025541\n",
            "17                        FreqSubs     0.024090\n",
            "25          FreqPalavrasDeConteudo     0.019389\n",
            "44                           MaasA     0.018078\n"
          ],
          "name": "stdout"
        }
      ]
    },
    {
      "cell_type": "code",
      "metadata": {
        "id": "nMRUzFOTVJ23",
        "colab_type": "code",
        "colab": {
          "base_uri": "https://localhost:8080/",
          "height": 952
        },
        "outputId": "73925611-b95e-400a-e047-82cb23c67d7f"
      },
      "source": [
        "# K-Best (chi2)\n",
        "best_k_features = SelectKBest(chi2, k=54).fit(df_news, y_news)\n",
        "dfscores = pd.DataFrame(best_k_features.scores_)\n",
        "dfcolumns = pd.DataFrame(df.columns)\n",
        "featureScores = pd.concat([dfcolumns,dfscores],axis=1)\n",
        "featureScores.columns = ['Feature','Score'] \n",
        "print(featureScores.nlargest(54,'Score'))"
      ],
      "execution_count": 185,
      "outputs": [
        {
          "output_type": "stream",
          "text": [
            "                           Feature        Score\n",
            "41                         HerdanV  2688.503948\n",
            "5               StdevTamParagrafos  1707.831428\n",
            "4           TamanhoMedioParagrafos  1103.327501\n",
            "2            TamanhoMedioSentencas   862.748654\n",
            "11                     Exclamacoes    59.697231\n",
            "3                   StdevSentencas    59.007145\n",
            "0                DiversidadeLexica    37.698913\n",
            "43                         DugastU    33.392413\n",
            "39                        GuiraudR    22.573796\n",
            "10                        Virgulas    21.582665\n",
            "9                            Ponto    16.308883\n",
            "12                      DoisPontos    12.164414\n",
            "23           PronomesPorPreposicao     6.568906\n",
            "52                    BRFleshIndex     4.978543\n",
            "1          TamanhoMedioDasPalavras     1.791226\n",
            "24           FreqTermosNaoTageados     0.810441\n",
            "35                      FreqEOutro     0.551372\n",
            "34                       FreqEObra     0.526174\n",
            "22                    FreqPronomes     0.487441\n",
            "47  FrequenciaDeHapaxLegomenaLocal     0.448172\n",
            "46             FreqPalavrasErradas     0.419544\n",
            "13                    FreqCitacoes     0.399479\n",
            "31                      FreqECoisa     0.389917\n",
            "36                     FreqEPessoa     0.377552\n",
            "37                      FreqETempo     0.349568\n",
            "15                         FreqAdv     0.333384\n",
            "20                  FreqVerbosPtcp     0.316366\n",
            "38                      FreqEValor     0.279046\n",
            "42                         MedidaK     0.263620\n",
            "50          FreqPalavrasComunsTam4     0.252240\n",
            "29                  FreqEAbstracao     0.252198\n",
            "32                      FreqELocal     0.227958\n",
            "17                        FreqSubs     0.222467\n",
            "49          FreqPalavrasComunsTam3     0.205825\n",
            "30              FreqEAcontecimento     0.198315\n",
            "25          FreqPalavrasDeConteudo     0.169387\n",
            "18                        FreqPrep     0.164189\n",
            "6           FrequenciaDeParagrafos     0.163249\n",
            "51             FrequenciaStopWords     0.147728\n",
            "33                FreqEOrganizacao     0.141496\n",
            "8           MediaSilabasPorPalavra     0.141112\n",
            "21                        FreqConj     0.116501\n",
            "53           FreqOperadoresLogicos     0.110885\n",
            "48          FreqPalavrasComunsTam2     0.100544\n",
            "45                        HonoresH     0.099920\n",
            "26          FreqPalavrasFuncionais     0.092239\n",
            "7     FrequenciaPalavrasDuplicadas     0.077802\n",
            "28      FreqTotalEntidadesNomeadas     0.076904\n",
            "16                         FreqArt     0.076476\n",
            "19                        FreqVerb     0.065210\n",
            "27        FrequenciaFrasesNominais     0.060383\n",
            "14                   FreqAdjetivos     0.051196\n",
            "44                           MaasA     0.009959\n",
            "40                         HerdanC     0.006941\n"
          ],
          "name": "stdout"
        }
      ]
    },
    {
      "cell_type": "code",
      "metadata": {
        "id": "Z1JHmkocVEhl",
        "colab_type": "code",
        "colab": {
          "base_uri": "https://localhost:8080/",
          "height": 952
        },
        "outputId": "d707c083-3258-41f0-fd3f-2a55c7340a18"
      },
      "source": [
        "# K-Best (f_classif)\n",
        "best_k_features = SelectKBest(f_classif, k=54).fit(df, y)\n",
        "dfscores = pd.DataFrame(best_k_features.scores_)\n",
        "dfcolumns = pd.DataFrame(df.columns)\n",
        "featureScores = pd.concat([dfcolumns,dfscores],axis=1)\n",
        "featureScores.columns = ['Feature','Score'] \n",
        "print(featureScores.nlargest(54,'Score'))"
      ],
      "execution_count": 186,
      "outputs": [
        {
          "output_type": "stream",
          "text": [
            "                           Feature     Score\n",
            "40                         HerdanC  3.929198\n",
            "47  FrequenciaDeHapaxLegomenaLocal  3.897632\n",
            "0                DiversidadeLexica  3.704376\n",
            "45                        HonoresH  3.677677\n",
            "3                   StdevSentencas  2.980987\n",
            "10                        Virgulas  2.902532\n",
            "7     FrequenciaPalavrasDuplicadas  2.701226\n",
            "43                         DugastU  2.634572\n",
            "9                            Ponto  2.433186\n",
            "44                           MaasA  2.357812\n",
            "28      FreqTotalEntidadesNomeadas  1.975839\n",
            "1          TamanhoMedioDasPalavras  1.816000\n",
            "51             FrequenciaStopWords  1.799109\n",
            "2            TamanhoMedioSentencas  1.750471\n",
            "4           TamanhoMedioParagrafos  1.721667\n",
            "6           FrequenciaDeParagrafos  1.646904\n",
            "50          FreqPalavrasComunsTam4  1.563717\n",
            "41                         HerdanV  1.523790\n",
            "14                   FreqAdjetivos  1.523693\n",
            "42                         MedidaK  1.509841\n",
            "37                      FreqETempo  1.461829\n",
            "5               StdevTamParagrafos  1.418687\n",
            "21                        FreqConj  1.260874\n",
            "26          FreqPalavrasFuncionais  1.251260\n",
            "8           MediaSilabasPorPalavra  1.249751\n",
            "52                    BRFleshIndex  1.248959\n",
            "20                  FreqVerbosPtcp  1.227229\n",
            "18                        FreqPrep  1.220524\n",
            "39                        GuiraudR  1.203934\n",
            "16                         FreqArt  1.140225\n",
            "22                    FreqPronomes  1.088508\n",
            "46             FreqPalavrasErradas  1.001306\n",
            "48          FreqPalavrasComunsTam2  0.981618\n",
            "35                      FreqEOutro  0.942357\n",
            "19                        FreqVerb  0.933703\n",
            "24           FreqTermosNaoTageados  0.931985\n",
            "23           PronomesPorPreposicao  0.916805\n",
            "30              FreqEAcontecimento  0.887278\n",
            "15                         FreqAdv  0.861767\n",
            "33                FreqEOrganizacao  0.850837\n",
            "25          FreqPalavrasDeConteudo  0.805462\n",
            "17                        FreqSubs  0.779586\n",
            "53           FreqOperadoresLogicos  0.748357\n",
            "49          FreqPalavrasComunsTam3  0.743125\n",
            "13                    FreqCitacoes  0.721224\n",
            "29                  FreqEAbstracao  0.718008\n",
            "27        FrequenciaFrasesNominais  0.684562\n",
            "11                     Exclamacoes  0.650388\n",
            "36                     FreqEPessoa  0.559506\n",
            "34                       FreqEObra  0.546502\n",
            "12                      DoisPontos  0.500607\n",
            "31                      FreqECoisa  0.433196\n",
            "38                      FreqEValor  0.411576\n",
            "32                      FreqELocal  0.365574\n"
          ],
          "name": "stdout"
        }
      ]
    },
    {
      "cell_type": "code",
      "metadata": {
        "id": "UPrcQoMqVQWO",
        "colab_type": "code",
        "colab": {
          "base_uri": "https://localhost:8080/",
          "height": 68
        },
        "outputId": "b14ea25d-a0fe-4322-84cb-8a4394e49f30"
      },
      "source": [
        "estimator = RandomForestClassifier()\n",
        "selector = RFECV(estimator, step=5, cv=3)\n",
        "selector = selector.fit(df, y)\n",
        "selector.support_\n",
        "selector.ranking_"
      ],
      "execution_count": 187,
      "outputs": [
        {
          "output_type": "execute_result",
          "data": {
            "text/plain": [
              "array([1, 1, 1, 1, 1, 1, 1, 1, 1, 1, 1, 3, 3, 3, 1, 1, 1, 2, 1, 1, 1, 1,\n",
              "       1, 1, 1, 2, 1, 1, 1, 1, 1, 1, 2, 1, 2, 1, 2, 1, 1, 1, 1, 1, 1, 1,\n",
              "       1, 1, 1, 1, 1, 3, 1, 1, 1, 3])"
            ]
          },
          "metadata": {
            "tags": []
          },
          "execution_count": 187
        }
      ]
    },
    {
      "cell_type": "code",
      "metadata": {
        "id": "I8iXtTWbVVBi",
        "colab_type": "code",
        "colab": {
          "base_uri": "https://localhost:8080/",
          "height": 564
        },
        "outputId": "0419856c-29e7-49e4-e8af-327d4debcf64"
      },
      "source": [
        "# Create the RFE object and compute a cross-validated score.\n",
        "rfc = RandomForestClassifier(n_estimators=200)\n",
        "# The \"accuracy\" scoring is proportional to the number of correct classifications\n",
        "\n",
        "rfecv = RFECV(estimator=rfc, step=1, cv=5,scoring='accuracy')\n",
        "rfecv.fit(df_news, y_news)\n",
        "\n",
        "print(\"Optimal number of features news-dataset: %d\" % rfecv.n_features_)\n",
        "\n",
        "rfecv2 = RFECV(estimator=rfc, step=1, cv=3,\n",
        "              scoring='accuracy')\n",
        "rfecv2.fit(df, y)\n",
        "\n",
        "print(\"Optimal number of features students-dataset: %d\" % rfecv2.n_features_)\n",
        "\n",
        "fig, (ax1, ax2) = plt.subplots(1, 2)\n",
        "fig.set_size_inches(12, 8)\n",
        "\n",
        "ax1.plot(range(1, len(rfecv.grid_scores_) + 1), rfecv.grid_scores_)\n",
        "ax1.set_xlabel(\"Number of features selected\")\n",
        "ax1.set_ylabel(\"Cross validation score (nb of correct classifications)\")\n",
        "ax1.set_title('Random Forest n=200 - News dataset')\n",
        "\n",
        "ax2.plot(range(1, len(rfecv2.grid_scores_) + 1), rfecv2.grid_scores_)\n",
        "ax2.set_xlabel(\"Number of features selected\")\n",
        "ax2.set_ylabel(\"Cross validation score (nb of correct classifications)\")\n",
        "ax2.set_title('Random Forest n=200 - Students dataset')\n",
        "\n",
        "plt.figure()"
      ],
      "execution_count": 188,
      "outputs": [
        {
          "output_type": "stream",
          "text": [
            "Optimal number of features news-dataset: 38\n"
          ],
          "name": "stdout"
        },
        {
          "output_type": "execute_result",
          "data": {
            "text/plain": [
              "<Figure size 432x288 with 0 Axes>"
            ]
          },
          "metadata": {
            "tags": []
          },
          "execution_count": 188
        },
        {
          "output_type": "display_data",
          "data": {
            "image/png": "[encoded data removed]",
            "text/plain": [
              "<Figure size 864x576 with 2 Axes>"
            ]
          },
          "metadata": {
            "tags": [],
            "needs_background": "light"
          }
        },
        {
          "output_type": "display_data",
          "data": {
            "text/plain": [
              "<Figure size 432x288 with 0 Axes>"
            ]
          },
          "metadata": {
            "tags": []
          }
        }
      ]
    },
    {
      "cell_type": "code",
      "metadata": {
        "id": "LNyseg-HVW4X",
        "colab_type": "code",
        "colab": {
          "base_uri": "https://localhost:8080/",
          "height": 316
        },
        "outputId": "8d149a3d-8cf5-488d-f512-90ac6878727b"
      },
      "source": [
        "treeclf = ExtraTreesClassifier(n_estimators=400, random_state=11)\n",
        "# The \"accuracy\" scoring is proportional to the number of correct\n",
        "# classifications\n",
        "rfecv = RFECV(estimator=treeclf, step=1, cv=5,\n",
        "              scoring='accuracy')\n",
        "rfecv.fit(df_news, y_news)\n",
        "\n",
        "print(\"Optimal number of features : %d\" % rfecv.n_features_)\n",
        "\n",
        "# Plot number of features VS. cross-validation scores\n",
        "plt.figure()\n",
        "plt.xlabel(\"Number of features selected\")\n",
        "plt.ylabel(\"Cross validation score (nb of correct classifications)\")\n",
        "plt.plot(range(1, len(rfecv.grid_scores_) + 1), rfecv.grid_scores_)\n",
        "plt.show()"
      ],
      "execution_count": 189,
      "outputs": [
        {
          "output_type": "stream",
          "text": [
            "Optimal number of features : 51\n"
          ],
          "name": "stdout"
        },
        {
          "output_type": "display_data",
          "data": {
            "image/png": "[encoded data removed]",
            "text/plain": [
              "<Figure size 432x288 with 1 Axes>"
            ]
          },
          "metadata": {
            "tags": [],
            "needs_background": "light"
          }
        }
      ]
    },
    {
      "cell_type": "code",
      "metadata": {
        "id": "4FXajxW9RXU0",
        "colab_type": "code",
        "colab": {}
      },
      "source": [
        "X, X_test, Y, y_test = train_test_split(df_news.values, encoded_y_news, random_state=7, test_size=0.3)\n",
        "X_test, X_val, y_test, y_val = train_test_split(X_test, y_test, random_state=7, test_size=0.5)"
      ],
      "execution_count": 0,
      "outputs": []
    },
    {
      "cell_type": "code",
      "metadata": {
        "id": "MvjESmURRgbI",
        "colab_type": "code",
        "colab": {}
      },
      "source": [
        "model = ExtraTreesClassifier(n_estimators=350, random_state=11)\n",
        "model.fit(X, Y)\n",
        "\n",
        "y_pred = model.predict(X_test)\n",
        "\n",
        "score = accuracy_score(y_test, y_pred)\n",
        "print(\"Test score: %.2f%%\" % (score * 100))"
      ],
      "execution_count": 0,
      "outputs": []
    },
    {
      "cell_type": "code",
      "metadata": {
        "id": "pep2ZehISvJK",
        "colab_type": "code",
        "colab": {
          "base_uri": "https://localhost:8080/",
          "height": 683
        },
        "outputId": "1b1b8bd9-b891-4c4e-c4b3-163001dd1ac3"
      },
      "source": [
        "# Hyper-tuning our classifier\n",
        "\n",
        "n_estimators = [int(x) for x in np.linspace(start = 150, stop = 1500, num = 50)]\n",
        "max_features = ['auto', 'sqrt']\n",
        "max_depth = [int(x) for x in np.linspace(10, 110, num = 11)]\n",
        "max_depth.append(None)\n",
        "min_samples_split = [2, 5, 10]\n",
        "min_samples_leaf = [1, 2, 4]\n",
        "bootstrap = [True, False]\n",
        "\n",
        "random_grid = {'n_estimators': n_estimators,\n",
        "               'max_features': max_features,\n",
        "               'max_depth': max_depth,\n",
        "               'min_samples_split': min_samples_split,\n",
        "               'min_samples_leaf': min_samples_leaf,\n",
        "               'bootstrap': bootstrap}\n",
        "                \n",
        "etc = ExtraTreesClassifier(random_state=11)\n",
        "\n",
        "# search across 100 different combinations, and use all available cores\n",
        "rf_random = RandomizedSearchCV(estimator = etc, param_distributions = random_grid, n_iter = 100, cv = 5, verbose=2, random_state=42, n_jobs = -1)\n",
        "\n",
        "rf_random.fit(X, Y)\n",
        "\n",
        "pprint(rf_random.best_params_)"
      ],
      "execution_count": 8,
      "outputs": [
        {
          "output_type": "stream",
          "text": [
            "Fitting 5 folds for each of 100 candidates, totalling 500 fits\n"
          ],
          "name": "stdout"
        },
        {
          "output_type": "stream",
          "text": [
            "/usr/local/lib/python3.6/dist-packages/sklearn/model_selection/_split.py:667: UserWarning: The least populated class in y has only 4 members, which is less than n_splits=5.\n",
            "  % (min_groups, self.n_splits)), UserWarning)\n",
            "[Parallel(n_jobs=-1)]: Using backend LokyBackend with 2 concurrent workers.\n",
            "[Parallel(n_jobs=-1)]: Done  37 tasks      | elapsed:   30.4s\n",
            "[Parallel(n_jobs=-1)]: Done 158 tasks      | elapsed:  2.2min\n",
            "[Parallel(n_jobs=-1)]: Done 361 tasks      | elapsed:  5.1min\n",
            "[Parallel(n_jobs=-1)]: Done 500 out of 500 | elapsed:  7.2min finished\n"
          ],
          "name": "stderr"
        },
        {
          "output_type": "execute_result",
          "data": {
            "text/plain": [
              "RandomizedSearchCV(cv=5, error_score=nan,\n",
              "                   estimator=ExtraTreesClassifier(bootstrap=False,\n",
              "                                                  ccp_alpha=0.0,\n",
              "                                                  class_weight=None,\n",
              "                                                  criterion='gini',\n",
              "                                                  max_depth=None,\n",
              "                                                  max_features='auto',\n",
              "                                                  max_leaf_nodes=None,\n",
              "                                                  max_samples=None,\n",
              "                                                  min_impurity_decrease=0.0,\n",
              "                                                  min_impurity_split=None,\n",
              "                                                  min_samples_leaf=1,\n",
              "                                                  min_samples_split=2,\n",
              "                                                  min_weight_fraction_leaf=0.0,\n",
              "                                                  n_estimators=100, n_jobs=...\n",
              "                                                      70, 80, 90, 100, 110,\n",
              "                                                      None],\n",
              "                                        'max_features': ['auto', 'sqrt'],\n",
              "                                        'min_samples_leaf': [1, 2, 4],\n",
              "                                        'min_samples_split': [2, 5, 10],\n",
              "                                        'n_estimators': [150, 177, 205, 232,\n",
              "                                                         260, 287, 315, 342,\n",
              "                                                         370, 397, 425, 453,\n",
              "                                                         480, 508, 535, 563,\n",
              "                                                         590, 618, 645, 673,\n",
              "                                                         701, 728, 756, 783,\n",
              "                                                         811, 838, 866, 893,\n",
              "                                                         921, 948, ...]},\n",
              "                   pre_dispatch='2*n_jobs', random_state=42, refit=True,\n",
              "                   return_train_score=False, scoring=None, verbose=2)"
            ]
          },
          "metadata": {
            "tags": []
          },
          "execution_count": 8
        }
      ]
    },
    {
      "cell_type": "code",
      "metadata": {
        "id": "BGPCA-Jnf5e2",
        "colab_type": "code",
        "colab": {
          "base_uri": "https://localhost:8080/",
          "height": 343
        },
        "outputId": "7689b8f8-a029-4266-a264-f7f378e11ec9"
      },
      "source": [
        "from sklearn.metrics import average_precision_score\n",
        "from sklearn.metrics import precision_recall_fscore_support\n",
        "\n",
        "# Let's now check the accuracy with validation dataset (not seen by the classifier yet)\n",
        "new_X = np.concatenate((X, X_test))\n",
        "new_Y = np.concatenate((Y, y_test))\n",
        "\n",
        "best_model.fit(new_X, new_Y)\n",
        "predictions = best_model.predict(X_val)\n",
        "base_score = accuracy_score(predictions, y_val)\n",
        "print('Average accuracy:' + str(base_score))\n",
        "\n",
        "\n",
        "#precision_recall_fscore_support(y_test, predictions, average='macro')\n",
        "\n",
        "pprint(classification_report(y_val, predictions))\n",
        "\n",
        "#print (\"AUC&ROC\",roc_auc_score(y_test, predictions, multi_class='ovr'))"
      ],
      "execution_count": 101,
      "outputs": [
        {
          "output_type": "stream",
          "text": [
            "Average accuracy:0.8\n",
            "('              precision    recall  f1-score   support\\n'\n",
            " '\\n'\n",
            " '           1       1.00      0.67      0.80         3\\n'\n",
            " '           2       1.00      1.00      1.00         1\\n'\n",
            " '           3       0.00      0.00      0.00         2\\n'\n",
            " '           4       0.67      1.00      0.80         2\\n'\n",
            " '           5       1.00      1.00      1.00         1\\n'\n",
            " '           6       1.00      1.00      1.00         1\\n'\n",
            " '           7       0.50      1.00      0.67         1\\n'\n",
            " '           8       0.50      1.00      0.67         1\\n'\n",
            " '           9       1.00      1.00      1.00         3\\n'\n",
            " '\\n'\n",
            " '    accuracy                           0.80        15\\n'\n",
            " '   macro avg       0.74      0.85      0.77        15\\n'\n",
            " 'weighted avg       0.76      0.80      0.76        15\\n')\n"
          ],
          "name": "stdout"
        },
        {
          "output_type": "stream",
          "text": [
            "/usr/local/lib/python3.6/dist-packages/sklearn/metrics/_classification.py:1272: UndefinedMetricWarning: Precision and F-score are ill-defined and being set to 0.0 in labels with no predicted samples. Use `zero_division` parameter to control this behavior.\n",
            "  _warn_prf(average, modifier, msg_start, len(result))\n"
          ],
          "name": "stderr"
        }
      ]
    },
    {
      "cell_type": "code",
      "metadata": {
        "id": "VfrMBcY-Rz8T",
        "colab_type": "code",
        "colab": {
          "base_uri": "https://localhost:8080/",
          "height": 878
        },
        "outputId": "7e6abef6-1117-4fa1-f9be-00766f48f692"
      },
      "source": [
        "feat_importances = pd.Series(best_model.feature_importances_, index=df_news.columns)\n",
        "feat_importances.nlargest(35).plot(kind='barh')\n",
        "print(feat_importances.nlargest(35))\n",
        "plt.show()"
      ],
      "execution_count": 103,
      "outputs": [
        {
          "output_type": "stream",
          "text": [
            "TamanhoMedioParagrafos            0.041366\n",
            "FrequenciaDeParagrafos            0.039795\n",
            "FreqPalavrasDeConteudo            0.032172\n",
            "MedidaK                           0.030311\n",
            "Virgulas                          0.028687\n",
            "HerdanV                           0.028467\n",
            "GuiraudR                          0.028174\n",
            "FreqTermosNaoTageados             0.026088\n",
            "FreqPronomes                      0.025713\n",
            "Ponto                             0.025130\n",
            "TamanhoMedioDasPalavras           0.024142\n",
            "FreqPalavrasErradas               0.024094\n",
            "StdevTamParagrafos                0.024075\n",
            "PronomesPorPreposicao             0.023781\n",
            "Exclamacoes                       0.023748\n",
            "FrequenciaStopWords               0.023270\n",
            "StdevSentencas                    0.021758\n",
            "FreqSubs                          0.021724\n",
            "FreqVerbosPtcp                    0.020394\n",
            "FreqAdv                           0.019843\n",
            "FreqPrep                          0.019575\n",
            "DugastU                           0.019374\n",
            "MaasA                             0.017915\n",
            "FreqArt                           0.017763\n",
            "DiversidadeLexica                 0.017755\n",
            "TamanhoMedioSentencas             0.017580\n",
            "DoisPontos                        0.017386\n",
            "FrequenciaDeHapaxLegomenaLocal    0.016762\n",
            "FreqPalavrasComunsTam3            0.016745\n",
            "HonoresH                          0.016109\n",
            "FreqPalavrasComunsTam4            0.016020\n",
            "FreqOperadoresLogicos             0.015426\n",
            "HerdanC                           0.015326\n",
            "MediaSilabasPorPalavra            0.014402\n",
            "FrequenciaPalavrasDuplicadas      0.014245\n",
            "dtype: float64\n"
          ],
          "name": "stdout"
        },
        {
          "output_type": "display_data",
          "data": {
            "image/png": "[encoded data removed]",
            "text/plain": [
              "<Figure size 432x288 with 1 Axes>"
            ]
          },
          "metadata": {
            "tags": [],
            "needs_background": "light"
          }
        }
      ]
    },
    {
      "cell_type": "code",
      "metadata": {
        "id": "1C2UZePwRo72",
        "colab_type": "code",
        "colab": {
          "base_uri": "https://localhost:8080/",
          "height": 34
        },
        "outputId": "425fa1c6-4227-4dbc-b364-f1fa524f8e37"
      },
      "source": [
        "X, X_test, Y, y_test = train_test_split(df_news.values, encoded_y_news, random_state=7, test_size=0.3)\n",
        "\n",
        "treeclf = ExtraTreesClassifier(n_estimators=400, random_state=11)\n",
        "\n",
        "clf = Pipeline([\n",
        "  ('feature_selection', RFECV(estimator=treeclf, step=1, cv=5, scoring='accuracy')),\n",
        "  ('classification', ExtraTreesClassifier(random_state=11))\n",
        "])\n",
        "clf.fit(X, Y)\n",
        "\n",
        "y_pred = clf.predict(X_test)\n",
        "\n",
        "score = accuracy_score(y_test, y_pred)\n",
        "print(\"Test score: %.2f%%\" % (score * 100))"
      ],
      "execution_count": 193,
      "outputs": [
        {
          "output_type": "stream",
          "text": [
            "Test score: 76.67%\n"
          ],
          "name": "stdout"
        }
      ]
    },
    {
      "cell_type": "code",
      "metadata": {
        "colab_type": "code",
        "outputId": "31616baf-7225-412f-999f-7a52da27a025",
        "id": "kRBMmNAOdNl_",
        "colab": {
          "base_uri": "https://localhost:8080/",
          "height": 51
        }
      },
      "source": [
        "X, X_test, Y, y_test = train_test_split(df_news, encoded_y_news, random_state=7, test_size=0.3)\n",
        "#X, X_test, Y, y_test = train_test_split(df.values, encoded_Y, random_state=7, test_size=0.3)\n",
        "X_test, X_val, y_test, y_val = train_test_split(X_test, y_test, random_state=7, test_size=0.5)\n",
        "\n",
        "test_scores = []\n",
        "val_scores = []\n",
        "for i in range(0,10):\n",
        "\n",
        "  model = ExtraTreesClassifier(n_estimators=400, random_state=11)\n",
        "  model.fit(X, Y)\n",
        "\n",
        "  y_pred = model.predict(X_test)\n",
        "\n",
        "  score = accuracy_score(y_test, y_pred)\n",
        "  #print(\"Test score: %.2f%%\" % (score * 100))\n",
        "  test_scores.append(score * 100)\n",
        "\n",
        "  y_pred = model.predict(X_val)\n",
        "  score = accuracy_score(y_val, y_pred)\n",
        "  #print(\"Validation score: %.2f%%\" % (score * 100))\n",
        "  val_scores.append(score * 100)\n",
        "\n",
        "\n",
        "print(\"Test score: %.2f%%\" % (np.mean(test_scores)))\n",
        "print(\"Validation score: %.2f%%\" % (np.mean(val_scores)))\n"
      ],
      "execution_count": 196,
      "outputs": [
        {
          "output_type": "stream",
          "text": [
            "Test score: 67.33%\n",
            "Validation score: 74.00%\n"
          ],
          "name": "stdout"
        }
      ]
    },
    {
      "cell_type": "code",
      "metadata": {
        "id": "78rziGfir8oe",
        "colab_type": "code",
        "colab": {}
      },
      "source": [
        "# Let's manually imballance the dataset to make it look more like students dataset\n",
        "from random import randrange\n",
        "\n",
        "df_test = pd.read_csv(news_filename)\n",
        "\n",
        "safe_ids = [i for i in set([randrange(5) * i for i in range(1,40)]) if i < 100]\n",
        "df_test = df_test.drop(safe_ids)\n",
        "df_test.shape\n",
        "\n",
        "# Let's remove more samples for the first 3 classes\n",
        "def remove_by_author(author, df):\n",
        "  for idx in df.loc[df['Author'] == author].index:\n",
        "    #lets give 0.5 chance to drop each feature\n",
        "    chance = randrange(2)\n",
        "    if chance == 1:\n",
        "      df = df.drop(idx)\n",
        "  return df\n",
        "\n",
        "df_test = remove_by_author(\"'SP'\", df_test)\n",
        "df_test = remove_by_author(\"'VSAL'\", df_test)\n",
        "df_test = remove_by_author(\"'MC'\", df_test)\n",
        "df_test = remove_by_author(\"'KM'\", df_test)"
      ],
      "execution_count": 0,
      "outputs": []
    },
    {
      "cell_type": "code",
      "metadata": {
        "id": "SmKw5AODwaJP",
        "colab_type": "code",
        "colab": {
          "base_uri": "https://localhost:8080/",
          "height": 281
        },
        "outputId": "1ab35351-325c-400a-9f30-6894397ad9ba"
      },
      "source": [
        "authors = {}\n",
        "for author in set(df_test['Author']):\n",
        "  authors[author] = len(df_test.loc[df_test['Author'] == author])\n",
        "\n",
        "height = authors.values()\n",
        "bars = authors.keys()\n",
        "y_pos = np.arange(len(bars))\n",
        " \n",
        "plt.bar(y_pos, height)\n",
        "plt.xticks(y_pos, bars)\n",
        " \n",
        "plt.title('Imbalanced news dataset')\n",
        "plt.ylabel('Number of samples')\n",
        "plt.show()"
      ],
      "execution_count": 73,
      "outputs": [
        {
          "output_type": "display_data",
          "data": {
            "image/png": "[encoded data removed]",
            "text/plain": [
              "<Figure size 432x288 with 1 Axes>"
            ]
          },
          "metadata": {
            "tags": [],
            "needs_background": "light"
          }
        }
      ]
    },
    {
      "cell_type": "code",
      "metadata": {
        "id": "LuVq48xq4RTK",
        "colab_type": "code",
        "colab": {}
      },
      "source": [
        "#Separate data from labels\n",
        "y_news_imbalanced = df_test.pop('Author')\n",
        "\n",
        "le = LabelEncoder()\n",
        "le.fit(y_news_imbalanced)\n",
        "encoded_Y_news_imbalanced = le.transform(y_news_imbalanced)"
      ],
      "execution_count": 0,
      "outputs": []
    },
    {
      "cell_type": "code",
      "metadata": {
        "id": "RnYp8ZrY4Snu",
        "colab_type": "code",
        "colab": {}
      },
      "source": [
        "# Now let's use our best classifier from balanced dataset do see accuracy after imbalance\n",
        "\n",
        "X, X_test, Y, y_test = train_test_split(df_test.values, encoded_Y_news_imbalanced, random_state=7, test_size=0.3)\n",
        "X_test, X_val, y_test, y_val = train_test_split(X_test, y_test, random_state=7, test_size=0.5)\n",
        "\n",
        "# Hyper-tuning our classifier\n",
        "n_estimators = [int(x) for x in np.linspace(start = 150, stop = 1500, num = 50)]\n",
        "max_features = ['auto', 'sqrt']\n",
        "max_depth = [int(x) for x in np.linspace(10, 110, num = 11)]\n",
        "max_depth.append(None)\n",
        "min_samples_split = [2, 5, 10]\n",
        "min_samples_leaf = [1, 2, 4]\n",
        "bootstrap = [True, False]\n",
        "\n",
        "random_grid = {'n_estimators': n_estimators,\n",
        "               'max_features': max_features,\n",
        "               'max_depth': max_depth,\n",
        "               'min_samples_split': min_samples_split,\n",
        "               'min_samples_leaf': min_samples_leaf,\n",
        "               'bootstrap': bootstrap}\n",
        "                \n",
        "\n",
        "rf_random_imbalanced = RandomizedSearchCV(estimator = ExtraTreesClassifier(random_state=11), \n",
        "                                          param_distributions = random_grid, n_iter = 100, cv = 5, verbose=2, random_state=42, n_jobs = -1)\n",
        "\n",
        "rf_random_imbalanced.fit(X, Y)\n",
        "\n",
        "pprint(rf_random_imbalanced.best_params_)\n",
        "\n",
        "best_imbl_model = rf_random_imbalanced.best_estimator_\n",
        "imbl_predictions = best_imbl_model.predict(X_test)\n",
        "best_score = accuracy_score(imbl_predictions, y_test)\n",
        "print(best_score)"
      ],
      "execution_count": 0,
      "outputs": []
    },
    {
      "cell_type": "code",
      "metadata": {
        "id": "WWex1pbUqdR2",
        "colab_type": "code",
        "colab": {
          "base_uri": "https://localhost:8080/",
          "height": 34
        },
        "outputId": "432d666b-f9d6-47c2-bd64-a8a2e53cacea"
      },
      "source": [
        "# Let's now check the accuracy of our new imbalanced model\n",
        "new_X = np.concatenate((X, X_test))\n",
        "new_Y = np.concatenate((Y, y_test))\n",
        "\n",
        "best_imbl_model.fit(new_X, new_Y)\n",
        "imbl_predictions = best_imbl_model.predict(X_val)\n",
        "best_score = accuracy_score(imbl_predictions, y_val)\n",
        "\n",
        "# It looks like class imbalance was not a problem after all\n",
        "print(best_score)"
      ],
      "execution_count": 94,
      "outputs": [
        {
          "output_type": "stream",
          "text": [
            "0.7777777777777778\n"
          ],
          "name": "stdout"
        }
      ]
    },
    {
      "cell_type": "code",
      "metadata": {
        "id": "5_GMuIacdOUA",
        "colab_type": "code",
        "colab": {}
      },
      "source": [
        "# TensorFlow 2.x is causing neural networks not to work correctly - please run this locally \n",
        "X, X_test, Y, y_test = train_test_split(df_news, encoded_y_news, random_state=11, test_size=0.3)\n",
        "model = Sequential()\n",
        "model.add(Dense(12, input_dim=54, activation='relu'))\n",
        "model.add(Dropout(0.3))\n",
        "model.add(Dense(10, activation='softmax'))\n",
        "model.compile(loss='categorical_crossentropy', optimizer='adam', metrics=['accuracy'])\n",
        "\n",
        "model.fit(X, Y, epochs=250, verbose=1)\n",
        "\n",
        "scores = model.evaluate(X_test, y_test, verbose=1)\n",
        "print(\"%s: %.2f%%\" % (model.metrics_names[1], scores[1] * 100))"
      ],
      "execution_count": 0,
      "outputs": []
    }
  ]
}