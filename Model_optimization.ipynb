{
  "nbformat": 4,
  "nbformat_minor": 0,
  "metadata": {
    "colab": {
      "name": "Model optimization.ipynb",
      "provenance": []
    },
    "kernelspec": {
      "display_name": "Python 3",
      "name": "python3"
    }
  },
  "cells": [
    {
      "cell_type": "code",
      "metadata": {
        "colab": {
          "base_uri": "https://localhost:8080/"
        },
        "id": "2GTOOvejIOqc",
        "outputId": "37d8abb0-2bed-4dfa-89d2-784a1d20e0cd"
      },
      "source": [
        "from __future__ import print_function\n",
        "import time\n",
        "import numpy as np\n",
        "\n",
        "from sklearn.decomposition import PCA\n",
        "from sklearn.manifold import TSNE\n",
        "\n",
        "%matplotlib inline\n",
        "import matplotlib.pyplot as plt\n",
        "from mpl_toolkits.mplot3d import Axes3D\n",
        "import seaborn as sns\n",
        "\n",
        "from sklearn.ensemble import ExtraTreesClassifier, RandomForestClassifier\n",
        "from sklearn.neural_network import MLPClassifier\n",
        "from sklearn.preprocessing import LabelEncoder, StandardScaler, MinMaxScaler, PowerTransformer, Normalizer\n",
        "from sklearn.model_selection import train_test_split\n",
        "from keras.models import Sequential\n",
        "from keras.utils import to_categorical\n",
        "from keras.layers import Dense, Conv2D, Flatten, Dropout, Input\n",
        "import tensorflow as tf\n",
        "from sklearn.metrics import roc_auc_score\n",
        "\n",
        "from scipy import interp\n",
        "\n",
        "from itertools import cycle\n",
        "from sklearn.metrics import roc_curve, auc\n",
        "from sklearn.preprocessing import label_binarize, LabelBinarizer\n",
        "\n",
        "import nltk\n",
        "from nltk.cluster import KMeansClusterer\n",
        "from sklearn import cluster, metrics\n",
        "nltk.download('punkt')\n",
        "nltk.download('stopwords')\n",
        "\n",
        "from gensim.models import Word2Vec\n",
        "from gensim.models.doc2vec import Doc2Vec, TaggedDocument\n",
        "\n",
        "from keras.preprocessing.text import Tokenizer\n",
        "from keras.preprocessing.sequence import pad_sequences\n",
        "\n",
        "from sklearn.metrics import roc_auc_score\n",
        "from sklearn.metrics import precision_recall_fscore_support\n",
        "\n",
        "from sklearn.metrics import roc_curve, auc, accuracy_score, confusion_matrix\n",
        "from sklearn.multiclass import OneVsRestClassifier\n",
        "from sklearn import metrics\n",
        "from sklearn.feature_selection import SelectFromModel\n",
        "from sklearn.linear_model import LogisticRegression\n",
        "from sklearn.naive_bayes import GaussianNB\n",
        "\n",
        "from sklearn.ensemble import RandomForestClassifier, ExtraTreesClassifier\n",
        "from sklearn.neural_network import MLPClassifier\n",
        "import math\n",
        "from matplotlib.colors import ListedColormap\n",
        "from matplotlib.cm import hsv\n",
        "\n",
        "from matplotlib import rc\n",
        "from matplotlib import font_manager as fm, rcParams \n",
        "import matplotlib.pyplot as plt \n",
        "plt.rc('xtick',labelsize=15)\n",
        "plt.rc('ytick',labelsize=15)\n",
        "plt.rcParams['figure.dpi'] = 120\n",
        "plt.rcParams.update({\n",
        "    \"text.usetex\": True,\n",
        "    \"font.family\": \"serif\",\n",
        "    \"font.serif\": [\"Palatino\"],\n",
        "})\n",
        "\n",
        "#LatX fonts\n",
        "rc('text', usetex=True)\n",
        "plt.rcParams['text.latex.preamble'] = [r'\\usepackage{amsmath}']\n",
        "!apt install texlive-fonts-recommended texlive-fonts-extra cm-super dvipng"
      ],
      "execution_count": 1,
      "outputs": [
        {
          "output_type": "stream",
          "text": [
            "[nltk_data] Downloading package punkt to /root/nltk_data...\n",
            "[nltk_data]   Unzipping tokenizers/punkt.zip.\n",
            "[nltk_data] Downloading package stopwords to /root/nltk_data...\n",
            "[nltk_data]   Unzipping corpora/stopwords.zip.\n",
            "Reading package lists... Done\n",
            "Building dependency tree       \n",
            "Reading state information... Done\n",
            "The following additional packages will be installed:\n",
            "  cm-super-minimal fonts-adf-accanthis fonts-adf-berenis fonts-adf-gillius\n",
            "  fonts-adf-universalis fonts-cabin fonts-comfortaa fonts-croscore\n",
            "  fonts-crosextra-caladea fonts-crosextra-carlito fonts-dejavu-core\n",
            "  fonts-dejavu-extra fonts-droid-fallback fonts-ebgaramond\n",
            "  fonts-ebgaramond-extra fonts-font-awesome fonts-freefont-otf\n",
            "  fonts-freefont-ttf fonts-gfs-artemisia fonts-gfs-complutum fonts-gfs-didot\n",
            "  fonts-gfs-neohellenic fonts-gfs-olga fonts-gfs-solomos fonts-go\n",
            "  fonts-junicode fonts-lato fonts-linuxlibertine fonts-lmodern fonts-lobster\n",
            "  fonts-lobstertwo fonts-noto-hinted fonts-noto-mono fonts-oflb-asana-math\n",
            "  fonts-open-sans fonts-roboto-hinted fonts-sil-gentium\n",
            "  fonts-sil-gentium-basic fonts-sil-gentiumplus fonts-sil-gentiumplus-compact\n",
            "  fonts-stix fonts-texgyre ghostscript gsfonts javascript-common\n",
            "  libcupsfilters1 libcupsimage2 libgs9 libgs9-common libijs-0.35 libjbig2dec0\n",
            "  libjs-jquery libkpathsea6 libpotrace0 libptexenc1 libruby2.5 libsynctex1\n",
            "  libtexlua52 libtexluajit2 libzzip-0-13 lmodern pfb2t1c2pfb poppler-data\n",
            "  preview-latex-style rake ruby ruby-did-you-mean ruby-minitest\n",
            "  ruby-net-telnet ruby-power-assert ruby-test-unit ruby2.5\n",
            "  rubygems-integration t1utils tex-common tex-gyre texlive-base\n",
            "  texlive-binaries texlive-fonts-extra-links texlive-latex-base\n",
            "  texlive-latex-extra texlive-latex-recommended texlive-pictures\n",
            "  texlive-plain-generic tipa\n",
            "Suggested packages:\n",
            "  fonts-noto fontforge ghostscript-x apache2 | lighttpd | httpd poppler-utils\n",
            "  fonts-japanese-mincho | fonts-ipafont-mincho fonts-japanese-gothic\n",
            "  | fonts-ipafont-gothic fonts-arphic-ukai fonts-arphic-uming fonts-nanum ri\n",
            "  ruby-dev bundler debhelper perl-tk xpdf-reader | pdf-viewer\n",
            "  texlive-fonts-extra-doc texlive-fonts-recommended-doc texlive-latex-base-doc\n",
            "  python-pygments icc-profiles libfile-which-perl\n",
            "  libspreadsheet-parseexcel-perl texlive-latex-extra-doc\n",
            "  texlive-latex-recommended-doc texlive-pstricks dot2tex prerex ruby-tcltk\n",
            "  | libtcltk-ruby texlive-pictures-doc vprerex\n",
            "The following NEW packages will be installed:\n",
            "  cm-super cm-super-minimal dvipng fonts-adf-accanthis fonts-adf-berenis\n",
            "  fonts-adf-gillius fonts-adf-universalis fonts-cabin fonts-comfortaa\n",
            "  fonts-croscore fonts-crosextra-caladea fonts-crosextra-carlito\n",
            "  fonts-dejavu-core fonts-dejavu-extra fonts-droid-fallback fonts-ebgaramond\n",
            "  fonts-ebgaramond-extra fonts-font-awesome fonts-freefont-otf\n",
            "  fonts-freefont-ttf fonts-gfs-artemisia fonts-gfs-complutum fonts-gfs-didot\n",
            "  fonts-gfs-neohellenic fonts-gfs-olga fonts-gfs-solomos fonts-go\n",
            "  fonts-junicode fonts-lato fonts-linuxlibertine fonts-lmodern fonts-lobster\n",
            "  fonts-lobstertwo fonts-noto-hinted fonts-noto-mono fonts-oflb-asana-math\n",
            "  fonts-open-sans fonts-roboto-hinted fonts-sil-gentium\n",
            "  fonts-sil-gentium-basic fonts-sil-gentiumplus fonts-sil-gentiumplus-compact\n",
            "  fonts-stix fonts-texgyre ghostscript gsfonts javascript-common\n",
            "  libcupsfilters1 libcupsimage2 libgs9 libgs9-common libijs-0.35 libjbig2dec0\n",
            "  libjs-jquery libkpathsea6 libpotrace0 libptexenc1 libruby2.5 libsynctex1\n",
            "  libtexlua52 libtexluajit2 libzzip-0-13 lmodern pfb2t1c2pfb poppler-data\n",
            "  preview-latex-style rake ruby ruby-did-you-mean ruby-minitest\n",
            "  ruby-net-telnet ruby-power-assert ruby-test-unit ruby2.5\n",
            "  rubygems-integration t1utils tex-common tex-gyre texlive-base\n",
            "  texlive-binaries texlive-fonts-extra texlive-fonts-extra-links\n",
            "  texlive-fonts-recommended texlive-latex-base texlive-latex-extra\n",
            "  texlive-latex-recommended texlive-pictures texlive-plain-generic tipa\n",
            "0 upgraded, 89 newly installed, 0 to remove and 16 not upgraded.\n",
            "Need to get 554 MB of archives.\n",
            "After this operation, 1,550 MB of additional disk space will be used.\n",
            "Get:1 http://archive.ubuntu.com/ubuntu bionic/main amd64 fonts-droid-fallback all 1:6.0.1r16-1.1 [1,805 kB]\n",
            "Get:2 http://archive.ubuntu.com/ubuntu bionic/main amd64 fonts-lato all 2.0-2 [2,698 kB]\n",
            "Get:3 http://archive.ubuntu.com/ubuntu bionic/main amd64 poppler-data all 0.4.8-2 [1,479 kB]\n",
            "Get:4 http://archive.ubuntu.com/ubuntu bionic/main amd64 tex-common all 6.09 [33.0 kB]\n",
            "Get:5 http://archive.ubuntu.com/ubuntu bionic-updates/main amd64 libkpathsea6 amd64 2017.20170613.44572-8ubuntu0.1 [54.9 kB]\n",
            "Get:6 http://archive.ubuntu.com/ubuntu bionic-updates/main amd64 libptexenc1 amd64 2017.20170613.44572-8ubuntu0.1 [34.5 kB]\n",
            "Get:7 http://archive.ubuntu.com/ubuntu bionic-updates/main amd64 libsynctex1 amd64 2017.20170613.44572-8ubuntu0.1 [41.4 kB]\n",
            "Get:8 http://archive.ubuntu.com/ubuntu bionic-updates/main amd64 libtexlua52 amd64 2017.20170613.44572-8ubuntu0.1 [91.2 kB]\n",
            "Get:9 http://archive.ubuntu.com/ubuntu bionic-updates/main amd64 libtexluajit2 amd64 2017.20170613.44572-8ubuntu0.1 [230 kB]\n",
            "Get:10 http://archive.ubuntu.com/ubuntu bionic/main amd64 t1utils amd64 1.41-2 [56.0 kB]\n",
            "Get:11 http://archive.ubuntu.com/ubuntu bionic-updates/main amd64 libcupsimage2 amd64 2.2.7-1ubuntu2.8 [18.6 kB]\n",
            "Get:12 http://archive.ubuntu.com/ubuntu bionic/main amd64 libijs-0.35 amd64 0.35-13 [15.5 kB]\n",
            "Get:13 http://archive.ubuntu.com/ubuntu bionic/main amd64 libjbig2dec0 amd64 0.13-6 [55.9 kB]\n",
            "Ign:14 http://archive.ubuntu.com/ubuntu bionic-updates/main amd64 libgs9-common all 9.26~dfsg+0-0ubuntu0.18.04.13\n",
            "Ign:15 http://archive.ubuntu.com/ubuntu bionic-updates/main amd64 libgs9 amd64 9.26~dfsg+0-0ubuntu0.18.04.13\n",
            "Get:16 http://archive.ubuntu.com/ubuntu bionic/main amd64 libpotrace0 amd64 1.14-2 [17.4 kB]\n",
            "Get:17 http://archive.ubuntu.com/ubuntu bionic-updates/main amd64 libzzip-0-13 amd64 0.13.62-3.1ubuntu0.18.04.1 [26.0 kB]\n",
            "Get:18 http://archive.ubuntu.com/ubuntu bionic-updates/main amd64 texlive-binaries amd64 2017.20170613.44572-8ubuntu0.1 [8,179 kB]\n",
            "Err:14 http://security.ubuntu.com/ubuntu bionic-updates/main amd64 libgs9-common all 9.26~dfsg+0-0ubuntu0.18.04.13\n",
            "  404  Not Found [IP: 91.189.88.152 80]\n",
            "Err:15 http://security.ubuntu.com/ubuntu bionic-updates/main amd64 libgs9 amd64 9.26~dfsg+0-0ubuntu0.18.04.13\n",
            "  404  Not Found [IP: 91.189.88.152 80]\n",
            "Get:19 http://archive.ubuntu.com/ubuntu bionic/main amd64 texlive-base all 2017.20180305-1 [18.7 MB]\n",
            "Get:20 http://archive.ubuntu.com/ubuntu bionic/main amd64 fonts-lmodern all 2.004.5-3 [4,551 kB]\n",
            "Get:21 http://archive.ubuntu.com/ubuntu bionic/main amd64 texlive-latex-base all 2017.20180305-1 [951 kB]\n",
            "Get:22 http://archive.ubuntu.com/ubuntu bionic/main amd64 texlive-latex-recommended all 2017.20180305-1 [14.9 MB]\n",
            "Get:23 http://archive.ubuntu.com/ubuntu bionic/universe amd64 cm-super-minimal all 0.3.4-11 [5,810 kB]\n",
            "Get:24 http://archive.ubuntu.com/ubuntu bionic/universe amd64 pfb2t1c2pfb amd64 0.3-11 [9,342 B]\n",
            "Get:25 http://archive.ubuntu.com/ubuntu bionic/universe amd64 cm-super all 0.3.4-11 [18.7 MB]\n",
            "Ign:26 http://archive.ubuntu.com/ubuntu bionic-updates/main amd64 ghostscript amd64 9.26~dfsg+0-0ubuntu0.18.04.13\n",
            "Get:27 http://archive.ubuntu.com/ubuntu bionic/universe amd64 dvipng amd64 1.15-1 [78.2 kB]\n",
            "Get:28 http://archive.ubuntu.com/ubuntu bionic/universe amd64 fonts-adf-accanthis all 0.20110505-1 [202 kB]\n",
            "Get:29 http://archive.ubuntu.com/ubuntu bionic/universe amd64 fonts-adf-berenis all 0.20110505-1 [281 kB]\n",
            "Get:30 http://archive.ubuntu.com/ubuntu bionic/universe amd64 fonts-adf-gillius all 0.20110505-1 [190 kB]\n",
            "Get:31 http://archive.ubuntu.com/ubuntu bionic/universe amd64 fonts-adf-universalis all 0.20110505-1 [111 kB]\n",
            "Get:32 http://archive.ubuntu.com/ubuntu bionic/universe amd64 fonts-cabin all 1.5-2 [140 kB]\n",
            "Get:33 http://archive.ubuntu.com/ubuntu bionic/universe amd64 fonts-comfortaa all 3.001-2 [129 kB]\n",
            "Get:34 http://archive.ubuntu.com/ubuntu bionic/universe amd64 fonts-croscore all 20171026-2 [2,135 kB]\n",
            "Err:26 http://security.ubuntu.com/ubuntu bionic-updates/main amd64 ghostscript amd64 9.26~dfsg+0-0ubuntu0.18.04.13\n",
            "  404  Not Found [IP: 91.189.88.152 80]\n",
            "Get:35 http://archive.ubuntu.com/ubuntu bionic/universe amd64 fonts-crosextra-caladea all 20130214-2 [82.4 kB]\n",
            "Get:36 http://archive.ubuntu.com/ubuntu bionic/universe amd64 fonts-crosextra-carlito all 20130920-1 [742 kB]\n",
            "Get:37 http://archive.ubuntu.com/ubuntu bionic/main amd64 fonts-dejavu-core all 2.37-1 [1,041 kB]\n",
            "Get:38 http://archive.ubuntu.com/ubuntu bionic/main amd64 fonts-dejavu-extra all 2.37-1 [1,953 kB]\n",
            "Get:39 http://archive.ubuntu.com/ubuntu bionic/universe amd64 fonts-ebgaramond all 0.016-1 [474 kB]\n",
            "Get:40 http://archive.ubuntu.com/ubuntu bionic/universe amd64 fonts-ebgaramond-extra all 0.016-1 [2,157 kB]\n",
            "Get:41 http://archive.ubuntu.com/ubuntu bionic/main amd64 fonts-font-awesome all 4.7.0~dfsg-3 [513 kB]\n",
            "Get:42 http://archive.ubuntu.com/ubuntu bionic/universe amd64 fonts-freefont-otf all 20120503-7 [3,055 kB]\n",
            "Get:43 http://archive.ubuntu.com/ubuntu bionic/main amd64 fonts-freefont-ttf all 20120503-7 [4,202 kB]\n",
            "Get:44 http://archive.ubuntu.com/ubuntu bionic/universe amd64 fonts-gfs-artemisia all 1.1-5 [260 kB]\n",
            "Get:45 http://archive.ubuntu.com/ubuntu bionic/universe amd64 fonts-gfs-complutum all 1.1-6 [41.6 kB]\n",
            "Get:46 http://archive.ubuntu.com/ubuntu bionic/universe amd64 fonts-gfs-didot all 1.1-6 [278 kB]\n",
            "Get:47 http://archive.ubuntu.com/ubuntu bionic/universe amd64 fonts-gfs-neohellenic all 1.1-6 [215 kB]\n",
            "Get:48 http://archive.ubuntu.com/ubuntu bionic/universe amd64 fonts-gfs-olga all 1.1-5 [33.4 kB]\n",
            "Get:49 http://archive.ubuntu.com/ubuntu bionic/universe amd64 fonts-gfs-solomos all 1.1-5 [40.7 kB]\n",
            "Get:50 http://archive.ubuntu.com/ubuntu bionic/universe amd64 fonts-go all 0~20161116-1 [348 kB]\n",
            "Get:51 http://archive.ubuntu.com/ubuntu bionic/universe amd64 fonts-junicode all 1.001-2 [684 kB]\n",
            "Get:52 http://archive.ubuntu.com/ubuntu bionic/universe amd64 fonts-linuxlibertine all 5.3.0-4 [1,627 kB]\n",
            "Get:53 http://archive.ubuntu.com/ubuntu bionic/universe amd64 fonts-lobster all 2.0-2 [38.7 kB]\n",
            "Get:54 http://archive.ubuntu.com/ubuntu bionic/universe amd64 fonts-lobstertwo all 2.0-2 [92.7 kB]\n",
            "Get:55 http://archive.ubuntu.com/ubuntu bionic/universe amd64 fonts-noto-hinted all 20171026-2 [6,653 kB]\n",
            "Get:56 http://archive.ubuntu.com/ubuntu bionic/main amd64 fonts-noto-mono all 20171026-2 [75.5 kB]\n",
            "Get:57 http://archive.ubuntu.com/ubuntu bionic/universe amd64 fonts-oflb-asana-math all 000.907-6 [246 kB]\n",
            "Get:58 http://archive.ubuntu.com/ubuntu bionic/universe amd64 fonts-open-sans all 1.11-1 [575 kB]\n",
            "Get:59 http://archive.ubuntu.com/ubuntu bionic/universe amd64 fonts-roboto-hinted all 2:0~20160106-2 [2,918 kB]\n",
            "Get:60 http://archive.ubuntu.com/ubuntu bionic/universe amd64 fonts-sil-gentium all 20081126:1.03-2 [245 kB]\n",
            "Get:61 http://archive.ubuntu.com/ubuntu bionic/universe amd64 fonts-sil-gentium-basic all 1.102-1 [384 kB]\n",
            "Get:62 http://archive.ubuntu.com/ubuntu bionic/universe amd64 fonts-sil-gentiumplus all 5.000-2 [2,807 kB]\n",
            "Get:63 http://archive.ubuntu.com/ubuntu bionic/universe amd64 fonts-sil-gentiumplus-compact all 5.000-2 [1,514 kB]\n",
            "Get:64 http://archive.ubuntu.com/ubuntu bionic/universe amd64 fonts-texgyre all 20160520-1 [8,761 kB]\n",
            "Get:65 http://archive.ubuntu.com/ubuntu bionic/main amd64 gsfonts all 1:8.11+urwcyr1.0.7~pre44-4.4 [3,120 kB]\n",
            "Get:66 http://archive.ubuntu.com/ubuntu bionic/main amd64 javascript-common all 11 [6,066 B]\n",
            "Get:67 http://archive.ubuntu.com/ubuntu bionic-updates/main amd64 libcupsfilters1 amd64 1.20.2-0ubuntu3.1 [108 kB]\n",
            "Get:68 http://archive.ubuntu.com/ubuntu bionic/main amd64 libjs-jquery all 3.2.1-1 [152 kB]\n",
            "Get:69 http://archive.ubuntu.com/ubuntu bionic/main amd64 rubygems-integration all 1.11 [4,994 B]\n",
            "Get:70 http://archive.ubuntu.com/ubuntu bionic-updates/main amd64 ruby2.5 amd64 2.5.1-1ubuntu1.7 [48.6 kB]\n",
            "Get:71 http://archive.ubuntu.com/ubuntu bionic/main amd64 ruby amd64 1:2.5.1 [5,712 B]\n",
            "Get:72 http://archive.ubuntu.com/ubuntu bionic-updates/main amd64 rake all 12.3.1-1ubuntu0.1 [44.9 kB]\n",
            "Get:73 http://archive.ubuntu.com/ubuntu bionic/main amd64 ruby-did-you-mean all 1.2.0-2 [9,700 B]\n",
            "Get:74 http://archive.ubuntu.com/ubuntu bionic/main amd64 ruby-minitest all 5.10.3-1 [38.6 kB]\n",
            "Get:75 http://archive.ubuntu.com/ubuntu bionic/main amd64 ruby-net-telnet all 0.1.1-2 [12.6 kB]\n",
            "Get:76 http://archive.ubuntu.com/ubuntu bionic/main amd64 ruby-power-assert all 0.3.0-1 [7,952 B]\n",
            "Get:77 http://archive.ubuntu.com/ubuntu bionic/main amd64 ruby-test-unit all 3.2.5-1 [61.1 kB]\n",
            "Get:78 http://archive.ubuntu.com/ubuntu bionic-updates/main amd64 libruby2.5 amd64 2.5.1-1ubuntu1.7 [3,068 kB]\n",
            "Get:79 http://archive.ubuntu.com/ubuntu bionic/main amd64 lmodern all 2.004.5-3 [9,631 kB]\n",
            "Get:80 http://archive.ubuntu.com/ubuntu bionic/main amd64 preview-latex-style all 11.91-1ubuntu1 [185 kB]\n",
            "Get:81 http://archive.ubuntu.com/ubuntu bionic/universe amd64 tex-gyre all 20160520-1 [4,998 kB]\n",
            "Get:82 http://archive.ubuntu.com/ubuntu bionic/universe amd64 texlive-fonts-extra all 2017.20180305-2 [354 MB]\n",
            "Get:83 http://archive.ubuntu.com/ubuntu bionic/universe amd64 fonts-stix all 1.1.1-4 [591 kB]\n",
            "Get:84 http://archive.ubuntu.com/ubuntu bionic/universe amd64 texlive-fonts-extra-links all 2017.20180305-2 [20.6 kB]\n",
            "Get:85 http://archive.ubuntu.com/ubuntu bionic/universe amd64 texlive-fonts-recommended all 2017.20180305-1 [5,262 kB]\n",
            "Get:86 http://archive.ubuntu.com/ubuntu bionic/universe amd64 texlive-pictures all 2017.20180305-1 [4,026 kB]\n",
            "Get:87 http://archive.ubuntu.com/ubuntu bionic/universe amd64 texlive-latex-extra all 2017.20180305-2 [10.6 MB]\n",
            "Get:88 http://archive.ubuntu.com/ubuntu bionic/universe amd64 texlive-plain-generic all 2017.20180305-2 [23.6 MB]\n",
            "Get:89 http://archive.ubuntu.com/ubuntu bionic/universe amd64 tipa all 2:1.3-20 [2,978 kB]\n",
            "Fetched 546 MB in 28s (19.4 MB/s)\n",
            "E: Failed to fetch http://security.ubuntu.com/ubuntu/pool/main/g/ghostscript/libgs9-common_9.26~dfsg+0-0ubuntu0.18.04.13_all.deb  404  Not Found [IP: 91.189.88.152 80]\n",
            "E: Failed to fetch http://security.ubuntu.com/ubuntu/pool/main/g/ghostscript/libgs9_9.26~dfsg+0-0ubuntu0.18.04.13_amd64.deb  404  Not Found [IP: 91.189.88.152 80]\n",
            "E: Failed to fetch http://security.ubuntu.com/ubuntu/pool/main/g/ghostscript/ghostscript_9.26~dfsg+0-0ubuntu0.18.04.13_amd64.deb  404  Not Found [IP: 91.189.88.152 80]\n",
            "E: Unable to fetch some archives, maybe run apt-get update or try with --fix-missing?\n"
          ],
          "name": "stdout"
        }
      ]
    },
    {
      "cell_type": "code",
      "metadata": {
        "id": "FaJ0M2XRIVpe",
        "colab": {
          "base_uri": "https://localhost:8080/"
        },
        "outputId": "46db3853-1676-4ea9-ad1f-4904a95f7aea"
      },
      "source": [
        "from pydrive.auth import GoogleAuth\n",
        "from pydrive.drive import GoogleDrive\n",
        "from google.colab import auth\n",
        "!pip install -U -q PyDrive\n",
        "from oauth2client.client import GoogleCredentials\n",
        "import warnings\n",
        "import pandas as pd\n",
        "from sklearn.feature_extraction.text import CountVectorizer, TfidfTransformer,TfidfVectorizer\n",
        "from sklearn.decomposition import TruncatedSVD\n",
        "!pip install dataframe_image\n",
        "import dataframe_image as dfi\n",
        "\n",
        "import numpy as np\n",
        "from scipy import interp\n",
        "import matplotlib.pyplot as plt\n",
        "from itertools import cycle\n",
        "from sklearn.metrics import roc_curve, auc\n",
        "from sklearn.preprocessing import label_binarize, LabelBinarizer\n",
        "warnings.filterwarnings('ignore')\n",
        "\n",
        "# Authenticate and create the PyDrive client.\n",
        "auth.authenticate_user()\n",
        "gauth = GoogleAuth()\n",
        "gauth.credentials = GoogleCredentials.get_application_default()\n",
        "drive = GoogleDrive(gauth)\n",
        "\n",
        "def build_df(file_id, file_name, index_col=None):\n",
        "  downloaded = drive.CreateFile({'id':file_id})\n",
        "  downloaded.GetContentFile(file_name)\n",
        "  if index_col is not None :\n",
        "    return pd.read_csv(file_name, index_col=index_col)\n",
        "  return pd.read_csv(file_name)\n",
        "\n",
        "df = build_df('1LEbg13-KBZzHmIWAv9SnthGUzjvcbJuA','stylo-data.csv')\n",
        "news_df = build_df('15zZXsks6cI0FY4vpL555lBQSBr1QyjT4', 'news-data.csv' )\n",
        "varela_df = build_df('1JoC7GlAmdQO9WPZeJZKMbv4djyQzeezC',  'varela-stylo-data.csv')\n",
        "varela_df.pop('Subject')"
      ],
      "execution_count": 2,
      "outputs": [
        {
          "output_type": "stream",
          "text": [
            "Collecting dataframe_image\n",
            "  Downloading https://files.pythonhosted.org/packages/75/ce/8b9f506ecf5b177471e0f04117565b6eaf83f13749deca3d3b35f52f9fd6/dataframe_image-0.1.1-py3-none-any.whl\n",
            "Requirement already satisfied: nbconvert>=5 in /usr/local/lib/python3.6/dist-packages (from dataframe_image) (5.6.1)\n",
            "Requirement already satisfied: matplotlib>=3.1 in /usr/local/lib/python3.6/dist-packages (from dataframe_image) (3.2.2)\n",
            "Requirement already satisfied: beautifulsoup4 in /usr/local/lib/python3.6/dist-packages (from dataframe_image) (4.6.3)\n",
            "Requirement already satisfied: pandas>=0.24 in /usr/local/lib/python3.6/dist-packages (from dataframe_image) (1.1.5)\n",
            "Collecting aiohttp\n",
            "\u001b[?25l  Downloading https://files.pythonhosted.org/packages/ad/e6/d4b6235d776c9b33f853e603efede5aac5a34f71ca9d3877adb30492eb4e/aiohttp-3.7.3-cp36-cp36m-manylinux2014_x86_64.whl (1.3MB)\n",
            "\u001b[K     |████████████████████████████████| 1.3MB 10.7MB/s \n",
            "\u001b[?25hRequirement already satisfied: requests in /usr/local/lib/python3.6/dist-packages (from dataframe_image) (2.23.0)\n",
            "Requirement already satisfied: nbformat>=4.4 in /usr/local/lib/python3.6/dist-packages (from nbconvert>=5->dataframe_image) (5.0.8)\n",
            "Requirement already satisfied: jinja2>=2.4 in /usr/local/lib/python3.6/dist-packages (from nbconvert>=5->dataframe_image) (2.11.2)\n",
            "Requirement already satisfied: entrypoints>=0.2.2 in /usr/local/lib/python3.6/dist-packages (from nbconvert>=5->dataframe_image) (0.3)\n",
            "Requirement already satisfied: testpath in /usr/local/lib/python3.6/dist-packages (from nbconvert>=5->dataframe_image) (0.4.4)\n",
            "Requirement already satisfied: mistune<2,>=0.8.1 in /usr/local/lib/python3.6/dist-packages (from nbconvert>=5->dataframe_image) (0.8.4)\n",
            "Requirement already satisfied: pandocfilters>=1.4.1 in /usr/local/lib/python3.6/dist-packages (from nbconvert>=5->dataframe_image) (1.4.3)\n",
            "Requirement already satisfied: traitlets>=4.2 in /usr/local/lib/python3.6/dist-packages (from nbconvert>=5->dataframe_image) (4.3.3)\n",
            "Requirement already satisfied: defusedxml in /usr/local/lib/python3.6/dist-packages (from nbconvert>=5->dataframe_image) (0.6.0)\n",
            "Requirement already satisfied: bleach in /usr/local/lib/python3.6/dist-packages (from nbconvert>=5->dataframe_image) (3.2.1)\n",
            "Requirement already satisfied: pygments in /usr/local/lib/python3.6/dist-packages (from nbconvert>=5->dataframe_image) (2.6.1)\n",
            "Requirement already satisfied: jupyter-core in /usr/local/lib/python3.6/dist-packages (from nbconvert>=5->dataframe_image) (4.7.0)\n",
            "Requirement already satisfied: cycler>=0.10 in /usr/local/lib/python3.6/dist-packages (from matplotlib>=3.1->dataframe_image) (0.10.0)\n",
            "Requirement already satisfied: numpy>=1.11 in /usr/local/lib/python3.6/dist-packages (from matplotlib>=3.1->dataframe_image) (1.19.5)\n",
            "Requirement already satisfied: python-dateutil>=2.1 in /usr/local/lib/python3.6/dist-packages (from matplotlib>=3.1->dataframe_image) (2.8.1)\n",
            "Requirement already satisfied: pyparsing!=2.0.4,!=2.1.2,!=2.1.6,>=2.0.1 in /usr/local/lib/python3.6/dist-packages (from matplotlib>=3.1->dataframe_image) (2.4.7)\n",
            "Requirement already satisfied: kiwisolver>=1.0.1 in /usr/local/lib/python3.6/dist-packages (from matplotlib>=3.1->dataframe_image) (1.3.1)\n",
            "Requirement already satisfied: pytz>=2017.2 in /usr/local/lib/python3.6/dist-packages (from pandas>=0.24->dataframe_image) (2018.9)\n",
            "Collecting yarl<2.0,>=1.0\n",
            "\u001b[?25l  Downloading https://files.pythonhosted.org/packages/da/08/52b26b44bce7b818b410aee37c5e424c9ea420c557bca97dc2adac29b151/yarl-1.6.3-cp36-cp36m-manylinux2014_x86_64.whl (293kB)\n",
            "\u001b[K     |████████████████████████████████| 296kB 39.8MB/s \n",
            "\u001b[?25hCollecting async-timeout<4.0,>=3.0\n",
            "  Downloading https://files.pythonhosted.org/packages/e1/1e/5a4441be21b0726c4464f3f23c8b19628372f606755a9d2e46c187e65ec4/async_timeout-3.0.1-py3-none-any.whl\n",
            "Collecting idna-ssl>=1.0; python_version < \"3.7\"\n",
            "  Downloading https://files.pythonhosted.org/packages/46/03/07c4894aae38b0de52b52586b24bf189bb83e4ddabfe2e2c8f2419eec6f4/idna-ssl-1.1.0.tar.gz\n",
            "Requirement already satisfied: chardet<4.0,>=2.0 in /usr/local/lib/python3.6/dist-packages (from aiohttp->dataframe_image) (3.0.4)\n",
            "Requirement already satisfied: attrs>=17.3.0 in /usr/local/lib/python3.6/dist-packages (from aiohttp->dataframe_image) (20.3.0)\n",
            "Requirement already satisfied: typing-extensions>=3.6.5 in /usr/local/lib/python3.6/dist-packages (from aiohttp->dataframe_image) (3.7.4.3)\n",
            "Collecting multidict<7.0,>=4.5\n",
            "\u001b[?25l  Downloading https://files.pythonhosted.org/packages/a1/35/b22524d6b9cacfb4c5eff413a069bbc17c6ea628e54da5c6c989998ced5f/multidict-5.1.0-cp36-cp36m-manylinux2014_x86_64.whl (141kB)\n",
            "\u001b[K     |████████████████████████████████| 143kB 44.4MB/s \n",
            "\u001b[?25hRequirement already satisfied: idna<3,>=2.5 in /usr/local/lib/python3.6/dist-packages (from requests->dataframe_image) (2.10)\n",
            "Requirement already satisfied: certifi>=2017.4.17 in /usr/local/lib/python3.6/dist-packages (from requests->dataframe_image) (2020.12.5)\n",
            "Requirement already satisfied: urllib3!=1.25.0,!=1.25.1,<1.26,>=1.21.1 in /usr/local/lib/python3.6/dist-packages (from requests->dataframe_image) (1.24.3)\n",
            "Requirement already satisfied: ipython-genutils in /usr/local/lib/python3.6/dist-packages (from nbformat>=4.4->nbconvert>=5->dataframe_image) (0.2.0)\n",
            "Requirement already satisfied: jsonschema!=2.5.0,>=2.4 in /usr/local/lib/python3.6/dist-packages (from nbformat>=4.4->nbconvert>=5->dataframe_image) (2.6.0)\n",
            "Requirement already satisfied: MarkupSafe>=0.23 in /usr/local/lib/python3.6/dist-packages (from jinja2>=2.4->nbconvert>=5->dataframe_image) (1.1.1)\n",
            "Requirement already satisfied: decorator in /usr/local/lib/python3.6/dist-packages (from traitlets>=4.2->nbconvert>=5->dataframe_image) (4.4.2)\n",
            "Requirement already satisfied: six in /usr/local/lib/python3.6/dist-packages (from traitlets>=4.2->nbconvert>=5->dataframe_image) (1.15.0)\n",
            "Requirement already satisfied: webencodings in /usr/local/lib/python3.6/dist-packages (from bleach->nbconvert>=5->dataframe_image) (0.5.1)\n",
            "Requirement already satisfied: packaging in /usr/local/lib/python3.6/dist-packages (from bleach->nbconvert>=5->dataframe_image) (20.8)\n",
            "Building wheels for collected packages: idna-ssl\n",
            "  Building wheel for idna-ssl (setup.py) ... \u001b[?25l\u001b[?25hdone\n",
            "  Created wheel for idna-ssl: filename=idna_ssl-1.1.0-cp36-none-any.whl size=3163 sha256=3990c42dcbb2d076e4e1bae08c35c6deefb03a27267d4ff8e04074a9140483d0\n",
            "  Stored in directory: /root/.cache/pip/wheels/d3/00/b3/32d613e19e08a739751dd6bf998cfed277728f8b2127ad4eb7\n",
            "Successfully built idna-ssl\n",
            "Installing collected packages: multidict, yarl, async-timeout, idna-ssl, aiohttp, dataframe-image\n",
            "Successfully installed aiohttp-3.7.3 async-timeout-3.0.1 dataframe-image-0.1.1 idna-ssl-1.1.0 multidict-5.1.0 yarl-1.6.3\n"
          ],
          "name": "stdout"
        },
        {
          "output_type": "execute_result",
          "data": {
            "text/plain": [
              "0       ASSUNTOS VARIADOS\n",
              "1       ASSUNTOS VARIADOS\n",
              "2       ASSUNTOS VARIADOS\n",
              "3       ASSUNTOS VARIADOS\n",
              "4       ASSUNTOS VARIADOS\n",
              "              ...        \n",
              "2995              TURISMO\n",
              "2996              TURISMO\n",
              "2997              TURISMO\n",
              "2998              TURISMO\n",
              "2999              TURISMO\n",
              "Name: Subject, Length: 3000, dtype: object"
            ]
          },
          "metadata": {
            "tags": []
          },
          "execution_count": 2
        }
      ]
    },
    {
      "cell_type": "code",
      "metadata": {
        "id": "rnVrexiPIR7f"
      },
      "source": [
        "#Some clean-up on line breaks\n",
        "def clean_df(df):\n",
        "  df = df.replace(to_replace ='\\r', value = ' ', regex = True) \n",
        "  df = df.replace(to_replace ='\\n ', value = '\\n', regex = True) \n",
        "  df = df.replace(to_replace ='\\n', value = ' ', regex = True)\n",
        "  df = df.replace(to_replace ='\\n{2,*}', value = ' ', regex = True)\n",
        "  return df\n",
        "\n",
        "#Read textual datasets\n",
        "raw_df_test = build_df('1B-Ozck3R_cMeREw3yQQcODcz8UZ8Hvp7', 'raw_data.csv')\n",
        "raw_df = clean_df(build_df('1B-Ozck3R_cMeREw3yQQcODcz8UZ8Hvp7', 'raw_data.csv'))\n",
        "raw_news_df = clean_df(build_df('1P0UF5IRI3VNUuAulldEn84ntVfFLGiIq', 'raw_news_data.csv'))\n",
        "raw_varela_df = clean_df(build_df('1s-qn2puLikOtN1YGOX2WZfZrNMxA6K4e', 'raw_varela_data.csv'))\n",
        "\n",
        "stylo_scores_df = build_df('1g4zAbrxtVSqJ1GwwXKJufqMHXpWSrLsC', 'stylo_scores.csv', index_col=0)\n",
        "tfidf_scores_df = build_df('12RMTasYFx6WAi-OByHaTFI0_wRRTQytX', 'idf_scores.csv', index_col=0)\n",
        "\n",
        "raw_news_df.pop('Link')\n",
        "raw_varela_df.pop('Subject')\n",
        "\n",
        "\n",
        "def remove_varela_authors(df):\n",
        "  regex_baleia = 'baleia - \\d{1,2}\\/\\d{1,2}\\/\\d{2,4}'\n",
        "  regex_ana = 'ana cristina cavalcante\\s*\\d{1,2} \\w{1,4} \\d{2,4} - \\S{3,5}(min)*'\n",
        "  regex_adriano = 'adriano gambarini - \\d{1,2}\\/\\d{1,2}\\/\\d{2,4}'\n",
        "  regex_ivolnildo = 'ivon(i)*l(d)*o lavôr(\\s)*\\d{1,2} \\w{1,4} \\d{2,4} - \\S{4,5}(min)*'\n",
        "  regex_mario = 'mário pinto(\\s)*\\d{1,2} \\w{1,4} \\d{2,4} - \\S{4,5}(min)*'\n",
        "  regex_julio = \"mais sobr julio preuss - \\d{1,2}\\/\\d{1,2}\\/\\d{2,4}(julio preussescreveu o livro 'fotografia digital: da compra da câmera à impressão das fotos)*\"\n",
        "  regex_roberto = 'roberto linsker - \\d{1,2}\\/\\d{1,2}\\/\\d{2,4}'\n",
        "  df['Text'] = df['Text'].str.replace(regex_baleia, ' ')\n",
        "  df['Text'] = df['Text'].str.replace(regex_ana, ' ')\n",
        "  df['Text'] = df['Text'].str.replace(regex_adriano, ' ')\n",
        "  df['Text'] = df['Text'].str.replace(regex_ivolnildo, ' ')\n",
        "  df['Text'] = df['Text'].str.replace(regex_mario, ' ')\n",
        "  df['Text'] = df['Text'].str.replace(regex_julio, ' ')\n",
        "  df['Text'] = df['Text'].str.replace(regex_roberto, ' ')\n",
        "  return df\n",
        "\n",
        "raw_varela_df = remove_varela_authors(raw_varela_df)\n"
      ],
      "execution_count": 3,
      "outputs": []
    },
    {
      "cell_type": "code",
      "metadata": {
        "id": "7RqX1NPrH5_B"
      },
      "source": [
        "# Remove few class entries (We need at least 3 samples of an author) and encode Author column \n",
        "\n",
        "def remove_entries(df, size):\n",
        "  return df.groupby('Author').filter(lambda x: len(x) > size)\n",
        "\n",
        "def encode_target_column(df, column):\n",
        "  le = LabelEncoder()\n",
        "  y = df.pop(column)\n",
        "  encoded_Y = le.fit_transform(y)\n",
        "  return encoded_Y\n",
        "\n",
        "df = remove_entries(df, 2)\n",
        "raw_df = remove_entries(raw_df, 2)\n",
        "\n",
        "encoded_Y = encode_target_column(df, 'Author')\n",
        "encoded_raw_Y  = encode_target_column(raw_df, 'Author')\n",
        "\n",
        "encoded_Y_news  = encode_target_column(news_df, 'Author')\n",
        "raw_news_df.pop('Author')\n",
        "\n",
        "varela_Y_backup = varela_df['Author']\n",
        "encoded_varela_Y = encode_target_column(varela_df, 'Author')\n",
        "raw_varela_df.pop('Author')\n",
        "\n",
        "\n",
        "corpus = raw_df['Text']\n",
        "corpus_news = raw_news_df['Text']\n",
        "corpus_varela = raw_varela_df['Text']"
      ],
      "execution_count": 4,
      "outputs": []
    },
    {
      "cell_type": "code",
      "metadata": {
        "id": "12hgssWlXSFr"
      },
      "source": [
        "df.columns"
      ],
      "execution_count": null,
      "outputs": []
    },
    {
      "cell_type": "code",
      "metadata": {
        "id": "lSRw8Xe6H-lZ"
      },
      "source": [
        "# Prepare our training and test sets\n",
        "X_varela, X_varela_test, Y_varela, Y_varela_test = train_test_split(varela_df, encoded_varela_Y, random_state=7, test_size=0.3, stratify=encoded_varela_Y)\n",
        "X_news, X_news_test, Y_news, Y_news_test = train_test_split(news_df, encoded_Y_news, random_state=7, test_size=0.3, stratify=encoded_Y_news)\n",
        "X_student, X_student_test, Y_student, Y_student_test = train_test_split(df, encoded_Y, random_state=7, test_size=0.3, stratify=encoded_Y)\n",
        "\n",
        "X_student_idf , X_student_idf_test, Y_student_idf, Y_student_idf_test = train_test_split(TfidfVectorizer().fit_transform(raw_df['Text']), encoded_Y, random_state=7, test_size=0.25, stratify=encoded_Y)\n",
        "X_news_idf , X_news_idf_test, Y_news_idf, Y_news_idf_test = train_test_split(TfidfVectorizer().fit_transform(raw_news_df['Text']), encoded_Y_news, random_state=7, test_size=0.3, stratify=encoded_Y_news)\n",
        "X_varela_idf , X_varela_idf_test, Y_varela_idf, Y_varela_idf_test = train_test_split(TfidfVectorizer().fit_transform(raw_varela_df['Text']), encoded_varela_Y, random_state=7, test_size=0.3, stratify=encoded_varela_Y)\n",
        "\n",
        "df['Author'] = encoded_Y\n",
        "news_df['Author'] = encoded_Y_news\n",
        "varela_df['Author'] = encoded_varela_Y"
      ],
      "execution_count": 5,
      "outputs": []
    },
    {
      "cell_type": "code",
      "metadata": {
        "id": "q4ASO-cDMSke"
      },
      "source": [
        "def train_and_report(classifier, X, X_test, Y, Y_test, dataset_name, average='macro', verbose=True):\n",
        "\n",
        "  clf = classifier.fit(X, Y)\n",
        "  y_pred = clf.predict(X_test)\n",
        "  print(dataset_name)\n",
        "  acc = accuracy_score(Y_test, y_pred)\n",
        "  print('ACCURACY:', acc)\n",
        "  roc_auc_dict = roc_auc_score_multiclass(Y_test, y_pred, average=average)\n",
        "  print('ROC AUC MEAN:', np.mean(list(roc_auc_dict.values())))\n",
        "\n",
        "  if verbose:\n",
        "    print('BLA')\n",
        "\n",
        "  return np.mean(list(roc_auc_dict.values())), acc\n",
        "\n",
        "# Verification evaluation functions\n",
        "\n",
        "def roc_auc_score_multiclass(actual_class, pred_class, average = \"macro\"):\n",
        "\n",
        "  #creating a set of all the unique classes using the actual class list\n",
        "  unique_class = set(actual_class)\n",
        "  roc_auc_dict = {}\n",
        "  for per_class in unique_class:\n",
        "    #creating a list of all the classes except the current class \n",
        "    other_class = [x for x in unique_class if x != per_class]\n",
        "\n",
        "    #marking the current class as 1 and all other classes as 0\n",
        "    new_actual_class = [0 if x in other_class else 1 for x in actual_class]\n",
        "    new_pred_class = [0 if x in other_class else 1 for x in pred_class]\n",
        "\n",
        "    #using the sklearn metrics method to calculate the roc_auc_score\n",
        "    roc_auc = roc_auc_score(new_actual_class, new_pred_class, average = average)\n",
        "    roc_auc_dict[per_class] = roc_auc\n",
        "\n",
        "  return roc_auc_dict\n",
        "\n",
        "\n",
        "def classification_report(y_true, y_pred, y_score=None, average='micro'):\n",
        "    if y_true.shape != y_pred.shape:\n",
        "        print(\"Error! y_true %s is not the same shape as y_pred %s\" % (\n",
        "              y_true.shape,\n",
        "              y_pred.shape)\n",
        "        )\n",
        "        return\n",
        "\n",
        "    lb = LabelBinarizer()\n",
        "\n",
        "    if len(y_true.shape) == 1:\n",
        "        lb.fit(y_true)\n",
        "\n",
        "    #Value counts of predictions\n",
        "    labels, cnt = np.unique(\n",
        "        y_pred,\n",
        "        return_counts=True)\n",
        "    n_classes = len(labels)\n",
        "    pred_cnt = pd.Series(cnt, index=labels)\n",
        "\n",
        "    metrics_summary = precision_recall_fscore_support(\n",
        "            y_true=y_true,\n",
        "            y_pred=y_pred,\n",
        "            labels=labels)\n",
        "\n",
        "    avg = list(precision_recall_fscore_support(\n",
        "            y_true=y_true, \n",
        "            y_pred=y_pred,\n",
        "            average='weighted'))\n",
        "\n",
        "    metrics_sum_index = ['precision', 'recall', 'f1-score', 'support']\n",
        "    class_report_df = pd.DataFrame(\n",
        "        list(metrics_summary),\n",
        "        index=metrics_sum_index,\n",
        "        columns=labels)\n",
        "\n",
        "    support = class_report_df.loc['support']\n",
        "    total = support.sum() \n",
        "    class_report_df['avg / total'] = avg[:-1] + [total]\n",
        "\n",
        "    class_report_df = class_report_df.T\n",
        "    class_report_df['pred'] = pred_cnt\n",
        "    class_report_df['pred'].iloc[-1] = total\n",
        "\n",
        "    if not (y_score is None):\n",
        "        fpr = dict()\n",
        "        tpr = dict()\n",
        "        roc_auc = dict()\n",
        "        for label_it, label in enumerate(labels):\n",
        "            fpr[label], tpr[label], _ = roc_curve(\n",
        "                (y_true == label).astype(int), \n",
        "                y_score[:, label_it])\n",
        "\n",
        "            roc_auc[label] = auc(fpr[label], tpr[label])\n",
        "\n",
        "        if average == 'micro':\n",
        "            if n_classes <= 2:\n",
        "                fpr[\"avg / total\"], tpr[\"avg / total\"], _ = roc_curve(\n",
        "                    lb.transform(y_true).ravel(), \n",
        "                    y_score[:, 1].ravel())\n",
        "            else:\n",
        "                fpr[\"avg / total\"], tpr[\"avg / total\"], _ = roc_curve(\n",
        "                        lb.transform(y_true).ravel(), \n",
        "                        y_score.ravel())\n",
        "\n",
        "            roc_auc[\"avg / total\"] = auc(\n",
        "                fpr[\"avg / total\"], \n",
        "                tpr[\"avg / total\"])\n",
        "\n",
        "        elif average == 'macro':\n",
        "            # First aggregate all false positive rates\n",
        "            all_fpr = np.unique(np.concatenate([\n",
        "                fpr[i] for i in labels]\n",
        "            ))\n",
        "\n",
        "            # Then interpolate all ROC curves at this points\n",
        "            mean_tpr = np.zeros_like(all_fpr)\n",
        "            for i in labels:\n",
        "                mean_tpr += interp(all_fpr, fpr[i], tpr[i])\n",
        "\n",
        "            # Finally average it and compute AUC\n",
        "            mean_tpr /= n_classes\n",
        "\n",
        "            fpr[\"macro\"] = all_fpr\n",
        "            tpr[\"macro\"] = mean_tpr\n",
        "\n",
        "            roc_auc[\"avg / total\"] = auc(fpr[\"macro\"], tpr[\"macro\"])\n",
        "\n",
        "        class_report_df['AUC'] = pd.Series(roc_auc)\n",
        "\n",
        "    return class_report_df"
      ],
      "execution_count": 6,
      "outputs": []
    },
    {
      "cell_type": "code",
      "metadata": {
        "id": "-0FvP6GCO1dY"
      },
      "source": [
        "\n",
        "model_names = ['RL', 'NB Gaus', 'Random Forest','Árvores Extra','MLP']\n",
        "scaling_names = ['ns', 'ss', 'mm', 'pt']\n",
        "\n",
        "def build_metrics_df(model_names, metrics, scales):\n",
        "  rows = pd.Series(model_names)\n",
        "  cols = pd.Series(metrics)\n",
        "  idx = pd.MultiIndex.from_product([rows, scales])\n",
        "  return pd.DataFrame(index=idx, columns=cols)\n",
        "\n",
        "test = build_metrics_df(model_names, metrics, scaling_names)"
      ],
      "execution_count": 9,
      "outputs": []
    },
    {
      "cell_type": "code",
      "metadata": {
        "id": "ZgtuqksOH-45"
      },
      "source": [
        "models = [LogisticRegression(random_state=0), GaussianNB(), \n",
        "          RandomForestClassifier(random_state=0), ExtraTreesClassifier(random_state=0), \n",
        "          MLPClassifier(random_state=0)]\n",
        "\n",
        "scalers = [StandardScaler(), StandardScaler(), MinMaxScaler(), PowerTransformer()]\n",
        "metrics = ['acurácia', 'roc auc']\n",
        "\n",
        "def set_scores(df, model_name, scale, acc, auc):\n",
        "  df.loc[model_name, scale]['acurácia'] = acc\n",
        "  df.loc[model_name, scale]['roc auc'] = auc\n",
        "\n",
        "stylo_data = [\n",
        "   [X_student, X_student_test, Y_student, Y_student_test],\n",
        "   [X_news, X_news_test, Y_news, Y_news_test], \n",
        "   [X_varela, X_varela_test, Y_varela, Y_varela_test] ]\n",
        "\n",
        "tfidf_data = [\n",
        "   [X_student_idf.toarray(), X_student_idf_test.toarray(), Y_student_idf, Y_student_idf_test],\n",
        "   [X_news_idf.toarray(), X_news_idf_test.toarray(), Y_news_idf, Y_news_idf_test], \n",
        "   [X_varela_idf.toarray(), X_varela_idf_test.toarray(), Y_varela_idf, Y_varela_idf_test] ]\n",
        "\n",
        "def scaling(scaler, data):\n",
        "  return [scaler.fit_transform(X) for X in data]\n",
        "\n",
        "#TODO: Once that is working, figure out the best way of running gridSearchCV on each model for each scaling technique\n",
        "def run_classic_models(data):\n",
        "  student_stylo_acc_df = build_metrics_df(model_names, metrics, scaling_names)\n",
        "  news_stylo_acc_df = student_stylo_acc_df.copy()\n",
        "  varela_stylo_acc_df = student_stylo_acc_df.copy()\n",
        "  for idx, scaler in enumerate(scalers):\n",
        "    print(scaling_names[idx])\n",
        "    if scaling_names[idx] != 'ns':\n",
        "      scaled_data = scaling(scaler, [data[0][0], data[0][1], data[1][0], data[1][1], data[2][0], data[2][1]])\n",
        "    else:\n",
        "      print('no scaling')\n",
        "      scaled_data = [data[0][0], data[0][1], data[1][0], data[1][1], data[2][0], data[2][1]]\n",
        "\n",
        "    for model, model_name in zip(models, model_names):\n",
        "      auc, acc = train_and_report(model, scaled_data[0], scaled_data[1], data[0][2], data[0][3], 'Base de estudantes', average=\"macro\", verbose=False)\n",
        "      set_scores(student_stylo_acc_df, model_name, scaling_names[idx], acc, auc)\n",
        "      \n",
        "      auc, acc = train_and_report(model, scaled_data[2], scaled_data[3], data[1][2], data[1][3], 'Base de notícias', average=\"macro\", verbose=False)\n",
        "      set_scores(news_stylo_acc_df, model_name, scaling_names[idx], acc, auc)\n",
        "        \n",
        "      auc, acc = train_and_report(model, scaled_data[4], scaled_data[5], data[2][2], data[2][3], 'Base Varela', average=\"macro\", verbose=False )\n",
        "      set_scores(varela_stylo_acc_df, model_name, scaling_names[idx], acc, auc)\n",
        "\n",
        "  return student_stylo_acc_df, news_stylo_acc_df, varela_stylo_acc_df  \n"
      ],
      "execution_count": 10,
      "outputs": []
    },
    {
      "cell_type": "code",
      "metadata": {
        "id": "9dHakGI8ck6p"
      },
      "source": [
        "build_metrics_df(model_names, metrics, scaling_names)"
      ],
      "execution_count": null,
      "outputs": []
    },
    {
      "cell_type": "code",
      "metadata": {
        "id": "XACbbgAJH5oT"
      },
      "source": [
        "deep_model_names = ['NN']\n",
        "metrics = ['acurácia', 'roc auc macro', 'roc auc mic']  \n",
        "\n",
        "def set_deep_scores(df, model_name, scale, acc, roc_auc_mac, roc_auc_mic):\n",
        "  df.loc[model_name, scale]['acurácia'] = acc\n",
        "  df.loc[model_name, scale]['roc auc macro'] = roc_auc_mac\n",
        "  df.loc[model_name, scale]['roc auc mic'] = roc_auc_mic\n",
        "\n",
        "def build_large_nn(input_size, num_of_classes):\n",
        "    print('input size:{}, num of classes:{}'.format(input_size, num_of_classes))\n",
        "    model = Sequential()\n",
        "    model.add(Dense(160, input_dim=input_size, activation='relu'))\n",
        "    model.add(Dropout(0.3))\n",
        "    model.add(Dense(100, activation='relu'))\n",
        "    model.add(Dropout(0.3))\n",
        "    model.add(Dense(80, activation='relu'))\n",
        "    model.add(Dropout(0.3))\n",
        "    model.add(Dense(40, activation='relu'))\n",
        "    model.add(Dropout(0.3))\n",
        "    model.add(Dense(num_of_classes, activation='softmax'))\n",
        "    model.compile(loss='categorical_crossentropy', optimizer='adam', metrics=['accuracy'])\n",
        "    return model\n",
        "\n",
        "def build_small_nn(input_size, num_of_classes):\n",
        "    print('input size:{}, num of classes:{}'.format(input_size, num_of_classes))\n",
        "    model = Sequential()\n",
        "    model.add(Dense(64, input_dim=input_size, activation='relu'))\n",
        "    model.add(Dropout(0.2))\n",
        "    model.add(Dense(32, activation='relu'))\n",
        "    model.add(Dropout(0.1))\n",
        "    model.add(Dense(16, activation='selu'))\n",
        "    model.add(Dense(num_of_classes, activation='softmax'))\n",
        "    model.compile(loss='categorical_crossentropy', optimizer='adam', metrics=['accuracy'])\n",
        "    return model\n",
        "\n",
        "\n",
        "def binarize_split_scale(X, Y, scaler, scaler_name):\n",
        "    lb = LabelBinarizer() \n",
        "    y = lb.fit_transform(Y)\n",
        "    print(y.shape)#(84, 16)\n",
        "    n_classes = y.shape[1]      \n",
        "    X_train, X_test, Y_train, Y_test = train_test_split(X, y, random_state=0, test_size=0.3, stratify=y)\n",
        "\n",
        "    if scaler_name != 'ns':\n",
        "      scaled_data = scaling(scaler, [X_train, X_test])\n",
        "    else:\n",
        "      print('no scaling')\n",
        "      scaled_data = [X_train, X_test]\n",
        "    \n",
        "    return scaled_data, Y_train, Y_test, n_classes\n",
        "    \n",
        "\n",
        "def roc_auc_multiclass_nn(X_train, X_test, Y_train, Y_test, n_classes, epochs, columns=True):\n",
        "    # Compute ROC curve and ROC area for each class\n",
        "    fpr = dict()\n",
        "    tpr = dict()\n",
        "    acc = 0\n",
        "    roc_auc = dict()\n",
        "  \n",
        "    nn_input_size = X_train.shape[1]\n",
        "    if columns:\n",
        "      estimator = build_small_nn(nn_input_size, n_classes)\n",
        "    else:\n",
        "      estimator = build_large_nn(nn_input_size, n_classes)\n",
        "      \n",
        "    #estimator = KerasClassifier(build_fn=build_nn, input_size=nn_input_size, num_of_classes=len(set(Y)),  epochs=200, batch_size=128)\n",
        "    hist = estimator.fit(X_train, Y_train, verbose=0, epochs=epochs, validation_data=(X_test, Y_test))\n",
        "\n",
        "    print('finished training')\n",
        "    y_pred_keras = estimator.predict(X_test)\n",
        "\n",
        "    for i in range(n_classes):\n",
        "      fpr[i], tpr[i], _ = roc_curve(Y_test[:, i], y_pred_keras[:, i])\n",
        "      \n",
        "      if (np.isnan(sum(tpr[i]))):\n",
        "        tpr[i] = [0.5] * len(tpr[i])\n",
        "\n",
        "      if (np.isnan(sum(fpr[i]))):\n",
        "        fpr[i] = [0.5] * len(fpr[i])\n",
        "      \n",
        "      roc_auc[i] = auc(fpr[i], tpr[i])\n",
        "      # Compute micro-average ROC curve and ROC area\n",
        "      fpr[\"micro\"], tpr[\"micro\"], _ = roc_curve(Y_test.ravel(), y_pred_keras.ravel())\n",
        "      roc_auc[\"micro\"] = auc(fpr[\"micro\"], tpr[\"micro\"])\n",
        "\n",
        "    # Compute macro-average ROC curve and ROC area\n",
        "    # First aggregate all false positive rates\n",
        "    all_fpr = np.unique(np.concatenate([fpr[i] for i in range(n_classes)]))\n",
        "\n",
        "    # Then interpolate all ROC curves at this points\n",
        "    mean_tpr = np.zeros_like(all_fpr)\n",
        "    for i in range(n_classes):\n",
        "        mean_tpr += interp(all_fpr, fpr[i], tpr[i])\n",
        "\n",
        "    # Finally average it and compute AUC\n",
        "    mean_tpr /= n_classes\n",
        "\n",
        "    fpr[\"macro\"] = all_fpr\n",
        "    tpr[\"macro\"] = mean_tpr\n",
        "    roc_auc[\"macro\"] = auc(fpr[\"macro\"], tpr[\"macro\"])\n",
        "    print(roc_auc)\n",
        "    return roc_auc, tpr, fpr, hist\n",
        "\n",
        "def run_deep_models(data, cols=True):\n",
        "  student_stylo_acc_df = build_metrics_df(deep_model_names, metrics, scaling_names)\n",
        "  news_stylo_acc_df = student_stylo_acc_df.copy()\n",
        "  varela_stylo_acc_df = student_stylo_acc_df.copy()\n",
        "\n",
        "  for idx, scaler in enumerate(scalers):\n",
        "    print(scaling_names[idx])\n",
        "\n",
        "    scaled_data, Y, Y_test, n_classes = binarize_split_scale(data[0][0], data[0][1], scaler , scaling_names[idx])\n",
        "    roc, _, _, hist_s = roc_auc_multiclass_nn(scaled_data[0], scaled_data[1], Y, Y_test, n_classes, 200, cols)\n",
        "    set_deep_scores(student_stylo_acc_df, 'NN', scaling_names[idx], hist_s.history['val_accuracy'][-1], roc[\"macro\"], roc[\"micro\"])\n",
        "\n",
        "    scaled_data, Y, Y_test, n_classes = binarize_split_scale(data[1][0], data[1][1], scaler, scaling_names[idx])\n",
        "    roc, _, _, hist_n = roc_auc_multiclass_nn(scaled_data[0], scaled_data[1], Y, Y_test, n_classes, 200, cols)\n",
        "    set_deep_scores(news_stylo_acc_df, 'NN', scaling_names[idx], hist_n.history['val_accuracy'][-1], roc[\"macro\"], roc[\"micro\"])\n",
        "\n",
        "    scaled_data, Y, Y_test, n_classes = binarize_split_scale(data[2][0], data[2][1], scaler , scaling_names[idx])\n",
        "    roc, _, _, hist_v = roc_auc_multiclass_nn(scaled_data[0], scaled_data[1], Y, Y_test, n_classes, 200, cols)\n",
        "    set_deep_scores(varela_stylo_acc_df, 'NN', scaling_names[idx], hist_v.history['val_accuracy'][-1], roc[\"macro\"], roc[\"micro\"])\n",
        "\n",
        "\n",
        "  return student_stylo_acc_df, news_stylo_acc_df, varela_stylo_acc_df, hist_s, hist_n, hist_v\n",
        "\n",
        "nn_stylo_data = [\n",
        "           [df, encoded_Y],\n",
        "           [news_df, encoded_Y_news],\n",
        "           [varela_df, encoded_varela_Y]\n",
        "]\n",
        "\n",
        "nn_tfidf_data = [\n",
        "   [TfidfVectorizer(binary=True).fit_transform(raw_df['Text']).toarray(), encoded_Y],\n",
        "   [TfidfVectorizer(binary=True).fit_transform(raw_news_df['Text']).toarray(), encoded_Y_news], \n",
        "   [TfidfVectorizer(binary=True).fit_transform(raw_varela_df['Text']).toarray(), encoded_varela_Y]\n",
        "]\n",
        "\n",
        "#std, news, var, hs, hn, hv = run_deep_models(nn_stylo_data, True)\n",
        "#std_idf, news_idf, var_idf, hs_idf, hn_idf, hv_idf = run_deep_models(nn_tfidf_data, False)"
      ],
      "execution_count": 11,
      "outputs": []
    },
    {
      "cell_type": "code",
      "metadata": {
        "id": "ofQnj5WdcZs4"
      },
      "source": [
        "std.merge(news, left_index=True, right_index=True, suffixes=('_estudantes', '_notícias')).merge(var, left_index=True, right_index=True).to_csv('nn-stylo-scaled.csv')"
      ],
      "execution_count": null,
      "outputs": []
    },
    {
      "cell_type": "code",
      "metadata": {
        "id": "u9oPxxeUX9Dn"
      },
      "source": [
        "std_idf.merge(news_idf, left_index=True, right_index=True, suffixes=('_estudantes', '_notícias')).merge(var_idf, left_index=True, right_index=True).to_csv('nn-idf-scaled.csv')"
      ],
      "execution_count": null,
      "outputs": []
    },
    {
      "cell_type": "code",
      "metadata": {
        "id": "9tHGHexLPnmq"
      },
      "source": [
        "student_df, news_df, varela_df = run_classic_models(tfidf_data)"
      ],
      "execution_count": null,
      "outputs": []
    },
    {
      "cell_type": "code",
      "metadata": {
        "id": "59z5H0uyQkVd"
      },
      "source": [
        "student_df.merge(news_df, left_index=True, right_index=True, suffixes=('_estudantes', '_notícias')).merge(varela_df, left_index=True, right_index=True).to_csv('scaled-stylo-score.csv')"
      ],
      "execution_count": null,
      "outputs": []
    },
    {
      "cell_type": "code",
      "metadata": {
        "colab": {
          "background_save": true
        },
        "id": "ONCRo7mpJABd"
      },
      "source": [
        "student_idf_df, news_idf_df, varela_idf_df = run_classic_models(tfidf_data)"
      ],
      "execution_count": null,
      "outputs": []
    },
    {
      "cell_type": "code",
      "metadata": {
        "id": "UGOknWe0GlfY"
      },
      "source": [
        "student_idf_df.merge(news_idf_df, left_index=True, right_index=True, suffixes=('_estudantes', '_notícias')).merge(varela_idf_df, left_index=True, right_index=True)"
      ],
      "execution_count": null,
      "outputs": []
    },
    {
      "cell_type": "code",
      "metadata": {
        "id": "VWvGU_FYXPBg"
      },
      "source": [
        "student_idf_df.merge(news_idf_df, left_index=True, right_index=True, suffixes=('_estudantes', '_notícias')).merge(varela_idf_df, left_index=True, right_index=True).to_csv('scaled-idf-score.csv')"
      ],
      "execution_count": null,
      "outputs": []
    },
    {
      "cell_type": "code",
      "metadata": {
        "id": "go8Wy2wXhLus"
      },
      "source": [
        "scaled_df.to_latex()"
      ],
      "execution_count": null,
      "outputs": []
    },
    {
      "cell_type": "code",
      "metadata": {
        "id": "apVHHwM7mKmy"
      },
      "source": [
        "def merge_and_build_acc_df(students_df, news_df, varela_df):\n",
        "    merged_df = students_df.merge(news_df, left_index=True, right_index=True, suffixes=('_estudantes', '_notícias')).merge(varela_df, left_index=True, right_index=True)\n",
        "    return build_acc_df(merged_df)\n",
        "\n",
        "def merge_and_build_auc_df(students_df, news_df, varela_df):\n",
        "    merged_df = students_df.merge(news_df, left_index=True, right_index=True, suffixes=('_estudantes', '_notícias')).merge(varela_df, left_index=True, right_index=True)\n",
        "    return build_auc_df(merged_df)\n",
        "\n",
        "def build_acc_df(df, nn=False):\n",
        "    merged_df = df.copy()\n",
        "    merged_df.drop(columns='roc auc_estudantes', inplace=True)\n",
        "    merged_df.drop(columns='roc auc_notícias', inplace=True)\n",
        "    merged_df.drop(columns='roc auc', inplace=True)\n",
        "    merged_df.rename(columns={'acurácia_estudantes': 'Estudantes', 'acurácia_notícias' : 'Notícias', 'acurácia':'Varela'}, inplace=True)\n",
        "    return merged_df\n",
        "\n",
        "def build_auc_df(df, nn=False):\n",
        "    merged_df = df.copy()\n",
        "    merged_df.drop(columns='acurácia_estudantes', inplace=True)\n",
        "    merged_df.drop(columns='acurácia_notícias', inplace=True)\n",
        "    merged_df.drop(columns='acurácia', inplace=True)\n",
        "    merged_df.rename(columns={'roc auc_estudantes': 'Estudantes', 'roc auc_notícias' : 'Notícias', 'roc auc':'Varela'}, inplace=True)\n",
        "    return merged_df\n"
      ],
      "execution_count": null,
      "outputs": []
    },
    {
      "cell_type": "code",
      "metadata": {
        "id": "AMgr6XutmmQG"
      },
      "source": [
        "merged_df = student_acc.merge(news_acc, left_index=True, right_index=True, suffixes=('_estudantes', '_notícias')).merge(varela_acc, left_index=True, right_index=True)\n",
        "merged_df.drop(columns='roc auc_estudantes', inplace=True)\n",
        "merged_df.drop(columns='roc auc_notícias', inplace=True)\n",
        "merged_df.drop(columns='roc auc', inplace=True)\n",
        "merged_df.rename(columns={'acurácia_estudantes': 'Estudantes', 'acurácia_notícias' : 'Notícias', 'acurácia':'Varela'}, inplace=True)\n",
        "\n",
        "merged_df"
      ],
      "execution_count": null,
      "outputs": []
    },
    {
      "cell_type": "code",
      "metadata": {
        "id": "UbCG2ndFmpvi"
      },
      "source": [
        "\n",
        "stylo_scores_df = build_df('1_mnFalKzNJcZNnBnttON3HHoNTv6s4lS', 'stylo_scores.csv', index_col=0)\n",
        "tfidf_scores_df = build_df('12RMTasYFx6WAi-OByHaTFI0_wRRTQytX', 'idf_scores.csv', index_col=0)\n",
        "\n",
        "stylo_scores_scaled_df = build_df('1W-WCQ1ATEQErG2Mv3Vs3wEVCXJtdo42m', 'stylo_scores.csv', index_col=[0,1])\n",
        "tfidf_scores_scaled_df = build_df('1hH5i3Gk5_Z_FztWmSk4G4M20_nY37gz8', 'idf_scores.csv', index_col=[0,1])\n",
        "\n",
        "nn_stylo_scaled_df = build_df('1z5nQ5HrvB27AnV8mH7tBDf4RaeBek3n3', 'nn_stylo_scores.csv', index_col=[0,1])\n",
        "nn_idf_scaled_df = build_df('1S2S31meoaQeJbWlU2OHmLhlLGZZaqaKL', 'nn_stylo_scores.csv', index_col=[0,1])"
      ],
      "execution_count": null,
      "outputs": []
    },
    {
      "cell_type": "code",
      "metadata": {
        "id": "hIalPB8LTMtr"
      },
      "source": [
        "nn_stylo_scaled_df.rename(columns={'roc auc mic_estudantes': 'roc auc_estudantes', \n",
        "                                   'roc auc mic_notícias': 'roc auc_notícias', \n",
        "                                   'roc auc mic': 'roc auc'}, inplace=True)\n",
        "\n",
        "nn_idf_scaled_df.rename(columns={'roc auc mic_estudantes': 'roc auc_estudantes', \n",
        "                                   'roc auc mic_notícias': 'roc auc notícias', \n",
        "                                   'roc auc mic': 'roc auc'}, inplace=True)"
      ],
      "execution_count": null,
      "outputs": []
    },
    {
      "cell_type": "code",
      "metadata": {
        "id": "Y4Xxxr01R4sm"
      },
      "source": [
        "stylo_scores_df.rename(columns={'acurácia': 'acurácia_varela', 'roc auc': 'roc auc_varela'}, inplace=True)\n",
        "tfidf_scores_df.rename(columns={'acurácia': 'acurácia_varela', 'roc auc': 'roc auc_varela'}, inplace=True)"
      ],
      "execution_count": null,
      "outputs": []
    },
    {
      "cell_type": "code",
      "metadata": {
        "id": "DIcjf7B6TEAA"
      },
      "source": [
        "stylo_scores_scaled_df"
      ],
      "execution_count": null,
      "outputs": []
    },
    {
      "cell_type": "code",
      "metadata": {
        "colab": {
          "base_uri": "https://localhost:8080/",
          "height": 227
        },
        "id": "kkF95tVQTHjm",
        "outputId": "1ff65406-449b-40a4-ac44-6dbac8e3a69d"
      },
      "source": [
        "stylo_scores_df"
      ],
      "execution_count": null,
      "outputs": [
        {
          "output_type": "execute_result",
          "data": {
            "text/html": [
              "<div>\n",
              "<style scoped>\n",
              "    .dataframe tbody tr th:only-of-type {\n",
              "        vertical-align: middle;\n",
              "    }\n",
              "\n",
              "    .dataframe tbody tr th {\n",
              "        vertical-align: top;\n",
              "    }\n",
              "\n",
              "    .dataframe thead th {\n",
              "        text-align: right;\n",
              "    }\n",
              "</style>\n",
              "<table border=\"1\" class=\"dataframe\">\n",
              "  <thead>\n",
              "    <tr style=\"text-align: right;\">\n",
              "      <th></th>\n",
              "      <th>acurácia_estudantes</th>\n",
              "      <th>roc auc_estudantes</th>\n",
              "      <th>acurácia_notícias</th>\n",
              "      <th>roc auc_notícias</th>\n",
              "      <th>acurácia_varela</th>\n",
              "      <th>roc auc_varela</th>\n",
              "    </tr>\n",
              "  </thead>\n",
              "  <tbody>\n",
              "    <tr>\n",
              "      <th>RL</th>\n",
              "      <td>0.153846</td>\n",
              "      <td>0.544461</td>\n",
              "      <td>0.500000</td>\n",
              "      <td>0.722222</td>\n",
              "      <td>0.187778</td>\n",
              "      <td>0.589787</td>\n",
              "    </tr>\n",
              "    <tr>\n",
              "      <th>NB Gaus</th>\n",
              "      <td>0.076923</td>\n",
              "      <td>0.494552</td>\n",
              "      <td>0.833333</td>\n",
              "      <td>0.907407</td>\n",
              "      <td>0.555556</td>\n",
              "      <td>0.775533</td>\n",
              "    </tr>\n",
              "    <tr>\n",
              "      <th>RF</th>\n",
              "      <td>0.115385</td>\n",
              "      <td>0.511313</td>\n",
              "      <td>0.766667</td>\n",
              "      <td>0.870370</td>\n",
              "      <td>0.561111</td>\n",
              "      <td>0.778339</td>\n",
              "    </tr>\n",
              "    <tr>\n",
              "      <th>Árvores Extra</th>\n",
              "      <td>0.153846</td>\n",
              "      <td>0.543918</td>\n",
              "      <td>0.833333</td>\n",
              "      <td>0.907407</td>\n",
              "      <td>0.572222</td>\n",
              "      <td>0.783951</td>\n",
              "    </tr>\n",
              "    <tr>\n",
              "      <th>MLP</th>\n",
              "      <td>0.115385</td>\n",
              "      <td>0.532751</td>\n",
              "      <td>0.400000</td>\n",
              "      <td>0.666667</td>\n",
              "      <td>0.244444</td>\n",
              "      <td>0.618406</td>\n",
              "    </tr>\n",
              "    <tr>\n",
              "      <th>NN</th>\n",
              "      <td>0.095238</td>\n",
              "      <td>0.584127</td>\n",
              "      <td>0.120000</td>\n",
              "      <td>0.584889</td>\n",
              "      <td>0.009333</td>\n",
              "      <td>0.860000</td>\n",
              "    </tr>\n",
              "  </tbody>\n",
              "</table>\n",
              "</div>"
            ],
            "text/plain": [
              "               acurácia_estudantes  ...  roc auc_varela\n",
              "RL                        0.153846  ...        0.589787\n",
              "NB Gaus                   0.076923  ...        0.775533\n",
              "RF                        0.115385  ...        0.778339\n",
              "Árvores Extra             0.153846  ...        0.783951\n",
              "MLP                       0.115385  ...        0.618406\n",
              "NN                        0.095238  ...        0.860000\n",
              "\n",
              "[6 rows x 6 columns]"
            ]
          },
          "metadata": {
            "tags": []
          },
          "execution_count": 196
        }
      ]
    },
    {
      "cell_type": "code",
      "metadata": {
        "id": "iiwH8XksRpEu"
      },
      "source": [
        "stylo_scores_scaled_df.loc[('RL','Sem normalização'),:] = stylo_scores_df.loc['RL']\n",
        "tfidf_scores_scaled_df.loc[('RL','Sem normalização'),:] = tfidf_scores_df.loc['RL']\n",
        "\n",
        "stylo_scores_scaled_df.loc[('NB Gaus','Sem normalização'),:] = stylo_scores_df.loc['NB Gaus']\n",
        "tfidf_scores_scaled_df.loc[('NB Gaus','Sem normalização'),:] = tfidf_scores_df.loc['NB Gaus']\n",
        "\n",
        "stylo_scores_scaled_df.loc[('Random Forest','Sem normalização'),:] = stylo_scores_df.loc['RF']\n",
        "tfidf_scores_scaled_df.loc[('Random Forest','Sem normalização'),:] = tfidf_scores_df.loc['RF']\n",
        "\n",
        "stylo_scores_scaled_df.loc[('Árvores Extra','Sem normalização'),:] = stylo_scores_df.loc['Árvores Extra']\n",
        "tfidf_scores_scaled_df.loc[('Árvores Extra','Sem normalização'),:] = tfidf_scores_df.loc['Árvores Extra']\n",
        "\n",
        "stylo_scores_scaled_df.loc[('MLP','Sem normalização'),:] = stylo_scores_df.loc['MLP']\n",
        "tfidf_scores_scaled_df.loc[('MLP','Sem normalização'),:] = tfidf_scores_df.loc['MLP']"
      ],
      "execution_count": null,
      "outputs": []
    },
    {
      "cell_type": "code",
      "metadata": {
        "colab": {
          "base_uri": "https://localhost:8080/",
          "height": 767
        },
        "id": "I0axvvKOY30e",
        "outputId": "10c60e92-f6f5-4283-9cd7-95b93a82b497"
      },
      "source": [
        "stylo_scores_scaled_df"
      ],
      "execution_count": null,
      "outputs": [
        {
          "output_type": "execute_result",
          "data": {
            "text/html": [
              "<div>\n",
              "<style scoped>\n",
              "    .dataframe tbody tr th:only-of-type {\n",
              "        vertical-align: middle;\n",
              "    }\n",
              "\n",
              "    .dataframe tbody tr th {\n",
              "        vertical-align: top;\n",
              "    }\n",
              "\n",
              "    .dataframe thead th {\n",
              "        text-align: right;\n",
              "    }\n",
              "</style>\n",
              "<table border=\"1\" class=\"dataframe\">\n",
              "  <thead>\n",
              "    <tr style=\"text-align: right;\">\n",
              "      <th></th>\n",
              "      <th></th>\n",
              "      <th>acurácia_estudantes</th>\n",
              "      <th>roc auc_estudantes</th>\n",
              "      <th>acurácia_notícias</th>\n",
              "      <th>roc auc_notícias</th>\n",
              "      <th>acurácia_varela</th>\n",
              "      <th>roc auc_varela</th>\n",
              "    </tr>\n",
              "  </thead>\n",
              "  <tbody>\n",
              "    <tr>\n",
              "      <th rowspan=\"4\" valign=\"top\">RL</th>\n",
              "      <th>Sem normalização</th>\n",
              "      <td>0.095238</td>\n",
              "      <td>0.584127</td>\n",
              "      <td>0.120000</td>\n",
              "      <td>0.584889</td>\n",
              "      <td>0.009333</td>\n",
              "      <td>0.860000</td>\n",
              "    </tr>\n",
              "    <tr>\n",
              "      <th>Standard Scaler</th>\n",
              "      <td>0.153846</td>\n",
              "      <td>0.528132</td>\n",
              "      <td>0.833333</td>\n",
              "      <td>0.907407</td>\n",
              "      <td>0.606667</td>\n",
              "      <td>0.801347</td>\n",
              "    </tr>\n",
              "    <tr>\n",
              "      <th>Min Max</th>\n",
              "      <td>0.230769</td>\n",
              "      <td>0.556891</td>\n",
              "      <td>0.766667</td>\n",
              "      <td>0.870370</td>\n",
              "      <td>0.517778</td>\n",
              "      <td>0.756453</td>\n",
              "    </tr>\n",
              "    <tr>\n",
              "      <th>Power Transformer</th>\n",
              "      <td>0.230769</td>\n",
              "      <td>0.567416</td>\n",
              "      <td>0.766667</td>\n",
              "      <td>0.870370</td>\n",
              "      <td>0.613333</td>\n",
              "      <td>0.804714</td>\n",
              "    </tr>\n",
              "    <tr>\n",
              "      <th rowspan=\"4\" valign=\"top\">NB Gaus</th>\n",
              "      <th>Sem normalização</th>\n",
              "      <td>0.115385</td>\n",
              "      <td>0.516923</td>\n",
              "      <td>0.833333</td>\n",
              "      <td>0.907407</td>\n",
              "      <td>0.555556</td>\n",
              "      <td>0.775533</td>\n",
              "    </tr>\n",
              "    <tr>\n",
              "      <th>Standard Scaler</th>\n",
              "      <td>0.115385</td>\n",
              "      <td>0.500226</td>\n",
              "      <td>0.100000</td>\n",
              "      <td>0.500000</td>\n",
              "      <td>0.038889</td>\n",
              "      <td>0.514590</td>\n",
              "    </tr>\n",
              "    <tr>\n",
              "      <th>Min Max</th>\n",
              "      <td>0.076923</td>\n",
              "      <td>0.494112</td>\n",
              "      <td>0.200000</td>\n",
              "      <td>0.555556</td>\n",
              "      <td>0.134444</td>\n",
              "      <td>0.562851</td>\n",
              "    </tr>\n",
              "    <tr>\n",
              "      <th>Power Transformer</th>\n",
              "      <td>0.038462</td>\n",
              "      <td>0.482960</td>\n",
              "      <td>0.100000</td>\n",
              "      <td>0.500000</td>\n",
              "      <td>0.038889</td>\n",
              "      <td>0.514590</td>\n",
              "    </tr>\n",
              "    <tr>\n",
              "      <th rowspan=\"4\" valign=\"top\">Random Forest</th>\n",
              "      <th>Sem normalização</th>\n",
              "      <td>0.115385</td>\n",
              "      <td>0.516927</td>\n",
              "      <td>0.766667</td>\n",
              "      <td>0.870370</td>\n",
              "      <td>0.561111</td>\n",
              "      <td>0.778339</td>\n",
              "    </tr>\n",
              "    <tr>\n",
              "      <th>Standard Scaler</th>\n",
              "      <td>0.115385</td>\n",
              "      <td>0.511356</td>\n",
              "      <td>0.733333</td>\n",
              "      <td>0.851852</td>\n",
              "      <td>0.561111</td>\n",
              "      <td>0.778339</td>\n",
              "    </tr>\n",
              "    <tr>\n",
              "      <th>Min Max</th>\n",
              "      <td>0.153846</td>\n",
              "      <td>0.528193</td>\n",
              "      <td>0.633333</td>\n",
              "      <td>0.796296</td>\n",
              "      <td>0.450000</td>\n",
              "      <td>0.722222</td>\n",
              "    </tr>\n",
              "    <tr>\n",
              "      <th>Power Transformer</th>\n",
              "      <td>0.115385</td>\n",
              "      <td>0.506105</td>\n",
              "      <td>0.666667</td>\n",
              "      <td>0.814815</td>\n",
              "      <td>0.570000</td>\n",
              "      <td>0.782828</td>\n",
              "    </tr>\n",
              "    <tr>\n",
              "      <th rowspan=\"4\" valign=\"top\">Árvores Extra</th>\n",
              "      <th>Sem normalização</th>\n",
              "      <td>0.076923</td>\n",
              "      <td>0.500000</td>\n",
              "      <td>0.833333</td>\n",
              "      <td>0.907407</td>\n",
              "      <td>0.572222</td>\n",
              "      <td>0.783951</td>\n",
              "    </tr>\n",
              "    <tr>\n",
              "      <th>Standard Scaler</th>\n",
              "      <td>0.115385</td>\n",
              "      <td>0.505996</td>\n",
              "      <td>0.733333</td>\n",
              "      <td>0.851852</td>\n",
              "      <td>0.570000</td>\n",
              "      <td>0.782828</td>\n",
              "    </tr>\n",
              "    <tr>\n",
              "      <th>Min Max</th>\n",
              "      <td>0.115385</td>\n",
              "      <td>0.511148</td>\n",
              "      <td>0.500000</td>\n",
              "      <td>0.722222</td>\n",
              "      <td>0.432222</td>\n",
              "      <td>0.713244</td>\n",
              "    </tr>\n",
              "    <tr>\n",
              "      <th>Power Transformer</th>\n",
              "      <td>0.192308</td>\n",
              "      <td>0.539964</td>\n",
              "      <td>0.800000</td>\n",
              "      <td>0.888889</td>\n",
              "      <td>0.594444</td>\n",
              "      <td>0.795174</td>\n",
              "    </tr>\n",
              "    <tr>\n",
              "      <th rowspan=\"4\" valign=\"top\">MLP</th>\n",
              "      <th>Sem normalização</th>\n",
              "      <td>0.192308</td>\n",
              "      <td>0.597951</td>\n",
              "      <td>0.400000</td>\n",
              "      <td>0.666667</td>\n",
              "      <td>0.244444</td>\n",
              "      <td>0.618406</td>\n",
              "    </tr>\n",
              "    <tr>\n",
              "      <th>Standard Scaler</th>\n",
              "      <td>0.192308</td>\n",
              "      <td>0.555806</td>\n",
              "      <td>0.833333</td>\n",
              "      <td>0.907407</td>\n",
              "      <td>0.596667</td>\n",
              "      <td>0.796296</td>\n",
              "    </tr>\n",
              "    <tr>\n",
              "      <th>Min Max</th>\n",
              "      <td>0.115385</td>\n",
              "      <td>0.516639</td>\n",
              "      <td>0.600000</td>\n",
              "      <td>0.777778</td>\n",
              "      <td>0.556667</td>\n",
              "      <td>0.776094</td>\n",
              "    </tr>\n",
              "    <tr>\n",
              "      <th>Power Transformer</th>\n",
              "      <td>0.192308</td>\n",
              "      <td>0.534973</td>\n",
              "      <td>0.800000</td>\n",
              "      <td>0.888889</td>\n",
              "      <td>0.623333</td>\n",
              "      <td>0.809764</td>\n",
              "    </tr>\n",
              "    <tr>\n",
              "      <th rowspan=\"4\" valign=\"top\">NN</th>\n",
              "      <th>Sem normalização</th>\n",
              "      <td>0.095238</td>\n",
              "      <td>0.584127</td>\n",
              "      <td>0.120000</td>\n",
              "      <td>0.584889</td>\n",
              "      <td>0.009333</td>\n",
              "      <td>0.860000</td>\n",
              "    </tr>\n",
              "    <tr>\n",
              "      <th>Standard Scaler</th>\n",
              "      <td>0.192308</td>\n",
              "      <td>0.654438</td>\n",
              "      <td>0.900000</td>\n",
              "      <td>0.994198</td>\n",
              "      <td>0.571111</td>\n",
              "      <td>0.970950</td>\n",
              "    </tr>\n",
              "    <tr>\n",
              "      <th>Min Max</th>\n",
              "      <td>0.153846</td>\n",
              "      <td>0.661341</td>\n",
              "      <td>0.666667</td>\n",
              "      <td>0.944938</td>\n",
              "      <td>0.342222</td>\n",
              "      <td>0.944678</td>\n",
              "    </tr>\n",
              "    <tr>\n",
              "      <th>Power Transformer</th>\n",
              "      <td>0.076923</td>\n",
              "      <td>0.596252</td>\n",
              "      <td>0.933333</td>\n",
              "      <td>0.998272</td>\n",
              "      <td>0.536667</td>\n",
              "      <td>0.975654</td>\n",
              "    </tr>\n",
              "  </tbody>\n",
              "</table>\n",
              "</div>"
            ],
            "text/plain": [
              "                                 acurácia_estudantes  ...  roc auc_varela\n",
              "RL            Sem normalização              0.095238  ...        0.860000\n",
              "              Standard Scaler               0.153846  ...        0.801347\n",
              "              Min Max                       0.230769  ...        0.756453\n",
              "              Power Transformer             0.230769  ...        0.804714\n",
              "NB Gaus       Sem normalização              0.115385  ...        0.775533\n",
              "              Standard Scaler               0.115385  ...        0.514590\n",
              "              Min Max                       0.076923  ...        0.562851\n",
              "              Power Transformer             0.038462  ...        0.514590\n",
              "Random Forest Sem normalização              0.115385  ...        0.778339\n",
              "              Standard Scaler               0.115385  ...        0.778339\n",
              "              Min Max                       0.153846  ...        0.722222\n",
              "              Power Transformer             0.115385  ...        0.782828\n",
              "Árvores Extra Sem normalização              0.076923  ...        0.783951\n",
              "              Standard Scaler               0.115385  ...        0.782828\n",
              "              Min Max                       0.115385  ...        0.713244\n",
              "              Power Transformer             0.192308  ...        0.795174\n",
              "MLP           Sem normalização              0.192308  ...        0.618406\n",
              "              Standard Scaler               0.192308  ...        0.796296\n",
              "              Min Max                       0.115385  ...        0.776094\n",
              "              Power Transformer             0.192308  ...        0.809764\n",
              "NN            Sem normalização              0.095238  ...        0.860000\n",
              "              Standard Scaler               0.192308  ...        0.970950\n",
              "              Min Max                       0.153846  ...        0.944678\n",
              "              Power Transformer             0.076923  ...        0.975654\n",
              "\n",
              "[24 rows x 6 columns]"
            ]
          },
          "metadata": {
            "tags": []
          },
          "execution_count": 192
        }
      ]
    },
    {
      "cell_type": "code",
      "metadata": {
        "id": "g7F1VeEZQIKP"
      },
      "source": [
        "#new_index = pd.MultiIndex.from_product([['ML'], ['ns','ss', 'mm', 'pt']])"
      ],
      "execution_count": null,
      "outputs": []
    },
    {
      "cell_type": "code",
      "metadata": {
        "id": "2FHvvMP8SiPD"
      },
      "source": [
        "# Adding new indexes to our multiindex\n",
        "stylo_scores_scaled_df.loc[('NN','ns'),:] = stylo_scores_df.loc['NN']\n",
        "stylo_scores_scaled_df.loc[('NN','ss'),:] = 0\n",
        "stylo_scores_scaled_df.loc[('NN','mm'),:] = 0\n",
        "stylo_scores_scaled_df.loc[('NN','pt'),:] = 0\n",
        "\n",
        "tfidf_scores_scaled_df.loc[('NN','ns'),:] = tfidf_scores_df.loc['NN']\n",
        "tfidf_scores_scaled_df.loc[('NN','ss'),:] = 0\n",
        "tfidf_scores_scaled_df.loc[('NN','mm'),:] = 0\n",
        "tfidf_scores_scaled_df.loc[('NN','pt'),:] = 0"
      ],
      "execution_count": null,
      "outputs": []
    },
    {
      "cell_type": "code",
      "metadata": {
        "id": "TK7fncLHS-YK"
      },
      "source": [
        "\n",
        "tfidf_scores_scaled_df.to_csv('tf-idf-scaled-scores.csv')\n",
        "stylo_scores_scaled_df.to_csv('stylo-scaled-scores.csv')"
      ],
      "execution_count": null,
      "outputs": []
    },
    {
      "cell_type": "code",
      "metadata": {
        "id": "1IE179iNaoOs"
      },
      "source": [
        "stylo_scores_scaled_df.rename(index={\"Sem scaling\": \"Sem normalização\", \"ss\": \"Standard Scaler\", \"mm\": \"Min Max\", \"pt\": \"Power Transformer\"}, inplace=True)\n",
        "tfidf_scores_scaled_df.rename(index={\"Sem scaling\": \"Sem normalização\", \"ss\": \"Standard Scaler\", \"mm\": \"Min Max\", \"pt\": \"Power Transformer\"}, inplace=True)"
      ],
      "execution_count": null,
      "outputs": []
    },
    {
      "cell_type": "code",
      "metadata": {
        "id": "EPExIahJTZvl"
      },
      "source": [
        "stylo_scores_scaled_df.loc['NN', 'ss']  = nn_stylo_scaled_df.loc['NN', 'ss']\n",
        "stylo_scores_scaled_df.loc['NN', 'mm']  = nn_stylo_scaled_df.loc['NN', 'mm']\n",
        "stylo_scores_scaled_df.loc['NN', 'pt']  = nn_stylo_scaled_df.loc['NN', 'pt']\n",
        "\n",
        "tfidf_scores_scaled_df.loc['NN', 'ss']  = nn_idf_scaled_df.loc['NN', 'ss']\n",
        "tfidf_scores_scaled_df.loc['NN', 'mm']  = nn_idf_scaled_df.loc['NN', 'mm']\n",
        "tfidf_scores_scaled_df.loc['NN', 'pt']  = nn_idf_scaled_df.loc['NN', 'pt']"
      ],
      "execution_count": null,
      "outputs": []
    },
    {
      "cell_type": "code",
      "metadata": {
        "id": "ELY9g0C3eoxl"
      },
      "source": [
        "tfidf_scores_scaled_df.rename(columns={'acurácia': 'acurácia_varela', 'roc auc': 'roc auc_varela'}, inplace=True)\n",
        "stylo_scores_scaled_df.rename(columns={'acurácia': 'acurácia_varela', 'roc auc': 'roc auc_varela'}, inplace=True)"
      ],
      "execution_count": null,
      "outputs": []
    },
    {
      "cell_type": "code",
      "metadata": {
        "id": "SCoxxOtFgMer"
      },
      "source": [
        "def highlight_max(s):\n",
        "    '''\n",
        "    highlight the maximum in a Series yellow.\n",
        "    '''\n",
        "    is_max = s == s.max()\n",
        "    return ['background-color: yellow' if v else '' for v in is_max]"
      ],
      "execution_count": null,
      "outputs": []
    },
    {
      "cell_type": "code",
      "metadata": {
        "id": "XjbvKgxvfxFv"
      },
      "source": [
        "base_value_student = tfidf_scores_scaled_df.loc['RL'].loc['Sem normalização']['acurácia_estudantes']\n",
        "base_value_news = tfidf_scores_scaled_df.loc['RL'].loc['Sem normalização']['acurácia_notícias']\n",
        "base_value_var = tfidf_scores_scaled_df.loc['RL'].loc['Sem normalização']['acurácia_varela']"
      ],
      "execution_count": null,
      "outputs": []
    },
    {
      "cell_type": "code",
      "metadata": {
        "id": "gZi0xgiDg0tG"
      },
      "source": [
        "stylo_html = stylo_scores_scaled_df.style.highlight_max(color = 'lightgreen', axis = 0)"
      ],
      "execution_count": null,
      "outputs": []
    },
    {
      "cell_type": "code",
      "metadata": {
        "id": "a3VQ44BqjOTc"
      },
      "source": [
        "tfidf_html = tfidf_scores_scaled_df.style.highlight_max(color = 'lightgreen', axis = 0)\n"
      ],
      "execution_count": null,
      "outputs": []
    },
    {
      "cell_type": "code",
      "metadata": {
        "colab": {
          "base_uri": "https://localhost:8080/",
          "height": 124
        },
        "id": "afTlO9Bro-dn",
        "outputId": "601cc528-ba29-40c4-bf3f-8fcb1750347b"
      },
      "source": [
        "stylo_html.render()"
      ],
      "execution_count": null,
      "outputs": [
        {
          "output_type": "execute_result",
          "data": {
            "application/vnd.google.colaboratory.intrinsic+json": {
              "type": "string"
            },
            "text/plain": [
              "'<style  type=\"text/css\" >\\n#T_10031b48_51e1_11eb_a42b_0242ac1c0002row2_col0,#T_10031b48_51e1_11eb_a42b_0242ac1c0002row3_col0,#T_10031b48_51e1_11eb_a42b_0242ac1c0002row19_col4,#T_10031b48_51e1_11eb_a42b_0242ac1c0002row22_col1,#T_10031b48_51e1_11eb_a42b_0242ac1c0002row23_col2,#T_10031b48_51e1_11eb_a42b_0242ac1c0002row23_col3,#T_10031b48_51e1_11eb_a42b_0242ac1c0002row23_col5{\\n            background-color:  lightgreen;\\n        }</style><table id=\"T_10031b48_51e1_11eb_a42b_0242ac1c0002\" ><thead>    <tr>        <th class=\"blank\" ></th>        <th class=\"blank level0\" ></th>        <th class=\"col_heading level0 col0\" >acurácia_estudantes</th>        <th class=\"col_heading level0 col1\" >roc auc_estudantes</th>        <th class=\"col_heading level0 col2\" >acurácia_notícias</th>        <th class=\"col_heading level0 col3\" >roc auc_notícias</th>        <th class=\"col_heading level0 col4\" >acurácia_varela</th>        <th class=\"col_heading level0 col5\" >roc auc_varela</th>    </tr></thead><tbody>\\n                <tr>\\n                        <th id=\"T_10031b48_51e1_11eb_a42b_0242ac1c0002level0_row0\" class=\"row_heading level0 row0\" rowspan=4>RL</th>\\n                        <th id=\"T_10031b48_51e1_11eb_a42b_0242ac1c0002level1_row0\" class=\"row_heading level1 row0\" >Sem normalização</th>\\n                        <td id=\"T_10031b48_51e1_11eb_a42b_0242ac1c0002row0_col0\" class=\"data row0 col0\" >0.153846</td>\\n                        <td id=\"T_10031b48_51e1_11eb_a42b_0242ac1c0002row0_col1\" class=\"data row0 col1\" >0.544461</td>\\n                        <td id=\"T_10031b48_51e1_11eb_a42b_0242ac1c0002row0_col2\" class=\"data row0 col2\" >0.500000</td>\\n                        <td id=\"T_10031b48_51e1_11eb_a42b_0242ac1c0002row0_col3\" class=\"data row0 col3\" >0.722222</td>\\n                        <td id=\"T_10031b48_51e1_11eb_a42b_0242ac1c0002row0_col4\" class=\"data row0 col4\" >0.187778</td>\\n                        <td id=\"T_10031b48_51e1_11eb_a42b_0242ac1c0002row0_col5\" class=\"data row0 col5\" >0.589787</td>\\n            </tr>\\n            <tr>\\n                                <th id=\"T_10031b48_51e1_11eb_a42b_0242ac1c0002level1_row1\" class=\"row_heading level1 row1\" >Standard Scaler</th>\\n                        <td id=\"T_10031b48_51e1_11eb_a42b_0242ac1c0002row1_col0\" class=\"data row1 col0\" >0.153846</td>\\n                        <td id=\"T_10031b48_51e1_11eb_a42b_0242ac1c0002row1_col1\" class=\"data row1 col1\" >0.528132</td>\\n                        <td id=\"T_10031b48_51e1_11eb_a42b_0242ac1c0002row1_col2\" class=\"data row1 col2\" >0.833333</td>\\n                        <td id=\"T_10031b48_51e1_11eb_a42b_0242ac1c0002row1_col3\" class=\"data row1 col3\" >0.907407</td>\\n                        <td id=\"T_10031b48_51e1_11eb_a42b_0242ac1c0002row1_col4\" class=\"data row1 col4\" >0.606667</td>\\n                        <td id=\"T_10031b48_51e1_11eb_a42b_0242ac1c0002row1_col5\" class=\"data row1 col5\" >0.801347</td>\\n            </tr>\\n            <tr>\\n                                <th id=\"T_10031b48_51e1_11eb_a42b_0242ac1c0002level1_row2\" class=\"row_heading level1 row2\" >Min Max</th>\\n                        <td id=\"T_10031b48_51e1_11eb_a42b_0242ac1c0002row2_col0\" class=\"data row2 col0\" >0.230769</td>\\n                        <td id=\"T_10031b48_51e1_11eb_a42b_0242ac1c0002row2_col1\" class=\"data row2 col1\" >0.556891</td>\\n                        <td id=\"T_10031b48_51e1_11eb_a42b_0242ac1c0002row2_col2\" class=\"data row2 col2\" >0.766667</td>\\n                        <td id=\"T_10031b48_51e1_11eb_a42b_0242ac1c0002row2_col3\" class=\"data row2 col3\" >0.870370</td>\\n                        <td id=\"T_10031b48_51e1_11eb_a42b_0242ac1c0002row2_col4\" class=\"data row2 col4\" >0.517778</td>\\n                        <td id=\"T_10031b48_51e1_11eb_a42b_0242ac1c0002row2_col5\" class=\"data row2 col5\" >0.756453</td>\\n            </tr>\\n            <tr>\\n                                <th id=\"T_10031b48_51e1_11eb_a42b_0242ac1c0002level1_row3\" class=\"row_heading level1 row3\" >Power Transformer</th>\\n                        <td id=\"T_10031b48_51e1_11eb_a42b_0242ac1c0002row3_col0\" class=\"data row3 col0\" >0.230769</td>\\n                        <td id=\"T_10031b48_51e1_11eb_a42b_0242ac1c0002row3_col1\" class=\"data row3 col1\" >0.567416</td>\\n                        <td id=\"T_10031b48_51e1_11eb_a42b_0242ac1c0002row3_col2\" class=\"data row3 col2\" >0.766667</td>\\n                        <td id=\"T_10031b48_51e1_11eb_a42b_0242ac1c0002row3_col3\" class=\"data row3 col3\" >0.870370</td>\\n                        <td id=\"T_10031b48_51e1_11eb_a42b_0242ac1c0002row3_col4\" class=\"data row3 col4\" >0.613333</td>\\n                        <td id=\"T_10031b48_51e1_11eb_a42b_0242ac1c0002row3_col5\" class=\"data row3 col5\" >0.804714</td>\\n            </tr>\\n            <tr>\\n                        <th id=\"T_10031b48_51e1_11eb_a42b_0242ac1c0002level0_row4\" class=\"row_heading level0 row4\" rowspan=4>NB Gaus</th>\\n                        <th id=\"T_10031b48_51e1_11eb_a42b_0242ac1c0002level1_row4\" class=\"row_heading level1 row4\" >Sem normalização</th>\\n                        <td id=\"T_10031b48_51e1_11eb_a42b_0242ac1c0002row4_col0\" class=\"data row4 col0\" >0.076923</td>\\n                        <td id=\"T_10031b48_51e1_11eb_a42b_0242ac1c0002row4_col1\" class=\"data row4 col1\" >0.494552</td>\\n                        <td id=\"T_10031b48_51e1_11eb_a42b_0242ac1c0002row4_col2\" class=\"data row4 col2\" >0.833333</td>\\n                        <td id=\"T_10031b48_51e1_11eb_a42b_0242ac1c0002row4_col3\" class=\"data row4 col3\" >0.907407</td>\\n                        <td id=\"T_10031b48_51e1_11eb_a42b_0242ac1c0002row4_col4\" class=\"data row4 col4\" >0.555556</td>\\n                        <td id=\"T_10031b48_51e1_11eb_a42b_0242ac1c0002row4_col5\" class=\"data row4 col5\" >0.775533</td>\\n            </tr>\\n            <tr>\\n                                <th id=\"T_10031b48_51e1_11eb_a42b_0242ac1c0002level1_row5\" class=\"row_heading level1 row5\" >Standard Scaler</th>\\n                        <td id=\"T_10031b48_51e1_11eb_a42b_0242ac1c0002row5_col0\" class=\"data row5 col0\" >0.115385</td>\\n                        <td id=\"T_10031b48_51e1_11eb_a42b_0242ac1c0002row5_col1\" class=\"data row5 col1\" >0.500226</td>\\n                        <td id=\"T_10031b48_51e1_11eb_a42b_0242ac1c0002row5_col2\" class=\"data row5 col2\" >0.100000</td>\\n                        <td id=\"T_10031b48_51e1_11eb_a42b_0242ac1c0002row5_col3\" class=\"data row5 col3\" >0.500000</td>\\n                        <td id=\"T_10031b48_51e1_11eb_a42b_0242ac1c0002row5_col4\" class=\"data row5 col4\" >0.038889</td>\\n                        <td id=\"T_10031b48_51e1_11eb_a42b_0242ac1c0002row5_col5\" class=\"data row5 col5\" >0.514590</td>\\n            </tr>\\n            <tr>\\n                                <th id=\"T_10031b48_51e1_11eb_a42b_0242ac1c0002level1_row6\" class=\"row_heading level1 row6\" >Min Max</th>\\n                        <td id=\"T_10031b48_51e1_11eb_a42b_0242ac1c0002row6_col0\" class=\"data row6 col0\" >0.076923</td>\\n                        <td id=\"T_10031b48_51e1_11eb_a42b_0242ac1c0002row6_col1\" class=\"data row6 col1\" >0.494112</td>\\n                        <td id=\"T_10031b48_51e1_11eb_a42b_0242ac1c0002row6_col2\" class=\"data row6 col2\" >0.200000</td>\\n                        <td id=\"T_10031b48_51e1_11eb_a42b_0242ac1c0002row6_col3\" class=\"data row6 col3\" >0.555556</td>\\n                        <td id=\"T_10031b48_51e1_11eb_a42b_0242ac1c0002row6_col4\" class=\"data row6 col4\" >0.134444</td>\\n                        <td id=\"T_10031b48_51e1_11eb_a42b_0242ac1c0002row6_col5\" class=\"data row6 col5\" >0.562851</td>\\n            </tr>\\n            <tr>\\n                                <th id=\"T_10031b48_51e1_11eb_a42b_0242ac1c0002level1_row7\" class=\"row_heading level1 row7\" >Power Transformer</th>\\n                        <td id=\"T_10031b48_51e1_11eb_a42b_0242ac1c0002row7_col0\" class=\"data row7 col0\" >0.038462</td>\\n                        <td id=\"T_10031b48_51e1_11eb_a42b_0242ac1c0002row7_col1\" class=\"data row7 col1\" >0.482960</td>\\n                        <td id=\"T_10031b48_51e1_11eb_a42b_0242ac1c0002row7_col2\" class=\"data row7 col2\" >0.100000</td>\\n                        <td id=\"T_10031b48_51e1_11eb_a42b_0242ac1c0002row7_col3\" class=\"data row7 col3\" >0.500000</td>\\n                        <td id=\"T_10031b48_51e1_11eb_a42b_0242ac1c0002row7_col4\" class=\"data row7 col4\" >0.038889</td>\\n                        <td id=\"T_10031b48_51e1_11eb_a42b_0242ac1c0002row7_col5\" class=\"data row7 col5\" >0.514590</td>\\n            </tr>\\n            <tr>\\n                        <th id=\"T_10031b48_51e1_11eb_a42b_0242ac1c0002level0_row8\" class=\"row_heading level0 row8\" rowspan=4>Random Forest</th>\\n                        <th id=\"T_10031b48_51e1_11eb_a42b_0242ac1c0002level1_row8\" class=\"row_heading level1 row8\" >Sem normalização</th>\\n                        <td id=\"T_10031b48_51e1_11eb_a42b_0242ac1c0002row8_col0\" class=\"data row8 col0\" >0.115385</td>\\n                        <td id=\"T_10031b48_51e1_11eb_a42b_0242ac1c0002row8_col1\" class=\"data row8 col1\" >0.511313</td>\\n                        <td id=\"T_10031b48_51e1_11eb_a42b_0242ac1c0002row8_col2\" class=\"data row8 col2\" >0.766667</td>\\n                        <td id=\"T_10031b48_51e1_11eb_a42b_0242ac1c0002row8_col3\" class=\"data row8 col3\" >0.870370</td>\\n                        <td id=\"T_10031b48_51e1_11eb_a42b_0242ac1c0002row8_col4\" class=\"data row8 col4\" >0.561111</td>\\n                        <td id=\"T_10031b48_51e1_11eb_a42b_0242ac1c0002row8_col5\" class=\"data row8 col5\" >0.778339</td>\\n            </tr>\\n            <tr>\\n                                <th id=\"T_10031b48_51e1_11eb_a42b_0242ac1c0002level1_row9\" class=\"row_heading level1 row9\" >Standard Scaler</th>\\n                        <td id=\"T_10031b48_51e1_11eb_a42b_0242ac1c0002row9_col0\" class=\"data row9 col0\" >0.115385</td>\\n                        <td id=\"T_10031b48_51e1_11eb_a42b_0242ac1c0002row9_col1\" class=\"data row9 col1\" >0.511356</td>\\n                        <td id=\"T_10031b48_51e1_11eb_a42b_0242ac1c0002row9_col2\" class=\"data row9 col2\" >0.733333</td>\\n                        <td id=\"T_10031b48_51e1_11eb_a42b_0242ac1c0002row9_col3\" class=\"data row9 col3\" >0.851852</td>\\n                        <td id=\"T_10031b48_51e1_11eb_a42b_0242ac1c0002row9_col4\" class=\"data row9 col4\" >0.561111</td>\\n                        <td id=\"T_10031b48_51e1_11eb_a42b_0242ac1c0002row9_col5\" class=\"data row9 col5\" >0.778339</td>\\n            </tr>\\n            <tr>\\n                                <th id=\"T_10031b48_51e1_11eb_a42b_0242ac1c0002level1_row10\" class=\"row_heading level1 row10\" >Min Max</th>\\n                        <td id=\"T_10031b48_51e1_11eb_a42b_0242ac1c0002row10_col0\" class=\"data row10 col0\" >0.153846</td>\\n                        <td id=\"T_10031b48_51e1_11eb_a42b_0242ac1c0002row10_col1\" class=\"data row10 col1\" >0.528193</td>\\n                        <td id=\"T_10031b48_51e1_11eb_a42b_0242ac1c0002row10_col2\" class=\"data row10 col2\" >0.633333</td>\\n                        <td id=\"T_10031b48_51e1_11eb_a42b_0242ac1c0002row10_col3\" class=\"data row10 col3\" >0.796296</td>\\n                        <td id=\"T_10031b48_51e1_11eb_a42b_0242ac1c0002row10_col4\" class=\"data row10 col4\" >0.450000</td>\\n                        <td id=\"T_10031b48_51e1_11eb_a42b_0242ac1c0002row10_col5\" class=\"data row10 col5\" >0.722222</td>\\n            </tr>\\n            <tr>\\n                                <th id=\"T_10031b48_51e1_11eb_a42b_0242ac1c0002level1_row11\" class=\"row_heading level1 row11\" >Power Transformer</th>\\n                        <td id=\"T_10031b48_51e1_11eb_a42b_0242ac1c0002row11_col0\" class=\"data row11 col0\" >0.115385</td>\\n                        <td id=\"T_10031b48_51e1_11eb_a42b_0242ac1c0002row11_col1\" class=\"data row11 col1\" >0.506105</td>\\n                        <td id=\"T_10031b48_51e1_11eb_a42b_0242ac1c0002row11_col2\" class=\"data row11 col2\" >0.666667</td>\\n                        <td id=\"T_10031b48_51e1_11eb_a42b_0242ac1c0002row11_col3\" class=\"data row11 col3\" >0.814815</td>\\n                        <td id=\"T_10031b48_51e1_11eb_a42b_0242ac1c0002row11_col4\" class=\"data row11 col4\" >0.570000</td>\\n                        <td id=\"T_10031b48_51e1_11eb_a42b_0242ac1c0002row11_col5\" class=\"data row11 col5\" >0.782828</td>\\n            </tr>\\n            <tr>\\n                        <th id=\"T_10031b48_51e1_11eb_a42b_0242ac1c0002level0_row12\" class=\"row_heading level0 row12\" rowspan=4>Árvores Extra</th>\\n                        <th id=\"T_10031b48_51e1_11eb_a42b_0242ac1c0002level1_row12\" class=\"row_heading level1 row12\" >Sem normalização</th>\\n                        <td id=\"T_10031b48_51e1_11eb_a42b_0242ac1c0002row12_col0\" class=\"data row12 col0\" >0.153846</td>\\n                        <td id=\"T_10031b48_51e1_11eb_a42b_0242ac1c0002row12_col1\" class=\"data row12 col1\" >0.543918</td>\\n                        <td id=\"T_10031b48_51e1_11eb_a42b_0242ac1c0002row12_col2\" class=\"data row12 col2\" >0.833333</td>\\n                        <td id=\"T_10031b48_51e1_11eb_a42b_0242ac1c0002row12_col3\" class=\"data row12 col3\" >0.907407</td>\\n                        <td id=\"T_10031b48_51e1_11eb_a42b_0242ac1c0002row12_col4\" class=\"data row12 col4\" >0.572222</td>\\n                        <td id=\"T_10031b48_51e1_11eb_a42b_0242ac1c0002row12_col5\" class=\"data row12 col5\" >0.783951</td>\\n            </tr>\\n            <tr>\\n                                <th id=\"T_10031b48_51e1_11eb_a42b_0242ac1c0002level1_row13\" class=\"row_heading level1 row13\" >Standard Scaler</th>\\n                        <td id=\"T_10031b48_51e1_11eb_a42b_0242ac1c0002row13_col0\" class=\"data row13 col0\" >0.115385</td>\\n                        <td id=\"T_10031b48_51e1_11eb_a42b_0242ac1c0002row13_col1\" class=\"data row13 col1\" >0.505996</td>\\n                        <td id=\"T_10031b48_51e1_11eb_a42b_0242ac1c0002row13_col2\" class=\"data row13 col2\" >0.733333</td>\\n                        <td id=\"T_10031b48_51e1_11eb_a42b_0242ac1c0002row13_col3\" class=\"data row13 col3\" >0.851852</td>\\n                        <td id=\"T_10031b48_51e1_11eb_a42b_0242ac1c0002row13_col4\" class=\"data row13 col4\" >0.570000</td>\\n                        <td id=\"T_10031b48_51e1_11eb_a42b_0242ac1c0002row13_col5\" class=\"data row13 col5\" >0.782828</td>\\n            </tr>\\n            <tr>\\n                                <th id=\"T_10031b48_51e1_11eb_a42b_0242ac1c0002level1_row14\" class=\"row_heading level1 row14\" >Min Max</th>\\n                        <td id=\"T_10031b48_51e1_11eb_a42b_0242ac1c0002row14_col0\" class=\"data row14 col0\" >0.115385</td>\\n                        <td id=\"T_10031b48_51e1_11eb_a42b_0242ac1c0002row14_col1\" class=\"data row14 col1\" >0.511148</td>\\n                        <td id=\"T_10031b48_51e1_11eb_a42b_0242ac1c0002row14_col2\" class=\"data row14 col2\" >0.500000</td>\\n                        <td id=\"T_10031b48_51e1_11eb_a42b_0242ac1c0002row14_col3\" class=\"data row14 col3\" >0.722222</td>\\n                        <td id=\"T_10031b48_51e1_11eb_a42b_0242ac1c0002row14_col4\" class=\"data row14 col4\" >0.432222</td>\\n                        <td id=\"T_10031b48_51e1_11eb_a42b_0242ac1c0002row14_col5\" class=\"data row14 col5\" >0.713244</td>\\n            </tr>\\n            <tr>\\n                                <th id=\"T_10031b48_51e1_11eb_a42b_0242ac1c0002level1_row15\" class=\"row_heading level1 row15\" >Power Transformer</th>\\n                        <td id=\"T_10031b48_51e1_11eb_a42b_0242ac1c0002row15_col0\" class=\"data row15 col0\" >0.192308</td>\\n                        <td id=\"T_10031b48_51e1_11eb_a42b_0242ac1c0002row15_col1\" class=\"data row15 col1\" >0.539964</td>\\n                        <td id=\"T_10031b48_51e1_11eb_a42b_0242ac1c0002row15_col2\" class=\"data row15 col2\" >0.800000</td>\\n                        <td id=\"T_10031b48_51e1_11eb_a42b_0242ac1c0002row15_col3\" class=\"data row15 col3\" >0.888889</td>\\n                        <td id=\"T_10031b48_51e1_11eb_a42b_0242ac1c0002row15_col4\" class=\"data row15 col4\" >0.594444</td>\\n                        <td id=\"T_10031b48_51e1_11eb_a42b_0242ac1c0002row15_col5\" class=\"data row15 col5\" >0.795174</td>\\n            </tr>\\n            <tr>\\n                        <th id=\"T_10031b48_51e1_11eb_a42b_0242ac1c0002level0_row16\" class=\"row_heading level0 row16\" rowspan=4>MLP</th>\\n                        <th id=\"T_10031b48_51e1_11eb_a42b_0242ac1c0002level1_row16\" class=\"row_heading level1 row16\" >Sem normalização</th>\\n                        <td id=\"T_10031b48_51e1_11eb_a42b_0242ac1c0002row16_col0\" class=\"data row16 col0\" >0.115385</td>\\n                        <td id=\"T_10031b48_51e1_11eb_a42b_0242ac1c0002row16_col1\" class=\"data row16 col1\" >0.532751</td>\\n                        <td id=\"T_10031b48_51e1_11eb_a42b_0242ac1c0002row16_col2\" class=\"data row16 col2\" >0.400000</td>\\n                        <td id=\"T_10031b48_51e1_11eb_a42b_0242ac1c0002row16_col3\" class=\"data row16 col3\" >0.666667</td>\\n                        <td id=\"T_10031b48_51e1_11eb_a42b_0242ac1c0002row16_col4\" class=\"data row16 col4\" >0.244444</td>\\n                        <td id=\"T_10031b48_51e1_11eb_a42b_0242ac1c0002row16_col5\" class=\"data row16 col5\" >0.618406</td>\\n            </tr>\\n            <tr>\\n                                <th id=\"T_10031b48_51e1_11eb_a42b_0242ac1c0002level1_row17\" class=\"row_heading level1 row17\" >Standard Scaler</th>\\n                        <td id=\"T_10031b48_51e1_11eb_a42b_0242ac1c0002row17_col0\" class=\"data row17 col0\" >0.192308</td>\\n                        <td id=\"T_10031b48_51e1_11eb_a42b_0242ac1c0002row17_col1\" class=\"data row17 col1\" >0.555806</td>\\n                        <td id=\"T_10031b48_51e1_11eb_a42b_0242ac1c0002row17_col2\" class=\"data row17 col2\" >0.833333</td>\\n                        <td id=\"T_10031b48_51e1_11eb_a42b_0242ac1c0002row17_col3\" class=\"data row17 col3\" >0.907407</td>\\n                        <td id=\"T_10031b48_51e1_11eb_a42b_0242ac1c0002row17_col4\" class=\"data row17 col4\" >0.596667</td>\\n                        <td id=\"T_10031b48_51e1_11eb_a42b_0242ac1c0002row17_col5\" class=\"data row17 col5\" >0.796296</td>\\n            </tr>\\n            <tr>\\n                                <th id=\"T_10031b48_51e1_11eb_a42b_0242ac1c0002level1_row18\" class=\"row_heading level1 row18\" >Min Max</th>\\n                        <td id=\"T_10031b48_51e1_11eb_a42b_0242ac1c0002row18_col0\" class=\"data row18 col0\" >0.115385</td>\\n                        <td id=\"T_10031b48_51e1_11eb_a42b_0242ac1c0002row18_col1\" class=\"data row18 col1\" >0.516639</td>\\n                        <td id=\"T_10031b48_51e1_11eb_a42b_0242ac1c0002row18_col2\" class=\"data row18 col2\" >0.600000</td>\\n                        <td id=\"T_10031b48_51e1_11eb_a42b_0242ac1c0002row18_col3\" class=\"data row18 col3\" >0.777778</td>\\n                        <td id=\"T_10031b48_51e1_11eb_a42b_0242ac1c0002row18_col4\" class=\"data row18 col4\" >0.556667</td>\\n                        <td id=\"T_10031b48_51e1_11eb_a42b_0242ac1c0002row18_col5\" class=\"data row18 col5\" >0.776094</td>\\n            </tr>\\n            <tr>\\n                                <th id=\"T_10031b48_51e1_11eb_a42b_0242ac1c0002level1_row19\" class=\"row_heading level1 row19\" >Power Transformer</th>\\n                        <td id=\"T_10031b48_51e1_11eb_a42b_0242ac1c0002row19_col0\" class=\"data row19 col0\" >0.192308</td>\\n                        <td id=\"T_10031b48_51e1_11eb_a42b_0242ac1c0002row19_col1\" class=\"data row19 col1\" >0.534973</td>\\n                        <td id=\"T_10031b48_51e1_11eb_a42b_0242ac1c0002row19_col2\" class=\"data row19 col2\" >0.800000</td>\\n                        <td id=\"T_10031b48_51e1_11eb_a42b_0242ac1c0002row19_col3\" class=\"data row19 col3\" >0.888889</td>\\n                        <td id=\"T_10031b48_51e1_11eb_a42b_0242ac1c0002row19_col4\" class=\"data row19 col4\" >0.623333</td>\\n                        <td id=\"T_10031b48_51e1_11eb_a42b_0242ac1c0002row19_col5\" class=\"data row19 col5\" >0.809764</td>\\n            </tr>\\n            <tr>\\n                        <th id=\"T_10031b48_51e1_11eb_a42b_0242ac1c0002level0_row20\" class=\"row_heading level0 row20\" rowspan=4>NN</th>\\n                        <th id=\"T_10031b48_51e1_11eb_a42b_0242ac1c0002level1_row20\" class=\"row_heading level1 row20\" >Sem normalização</th>\\n                        <td id=\"T_10031b48_51e1_11eb_a42b_0242ac1c0002row20_col0\" class=\"data row20 col0\" >0.095238</td>\\n                        <td id=\"T_10031b48_51e1_11eb_a42b_0242ac1c0002row20_col1\" class=\"data row20 col1\" >0.584127</td>\\n                        <td id=\"T_10031b48_51e1_11eb_a42b_0242ac1c0002row20_col2\" class=\"data row20 col2\" >0.120000</td>\\n                        <td id=\"T_10031b48_51e1_11eb_a42b_0242ac1c0002row20_col3\" class=\"data row20 col3\" >0.584889</td>\\n                        <td id=\"T_10031b48_51e1_11eb_a42b_0242ac1c0002row20_col4\" class=\"data row20 col4\" >0.009333</td>\\n                        <td id=\"T_10031b48_51e1_11eb_a42b_0242ac1c0002row20_col5\" class=\"data row20 col5\" >0.860000</td>\\n            </tr>\\n            <tr>\\n                                <th id=\"T_10031b48_51e1_11eb_a42b_0242ac1c0002level1_row21\" class=\"row_heading level1 row21\" >Standard Scaler</th>\\n                        <td id=\"T_10031b48_51e1_11eb_a42b_0242ac1c0002row21_col0\" class=\"data row21 col0\" >0.192308</td>\\n                        <td id=\"T_10031b48_51e1_11eb_a42b_0242ac1c0002row21_col1\" class=\"data row21 col1\" >0.654438</td>\\n                        <td id=\"T_10031b48_51e1_11eb_a42b_0242ac1c0002row21_col2\" class=\"data row21 col2\" >0.900000</td>\\n                        <td id=\"T_10031b48_51e1_11eb_a42b_0242ac1c0002row21_col3\" class=\"data row21 col3\" >0.994198</td>\\n                        <td id=\"T_10031b48_51e1_11eb_a42b_0242ac1c0002row21_col4\" class=\"data row21 col4\" >0.571111</td>\\n                        <td id=\"T_10031b48_51e1_11eb_a42b_0242ac1c0002row21_col5\" class=\"data row21 col5\" >0.970950</td>\\n            </tr>\\n            <tr>\\n                                <th id=\"T_10031b48_51e1_11eb_a42b_0242ac1c0002level1_row22\" class=\"row_heading level1 row22\" >Min Max</th>\\n                        <td id=\"T_10031b48_51e1_11eb_a42b_0242ac1c0002row22_col0\" class=\"data row22 col0\" >0.153846</td>\\n                        <td id=\"T_10031b48_51e1_11eb_a42b_0242ac1c0002row22_col1\" class=\"data row22 col1\" >0.661341</td>\\n                        <td id=\"T_10031b48_51e1_11eb_a42b_0242ac1c0002row22_col2\" class=\"data row22 col2\" >0.666667</td>\\n                        <td id=\"T_10031b48_51e1_11eb_a42b_0242ac1c0002row22_col3\" class=\"data row22 col3\" >0.944938</td>\\n                        <td id=\"T_10031b48_51e1_11eb_a42b_0242ac1c0002row22_col4\" class=\"data row22 col4\" >0.342222</td>\\n                        <td id=\"T_10031b48_51e1_11eb_a42b_0242ac1c0002row22_col5\" class=\"data row22 col5\" >0.944678</td>\\n            </tr>\\n            <tr>\\n                                <th id=\"T_10031b48_51e1_11eb_a42b_0242ac1c0002level1_row23\" class=\"row_heading level1 row23\" >Power Transformer</th>\\n                        <td id=\"T_10031b48_51e1_11eb_a42b_0242ac1c0002row23_col0\" class=\"data row23 col0\" >0.076923</td>\\n                        <td id=\"T_10031b48_51e1_11eb_a42b_0242ac1c0002row23_col1\" class=\"data row23 col1\" >0.596252</td>\\n                        <td id=\"T_10031b48_51e1_11eb_a42b_0242ac1c0002row23_col2\" class=\"data row23 col2\" >0.933333</td>\\n                        <td id=\"T_10031b48_51e1_11eb_a42b_0242ac1c0002row23_col3\" class=\"data row23 col3\" >0.998272</td>\\n                        <td id=\"T_10031b48_51e1_11eb_a42b_0242ac1c0002row23_col4\" class=\"data row23 col4\" >0.536667</td>\\n                        <td id=\"T_10031b48_51e1_11eb_a42b_0242ac1c0002row23_col5\" class=\"data row23 col5\" >0.975654</td>\\n            </tr>\\n    </tbody></table>'"
            ]
          },
          "metadata": {
            "tags": []
          },
          "execution_count": 200
        }
      ]
    },
    {
      "cell_type": "code",
      "metadata": {
        "id": "DetzMRyEoVs4"
      },
      "source": [
        "def highlight_min(data):\n",
        "    color= 'lightgreen'\n",
        "    attr = 'background-color: {}'.format(color)\n",
        "    print(data.ndim)\n",
        "    if data.ndim == 1:  # Series from .apply(axis=0) or axis=1\n",
        "        is_max = data == data.max()\n",
        "        return [attr if v else '' for v in is_max]\n",
        "    else: \n",
        "        is_max = data.groupby(level=0).transform('max') == data\n",
        "        return pd.DataFrame(np.where(is_max, attr, ''), index=data.index, columns=data.columns)\n",
        "        \n",
        "\n",
        "highlight_df = tfidf_scores_scaled_df.style.apply(highlight_min, axis=None)\n"
      ],
      "execution_count": null,
      "outputs": []
    },
    {
      "cell_type": "code",
      "metadata": {
        "id": "EoC9O3t6Oa2_"
      },
      "source": [
        "stylo_scores_scaled_df.loc['NN'].loc['Sem normalização']['roc auc_varela'] = 0.5"
      ],
      "execution_count": null,
      "outputs": []
    },
    {
      "cell_type": "code",
      "metadata": {
        "id": "DjEZPI3e3X_r"
      },
      "source": [
        "highlight_df_stylo = stylo_scores_scaled_df.style.apply(highlight_min, axis=None)"
      ],
      "execution_count": null,
      "outputs": []
    },
    {
      "cell_type": "code",
      "metadata": {
        "id": "9L_kFlC2sSPt"
      },
      "source": [
        "style = tfidf_scores_scaled_df.style.highlight_min(axis=0)"
      ],
      "execution_count": null,
      "outputs": []
    },
    {
      "cell_type": "code",
      "metadata": {
        "colab": {
          "base_uri": "https://localhost:8080/",
          "height": 142
        },
        "id": "1NwvmzEeqZT8",
        "outputId": "71da4562-c1af-41bd-9fbf-f3f695247a5d"
      },
      "source": [
        "highlight_df.render()"
      ],
      "execution_count": null,
      "outputs": [
        {
          "output_type": "stream",
          "text": [
            "2\n"
          ],
          "name": "stdout"
        },
        {
          "output_type": "execute_result",
          "data": {
            "application/vnd.google.colaboratory.intrinsic+json": {
              "type": "string"
            },
            "text/plain": [
              "'<style  type=\"text/css\" >\\n#T_f13a999c_51c8_11eb_a42b_0242ac1c0002row0_col2,#T_f13a999c_51c8_11eb_a42b_0242ac1c0002row0_col3,#T_f13a999c_51c8_11eb_a42b_0242ac1c0002row2_col2,#T_f13a999c_51c8_11eb_a42b_0242ac1c0002row2_col3,#T_f13a999c_51c8_11eb_a42b_0242ac1c0002row2_col4,#T_f13a999c_51c8_11eb_a42b_0242ac1c0002row2_col5,#T_f13a999c_51c8_11eb_a42b_0242ac1c0002row3_col0,#T_f13a999c_51c8_11eb_a42b_0242ac1c0002row3_col1,#T_f13a999c_51c8_11eb_a42b_0242ac1c0002row6_col0,#T_f13a999c_51c8_11eb_a42b_0242ac1c0002row6_col1,#T_f13a999c_51c8_11eb_a42b_0242ac1c0002row6_col2,#T_f13a999c_51c8_11eb_a42b_0242ac1c0002row6_col3,#T_f13a999c_51c8_11eb_a42b_0242ac1c0002row7_col4,#T_f13a999c_51c8_11eb_a42b_0242ac1c0002row7_col5,#T_f13a999c_51c8_11eb_a42b_0242ac1c0002row8_col2,#T_f13a999c_51c8_11eb_a42b_0242ac1c0002row8_col3,#T_f13a999c_51c8_11eb_a42b_0242ac1c0002row8_col4,#T_f13a999c_51c8_11eb_a42b_0242ac1c0002row8_col5,#T_f13a999c_51c8_11eb_a42b_0242ac1c0002row9_col0,#T_f13a999c_51c8_11eb_a42b_0242ac1c0002row9_col1,#T_f13a999c_51c8_11eb_a42b_0242ac1c0002row9_col2,#T_f13a999c_51c8_11eb_a42b_0242ac1c0002row10_col2,#T_f13a999c_51c8_11eb_a42b_0242ac1c0002row12_col0,#T_f13a999c_51c8_11eb_a42b_0242ac1c0002row12_col1,#T_f13a999c_51c8_11eb_a42b_0242ac1c0002row13_col2,#T_f13a999c_51c8_11eb_a42b_0242ac1c0002row13_col3,#T_f13a999c_51c8_11eb_a42b_0242ac1c0002row13_col4,#T_f13a999c_51c8_11eb_a42b_0242ac1c0002row13_col5,#T_f13a999c_51c8_11eb_a42b_0242ac1c0002row16_col2,#T_f13a999c_51c8_11eb_a42b_0242ac1c0002row16_col3,#T_f13a999c_51c8_11eb_a42b_0242ac1c0002row16_col4,#T_f13a999c_51c8_11eb_a42b_0242ac1c0002row16_col5,#T_f13a999c_51c8_11eb_a42b_0242ac1c0002row19_col0,#T_f13a999c_51c8_11eb_a42b_0242ac1c0002row19_col1,#T_f13a999c_51c8_11eb_a42b_0242ac1c0002row20_col1,#T_f13a999c_51c8_11eb_a42b_0242ac1c0002row21_col0,#T_f13a999c_51c8_11eb_a42b_0242ac1c0002row21_col3,#T_f13a999c_51c8_11eb_a42b_0242ac1c0002row22_col4,#T_f13a999c_51c8_11eb_a42b_0242ac1c0002row22_col5,#T_f13a999c_51c8_11eb_a42b_0242ac1c0002row23_col2{\\n            background-color:  lightgreen;\\n            background-color:  lightgreen;\\n            background-color:  lightgreen;\\n        }</style><table id=\"T_f13a999c_51c8_11eb_a42b_0242ac1c0002\" ><thead>    <tr>        <th class=\"blank\" ></th>        <th class=\"blank level0\" ></th>        <th class=\"col_heading level0 col0\" >acurácia_estudantes</th>        <th class=\"col_heading level0 col1\" >roc auc_estudantes</th>        <th class=\"col_heading level0 col2\" >acurácia_notícias</th>        <th class=\"col_heading level0 col3\" >roc auc_notícias</th>        <th class=\"col_heading level0 col4\" >acurácia_varela</th>        <th class=\"col_heading level0 col5\" >roc auc_varela</th>    </tr></thead><tbody>\\n                <tr>\\n                        <th id=\"T_f13a999c_51c8_11eb_a42b_0242ac1c0002level0_row0\" class=\"row_heading level0 row0\" rowspan=4>RL</th>\\n                        <th id=\"T_f13a999c_51c8_11eb_a42b_0242ac1c0002level1_row0\" class=\"row_heading level1 row0\" >Sem normalização</th>\\n                        <td id=\"T_f13a999c_51c8_11eb_a42b_0242ac1c0002row0_col0\" class=\"data row0 col0\" >0.095238</td>\\n                        <td id=\"T_f13a999c_51c8_11eb_a42b_0242ac1c0002row0_col1\" class=\"data row0 col1\" >0.500000</td>\\n                        <td id=\"T_f13a999c_51c8_11eb_a42b_0242ac1c0002row0_col2\" class=\"data row0 col2\" >0.833333</td>\\n                        <td id=\"T_f13a999c_51c8_11eb_a42b_0242ac1c0002row0_col3\" class=\"data row0 col3\" >0.907407</td>\\n                        <td id=\"T_f13a999c_51c8_11eb_a42b_0242ac1c0002row0_col4\" class=\"data row0 col4\" >0.762222</td>\\n                        <td id=\"T_f13a999c_51c8_11eb_a42b_0242ac1c0002row0_col5\" class=\"data row0 col5\" >0.879910</td>\\n            </tr>\\n            <tr>\\n                                <th id=\"T_f13a999c_51c8_11eb_a42b_0242ac1c0002level1_row1\" class=\"row_heading level1 row1\" >Standard Scaler</th>\\n                        <td id=\"T_f13a999c_51c8_11eb_a42b_0242ac1c0002row1_col0\" class=\"data row1 col0\" >0.095238</td>\\n                        <td id=\"T_f13a999c_51c8_11eb_a42b_0242ac1c0002row1_col1\" class=\"data row1 col1\" >0.500000</td>\\n                        <td id=\"T_f13a999c_51c8_11eb_a42b_0242ac1c0002row1_col2\" class=\"data row1 col2\" >0.800000</td>\\n                        <td id=\"T_f13a999c_51c8_11eb_a42b_0242ac1c0002row1_col3\" class=\"data row1 col3\" >0.888889</td>\\n                        <td id=\"T_f13a999c_51c8_11eb_a42b_0242ac1c0002row1_col4\" class=\"data row1 col4\" >0.788889</td>\\n                        <td id=\"T_f13a999c_51c8_11eb_a42b_0242ac1c0002row1_col5\" class=\"data row1 col5\" >0.893378</td>\\n            </tr>\\n            <tr>\\n                                <th id=\"T_f13a999c_51c8_11eb_a42b_0242ac1c0002level1_row2\" class=\"row_heading level1 row2\" >Min Max</th>\\n                        <td id=\"T_f13a999c_51c8_11eb_a42b_0242ac1c0002row2_col0\" class=\"data row2 col0\" >0.142857</td>\\n                        <td id=\"T_f13a999c_51c8_11eb_a42b_0242ac1c0002row2_col1\" class=\"data row2 col1\" >0.517352</td>\\n                        <td id=\"T_f13a999c_51c8_11eb_a42b_0242ac1c0002row2_col2\" class=\"data row2 col2\" >0.833333</td>\\n                        <td id=\"T_f13a999c_51c8_11eb_a42b_0242ac1c0002row2_col3\" class=\"data row2 col3\" >0.907407</td>\\n                        <td id=\"T_f13a999c_51c8_11eb_a42b_0242ac1c0002row2_col4\" class=\"data row2 col4\" >0.864444</td>\\n                        <td id=\"T_f13a999c_51c8_11eb_a42b_0242ac1c0002row2_col5\" class=\"data row2 col5\" >0.931538</td>\\n            </tr>\\n            <tr>\\n                                <th id=\"T_f13a999c_51c8_11eb_a42b_0242ac1c0002level1_row3\" class=\"row_heading level1 row3\" >Power Transformer</th>\\n                        <td id=\"T_f13a999c_51c8_11eb_a42b_0242ac1c0002row3_col0\" class=\"data row3 col0\" >0.190476</td>\\n                        <td id=\"T_f13a999c_51c8_11eb_a42b_0242ac1c0002row3_col1\" class=\"data row3 col1\" >0.534539</td>\\n                        <td id=\"T_f13a999c_51c8_11eb_a42b_0242ac1c0002row3_col2\" class=\"data row3 col2\" >0.766667</td>\\n                        <td id=\"T_f13a999c_51c8_11eb_a42b_0242ac1c0002row3_col3\" class=\"data row3 col3\" >0.870370</td>\\n                        <td id=\"T_f13a999c_51c8_11eb_a42b_0242ac1c0002row3_col4\" class=\"data row3 col4\" >0.776667</td>\\n                        <td id=\"T_f13a999c_51c8_11eb_a42b_0242ac1c0002row3_col5\" class=\"data row3 col5\" >0.887205</td>\\n            </tr>\\n            <tr>\\n                        <th id=\"T_f13a999c_51c8_11eb_a42b_0242ac1c0002level0_row4\" class=\"row_heading level0 row4\" rowspan=4>NB Gaus</th>\\n                        <th id=\"T_f13a999c_51c8_11eb_a42b_0242ac1c0002level1_row4\" class=\"row_heading level1 row4\" >Sem normalização</th>\\n                        <td id=\"T_f13a999c_51c8_11eb_a42b_0242ac1c0002row4_col0\" class=\"data row4 col0\" >0.095238</td>\\n                        <td id=\"T_f13a999c_51c8_11eb_a42b_0242ac1c0002row4_col1\" class=\"data row4 col1\" >0.516201</td>\\n                        <td id=\"T_f13a999c_51c8_11eb_a42b_0242ac1c0002row4_col2\" class=\"data row4 col2\" >0.733333</td>\\n                        <td id=\"T_f13a999c_51c8_11eb_a42b_0242ac1c0002row4_col3\" class=\"data row4 col3\" >0.851852</td>\\n                        <td id=\"T_f13a999c_51c8_11eb_a42b_0242ac1c0002row4_col4\" class=\"data row4 col4\" >0.604444</td>\\n                        <td id=\"T_f13a999c_51c8_11eb_a42b_0242ac1c0002row4_col5\" class=\"data row4 col5\" >0.800224</td>\\n            </tr>\\n            <tr>\\n                                <th id=\"T_f13a999c_51c8_11eb_a42b_0242ac1c0002level1_row5\" class=\"row_heading level1 row5\" >Standard Scaler</th>\\n                        <td id=\"T_f13a999c_51c8_11eb_a42b_0242ac1c0002row5_col0\" class=\"data row5 col0\" >0.142857</td>\\n                        <td id=\"T_f13a999c_51c8_11eb_a42b_0242ac1c0002row5_col1\" class=\"data row5 col1\" >0.533141</td>\\n                        <td id=\"T_f13a999c_51c8_11eb_a42b_0242ac1c0002row5_col2\" class=\"data row5 col2\" >0.733333</td>\\n                        <td id=\"T_f13a999c_51c8_11eb_a42b_0242ac1c0002row5_col3\" class=\"data row5 col3\" >0.851852</td>\\n                        <td id=\"T_f13a999c_51c8_11eb_a42b_0242ac1c0002row5_col4\" class=\"data row5 col4\" >0.622222</td>\\n                        <td id=\"T_f13a999c_51c8_11eb_a42b_0242ac1c0002row5_col5\" class=\"data row5 col5\" >0.809203</td>\\n            </tr>\\n            <tr>\\n                                <th id=\"T_f13a999c_51c8_11eb_a42b_0242ac1c0002level1_row6\" class=\"row_heading level1 row6\" >Min Max</th>\\n                        <td id=\"T_f13a999c_51c8_11eb_a42b_0242ac1c0002row6_col0\" class=\"data row6 col0\" >0.190476</td>\\n                        <td id=\"T_f13a999c_51c8_11eb_a42b_0242ac1c0002row6_col1\" class=\"data row6 col1\" >0.565954</td>\\n                        <td id=\"T_f13a999c_51c8_11eb_a42b_0242ac1c0002row6_col2\" class=\"data row6 col2\" >0.766667</td>\\n                        <td id=\"T_f13a999c_51c8_11eb_a42b_0242ac1c0002row6_col3\" class=\"data row6 col3\" >0.870370</td>\\n                        <td id=\"T_f13a999c_51c8_11eb_a42b_0242ac1c0002row6_col4\" class=\"data row6 col4\" >0.604444</td>\\n                        <td id=\"T_f13a999c_51c8_11eb_a42b_0242ac1c0002row6_col5\" class=\"data row6 col5\" >0.800224</td>\\n            </tr>\\n            <tr>\\n                                <th id=\"T_f13a999c_51c8_11eb_a42b_0242ac1c0002level1_row7\" class=\"row_heading level1 row7\" >Power Transformer</th>\\n                        <td id=\"T_f13a999c_51c8_11eb_a42b_0242ac1c0002row7_col0\" class=\"data row7 col0\" >0.142857</td>\\n                        <td id=\"T_f13a999c_51c8_11eb_a42b_0242ac1c0002row7_col1\" class=\"data row7 col1\" >0.533141</td>\\n                        <td id=\"T_f13a999c_51c8_11eb_a42b_0242ac1c0002row7_col2\" class=\"data row7 col2\" >0.733333</td>\\n                        <td id=\"T_f13a999c_51c8_11eb_a42b_0242ac1c0002row7_col3\" class=\"data row7 col3\" >0.851852</td>\\n                        <td id=\"T_f13a999c_51c8_11eb_a42b_0242ac1c0002row7_col4\" class=\"data row7 col4\" >0.634444</td>\\n                        <td id=\"T_f13a999c_51c8_11eb_a42b_0242ac1c0002row7_col5\" class=\"data row7 col5\" >0.815376</td>\\n            </tr>\\n            <tr>\\n                        <th id=\"T_f13a999c_51c8_11eb_a42b_0242ac1c0002level0_row8\" class=\"row_heading level0 row8\" rowspan=4>Random Forest</th>\\n                        <th id=\"T_f13a999c_51c8_11eb_a42b_0242ac1c0002level1_row8\" class=\"row_heading level1 row8\" >Sem normalização</th>\\n                        <td id=\"T_f13a999c_51c8_11eb_a42b_0242ac1c0002row8_col0\" class=\"data row8 col0\" >0.142857</td>\\n                        <td id=\"T_f13a999c_51c8_11eb_a42b_0242ac1c0002row8_col1\" class=\"data row8 col1\" >0.517270</td>\\n                        <td id=\"T_f13a999c_51c8_11eb_a42b_0242ac1c0002row8_col2\" class=\"data row8 col2\" >0.700000</td>\\n                        <td id=\"T_f13a999c_51c8_11eb_a42b_0242ac1c0002row8_col3\" class=\"data row8 col3\" >0.833333</td>\\n                        <td id=\"T_f13a999c_51c8_11eb_a42b_0242ac1c0002row8_col4\" class=\"data row8 col4\" >0.687778</td>\\n                        <td id=\"T_f13a999c_51c8_11eb_a42b_0242ac1c0002row8_col5\" class=\"data row8 col5\" >0.842312</td>\\n            </tr>\\n            <tr>\\n                                <th id=\"T_f13a999c_51c8_11eb_a42b_0242ac1c0002level1_row9\" class=\"row_heading level1 row9\" >Standard Scaler</th>\\n                        <td id=\"T_f13a999c_51c8_11eb_a42b_0242ac1c0002row9_col0\" class=\"data row9 col0\" >0.190476</td>\\n                        <td id=\"T_f13a999c_51c8_11eb_a42b_0242ac1c0002row9_col1\" class=\"data row9 col1\" >0.550164</td>\\n                        <td id=\"T_f13a999c_51c8_11eb_a42b_0242ac1c0002row9_col2\" class=\"data row9 col2\" >0.700000</td>\\n                        <td id=\"T_f13a999c_51c8_11eb_a42b_0242ac1c0002row9_col3\" class=\"data row9 col3\" >0.833333</td>\\n                        <td id=\"T_f13a999c_51c8_11eb_a42b_0242ac1c0002row9_col4\" class=\"data row9 col4\" >0.681111</td>\\n                        <td id=\"T_f13a999c_51c8_11eb_a42b_0242ac1c0002row9_col5\" class=\"data row9 col5\" >0.838945</td>\\n            </tr>\\n            <tr>\\n                                <th id=\"T_f13a999c_51c8_11eb_a42b_0242ac1c0002level1_row10\" class=\"row_heading level1 row10\" >Min Max</th>\\n                        <td id=\"T_f13a999c_51c8_11eb_a42b_0242ac1c0002row10_col0\" class=\"data row10 col0\" >0.142857</td>\\n                        <td id=\"T_f13a999c_51c8_11eb_a42b_0242ac1c0002row10_col1\" class=\"data row10 col1\" >0.517270</td>\\n                        <td id=\"T_f13a999c_51c8_11eb_a42b_0242ac1c0002row10_col2\" class=\"data row10 col2\" >0.700000</td>\\n                        <td id=\"T_f13a999c_51c8_11eb_a42b_0242ac1c0002row10_col3\" class=\"data row10 col3\" >0.833333</td>\\n                        <td id=\"T_f13a999c_51c8_11eb_a42b_0242ac1c0002row10_col4\" class=\"data row10 col4\" >0.664444</td>\\n                        <td id=\"T_f13a999c_51c8_11eb_a42b_0242ac1c0002row10_col5\" class=\"data row10 col5\" >0.830527</td>\\n            </tr>\\n            <tr>\\n                                <th id=\"T_f13a999c_51c8_11eb_a42b_0242ac1c0002level1_row11\" class=\"row_heading level1 row11\" >Power Transformer</th>\\n                        <td id=\"T_f13a999c_51c8_11eb_a42b_0242ac1c0002row11_col0\" class=\"data row11 col0\" >0.095238</td>\\n                        <td id=\"T_f13a999c_51c8_11eb_a42b_0242ac1c0002row11_col1\" class=\"data row11 col1\" >0.515625</td>\\n                        <td id=\"T_f13a999c_51c8_11eb_a42b_0242ac1c0002row11_col2\" class=\"data row11 col2\" >0.633333</td>\\n                        <td id=\"T_f13a999c_51c8_11eb_a42b_0242ac1c0002row11_col3\" class=\"data row11 col3\" >0.796296</td>\\n                        <td id=\"T_f13a999c_51c8_11eb_a42b_0242ac1c0002row11_col4\" class=\"data row11 col4\" >0.626667</td>\\n                        <td id=\"T_f13a999c_51c8_11eb_a42b_0242ac1c0002row11_col5\" class=\"data row11 col5\" >0.811448</td>\\n            </tr>\\n            <tr>\\n                        <th id=\"T_f13a999c_51c8_11eb_a42b_0242ac1c0002level0_row12\" class=\"row_heading level0 row12\" rowspan=4>Árvores Extra</th>\\n                        <th id=\"T_f13a999c_51c8_11eb_a42b_0242ac1c0002level1_row12\" class=\"row_heading level1 row12\" >Sem normalização</th>\\n                        <td id=\"T_f13a999c_51c8_11eb_a42b_0242ac1c0002row12_col0\" class=\"data row12 col0\" >0.285714</td>\\n                        <td id=\"T_f13a999c_51c8_11eb_a42b_0242ac1c0002row12_col1\" class=\"data row12 col1\" >0.615954</td>\\n                        <td id=\"T_f13a999c_51c8_11eb_a42b_0242ac1c0002row12_col2\" class=\"data row12 col2\" >0.700000</td>\\n                        <td id=\"T_f13a999c_51c8_11eb_a42b_0242ac1c0002row12_col3\" class=\"data row12 col3\" >0.833333</td>\\n                        <td id=\"T_f13a999c_51c8_11eb_a42b_0242ac1c0002row12_col4\" class=\"data row12 col4\" >0.687778</td>\\n                        <td id=\"T_f13a999c_51c8_11eb_a42b_0242ac1c0002row12_col5\" class=\"data row12 col5\" >0.842312</td>\\n            </tr>\\n            <tr>\\n                                <th id=\"T_f13a999c_51c8_11eb_a42b_0242ac1c0002level1_row13\" class=\"row_heading level1 row13\" >Standard Scaler</th>\\n                        <td id=\"T_f13a999c_51c8_11eb_a42b_0242ac1c0002row13_col0\" class=\"data row13 col0\" >0.142857</td>\\n                        <td id=\"T_f13a999c_51c8_11eb_a42b_0242ac1c0002row13_col1\" class=\"data row13 col1\" >0.532977</td>\\n                        <td id=\"T_f13a999c_51c8_11eb_a42b_0242ac1c0002row13_col2\" class=\"data row13 col2\" >0.733333</td>\\n                        <td id=\"T_f13a999c_51c8_11eb_a42b_0242ac1c0002row13_col3\" class=\"data row13 col3\" >0.851852</td>\\n                        <td id=\"T_f13a999c_51c8_11eb_a42b_0242ac1c0002row13_col4\" class=\"data row13 col4\" >0.696667</td>\\n                        <td id=\"T_f13a999c_51c8_11eb_a42b_0242ac1c0002row13_col5\" class=\"data row13 col5\" >0.846801</td>\\n            </tr>\\n            <tr>\\n                                <th id=\"T_f13a999c_51c8_11eb_a42b_0242ac1c0002level1_row14\" class=\"row_heading level1 row14\" >Min Max</th>\\n                        <td id=\"T_f13a999c_51c8_11eb_a42b_0242ac1c0002row14_col0\" class=\"data row14 col0\" >0.190476</td>\\n                        <td id=\"T_f13a999c_51c8_11eb_a42b_0242ac1c0002row14_col1\" class=\"data row14 col1\" >0.550164</td>\\n                        <td id=\"T_f13a999c_51c8_11eb_a42b_0242ac1c0002row14_col2\" class=\"data row14 col2\" >0.700000</td>\\n                        <td id=\"T_f13a999c_51c8_11eb_a42b_0242ac1c0002row14_col3\" class=\"data row14 col3\" >0.833333</td>\\n                        <td id=\"T_f13a999c_51c8_11eb_a42b_0242ac1c0002row14_col4\" class=\"data row14 col4\" >0.680000</td>\\n                        <td id=\"T_f13a999c_51c8_11eb_a42b_0242ac1c0002row14_col5\" class=\"data row14 col5\" >0.838384</td>\\n            </tr>\\n            <tr>\\n                                <th id=\"T_f13a999c_51c8_11eb_a42b_0242ac1c0002level1_row15\" class=\"row_heading level1 row15\" >Power Transformer</th>\\n                        <td id=\"T_f13a999c_51c8_11eb_a42b_0242ac1c0002row15_col0\" class=\"data row15 col0\" >0.238095</td>\\n                        <td id=\"T_f13a999c_51c8_11eb_a42b_0242ac1c0002row15_col1\" class=\"data row15 col1\" >0.598684</td>\\n                        <td id=\"T_f13a999c_51c8_11eb_a42b_0242ac1c0002row15_col2\" class=\"data row15 col2\" >0.700000</td>\\n                        <td id=\"T_f13a999c_51c8_11eb_a42b_0242ac1c0002row15_col3\" class=\"data row15 col3\" >0.833333</td>\\n                        <td id=\"T_f13a999c_51c8_11eb_a42b_0242ac1c0002row15_col4\" class=\"data row15 col4\" >0.694444</td>\\n                        <td id=\"T_f13a999c_51c8_11eb_a42b_0242ac1c0002row15_col5\" class=\"data row15 col5\" >0.845679</td>\\n            </tr>\\n            <tr>\\n                        <th id=\"T_f13a999c_51c8_11eb_a42b_0242ac1c0002level0_row16\" class=\"row_heading level0 row16\" rowspan=4>MLP</th>\\n                        <th id=\"T_f13a999c_51c8_11eb_a42b_0242ac1c0002level1_row16\" class=\"row_heading level1 row16\" >Sem normalização</th>\\n                        <td id=\"T_f13a999c_51c8_11eb_a42b_0242ac1c0002row16_col0\" class=\"data row16 col0\" >0.142857</td>\\n                        <td id=\"T_f13a999c_51c8_11eb_a42b_0242ac1c0002row16_col1\" class=\"data row16 col1\" >0.517434</td>\\n                        <td id=\"T_f13a999c_51c8_11eb_a42b_0242ac1c0002row16_col2\" class=\"data row16 col2\" >0.866667</td>\\n                        <td id=\"T_f13a999c_51c8_11eb_a42b_0242ac1c0002row16_col3\" class=\"data row16 col3\" >0.925926</td>\\n                        <td id=\"T_f13a999c_51c8_11eb_a42b_0242ac1c0002row16_col4\" class=\"data row16 col4\" >0.790000</td>\\n                        <td id=\"T_f13a999c_51c8_11eb_a42b_0242ac1c0002row16_col5\" class=\"data row16 col5\" >0.893939</td>\\n            </tr>\\n            <tr>\\n                                <th id=\"T_f13a999c_51c8_11eb_a42b_0242ac1c0002level1_row17\" class=\"row_heading level1 row17\" >Standard Scaler</th>\\n                        <td id=\"T_f13a999c_51c8_11eb_a42b_0242ac1c0002row17_col0\" class=\"data row17 col0\" >0.190476</td>\\n                        <td id=\"T_f13a999c_51c8_11eb_a42b_0242ac1c0002row17_col1\" class=\"data row17 col1\" >0.566201</td>\\n                        <td id=\"T_f13a999c_51c8_11eb_a42b_0242ac1c0002row17_col2\" class=\"data row17 col2\" >0.766667</td>\\n                        <td id=\"T_f13a999c_51c8_11eb_a42b_0242ac1c0002row17_col3\" class=\"data row17 col3\" >0.870370</td>\\n                        <td id=\"T_f13a999c_51c8_11eb_a42b_0242ac1c0002row17_col4\" class=\"data row17 col4\" >0.591111</td>\\n                        <td id=\"T_f13a999c_51c8_11eb_a42b_0242ac1c0002row17_col5\" class=\"data row17 col5\" >0.793490</td>\\n            </tr>\\n            <tr>\\n                                <th id=\"T_f13a999c_51c8_11eb_a42b_0242ac1c0002level1_row18\" class=\"row_heading level1 row18\" >Min Max</th>\\n                        <td id=\"T_f13a999c_51c8_11eb_a42b_0242ac1c0002row18_col0\" class=\"data row18 col0\" >0.142857</td>\\n                        <td id=\"T_f13a999c_51c8_11eb_a42b_0242ac1c0002row18_col1\" class=\"data row18 col1\" >0.517270</td>\\n                        <td id=\"T_f13a999c_51c8_11eb_a42b_0242ac1c0002row18_col2\" class=\"data row18 col2\" >0.800000</td>\\n                        <td id=\"T_f13a999c_51c8_11eb_a42b_0242ac1c0002row18_col3\" class=\"data row18 col3\" >0.888889</td>\\n                        <td id=\"T_f13a999c_51c8_11eb_a42b_0242ac1c0002row18_col4\" class=\"data row18 col4\" >0.777778</td>\\n                        <td id=\"T_f13a999c_51c8_11eb_a42b_0242ac1c0002row18_col5\" class=\"data row18 col5\" >0.887767</td>\\n            </tr>\\n            <tr>\\n                                <th id=\"T_f13a999c_51c8_11eb_a42b_0242ac1c0002level1_row19\" class=\"row_heading level1 row19\" >Power Transformer</th>\\n                        <td id=\"T_f13a999c_51c8_11eb_a42b_0242ac1c0002row19_col0\" class=\"data row19 col0\" >0.238095</td>\\n                        <td id=\"T_f13a999c_51c8_11eb_a42b_0242ac1c0002row19_col1\" class=\"data row19 col1\" >0.567845</td>\\n                        <td id=\"T_f13a999c_51c8_11eb_a42b_0242ac1c0002row19_col2\" class=\"data row19 col2\" >0.733333</td>\\n                        <td id=\"T_f13a999c_51c8_11eb_a42b_0242ac1c0002row19_col3\" class=\"data row19 col3\" >0.851852</td>\\n                        <td id=\"T_f13a999c_51c8_11eb_a42b_0242ac1c0002row19_col4\" class=\"data row19 col4\" >0.597778</td>\\n                        <td id=\"T_f13a999c_51c8_11eb_a42b_0242ac1c0002row19_col5\" class=\"data row19 col5\" >0.796857</td>\\n            </tr>\\n            <tr>\\n                        <th id=\"T_f13a999c_51c8_11eb_a42b_0242ac1c0002level0_row20\" class=\"row_heading level0 row20\" rowspan=4>NN</th>\\n                        <th id=\"T_f13a999c_51c8_11eb_a42b_0242ac1c0002level1_row20\" class=\"row_heading level1 row20\" >Sem normalização</th>\\n                        <td id=\"T_f13a999c_51c8_11eb_a42b_0242ac1c0002row20_col0\" class=\"data row20 col0\" >0.190476</td>\\n                        <td id=\"T_f13a999c_51c8_11eb_a42b_0242ac1c0002row20_col1\" class=\"data row20 col1\" >0.636886</td>\\n                        <td id=\"T_f13a999c_51c8_11eb_a42b_0242ac1c0002row20_col2\" class=\"data row20 col2\" >0.880000</td>\\n                        <td id=\"T_f13a999c_51c8_11eb_a42b_0242ac1c0002row20_col3\" class=\"data row20 col3\" >0.975467</td>\\n                        <td id=\"T_f13a999c_51c8_11eb_a42b_0242ac1c0002row20_col4\" class=\"data row20 col4\" >0.602667</td>\\n                        <td id=\"T_f13a999c_51c8_11eb_a42b_0242ac1c0002row20_col5\" class=\"data row20 col5\" >0.860000</td>\\n            </tr>\\n            <tr>\\n                                <th id=\"T_f13a999c_51c8_11eb_a42b_0242ac1c0002level1_row21\" class=\"row_heading level1 row21\" >Standard Scaler</th>\\n                        <td id=\"T_f13a999c_51c8_11eb_a42b_0242ac1c0002row21_col0\" class=\"data row21 col0\" >0.230769</td>\\n                        <td id=\"T_f13a999c_51c8_11eb_a42b_0242ac1c0002row21_col1\" class=\"data row21 col1\" >0.621203</td>\\n                        <td id=\"T_f13a999c_51c8_11eb_a42b_0242ac1c0002row21_col2\" class=\"data row21 col2\" >0.866667</td>\\n                        <td id=\"T_f13a999c_51c8_11eb_a42b_0242ac1c0002row21_col3\" class=\"data row21 col3\" >0.985185</td>\\n                        <td id=\"T_f13a999c_51c8_11eb_a42b_0242ac1c0002row21_col4\" class=\"data row21 col4\" >0.328889</td>\\n                        <td id=\"T_f13a999c_51c8_11eb_a42b_0242ac1c0002row21_col5\" class=\"data row21 col5\" >0.912891</td>\\n            </tr>\\n            <tr>\\n                                <th id=\"T_f13a999c_51c8_11eb_a42b_0242ac1c0002level1_row22\" class=\"row_heading level1 row22\" >Min Max</th>\\n                        <td id=\"T_f13a999c_51c8_11eb_a42b_0242ac1c0002row22_col0\" class=\"data row22 col0\" >0.153846</td>\\n                        <td id=\"T_f13a999c_51c8_11eb_a42b_0242ac1c0002row22_col1\" class=\"data row22 col1\" >0.620710</td>\\n                        <td id=\"T_f13a999c_51c8_11eb_a42b_0242ac1c0002row22_col2\" class=\"data row22 col2\" >0.833333</td>\\n                        <td id=\"T_f13a999c_51c8_11eb_a42b_0242ac1c0002row22_col3\" class=\"data row22 col3\" >0.974815</td>\\n                        <td id=\"T_f13a999c_51c8_11eb_a42b_0242ac1c0002row22_col4\" class=\"data row22 col4\" >0.700000</td>\\n                        <td id=\"T_f13a999c_51c8_11eb_a42b_0242ac1c0002row22_col5\" class=\"data row22 col5\" >0.979313</td>\\n            </tr>\\n            <tr>\\n                                <th id=\"T_f13a999c_51c8_11eb_a42b_0242ac1c0002level1_row23\" class=\"row_heading level1 row23\" >Power Transformer</th>\\n                        <td id=\"T_f13a999c_51c8_11eb_a42b_0242ac1c0002row23_col0\" class=\"data row23 col0\" >0.192308</td>\\n                        <td id=\"T_f13a999c_51c8_11eb_a42b_0242ac1c0002row23_col1\" class=\"data row23 col1\" >0.610552</td>\\n                        <td id=\"T_f13a999c_51c8_11eb_a42b_0242ac1c0002row23_col2\" class=\"data row23 col2\" >0.900000</td>\\n                        <td id=\"T_f13a999c_51c8_11eb_a42b_0242ac1c0002row23_col3\" class=\"data row23 col3\" >0.975679</td>\\n                        <td id=\"T_f13a999c_51c8_11eb_a42b_0242ac1c0002row23_col4\" class=\"data row23 col4\" >0.267778</td>\\n                        <td id=\"T_f13a999c_51c8_11eb_a42b_0242ac1c0002row23_col5\" class=\"data row23 col5\" >0.901586</td>\\n            </tr>\\n    </tbody></table>'"
            ]
          },
          "metadata": {
            "tags": []
          },
          "execution_count": 151
        }
      ]
    },
    {
      "cell_type": "code",
      "metadata": {
        "id": "gwOu5Rkfpo_O"
      },
      "source": [
        "highlight_min(tfidf_scores_scaled_df)"
      ],
      "execution_count": null,
      "outputs": []
    },
    {
      "cell_type": "code",
      "metadata": {
        "colab": {
          "base_uri": "https://localhost:8080/",
          "height": 106
        },
        "id": "cEdydXQkiI0-",
        "outputId": "cdc1c6dd-7304-461a-d36c-829858c3ccb8"
      },
      "source": [
        "rl_df.style.highlight_max(color = 'lightgreen', axis = 0)\n"
      ],
      "execution_count": null,
      "outputs": [
        {
          "output_type": "execute_result",
          "data": {
            "text/html": [
              "<style  type=\"text/css\" >\n",
              "#T_42089cdc_51c6_11eb_a42b_0242ac1c0002row0_col2,#T_42089cdc_51c6_11eb_a42b_0242ac1c0002row0_col3,#T_42089cdc_51c6_11eb_a42b_0242ac1c0002row2_col2,#T_42089cdc_51c6_11eb_a42b_0242ac1c0002row2_col3,#T_42089cdc_51c6_11eb_a42b_0242ac1c0002row2_col4,#T_42089cdc_51c6_11eb_a42b_0242ac1c0002row2_col5,#T_42089cdc_51c6_11eb_a42b_0242ac1c0002row3_col0,#T_42089cdc_51c6_11eb_a42b_0242ac1c0002row3_col1{\n",
              "            background-color:  lightgreen;\n",
              "        }</style><table id=\"T_42089cdc_51c6_11eb_a42b_0242ac1c0002\" ><thead>    <tr>        <th class=\"blank level0\" ></th>        <th class=\"col_heading level0 col0\" >acurácia_estudantes</th>        <th class=\"col_heading level0 col1\" >roc auc_estudantes</th>        <th class=\"col_heading level0 col2\" >acurácia_notícias</th>        <th class=\"col_heading level0 col3\" >roc auc_notícias</th>        <th class=\"col_heading level0 col4\" >acurácia_varela</th>        <th class=\"col_heading level0 col5\" >roc auc_varela</th>    </tr></thead><tbody>\n",
              "                <tr>\n",
              "                        <th id=\"T_42089cdc_51c6_11eb_a42b_0242ac1c0002level0_row0\" class=\"row_heading level0 row0\" >Sem normalização</th>\n",
              "                        <td id=\"T_42089cdc_51c6_11eb_a42b_0242ac1c0002row0_col0\" class=\"data row0 col0\" >0.095238</td>\n",
              "                        <td id=\"T_42089cdc_51c6_11eb_a42b_0242ac1c0002row0_col1\" class=\"data row0 col1\" >0.500000</td>\n",
              "                        <td id=\"T_42089cdc_51c6_11eb_a42b_0242ac1c0002row0_col2\" class=\"data row0 col2\" >0.833333</td>\n",
              "                        <td id=\"T_42089cdc_51c6_11eb_a42b_0242ac1c0002row0_col3\" class=\"data row0 col3\" >0.907407</td>\n",
              "                        <td id=\"T_42089cdc_51c6_11eb_a42b_0242ac1c0002row0_col4\" class=\"data row0 col4\" >0.762222</td>\n",
              "                        <td id=\"T_42089cdc_51c6_11eb_a42b_0242ac1c0002row0_col5\" class=\"data row0 col5\" >0.879910</td>\n",
              "            </tr>\n",
              "            <tr>\n",
              "                        <th id=\"T_42089cdc_51c6_11eb_a42b_0242ac1c0002level0_row1\" class=\"row_heading level0 row1\" >Standard Scaler</th>\n",
              "                        <td id=\"T_42089cdc_51c6_11eb_a42b_0242ac1c0002row1_col0\" class=\"data row1 col0\" >0.095238</td>\n",
              "                        <td id=\"T_42089cdc_51c6_11eb_a42b_0242ac1c0002row1_col1\" class=\"data row1 col1\" >0.500000</td>\n",
              "                        <td id=\"T_42089cdc_51c6_11eb_a42b_0242ac1c0002row1_col2\" class=\"data row1 col2\" >0.800000</td>\n",
              "                        <td id=\"T_42089cdc_51c6_11eb_a42b_0242ac1c0002row1_col3\" class=\"data row1 col3\" >0.888889</td>\n",
              "                        <td id=\"T_42089cdc_51c6_11eb_a42b_0242ac1c0002row1_col4\" class=\"data row1 col4\" >0.788889</td>\n",
              "                        <td id=\"T_42089cdc_51c6_11eb_a42b_0242ac1c0002row1_col5\" class=\"data row1 col5\" >0.893378</td>\n",
              "            </tr>\n",
              "            <tr>\n",
              "                        <th id=\"T_42089cdc_51c6_11eb_a42b_0242ac1c0002level0_row2\" class=\"row_heading level0 row2\" >Min Max</th>\n",
              "                        <td id=\"T_42089cdc_51c6_11eb_a42b_0242ac1c0002row2_col0\" class=\"data row2 col0\" >0.142857</td>\n",
              "                        <td id=\"T_42089cdc_51c6_11eb_a42b_0242ac1c0002row2_col1\" class=\"data row2 col1\" >0.517352</td>\n",
              "                        <td id=\"T_42089cdc_51c6_11eb_a42b_0242ac1c0002row2_col2\" class=\"data row2 col2\" >0.833333</td>\n",
              "                        <td id=\"T_42089cdc_51c6_11eb_a42b_0242ac1c0002row2_col3\" class=\"data row2 col3\" >0.907407</td>\n",
              "                        <td id=\"T_42089cdc_51c6_11eb_a42b_0242ac1c0002row2_col4\" class=\"data row2 col4\" >0.864444</td>\n",
              "                        <td id=\"T_42089cdc_51c6_11eb_a42b_0242ac1c0002row2_col5\" class=\"data row2 col5\" >0.931538</td>\n",
              "            </tr>\n",
              "            <tr>\n",
              "                        <th id=\"T_42089cdc_51c6_11eb_a42b_0242ac1c0002level0_row3\" class=\"row_heading level0 row3\" >Power Transformer</th>\n",
              "                        <td id=\"T_42089cdc_51c6_11eb_a42b_0242ac1c0002row3_col0\" class=\"data row3 col0\" >0.190476</td>\n",
              "                        <td id=\"T_42089cdc_51c6_11eb_a42b_0242ac1c0002row3_col1\" class=\"data row3 col1\" >0.534539</td>\n",
              "                        <td id=\"T_42089cdc_51c6_11eb_a42b_0242ac1c0002row3_col2\" class=\"data row3 col2\" >0.766667</td>\n",
              "                        <td id=\"T_42089cdc_51c6_11eb_a42b_0242ac1c0002row3_col3\" class=\"data row3 col3\" >0.870370</td>\n",
              "                        <td id=\"T_42089cdc_51c6_11eb_a42b_0242ac1c0002row3_col4\" class=\"data row3 col4\" >0.776667</td>\n",
              "                        <td id=\"T_42089cdc_51c6_11eb_a42b_0242ac1c0002row3_col5\" class=\"data row3 col5\" >0.887205</td>\n",
              "            </tr>\n",
              "    </tbody></table>"
            ],
            "text/plain": [
              "<pandas.io.formats.style.Styler at 0x7f5e5198e710>"
            ]
          },
          "metadata": {
            "tags": []
          },
          "execution_count": 132
        }
      ]
    },
    {
      "cell_type": "code",
      "metadata": {
        "id": "nW-8FQhuW48x"
      },
      "source": [
        "test_df = stylo_scores_scaled_df.copy()\n",
        "\n",
        "#test_df.loc['RL']['ns'] = 0\n",
        "test = test_df.index.insert(0, ('RL','ns'))\n",
        "test = test.insert(4, ('NB Gaus','ns'))\n",
        "test = test.insert(8, ('Random Forest','ns'))\n",
        "test = test.insert(12, ('Árvores Extra','ns'))\n",
        "test = test.insert(16, ('MLP','ns'))\n",
        "\n",
        "# # Convert index to dataframe\n",
        "# old_idx = test_df.index.to_frame()\n",
        "\n",
        "# # Insert new level at specified location\n",
        "# old_idx.insert(0, 'new_level_name', new_level_values)\n",
        "\n",
        "# # Convert back to MultiIndex\n",
        "# df.index = pandas.MultiIndex.from_frame(old_idx)\n",
        "#df.set_index('Firstlevel', append=True, inplace=True)"
      ],
      "execution_count": null,
      "outputs": []
    },
    {
      "cell_type": "code",
      "metadata": {
        "id": "p27ruBZwu052"
      },
      "source": [
        "def build_tree_params():\n",
        "  n_estimators = [int(x) for x in np.linspace(start = 200, stop = 2000, num = 10)]\n",
        "  # Number of features to consider at every split\n",
        "  max_features = ['auto', 'sqrt']\n",
        "  # Maximum number of levels in tree\n",
        "  max_depth = [int(x) for x in np.linspace(5, 110, num = 10)]\n",
        "  max_depth.append(None)\n",
        "  # Minimum number of samples required to split a node\n",
        "  min_samples_split = [2, 5, 10]\n",
        "  # Minimum number of samples required at each leaf node\n",
        "  min_samples_leaf = [1, 2, 4]\n",
        "  # Method of selecting samples for training each tree\n",
        "  bootstrap = [True, False]\n",
        "  # Create the random grid\n",
        "  random_grid = {'n_estimators': n_estimators,\n",
        "               'max_features': max_features,\n",
        "               'max_depth': max_depth,\n",
        "               'min_samples_split': min_samples_split,\n",
        "               'min_samples_leaf': min_samples_leaf,\n",
        "               'bootstrap': bootstrap}\n",
        "\n",
        "  return random_grid\n",
        "\n",
        "def build_mlp_params():\n",
        "   activation = ['identity', 'logistic', 'tanh', 'relu']\n",
        "   alpha = [0.0001, 0.001, 0.01, 0.1]\n",
        "   hidden_layer_sizes = [(50,), (100,), (150,),(200,)]\n",
        "   learning_rate = ['constant', 'invscaling', 'adaptive']\n",
        "   max_iterint = [100, 200, 300, 400, 500]\n",
        "   random_grid = {'activation': activation,\n",
        "               'alpha': alpha,\n",
        "               'hidden_layer_sizes': hidden_layer_sizes,\n",
        "               'learning_rate': learning_rate,\n",
        "               'max_iterint': max_iterint}\n",
        "   return random_grid\n",
        "\n",
        "def build_lr_params():\n",
        "  penalty=['l1','l2']\n",
        "  c = [0.1, 0.5, 1, 2, 5]\n",
        "  solver=['newton-cg', 'lbfgs','lib','saga']\n",
        "  max_iterint = [25, 50, 100, 200, 500]\n",
        "  random_grid = {'penalty': penalty,\n",
        "               'c': c,\n",
        "               'solver': solver,\n",
        "               'max_iterint': max_iterint\n",
        "               }\n",
        "  return random_grid\n",
        "\n",
        "def build_nb_params():\n",
        "  var_smoothing = [1e-05, 1e-08, 1e-09, 1e-10]\n",
        "  random_grid = {'var_smoothing': var_smoothing}\n",
        "  return random_grid\n",
        "\n",
        "def build_nn_params():\n",
        "  optimizer=['adam', 'sgd', 'rmsprop','adamax']\n",
        "  output_activation_function = ['relu', 'selu', 'softmax', 'tanh']\n",
        "  epochs = [100, 200, 300, 400, 500]\n",
        "  kernel_initializer = ['randomuniform', 'glorotnormal', 'orthogonal']\n",
        "  random_grid = {'optimizer': optimizer,\n",
        "               'output_activation_function': output_activation_function,\n",
        "               'epochs': epochs,\n",
        "               'kernel_initializer': kernel_initializer,\n",
        "               }\n",
        "  return random_grid"
      ],
      "execution_count": 12,
      "outputs": []
    },
    {
      "cell_type": "code",
      "metadata": {
        "id": "hJegk4LXhcGY",
        "colab": {
          "base_uri": "https://localhost:8080/"
        },
        "outputId": "26036122-2811-477c-8c5a-c9698642c8c4"
      },
      "source": [
        "from sklearn.model_selection import cross_validate\n",
        "from sklearn.model_selection import RandomizedSearchCV\n",
        "\n",
        "\n",
        "def optimize(X, Y, models, params, scaler=None):\n",
        "  best_models = []\n",
        "  for idx, model in enumerate(models):\n",
        "\n",
        "    best_student = cv_optimize(X[0], Y[0], model, params[idx], 'student')\n",
        "    best_news = cv_optimize(X[1], Y[1], model, params[idx], 'news')\n",
        "    best_varela = cv_optimize(X[2], Y[2], model, params[idx], 'varela')\n",
        "    best_models.append([best_student, best_news, best_varela])\n",
        "  return best_models\n",
        "\n",
        "\n",
        "def cv_optimize(X, Y, model, optimization_params, dataset_title, scaler=None):\n",
        "  if scaler is not None:\n",
        "    X = scaler.fit_transform(X)\n",
        "\n",
        "  cv_results = cross_validate(model, X, Y, cv=3)\n",
        "  print('base {} cv score:{}'.format(dataset_title, cv_results['test_score']))\n",
        "\n",
        "  rf_random = RandomizedSearchCV(estimator = model, param_distributions = optimization_params, n_iter = 50, cv = 3, verbose=2, random_state=42, n_jobs = -1)\n",
        "  rf_random.fit(X, Y)\n",
        "  print(rf_random.best_params_)\n",
        "\n",
        "  optimal_cv_results = cross_validate(rf_random.best_estimator_, X, Y, cv=3)\n",
        "  print('optimal {} cv score:{}'.format(dataset_title, optimal_cv_results['test_score']))\n",
        "  \n",
        "  print('overall gain after optimization:{}'( np.mean(optimal_cv_results) - np.mean(cv_results)))\n",
        "  return rf_random.best_estimator_\n",
        "\n",
        "\n",
        "best_models_re_exp1 = optimize([df,news_df, varela_df], [encoded_Y, encoded_Y_news, encoded_varela_Y],                      \n",
        "              [GaussianNB(), RandomForestClassifier(random_state=0)],\n",
        "              [build_nb_params(), build_tree_params()],\n",
        "              scaler=None\n",
        "            )\n",
        "\n",
        "best_models_re_exp2 = optimize([df,news_df, varela_df], [encoded_Y, encoded_Y_news, encoded_varela_Y], \n",
        "             [MLPClassifier(random_state=0)],\n",
        "             [build_mlp_params()], scaler=StandardScaler())\n",
        "\n",
        "\n",
        "#TODO: Test and investigate how it will work for the Keras NN (maybe wrapping around a KerasClassifier..)\n",
        "best_models_re_exp3 = optimize([df,news_df, varela_df], [encoded_Y, encoded_Y_news, encoded_varela_Y], \n",
        "             [ExtraTrees(random_state=0), LogisticRegression(random_state=0), build_nn()],\n",
        "             [build_tree_params(), build_lr_params(), build_nn_params()], \n",
        "             scaler=PowerTransformer())\n",
        "\n",
        "\n",
        "best_models_rt_exp1 = optmize([TfidfVectorizer().fit_transform(raw_df['Text']),\n",
        "              TfidfVectorizer().fit_transform(raw_news_df['Text']), \n",
        "              TfidfVectorizer().fit_transform(raw_varela_df['Text'])],\n",
        "              [encoded_Y, encoded_Y_news, encoded_varela_Y],\n",
        "              [RandomForestClassifier(random_state=0), MLPClassifier(random_state=0)],\n",
        "              [build_tree_params(), build_mlp_params()],\n",
        "              scaler=None\n",
        "            )\n",
        "\n",
        "best_models_rt_exp2 = optimize([TfidfVectorizer().fit_transform(raw_df['Text']),\n",
        "              TfidfVectorizer().fit_transform(raw_news_df['Text']), \n",
        "              TfidfVectorizer().fit_transform(raw_varela_df['Text'])],\n",
        "              [encoded_Y, encoded_Y_news, encoded_varela_Y],\n",
        "              [ExtraTrees(random_state=0)],\n",
        "              [build_tree_params()],\n",
        "              scaler=scaler=StandardScaler())\n",
        "\n",
        "\n",
        "#TODO: Test and investigate how it will work for the Keras NN (maybe wrapping around a KerasClassifier..)\n",
        "best_models_rt_exp3 = optmize([TfidfVectorizer().fit_transform(raw_df['Text']),\n",
        "              TfidfVectorizer().fit_transform(raw_news_df['Text']), \n",
        "              TfidfVectorizer().fit_transform(raw_varela_df['Text'])],\n",
        "              [encoded_Y, encoded_Y_news, encoded_varela_Y],\n",
        "              [ExtraTrees(random_state=0), LogisticRegression(random_state=0), build_nn()],\n",
        "              [build_tree_params(), build_lr_params(), build_nn_params()], \n",
        "              scaler=scaler=MinMaxScaler())\n",
        "\n",
        "\n"
      ],
      "execution_count": null,
      "outputs": [
        {
          "output_type": "stream",
          "text": [
            "base student cv score:[0.14285714 0.         0.17857143]\n",
            "Fitting 3 folds for each of 100 candidates, totalling 300 fits\n"
          ],
          "name": "stdout"
        },
        {
          "output_type": "stream",
          "text": [
            "[Parallel(n_jobs=-1)]: Using backend LokyBackend with 2 concurrent workers.\n",
            "[Parallel(n_jobs=-1)]: Done  37 tasks      | elapsed:   56.8s\n",
            "[Parallel(n_jobs=-1)]: Done 158 tasks      | elapsed:  3.1min\n",
            "[Parallel(n_jobs=-1)]: Done 300 out of 300 | elapsed:  6.4min finished\n"
          ],
          "name": "stderr"
        },
        {
          "output_type": "stream",
          "text": [
            "{'n_estimators': 600, 'min_samples_split': 2, 'min_samples_leaf': 1, 'max_features': 'sqrt', 'max_depth': 98, 'bootstrap': True}\n",
            "optimal student cv score:[0.21428571 0.         0.32142857]\n",
            "base news cv score:[0.79411765 0.84848485 0.78787879]\n",
            "Fitting 3 folds for each of 100 candidates, totalling 300 fits\n"
          ],
          "name": "stdout"
        },
        {
          "output_type": "stream",
          "text": [
            "[Parallel(n_jobs=-1)]: Using backend LokyBackend with 2 concurrent workers.\n",
            "[Parallel(n_jobs=-1)]: Done  37 tasks      | elapsed:   55.4s\n",
            "[Parallel(n_jobs=-1)]: Done 158 tasks      | elapsed:  3.1min\n",
            "[Parallel(n_jobs=-1)]: Done 300 out of 300 | elapsed:  6.4min finished\n"
          ],
          "name": "stderr"
        },
        {
          "output_type": "stream",
          "text": [
            "{'n_estimators': 800, 'min_samples_split': 2, 'min_samples_leaf': 1, 'max_features': 'sqrt', 'max_depth': 75, 'bootstrap': False}\n",
            "optimal news cv score:[0.79411765 0.75757576 0.87878788]\n",
            "base varela cv score:[0.535 0.554 0.532]\n",
            "Fitting 3 folds for each of 100 candidates, totalling 300 fits\n"
          ],
          "name": "stdout"
        },
        {
          "output_type": "stream",
          "text": [
            "[Parallel(n_jobs=-1)]: Using backend LokyBackend with 2 concurrent workers.\n",
            "[Parallel(n_jobs=-1)]: Done  37 tasks      | elapsed: 20.4min\n"
          ],
          "name": "stderr"
        }
      ]
    },
    {
      "cell_type": "code",
      "metadata": {
        "id": "-TMIji7aZXjj"
      },
      "source": [
        "df.drop(columns=['Author'], inplace=True)\n",
        "news_df.drop(columns=['Author'], inplace=True)\n",
        "varela_df.drop(columns=['Author'], inplace=True)\n",
        "\n"
      ],
      "execution_count": 18,
      "outputs": []
    },
    {
      "cell_type": "code",
      "metadata": {
        "id": "xF8qr_YwhLjg"
      },
      "source": [
        ""
      ],
      "execution_count": null,
      "outputs": []
    },
    {
      "cell_type": "code",
      "metadata": {
        "colab": {
          "base_uri": "https://localhost:8080/"
        },
        "id": "CyfNFZYXZk3E",
        "outputId": "9a39f339-7c3a-47ca-a3fd-b89c0b915509"
      },
      "source": [
        "encoded_varela_Y"
      ],
      "execution_count": 20,
      "outputs": [
        {
          "output_type": "execute_result",
          "data": {
            "text/plain": [
              "array([38, 38, 38, ..., 82, 82, 82])"
            ]
          },
          "metadata": {
            "tags": []
          },
          "execution_count": 20
        }
      ]
    },
    {
      "cell_type": "code",
      "metadata": {
        "colab": {
          "base_uri": "https://localhost:8080/"
        },
        "id": "vxxYrGM_ZIya",
        "outputId": "5f60c21e-2774-4671-883a-2778a8d237fc"
      },
      "source": [
        "X_varela, X_varela_test, Y_varela, Y_varela_test = train_test_split(varela_df, encoded_varela_Y, random_state=7, test_size=0.3, stratify=encoded_varela_Y)\n",
        "X_news, X_news_test, Y_news, Y_news_test = train_test_split(news_df, encoded_Y_news, random_state=7, test_size=0.3, stratify=encoded_Y_news)\n",
        "X_student, X_student_test, Y_student, Y_student_test = train_test_split(df, encoded_Y, random_state=7, test_size=0.3, stratify=encoded_Y)\n",
        "\n",
        "X_student_idf , X_student_idf_test, Y_student_idf, Y_student_idf_test = train_test_split(TfidfVectorizer().fit_transform(raw_df['Text']), encoded_Y, random_state=7, test_size=0.25, stratify=encoded_Y)\n",
        "X_news_idf , X_news_idf_test, Y_news_idf, Y_news_idf_test = train_test_split(TfidfVectorizer().fit_transform(raw_news_df['Text']), encoded_Y_news, random_state=7, test_size=0.3, stratify=encoded_Y_news)\n",
        "X_varela_idf , X_varela_idf_test, Y_varela_idf, Y_varela_idf_test = train_test_split(TfidfVectorizer().fit_transform(raw_varela_df['Text']), encoded_varela_Y, random_state=7, test_size=0.3, stratify=encoded_varela_Y)\n"
      ],
      "execution_count": 14,
      "outputs": [
        {
          "output_type": "execute_result",
          "data": {
            "text/plain": [
              "(58, 74)"
            ]
          },
          "metadata": {
            "tags": []
          },
          "execution_count": 14
        }
      ]
    }
  ]
}