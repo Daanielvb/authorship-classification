{
  "nbformat": 4,
  "nbformat_minor": 0,
  "metadata": {
    "colab": {
      "name": "Authorship classification.ipynb",
      "provenance": [],
      "collapsed_sections": []
    },
    "kernelspec": {
      "name": "python3",
      "display_name": "Python 3"
    }
  },
  "cells": [
    {
      "cell_type": "code",
      "metadata": {
        "colab_type": "code",
        "outputId": "b0b0bfb4-c787-4b37-c8e0-e0517c002800",
        "id": "RjmJ0x0Nky_B",
        "colab": {
          "base_uri": "https://localhost:8080/",
          "height": 68
        }
      },
      "source": [
        "!pip install -U -q PyDrive\n",
        "from pydrive.auth import GoogleAuth\n",
        "from pydrive.drive import GoogleDrive\n",
        "from google.colab import auth\n",
        "from oauth2client.client import GoogleCredentials\n",
        "import warnings\n",
        "warnings.filterwarnings('ignore')\n",
        "\n",
        "# Authenticate and create the PyDrive client.\n",
        "auth.authenticate_user()\n",
        "gauth = GoogleAuth()\n",
        "gauth.credentials = GoogleCredentials.get_application_default()\n",
        "drive = GoogleDrive(gauth)\n",
        "\n",
        "# The dataset shareable link\n",
        "\n",
        "#new stylo data\n",
        "#link = 'https://drive.google.com/open?id=1qg3fx5JyibrfBBycl3y8hCQJWBiXkP2N'\n",
        "link = 'https://drive.google.com/open?id=15e0XWZR1CYx0nyBOLasWJuwMyFgF-U5l'\n",
        "\n",
        "\n",
        "\n",
        "fluff, id = link.split('=')\n",
        "print(id)\n",
        "filename = 'stylo-data.csv'\n",
        "downloaded = drive.CreateFile({'id':id})\n",
        "downloaded.GetContentFile(filename)\n",
        "\n",
        "#raw_data_link = 'https://drive.google.com/open?id=1DZkGVcBNQ1WUk11dVRzJcbGNeAb8rOaJ'\n",
        "#stopwords\n",
        "raw_data_link = 'https://drive.google.com/open?id=1QKJm85j3xeOz4iIgd5D82i7tc3vg0zMW'\n",
        "fluff, id = raw_data_link.split('=')\n",
        "print(id)\n",
        "raw_filename = 'raw_data.csv'\n",
        "downloaded = drive.CreateFile({'id':id})\n",
        "downloaded.GetContentFile(raw_filename)\n",
        "\n",
        "\n",
        "#news stylo dataset\n",
        "\n",
        "news_link = 'https://drive.google.com/open?id=1C5MS8fWH2yS5GKS_TVddhuXPgR63JC-c'\n",
        "fluff, id = news_link.split('=')\n",
        "print(id)\n",
        "news_filename = 'news-data.csv'\n",
        "downloaded = drive.CreateFile({'id':id})\n",
        "downloaded.GetContentFile(news_filename)"
      ],
      "execution_count": 1,
      "outputs": [
        {
          "output_type": "stream",
          "text": [
            "15e0XWZR1CYx0nyBOLasWJuwMyFgF-U5l\n",
            "1QKJm85j3xeOz4iIgd5D82i7tc3vg0zMW\n",
            "1C5MS8fWH2yS5GKS_TVddhuXPgR63JC-c\n"
          ],
          "name": "stdout"
        }
      ]
    },
    {
      "cell_type": "code",
      "metadata": {
        "id": "QDJ9k4ISEyG2",
        "colab_type": "code",
        "outputId": "9d0fd015-c3a7-4ad5-9c79-e01c4f6a9a3d",
        "colab": {
          "base_uri": "https://localhost:8080/",
          "height": 238
        }
      },
      "source": [
        "import pandas as pd\n",
        "\n",
        "import numpy as np\n",
        "from matplotlib import pyplot as plt\n",
        "\n",
        "import nltk\n",
        "nltk.download('stopwords')\n",
        "nltk.download('punkt')\n",
        "\n",
        "from sklearn.model_selection import train_test_split, cross_validate, StratifiedKFold, RandomizedSearchCV\n",
        "from sklearn.metrics import classification_report, confusion_matrix, accuracy_score\n",
        "from sklearn.preprocessing import LabelEncoder, StandardScaler\n",
        "from sklearn.mixture import GaussianMixture, BayesianGaussianMixture\n",
        "from sklearn.cluster import KMeans\n",
        "from sklearn.decomposition import PCA\n",
        "from sklearn.pipeline import Pipeline, make_pipeline\n",
        "from sklearn.linear_model import SGDClassifier, LogisticRegression\n",
        "from sklearn.ensemble import AdaBoostClassifier, BaggingClassifier, ExtraTreesClassifier, GradientBoostingClassifier, RandomForestClassifier\n",
        "from sklearn.svm import SVC, LinearSVC\n",
        "from sklearn.feature_extraction.text import CountVectorizer, TfidfTransformer,TfidfVectorizer\n",
        "from sklearn.naive_bayes import GaussianNB, BernoulliNB, MultinomialNB\n",
        "from sklearn.neural_network import MLPClassifier\n",
        "from sklearn.neighbors import KNeighborsClassifier\n",
        "from sklearn.feature_selection import SelectKBest, VarianceThreshold, SelectPercentile, SelectFwe, RFECV,  chi2, f_classif, mutual_info_classif\n",
        "from sklearn.preprocessing import StandardScaler, MinMaxScaler, PowerTransformer, QuantileTransformer, Normalizer\n",
        "\n",
        "!pip install -U keras\n",
        "from keras.utils import np_utils\n",
        "from keras.preprocessing.text import Tokenizer\n",
        "from keras.preprocessing.sequence import pad_sequences\n",
        "from tensorflow.python.keras.layers import InputLayer, Embedding, Conv1D, MaxPool1D, Dense, Flatten, Dropout, GRU, LSTM, Input\n",
        "from tensorflow.python.keras import Sequential, Model\n",
        "from tensorflow.python.keras import Sequential\n",
        "from keras.initializers import Constant\n",
        "\n",
        "from pprint import pprint\n",
        "\n",
        "from imblearn.over_sampling import SMOTE"
      ],
      "execution_count": 2,
      "outputs": [
        {
          "output_type": "stream",
          "text": [
            "[nltk_data] Downloading package stopwords to /root/nltk_data...\n",
            "[nltk_data]   Unzipping corpora/stopwords.zip.\n",
            "[nltk_data] Downloading package punkt to /root/nltk_data...\n",
            "[nltk_data]   Unzipping tokenizers/punkt.zip.\n",
            "Requirement already up-to-date: keras in /usr/local/lib/python3.6/dist-packages (2.3.1)\n",
            "Requirement already satisfied, skipping upgrade: scipy>=0.14 in /usr/local/lib/python3.6/dist-packages (from keras) (1.4.1)\n",
            "Requirement already satisfied, skipping upgrade: h5py in /usr/local/lib/python3.6/dist-packages (from keras) (2.10.0)\n",
            "Requirement already satisfied, skipping upgrade: six>=1.9.0 in /usr/local/lib/python3.6/dist-packages (from keras) (1.12.0)\n",
            "Requirement already satisfied, skipping upgrade: keras-applications>=1.0.6 in /usr/local/lib/python3.6/dist-packages (from keras) (1.0.8)\n",
            "Requirement already satisfied, skipping upgrade: numpy>=1.9.1 in /usr/local/lib/python3.6/dist-packages (from keras) (1.18.2)\n",
            "Requirement already satisfied, skipping upgrade: keras-preprocessing>=1.0.5 in /usr/local/lib/python3.6/dist-packages (from keras) (1.1.0)\n",
            "Requirement already satisfied, skipping upgrade: pyyaml in /usr/local/lib/python3.6/dist-packages (from keras) (3.13)\n"
          ],
          "name": "stdout"
        },
        {
          "output_type": "stream",
          "text": [
            "Using TensorFlow backend.\n"
          ],
          "name": "stderr"
        }
      ]
    },
    {
      "cell_type": "code",
      "metadata": {
        "id": "pbymYhVUjAYD",
        "colab_type": "code",
        "outputId": "169a047e-736d-4820-c447-f0fc4ac41bc3",
        "colab": {
          "base_uri": "https://localhost:8080/",
          "height": 122
        }
      },
      "source": [
        "from google.colab import drive\n",
        "drive.mount('/content/drive')"
      ],
      "execution_count": 3,
      "outputs": [
        {
          "output_type": "stream",
          "text": [
            "Go to this URL in a browser: https://accounts.google.com/o/oauth2/auth?client_id=947318989803-6bn6qk8qdgf4n4g3pfee6491hc0brc4i.apps.googleusercontent.com&redirect_uri=urn%3aietf%3awg%3aoauth%3a2.0%3aoob&response_type=code&scope=email%20https%3a%2f%2fwww.googleapis.com%2fauth%2fdocs.test%20https%3a%2f%2fwww.googleapis.com%2fauth%2fdrive%20https%3a%2f%2fwww.googleapis.com%2fauth%2fdrive.photos.readonly%20https%3a%2f%2fwww.googleapis.com%2fauth%2fpeopleapi.readonly\n",
            "\n",
            "Enter your authorization code:\n",
            "··········\n",
            "Mounted at /content/drive\n"
          ],
          "name": "stdout"
        }
      ]
    },
    {
      "cell_type": "markdown",
      "metadata": {
        "id": "UdSHLajCxFOr",
        "colab_type": "text"
      },
      "source": [
        "*PS: Para baixar os arquivos do Google Drive, é preciso clicar no link que irá aparecer no console, aceitar as permissões do Drive e em seguida colar o código de verificação no local indicado (console)*\n",
        "\n",
        "*Sem o arquivo não é possível executar os outros trechos do notebook*"
      ]
    },
    {
      "cell_type": "code",
      "metadata": {
        "id": "sZ9Qh3LPNDN_",
        "colab_type": "code",
        "colab": {}
      },
      "source": [
        "# read dataset\n",
        "df = pd.read_csv(filename)\n",
        "raw_df = pd.read_csv(raw_filename)\n",
        "df_news = pd.read_csv(news_filename)\n",
        "\n",
        "\n",
        "# Remove single class entries (We need at least 3 samples of an author)#\n",
        "df = df.groupby('Author').filter(lambda x: len(x) > 3)\n",
        "raw_df = raw_df.groupby('Author').filter(lambda x: len(x) > 3)"
      ],
      "execution_count": 0,
      "outputs": []
    },
    {
      "cell_type": "code",
      "metadata": {
        "id": "B-SGc_MBRjyN",
        "colab_type": "code",
        "colab": {}
      },
      "source": [
        "#Separate data from labels\n",
        "\n",
        "y = df.pop('Author')\n",
        "y_raw = raw_df.pop('Author')\n",
        "y_news = df_news.pop('Author')\n",
        "\n",
        "le = LabelEncoder()\n",
        "le.fit(y)\n",
        "encoded_Y = le.transform(y)\n",
        "\n",
        "le.fit(y_raw)\n",
        "encoded_raw_Y = le.transform(y_raw)\n",
        "\n",
        "le.fit(y_news)\n",
        "encoded_y_news = le.transform(y_news)"
      ],
      "execution_count": 0,
      "outputs": []
    },
    {
      "cell_type": "code",
      "metadata": {
        "id": "yYSCvf-g1oyd",
        "colab_type": "code",
        "colab": {
          "base_uri": "https://localhost:8080/",
          "height": 221
        },
        "outputId": "00843554-6587-4713-9d73-a242b418e58b"
      },
      "source": [
        "y_news"
      ],
      "execution_count": 6,
      "outputs": [
        {
          "output_type": "execute_result",
          "data": {
            "text/plain": [
              "0     'SP'\n",
              "1     'SP'\n",
              "2     'SP'\n",
              "3     'SP'\n",
              "4     'SP'\n",
              "      ... \n",
              "95    'LE'\n",
              "96    'LE'\n",
              "97    'LE'\n",
              "98    'LE'\n",
              "99    'LE'\n",
              "Name: Author, Length: 100, dtype: object"
            ]
          },
          "metadata": {
            "tags": []
          },
          "execution_count": 6
        }
      ]
    },
    {
      "cell_type": "code",
      "metadata": {
        "id": "SsqfbzdbtMfV",
        "colab_type": "code",
        "outputId": "7606cb16-f3cd-4a2f-83bc-b7fac604010b",
        "colab": {
          "base_uri": "https://localhost:8080/",
          "height": 119
        }
      },
      "source": [
        "# Feature selection\n",
        "\n",
        "# Baseline (Variance threshold):\n",
        "threshold=(.01)\n",
        "selector = VarianceThreshold(threshold)\n",
        "selector.fit(df)\n",
        "\n",
        "df.columns[selector.get_support(indices=True)] # 20 features, data has very low variance (features are mostly very close)\n",
        "\n",
        "selector.fit(df_news)\n",
        "\n",
        "df_news.columns[selector.get_support(indices=True)]"
      ],
      "execution_count": 7,
      "outputs": [
        {
          "output_type": "execute_result",
          "data": {
            "text/plain": [
              "Index(['DiversidadeLexica', 'TamanhoMedioDasPalavras', 'TamanhoMedioSentencas',\n",
              "       'StdevSentencas', 'TamanhoMedioParagrafos', 'StdevTamParagrafos',\n",
              "       'MediaSilabasPorPalavra', 'Ponto', 'Virgulas', 'Exclamacoes',\n",
              "       'DoisPontos', 'PronomesPorPreposicao', 'GuiraudR', 'HerdanV', 'MedidaK',\n",
              "       'DugastU', 'BRFleshIndex'],\n",
              "      dtype='object')"
            ]
          },
          "metadata": {
            "tags": []
          },
          "execution_count": 7
        }
      ]
    },
    {
      "cell_type": "code",
      "metadata": {
        "id": "_qFPfnjikFk7",
        "colab_type": "code",
        "outputId": "69b0614c-20eb-48ae-f9a7-0963e0d6d06b",
        "colab": {
          "base_uri": "https://localhost:8080/",
          "height": 170
        }
      },
      "source": [
        "# 50% better based on percentile using chi2\n",
        "selector = SelectPercentile(chi2, percentile=50)\n",
        "selector.fit(df, y)\n",
        "df.columns[selector.get_support(indices=True)]"
      ],
      "execution_count": 8,
      "outputs": [
        {
          "output_type": "execute_result",
          "data": {
            "text/plain": [
              "Index(['DiversidadeLexica', 'TamanhoMedioDasPalavras', 'TamanhoMedioSentencas',\n",
              "       'StdevSentencas', 'TamanhoMedioParagrafos', 'StdevTamParagrafos',\n",
              "       'FrequenciaDeParagrafos', 'Ponto', 'Virgulas', 'Exclamacoes',\n",
              "       'DoisPontos', 'PronomesPorPreposicao', 'FreqEAbstracao',\n",
              "       'FreqEAcontecimento', 'FreqECoisa', 'FreqEOrganizacao', 'FreqEObra',\n",
              "       'FreqEOutro', 'FreqEPessoa', 'FreqETempo', 'FreqEValor', 'GuiraudR',\n",
              "       'HerdanV', 'DugastU', 'HonoresH', 'FrequenciaDeHapaxLegomenaLocal',\n",
              "       'BRFleshIndex'],\n",
              "      dtype='object')"
            ]
          },
          "metadata": {
            "tags": []
          },
          "execution_count": 8
        }
      ]
    },
    {
      "cell_type": "code",
      "metadata": {
        "id": "4TlAWkNb3s6W",
        "colab_type": "code",
        "colab": {
          "base_uri": "https://localhost:8080/",
          "height": 170
        },
        "outputId": "1536130d-9214-4339-c1c2-27a7a2b8e204"
      },
      "source": [
        "selector = SelectPercentile(chi2, percentile=50)\n",
        "selector.fit(df_news, y_news)\n",
        "df.columns[selector.get_support(indices=True)]"
      ],
      "execution_count": 9,
      "outputs": [
        {
          "output_type": "execute_result",
          "data": {
            "text/plain": [
              "Index(['DiversidadeLexica', 'TamanhoMedioDasPalavras', 'TamanhoMedioSentencas',\n",
              "       'StdevSentencas', 'TamanhoMedioParagrafos', 'StdevTamParagrafos',\n",
              "       'Ponto', 'Virgulas', 'Exclamacoes', 'DoisPontos', 'FreqCitacoes',\n",
              "       'FreqAdv', 'FreqPronomes', 'PronomesPorPreposicao',\n",
              "       'FreqTermosNaoTageados', 'FreqECoisa', 'FreqEObra', 'FreqEOutro',\n",
              "       'FreqEPessoa', 'FreqETempo', 'FreqEValor', 'GuiraudR', 'HerdanV',\n",
              "       'DugastU', 'FreqPalavrasErradas', 'FrequenciaDeHapaxLegomenaLocal',\n",
              "       'BRFleshIndex'],\n",
              "      dtype='object')"
            ]
          },
          "metadata": {
            "tags": []
          },
          "execution_count": 9
        }
      ]
    },
    {
      "cell_type": "code",
      "metadata": {
        "id": "cbKN8D8OJtkY",
        "colab_type": "code",
        "outputId": "46437af6-8f91-49e4-a7b8-89a27dc50876",
        "colab": {
          "base_uri": "https://localhost:8080/",
          "height": 187
        }
      },
      "source": [
        "selector = SelectPercentile(percentile=50)\n",
        "selector.fit(df, y)\n",
        "df.columns[selector.get_support(indices=True)]"
      ],
      "execution_count": 10,
      "outputs": [
        {
          "output_type": "execute_result",
          "data": {
            "text/plain": [
              "Index(['DiversidadeLexica', 'TamanhoMedioDasPalavras', 'TamanhoMedioSentencas',\n",
              "       'StdevSentencas', 'TamanhoMedioParagrafos', 'StdevTamParagrafos',\n",
              "       'FrequenciaDeParagrafos', 'FrequenciaPalavrasDuplicadas',\n",
              "       'MediaSilabasPorPalavra', 'Ponto', 'Virgulas', 'FreqAdjetivos',\n",
              "       'FreqVerbosPtcp', 'FreqConj', 'FreqPalavrasFuncionais',\n",
              "       'FreqTotalEntidadesNomeadas', 'FreqETempo', 'HerdanC', 'HerdanV',\n",
              "       'MedidaK', 'DugastU', 'MaasA', 'HonoresH',\n",
              "       'FrequenciaDeHapaxLegomenaLocal', 'FreqPalavrasComunsTam4',\n",
              "       'FrequenciaStopWords', 'BRFleshIndex'],\n",
              "      dtype='object')"
            ]
          },
          "metadata": {
            "tags": []
          },
          "execution_count": 10
        }
      ]
    },
    {
      "cell_type": "code",
      "metadata": {
        "id": "TncVnkdo4anr",
        "colab_type": "code",
        "colab": {
          "base_uri": "https://localhost:8080/",
          "height": 187
        },
        "outputId": "02df8ff1-d06e-48e1-e360-acd3780a738c"
      },
      "source": [
        "selector = SelectPercentile(percentile=50)\n",
        "selector.fit(df_news, y_news)\n",
        "df.columns[selector.get_support(indices=True)]"
      ],
      "execution_count": 11,
      "outputs": [
        {
          "output_type": "execute_result",
          "data": {
            "text/plain": [
              "Index(['DiversidadeLexica', 'TamanhoMedioDasPalavras',\n",
              "       'TamanhoMedioParagrafos', 'StdevTamParagrafos',\n",
              "       'FrequenciaDeParagrafos', 'Virgulas', 'Exclamacoes', 'FreqCitacoes',\n",
              "       'FreqAdv', 'FreqSubs', 'FreqPrep', 'FreqVerbosPtcp', 'FreqConj',\n",
              "       'FreqPronomes', 'PronomesPorPreposicao', 'FreqTermosNaoTageados',\n",
              "       'FreqPalavrasDeConteudo', 'FreqPalavrasFuncionais', 'GuiraudR',\n",
              "       'HerdanC', 'HerdanV', 'MedidaK', 'DugastU', 'HonoresH',\n",
              "       'FreqPalavrasErradas', 'FrequenciaDeHapaxLegomenaLocal',\n",
              "       'FrequenciaStopWords'],\n",
              "      dtype='object')"
            ]
          },
          "metadata": {
            "tags": []
          },
          "execution_count": 11
        }
      ]
    },
    {
      "cell_type": "code",
      "metadata": {
        "id": "bs8jp-5XxMC8",
        "colab_type": "code",
        "outputId": "262be7b5-62c8-4d90-907e-22b8688c3e7d",
        "colab": {
          "base_uri": "https://localhost:8080/",
          "height": 952
        }
      },
      "source": [
        "# K-Best (chi2)\n",
        "best_k_features = SelectKBest(chi2, k=54).fit(df, y)\n",
        "dfscores = pd.DataFrame(best_k_features.scores_)\n",
        "dfcolumns = pd.DataFrame(df.columns)\n",
        "featureScores = pd.concat([dfcolumns,dfscores],axis=1)\n",
        "featureScores.columns = ['Feature','Score'] \n",
        "print(featureScores.nlargest(54,'Score'))"
      ],
      "execution_count": 12,
      "outputs": [
        {
          "output_type": "stream",
          "text": [
            "                           Feature        Score\n",
            "41                         HerdanV  1640.030726\n",
            "5               StdevTamParagrafos  1190.145679\n",
            "4           TamanhoMedioParagrafos  1083.505879\n",
            "3                   StdevSentencas    83.212074\n",
            "0                DiversidadeLexica    68.963605\n",
            "2            TamanhoMedioSentencas    42.317390\n",
            "43                         DugastU    40.001632\n",
            "10                        Virgulas    12.506046\n",
            "9                            Ponto     8.796392\n",
            "12                      DoisPontos     8.654201\n",
            "39                        GuiraudR     7.570860\n",
            "11                     Exclamacoes     5.398750\n",
            "52                    BRFleshIndex     2.558055\n",
            "23           PronomesPorPreposicao     2.380678\n",
            "47  FrequenciaDeHapaxLegomenaLocal     1.056917\n",
            "1          TamanhoMedioDasPalavras     1.034314\n",
            "45                        HonoresH     0.898729\n",
            "30              FreqEAcontecimento     0.542428\n",
            "37                      FreqETempo     0.538987\n",
            "35                      FreqEOutro     0.433414\n",
            "33                FreqEOrganizacao     0.386386\n",
            "34                       FreqEObra     0.323971\n",
            "6           FrequenciaDeParagrafos     0.316969\n",
            "29                  FreqEAbstracao     0.289026\n",
            "36                     FreqEPessoa     0.276762\n",
            "38                      FreqEValor     0.222563\n",
            "31                      FreqECoisa     0.208482\n",
            "50          FreqPalavrasComunsTam4     0.172185\n",
            "32                      FreqELocal     0.163691\n",
            "7     FrequenciaPalavrasDuplicadas     0.154284\n",
            "42                         MedidaK     0.124415\n",
            "24           FreqTermosNaoTageados     0.119277\n",
            "22                    FreqPronomes     0.105890\n",
            "15                         FreqAdv     0.100361\n",
            "46             FreqPalavrasErradas     0.084512\n",
            "14                   FreqAdjetivos     0.083546\n",
            "13                    FreqCitacoes     0.079495\n",
            "49          FreqPalavrasComunsTam3     0.076480\n",
            "20                  FreqVerbosPtcp     0.074478\n",
            "28      FreqTotalEntidadesNomeadas     0.069403\n",
            "8           MediaSilabasPorPalavra     0.069180\n",
            "21                        FreqConj     0.062580\n",
            "26          FreqPalavrasFuncionais     0.056714\n",
            "48          FreqPalavrasComunsTam2     0.054638\n",
            "16                         FreqArt     0.048959\n",
            "18                        FreqPrep     0.048056\n",
            "53           FreqOperadoresLogicos     0.042504\n",
            "19                        FreqVerb     0.035827\n",
            "51             FrequenciaStopWords     0.034237\n",
            "40                         HerdanC     0.028714\n",
            "27        FrequenciaFrasesNominais     0.025541\n",
            "17                        FreqSubs     0.024090\n",
            "25          FreqPalavrasDeConteudo     0.019389\n",
            "44                           MaasA     0.018078\n"
          ],
          "name": "stdout"
        }
      ]
    },
    {
      "cell_type": "code",
      "metadata": {
        "id": "eA6hAlJi5ARi",
        "colab_type": "code",
        "colab": {
          "base_uri": "https://localhost:8080/",
          "height": 952
        },
        "outputId": "42dfe843-fafd-4452-d382-4fbfd8cb1dd4"
      },
      "source": [
        "# K-Best (chi2)\n",
        "best_k_features = SelectKBest(chi2, k=54).fit(df_news, y_news)\n",
        "dfscores = pd.DataFrame(best_k_features.scores_)\n",
        "dfcolumns = pd.DataFrame(df.columns)\n",
        "featureScores = pd.concat([dfcolumns,dfscores],axis=1)\n",
        "featureScores.columns = ['Feature','Score'] \n",
        "print(featureScores.nlargest(54,'Score'))"
      ],
      "execution_count": 13,
      "outputs": [
        {
          "output_type": "stream",
          "text": [
            "                           Feature        Score\n",
            "41                         HerdanV  1792.063637\n",
            "5               StdevTamParagrafos  1685.349566\n",
            "4           TamanhoMedioParagrafos  1099.484826\n",
            "2            TamanhoMedioSentencas   840.769641\n",
            "11                     Exclamacoes    58.801722\n",
            "3                   StdevSentencas    48.482351\n",
            "0                DiversidadeLexica    30.839284\n",
            "43                         DugastU    25.891400\n",
            "10                        Virgulas    20.952144\n",
            "39                        GuiraudR    13.163215\n",
            "12                      DoisPontos    11.441752\n",
            "9                            Ponto     9.311678\n",
            "23           PronomesPorPreposicao     6.155300\n",
            "52                    BRFleshIndex     4.241680\n",
            "1          TamanhoMedioDasPalavras     1.238665\n",
            "24           FreqTermosNaoTageados     0.704153\n",
            "34                       FreqEObra     0.488999\n",
            "22                    FreqPronomes     0.464900\n",
            "47  FrequenciaDeHapaxLegomenaLocal     0.405102\n",
            "35                      FreqEOutro     0.404252\n",
            "31                      FreqECoisa     0.388795\n",
            "13                    FreqCitacoes     0.381602\n",
            "46             FreqPalavrasErradas     0.378246\n",
            "36                     FreqEPessoa     0.312588\n",
            "15                         FreqAdv     0.296877\n",
            "37                      FreqETempo     0.272838\n",
            "38                      FreqEValor     0.265292\n",
            "29                  FreqEAbstracao     0.252077\n",
            "20                  FreqVerbosPtcp     0.250919\n",
            "17                        FreqSubs     0.219549\n",
            "32                      FreqELocal     0.205960\n",
            "50          FreqPalavrasComunsTam4     0.202862\n",
            "30              FreqEAcontecimento     0.196083\n",
            "49          FreqPalavrasComunsTam3     0.180497\n",
            "25          FreqPalavrasDeConteudo     0.162627\n",
            "6           FrequenciaDeParagrafos     0.158569\n",
            "42                         MedidaK     0.144637\n",
            "18                        FreqPrep     0.143351\n",
            "51             FrequenciaStopWords     0.139678\n",
            "8           MediaSilabasPorPalavra     0.120114\n",
            "21                        FreqConj     0.116475\n",
            "45                        HonoresH     0.097818\n",
            "48          FreqPalavrasComunsTam2     0.093471\n",
            "53           FreqOperadoresLogicos     0.092360\n",
            "26          FreqPalavrasFuncionais     0.088275\n",
            "7     FrequenciaPalavrasDuplicadas     0.074864\n",
            "16                         FreqArt     0.073945\n",
            "28      FreqTotalEntidadesNomeadas     0.073021\n",
            "33                FreqEOrganizacao     0.072267\n",
            "19                        FreqVerb     0.064958\n",
            "27        FrequenciaFrasesNominais     0.059985\n",
            "14                   FreqAdjetivos     0.036604\n",
            "44                           MaasA     0.007215\n",
            "40                         HerdanC     0.006801\n"
          ],
          "name": "stdout"
        }
      ]
    },
    {
      "cell_type": "code",
      "metadata": {
        "id": "RpEw6KTq27Q6",
        "colab_type": "code",
        "colab": {
          "base_uri": "https://localhost:8080/",
          "height": 952
        },
        "outputId": "b62c9745-91c9-42dd-8f8d-d24e0aeae721"
      },
      "source": [
        "# K-Best (f_classif)\n",
        "best_k_features = SelectKBest(f_classif, k=54).fit(df, y)\n",
        "dfscores = pd.DataFrame(best_k_features.scores_)\n",
        "dfcolumns = pd.DataFrame(df.columns)\n",
        "featureScores = pd.concat([dfcolumns,dfscores],axis=1)\n",
        "featureScores.columns = ['Feature','Score'] \n",
        "print(featureScores.nlargest(54,'Score'))"
      ],
      "execution_count": 14,
      "outputs": [
        {
          "output_type": "stream",
          "text": [
            "                           Feature     Score\n",
            "40                         HerdanC  3.929198\n",
            "47  FrequenciaDeHapaxLegomenaLocal  3.897632\n",
            "0                DiversidadeLexica  3.704376\n",
            "45                        HonoresH  3.677677\n",
            "3                   StdevSentencas  2.980987\n",
            "10                        Virgulas  2.902532\n",
            "7     FrequenciaPalavrasDuplicadas  2.701226\n",
            "43                         DugastU  2.634572\n",
            "9                            Ponto  2.433186\n",
            "44                           MaasA  2.357812\n",
            "28      FreqTotalEntidadesNomeadas  1.975839\n",
            "1          TamanhoMedioDasPalavras  1.816000\n",
            "51             FrequenciaStopWords  1.799109\n",
            "2            TamanhoMedioSentencas  1.750471\n",
            "4           TamanhoMedioParagrafos  1.721667\n",
            "6           FrequenciaDeParagrafos  1.646904\n",
            "50          FreqPalavrasComunsTam4  1.563717\n",
            "41                         HerdanV  1.523790\n",
            "14                   FreqAdjetivos  1.523693\n",
            "42                         MedidaK  1.509841\n",
            "37                      FreqETempo  1.461829\n",
            "5               StdevTamParagrafos  1.418687\n",
            "21                        FreqConj  1.260874\n",
            "26          FreqPalavrasFuncionais  1.251260\n",
            "8           MediaSilabasPorPalavra  1.249751\n",
            "52                    BRFleshIndex  1.248959\n",
            "20                  FreqVerbosPtcp  1.227229\n",
            "18                        FreqPrep  1.220524\n",
            "39                        GuiraudR  1.203934\n",
            "16                         FreqArt  1.140225\n",
            "22                    FreqPronomes  1.088508\n",
            "46             FreqPalavrasErradas  1.001306\n",
            "48          FreqPalavrasComunsTam2  0.981618\n",
            "35                      FreqEOutro  0.942357\n",
            "19                        FreqVerb  0.933703\n",
            "24           FreqTermosNaoTageados  0.931985\n",
            "23           PronomesPorPreposicao  0.916805\n",
            "30              FreqEAcontecimento  0.887278\n",
            "15                         FreqAdv  0.861767\n",
            "33                FreqEOrganizacao  0.850837\n",
            "25          FreqPalavrasDeConteudo  0.805462\n",
            "17                        FreqSubs  0.779586\n",
            "53           FreqOperadoresLogicos  0.748357\n",
            "49          FreqPalavrasComunsTam3  0.743125\n",
            "13                    FreqCitacoes  0.721224\n",
            "29                  FreqEAbstracao  0.718008\n",
            "27        FrequenciaFrasesNominais  0.684562\n",
            "11                     Exclamacoes  0.650388\n",
            "36                     FreqEPessoa  0.559506\n",
            "34                       FreqEObra  0.546502\n",
            "12                      DoisPontos  0.500607\n",
            "31                      FreqECoisa  0.433196\n",
            "38                      FreqEValor  0.411576\n",
            "32                      FreqELocal  0.365574\n"
          ],
          "name": "stdout"
        }
      ]
    },
    {
      "cell_type": "code",
      "metadata": {
        "id": "QHrOSn3i64ot",
        "colab_type": "code",
        "colab": {
          "base_uri": "https://localhost:8080/",
          "height": 581
        },
        "outputId": "a990d4ae-b3bd-4bcc-fe40-d83788706bd8"
      },
      "source": [
        "# Create the RFE object and compute a cross-validated score.\n",
        "rfc = RandomForestClassifier(n_estimators=200)\n",
        "# The \"accuracy\" scoring is proportional to the number of correct classifications\n",
        "\n",
        "rfecv = RFECV(estimator=rfc, step=1, cv=5,scoring='accuracy')\n",
        "rfecv.fit(df_news, y_news)\n",
        "\n",
        "print(\"Optimal number of features news-dataset: %d\" % rfecv.n_features_)\n",
        "\n",
        "rfecv2 = RFECV(estimator=rfc, step=1, cv=3,\n",
        "              scoring='accuracy')\n",
        "rfecv2.fit(df, y)\n",
        "\n",
        "print(\"Optimal number of features students-dataset: %d\" % rfecv2.n_features_)\n",
        "\n",
        "fig, (ax1, ax2) = plt.subplots(1, 2)\n",
        "fig.set_size_inches(12, 8)\n",
        "\n",
        "ax1.plot(range(1, len(rfecv.grid_scores_) + 1), rfecv.grid_scores_)\n",
        "ax1.set_xlabel(\"Number of features selected\")\n",
        "ax1.set_ylabel(\"Cross validation score (nb of correct classifications)\")\n",
        "ax1.set_title('Random Forest n=200 - News dataset')\n",
        "\n",
        "ax2.plot(range(1, len(rfecv2.grid_scores_) + 1), rfecv2.grid_scores_)\n",
        "ax2.set_xlabel(\"Number of features selected\")\n",
        "ax2.set_ylabel(\"Cross validation score (nb of correct classifications)\")\n",
        "ax2.set_title('Random Forest n=200 - Students dataset')\n",
        "\n",
        "plt.figure()"
      ],
      "execution_count": 16,
      "outputs": [
        {
          "output_type": "stream",
          "text": [
            "Optimal number of features news-dataset: 45\n",
            "Optimal number of features students-dataset: 35\n"
          ],
          "name": "stdout"
        },
        {
          "output_type": "execute_result",
          "data": {
            "text/plain": [
              "<Figure size 432x288 with 0 Axes>"
            ]
          },
          "metadata": {
            "tags": []
          },
          "execution_count": 16
        },
        {
          "output_type": "display_data",
          "data": {
            "image/png": "[encoded data removed]",
            "text/plain": [
              "<Figure size 864x576 with 2 Axes>"
            ]
          },
          "metadata": {
            "tags": [],
            "needs_background": "light"
          }
        },
        {
          "output_type": "display_data",
          "data": {
            "text/plain": [
              "<Figure size 432x288 with 0 Axes>"
            ]
          },
          "metadata": {
            "tags": []
          }
        }
      ]
    },
    {
      "cell_type": "code",
      "metadata": {
        "id": "SrMzJ2vOtsZG",
        "colab_type": "code",
        "outputId": "cff3f05b-67b7-4495-fc2c-22f0eb8c9cc6",
        "colab": {
          "base_uri": "https://localhost:8080/",
          "height": 316
        }
      },
      "source": [
        "svc = RandomForestClassifier(n_estimators=200)\n",
        "# The \"accuracy\" scoring is proportional to the number of correct\n",
        "# classifications\n",
        "rfecv = RFECV(estimator=svc, step=1, cv=5,\n",
        "              scoring='accuracy')\n",
        "rfecv.fit(df_news, y_news)\n",
        "\n",
        "print(\"Optimal number of features : %d\" % rfecv.n_features_)\n",
        "\n",
        "# Plot number of features VS. cross-validation scores\n",
        "plt.figure()\n",
        "plt.xlabel(\"Number of features selected\")\n",
        "plt.ylabel(\"Cross validation score (nb of correct classifications)\")\n",
        "plt.plot(range(1, len(rfecv.grid_scores_) + 1), rfecv.grid_scores_)\n",
        "plt.show()"
      ],
      "execution_count": 17,
      "outputs": [
        {
          "output_type": "stream",
          "text": [
            "Optimal number of features : 34\n"
          ],
          "name": "stdout"
        },
        {
          "output_type": "display_data",
          "data": {
            "image/png": "[encoded data removed]",
            "text/plain": [
              "<Figure size 432x288 with 1 Axes>"
            ]
          },
          "metadata": {
            "tags": [],
            "needs_background": "light"
          }
        }
      ]
    },
    {
      "cell_type": "code",
      "metadata": {
        "id": "xX-rbG4pTw8R",
        "colab_type": "code",
        "outputId": "5590747d-290b-44f4-aa71-6b6c9f5ef52e",
        "colab": {
          "base_uri": "https://localhost:8080/",
          "height": 204
        }
      },
      "source": [
        "# Visualize data\n",
        "df.shape\n",
        "df.head()\n",
        "df.shape\n",
        "raw_df.head()"
      ],
      "execution_count": 18,
      "outputs": [
        {
          "output_type": "execute_result",
          "data": {
            "text/html": [
              "<div>\n",
              "<style scoped>\n",
              "    .dataframe tbody tr th:only-of-type {\n",
              "        vertical-align: middle;\n",
              "    }\n",
              "\n",
              "    .dataframe tbody tr th {\n",
              "        vertical-align: top;\n",
              "    }\n",
              "\n",
              "    .dataframe thead th {\n",
              "        text-align: right;\n",
              "    }\n",
              "</style>\n",
              "<table border=\"1\" class=\"dataframe\">\n",
              "  <thead>\n",
              "    <tr style=\"text-align: right;\">\n",
              "      <th></th>\n",
              "      <th>Text</th>\n",
              "    </tr>\n",
              "  </thead>\n",
              "  <tbody>\n",
              "    <tr>\n",
              "      <th>1</th>\n",
              "      <td>respostas ecologia evolutiva retirar amostra p...</td>\n",
              "    </tr>\n",
              "    <tr>\n",
              "      <th>2</th>\n",
              "      <td>1 - competição membros espécies diferentes usa...</td>\n",
              "    </tr>\n",
              "    <tr>\n",
              "      <th>3</th>\n",
              "      <td>embora temática questão ambiental crescente an...</td>\n",
              "    </tr>\n",
              "    <tr>\n",
              "      <th>5</th>\n",
              "      <td>vem cada dia buscando entender relações estabe...</td>\n",
              "    </tr>\n",
              "    <tr>\n",
              "      <th>6</th>\n",
              "      <td>pode-se dizer que, conservar dado habitat dada...</td>\n",
              "    </tr>\n",
              "  </tbody>\n",
              "</table>\n",
              "</div>"
            ],
            "text/plain": [
              "                                                Text\n",
              "1  respostas ecologia evolutiva retirar amostra p...\n",
              "2  1 - competição membros espécies diferentes usa...\n",
              "3  embora temática questão ambiental crescente an...\n",
              "5  vem cada dia buscando entender relações estabe...\n",
              "6  pode-se dizer que, conservar dado habitat dada..."
            ]
          },
          "metadata": {
            "tags": []
          },
          "execution_count": 18
        }
      ]
    },
    {
      "cell_type": "code",
      "metadata": {
        "id": "EWwBfLgS-zZA",
        "colab_type": "code",
        "colab": {}
      },
      "source": [
        "stopwords = nltk.corpus.stopwords.words('portuguese')\n",
        "raw_df['Text'] = raw_df['Text'].apply(lambda x: ' '.join([word for word in x.split() if word.lower() not in (stopwords)]))"
      ],
      "execution_count": 0,
      "outputs": []
    },
    {
      "cell_type": "code",
      "metadata": {
        "id": "gxmBkJBicT8u",
        "colab_type": "code",
        "colab": {}
      },
      "source": [
        "raw_df = raw_df.replace(to_replace ='\\r', value = ' ', regex = True) \n",
        "raw_df = raw_df.replace(to_replace ='\\n ', value = '\\n', regex = True) \n",
        "raw_df = raw_df.replace(to_replace ='\\n{2,*}', value = ' ', regex = True)"
      ],
      "execution_count": 0,
      "outputs": []
    },
    {
      "cell_type": "code",
      "metadata": {
        "id": "2zKovLDZF0Le",
        "colab_type": "code",
        "outputId": "caa02420-aaa7-4a4f-86e7-203a8a19d2b5",
        "colab": {
          "base_uri": "https://localhost:8080/",
          "height": 221
        }
      },
      "source": [
        "raw_df['Text']"
      ],
      "execution_count": 21,
      "outputs": [
        {
          "output_type": "execute_result",
          "data": {
            "text/plain": [
              "1      respostas ecologia evolutiva retirar amostra p...\n",
              "2      1 - competição membros espécies diferentes usa...\n",
              "3      embora temática questão ambiental crescente an...\n",
              "5      vem cada dia buscando entender relações estabe...\n",
              "6      pode-se dizer que, conservar dado habitat dada...\n",
              "                             ...                        \n",
              "92     referencial teórico: anuras (bufonídeos) sapos...\n",
              "93     congregação santa – – segunda conferência orga...\n",
              "94     congregação santa biológicas educação ambienta...\n",
              "95     disciplina: orientação supervisão estágio ii p...\n",
              "102    biologia tendências perspectivas atuais aborda...\n",
              "Name: Text, Length: 69, dtype: object"
            ]
          },
          "metadata": {
            "tags": []
          },
          "execution_count": 21
        }
      ]
    },
    {
      "cell_type": "code",
      "metadata": {
        "id": "XKDn9mh9-DJ7",
        "colab_type": "code",
        "colab": {}
      },
      "source": [
        "tfidf_transformer = TfidfTransformer()\n",
        "X_idf = tfidf_transformer.fit_transform(raw_df['Text'])"
      ],
      "execution_count": 0,
      "outputs": []
    },
    {
      "cell_type": "code",
      "metadata": {
        "id": "MOMw5Fol0K4e",
        "colab_type": "code",
        "colab": {
          "base_uri": "https://localhost:8080/",
          "height": 280
        },
        "outputId": "41899cbd-3a1a-4246-d9ee-8c5a910412b3"
      },
      "source": [
        "gx = GaussianMixture()\n",
        "\n",
        "#gx.fit(df)\n",
        "n_components = np.arange(1, 30)\n",
        "models = [GaussianMixture(n, covariance_type='full', random_state=0).fit(df) for n in n_components]\n",
        "plt.plot(n_components, [m.bic(df) for m in models], label='BIC')\n",
        "plt.plot(n_components, [m.aic(df) for m in models], label='AIC')\n",
        "plt.legend(loc='best')\n",
        "plt.xlabel('n_components');"
      ],
      "execution_count": 23,
      "outputs": [
        {
          "output_type": "display_data",
          "data": {
            "image/png": "[encoded data removed]",
            "text/plain": [
              "<Figure size 432x288 with 1 Axes>"
            ]
          },
          "metadata": {
            "tags": [],
            "needs_background": "light"
          }
        }
      ]
    },
    {
      "cell_type": "code",
      "metadata": {
        "id": "RKlDyIDsFaxY",
        "colab_type": "code",
        "colab": {
          "base_uri": "https://localhost:8080/",
          "height": 265
        },
        "outputId": "ce09972f-490a-4848-f81a-d151a47690c1"
      },
      "source": [
        "gmm = GaussianMixture(n_components=5)\n",
        "gmm.fit(df)\n",
        "labels = gmm.predict(df.values)\n",
        "plt.scatter(df.values[:, 0], df.values[:, 6], c=labels, cmap='viridis');"
      ],
      "execution_count": 24,
      "outputs": [
        {
          "output_type": "display_data",
          "data": {
            "image/png": "[encoded data removed]",
            "text/plain": [
              "<Figure size 432x288 with 1 Axes>"
            ]
          },
          "metadata": {
            "tags": [],
            "needs_background": "light"
          }
        }
      ]
    },
    {
      "cell_type": "code",
      "metadata": {
        "id": "Ic8g1H1gBU-n",
        "colab_type": "code",
        "colab": {}
      },
      "source": [
        "scaler = StandardScaler()\n",
        "# Fit on training set only.\n",
        "x = scaler.fit_transform(df)\n",
        "\n",
        "pca = PCA(0.95)\n",
        "X = pca.fit_transform(x)"
      ],
      "execution_count": 0,
      "outputs": []
    },
    {
      "cell_type": "code",
      "metadata": {
        "id": "sFRc0ZG2_r6l",
        "colab_type": "code",
        "colab": {}
      },
      "source": [
        "#W2Vec tryout\n",
        "from sklearn.feature_extraction.text import CountVectorizer\n",
        "from sklearn.feature_extraction.text import TfidfTransformer,TfidfVectorizer\n",
        "from sklearn.naive_bayes import MultinomialNB\n",
        "from sklearn.feature_extraction.text import CountVectorizer\n",
        "from sklearn.feature_extraction.text import TfidfTransformer\n",
        "\n",
        "# count_vect = CountVectorizer()\n",
        "# word_count_vector = count_vect.fit_transform(raw_df['Text'])\n",
        " \n",
        "# settings that you use for count vectorizer will go here\n",
        "#tfidf_vectorizer=TfidfVectorizer(use_idf=True)\n",
        " \n",
        "# just send in all your docs here\n",
        "#tfidf_vectorizer_vectors=tfidf_vectorizer.fit_transform(raw_df['Text'])\n",
        "\n",
        "# tfidf_transformer = TfidfTransformer()\n",
        "# X_raw = tfidf_transformer.fit_transform(X_train_counts)\n",
        "#tfidf_vectorizer_vectors[0].to\n",
        "\n",
        "# for train_index, test_index in kfold.split(X_raw, encoded_raw_Y):\n",
        "#   X_train, y_train = X_raw[train_index], encoded_raw_Y[train_index]\n",
        "#   X_test, y_test = X_raw[test_index], encoded_raw_Y[test_index]\n",
        "#   print(X_raw[train_index])\n",
        "\n",
        "\n",
        "\n",
        "X_train, X_test, y_train, y_test = train_test_split(raw_df['Text'], encoded_raw_Y, random_state = 0)\n",
        "count_vect = CountVectorizer()\n",
        "X_train_counts = count_vect.fit_transform(X_train)\n",
        "tfidf_transformer = TfidfTransformer()\n",
        "X_train_tfidf = tfidf_transformer.fit_transform(X_train_counts)\n",
        "clf = MultinomialNB().fit(X_train_tfidf, y_train)"
      ],
      "execution_count": 0,
      "outputs": []
    },
    {
      "cell_type": "code",
      "metadata": {
        "id": "EEPBnuGac-Jw",
        "colab_type": "code",
        "colab": {
          "base_uri": "https://localhost:8080/",
          "height": 394
        },
        "outputId": "884bb39e-73ca-43fb-c23b-bb423cc3397d"
      },
      "source": [
        "stopwords = nltk.corpus.stopwords.words('portuguese')\n",
        "#models = [AdaBoostClassifier(), BaggingClassifier(),ExtraTreesClassifier(), GradientBoostingClassifier(),\n",
        "           #RandomForestClassifier(), SGDClassifier(), LinearSVC(), SVC(), BernoulliNB(), MultinomialNB(), MLPClassifier() ]\n",
        "\n",
        "models = [ExtraTreesClassifier(), RandomForestClassifier(), SGDClassifier(), MultinomialNB(), MLPClassifier()]\n",
        "names = ['extratrees', 'randomf', 'sgdclassfier','multinomialNB', 'mlp']\n",
        "\n",
        "results = []\n",
        "accuracies = {}\n",
        "for idx, model in enumerate(models):\n",
        "  for ngram in range(1,5):\n",
        "    clf = make_pipeline(TfidfVectorizer(use_idf=True, stop_words = stopwords, ngram_range=(1, ngram)), model)\n",
        "    accs = []\n",
        "    for i in range(0, 10):\n",
        "      scores = cross_validate(clf, raw_df['Text'], encoded_raw_Y, scoring=['accuracy'], cv=3, return_train_score=True)\n",
        "      #print(np.mean(scores['test_accuracy']))\n",
        "      #print(component, names[idx])\n",
        "      #print(scores['test_accuracy'])\n",
        "      mean = np.mean(scores['test_accuracy'])\n",
        "    accs.append(mean)\n",
        "    results.append((np.mean(accs), ngram, names[idx]))\n",
        "\n",
        "print(results)\n",
        "results"
      ],
      "execution_count": 27,
      "outputs": [
        {
          "output_type": "stream",
          "text": [
            "[(0.21739130434782608, 1, 'extratrees'), (0.24637681159420288, 2, 'extratrees'), (0.2028985507246377, 3, 'extratrees'), (0.2028985507246377, 4, 'extratrees'), (0.2318840579710145, 1, 'randomf'), (0.24637681159420288, 2, 'randomf'), (0.20289855072463767, 3, 'randomf'), (0.14492753623188406, 4, 'randomf'), (0.18840579710144925, 1, 'sgdclassfier'), (0.1884057971014493, 2, 'sgdclassfier'), (0.20289855072463767, 3, 'sgdclassfier'), (0.2028985507246377, 4, 'sgdclassfier'), (0.17391304347826086, 1, 'multinomialNB'), (0.14492753623188406, 2, 'multinomialNB'), (0.14492753623188406, 3, 'multinomialNB'), (0.14492753623188406, 4, 'multinomialNB'), (0.2318840579710145, 1, 'mlp'), (0.17391304347826086, 2, 'mlp'), (0.2028985507246377, 3, 'mlp'), (0.24637681159420288, 4, 'mlp')]\n"
          ],
          "name": "stdout"
        },
        {
          "output_type": "execute_result",
          "data": {
            "text/plain": [
              "[(0.21739130434782608, 1, 'extratrees'),\n",
              " (0.24637681159420288, 2, 'extratrees'),\n",
              " (0.2028985507246377, 3, 'extratrees'),\n",
              " (0.2028985507246377, 4, 'extratrees'),\n",
              " (0.2318840579710145, 1, 'randomf'),\n",
              " (0.24637681159420288, 2, 'randomf'),\n",
              " (0.20289855072463767, 3, 'randomf'),\n",
              " (0.14492753623188406, 4, 'randomf'),\n",
              " (0.18840579710144925, 1, 'sgdclassfier'),\n",
              " (0.1884057971014493, 2, 'sgdclassfier'),\n",
              " (0.20289855072463767, 3, 'sgdclassfier'),\n",
              " (0.2028985507246377, 4, 'sgdclassfier'),\n",
              " (0.17391304347826086, 1, 'multinomialNB'),\n",
              " (0.14492753623188406, 2, 'multinomialNB'),\n",
              " (0.14492753623188406, 3, 'multinomialNB'),\n",
              " (0.14492753623188406, 4, 'multinomialNB'),\n",
              " (0.2318840579710145, 1, 'mlp'),\n",
              " (0.17391304347826086, 2, 'mlp'),\n",
              " (0.2028985507246377, 3, 'mlp'),\n",
              " (0.24637681159420288, 4, 'mlp')]"
            ]
          },
          "metadata": {
            "tags": []
          },
          "execution_count": 27
        }
      ]
    },
    {
      "cell_type": "code",
      "metadata": {
        "id": "7HyGlvnLJROc",
        "colab_type": "code",
        "colab": {}
      },
      "source": [
        "# Data normalization/scaling\n",
        "scaled_features = PowerTransformer().fit_transform(df.values)\n",
        "df = pd.DataFrame(scaled_features, index=df.index, columns=df.columns)\n"
      ],
      "execution_count": 0,
      "outputs": []
    },
    {
      "cell_type": "code",
      "metadata": {
        "id": "CXgZaN4As-nl",
        "colab_type": "code",
        "colab": {
          "base_uri": "https://localhost:8080/",
          "height": 153
        },
        "outputId": "b5d5dfb1-3cbb-4304-9155-9606a3770021"
      },
      "source": [
        "X, X_test, Y, y_test = train_test_split(df_news.values, encoded_y_news, random_state=7, test_size=0.3)\n",
        "X_test, X_val, y_test, y_val = train_test_split(X_test, y_test, random_state=7, test_size=0.5)\n",
        "\n",
        "model = ExtraTreesClassifier(n_estimators=350, random_state=11)\n",
        "print(X.shape)\n",
        "model.fit(X, Y)\n",
        "\n",
        "print(X_test.shape)\n",
        "y_pred = model.predict(X_test)\n",
        "\n",
        "print(y_pred)\n",
        "print(y_test)\n",
        "score = accuracy_score(y_test, y_pred)\n",
        "print(\"Test score: %.2f%%\" % (score * 100))\n",
        "\n",
        "y_pred = model.predict(X_val)\n",
        "print(y_pred)\n",
        "print(y_val)\n",
        "score = accuracy_score(y_val, y_pred)\n",
        "print(\"Validation score: %.2f%%\" % (score * 100))"
      ],
      "execution_count": 29,
      "outputs": [
        {
          "output_type": "stream",
          "text": [
            "(70, 54)\n",
            "(15, 54)\n",
            "[2 6 7 2 7 2 0 2 0 8 2 2 2 4 4]\n",
            "[2 6 6 8 7 0 0 3 0 8 2 8 2 4 4]\n",
            "Test score: 66.67%\n",
            "[3 5 3 1 4 2 1 7 2 2 6 2 8 7 3]\n",
            "[3 5 1 1 4 8 1 7 2 2 6 8 8 2 3]\n",
            "Validation score: 73.33%\n"
          ],
          "name": "stdout"
        }
      ]
    },
    {
      "cell_type": "code",
      "metadata": {
        "id": "vX53th7hZJSW",
        "colab_type": "code",
        "colab": {
          "base_uri": "https://localhost:8080/",
          "height": 54
        },
        "outputId": "b6334ccb-4ebf-4117-fcd1-2101da550715"
      },
      "source": [
        "#stopwords = nltk.corpus.stopwords.words('portuguese')\n",
        "models = [ExtraTreesClassifier(), \n",
        "           RandomForestClassifier(), SVC(kernel='poly'), SVC(), MLPClassifier() ]\n",
        "\n",
        "names = ['extratrees','randomf', 'svcpoly', 'svcrbf', 'mlp']\n",
        "\n",
        "#results = []\n",
        "results2 = []\n",
        "accuracies = {}\n",
        "kfold = StratifiedKFold(n_splits=4, shuffle=True, random_state=7)\n",
        "for idx, model in enumerate(models):\n",
        "  for component in range(5, 48):\n",
        "    clf = make_pipeline(PCA(n_components=component), model)\n",
        "    accs = []\n",
        "    for i in range(0, 10):\n",
        "      scores = []\n",
        "      for train_index, test_index in kfold.split(df, encoded_Y):\n",
        "        X_train, y_train = df.iloc[train_index], encoded_Y[train_index]\n",
        "        X_test, y_test = df.iloc[test_index], encoded_Y[test_index]\n",
        "        #X_train_oversampled, y_train_oversampled = SMOTE(k_neighbors=2).fit_sample(X_train, y_train)\n",
        "        model.fit(X_train, y_train)\n",
        "        y_pred = model.predict(X_test)\n",
        "        scores.append(accuracy_score(y_test, y_pred))\n",
        "        #print(np.mean(scores['test_accuracy']))\n",
        "        #print(component, names[idx])\n",
        "        #print(scores['test_accuracy'])\n",
        "      mean = np.mean(scores)\n",
        "      accs.append(mean)\n",
        "    results2.append((np.mean(accs), component, names[idx]))\n",
        "print(results2)"
      ],
      "execution_count": 30,
      "outputs": [
        {
          "output_type": "stream",
          "text": [
            "[(0.17663398692810456, 5, 'extratrees'), (0.18815359477124183, 6, 'extratrees'), (0.19133986928104574, 7, 'extratrees'), (0.1793300653594771, 8, 'extratrees'), (0.17058823529411765, 9, 'extratrees'), (0.17908496732026144, 10, 'extratrees'), (0.17181372549019608, 11, 'extratrees'), (0.18341503267973855, 12, 'extratrees'), (0.1853758169934641, 13, 'extratrees'), (0.1883986928104575, 14, 'extratrees'), (0.1901143790849673, 15, 'extratrees'), (0.18235294117647058, 16, 'extratrees'), (0.1935457516339869, 17, 'extratrees'), (0.1849673202614379, 18, 'extratrees'), (0.16911764705882354, 19, 'extratrees'), (0.175, 20, 'extratrees'), (0.19387254901960782, 21, 'extratrees'), (0.17230392156862745, 22, 'extratrees'), (0.1919934640522876, 23, 'extratrees'), (0.18766339869281043, 24, 'extratrees'), (0.16830065359477125, 25, 'extratrees'), (0.1730392156862745, 26, 'extratrees'), (0.18031045751633987, 27, 'extratrees'), (0.18382352941176472, 28, 'extratrees'), (0.17508169934640522, 29, 'extratrees'), (0.18790849673202614, 30, 'extratrees'), (0.1707516339869281, 31, 'extratrees'), (0.20212418300653595, 32, 'extratrees'), (0.18513071895424837, 33, 'extratrees'), (0.18562091503267975, 34, 'extratrees'), (0.1724673202614379, 35, 'extratrees'), (0.1824346405228758, 36, 'extratrees'), (0.19215686274509805, 37, 'extratrees'), (0.1926470588235294, 38, 'extratrees'), (0.16331699346405232, 39, 'extratrees'), (0.19501633986928107, 40, 'extratrees'), (0.1834967320261438, 41, 'extratrees'), (0.19150326797385622, 42, 'extratrees'), (0.1920751633986928, 43, 'extratrees'), (0.1936274509803922, 44, 'extratrees'), (0.18521241830065363, 45, 'extratrees'), (0.1847222222222222, 46, 'extratrees'), (0.1951797385620915, 47, 'extratrees'), (0.19477124183006536, 5, 'randomf'), (0.2051470588235294, 6, 'randomf'), (0.2079248366013072, 7, 'randomf'), (0.20375816993464052, 8, 'randomf'), (0.2053104575163399, 9, 'randomf'), (0.2008169934640523, 10, 'randomf'), (0.2107843137254902, 11, 'randomf'), (0.19060457516339868, 12, 'randomf'), (0.19060457516339868, 13, 'randomf'), (0.1982843137254902, 14, 'randomf'), (0.1946078431372549, 15, 'randomf'), (0.2090686274509804, 16, 'randomf'), (0.20106209150326798, 17, 'randomf'), (0.20767973856209151, 18, 'randomf'), (0.20522875816993466, 19, 'randomf'), (0.19477124183006536, 20, 'randomf'), (0.21086601307189543, 21, 'randomf'), (0.19926470588235295, 22, 'randomf'), (0.19362745098039214, 23, 'randomf'), (0.19207516339869282, 24, 'randomf'), (0.17467320261437908, 25, 'randomf'), (0.19076797385620917, 26, 'randomf'), (0.19501633986928105, 27, 'randomf'), (0.20089869281045752, 28, 'randomf'), (0.20375816993464055, 29, 'randomf'), (0.20359477124183006, 30, 'randomf'), (0.20375816993464052, 31, 'randomf'), (0.19035947712418302, 32, 'randomf'), (0.21495098039215685, 33, 'randomf'), (0.1852124183006536, 34, 'randomf'), (0.2125, 35, 'randomf'), (0.1931372549019608, 36, 'randomf'), (0.20351307189542484, 37, 'randomf'), (0.20359477124183006, 38, 'randomf'), (0.21830065359477122, 39, 'randomf'), (0.20816993464052286, 40, 'randomf'), (0.2125, 41, 'randomf'), (0.20988562091503268, 42, 'randomf'), (0.2019607843137255, 43, 'randomf'), (0.2107843137254902, 44, 'randomf'), (0.1821078431372549, 45, 'randomf'), (0.21666666666666665, 46, 'randomf'), (0.2011437908496732, 47, 'randomf'), (0.13071895424836602, 5, 'svcpoly'), (0.13071895424836602, 6, 'svcpoly'), (0.13071895424836602, 7, 'svcpoly'), (0.13071895424836602, 8, 'svcpoly'), (0.13071895424836602, 9, 'svcpoly'), (0.13071895424836602, 10, 'svcpoly'), (0.13071895424836602, 11, 'svcpoly'), (0.13071895424836602, 12, 'svcpoly'), (0.13071895424836602, 13, 'svcpoly'), (0.13071895424836602, 14, 'svcpoly'), (0.13071895424836602, 15, 'svcpoly'), (0.13071895424836602, 16, 'svcpoly'), (0.13071895424836602, 17, 'svcpoly'), (0.13071895424836602, 18, 'svcpoly'), (0.13071895424836602, 19, 'svcpoly'), (0.13071895424836602, 20, 'svcpoly'), (0.13071895424836602, 21, 'svcpoly'), (0.13071895424836602, 22, 'svcpoly'), (0.13071895424836602, 23, 'svcpoly'), (0.13071895424836602, 24, 'svcpoly'), (0.13071895424836602, 25, 'svcpoly'), (0.13071895424836602, 26, 'svcpoly'), (0.13071895424836602, 27, 'svcpoly'), (0.13071895424836602, 28, 'svcpoly'), (0.13071895424836602, 29, 'svcpoly'), (0.13071895424836602, 30, 'svcpoly'), (0.13071895424836602, 31, 'svcpoly'), (0.13071895424836602, 32, 'svcpoly'), (0.13071895424836602, 33, 'svcpoly'), (0.13071895424836602, 34, 'svcpoly'), (0.13071895424836602, 35, 'svcpoly'), (0.13071895424836602, 36, 'svcpoly'), (0.13071895424836602, 37, 'svcpoly'), (0.13071895424836602, 38, 'svcpoly'), (0.13071895424836602, 39, 'svcpoly'), (0.13071895424836602, 40, 'svcpoly'), (0.13071895424836602, 41, 'svcpoly'), (0.13071895424836602, 42, 'svcpoly'), (0.13071895424836602, 43, 'svcpoly'), (0.13071895424836602, 44, 'svcpoly'), (0.13071895424836602, 45, 'svcpoly'), (0.13071895424836602, 46, 'svcpoly'), (0.13071895424836602, 47, 'svcpoly'), (0.14297385620915032, 5, 'svcrbf'), (0.14297385620915032, 6, 'svcrbf'), (0.14297385620915032, 7, 'svcrbf'), (0.14297385620915032, 8, 'svcrbf'), (0.14297385620915032, 9, 'svcrbf'), (0.14297385620915032, 10, 'svcrbf'), (0.14297385620915032, 11, 'svcrbf'), (0.14297385620915032, 12, 'svcrbf'), (0.14297385620915032, 13, 'svcrbf'), (0.14297385620915032, 14, 'svcrbf'), (0.14297385620915032, 15, 'svcrbf'), (0.14297385620915032, 16, 'svcrbf'), (0.14297385620915032, 17, 'svcrbf'), (0.14297385620915032, 18, 'svcrbf'), (0.14297385620915032, 19, 'svcrbf'), (0.14297385620915032, 20, 'svcrbf'), (0.14297385620915032, 21, 'svcrbf'), (0.14297385620915032, 22, 'svcrbf'), (0.14297385620915032, 23, 'svcrbf'), (0.14297385620915032, 24, 'svcrbf'), (0.14297385620915032, 25, 'svcrbf'), (0.14297385620915032, 26, 'svcrbf'), (0.14297385620915032, 27, 'svcrbf'), (0.14297385620915032, 28, 'svcrbf'), (0.14297385620915032, 29, 'svcrbf'), (0.14297385620915032, 30, 'svcrbf'), (0.14297385620915032, 31, 'svcrbf'), (0.14297385620915032, 32, 'svcrbf'), (0.14297385620915032, 33, 'svcrbf'), (0.14297385620915032, 34, 'svcrbf'), (0.14297385620915032, 35, 'svcrbf'), (0.14297385620915032, 36, 'svcrbf'), (0.14297385620915032, 37, 'svcrbf'), (0.14297385620915032, 38, 'svcrbf'), (0.14297385620915032, 39, 'svcrbf'), (0.14297385620915032, 40, 'svcrbf'), (0.14297385620915032, 41, 'svcrbf'), (0.14297385620915032, 42, 'svcrbf'), (0.14297385620915032, 43, 'svcrbf'), (0.14297385620915032, 44, 'svcrbf'), (0.14297385620915032, 45, 'svcrbf'), (0.14297385620915032, 46, 'svcrbf'), (0.14297385620915032, 47, 'svcrbf'), (0.1929738562091503, 5, 'mlp'), (0.17679738562091502, 6, 'mlp'), (0.19452614379084968, 7, 'mlp'), (0.180718954248366, 8, 'mlp'), (0.17802287581699344, 9, 'mlp'), (0.183578431372549, 10, 'mlp'), (0.1724673202614379, 11, 'mlp'), (0.17540849673202613, 12, 'mlp'), (0.1705065359477124, 13, 'mlp'), (0.19844771241830064, 14, 'mlp'), (0.1793300653594771, 15, 'mlp'), (0.1736111111111111, 16, 'mlp'), (0.19272875816993465, 17, 'mlp'), (0.18562091503267975, 18, 'mlp'), (0.16307189542483658, 19, 'mlp'), (0.1824346405228758, 20, 'mlp'), (0.18276143790849672, 21, 'mlp'), (0.18709150326797386, 22, 'mlp'), (0.18112745098039215, 23, 'mlp'), (0.18112745098039212, 24, 'mlp'), (0.19722222222222224, 25, 'mlp'), (0.17949346405228755, 26, 'mlp'), (0.1826797385620915, 27, 'mlp'), (0.19697712418300653, 28, 'mlp'), (0.18815359477124183, 29, 'mlp'), (0.17802287581699344, 30, 'mlp'), (0.17524509803921567, 31, 'mlp'), (0.18537581699346406, 32, 'mlp'), (0.1652777777777778, 33, 'mlp'), (0.1790849673202614, 34, 'mlp'), (0.19003267973856208, 35, 'mlp'), (0.17230392156862742, 36, 'mlp'), (0.19411764705882356, 37, 'mlp'), (0.1580065359477124, 38, 'mlp'), (0.18251633986928104, 39, 'mlp'), (0.17933006535947715, 40, 'mlp'), (0.1690359477124183, 41, 'mlp'), (0.17352941176470588, 42, 'mlp'), (0.18366013071895423, 43, 'mlp'), (0.172140522875817, 44, 'mlp'), (0.17483660130718953, 45, 'mlp'), (0.17361111111111113, 46, 'mlp'), (0.18120915032679738, 47, 'mlp')]\n"
          ],
          "name": "stdout"
        }
      ]
    },
    {
      "cell_type": "code",
      "metadata": {
        "id": "cHU4EuiXKQV9",
        "colab_type": "code",
        "colab": {
          "base_uri": "https://localhost:8080/",
          "height": 34
        },
        "outputId": "8f7f4832-b941-493c-b766-8cec8bbeff07"
      },
      "source": [
        "np.mean(accs)"
      ],
      "execution_count": 31,
      "outputs": [
        {
          "output_type": "execute_result",
          "data": {
            "text/plain": [
              "0.18120915032679738"
            ]
          },
          "metadata": {
            "tags": []
          },
          "execution_count": 31
        }
      ]
    },
    {
      "cell_type": "code",
      "metadata": {
        "id": "Ez2sJwp__yQm",
        "colab_type": "code",
        "colab": {
          "base_uri": "https://localhost:8080/",
          "height": 34
        },
        "outputId": "aa935ae0-32fa-45e3-c4a4-aac045a3d372"
      },
      "source": [
        "kfold = StratifiedKFold(n_splits=3, shuffle=True, random_state=7)\n",
        "Y = encoded_Y\n",
        "accuracies = []\n",
        "variances = []\n",
        "X = df\n",
        "\n",
        "models = [ExtraTreesClassifier(), RandomForestClassifier(), MLPClassifier(), SVC(kernel='poly')]\n",
        "for i in range(0,100):\n",
        "  scores = []\n",
        "  for train_index, test_index in kfold.split(X, Y):\n",
        "      #convert integers to dummy variables (i.e. one hot encoded)\n",
        "      #dummy_y = np_utils.to_categorical(Y)\n",
        "      X_train, y_train = X.iloc[train_index], Y[train_index]\n",
        "      X_test, y_test = X.iloc[test_index], Y[test_index]\n",
        "      X_train_oversampled, y_train_oversampled = SMOTE(k_neighbors=1).fit_sample(X_train, y_train)\n",
        "      #rfclf = LinearSVC(multi_class='crammer_singer')\n",
        "      \n",
        "      #rfclf = KNeighborsClassifier(n_neighbors=5)\n",
        "      #rclf = BaggingClassifier(base_estimator=KNeighborsClassifier(n_neighbors=5), n_estimators=100, random_state=0)\n",
        "      #rfclf = ExtraTreesClassifier(max_depth=None, n_estimators=500)\n",
        "      rfclf = LogisticRegression(max_iter=500,solver ='lbfgs')\n",
        "      #rfclf = RandomForestClassifier(n_estimators=500)\n",
        "      rfclf.fit(X_train_oversampled, y_train_oversampled)\n",
        "      y_pred = rfclf.predict(X_test)\n",
        "      #print(confusion_matrix(y_test,y_pred))\n",
        "      #print(classification_report(y_test,y_pred))\n",
        "      #print(accuracy_score(y_test, y_pred))\n",
        "      scores.append(accuracy_score(y_test, y_pred))\n",
        "\n",
        "  accuracies.append(np.mean(scores))\n",
        "print(np.mean(accuracies))"
      ],
      "execution_count": 32,
      "outputs": [
        {
          "output_type": "stream",
          "text": [
            "0.16521739130434782\n"
          ],
          "name": "stdout"
        }
      ]
    },
    {
      "cell_type": "code",
      "metadata": {
        "id": "0CHmkX29E9dk",
        "colab_type": "code",
        "colab": {
          "base_uri": "https://localhost:8080/",
          "height": 34
        },
        "outputId": "4d12d954-53af-4dc1-dc10-b95557c49312"
      },
      "source": [
        "from sklearn.model_selection import cross_val_score\n",
        "clf = RandomForestClassifier(n_estimators=200, random_state=0)\n",
        "scores = cross_val_score(clf, X, Y, cv=4)\n",
        "scores"
      ],
      "execution_count": 33,
      "outputs": [
        {
          "output_type": "execute_result",
          "data": {
            "text/plain": [
              "array([0.16666667, 0.11764706, 0.35294118, 0.29411765])"
            ]
          },
          "metadata": {
            "tags": []
          },
          "execution_count": 33
        }
      ]
    },
    {
      "cell_type": "code",
      "metadata": {
        "id": "l-LWQrc-6El7",
        "colab_type": "code",
        "colab": {
          "base_uri": "https://localhost:8080/",
          "height": 323
        },
        "outputId": "44915d48-cc0d-4c29-e23e-7bc7e6d4bae9"
      },
      "source": [
        "# Oversampling \n",
        "from imblearn.over_sampling import SMOTE\n",
        "\n",
        "\n",
        "smt = SMOTE(k_neighbors=1)\n",
        "X_resampled, y_resampled = smt.fit_resample(X_train, y_train)\n",
        "\n",
        "X_resampled, y_resampled"
      ],
      "execution_count": 34,
      "outputs": [
        {
          "output_type": "execute_result",
          "data": {
            "text/plain": [
              "(array([[-0.55435527, -0.2501882 ,  0.26426935, ...,  1.099827  ,\n",
              "         -0.34048617,  1.09949053],\n",
              "        [ 0.20627463, -0.06161256,  0.58115466, ..., -0.40604434,\n",
              "          0.72685816, -0.94413924],\n",
              "        [ 3.26473613, -2.43843207, -0.27922395, ..., -0.26862725,\n",
              "         -0.96006101,  0.41517329],\n",
              "        ...,\n",
              "        [-0.22854103,  1.1883863 , -0.62574551, ...,  0.45081812,\n",
              "          0.14941078,  1.60373883],\n",
              "        [ 0.45928549, -0.59271705, -0.06906793, ...,  0.55687088,\n",
              "         -0.09401901,  0.15694371],\n",
              "        [ 0.37338248, -0.57500306, -0.10807071, ...,  0.35622545,\n",
              "         -0.00905081,  0.14349321]]),\n",
              " array([ 4,  1,  8,  7,  0,  0,  0,  4, 10,  7,  9,  7,  6,  7,  1,  5,  8,\n",
              "         8,  8,  1,  5,  6,  9,  4,  3,  3,  3,  6,  0, 10,  6,  2,  4,  3,\n",
              "        10,  6,  7,  0, 10,  2,  7,  0, 10,  6,  0,  1,  1,  1,  1,  2,  2,\n",
              "         2,  2,  2,  3,  3,  3,  4,  4,  4,  5,  5,  5,  5,  5,  6,  7,  8,\n",
              "         8,  8,  9,  9,  9,  9,  9, 10, 10]))"
            ]
          },
          "metadata": {
            "tags": []
          },
          "execution_count": 34
        }
      ]
    },
    {
      "cell_type": "code",
      "metadata": {
        "id": "NNCvBjOW2vYS",
        "colab_type": "code",
        "colab": {
          "base_uri": "https://localhost:8080/",
          "height": 68
        },
        "outputId": "b1d10915-38b6-48f4-a837-cba15466b43d"
      },
      "source": [
        "# Data split\n",
        "\n",
        "X_train, X_test, y_train, y_test = train_test_split(df, encoded_Y, test_size=0.3, random_state=0)\n",
        "#X_test, X_application, y_test, y_application = train_test_split(X_test, y_test, test_size=0.5, random_state=0)\n",
        "\n",
        "y_train"
      ],
      "execution_count": 35,
      "outputs": [
        {
          "output_type": "execute_result",
          "data": {
            "text/plain": [
              "array([ 8,  9,  7,  7,  0,  2, 10,  6,  0,  6, 10,  4,  9,  4,  0,  5,  7,\n",
              "        7,  7,  4,  1,  8, 10,  1,  1,  0,  7,  8,  6,  6,  2,  7, 10, 10,\n",
              "        0,  1,  9,  7,  8,  0,  5,  3,  6,  5,  4,  0,  3, 10])"
            ]
          },
          "metadata": {
            "tags": []
          },
          "execution_count": 35
        }
      ]
    },
    {
      "cell_type": "code",
      "metadata": {
        "id": "Od0EJHyl898g",
        "colab_type": "code",
        "colab": {
          "base_uri": "https://localhost:8080/",
          "height": 527
        },
        "outputId": "ff120bc5-dbff-4a25-9d1b-f18100353f37"
      },
      "source": [
        "#Random Forest baseline + accuracy versus test\n",
        "rfclf = RandomForestClassifier(n_estimators=200, random_state=0)\n",
        "rfclf.fit(X_resampled, y_resampled)\n",
        "y_pred = rfclf.predict(X_test)\n",
        "\n",
        "print(confusion_matrix(y_test,y_pred))\n",
        "print(classification_report(y_test,y_pred))\n",
        "print(accuracy_score(y_test, y_pred))"
      ],
      "execution_count": 36,
      "outputs": [
        {
          "output_type": "stream",
          "text": [
            "[[2 0 0 0 0 0 0 0 0 1 0]\n",
            " [0 2 0 0 0 0 0 0 0 0 0]\n",
            " [0 0 1 0 0 0 1 0 0 0 0]\n",
            " [0 0 0 2 0 0 1 0 0 0 0]\n",
            " [0 0 0 0 1 0 0 0 0 0 0]\n",
            " [0 0 0 0 0 1 0 0 0 0 0]\n",
            " [0 0 0 0 0 1 2 0 0 0 0]\n",
            " [0 0 0 0 0 0 1 0 0 0 0]\n",
            " [0 1 0 1 0 0 0 0 1 0 0]\n",
            " [0 0 0 0 0 0 0 0 0 1 0]\n",
            " [0 0 0 0 0 0 0 0 0 0 1]]\n",
            "              precision    recall  f1-score   support\n",
            "\n",
            "           0       1.00      0.67      0.80         3\n",
            "           1       0.67      1.00      0.80         2\n",
            "           2       1.00      0.50      0.67         2\n",
            "           3       0.67      0.67      0.67         3\n",
            "           4       1.00      1.00      1.00         1\n",
            "           5       0.50      1.00      0.67         1\n",
            "           6       0.40      0.67      0.50         3\n",
            "           7       0.00      0.00      0.00         1\n",
            "           8       1.00      0.33      0.50         3\n",
            "           9       0.50      1.00      0.67         1\n",
            "          10       1.00      1.00      1.00         1\n",
            "\n",
            "    accuracy                           0.67        21\n",
            "   macro avg       0.70      0.71      0.66        21\n",
            "weighted avg       0.74      0.67      0.65        21\n",
            "\n",
            "0.6666666666666666\n"
          ],
          "name": "stdout"
        }
      ]
    },
    {
      "cell_type": "code",
      "metadata": {
        "id": "VIq3fFWjEqpV",
        "colab_type": "code",
        "colab": {
          "base_uri": "https://localhost:8080/",
          "height": 323
        },
        "outputId": "1f1141e0-9711-496f-9c52-83aff5feca35"
      },
      "source": [
        "# Random Forest hyperparam discovery\n",
        "\n",
        "# Number of trees in random forest\n",
        "n_estimators = [int(x) for x in np.linspace(start = 10, stop = 800, num = 10)]\n",
        "# Number of features to consider at every split\n",
        "#max_features = ['auto', 'sqrt']\n",
        "loss = ['deviance', 'exponential']\n",
        "learning_rate = [0.1, 0.2, 0.3, 0.4,0.5]\n",
        "# Maximum number of levels in tree\n",
        "max_depth = [int(x) for x in np.linspace(10, 110, num = 11)]\n",
        "max_depth.append(None)\n",
        "# Minimum number of samples required to split a node\n",
        "min_samples_split = [0, 1, 2, 5, 10]\n",
        "# Minimum number of samples required at each leaf node\n",
        "min_samples_leaf = [0, 1, 2, 4]\n",
        "# Method of selecting samples for training each tree\n",
        "bootstrap = [True, False]\n",
        "# Create the random grid\n",
        "random_grid = {'n_estimators': n_estimators,\n",
        "               #'loss': loss,\n",
        "               'max_depth': max_depth,\n",
        "               'min_samples_split': min_samples_split,\n",
        "               'min_samples_leaf': min_samples_leaf}\n",
        "               #'learning_rate': learning_rate}\n",
        "               #'bootstrap': bootstrap}\n",
        "\n",
        "kfold = StratifiedKFold(n_splits=3, shuffle=True, random_state=7)\n",
        "Y = encoded_Y\n",
        "scores = []\n",
        "model = []\n",
        "best_params = []\n",
        "X = df\n",
        "for train_index, test_index in kfold.split(X, Y):\n",
        "    #convert integers to dummy variables (i.e. one hot encoded)\n",
        "    #dummy_y = np_utils.to_categorical(Y)\n",
        "    X_train, y_train = X.iloc[train_index], Y[train_index]\n",
        "    X_test, y_test = X.iloc[test_index], Y[test_index]\n",
        "    X_train_oversampled, y_train_oversampled = SMOTE(k_neighbors=1).fit_sample(X_train, y_train)\n",
        "    hrfclf = ExtraTreesClassifier()\n",
        "    rf_random = RandomizedSearchCV(estimator = hrfclf, param_distributions = random_grid, n_iter = 100, cv = 3, verbose=2, random_state=42, n_jobs = -1)\n",
        "    rf_random.fit(X_train_oversampled, y_train_oversampled)\n",
        "    model.append(rf_random.best_estimator_)\n",
        "    best_params.append(rf_random.best_params_)\n",
        "    y_pred = rf_random.best_estimator_.predict(X_test)\n",
        "    #print(confusion_matrix(y_test,y_pred))\n",
        "    #print(classification_report(y_test,y_pred))\n",
        "    print(accuracy_score(y_test, y_pred))\n",
        "    scores.append(accuracy_score(y_test, y_pred))\n",
        "\n",
        "\n",
        "# Fit the random search model\n",
        "#rf_random.fit(X_resampled, y_resampled)"
      ],
      "execution_count": 37,
      "outputs": [
        {
          "output_type": "stream",
          "text": [
            "Fitting 3 folds for each of 100 candidates, totalling 300 fits\n"
          ],
          "name": "stdout"
        },
        {
          "output_type": "stream",
          "text": [
            "[Parallel(n_jobs=-1)]: Using backend LokyBackend with 2 concurrent workers.\n",
            "[Parallel(n_jobs=-1)]: Done  37 tasks      | elapsed:   12.4s\n",
            "[Parallel(n_jobs=-1)]: Done 158 tasks      | elapsed:   37.2s\n",
            "[Parallel(n_jobs=-1)]: Done 300 out of 300 | elapsed:  1.1min finished\n",
            "[Parallel(n_jobs=-1)]: Using backend LokyBackend with 2 concurrent workers.\n"
          ],
          "name": "stderr"
        },
        {
          "output_type": "stream",
          "text": [
            "0.043478260869565216\n",
            "Fitting 3 folds for each of 100 candidates, totalling 300 fits\n"
          ],
          "name": "stdout"
        },
        {
          "output_type": "stream",
          "text": [
            "[Parallel(n_jobs=-1)]: Done  37 tasks      | elapsed:   11.5s\n",
            "[Parallel(n_jobs=-1)]: Done 158 tasks      | elapsed:   36.5s\n",
            "[Parallel(n_jobs=-1)]: Done 300 out of 300 | elapsed:  1.1min finished\n"
          ],
          "name": "stderr"
        },
        {
          "output_type": "stream",
          "text": [
            "0.21739130434782608\n",
            "Fitting 3 folds for each of 100 candidates, totalling 300 fits\n"
          ],
          "name": "stdout"
        },
        {
          "output_type": "stream",
          "text": [
            "[Parallel(n_jobs=-1)]: Using backend LokyBackend with 2 concurrent workers.\n",
            "[Parallel(n_jobs=-1)]: Done  37 tasks      | elapsed:   11.4s\n",
            "[Parallel(n_jobs=-1)]: Done 158 tasks      | elapsed:   36.3s\n",
            "[Parallel(n_jobs=-1)]: Done 300 out of 300 | elapsed:  1.1min finished\n"
          ],
          "name": "stderr"
        },
        {
          "output_type": "stream",
          "text": [
            "0.2608695652173913\n"
          ],
          "name": "stdout"
        }
      ]
    },
    {
      "cell_type": "code",
      "metadata": {
        "id": "VeWYLSyoHe0B",
        "colab_type": "code",
        "colab": {
          "base_uri": "https://localhost:8080/",
          "height": 221
        },
        "outputId": "953a6f76-dadf-4a7c-9619-029e2a90883a"
      },
      "source": [
        "best_params"
      ],
      "execution_count": 38,
      "outputs": [
        {
          "output_type": "execute_result",
          "data": {
            "text/plain": [
              "[{'max_depth': None,\n",
              "  'min_samples_leaf': 2,\n",
              "  'min_samples_split': 2,\n",
              "  'n_estimators': 97},\n",
              " {'max_depth': None,\n",
              "  'min_samples_leaf': 1,\n",
              "  'min_samples_split': 2,\n",
              "  'n_estimators': 536},\n",
              " {'max_depth': 30,\n",
              "  'min_samples_leaf': 1,\n",
              "  'min_samples_split': 5,\n",
              "  'n_estimators': 448}]"
            ]
          },
          "metadata": {
            "tags": []
          },
          "execution_count": 38
        }
      ]
    },
    {
      "cell_type": "code",
      "metadata": {
        "id": "tH3TNQD0Hvt0",
        "colab_type": "code",
        "colab": {
          "base_uri": "https://localhost:8080/",
          "height": 34
        },
        "outputId": "0c52d687-fed8-4dd6-9942-57547690f9c2"
      },
      "source": [
        "y_pred = rf_random.best_estimator_.predict(X_test)\n",
        "print(accuracy_score(y_test, y_pred))"
      ],
      "execution_count": 39,
      "outputs": [
        {
          "output_type": "stream",
          "text": [
            "0.2608695652173913\n"
          ],
          "name": "stdout"
        }
      ]
    },
    {
      "cell_type": "code",
      "metadata": {
        "id": "l-2p_e_F_Pnd",
        "colab_type": "code",
        "colab": {
          "base_uri": "https://localhost:8080/",
          "height": 34
        },
        "outputId": "44a4f9e6-278b-4193-c094-3ad5007171a9"
      },
      "source": [
        "# RFC w/ tunned HP\n",
        "rfclf = RandomForestClassifier(bootstrap='True', max_depth=20, max_features='sqrt', n_estimators=900, random_state=0)\n",
        "rfclf.fit(X_resampled, y_resampled)\n",
        "pred= rfclf.predict(X_test)\n",
        "accuracy_score(pred, y_test)"
      ],
      "execution_count": 40,
      "outputs": [
        {
          "output_type": "execute_result",
          "data": {
            "text/plain": [
              "0.2608695652173913"
            ]
          },
          "metadata": {
            "tags": []
          },
          "execution_count": 40
        }
      ]
    },
    {
      "cell_type": "code",
      "metadata": {
        "id": "0HB3cf2La26x",
        "colab_type": "code",
        "colab": {}
      },
      "source": [
        "glove_100_link = 'https://drive.google.com/open?id=1hW4DhKFWJJPNIEI3GelC1WLzEqU-lrub'\n",
        "\n",
        "glove_50_link = 'https://drive.google.com/open?id=10MW2F53DYYxizSXLbvfsphs77Fu1U9Gz'\n",
        "\n",
        "skip_text_link = 'https://drive.google.com/open?id=1WXpYIhDI8Hhne3cOZUQshScjwsWO2wRR'\n",
        "\n",
        "cbow_link = 'https://drive.google.com/open?id=1o6bO6QDAOFd_bASWuZHfbBlk8OBNA0uQ'\n",
        "\n",
        "def load_file(link, filename):\n",
        "  # Download gloVe word embedding for portuguese-BR (100-dimensions)\n",
        "  auth.authenticate_user()\n",
        "  gauth = GoogleAuth()\n",
        "  gauth.credentials = GoogleCredentials.get_application_default()\n",
        "  drive = GoogleDrive(gauth)\n",
        "  fluff, id = link.split('=')\n",
        "  downloaded = drive.CreateFile({'id':id})\n",
        "  downloaded.GetContentFile(filename)\n",
        "\n",
        "def build_embedding_dict(filename):\n",
        "  embd_dict = {}\n",
        "  with open(filename, 'r', encoding='utf-8') as f:\n",
        "    for line in f:\n",
        "      word, coefs = line.split(maxsplit=1)\n",
        "      coefs = np.fromstring(coefs, 'f', sep=' ')\n",
        "      embd_dict[word] = coefs\n",
        "  return embd_dict\n",
        "  "
      ],
      "execution_count": 0,
      "outputs": []
    },
    {
      "cell_type": "code",
      "metadata": {
        "id": "3DK4tokfAYo3",
        "colab_type": "code",
        "colab": {}
      },
      "source": [
        "# Download and load embeddings into dictionaries (eg: {'oi' : n1, n2, ..., n100})\n",
        "\n",
        "load_file(glove_100_link, 'glove_100.txt')\n",
        "load_file(glove_50_link, 'glove_50.txt')\n",
        "load_file(cbow_link, 'cbow_50.txt')\n",
        "load_file(skip_text_link, 'skipgram_50.txt')\n",
        "\n",
        "word_embedding_dict_50 = build_embedding_dict('glove_50.txt')\n",
        "word_embedding_dict_100 = build_embedding_dict('glove_100.txt')\n",
        "word_embedding_cbow_50 = build_embedding_dict('cbow_50.txt')\n",
        "word_embedding_skipgram_50 = build_embedding_dict('skipgram_50.txt')"
      ],
      "execution_count": 0,
      "outputs": []
    },
    {
      "cell_type": "code",
      "metadata": {
        "id": "abWAExN5hmuy",
        "colab_type": "code",
        "colab": {}
      },
      "source": [
        "corpus = raw_df['Text']\n",
        "\n",
        "# Create a Keras tokenizer and convert words to integer values\n",
        "tokenizer = Tokenizer(num_words=20000)\n",
        "tokenizer.fit_on_texts(corpus)\n",
        "\n",
        "# Convert strings to their corresponding integer value created by the Tokenizer\n",
        "embedded_sentences = tokenizer.texts_to_sequences(corpus)\n",
        "print(embedded_sentences)"
      ],
      "execution_count": 0,
      "outputs": []
    },
    {
      "cell_type": "code",
      "metadata": {
        "id": "6yU349i7__41",
        "colab_type": "code",
        "colab": {}
      },
      "source": [
        "corpus"
      ],
      "execution_count": 0,
      "outputs": []
    },
    {
      "cell_type": "code",
      "metadata": {
        "id": "BBcappPQjXYf",
        "colab_type": "code",
        "outputId": "d13a0af3-add7-42ed-f769-ad6874951f2d",
        "colab": {
          "base_uri": "https://localhost:8080/",
          "height": 34
        }
      },
      "source": [
        "max_words_text = max(corpus, key=lambda sentence: len(nltk.word_tokenize(sentence, language='portuguese')))\n",
        "print(max_words_text[:200])"
      ],
      "execution_count": 45,
      "outputs": [
        {
          "output_type": "stream",
          "text": [
            "biologia tendências perspectivas atuais abordagem sala aula texto disponibilizado sala aula virtual, histórico ciências, deve ter percebido modificações ocorridas estreita relação transformações polít\n"
          ],
          "name": "stdout"
        }
      ]
    },
    {
      "cell_type": "code",
      "metadata": {
        "id": "R_jRhtYJjfkf",
        "colab_type": "code",
        "outputId": "9b90254c-48b0-4e68-f6c8-e3e270508d83",
        "colab": {
          "base_uri": "https://localhost:8080/",
          "height": 34
        }
      },
      "source": [
        "max_sentence_len = len(nltk.word_tokenize(max_words_text, language='portuguese'))\n",
        "print(max_sentence_len)"
      ],
      "execution_count": 46,
      "outputs": [
        {
          "output_type": "stream",
          "text": [
            "3913\n"
          ],
          "name": "stdout"
        }
      ]
    },
    {
      "cell_type": "code",
      "metadata": {
        "id": "XDmfjQ2tjg4T",
        "colab_type": "code",
        "outputId": "2cc8d610-1d7f-499a-b17d-cb2f571954fc",
        "colab": {
          "base_uri": "https://localhost:8080/",
          "height": 34
        }
      },
      "source": [
        "# Make all the sentences have the same length by padding with 0s at the end\n",
        "padded_sentences = pad_sequences(embedded_sentences, max_sentence_len, padding='post')\n",
        "\n",
        "padded_sentences.shape"
      ],
      "execution_count": 47,
      "outputs": [
        {
          "output_type": "execute_result",
          "data": {
            "text/plain": [
              "(69, 3913)"
            ]
          },
          "metadata": {
            "tags": []
          },
          "execution_count": 47
        }
      ]
    },
    {
      "cell_type": "code",
      "metadata": {
        "id": "rfw8qPMTj3_a",
        "colab_type": "code",
        "colab": {}
      },
      "source": [
        "vocab_len = len(tokenizer.word_index) + 1\n",
        "\n",
        "# Create an embedding matrix, in other words, use the weights from gloVe vector against all our corpus\n",
        "# In the end we will have a matrix of all our vocabulary x N dimensions\n",
        "def build_embd_matrix(size, embd_dic):\n",
        "  # initialize with all zeros\n",
        "  embedding_matrix = np.zeros((vocab_len, size))\n",
        "  for word, index in tokenizer.word_index.items():\n",
        "    embedding_vector = embd_dic.get(word)\n",
        "    # if the word is in gloVe, we will use its weigths \n",
        "    if embedding_vector is not None:\n",
        "      embedding_matrix[index] = embedding_vector[:size]\n",
        "  return embedding_matrix\n",
        "\n",
        "\n",
        "embedding_matrix_50 = build_embd_matrix(50, word_embedding_dict_50)\n",
        "\n",
        "embedding_matrix_100 = build_embd_matrix(100, word_embedding_dict_100)\n",
        "\n",
        "embedding_matrix_cbow_50 = build_embd_matrix(50, word_embedding_cbow_50)\n",
        "\n",
        "embedding_matrix_skipgram_50 = build_embd_matrix(50, word_embedding_skipgram_50)"
      ],
      "execution_count": 0,
      "outputs": []
    },
    {
      "cell_type": "code",
      "metadata": {
        "id": "EBbXSjHcJf3N",
        "colab_type": "code",
        "colab": {
          "base_uri": "https://localhost:8080/",
          "height": 357
        },
        "outputId": "ab080bb5-3356-4664-9e8b-2e146a9d8dfd"
      },
      "source": [
        "# TODO: Update this model to user TensorFlow 2.x\n",
        "model = Sequential()\n",
        "model.add(Embedding(vocab_len, 50,weights=[embedding_matrix_50], input_length=max_sentence_len))\n",
        "model.add(Dropout(0.5))\n",
        "model.add(Conv1D(64, 5, activation='relu'))\n",
        "\n",
        "model.add(MaxPool1D(2, strides=2))\n",
        "model.add(Flatten())\n",
        "model.add(Dense(11, activation='softmax'))\n",
        "model.summary()\n",
        "model.compile(loss='categorical_crossentropy', optimizer='adam',metrics=['acc'])"
      ],
      "execution_count": 50,
      "outputs": [
        {
          "output_type": "stream",
          "text": [
            "Model: \"sequential_1\"\n",
            "_________________________________________________________________\n",
            "Layer (type)                 Output Shape              Param #   \n",
            "=================================================================\n",
            "embedding (Embedding)        (None, 3913, 50)          250200    \n",
            "_________________________________________________________________\n",
            "dropout (Dropout)            (None, 3913, 50)          0         \n",
            "_________________________________________________________________\n",
            "conv1d (Conv1D)              (None, 3909, 64)          16064     \n",
            "_________________________________________________________________\n",
            "max_pooling1d (MaxPooling1D) (None, 1954, 64)          0         \n",
            "_________________________________________________________________\n",
            "flatten (Flatten)            (None, 125056)            0         \n",
            "_________________________________________________________________\n",
            "dense (Dense)                (None, 11)                1375627   \n",
            "=================================================================\n",
            "Total params: 1,641,891\n",
            "Trainable params: 1,641,891\n",
            "Non-trainable params: 0\n",
            "_________________________________________________________________\n"
          ],
          "name": "stdout"
        }
      ]
    },
    {
      "cell_type": "code",
      "metadata": {
        "id": "L4CmlnXmKe22",
        "colab_type": "code",
        "colab": {
          "base_uri": "https://localhost:8080/",
          "height": 1000
        },
        "outputId": "6ac20d2f-fd03-4576-a7a7-e1411f003771"
      },
      "source": [
        "X = padded_sentences\n",
        "Y = np_utils.to_categorical(encoded_Y)\n",
        "model.fit(X, Y, epochs=50, verbose=1)"
      ],
      "execution_count": 53,
      "outputs": [
        {
          "output_type": "stream",
          "text": [
            "Epoch 1/50\n",
            "3/3 [==============================] - 1s 187ms/step - loss: 5.0218 - acc: 0.0870\n",
            "Epoch 2/50\n",
            "3/3 [==============================] - 1s 182ms/step - loss: 2.5624 - acc: 0.2609\n",
            "Epoch 3/50\n",
            "3/3 [==============================] - 1s 181ms/step - loss: 1.7085 - acc: 0.4638\n",
            "Epoch 4/50\n",
            "3/3 [==============================] - 1s 181ms/step - loss: 1.0356 - acc: 0.6812\n",
            "Epoch 5/50\n",
            "3/3 [==============================] - 1s 177ms/step - loss: 0.8874 - acc: 0.7681\n",
            "Epoch 6/50\n",
            "3/3 [==============================] - 1s 178ms/step - loss: 0.8151 - acc: 0.7681\n",
            "Epoch 7/50\n",
            "3/3 [==============================] - 1s 180ms/step - loss: 0.7911 - acc: 0.8406\n",
            "Epoch 8/50\n",
            "3/3 [==============================] - 1s 178ms/step - loss: 0.4871 - acc: 0.8261\n",
            "Epoch 9/50\n",
            "3/3 [==============================] - 1s 178ms/step - loss: 0.6800 - acc: 0.8696\n",
            "Epoch 10/50\n",
            "3/3 [==============================] - 1s 179ms/step - loss: 0.3977 - acc: 0.9275\n",
            "Epoch 11/50\n",
            "3/3 [==============================] - 1s 182ms/step - loss: 0.3537 - acc: 0.9130\n",
            "Epoch 12/50\n",
            "3/3 [==============================] - 1s 178ms/step - loss: 0.3576 - acc: 0.9420\n",
            "Epoch 13/50\n",
            "3/3 [==============================] - 1s 179ms/step - loss: 0.2597 - acc: 0.9565\n",
            "Epoch 14/50\n",
            "3/3 [==============================] - 1s 177ms/step - loss: 0.2264 - acc: 0.9565\n",
            "Epoch 15/50\n",
            "3/3 [==============================] - 1s 179ms/step - loss: 0.1925 - acc: 0.9710\n",
            "Epoch 16/50\n",
            "3/3 [==============================] - 1s 177ms/step - loss: 0.1363 - acc: 0.9855\n",
            "Epoch 17/50\n",
            "3/3 [==============================] - 1s 177ms/step - loss: 0.1330 - acc: 0.9855\n",
            "Epoch 18/50\n",
            "3/3 [==============================] - 1s 178ms/step - loss: 0.0977 - acc: 0.9855\n",
            "Epoch 19/50\n",
            "3/3 [==============================] - 1s 187ms/step - loss: 0.1264 - acc: 0.9855\n",
            "Epoch 20/50\n",
            "3/3 [==============================] - 1s 179ms/step - loss: 0.1349 - acc: 0.9855\n",
            "Epoch 21/50\n",
            "3/3 [==============================] - 1s 177ms/step - loss: 0.0947 - acc: 0.9855\n",
            "Epoch 22/50\n",
            "3/3 [==============================] - 1s 175ms/step - loss: 0.0810 - acc: 0.9855\n",
            "Epoch 23/50\n",
            "3/3 [==============================] - 1s 177ms/step - loss: 0.0739 - acc: 0.9855\n",
            "Epoch 24/50\n",
            "3/3 [==============================] - 1s 177ms/step - loss: 0.0656 - acc: 0.9855\n",
            "Epoch 25/50\n",
            "3/3 [==============================] - 1s 179ms/step - loss: 0.0627 - acc: 0.9855\n",
            "Epoch 26/50\n",
            "3/3 [==============================] - 1s 180ms/step - loss: 0.0728 - acc: 0.9855\n",
            "Epoch 27/50\n",
            "3/3 [==============================] - 1s 177ms/step - loss: 0.0546 - acc: 0.9855\n",
            "Epoch 28/50\n",
            "3/3 [==============================] - 1s 180ms/step - loss: 0.0430 - acc: 0.9855\n",
            "Epoch 29/50\n",
            "3/3 [==============================] - 1s 188ms/step - loss: 0.0399 - acc: 0.9855\n",
            "Epoch 30/50\n",
            "3/3 [==============================] - 1s 179ms/step - loss: 0.0352 - acc: 0.9710\n",
            "Epoch 31/50\n",
            "3/3 [==============================] - 1s 181ms/step - loss: 0.0320 - acc: 1.0000\n",
            "Epoch 32/50\n",
            "3/3 [==============================] - 1s 180ms/step - loss: 0.0319 - acc: 0.9855\n",
            "Epoch 33/50\n",
            "3/3 [==============================] - 1s 182ms/step - loss: 0.0269 - acc: 0.9855\n",
            "Epoch 34/50\n",
            "3/3 [==============================] - 1s 181ms/step - loss: 0.0755 - acc: 0.9855\n",
            "Epoch 35/50\n",
            "3/3 [==============================] - 1s 185ms/step - loss: 0.0474 - acc: 0.9855\n",
            "Epoch 36/50\n",
            "3/3 [==============================] - 1s 180ms/step - loss: 0.0375 - acc: 0.9855\n",
            "Epoch 37/50\n",
            "3/3 [==============================] - 1s 182ms/step - loss: 0.0563 - acc: 0.9855\n",
            "Epoch 38/50\n",
            "3/3 [==============================] - 1s 180ms/step - loss: 0.0582 - acc: 0.9855\n",
            "Epoch 39/50\n",
            "3/3 [==============================] - 1s 180ms/step - loss: 0.0435 - acc: 0.9855\n",
            "Epoch 40/50\n",
            "3/3 [==============================] - 1s 180ms/step - loss: 0.0400 - acc: 0.9855\n",
            "Epoch 41/50\n",
            "3/3 [==============================] - 1s 180ms/step - loss: 0.0295 - acc: 0.9855\n",
            "Epoch 42/50\n",
            "3/3 [==============================] - 1s 181ms/step - loss: 0.0309 - acc: 1.0000\n",
            "Epoch 43/50\n",
            "3/3 [==============================] - 1s 179ms/step - loss: 0.0208 - acc: 1.0000\n",
            "Epoch 44/50\n",
            "3/3 [==============================] - 1s 182ms/step - loss: 0.0260 - acc: 0.9855\n",
            "Epoch 45/50\n",
            "3/3 [==============================] - 1s 180ms/step - loss: 0.0961 - acc: 0.9855\n",
            "Epoch 46/50\n",
            "3/3 [==============================] - 1s 180ms/step - loss: 0.0286 - acc: 0.9855\n",
            "Epoch 47/50\n",
            "3/3 [==============================] - 1s 181ms/step - loss: 0.0389 - acc: 0.9855\n",
            "Epoch 48/50\n",
            "3/3 [==============================] - 1s 179ms/step - loss: 0.0386 - acc: 0.9855\n",
            "Epoch 49/50\n",
            "3/3 [==============================] - 1s 177ms/step - loss: 0.0464 - acc: 0.9855\n",
            "Epoch 50/50\n",
            "3/3 [==============================] - 1s 178ms/step - loss: 0.0247 - acc: 0.9855\n"
          ],
          "name": "stdout"
        },
        {
          "output_type": "execute_result",
          "data": {
            "text/plain": [
              "<tensorflow.python.keras.callbacks.History at 0x7f67d208b6a0>"
            ]
          },
          "metadata": {
            "tags": []
          },
          "execution_count": 53
        }
      ]
    },
    {
      "cell_type": "code",
      "metadata": {
        "id": "34ozDaDvdWKa",
        "colab_type": "code",
        "colab": {}
      },
      "source": [
        "def build_model(embd_matrix, size=50):\n",
        "  model = Sequential()\n",
        "  embedding_layer = Embedding(vocab_len, 50, input_length=max_sentence_len, \n",
        "                              embeddings_initializer=Constant(embedding_matrix_50), trainable=False)\n",
        "  model.add(embedding_layer)\n",
        "  model.add(Dropout(0.3))\n",
        "  model.add(Flatten())\n",
        "  number_of_classes = len(np_utils.to_categorical(encoded_raw_Y)[0])\n",
        "  model.add(Dense(number_of_classes, activation='softmax'))\n",
        "\n",
        "  model.compile(optimizer='rmsprop',\n",
        "                    loss='categorical_crossentropy', metrics=['accuracy'])\n",
        "  return model"
      ],
      "execution_count": 0,
      "outputs": []
    },
    {
      "cell_type": "code",
      "metadata": {
        "id": "71gTUZklld6b",
        "colab_type": "code",
        "colab": {
          "base_uri": "https://localhost:8080/",
          "height": 544
        },
        "outputId": "13131bd6-a14f-4f1e-913d-98cbc9cd37b2"
      },
      "source": [
        "cv_scores = []\n",
        "kfold = StratifiedKFold(n_splits=3, shuffle=True, random_state=7)\n",
        "models = []\n",
        "\n",
        "X = padded_sentences\n",
        "\n",
        "X, X_val, Y_train, y_val = train_test_split(padded_sentences, encoded_raw_Y, stratify=encoded_raw_Y, random_state=11, test_size=0.20)\n",
        "\n",
        "accs = []\n",
        "for i in range(0,10):\n",
        "  # stratified k-fold validation\n",
        "  for train_index, test_index in kfold.split(X, Y_train):\n",
        "    model = build_model(embd_matrix=embedding_matrix_100)\n",
        "    \n",
        "    # Convert integers to vectors (e.g One hot encoding)\n",
        "    Y = np_utils.to_categorical(Y_train)\n",
        "\n",
        "    #print(\"TRAIN:\", train_index, \"TEST:\", test_index)\n",
        "    X_train, X_test = X[train_index], X[test_index]\n",
        "    y_train, y_test = Y[train_index], Y[test_index]\n",
        "\n",
        "    # train the model\n",
        "    model.fit(X_train, y_train, epochs=50, verbose=0)\n",
        "\n",
        "    # Evaluate the model\n",
        "    scores = model.evaluate(X_test, y_test)\n",
        "    #print(\"%s: %.2f%%\" % (model.metrics_names[1], scores[1] * 100))\n",
        "    cv_scores.append(scores[1] * 100)\n",
        "  accs.append(np.mean(cv_scores))\n",
        "\n",
        "# Brief summary of the scores\n",
        "print(\"%.2f%% (+/- %.2f%%)\" % (np.mean(accs), np.std(accs)))"
      ],
      "execution_count": 57,
      "outputs": [
        {
          "output_type": "stream",
          "text": [
            "1/1 [==============================] - 0s 2ms/step - loss: 3.9614 - accuracy: 0.2105\n",
            "1/1 [==============================] - 0s 1ms/step - loss: 2.7498 - accuracy: 0.3333\n",
            "1/1 [==============================] - 0s 1ms/step - loss: 4.3058 - accuracy: 0.3889\n",
            "1/1 [==============================] - 0s 2ms/step - loss: 3.9903 - accuracy: 0.2105\n",
            "1/1 [==============================] - 0s 1ms/step - loss: 3.3617 - accuracy: 0.2778\n",
            "1/1 [==============================] - 0s 1ms/step - loss: 4.5151 - accuracy: 0.2778\n",
            "1/1 [==============================] - 0s 1ms/step - loss: 3.6268 - accuracy: 0.2105\n",
            "1/1 [==============================] - 0s 1ms/step - loss: 2.9173 - accuracy: 0.2778\n",
            "1/1 [==============================] - 0s 1ms/step - loss: 4.7232 - accuracy: 0.2778\n",
            "1/1 [==============================] - 0s 1ms/step - loss: 3.6035 - accuracy: 0.1579\n",
            "1/1 [==============================] - 0s 1ms/step - loss: 3.0039 - accuracy: 0.1667\n",
            "1/1 [==============================] - 0s 1ms/step - loss: 4.7960 - accuracy: 0.1667\n",
            "1/1 [==============================] - 0s 1ms/step - loss: 3.6179 - accuracy: 0.2105\n",
            "1/1 [==============================] - 0s 1ms/step - loss: 3.3036 - accuracy: 0.2222\n",
            "1/1 [==============================] - 0s 1ms/step - loss: 4.0724 - accuracy: 0.1667\n",
            "1/1 [==============================] - 0s 1ms/step - loss: 3.6237 - accuracy: 0.2105\n",
            "1/1 [==============================] - 0s 1ms/step - loss: 3.2248 - accuracy: 0.1667\n",
            "1/1 [==============================] - 0s 1ms/step - loss: 4.3326 - accuracy: 0.2778\n",
            "1/1 [==============================] - 0s 1ms/step - loss: 3.4954 - accuracy: 0.2105\n",
            "1/1 [==============================] - 0s 1ms/step - loss: 3.4534 - accuracy: 0.2222\n",
            "1/1 [==============================] - 0s 1ms/step - loss: 4.2424 - accuracy: 0.2778\n",
            "1/1 [==============================] - 0s 1ms/step - loss: 4.0016 - accuracy: 0.2105\n",
            "1/1 [==============================] - 0s 1ms/step - loss: 3.2591 - accuracy: 0.2222\n",
            "1/1 [==============================] - 0s 1ms/step - loss: 4.3005 - accuracy: 0.1667\n",
            "1/1 [==============================] - 0s 1ms/step - loss: 4.0055 - accuracy: 0.1579\n",
            "1/1 [==============================] - 0s 1ms/step - loss: 3.4227 - accuracy: 0.1667\n",
            "1/1 [==============================] - 0s 1ms/step - loss: 5.4700 - accuracy: 0.2222\n",
            "1/1 [==============================] - 0s 1ms/step - loss: 3.5081 - accuracy: 0.1579\n",
            "1/1 [==============================] - 0s 1ms/step - loss: 3.7841 - accuracy: 0.2222\n",
            "1/1 [==============================] - 0s 1ms/step - loss: 4.5791 - accuracy: 0.2222\n",
            "24.97% (+/- 2.81%)\n"
          ],
          "name": "stdout"
        }
      ]
    },
    {
      "cell_type": "code",
      "metadata": {
        "id": "22bWRKETwqEc",
        "colab_type": "code",
        "colab": {
          "base_uri": "https://localhost:8080/",
          "height": 34
        },
        "outputId": "3f95e9ef-75fa-469f-bc0d-ed592fb6f2c8"
      },
      "source": [
        "y_val.shape\n",
        "y_val_dummy = np_utils.to_categorical(y_val)\n",
        "X_val.shape"
      ],
      "execution_count": 58,
      "outputs": [
        {
          "output_type": "execute_result",
          "data": {
            "text/plain": [
              "(14, 3913)"
            ]
          },
          "metadata": {
            "tags": []
          },
          "execution_count": 58
        }
      ]
    },
    {
      "cell_type": "code",
      "metadata": {
        "id": "F5oTvDXl0lwZ",
        "colab_type": "code",
        "colab": {
          "base_uri": "https://localhost:8080/",
          "height": 51
        },
        "outputId": "0bcc01cd-505a-4e58-ea25-7c9eebeae97d"
      },
      "source": [
        "scores = model.evaluate(X_val, y_val_dummy)\n",
        "print(\"Test score: %.2f%%\" % (scores[1] * 100))"
      ],
      "execution_count": 59,
      "outputs": [
        {
          "output_type": "stream",
          "text": [
            "1/1 [==============================] - 0s 1ms/step - loss: 7.8574 - accuracy: 0.0714\n",
            "Test score: 7.14%\n"
          ],
          "name": "stdout"
        }
      ]
    },
    {
      "cell_type": "code",
      "metadata": {
        "id": "82-C9horrGZj",
        "colab_type": "code",
        "colab": {}
      },
      "source": [
        "#scores = model.evaluate(X_val, y_val_dummy)\n",
        "\n",
        "X, X_val, Y_train, y_val = train_test_split(padded_sentences, encoded_raw_Y, random_state=11, stratify=encoded_raw_Y, test_size=0.20)"
      ],
      "execution_count": 0,
      "outputs": []
    },
    {
      "cell_type": "code",
      "metadata": {
        "id": "o-jx9oR2kbNu",
        "colab_type": "code",
        "colab": {}
      },
      "source": [
        "def test_model(iter, embedding, name, epochs):\n",
        "  test_scores = []\n",
        "  val_scores = []\n",
        "  for i in range(iter):\n",
        "    Y = np_utils.to_categorical(encoded_raw_Y)\n",
        "\n",
        "    X, X_test, Y, y_test = train_test_split(padded_sentences, Y, stratify=Y, random_state=11, test_size=0.2)\n",
        "    X_test, X_val, y_test, y_val = train_test_split(X_test, y_test, random_state=11, test_size=0.5)\n",
        "\n",
        "    model = build_model(embedding, 100)\n",
        "\n",
        "    model.fit(X, Y, epochs=epochs, verbose=0)\n",
        "    scores = model.evaluate(X_test, y_test)\n",
        "\n",
        "    #print(\"Test score \" + name + \": %.2f%%\" % (scores[1] * 100))\n",
        "    test_scores.append(scores[1] * 100)\n",
        "\n",
        "    scores = model.evaluate(X_val, y_val)\n",
        "    #print(\"Validation score \" + name + \": %.2f%%\" % (scores[1] * 100))\n",
        "    val_scores.append(scores[1] * 100)\n",
        "  print(\"Mean test scores:\" + \": %.2f%%\" % (np.mean(test_scores)))\n",
        "  print(\"Mean val scores:\" + \": %.2f%%\" % (np.mean(val_scores)))"
      ],
      "execution_count": 0,
      "outputs": []
    },
    {
      "cell_type": "code",
      "metadata": {
        "id": "nwC-e46eh4vf",
        "colab_type": "code",
        "outputId": "60e91a34-d4f3-4e41-d394-7b6a68025732",
        "colab": {
          "base_uri": "https://localhost:8080/",
          "height": 1000
        }
      },
      "source": [
        "# Run and print models output\n",
        "test_model(10,embedding_matrix_50, 'Glove 50D', 150)\n",
        "test_model(10,embedding_matrix_100,'Glove 100D', 150 )\n",
        "test_model(10,embedding_matrix_cbow_50, 'CBOW 50D', 150)\n",
        "test_model(10,embedding_matrix_skipgram_50, 'SkipGram 50D', 150)"
      ],
      "execution_count": 62,
      "outputs": [
        {
          "output_type": "stream",
          "text": [
            "1/1 [==============================] - 0s 1ms/step - loss: 6.2562 - accuracy: 0.0000e+00\n",
            "Test score Glove 100D: 0.00%\n",
            "1/1 [==============================] - 0s 1ms/step - loss: 2.7050 - accuracy: 0.1429\n",
            "Validation score Glove 100D: 14.29%\n",
            "1/1 [==============================] - 0s 1ms/step - loss: 6.2642 - accuracy: 0.0000e+00\n",
            "Test score Glove 100D: 0.00%\n",
            "1/1 [==============================] - 0s 1ms/step - loss: 2.8893 - accuracy: 0.2857\n",
            "Validation score Glove 100D: 28.57%\n",
            "1/1 [==============================] - 0s 1ms/step - loss: 5.5345 - accuracy: 0.1429\n",
            "Test score Glove 100D: 14.29%\n",
            "1/1 [==============================] - 0s 949us/step - loss: 2.4820 - accuracy: 0.1429\n",
            "Validation score Glove 100D: 14.29%\n",
            "1/1 [==============================] - 0s 1ms/step - loss: 5.9260 - accuracy: 0.1429\n",
            "Test score Glove 100D: 14.29%\n",
            "1/1 [==============================] - 0s 1ms/step - loss: 2.6927 - accuracy: 0.1429\n",
            "Validation score Glove 100D: 14.29%\n",
            "1/1 [==============================] - 0s 1ms/step - loss: 6.5702 - accuracy: 0.0000e+00\n",
            "Test score Glove 100D: 0.00%\n",
            "1/1 [==============================] - 0s 1ms/step - loss: 2.5701 - accuracy: 0.1429\n",
            "Validation score Glove 100D: 14.29%\n",
            "Mean test scores:: 5.71%\n",
            "Mean val scores:: 20.00%\n",
            "1/1 [==============================] - 0s 1ms/step - loss: 6.3067 - accuracy: 0.0000e+00\n",
            "Test score CBOW 50D: 0.00%\n",
            "1/1 [==============================] - 0s 2ms/step - loss: 2.5512 - accuracy: 0.1429\n",
            "Validation score CBOW 50D: 14.29%\n",
            "1/1 [==============================] - 0s 1ms/step - loss: 6.1061 - accuracy: 0.1429\n",
            "Test score CBOW 50D: 14.29%\n",
            "1/1 [==============================] - 0s 1ms/step - loss: 2.5028 - accuracy: 0.2857\n",
            "Validation score CBOW 50D: 28.57%\n",
            "1/1 [==============================] - 0s 1ms/step - loss: 6.9835 - accuracy: 0.0000e+00\n",
            "Test score CBOW 50D: 0.00%\n",
            "1/1 [==============================] - 0s 1ms/step - loss: 2.2893 - accuracy: 0.2857\n",
            "Validation score CBOW 50D: 28.57%\n",
            "1/1 [==============================] - 0s 1ms/step - loss: 5.7673 - accuracy: 0.1429\n",
            "Test score CBOW 50D: 14.29%\n",
            "1/1 [==============================] - 0s 942us/step - loss: 2.6939 - accuracy: 0.1429\n",
            "Validation score CBOW 50D: 14.29%\n",
            "1/1 [==============================] - 0s 1ms/step - loss: 5.7428 - accuracy: 0.1429\n",
            "Test score CBOW 50D: 14.29%\n",
            "1/1 [==============================] - 0s 961us/step - loss: 2.4026 - accuracy: 0.2857\n",
            "Validation score CBOW 50D: 28.57%\n",
            "1/1 [==============================] - 0s 1ms/step - loss: 6.0620 - accuracy: 0.0000e+00\n",
            "Test score CBOW 50D: 0.00%\n",
            "1/1 [==============================] - 0s 1000us/step - loss: 2.8216 - accuracy: 0.1429\n",
            "Validation score CBOW 50D: 14.29%\n",
            "1/1 [==============================] - 0s 1ms/step - loss: 6.9297 - accuracy: 0.0000e+00\n",
            "Test score CBOW 50D: 0.00%\n",
            "1/1 [==============================] - 0s 1ms/step - loss: 2.3155 - accuracy: 0.2857\n",
            "Validation score CBOW 50D: 28.57%\n",
            "1/1 [==============================] - 0s 1ms/step - loss: 6.0325 - accuracy: 0.1429\n",
            "Test score CBOW 50D: 14.29%\n",
            "1/1 [==============================] - 0s 995us/step - loss: 2.4516 - accuracy: 0.2857\n",
            "Validation score CBOW 50D: 28.57%\n",
            "1/1 [==============================] - 0s 1ms/step - loss: 7.1121 - accuracy: 0.0000e+00\n",
            "Test score CBOW 50D: 0.00%\n",
            "1/1 [==============================] - 0s 952us/step - loss: 2.3683 - accuracy: 0.2857\n",
            "Validation score CBOW 50D: 28.57%\n",
            "1/1 [==============================] - 0s 1ms/step - loss: 6.7365 - accuracy: 0.0000e+00\n",
            "Test score CBOW 50D: 0.00%\n",
            "1/1 [==============================] - 0s 954us/step - loss: 2.7488 - accuracy: 0.2857\n",
            "Validation score CBOW 50D: 28.57%\n",
            "Mean test scores:: 5.71%\n",
            "Mean val scores:: 24.29%\n",
            "1/1 [==============================] - 0s 1ms/step - loss: 7.1122 - accuracy: 0.0000e+00\n",
            "Test score SkipGram 50D: 0.00%\n",
            "1/1 [==============================] - 0s 959us/step - loss: 2.3311 - accuracy: 0.1429\n",
            "Validation score SkipGram 50D: 14.29%\n",
            "1/1 [==============================] - 0s 1ms/step - loss: 6.3884 - accuracy: 0.0000e+00\n",
            "Test score SkipGram 50D: 0.00%\n",
            "1/1 [==============================] - 0s 1ms/step - loss: 2.5705 - accuracy: 0.1429\n",
            "Validation score SkipGram 50D: 14.29%\n",
            "1/1 [==============================] - 0s 1ms/step - loss: 5.6183 - accuracy: 0.0000e+00\n",
            "Test score SkipGram 50D: 0.00%\n",
            "1/1 [==============================] - 0s 1ms/step - loss: 2.6775 - accuracy: 0.1429\n",
            "Validation score SkipGram 50D: 14.29%\n",
            "1/1 [==============================] - 0s 1ms/step - loss: 6.7372 - accuracy: 0.0000e+00\n",
            "Test score SkipGram 50D: 0.00%\n",
            "1/1 [==============================] - 0s 952us/step - loss: 2.7506 - accuracy: 0.1429\n",
            "Validation score SkipGram 50D: 14.29%\n",
            "1/1 [==============================] - 0s 1ms/step - loss: 7.0895 - accuracy: 0.0000e+00\n",
            "Test score SkipGram 50D: 0.00%\n",
            "1/1 [==============================] - 0s 972us/step - loss: 2.5244 - accuracy: 0.1429\n",
            "Validation score SkipGram 50D: 14.29%\n",
            "1/1 [==============================] - 0s 1ms/step - loss: 5.6499 - accuracy: 0.1429\n",
            "Test score SkipGram 50D: 14.29%\n",
            "1/1 [==============================] - 0s 934us/step - loss: 2.1916 - accuracy: 0.4286\n",
            "Validation score SkipGram 50D: 42.86%\n",
            "1/1 [==============================] - 0s 1ms/step - loss: 6.5952 - accuracy: 0.0000e+00\n",
            "Test score SkipGram 50D: 0.00%\n",
            "1/1 [==============================] - 0s 1ms/step - loss: 2.4960 - accuracy: 0.1429\n",
            "Validation score SkipGram 50D: 14.29%\n",
            "1/1 [==============================] - 0s 1ms/step - loss: 5.5344 - accuracy: 0.1429\n",
            "Test score SkipGram 50D: 14.29%\n",
            "1/1 [==============================] - 0s 966us/step - loss: 2.4800 - accuracy: 0.1429\n",
            "Validation score SkipGram 50D: 14.29%\n",
            "1/1 [==============================] - 0s 2ms/step - loss: 7.1039 - accuracy: 0.0000e+00\n",
            "Test score SkipGram 50D: 0.00%\n",
            "1/1 [==============================] - 0s 1ms/step - loss: 2.6466 - accuracy: 0.1429\n",
            "Validation score SkipGram 50D: 14.29%\n",
            "1/1 [==============================] - 0s 1ms/step - loss: 5.8226 - accuracy: 0.1429\n",
            "Test score SkipGram 50D: 14.29%\n",
            "1/1 [==============================] - 0s 992us/step - loss: 2.2712 - accuracy: 0.2857\n",
            "Validation score SkipGram 50D: 28.57%\n",
            "Mean test scores:: 4.29%\n",
            "Mean val scores:: 18.57%\n"
          ],
          "name": "stdout"
        }
      ]
    },
    {
      "cell_type": "code",
      "metadata": {
        "id": "y-osuIZnooif",
        "colab_type": "code",
        "colab": {
          "base_uri": "https://localhost:8080/",
          "height": 34
        },
        "outputId": "3ae954c6-84cc-4784-f533-7e5c03e7ee83"
      },
      "source": [
        "# Brief summary of the scores\n",
        "print(\"%.2f%% (+/- %.2f%%)\" % (np.mean(cv_scores), np.std(cv_scores)))"
      ],
      "execution_count": 63,
      "outputs": [
        {
          "output_type": "stream",
          "text": [
            "22.23% (+/- 5.49%)\n"
          ],
          "name": "stdout"
        }
      ]
    },
    {
      "cell_type": "code",
      "metadata": {
        "id": "D5VQi88Og0Of",
        "colab_type": "code",
        "colab": {}
      },
      "source": [
        "# Save and upload model\n",
        "\n",
        "model_json = model.to_json()\n",
        "with open('model-lstm-2.json', 'w') as json_file:\n",
        "  json_file.write(model_json)\n",
        "model.save_weights('model-lstm-2.h5')\n",
        "\n",
        "uploaded = drive.CreateFile({'title': 'model-lstm-2.h5'})\n",
        "uploaded.SetContentFile('model-lstm-2.h5')\n",
        "uploaded.Upload()\n",
        "print('Uploaded file with ID {}'.format(uploaded.get('id')))\n",
        "\n",
        "uploaded = drive.CreateFile({'title': 'model-lstm-2.json'})\n",
        "uploaded.SetContentFile('model-lstm-2.json')\n",
        "uploaded.Upload()\n"
      ],
      "execution_count": 0,
      "outputs": []
    },
    {
      "cell_type": "code",
      "metadata": {
        "id": "o2ShTMqnSciS",
        "colab_type": "code",
        "colab": {}
      },
      "source": [
        "!ls -la"
      ],
      "execution_count": 0,
      "outputs": []
    },
    {
      "cell_type": "code",
      "metadata": {
        "id": "hKOtkssWQr7Y",
        "colab_type": "code",
        "colab": {}
      },
      "source": [
        "from google.colab import files\n",
        "files.download('model-lstm.h5')"
      ],
      "execution_count": 0,
      "outputs": []
    }
  ]
}