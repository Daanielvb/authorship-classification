{
  "nbformat": 4,
  "nbformat_minor": 0,
  "metadata": {
    "colab": {
      "name": "Authorship classification.ipynb",
      "provenance": [],
      "collapsed_sections": []
    },
    "kernelspec": {
      "name": "python3",
      "display_name": "Python 3"
    }
  },
  "cells": [
    {
      "cell_type": "code",
      "metadata": {
        "colab_type": "code",
        "outputId": "92610b3c-ec1b-40b3-f8b7-38761e64dc92",
        "id": "RjmJ0x0Nky_B",
        "colab": {
          "base_uri": "https://localhost:8080/",
          "height": 51
        }
      },
      "source": [
        "!pip install -U -q PyDrive\n",
        "from pydrive.auth import GoogleAuth\n",
        "from pydrive.drive import GoogleDrive\n",
        "from google.colab import auth\n",
        "from oauth2client.client import GoogleCredentials\n",
        "import warnings\n",
        "warnings.filterwarnings('ignore')\n",
        "\n",
        "# Authenticate and create the PyDrive client.\n",
        "auth.authenticate_user()\n",
        "gauth = GoogleAuth()\n",
        "gauth.credentials = GoogleCredentials.get_application_default()\n",
        "drive = GoogleDrive(gauth)\n",
        "\n",
        "# The dataset shareable link\n",
        "\n",
        "#new stylo data\n",
        "\n",
        "link = 'https://drive.google.com/open?id=1qg3fx5JyibrfBBycl3y8hCQJWBiXkP2N'\n",
        "\n",
        "\n",
        "fluff, id = link.split('=')\n",
        "print(id)\n",
        "filename = 'stylo-data.csv'\n",
        "downloaded = drive.CreateFile({'id':id})\n",
        "downloaded.GetContentFile(filename)\n",
        "\n",
        "#raw_data_link = 'https://drive.google.com/open?id=1DZkGVcBNQ1WUk11dVRzJcbGNeAb8rOaJ'\n",
        "#stopwords\n",
        "raw_data_link = 'https://drive.google.com/open?id=1QKJm85j3xeOz4iIgd5D82i7tc3vg0zMW'\n",
        "fluff, id = raw_data_link.split('=')\n",
        "print(id)\n",
        "raw_filename = 'raw_data.csv'\n",
        "downloaded = drive.CreateFile({'id':id})\n",
        "downloaded.GetContentFile(raw_filename)\n"
      ],
      "execution_count": 1,
      "outputs": [
        {
          "output_type": "stream",
          "text": [
            "1qg3fx5JyibrfBBycl3y8hCQJWBiXkP2N\n",
            "1QKJm85j3xeOz4iIgd5D82i7tc3vg0zMW\n"
          ],
          "name": "stdout"
        }
      ]
    },
    {
      "cell_type": "code",
      "metadata": {
        "id": "QDJ9k4ISEyG2",
        "colab_type": "code",
        "colab": {}
      },
      "source": [
        "import pandas as pd\n",
        "\n",
        "import numpy as np\n",
        "from matplotlib import pyplot as plt\n",
        "\n",
        "import nltk\n",
        "nltk.download('stopwords')\n",
        "nltk.download('punkt')\n",
        "\n",
        "from sklearn.model_selection import train_test_split, cross_validate, StratifiedKFold, RandomizedSearchCV\n",
        "from sklearn.metrics import classification_report, confusion_matrix, accuracy_score\n",
        "from sklearn.preprocessing import LabelEncoder, StandardScaler\n",
        "from sklearn.mixture import GaussianMixture, BayesianGaussianMixture\n",
        "from sklearn.cluster import KMeans\n",
        "from sklearn.decomposition import PCA\n",
        "from sklearn.pipeline import Pipeline, make_pipeline\n",
        "from sklearn.linear_model import SGDClassifier, LogisticRegression\n",
        "from sklearn.ensemble import AdaBoostClassifier, BaggingClassifier, ExtraTreesClassifier, GradientBoostingClassifier, RandomForestClassifier\n",
        "from sklearn.svm import SVC, LinearSVC\n",
        "from sklearn.feature_extraction.text import TfidfTransformer,TfidfVectorizer\n",
        "from sklearn.naive_bayes import GaussianNB, BernoulliNB, MultinomialNB\n",
        "from sklearn.neural_network import MLPClassifier\n",
        "from sklearn.neighbors import KNeighborsClassifier\n",
        "\n",
        "!pip install -U keras\n",
        "from keras.utils import np_utils\n",
        "from keras.preprocessing.text import Tokenizer\n",
        "from keras.preprocessing.sequence import pad_sequences\n",
        "from tensorflow.python.keras.layers import InputLayer, Embedding, Conv1D, MaxPool1D, Dense, Flatten, Dropout, GRU, LSTM, Input\n",
        "from tensorflow.python.keras import Sequential, Model\n",
        "from tensorflow.python.keras import Sequential\n",
        "from keras.initializers import Constant\n",
        "\n",
        "from pprint import pprint\n",
        "\n",
        "from imblearn.over_sampling import SMOTE"
      ],
      "execution_count": 0,
      "outputs": []
    },
    {
      "cell_type": "code",
      "metadata": {
        "id": "pbymYhVUjAYD",
        "colab_type": "code",
        "outputId": "0dd7d3ba-6729-4fc9-ef06-13837244e1dc",
        "colab": {
          "base_uri": "https://localhost:8080/",
          "height": 34
        }
      },
      "source": [
        "from google.colab import drive\n",
        "drive.mount('/content/drive')"
      ],
      "execution_count": 3,
      "outputs": [
        {
          "output_type": "stream",
          "text": [
            "Drive already mounted at /content/drive; to attempt to forcibly remount, call drive.mount(\"/content/drive\", force_remount=True).\n"
          ],
          "name": "stdout"
        }
      ]
    },
    {
      "cell_type": "markdown",
      "metadata": {
        "id": "UdSHLajCxFOr",
        "colab_type": "text"
      },
      "source": [
        "*PS: Para baixar os arquivos do Google Drive, é preciso clicar no link que irá aparecer no console, aceitar as permissões do Drive e em seguida colar o código de verificação no local indicado (console)*\n",
        "\n",
        "*Sem o arquivo não é possível executar os outros trechos do notebook*"
      ]
    },
    {
      "cell_type": "code",
      "metadata": {
        "id": "sZ9Qh3LPNDN_",
        "colab_type": "code",
        "colab": {}
      },
      "source": [
        "# read dataset\n",
        "df = pd.read_csv(filename)\n",
        "raw_df = pd.read_csv(raw_filename)\n",
        "\n",
        "# Remove single class entries (We need at least 3 samples of an author)#\n",
        "df = df.groupby('Author').filter(lambda x: len(x) > 3)\n",
        "raw_df = raw_df.groupby('Author').filter(lambda x: len(x) > 3)"
      ],
      "execution_count": 0,
      "outputs": []
    },
    {
      "cell_type": "code",
      "metadata": {
        "id": "xX-rbG4pTw8R",
        "colab_type": "code",
        "outputId": "4609ced4-8248-4729-f88d-45e08fa111a3",
        "colab": {
          "base_uri": "https://localhost:8080/",
          "height": 204
        }
      },
      "source": [
        "# Visualize data\n",
        "\n",
        "\n",
        "df.shape\n",
        "df.head()\n",
        "df.shape\n",
        "raw_df.head()"
      ],
      "execution_count": 5,
      "outputs": [
        {
          "output_type": "execute_result",
          "data": {
            "text/html": [
              "<div>\n",
              "<style scoped>\n",
              "    .dataframe tbody tr th:only-of-type {\n",
              "        vertical-align: middle;\n",
              "    }\n",
              "\n",
              "    .dataframe tbody tr th {\n",
              "        vertical-align: top;\n",
              "    }\n",
              "\n",
              "    .dataframe thead th {\n",
              "        text-align: right;\n",
              "    }\n",
              "</style>\n",
              "<table border=\"1\" class=\"dataframe\">\n",
              "  <thead>\n",
              "    <tr style=\"text-align: right;\">\n",
              "      <th></th>\n",
              "      <th>Text</th>\n",
              "      <th>Author</th>\n",
              "    </tr>\n",
              "  </thead>\n",
              "  <tbody>\n",
              "    <tr>\n",
              "      <th>1</th>\n",
              "      <td>respostas ecologia evolutiva retirar amostra p...</td>\n",
              "      <td>pdje</td>\n",
              "    </tr>\n",
              "    <tr>\n",
              "      <th>2</th>\n",
              "      <td>1 - competição membros espécies diferentes usa...</td>\n",
              "      <td>fadj</td>\n",
              "    </tr>\n",
              "    <tr>\n",
              "      <th>3</th>\n",
              "      <td>embora temática questão ambiental crescente an...</td>\n",
              "      <td>sdjme</td>\n",
              "    </tr>\n",
              "    <tr>\n",
              "      <th>5</th>\n",
              "      <td>vem cada dia buscando entender relações estabe...</td>\n",
              "      <td>sdfi</td>\n",
              "    </tr>\n",
              "    <tr>\n",
              "      <th>6</th>\n",
              "      <td>pode-se dizer que, conservar dado habitat dada...</td>\n",
              "      <td>bmm</td>\n",
              "    </tr>\n",
              "  </tbody>\n",
              "</table>\n",
              "</div>"
            ],
            "text/plain": [
              "                                                Text Author\n",
              "1  respostas ecologia evolutiva retirar amostra p...   pdje\n",
              "2  1 - competição membros espécies diferentes usa...   fadj\n",
              "3  embora temática questão ambiental crescente an...  sdjme\n",
              "5  vem cada dia buscando entender relações estabe...   sdfi\n",
              "6  pode-se dizer que, conservar dado habitat dada...    bmm"
            ]
          },
          "metadata": {
            "tags": []
          },
          "execution_count": 5
        }
      ]
    },
    {
      "cell_type": "code",
      "metadata": {
        "id": "EWwBfLgS-zZA",
        "colab_type": "code",
        "colab": {}
      },
      "source": [
        "stopwords = nltk.corpus.stopwords.words('portuguese')\n",
        "raw_df['Text'] = raw_df['Text'].apply(lambda x: ' '.join([word for word in x.split() if word.lower() not in (stopwords)]))"
      ],
      "execution_count": 0,
      "outputs": []
    },
    {
      "cell_type": "code",
      "metadata": {
        "id": "gxmBkJBicT8u",
        "colab_type": "code",
        "colab": {}
      },
      "source": [
        "raw_df = raw_df.replace(to_replace ='\\r', value = ' ', regex = True) \n",
        "raw_df = raw_df.replace(to_replace ='\\n ', value = '\\n', regex = True) \n",
        "raw_df = raw_df.replace(to_replace ='\\n{2,*}', value = ' ', regex = True)"
      ],
      "execution_count": 0,
      "outputs": []
    },
    {
      "cell_type": "code",
      "metadata": {
        "id": "2zKovLDZF0Le",
        "colab_type": "code",
        "outputId": "aa843677-997a-4b88-ce5b-076e70030813",
        "colab": {
          "base_uri": "https://localhost:8080/",
          "height": 221
        }
      },
      "source": [
        "raw_df['Text']"
      ],
      "execution_count": 33,
      "outputs": [
        {
          "output_type": "execute_result",
          "data": {
            "text/plain": [
              "1      respostas ecologia evolutiva retirar amostra p...\n",
              "2      1 - competição membros espécies diferentes usa...\n",
              "3      embora temática questão ambiental crescente an...\n",
              "5      vem cada dia buscando entender relações estabe...\n",
              "6      pode-se dizer que, conservar dado habitat dada...\n",
              "                             ...                        \n",
              "92     referencial teórico: anuras (bufonídeos) sapos...\n",
              "93     congregação santa – – segunda conferência orga...\n",
              "94     congregação santa biológicas educação ambienta...\n",
              "95     disciplina: orientação supervisão estágio ii p...\n",
              "102    biologia tendências perspectivas atuais aborda...\n",
              "Name: Text, Length: 69, dtype: object"
            ]
          },
          "metadata": {
            "tags": []
          },
          "execution_count": 33
        }
      ]
    },
    {
      "cell_type": "code",
      "metadata": {
        "id": "0IDsmwyj9qmU",
        "colab_type": "code",
        "colab": {}
      },
      "source": [
        "#Separate data from labels\n",
        "\n",
        "y = df.pop('Author')\n",
        "y_raw = raw_df.pop('Author')\n",
        "le = LabelEncoder()\n",
        "le.fit(y)\n",
        "encoded_Y = le.transform(y)\n",
        "\n",
        "le.fit(y_raw)\n",
        "encoded_raw_Y = le.transform(y_raw)"
      ],
      "execution_count": 0,
      "outputs": []
    },
    {
      "cell_type": "code",
      "metadata": {
        "id": "XKDn9mh9-DJ7",
        "colab_type": "code",
        "colab": {}
      },
      "source": [
        "from sklearn.feature_extraction.text import CountVectorizer\n",
        "from sklearn.feature_extraction.text import TfidfTransformer,TfidfVectorizer\n",
        "\n",
        "tfidf_transformer = TfidfTransformer()\n",
        "X_idf = tfidf_transformer.fit_transform(raw_df)"
      ],
      "execution_count": 0,
      "outputs": []
    },
    {
      "cell_type": "code",
      "metadata": {
        "id": "MOMw5Fol0K4e",
        "colab_type": "code",
        "colab": {}
      },
      "source": [
        "\n",
        "gx = GaussianMixture()\n",
        "\n",
        "#gx.fit(df)\n",
        "n_components = np.arange(1, 30)\n",
        "models = [GaussianMixture(n, covariance_type='full', random_state=0).fit(df) for n in n_components]\n",
        "plt.plot(n_components, [m.bic(df) for m in models], label='BIC')\n",
        "plt.plot(n_components, [m.aic(df) for m in models], label='AIC')\n",
        "plt.legend(loc='best')\n",
        "plt.xlabel('n_components');"
      ],
      "execution_count": 0,
      "outputs": []
    },
    {
      "cell_type": "code",
      "metadata": {
        "id": "RKlDyIDsFaxY",
        "colab_type": "code",
        "colab": {}
      },
      "source": [
        "gmm = GaussianMixture(n_components=5)\n",
        "gmm.fit(df)\n",
        "labels = gmm.predict(df.values)\n",
        "plt.scatter(df.values[:, 0], df.values[:, 6], c=labels, cmap='viridis');"
      ],
      "execution_count": 0,
      "outputs": []
    },
    {
      "cell_type": "code",
      "metadata": {
        "id": "xzUxzNUL7QPs",
        "colab_type": "code",
        "colab": {}
      },
      "source": [
        "labels"
      ],
      "execution_count": 0,
      "outputs": []
    },
    {
      "cell_type": "code",
      "metadata": {
        "id": "Ic8g1H1gBU-n",
        "colab_type": "code",
        "colab": {}
      },
      "source": [
        "scaler = StandardScaler()\n",
        "# Fit on training set only.\n",
        "x = scaler.fit_transform(df)\n",
        "\n",
        "pca = PCA(0.95)\n",
        "X = pca.fit_transform(x)"
      ],
      "execution_count": 0,
      "outputs": []
    },
    {
      "cell_type": "code",
      "metadata": {
        "id": "sFRc0ZG2_r6l",
        "colab_type": "code",
        "colab": {}
      },
      "source": [
        "#W2Vec tryout\n",
        "from sklearn.feature_extraction.text import CountVectorizer\n",
        "from sklearn.feature_extraction.text import TfidfTransformer,TfidfVectorizer\n",
        "from sklearn.naive_bayes import MultinomialNB\n",
        "from sklearn.feature_extraction.text import CountVectorizer\n",
        "from sklearn.feature_extraction.text import TfidfTransformer\n",
        "\n",
        "# count_vect = CountVectorizer()\n",
        "# word_count_vector = count_vect.fit_transform(raw_df['Text'])\n",
        " \n",
        "# settings that you use for count vectorizer will go here\n",
        "#tfidf_vectorizer=TfidfVectorizer(use_idf=True)\n",
        " \n",
        "# just send in all your docs here\n",
        "#tfidf_vectorizer_vectors=tfidf_vectorizer.fit_transform(raw_df['Text'])\n",
        "\n",
        "# tfidf_transformer = TfidfTransformer()\n",
        "# X_raw = tfidf_transformer.fit_transform(X_train_counts)\n",
        "#tfidf_vectorizer_vectors[0].to\n",
        "\n",
        "# for train_index, test_index in kfold.split(X_raw, encoded_raw_Y):\n",
        "#   X_train, y_train = X_raw[train_index], encoded_raw_Y[train_index]\n",
        "#   X_test, y_test = X_raw[test_index], encoded_raw_Y[test_index]\n",
        "#   print(X_raw[train_index])\n",
        "\n",
        "\n",
        "\n",
        "X_train, X_test, y_train, y_test = train_test_split(raw_df['Text'], encoded_raw_Y, random_state = 0)\n",
        "count_vect = CountVectorizer()\n",
        "X_train_counts = count_vect.fit_transform(X_train)\n",
        "tfidf_transformer = TfidfTransformer()\n",
        "X_train_tfidf = tfidf_transformer.fit_transform(X_train_counts)\n",
        "clf = MultinomialNB().fit(X_train_tfidf, y_train)"
      ],
      "execution_count": 0,
      "outputs": []
    },
    {
      "cell_type": "code",
      "metadata": {
        "id": "EEPBnuGac-Jw",
        "colab_type": "code",
        "colab": {}
      },
      "source": [
        "stopwords = nltk.corpus.stopwords.words('portuguese')\n",
        "#models = [AdaBoostClassifier(), BaggingClassifier(),ExtraTreesClassifier(), GradientBoostingClassifier(),\n",
        "           #RandomForestClassifier(), SGDClassifier(), LinearSVC(), SVC(), BernoulliNB(), MultinomialNB(), MLPClassifier() ]\n",
        "\n",
        "models = [ExtraTreesClassifier(), RandomForestClassifier(), SGDClassifier(), MultinomialNB(), MLPClassifier()]\n",
        "names = ['extratrees', 'randomf', 'sgdclassfier','multinomialNB', 'mlp']\n",
        "\n",
        "results = []\n",
        "accuracies = {}\n",
        "for idx, model in enumerate(models):\n",
        "  for ngram in range(1,5):\n",
        "    clf = make_pipeline(TfidfVectorizer(use_idf=True, stop_words = stopwords, ngram_range=(1, ngram)), model)\n",
        "    accs = []\n",
        "    for i in range(0, 10):\n",
        "      scores = cross_validate(clf, raw_df['Text'], encoded_raw_Y, scoring=['accuracy'], cv=3, return_train_score=True)\n",
        "      #print(np.mean(scores['test_accuracy']))\n",
        "      #print(component, names[idx])\n",
        "      #print(scores['test_accuracy'])\n",
        "      mean = np.mean(scores['test_accuracy'])\n",
        "    accs.append(mean)\n",
        "    results.append((np.mean(accs), ngram, names[idx]))\n",
        "\n",
        "print(results)\n",
        "results"
      ],
      "execution_count": 0,
      "outputs": []
    },
    {
      "cell_type": "code",
      "metadata": {
        "id": "7HyGlvnLJROc",
        "colab_type": "code",
        "colab": {}
      },
      "source": [
        "# Data normalization\n",
        "from sklearn.preprocessing import StandardScaler, MinMaxScaler, PowerTransformer, QuantileTransformer, Normalizer\n",
        "\n",
        "scaled_features = PowerTransformer().fit_transform(df.values)\n",
        "df = pd.DataFrame(scaled_features, index=df.index, columns=df.columns)\n"
      ],
      "execution_count": 0,
      "outputs": []
    },
    {
      "cell_type": "code",
      "metadata": {
        "id": "CXgZaN4As-nl",
        "colab_type": "code",
        "colab": {}
      },
      "source": [
        "X, X_test, Y, y_test = train_test_split(df.values, encoded_Y, random_state=7, test_size=0.3)\n",
        "X_test, X_val, y_test, y_val = train_test_split(X_test, y_test, random_state=7, test_size=0.5)\n",
        "\n",
        "model = RandomForestClassifier()\n",
        "print(X.shape)\n",
        "model.fit(X, Y)\n",
        "\n",
        "print(X_test.shape)\n",
        "y_pred = model.predict(X_test)\n",
        "\n",
        "print(y_pred)\n",
        "print(y_test)\n",
        "score = accuracy_score(y_test, y_pred)\n",
        "print(\"Test score: %.2f%%\" % (score * 100))\n",
        "\n",
        "y_pred = model.predict(X_val)\n",
        "print(y_pred)\n",
        "print(y_val)\n",
        "score = accuracy_score(y_val, y_pred)\n",
        "print(\"Validation score: %.2f%%\" % (score * 100))"
      ],
      "execution_count": 0,
      "outputs": []
    },
    {
      "cell_type": "code",
      "metadata": {
        "id": "YeoPJv5qKbqr",
        "colab_type": "code",
        "colab": {}
      },
      "source": [
        "df.shape"
      ],
      "execution_count": 0,
      "outputs": []
    },
    {
      "cell_type": "code",
      "metadata": {
        "id": "vX53th7hZJSW",
        "colab_type": "code",
        "colab": {}
      },
      "source": [
        "#stopwords = nltk.corpus.stopwords.words('portuguese')\n",
        "models = [ExtraTreesClassifier(), \n",
        "           RandomForestClassifier(), SVC(kernel='poly'), SVC(), MLPClassifier() ]\n",
        "\n",
        "names = ['extratrees','randomf', 'svcpoly', 'svcrbf', 'mlp']\n",
        "\n",
        "#results = []\n",
        "results2 = []\n",
        "accuracies = {}\n",
        "kfold = StratifiedKFold(n_splits=4, shuffle=True, random_state=7)\n",
        "for idx, model in enumerate(models):\n",
        "  for component in range(5, 48):\n",
        "    clf = make_pipeline(PCA(n_components=component), model)\n",
        "    accs = []\n",
        "    for i in range(0, 10):\n",
        "      scores = []\n",
        "      for train_index, test_index in kfold.split(df, encoded_Y):\n",
        "        X_train, y_train = df.iloc[train_index], encoded_Y[train_index]\n",
        "        X_test, y_test = df.iloc[test_index], encoded_Y[test_index]\n",
        "        #X_train_oversampled, y_train_oversampled = SMOTE(k_neighbors=2).fit_sample(X_train, y_train)\n",
        "        model.fit(X_train, y_train)\n",
        "        y_pred = model.predict(X_test)\n",
        "        scores.append(accuracy_score(y_test, y_pred))\n",
        "        #print(np.mean(scores['test_accuracy']))\n",
        "        #print(component, names[idx])\n",
        "        #print(scores['test_accuracy'])\n",
        "      mean = np.mean(scores)\n",
        "      accs.append(mean)\n",
        "    results2.append((np.mean(accs), component, names[idx]))\n",
        "print(results2)"
      ],
      "execution_count": 0,
      "outputs": []
    },
    {
      "cell_type": "code",
      "metadata": {
        "id": "cHU4EuiXKQV9",
        "colab_type": "code",
        "colab": {}
      },
      "source": [
        "np.mean(accs)"
      ],
      "execution_count": 0,
      "outputs": []
    },
    {
      "cell_type": "code",
      "metadata": {
        "id": "Ez2sJwp__yQm",
        "colab_type": "code",
        "colab": {}
      },
      "source": [
        "kfold = StratifiedKFold(n_splits=3, shuffle=True, random_state=7)\n",
        "Y = encoded_Y\n",
        "accuracies = []\n",
        "variances = []\n",
        "X = df\n",
        "\n",
        "models = [ExtraTreesClassifier(), RandomForestClassifier(), MLPClassifier(), SVC(kernel='poly'), MLP()]\n",
        "for i in range(0,100):\n",
        "  scores = []\n",
        "  for train_index, test_index in kfold.split(X, Y):\n",
        "      #convert integers to dummy variables (i.e. one hot encoded)\n",
        "      #dummy_y = np_utils.to_categorical(Y)\n",
        "      X_train, y_train = X.iloc[train_index], Y[train_index]\n",
        "      X_test, y_test = X.iloc[test_index], Y[test_index]\n",
        "      X_train_oversampled, y_train_oversampled = SMOTE(k_neighbors=1).fit_sample(X_train, y_train)\n",
        "      #rfclf = LinearSVC(multi_class='crammer_singer')\n",
        "      \n",
        "      #rfclf = KNeighborsClassifier(n_neighbors=5)\n",
        "      #rclf = BaggingClassifier(base_estimator=KNeighborsClassifier(n_neighbors=5), n_estimators=100, random_state=0)\n",
        "      #rfclf = ExtraTreesClassifier(max_depth=None, n_estimators=500)\n",
        "      rfclf = LogisticRegression(max_iter=500,solver ='lbfgs')\n",
        "      #rfclf = RandomForestClassifier(n_estimators=500)\n",
        "      rfclf.fit(X_train_oversampled, y_train_oversampled)\n",
        "      y_pred = rfclf.predict(X_test)\n",
        "      #print(confusion_matrix(y_test,y_pred))\n",
        "      #print(classification_report(y_test,y_pred))\n",
        "      #print(accuracy_score(y_test, y_pred))\n",
        "      scores.append(accuracy_score(y_test, y_pred))\n",
        "\n",
        "  accuracies.append(np.mean(scores))\n",
        "print(np.mean(accuracies))"
      ],
      "execution_count": 0,
      "outputs": []
    },
    {
      "cell_type": "code",
      "metadata": {
        "id": "0CHmkX29E9dk",
        "colab_type": "code",
        "colab": {}
      },
      "source": [
        "from sklearn.model_selection import cross_val_score\n",
        "clf = RandomForestClassifier(n_estimators=200, random_state=0)\n",
        "scores = cross_val_score(clf, X, Y, cv=4)\n",
        "scores"
      ],
      "execution_count": 0,
      "outputs": []
    },
    {
      "cell_type": "code",
      "metadata": {
        "id": "l-LWQrc-6El7",
        "colab_type": "code",
        "colab": {}
      },
      "source": [
        "# Oversampling \n",
        "from imblearn.over_sampling import SMOTE\n",
        "\n",
        "\n",
        "smt = SMOTE(k_neighbors=1)\n",
        "X_resampled, y_resampled = smt.fit_resample(X_train, y_train)\n",
        "\n",
        "X_resampled, y_resampled"
      ],
      "execution_count": 0,
      "outputs": []
    },
    {
      "cell_type": "code",
      "metadata": {
        "id": "NNCvBjOW2vYS",
        "colab_type": "code",
        "colab": {}
      },
      "source": [
        "# Data split\n",
        "\n",
        "X_train, X_test, y_train, y_test = train_test_split(df, encoded_Y, test_size=0.3, random_state=0)\n",
        "#X_test, X_application, y_test, y_application = train_test_split(X_test, y_test, test_size=0.5, random_state=0)\n",
        "\n",
        "y_train"
      ],
      "execution_count": 0,
      "outputs": []
    },
    {
      "cell_type": "code",
      "metadata": {
        "id": "Od0EJHyl898g",
        "colab_type": "code",
        "colab": {}
      },
      "source": [
        "#Random Forest baseline + accuracy versus test\n",
        "rfclf = RandomForestClassifier(n_estimators=200, random_state=0)\n",
        "rfclf.fit(X_resampled, y_resampled)\n",
        "y_pred = rfclf.predict(X_test)\n",
        "\n",
        "print(confusion_matrix(y_test,y_pred))\n",
        "print(classification_report(y_test,y_pred))\n",
        "print(accuracy_score(y_test, y_pred))"
      ],
      "execution_count": 0,
      "outputs": []
    },
    {
      "cell_type": "code",
      "metadata": {
        "id": "VIq3fFWjEqpV",
        "colab_type": "code",
        "colab": {}
      },
      "source": [
        "# Random Forest hyperparam discovery\n",
        "\n",
        "# Number of trees in random forest\n",
        "n_estimators = [int(x) for x in np.linspace(start = 10, stop = 800, num = 10)]\n",
        "# Number of features to consider at every split\n",
        "#max_features = ['auto', 'sqrt']\n",
        "loss = ['deviance', 'exponential']\n",
        "learning_rate = [0.1, 0.2, 0.3, 0.4,0.5]\n",
        "# Maximum number of levels in tree\n",
        "max_depth = [int(x) for x in np.linspace(10, 110, num = 11)]\n",
        "max_depth.append(None)\n",
        "# Minimum number of samples required to split a node\n",
        "min_samples_split = [0, 1, 2, 5, 10]\n",
        "# Minimum number of samples required at each leaf node\n",
        "min_samples_leaf = [0, 1, 2, 4]\n",
        "# Method of selecting samples for training each tree\n",
        "bootstrap = [True, False]\n",
        "# Create the random grid\n",
        "random_grid = {'n_estimators': n_estimators,\n",
        "               #'loss': loss,\n",
        "               'max_depth': max_depth,\n",
        "               'min_samples_split': min_samples_split,\n",
        "               'min_samples_leaf': min_samples_leaf}\n",
        "               #'learning_rate': learning_rate}\n",
        "               #'bootstrap': bootstrap}\n",
        "\n",
        "kfold = StratifiedKFold(n_splits=3, shuffle=True, random_state=7)\n",
        "Y = encoded_Y\n",
        "scores = []\n",
        "model = []\n",
        "best_params = []\n",
        "X = df\n",
        "for train_index, test_index in kfold.split(X, Y):\n",
        "    #convert integers to dummy variables (i.e. one hot encoded)\n",
        "    #dummy_y = np_utils.to_categorical(Y)\n",
        "    X_train, y_train = X.iloc[train_index], Y[train_index]\n",
        "    X_test, y_test = X.iloc[test_index], Y[test_index]\n",
        "    X_train_oversampled, y_train_oversampled = SMOTE(k_neighbors=1).fit_sample(X_train, y_train)\n",
        "    hrfclf = ExtraTreesClassifier()\n",
        "    rf_random = RandomizedSearchCV(estimator = hrfclf, param_distributions = random_grid, n_iter = 100, cv = 3, verbose=2, random_state=42, n_jobs = -1)\n",
        "    rf_random.fit(X_train_oversampled, y_train_oversampled)\n",
        "    model.append(rf_random.best_estimator_)\n",
        "    best_params.append(rf_random.best_params_)\n",
        "    y_pred = rf_random.best_estimator_.predict(X_test)\n",
        "    #print(confusion_matrix(y_test,y_pred))\n",
        "    #print(classification_report(y_test,y_pred))\n",
        "    print(accuracy_score(y_test, y_pred))\n",
        "    scores.append(accuracy_score(y_test, y_pred))\n",
        "\n",
        "\n",
        "# Fit the random search model\n",
        "#rf_random.fit(X_resampled, y_resampled)"
      ],
      "execution_count": 0,
      "outputs": []
    },
    {
      "cell_type": "code",
      "metadata": {
        "id": "VeWYLSyoHe0B",
        "colab_type": "code",
        "colab": {}
      },
      "source": [
        "best_params"
      ],
      "execution_count": 0,
      "outputs": []
    },
    {
      "cell_type": "code",
      "metadata": {
        "id": "tH3TNQD0Hvt0",
        "colab_type": "code",
        "colab": {}
      },
      "source": [
        "y_pred = rf_random.best_estimator_.predict(X_test)\n",
        "print(accuracy_score(y_test, y_pred))"
      ],
      "execution_count": 0,
      "outputs": []
    },
    {
      "cell_type": "code",
      "metadata": {
        "id": "l-2p_e_F_Pnd",
        "colab_type": "code",
        "colab": {}
      },
      "source": [
        "# RFC w/ tunned HP\n",
        "rfclf = RandomForestClassifier(bootstrap='True', max_depth=20, max_features='sqrt', n_estimators=900, random_state=0)\n",
        "rfclf.fit(X_resampled, y_resampled)\n",
        "pred= rfclf.predict(X_test)\n",
        "accuracy_score(pred, y_test)"
      ],
      "execution_count": 0,
      "outputs": []
    },
    {
      "cell_type": "code",
      "metadata": {
        "id": "0HB3cf2La26x",
        "colab_type": "code",
        "colab": {}
      },
      "source": [
        "glove_100_link = 'https://drive.google.com/open?id=1hW4DhKFWJJPNIEI3GelC1WLzEqU-lrub'\n",
        "\n",
        "glove_50_link = 'https://drive.google.com/open?id=10MW2F53DYYxizSXLbvfsphs77Fu1U9Gz'\n",
        "\n",
        "skip_text_link = 'https://drive.google.com/open?id=1WXpYIhDI8Hhne3cOZUQshScjwsWO2wRR'\n",
        "\n",
        "cbow_link = 'https://drive.google.com/open?id=1o6bO6QDAOFd_bASWuZHfbBlk8OBNA0uQ'\n",
        "\n",
        "def load_file(link, filename):\n",
        "  # Download gloVe word embedding for portuguese-BR (100-dimensions)\n",
        "  auth.authenticate_user()\n",
        "  gauth = GoogleAuth()\n",
        "  gauth.credentials = GoogleCredentials.get_application_default()\n",
        "  drive = GoogleDrive(gauth)\n",
        "  fluff, id = link.split('=')\n",
        "  downloaded = drive.CreateFile({'id':id})\n",
        "  downloaded.GetContentFile(filename)\n",
        "\n",
        "def build_embedding_dict(filename):\n",
        "  embd_dict = {}\n",
        "  with open(filename, 'r', encoding='utf-8') as f:\n",
        "    for line in f:\n",
        "      word, coefs = line.split(maxsplit=1)\n",
        "      coefs = np.fromstring(coefs, 'f', sep=' ')\n",
        "      embd_dict[word] = coefs\n",
        "  return embd_dict\n",
        "  "
      ],
      "execution_count": 0,
      "outputs": []
    },
    {
      "cell_type": "code",
      "metadata": {
        "id": "3DK4tokfAYo3",
        "colab_type": "code",
        "colab": {}
      },
      "source": [
        "# Download and load embeddins sinto a dictionaries (eg: {'oi' : n1, n2, ..., n100})\n",
        "\n",
        "load_file(glove_100_link, 'glove_100.txt')\n",
        "load_file(glove_50_link, 'glove_50.txt')\n",
        "load_file(cbow_link, 'cbow_50.txt')\n",
        "load_file(skip_text_link, 'skipgram_50.txt')\n",
        "\n",
        "word_embedding_dict_50 = build_embedding_dict('glove_50.txt')\n",
        "word_embedding_dict_100 = build_embedding_dict('glove_100.txt')\n",
        "word_embedding_cbow_50 = build_embedding_dict('cbow_50.txt')\n",
        "word_embedding_skipgram_50 = build_embedding_dict('skipgram_50.txt')"
      ],
      "execution_count": 0,
      "outputs": []
    },
    {
      "cell_type": "code",
      "metadata": {
        "id": "abWAExN5hmuy",
        "colab_type": "code",
        "outputId": "c101fc11-82c3-4fdb-f120-46edcd712b78",
        "colab": {
          "base_uri": "https://localhost:8080/",
          "height": 88
        }
      },
      "source": [
        "corpus = raw_df['Text']\n",
        "\n",
        "# Create a Keras tokenizer and convert words to integer values\n",
        "tokenizer = Tokenizer(num_words=20000)\n",
        "tokenizer.fit_on_texts(corpus)\n",
        "\n",
        "# Convert strings to their corresponding integer value created by the Tokenizer\n",
        "embedded_sentences = tokenizer.texts_to_sequences(corpus)\n",
        "print(embedded_sentences)"
      ],
      "execution_count": 12,
      "outputs": [
        {
          "output_type": "stream",
          "text": [
            "[nltk_data] Downloading package punkt to /root/nltk_data...\n",
            "[nltk_data]   Package punkt is already up-to-date!\n",
            "[[758, 203, 759, 2664, 2665, 1117, 510, 2666, 902, 2667, 1402, 2668, 222, 190, 13, 141, 1118, 366, 2669, 223, 224, 110, 2670, 574, 2671, 1830, 279, 222, 1403, 168, 511, 512, 1119, 575, 5, 38, 1831, 576, 2672, 1832, 903, 2673, 512, 2674, 169, 204, 575, 38, 1831, 190, 8, 576, 2675, 513, 169, 2676, 1118, 124, 2677, 903, 760, 1120, 168, 225, 1833, 1120, 575, 5, 179, 13, 2678, 1834, 1835, 367, 170, 406, 2679, 1121, 1404, 2680, 903, 2681, 904, 169, 204, 223, 1122, 512, 761, 38, 2682, 236, 171, 205, 2683, 514, 1405, 1836, 11, 45, 2684, 654, 1830, 574, 905, 762, 2685, 222, 237, 2686, 1123, 222, 11, 1837, 1406, 238, 280, 2687, 906, 10, 2688, 124, 1122, 238, 170, 512, 2689, 1838, 1405, 1404, 655, 111, 512, 1122, 1838, 1405, 2690, 13, 45, 1117, 907, 1834, 1835, 2691, 577, 903, 2692, 2693, 574, 223, 908, 1121, 1122, 2694, 13, 1837, 909, 124, 905, 237, 205, 2695, 656, 2696, 1836, 13, 46, 168, 512, 2697, 2698, 45, 2699, 1117, 578, 2700, 172, 180, 574, 2701, 577, 171, 1839, 407, 1840, 2702, 1124, 1123, 222, 1403, 90, 2703, 84, 342, 125, 2704, 172], [91, 316, 2705, 12, 39, 1841, 657, 40, 763, 40, 2706, 5, 763, 258, 368, 12, 92, 1407, 1842, 515, 576, 134, 316, 1843, 1844, 259, 12, 2707, 135, 31, 110, 2708, 142, 237, 110, 369, 408, 764, 2709, 226, 281, 658, 1125, 343, 259, 12, 1845, 92, 2710, 282, 260, 654, 1408, 317, 1409, 39, 104, 764, 910, 76, 168, 2711, 2712, 2713, 2714, 1410, 1125, 236, 366, 1846, 370, 281, 658, 2715, 50, 765, 2716, 226, 283, 1126, 1411, 658, 110, 191, 168, 32, 911, 159, 110, 912, 1127, 1128, 579, 2717, 50, 1412, 40, 2718, 659, 766, 1847, 110, 912, 51, 173, 236, 239, 206, 912, 2719, 366, 2720, 1413, 516, 159, 1129, 39, 317, 236, 1848, 31, 1413, 76, 174, 281, 658, 1125, 371, 913, 372, 2721, 660, 1414, 52, 13, 1849, 124, 2722, 4, 2723, 259, 12, 317, 284, 2724, 92, 767, 236, 906, 759, 2725, 316, 261, 281, 1850, 2726, 2727, 190, 22, 2728, 61, 2729, 2730, 2731, 226, 285, 373, 110, 1851, 1130, 69, 661, 662, 1850, 2732, 92, 767], [580, 581, 262, 10, 1415, 41, 2733, 2734, 409, 10, 63, 2735, 318, 577, 914, 1852, 63, 2736, 410, 181, 2737, 408, 2738, 77, 575, 5, 1131, 768, 11, 13], [101, 31, 319, 663, 286, 105, 915, 320, 11, 13, 916, 460, 258, 2739, 136, 4, 37, 7, 143, 160, 2, 517, 769, 24, 916, 287, 411, 31, 110, 1853, 205, 917, 16, 412, 85, 1132, 373, 321, 12, 258, 16, 287, 1416, 344, 2740, 461, 518, 126, 664, 1854, 1417, 112, 461, 1855, 770, 175, 582, 2741, 53, 38, 1418, 12, 665, 1856, 2742, 2743, 583, 154, 1133, 2744, 106, 320, 1134, 13, 86, 279, 374, 2745, 519, 462, 70, 413, 3, 143, 2, 517, 24, 1857, 771, 2746, 70, 463, 104, 916, 918, 919, 584, 12, 102, 84, 285, 345, 919, 584, 22, 5, 1858, 33, 61, 2747, 84, 285, 2748, 1859, 2749, 2750, 414, 12, 1860, 2751, 240, 2752, 225, 12, 2753, 2754, 772, 32, 61, 579, 1861, 1135, 2755, 174, 1862, 2756, 207, 1419, 28, 375, 1863, 773, 464, 2757, 920, 666, 159, 12, 1855, 667, 774, 585, 1864, 322, 921, 1420, 1865, 1136, 282, 415, 61, 126, 579, 1866, 1421, 33, 22, 1867, 127, 78, 53, 586, 465, 922, 775, 587, 2758, 916, 466, 588, 376, 12, 227, 228, 241, 93, 64, 583, 2759, 238, 94, 1868, 2760, 2761, 665, 654, 38, 95, 2762, 916, 2763, 288, 112, 668, 92, 2764, 12, 2765, 2766, 288, 2767, 288, 2768, 2769, 923, 583, 92, 2770, 141, 2, 2771, 924, 1869, 2772, 71, 664, 415, 1870, 107, 13, 1422, 237, 107, 236, 925, 1865, 227, 368, 2773, 926, 2774, 1423, 263, 416, 2775], [22, 3, 662, 52, 1871, 669, 258, 670, 110, 1872, 1424, 1873, 40, 346, 203, 345, 264, 279, 374, 28, 137, 1874, 3, 113, 520, 517, 203, 2776, 287, 2777, 283, 417, 28, 2778, 135, 2779, 203, 2780, 776, 128, 1425, 168, 2781, 2782, 78, 93, 22, 1137, 192, 671, 27, 203, 70, 1426, 2783, 78, 107, 584, 463, 589, 590, 467, 19], [207, 137, 347, 3, 521, 777, 94, 204, 2784, 418, 672, 419, 2785, 2786, 1875, 1427, 373, 375, 927, 521, 777, 94, 416, 2787, 12, 665, 52, 522, 2788, 778, 2789, 2790, 1138, 2791, 155, 348, 1876, 25, 2792, 318, 2793, 510, 468, 2794, 521, 208, 323, 96, 2, 20, 170, 406, 661, 662, 2795, 2796, 928, 2797, 137, 69, 469, 1877, 2798, 2799, 1428, 1878, 129, 2800, 96, 418, 1429, 589, 420, 76, 1428, 591, 2801, 1139, 1876, 25, 779, 1140, 2802, 2803, 2804, 155, 46, 242, 2805, 3, 125, 510, 468, 673, 171, 376, 96, 1141, 3, 592, 204, 2806, 2807, 2808, 2809, 2810], [510, 468, 521, 18, 2811, 78, 1430, 96, 1142, 265, 470, 780, 421, 1429, 7, 523, 929, 674, 70, 114, 521, 209, 70, 761, 2812, 12, 471, 94, 77, 2813, 1143, 1144, 71, 2814, 324, 1879, 521, 772, 2815, 50, 1880, 225, 12, 2816, 761, 2817, 243, 289, 56, 781, 1431, 42, 1881, 12, 472, 31, 63, 1841, 325, 2818, 1882, 1432, 930, 2819, 2820, 422, 127, 1883, 1884, 16, 2821, 170, 2822, 423, 96, 593, 675, 2823, 2824, 210, 676, 325, 92, 326, 1867, 473, 1885, 521, 1433, 1886], [262, 2825, 91, 1887, 204, 1887, 204, 138, 2826, 96, 53, 2827, 2828, 96, 2829, 53, 13, 204, 2830, 1434, 677, 50, 2831, 180, 13, 50, 594, 104, 2832, 782, 94, 74, 524, 1145, 931, 327, 678, 76, 1888, 582, 2833, 762, 932, 136, 783, 1435, 174, 2834, 76, 1889, 2835, 766, 933, 1890, 2836, 2837, 2838, 778, 2839, 32, 525, 1891, 1892, 1436, 137, 666, 1893, 22, 5, 1146, 1437, 934, 1147, 1148, 1894, 420, 71, 470, 1895, 290, 2840, 1149, 577, 2841, 1147, 262, 2842, 2843, 56, 192, 2844, 159, 463, 182, 2845, 291, 935, 115, 1150, 116, 595, 203, 48, 759, 292, 159, 12, 664, 1840, 1126, 84, 2846, 1142, 1896, 1897, 424, 95, 2847, 8, 1438, 182, 159, 463, 1898, 3, 1899, 103, 936, 183, 2848, 70, 2849, 1900], [69, 182, 2850, 474, 2851, 370, 596, 69, 182, 57, 597, 1151, 2852, 65, 526, 328, 1152, 79, 139, 527, 528, 377, 86, 587, 937, 1871, 1901, 182, 91, 90, 192, 161, 1902, 43, 1133, 596, 375, 192, 1903, 120, 2853, 97, 2854, 1439, 1904, 238, 280, 375, 2855, 1440, 1877, 203, 2856, 375, 524, 320, 529, 774, 11, 50, 784, 1905, 2857, 785, 2858, 375, 1906, 378, 2859, 530, 2860, 938, 1907, 1441, 9, 939, 2861, 1442, 1908, 375, 940, 5, 2862, 1909, 1910, 1443, 293, 2863, 2864, 375, 786, 2865, 2866, 1444, 2867, 207, 1153, 375, 2868, 2869, 524, 1153, 1893, 1147, 329, 1154, 375, 193, 1911, 2870, 2871, 1147, 2872, 2873, 343, 3, 85, 2874, 1155, 2875, 375, 1912, 773, 2876, 52, 134, 941, 1156, 425, 679, 371, 422, 2877, 229, 84, 120, 1913, 2878, 2879, 2880, 1157, 2881, 52, 580, 1158, 593, 595, 368, 1914, 1158, 2882, 93, 2883, 1913, 942, 2884, 1159, 1160, 1915, 2885, 2886, 1161, 1914, 1158, 2887, 761, 2888, 2889, 117, 330, 12, 1162, 78, 475, 174, 120, 1157, 418, 2890, 70, 2891, 2892, 418, 1916, 2893, 331, 2894, 2895, 2896, 2897, 787, 2898, 2899, 2900, 2901, 2902, 2903, 2904, 2905, 2906, 2907, 2908, 2909, 943, 62, 2910, 531, 2911, 2912, 349, 18, 204, 1917, 680, 680, 2913, 2914, 476, 2915, 2916, 1136, 1918], [67, 293, 1919, 259, 944, 64, 1434, 2917, 2918, 1920, 25, 1435, 1445, 1919, 45, 598, 45, 67, 324, 280, 244, 760, 1920, 1921, 25, 280, 2919, 266, 2920, 238, 1163, 599, 1922, 2921, 46, 168, 244, 788, 906, 222, 426, 1163, 32, 906, 789, 84, 1446, 790, 140, 48, 51, 71, 477, 2922, 244, 760, 286, 144, 280, 176, 130, 162, 121, 332, 2923, 116, 2924, 145, 1447, 791, 2, 27, 792, 23, 145, 945, 350, 45, 289, 478, 2925, 1923, 2926, 681, 25, 48, 946, 379, 194, 23, 380, 97, 793, 80, 2927], [154, 107, 333, 905, 600, 117, 107, 161, 601, 245, 161, 131, 267, 23, 17, 16, 2928, 421, 163, 268, 794, 1448, 211, 22, 351, 2929, 184, 16, 294, 5, 163, 40, 17, 2930, 794, 67, 532, 1164, 136, 96, 1, 1165, 533, 381, 191, 1924, 1120, 1166, 113, 61, 131, 2931, 295, 36, 269, 236, 161, 85, 1925, 195, 67, 947, 3, 758, 1926, 105, 39, 96, 2, 176, 795, 333, 116, 96, 948, 135, 116, 319, 465, 319, 292, 427, 45, 796, 117, 2932, 381], [21, 2933, 39, 2934, 428, 1927, 2935, 2936, 124, 209, 289, 16, 26, 29, 682, 4, 2937, 1928, 240, 379, 130, 162, 103, 67, 683, 429, 2, 1899, 63, 382, 412, 49, 684, 684, 107, 423, 2938, 659, 793, 49, 171, 112, 949, 945, 350, 190, 230, 64, 103, 176, 797, 682, 49, 602, 225, 2939, 180, 3, 143, 603, 185, 105, 915, 106, 209, 74, 34, 49, 2940, 112, 351, 1449, 2941, 414, 246, 62, 103, 186, 685, 430, 798, 156, 2942, 294, 54, 103, 23, 17, 382, 1167, 1929, 32, 49, 1168, 23, 17, 479, 604, 1156, 80, 132, 1930, 54, 54, 663, 5, 1450, 950, 80, 4, 533, 9, 134, 21, 93, 81, 46, 8, 63, 1450, 383, 296, 2943], [91, 177, 24, 101, 605, 90, 534, 146, 379, 480, 164, 26, 1424, 1169, 2944, 334, 15, 327, 98, 1931, 177, 1170, 99, 2945, 82, 1165, 384, 15, 431, 2946, 1139, 1932, 2947, 93, 26, 2948, 212, 385, 464, 352, 1933, 1171, 2949, 111, 4, 606, 799, 1451, 2950, 4, 1172, 164, 266, 5, 2951, 240, 432, 77, 243, 1934, 686, 81, 2952, 1935, 918, 75, 31, 270, 335, 121, 1936, 1173, 107, 2953, 15, 1452, 244, 2954, 686, 607, 2955, 2956, 353, 2957, 1453, 80, 608, 1454, 126, 386, 82, 687, 933, 2958, 1173, 196, 369, 15, 609, 2959, 293, 82, 1455, 50, 688, 1173, 2960, 1932, 2961, 2962, 15, 6, 104, 689, 481, 147, 19, 524, 37, 85, 800, 801, 147, 2963, 2964, 2965, 2966, 2967, 94, 19, 2968, 3, 690, 2969, 465, 2970, 802, 2971, 430, 2972, 297, 2973, 2974, 297, 2975, 599, 758, 1456, 1151, 2976, 803, 2977, 3, 2978, 68, 271, 2979, 2980, 114, 90, 2981, 2982, 2983, 2984, 2985, 333, 2986, 243, 532, 1937, 2987, 52, 2988, 2989, 2990, 17, 333, 2991, 2992, 1938, 1939, 280, 1174, 2993, 433, 134, 804, 272, 1872, 2994, 82, 2995, 2996, 535, 43, 208, 108, 103, 2997, 1457, 13, 536, 1458, 2998, 2999, 482, 482, 3000, 40, 1459, 20, 162, 386, 82, 1940, 187, 298, 3001, 3002, 805, 148, 1129, 40, 131, 1460, 795, 4, 3003, 135, 3004, 49, 1175, 691, 3005, 3006, 3007, 36, 186, 3008, 156, 3009, 951, 3010, 537, 181, 692, 162, 806, 244, 788, 127, 1898, 1461, 3011, 58, 31, 63, 3012, 1941, 66, 165, 1942, 74, 3013, 4, 267, 147, 408, 538, 26, 807, 952, 381, 1943, 3014, 106, 299, 21, 3015, 46, 130, 29, 3, 1462, 53, 15, 1944, 610, 461, 607, 431, 95, 3016, 3017, 1945, 36, 269, 244, 245, 808, 1946, 3018, 9, 184, 809, 693, 103, 66, 165, 3019, 1176, 1947, 40, 1140, 1177, 953, 3020, 954, 298, 3021, 1178, 149, 40, 122, 154, 5, 3022, 23, 3023, 22, 3024, 26, 291, 596, 72, 381, 114, 1179, 39, 67, 108, 1463, 1948, 33, 16, 1464, 92, 122, 955, 1465, 483, 174, 347, 144, 67, 176, 67, 176, 131, 144, 2, 1949, 3025, 247, 3026, 1466, 956, 810, 243, 279, 3, 3027, 87, 957, 1180, 80, 135, 3028, 611, 55, 1168, 1467, 51, 1468, 958, 55, 99, 1950, 67, 22, 5, 3029, 7, 1469, 96, 2, 67, 3030, 466, 44, 42, 3031, 1426, 944, 176, 343, 959, 539, 519, 24, 540, 32, 147, 42, 3032, 3033, 115, 80, 300], [57, 1, 8, 342, 612, 907, 1470, 123, 811, 537, 354, 541, 261, 260, 280, 130, 124, 1951, 206, 8, 684, 107, 279, 195, 3034, 84, 3035, 3036, 387, 812, 1952, 51, 613, 3037, 229, 57, 3038, 1181, 188, 3039, 3040, 588, 3041, 3042, 71, 1953, 1471, 1954, 3043, 3044, 600, 3045, 318, 3046, 3047, 673, 171, 1955, 2, 382, 1956, 328, 960, 213, 10, 30, 16, 229, 84, 279, 7, 3048, 541, 66, 186, 3049, 961, 161, 296, 2, 27, 3050, 81, 214, 101, 3051, 682, 1472, 3052, 246, 539, 412, 18, 542, 4, 286, 105, 915, 106, 3053, 206, 592, 913, 420, 64, 1957, 9, 30, 273, 63, 3054, 1473, 80, 1474, 15, 352, 1171, 3055, 3056, 42, 3057, 11, 1182, 131, 1475, 813, 434, 56, 3058, 21, 55, 1958, 1, 115, 1183, 1420, 430, 435, 962, 196, 293, 4, 1458, 1959, 229, 57, 484, 136, 145, 1184, 227, 436, 141, 15, 485, 94, 123, 21, 1185, 388, 3059, 1960, 543, 41, 247, 1476, 3060, 298, 1961, 19, 7, 16, 3061, 1186, 15, 8, 6, 671, 273, 9, 27, 1477, 3, 143, 248, 692, 162, 63, 486, 3062, 544, 614, 771, 142, 437, 274, 3063, 80, 389, 1187, 1478, 195, 786, 68, 1479, 1188, 28, 137, 74, 1479, 1480, 3064, 106, 65, 249, 1962, 1481, 3, 672, 1189, 103, 20, 274, 3065, 3, 1190, 3066, 438, 56, 112, 113, 1482, 86, 21, 20, 513, 694, 695, 410, 3067, 66, 1181, 301, 685, 1963, 301, 3068, 117, 3069, 1483, 696, 697, 291, 117, 1126, 94, 3070, 963, 415, 136, 118, 7, 1191, 812, 682, 1857, 50, 322, 40, 298, 964, 108, 19, 180, 3, 143, 248, 355, 3071, 1964, 3072, 3073, 663, 682, 1484, 27, 35, 438, 56, 3074, 108, 36, 3075, 97, 18, 27, 273, 784, 1965, 16, 24, 30, 1966, 422, 1485, 965, 7, 16, 228, 1450, 950, 21, 3076, 1967, 86, 3077, 3078, 63, 248, 355, 610, 3079, 3080, 385, 1486, 472, 966, 814, 132, 275, 59, 3081, 32, 21, 1474, 9, 138, 681, 30, 10, 318, 1477, 3, 143, 197, 148, 63, 1192, 4, 1968, 1969, 380, 3082, 3083, 967, 1193, 8, 6, 486, 38, 968, 1194, 815, 1195, 439, 7, 3084, 969, 15, 1970, 1971, 38, 1196, 3085, 615, 1972, 1155, 440, 390, 525, 816, 276, 3086, 1487, 9, 283, 214, 441, 302, 1973, 32, 86, 20, 21, 228, 265, 1197, 1411, 123, 74, 442, 16, 105, 697, 5, 1974, 817, 3087, 484, 38, 2, 3088, 175, 33, 5, 1975, 4, 1969, 53, 197, 156, 517, 36, 1474, 15, 95, 355, 1976, 3089, 186, 263, 1198, 15, 604, 3090, 1488, 25, 103, 186, 3091, 128, 24, 15, 139, 1199, 166, 1489, 93, 3092, 86, 63, 413, 1490, 960, 74, 273, 1491, 21], [303, 60, 48, 17, 24, 1492, 67, 24, 336, 429, 277, 1493, 67, 48, 789, 427, 60, 970, 223, 3093, 3094, 3095, 3096, 3097, 3098, 303, 194, 970, 223, 345, 17, 698, 1977, 764, 205, 3099, 31, 231, 616, 1200, 17, 24, 3100, 44, 1201, 3101, 333, 1200, 223, 3102, 3103, 3104, 971, 391, 2, 114, 487, 1494, 322, 206, 1201, 198, 3105, 3106, 3107, 209, 223, 1187, 3108, 392, 58, 3109, 42, 789, 3110, 94, 3111, 3112, 287, 195, 286, 1978, 223, 606, 3113, 1979, 109, 199, 3114, 143, 3115, 1979, 286, 12, 209, 223, 92, 5, 3116, 282, 1402, 198, 3117, 1495, 3118, 1402, 3119, 42, 427], [3120, 262, 1496, 1433, 3121, 3122, 463, 1419, 931, 1980, 1981, 1982, 1983, 3123, 665, 1202, 510, 468, 478, 1419, 617, 1202, 510, 468, 3124, 972, 70, 478, 3125, 3126, 3127, 3128, 1201, 699, 3129, 577, 1497, 586, 3130, 102, 91, 617, 545, 3131, 124, 110, 1982, 1983, 1202, 129, 3132, 289, 3133, 3134, 3135, 3136, 3137, 71, 135, 32, 277, 443, 114, 40, 25, 3138, 1980, 1981, 111, 4, 700, 1984, 488, 1202, 46, 98, 207, 3139, 818, 1984, 488, 96, 3140, 85, 3141, 576, 1985, 3142, 12, 3143, 92, 444, 142, 1203, 3144, 85, 284, 3145, 142, 4, 3146, 96, 64, 93, 3147, 24, 14, 203, 759, 445, 3148, 1204, 1498, 1205, 3149, 3150, 1499, 157, 3151, 574, 348, 546, 1986, 445, 617, 432, 1138, 348, 546, 1986, 91, 1987, 215, 1206, 1988, 1989, 3152, 104, 1990, 215, 1206, 1988, 1989, 91, 63, 3153, 445, 293, 102, 3154, 701, 973, 1139, 1204, 1139, 618, 1207, 1146, 585, 618, 31, 3155, 1500, 1498, 1205, 974, 1987, 215, 1206, 71, 585, 618, 974, 1990, 215, 1206, 232, 445, 3156, 520, 9, 574, 1991, 348, 546, 263, 3157, 432, 1138, 236, 8, 1167, 40, 974, 222, 3158, 445, 91, 117, 1167, 974, 222, 3159, 3160, 471, 520, 574, 618, 1992, 51, 173, 1501, 1502, 3161, 1993, 1994, 3162, 1503, 445, 104, 471, 1167, 40, 1503, 3163, 283, 520, 9, 574, 3164, 471, 1501, 1502, 3165, 1993, 1994, 168, 819, 210, 1995, 232, 445, 1204, 1498, 1205, 149, 1425, 271, 1500, 208, 445, 283, 31, 1500, 3166, 3, 13, 263, 3167, 102, 1504, 3168, 40, 149, 3169, 140, 102, 1996, 1504, 1505, 3170, 1163, 3171, 1204, 974, 579, 3172, 73, 975, 393, 248, 210, 512, 1119, 1997, 283, 443, 3173, 3174, 3175, 261, 263, 13, 135, 169, 283, 1119, 1503, 445, 1481, 906, 263, 137, 1995, 111, 4, 8, 512, 3176, 106, 546, 61, 1998, 13, 392, 262, 61, 1998, 270, 1999, 270, 13, 432, 1138, 1208, 263, 25, 408, 2000, 547, 223, 13, 2001, 134, 3177, 3178, 2002, 424, 191, 2003, 1506, 283, 1507, 446, 39, 758, 13, 22, 5, 536, 3179, 469, 22, 5, 3180, 114, 1472, 3181, 1508, 1509, 2004, 406, 124, 239, 3182, 1510, 2005, 92, 1511, 436, 337, 931, 168, 223, 3183, 2006, 3184, 111, 4, 337, 1507, 3185, 1462, 3186, 238, 110, 3187, 45, 238, 1117, 3188, 2007, 236, 270, 282, 242, 489, 1508, 1209, 250, 3189, 3190, 1210, 3191, 46, 8, 976, 293, 2006, 1509, 387, 1507, 3192, 3193, 516, 169, 675, 33, 354, 5, 3194, 270, 2007, 7, 3195, 318, 8, 3196, 248, 130, 10, 783, 3197, 3198, 3199, 490, 512, 1119, 919, 406, 171, 77, 265, 547, 759, 3200, 248, 10, 909, 190, 394, 169, 204, 1211, 93, 88, 50, 110, 2008, 977, 3201, 11, 2009, 3202, 2003, 3203, 3204, 3205, 3206, 2010, 3207, 3208, 77, 668, 1212, 1499, 2011, 1212, 978, 2011, 3209, 1499, 586, 979, 3210, 979, 3211, 1512, 1212, 120, 3212, 3213, 1506], [14, 2012, 14, 83, 148, 115, 619, 91, 370, 3, 259, 12, 1213, 226, 227, 1410, 12, 316, 293, 4, 3214, 2013, 3215, 40, 464, 2014, 92, 446, 491, 702, 805, 2015, 931, 3216, 491, 16, 12, 22, 1121, 45, 12, 912, 1127, 784, 447, 258, 1513, 2016, 317, 284, 39, 7, 620, 251, 2017, 16, 703, 117, 316, 40, 592, 3217, 104, 2018, 233, 230, 228, 317, 284, 1170, 12, 1214, 1514, 1515, 1516, 40, 3218, 373, 110, 1517, 226, 805, 3219, 316, 40, 763, 16, 2019, 149, 373, 174, 1215, 1166, 259, 12, 1209, 962, 2020, 2021, 2022, 2023, 281, 281, 913, 1216, 658, 2024, 1216, 1518, 2025, 281, 281, 50, 31, 110, 577, 338, 226, 285, 16, 259, 12, 251, 767, 258, 244, 317, 2026, 205, 39, 951], [14, 2012, 14, 83, 148, 115, 91, 1410, 259, 12, 1213, 226, 285, 917, 511, 12, 271, 316, 293, 4, 3220, 2013, 3221, 40, 464, 2014, 92, 446, 2027, 702, 805, 2015, 931, 3222, 16, 12, 22, 1121, 45, 669, 12, 912, 1127, 784, 447, 258, 274, 2016, 317, 284, 39, 7, 620, 251, 767, 16, 703, 117, 316, 40, 592, 3223, 104, 2018, 233, 230, 228, 317, 284, 1170, 12, 1214, 1514, 491, 40, 2028, 373, 110, 917, 16, 1473, 226, 2029, 1407, 40, 763, 16, 2019, 149, 373, 174, 1215, 1166, 259, 12, 1209, 962, 2020, 2021, 2022, 2023, 281, 281, 913, 1216, 658, 2024, 1216, 1518, 2025, 281, 281, 50, 31, 110, 577, 338, 226, 285, 16, 259, 12, 251, 767, 258, 244, 317, 2026, 205, 39, 951], [83, 203, 933, 783, 619, 316, 8, 316, 22, 3, 3224, 110, 266, 224, 980, 765, 3225, 366, 46, 168, 1519, 1479, 2030, 117, 579, 40, 771, 588, 1847, 691, 416, 3226, 3227, 461, 263, 3228, 2031, 1404, 7, 1217, 461, 536, 1520, 8, 911, 293, 179, 376, 12, 1218, 317, 1460, 656, 765, 3229, 40, 3230, 3231, 3232, 8, 588, 9, 237, 45, 91, 704, 3, 765, 12, 3233, 780, 366, 1846, 34, 395, 317, 2032, 784, 224, 94, 702, 620, 765, 293, 3234, 528, 786, 1515, 237, 1188, 16, 436, 3235, 783, 104, 45, 539, 911, 3236, 1127, 1219, 175, 2033, 224, 980, 1413, 5, 579, 2034, 32, 124, 31, 3237, 2035, 149, 34, 31, 370, 226, 3238, 659, 16, 3239, 1157, 281, 1518, 818, 1521, 226, 3240, 226, 81, 347, 3, 52, 259, 12, 1845, 908, 3241, 1522, 317, 1460, 34, 168, 819, 110, 3242, 691, 237, 3243, 239, 179, 2033, 40, 225, 263, 282, 258, 784], [120, 14, 112, 168, 45, 316, 3244, 34, 124, 224, 110, 981, 668, 2036, 3245, 2036, 1523, 168, 3246, 252, 1524, 316, 1843, 34, 223, 12, 39, 2037, 657, 40, 621, 222, 1403, 1833, 226, 285, 45, 911, 281, 658, 1125, 343, 259, 12, 803, 205, 216, 1209, 657, 40, 908, 767, 59, 3247, 1849, 11, 126, 477, 284, 2005, 168, 1525, 1454, 95, 259, 12, 982, 2038, 237, 917, 2017, 3248, 3249, 1469, 226, 285, 61, 425, 373, 110, 3250, 120, 14, 45, 316, 223, 12, 39, 2037, 657, 40, 45, 911, 1469, 226, 285, 461, 588, 110, 248, 3251, 120, 128, 694, 317, 284, 3252, 31, 110, 259, 3253, 258, 143, 317, 205, 39, 951, 16, 316, 12, 226, 22, 291, 914, 174, 145, 39, 3254, 40, 528, 12, 373, 12, 3255, 1134, 258, 3256, 190, 1526, 279, 40, 3257, 588, 225, 12, 2039, 226, 285, 99, 3258, 1407, 40, 763], [3259, 43, 3260, 409, 10, 1527, 22, 5, 3261, 693, 983, 3262, 5, 140, 11, 13, 179, 409, 10, 101, 1528, 1897, 18, 1527, 32, 820, 4, 366, 204, 3263, 237, 3264, 705, 25, 33, 1529, 2040, 1220, 3265, 1530, 51, 173, 3266, 692, 410, 531, 10, 3267, 705, 25, 3268, 3269, 984, 50, 3270, 491, 182, 32, 200, 2041, 101, 7, 1221, 229, 1222, 327, 3271, 3272, 1223, 3273, 107, 3274, 3275, 966, 245, 18, 2042, 50, 3276, 3277, 621, 247, 761, 2043, 1531, 3278, 200, 589, 2044, 1185, 1844, 100, 229, 3279, 191, 1224, 1225, 985, 3280, 121, 581, 1222, 10, 65, 694, 3281, 622, 677, 1226, 3282, 3283, 986, 150, 3284, 3285, 3286, 52, 2045, 125, 766, 492, 520, 448, 3287, 73, 13, 3288, 178, 239, 135, 482, 3289, 3290, 3291, 1222, 3292, 200, 598, 84, 3293, 479, 3294, 338, 246, 304, 623, 18, 1532, 170, 20, 2046, 33, 3295, 3296, 3297, 417, 493, 137, 337, 410, 987, 260, 242, 181, 809, 11, 13, 1185, 802, 2047, 494, 3298, 677, 3299, 1533, 230, 1227, 2048, 821, 822, 676, 2047, 3300, 2049, 1534, 144, 233, 2050, 2051, 3301, 803, 1535, 3302, 1224, 1225, 985, 409, 3303, 3304, 1447, 946, 193, 387, 988, 3305, 135, 32, 1222, 823, 181, 367, 101, 989, 990, 581, 516, 991, 132, 90, 3306, 1536, 409, 10, 32, 200, 2041, 3307, 1228, 33, 241, 821, 2052, 18, 705, 25, 3308, 1470, 493, 3309, 1227, 3310, 936, 2053, 149, 992, 624, 705, 25, 3311, 3312, 705, 25, 46, 98, 2049, 1532, 986, 90, 151, 1453, 367, 3313, 2054, 3314, 3315, 3316, 3317, 3318, 232, 424, 3319, 33, 1915, 3320, 87, 181, 528, 112, 351, 993, 37, 327, 135, 3321, 87, 3322, 824, 3323, 528, 3324, 286, 62, 1922, 1537, 1532, 37, 1224, 1225, 985, 684, 1229, 133, 396, 239, 9, 3325, 3326, 3327, 217, 278, 3328, 994, 2044, 1220, 9, 825, 142, 73, 37, 106, 1953, 625, 122, 821, 3329, 422, 3330, 160, 820, 305, 253, 1198, 3331, 253, 1150, 239, 59, 1230, 537, 904, 218, 1231, 283, 938, 904, 3332, 1208, 1538, 3333, 2055, 133, 396, 239, 9, 2056, 626, 3334, 33, 132, 3335, 397, 11, 13, 46, 168, 293, 2057, 681, 826, 50, 3336, 163, 3337, 253, 687, 238, 239, 429, 271, 132, 33, 339, 149, 3338, 206, 231, 409, 10, 3339, 938, 200, 1232, 1539, 581, 197, 777, 681, 151, 1226, 101, 605, 11, 13, 3340, 274, 242, 821, 822, 2058, 3341, 3342, 16, 662, 2059, 1224, 1212, 252, 2060, 1225, 252, 252, 449, 10, 2061, 137, 706, 387, 132, 627, 207, 2062, 2063, 2064, 985, 3343, 995, 2065, 1540, 3344, 1541, 1542, 306, 3345, 3346, 3347, 306, 2063, 2064, 3348, 1542, 1538, 14, 2066, 783, 1543, 1544, 155, 2055, 232, 133, 396, 239, 9, 14, 3349, 270, 2067, 3350, 995, 2065, 1540, 1538, 3351, 1541, 3352, 2068, 2067, 1542, 707, 995, 942, 3353, 3354], [409, 10, 409, 10, 181, 424, 3355, 41, 200, 338, 246, 3356, 141, 2069, 1228, 59, 246, 704, 62, 1545, 708, 428, 1866, 778, 778, 274, 2070, 1217, 409, 181, 62, 2071, 246, 935, 141, 2069, 1228, 246, 3357, 62, 11, 1501, 953, 2072, 3358, 154, 95, 380, 3359, 1188, 16, 822, 655, 3360, 3361, 813, 3362, 688, 770, 953, 3363, 5, 624, 326, 246, 141, 95, 101, 1213, 62, 782, 1546, 3364, 1547, 1233, 709, 580, 200, 246, 3365, 710, 2071, 1527, 154, 424, 41, 823, 3366, 41, 3367, 41, 3368, 3369, 62, 3370, 2073, 206, 3371, 304], [133, 398, 1548, 9, 399, 1234, 548, 396, 1, 10, 827, 591, 996, 133, 495, 828, 1235, 367, 133, 549, 133, 398, 829, 1549, 711, 1, 10, 337, 410, 523, 78, 1236, 1, 10, 3372, 711, 829, 133, 398, 1, 10, 29, 5, 1192, 2050, 450, 35, 400, 8, 1550, 29, 5, 3373, 3374, 390, 1, 10, 1195, 3375, 225, 3376, 3377, 3378, 4, 1237, 910, 830, 1551, 88, 1543, 1544, 2074, 1238, 99, 450, 115, 137, 1164, 997, 253, 9, 140, 279, 87, 272, 418, 40, 25, 133, 495, 2075, 1200, 1497, 217, 155, 2076, 2077, 696, 998, 696, 333, 217, 999, 1519, 831, 75, 2078, 102, 133, 84, 71, 2079, 3, 2080, 628, 2081, 2082, 45, 625, 1239, 2083, 3, 821, 1240, 1526, 217, 9, 2084, 831, 491, 68, 2085, 415, 318, 270, 575, 1231, 3379, 832, 102, 133, 2086, 113, 1241, 387, 530, 9, 448, 513, 1000, 1552, 278, 2087, 1242, 11, 13, 140, 307, 1242, 11, 13, 140, 712, 40, 25, 780, 1001, 1180, 464, 2088, 547, 711, 133, 495, 1553, 3380, 549, 3381, 1164, 396, 1, 10, 50, 3382, 548, 396, 1, 10, 827, 3383, 713, 307, 2089, 1, 10, 29, 5, 1944, 3384, 1950, 1002, 833, 1243, 834, 816, 3385, 549, 1554, 835, 3386, 188, 2058, 1244, 249, 550, 3387, 537, 1555, 106, 352, 420, 345, 116, 3388, 3389, 1245, 3390, 3391, 3392, 3393, 1240, 823, 3394, 3395, 5, 1556, 329, 1246, 2090, 29, 250, 3396, 237, 2090, 703, 113, 587, 450, 3397, 85, 422, 219, 1003, 2091, 111, 220, 587, 9, 3398, 29, 1557, 387, 271, 1, 538, 387, 3399, 1935, 58, 353, 82, 289, 150, 162, 21, 3400, 401, 548, 410, 1, 10], [133, 398, 927, 1236, 2092, 1, 10, 3401, 3402, 495, 1247, 549, 1004, 78, 129, 3403, 495, 1247, 549, 1004, 1238, 986, 1558, 11, 13, 250, 340, 1559, 13, 1516, 3404, 28, 3405, 13, 2, 551, 1560, 3406, 89, 144, 4, 1449, 115, 2093, 1561, 2046, 2094, 3407, 227, 228, 2095, 714, 220, 1562, 1248, 398, 1249, 836, 133, 398, 1005, 306, 91, 305, 97, 1520, 53, 2096, 552, 30, 451, 488, 104, 460, 225, 378, 539, 2097, 42, 98, 496, 268, 3408, 551, 1006, 3409, 3410, 11, 13, 174, 1250, 66, 119, 3411, 124, 21, 959, 11, 13, 135, 398, 714, 220, 3412, 10, 597, 2096, 552, 30, 451, 488, 63, 18, 490, 3413, 2072, 95, 1251, 203, 95, 3414, 3415, 155, 1007, 398, 1477, 369, 372, 1512, 586, 3416, 3417, 1940, 451, 158, 11, 13, 1005, 1472, 3418, 1008, 372, 1130, 53, 935, 1252, 1, 10, 1173, 50, 1253, 1, 10, 106, 419, 72, 141, 81, 356, 1140, 1, 933, 335, 3419, 902, 402, 489, 1210, 11, 13], [910, 830, 1551, 88, 1543, 1544, 2074, 1238, 99, 450, 115, 137, 1164, 997, 253, 9, 140, 279, 87, 272, 418, 40, 25, 133, 495, 2075, 1200, 1497, 217, 155, 2076, 2077, 696, 998, 696, 333, 217, 999, 1519, 831, 75, 2078, 102, 133, 84, 71, 2079, 3, 2080, 628, 2081, 2082, 45, 625, 1239, 2083, 3, 821, 1240, 1526, 217, 9, 2084, 831, 491, 68, 2085, 415, 318, 270, 575, 1231, 1251, 138, 3420, 368, 715, 3421, 832, 102, 133, 2086, 113, 1241, 387, 530, 9, 448, 513, 1000, 1552, 278, 2087, 1242, 11, 13, 140, 307, 1242, 11, 13, 140, 712, 40, 25, 780, 1001, 1180, 464, 2088], [3422, 1228, 170, 1211, 93, 31, 63, 308, 3423, 3424, 837, 1, 164, 1254, 539, 3425, 3426, 378, 1563, 136, 119, 402, 1210, 73, 37, 46, 98, 590, 2098, 1, 10, 1211, 31, 63, 357, 2099, 3427, 124, 339, 3, 129, 1009, 305, 9, 825, 347, 3, 265, 1, 10, 2100, 1255, 1473, 1175, 1415, 1558, 1564, 33, 620, 497, 357, 383, 44, 1256, 137, 29, 195, 2101, 515, 1465, 9, 24, 30, 3428, 69, 62, 433, 826, 1211, 498, 387, 622, 93, 1003, 309, 582, 9, 3429, 1565, 1175, 1564, 804, 3430, 3431, 1955, 838, 680, 11, 13, 1854, 986, 31, 63, 1010, 358, 192, 2102, 109, 2103], [1, 10, 402, 51, 1257, 26, 527, 1258, 8, 1550, 29, 351, 2104, 28, 2105, 26, 135, 3432, 28, 2106, 289, 629, 300, 132, 1259, 3433, 132, 156, 2107, 1, 10, 3434, 3435, 3436, 3437, 3438, 3439, 3440, 46, 132, 430, 3441, 52, 3442, 156, 238, 289, 50, 3443, 31, 3444, 324, 3445, 2108, 11, 50, 3446, 3447, 435, 3448, 435, 180, 16, 1260, 254, 435, 1523, 16, 1, 10, 2099, 50, 536, 289, 3449, 28, 2108, 602, 3450, 1523, 1011, 3451, 515, 338, 527, 343, 1157, 1480, 80, 26, 240, 3452, 200, 442, 289, 1566, 79, 3453, 180, 16, 52, 1, 10, 3454, 51, 1257, 26, 3455, 184, 777, 289, 3456, 28, 1012, 106, 3457, 515, 3458, 1013, 527, 839, 1261, 2109, 1, 10, 3459, 8, 13, 1550, 1869, 9, 1, 10, 476, 275, 1567, 26, 2110, 51, 3460], [154, 3461, 83, 2111, 59, 197, 306, 154, 1191, 186, 3462, 306, 201, 997, 99, 630, 963, 818, 598, 199, 2112, 97, 83, 1009, 1014, 1444, 408, 716, 78, 53, 2112, 342, 717, 24, 83, 177, 29, 38, 248], [718, 719, 216, 1, 10, 157, 1, 10, 840, 148, 840, 148, 157, 1, 10, 1015, 553, 2113, 3463, 487, 274, 2114, 163, 60, 3464, 51, 173, 3465, 3466, 68, 219, 152, 3467, 83, 408, 2115, 3468, 1, 10, 604, 38, 707, 23, 17, 3469, 3470, 107, 154, 2057, 93, 3471, 306, 159, 3472, 162, 489, 664, 1468, 998, 1468, 3473, 795, 1262, 841, 720, 842, 1263, 3474, 3475, 3476, 598, 3477, 247, 1568, 3478, 89, 221, 1264, 3479, 381, 631, 333, 928, 88, 68, 491, 3480, 554, 3481, 209, 3482, 2116, 8, 1262, 51, 173, 1848, 3483, 413, 3484, 402, 4, 489, 3485, 282, 242, 3486, 179, 477, 3487, 3488, 282, 242, 68, 3489, 156, 219, 247, 3490, 131, 341, 1265, 13, 332, 9, 68, 3491, 835, 3492, 83, 1529, 142, 3493, 156, 4, 829, 3494, 68, 245, 3495, 108, 3496, 68, 152, 4, 721, 717, 720, 3497, 3498, 255, 720, 1262, 2117, 274, 2001, 121, 68, 1569, 33, 3499], [157, 1, 10, 553, 499, 722, 46, 98, 154, 2098, 78, 3500, 201, 83, 597, 1516, 467, 49, 3501, 3502, 264, 1533, 286, 2118, 2109, 1, 10, 3503, 3504, 201, 723, 843, 79, 1, 10, 4, 154, 1016, 624, 87, 3505, 1, 10, 83, 3506, 1017, 3507, 1012, 16, 185, 142, 306, 1945, 16, 42, 1012, 2119, 336, 724, 79, 208, 211, 1265, 201, 997, 106, 49, 306, 2000, 1012, 16, 185, 142, 3508, 423, 199, 555, 452, 157, 187, 78, 629, 3509, 83, 326, 3510, 3511, 99, 134, 844, 177, 146, 1, 10, 1258, 202, 988, 188, 15, 609, 5, 140, 78, 53, 1570, 413, 197, 66, 156, 3512, 239, 264, 1870, 11, 397, 845, 846, 64, 44, 6, 673, 847, 2107, 845, 44, 387, 132, 993, 289, 1266, 260, 50, 1018, 180, 16, 44, 220, 87, 1134, 260, 157, 109, 23, 359, 208, 83, 23, 359, 112, 1571, 2120, 136, 1504, 83, 7, 848, 49, 849, 23, 68, 3513, 201, 326, 1265, 95, 149, 725, 59, 446, 303, 194, 76, 177, 726, 1267, 727, 556, 850, 3514, 79, 201, 1265, 50, 3515, 28, 3516, 3517, 850, 3518, 3519, 15, 148, 180, 16, 2121, 1, 10, 161, 1572, 1572, 1012, 310, 2121, 220, 1, 10, 2122, 201, 667, 3520], [14, 14, 728, 47, 14, 35, 158, 272, 153, 554, 1268, 1019, 1020, 3521, 3522, 3523, 728, 47, 14, 35, 158, 272, 153, 554, 1268, 1019, 1020, 121, 469, 1019, 3524, 1020, 1573, 151, 216, 233, 554, 148, 35, 158, 272, 153, 14, 47, 278, 94, 100, 29, 1231, 15, 385, 1574, 299, 3525, 380, 1, 3526, 15, 340, 3527, 167, 132, 275, 3528, 66, 1021, 18, 1528, 494, 851, 1575, 1933, 3529, 435, 145, 324, 47, 345, 3530, 729, 407, 2123, 81, 380, 444, 58, 1576, 55, 344, 118, 328, 960, 62, 516, 391, 251, 3531, 39, 360, 197, 852, 428, 56, 659, 2124, 376, 1269, 1270, 278, 345, 58, 100, 3532, 1271, 956, 669, 81, 50, 165, 2125, 233, 213, 557, 42, 1885, 2052, 178, 73, 37, 378, 81, 58, 241, 604, 1574, 115, 2126, 557, 42, 215, 172, 3533, 2124, 1577, 301, 1578, 500, 37, 425, 420, 501, 100, 94, 262, 19, 62, 165, 29, 466, 58, 9, 221, 1270, 1150, 31, 2127, 3534, 89, 5, 2128, 621, 221, 848, 411, 679, 25, 85, 483, 35, 105, 215, 172, 853, 200, 2129, 3535, 3536, 85, 3537, 3538, 822, 1579, 3539, 263, 37, 1022, 260, 987, 77, 371, 450, 254, 297, 3540, 1145, 37, 420, 3541, 1272, 1023, 1416, 2130, 923, 425, 320, 529, 501, 2131, 494, 1575, 851, 411, 145, 324, 854, 632, 2, 27, 273, 2132, 18, 973, 344, 1269, 1580, 62, 853, 374, 3542, 855, 470, 833, 77, 371, 2133, 1894, 1181, 1273, 3543, 3544, 328, 1581, 11, 39, 1942, 165, 1582, 170, 717, 3545, 221, 395, 295, 89, 621, 1024, 854, 165, 975, 374, 855, 2134, 1534, 3546, 932, 820, 172, 3547, 32, 1143, 3548, 205, 1883, 137, 160, 633, 822, 1579, 558, 411, 3549, 3550, 299, 3551, 90, 3552, 1991, 1496, 582, 1583, 3553, 30, 335, 250, 3554, 200, 2051, 1274, 178, 112, 351, 254, 115, 1272, 921, 2130, 3555, 3556, 1465, 3557, 634, 2135, 325, 1584, 473, 77, 371, 210, 964, 254, 854, 3558, 1273, 2136, 145, 324, 233, 213, 56, 1585, 35, 158, 272, 153, 14, 47, 3559, 985], [3560, 3561, 278, 3562, 764, 441, 139, 47, 19, 2137, 302, 1275, 616, 247, 849, 43, 3563, 994, 262, 90, 299, 1276, 22, 856, 1277, 401, 47, 19, 302, 227, 228, 42, 6, 35, 713, 453, 454, 81, 308, 454, 7, 792, 454, 52, 730, 99, 256, 51, 173, 169, 29, 857, 189, 2, 1586, 433, 146, 202, 243, 81, 308, 244, 2138, 57, 62, 16, 2139, 2140, 326, 455, 267, 19, 230, 58, 654, 147, 2141, 3, 99, 1025, 858, 21, 29, 3, 267, 19, 15, 587, 1563, 13, 240, 1026, 2142, 790, 297, 39, 1269, 297, 39, 502, 127, 685, 341, 500, 493, 470, 18, 234, 589, 859, 1587, 148, 195, 349, 212, 731, 6, 2, 39, 143, 212, 1588, 143, 2, 732, 1589, 606, 1590, 199, 456, 212, 606, 543, 2, 2143, 860, 361, 861, 862, 2144, 456, 212, 860, 220, 861, 30, 578, 5, 2145, 2146, 251, 2147, 361, 1002, 335, 26, 26, 461, 2148, 212, 354, 1591, 26, 631, 26, 291, 733, 58, 2149, 734, 2150, 2151, 202, 46, 98, 23, 17, 29, 1592, 212, 29, 1511, 2152, 180, 734, 2153, 18, 2154, 39, 131, 483, 212, 908, 38, 707, 1593, 2155, 161, 2156, 6, 59, 2157, 1278, 148, 982, 303, 255, 1279, 59, 122, 5, 407, 235, 1280, 114, 235, 189, 2, 89, 45, 187, 123, 7, 64, 1027, 75, 635, 105, 116, 2158, 730, 678, 2, 233, 213, 619, 358, 230, 228, 426, 838, 178, 47, 5, 278, 2159, 952, 519, 2160, 329, 729, 559, 2161, 106, 58, 212, 385, 731, 1451, 631, 1281, 82, 7, 1594, 1455, 860, 38, 1229, 153, 158, 322, 2162, 156, 72, 958, 3, 2163, 162, 2164, 2165, 180, 3, 628, 307, 47, 1595, 1282, 290, 806, 305, 1, 2166, 712, 9, 735, 283, 58, 1028, 3, 52, 1283, 60, 2167, 1284, 2, 1596, 311, 29, 38, 47, 2168, 221, 1283, 87, 1, 1243, 18, 736, 79, 55, 344, 46, 2169, 221, 354, 2170, 89, 407, 299, 2171, 163, 2172, 776, 2173, 828, 308, 60, 15, 148, 1285, 95, 384, 15, 213, 86, 54, 1286, 1597, 1284, 54, 734, 34, 143, 1598, 2174, 383, 46, 8, 6, 29, 54, 68, 964, 595, 322, 1029, 1599, 54, 309, 1531, 1535, 8, 2175, 1218, 2176, 2177, 16, 53, 545, 2178, 106, 981, 1600, 445, 184], [737, 216, 3564, 151, 1287, 728, 474, 462, 70, 991, 2179, 2180, 118, 1030, 321, 1601, 474, 3565, 203, 9, 629, 3566, 62, 274, 62, 3567, 1002, 3568, 31, 280, 536, 4, 5, 3569, 920, 145, 166, 760, 224, 255, 171, 250, 220, 4, 132, 991, 132, 486, 1253, 1266, 462, 70, 138, 577, 78, 584, 463, 1602, 486, 2181, 38, 312, 421, 971, 202, 51, 207, 2062, 203, 70, 9, 847, 3570, 421, 456, 2182, 192, 3571, 3572, 1603, 2048, 230, 81, 3573, 1604, 193, 1016, 1604, 819, 100, 3574, 325, 3575, 1605, 910, 530, 181, 1596, 503, 388, 795, 118, 92, 122, 5, 3576, 34, 129, 480, 1220, 179, 193, 2183, 3577, 144, 193, 3578, 2183, 1266, 1927, 205, 3579, 721, 1603, 367, 486, 5, 3580, 112, 2184, 836, 313, 128, 905, 3581, 3582, 128, 2185, 1154, 1031, 795, 314, 85, 1860, 373, 94, 3583, 3584, 2186, 151, 84, 274, 522, 1606, 773, 3585, 124, 12, 39, 3586, 1863, 84, 422, 284, 3587, 3588, 390, 207, 838, 611, 770, 182, 274, 128, 560, 433, 3589, 773, 3590, 171, 3591, 51, 430, 179, 422, 284, 1016, 2032, 456, 3592, 4, 1131, 190, 394, 922, 132, 1288, 971, 188, 1032, 905, 416, 1136, 132, 3593, 34, 2187, 3594, 3595, 159, 406, 1135, 238, 94, 22, 5, 117, 125, 1408, 124, 224, 110, 179, 1408, 339, 416, 726, 3596, 790, 140, 662, 2188, 142, 3597, 5, 117, 2095, 738, 2189, 3598, 2190, 188, 39, 3599, 863, 1607, 765, 1839, 2188, 1572, 3600, 1921, 4, 1289, 3601, 3602, 234, 69, 3603, 3604, 22, 1290, 422, 284, 535, 2191, 922, 994, 69, 315, 1561, 3605, 315, 234, 92, 5, 3606, 3607, 315, 3608, 69, 1253, 136, 19, 796, 3609, 202, 611, 770, 1033, 1015, 3610, 354, 1608, 224, 4, 3611, 234, 3612, 1524, 61, 85, 284, 518, 315, 1561, 809, 414, 330, 12, 69, 230, 64, 550, 70, 770, 522, 119, 2192, 1291, 518, 282, 13, 1034, 583, 3613, 84, 864, 583, 1148, 3614, 238, 2193, 244, 411, 130, 234, 280, 34, 125, 422, 12, 665, 1292, 159, 2194, 1293, 1609, 2195, 12, 3615, 865, 92, 5, 3616, 1294, 127, 1510, 456, 29, 3617, 579, 3618, 12, 1266, 70, 154, 337, 518, 150, 190, 3619, 3620, 12, 2196, 1856, 3621, 92, 3622, 11, 95, 110, 3623, 578, 3624, 414, 285, 168, 716, 474, 809, 3625, 3626, 11, 175, 5, 3627, 1134, 11, 636, 3628, 1295, 3629, 3630, 128, 2185, 1154, 287, 38, 3631, 920, 145, 22, 5, 228, 866, 3632, 1035, 1030, 3633, 3634, 34, 3635, 1606, 773, 486, 5, 3636, 142, 797, 575, 5, 1610, 237, 35, 2197, 190, 230, 3637, 258, 3638, 2198, 224, 4, 624, 22, 5, 3639, 2195, 488, 125, 664, 12, 665, 78, 159, 2194, 3640, 12, 2196, 865, 92, 3641, 1293, 464, 3642, 2199, 168, 92, 5, 415, 4, 1449, 1611, 71, 245, 66, 118, 407, 2200, 98, 335, 474, 2201, 143, 629, 66, 1296, 2202, 2203, 385, 63, 1529, 168, 739, 3643, 3644, 867, 264, 250, 938, 904, 1011, 504, 181, 1013, 3645, 1612, 3646, 3647, 561, 779, 2204, 2205, 3648, 3649, 3650], [1613, 1614, 1615, 1616, 1617, 1618, 83, 14, 740, 14, 637, 216, 14, 1287, 728, 474, 91, 672, 70, 991, 2179, 2180, 118, 1030, 166, 411, 114, 403, 474, 3651, 3652, 262, 433, 418, 62, 3653, 704, 262, 112, 3654, 50, 1524, 1873, 3655, 675, 166, 1592, 163, 53, 1036, 70, 463, 258, 274, 477, 1619, 418, 182, 1297, 1037, 166, 1620, 629, 310, 485, 1165, 1949, 1210, 70, 463, 11, 45, 485, 203, 1298, 264, 435, 28, 764, 638, 462, 70, 295, 118, 407, 918, 919, 584, 12, 102, 84, 285, 345, 919, 584, 22, 5, 1858, 102, 84, 285, 33, 1621, 3656, 3657, 318, 128, 3658, 78, 671, 34, 326, 2206, 3, 762, 933, 1154, 3659, 3660, 3661, 1622, 2207, 1132, 373, 175, 376, 2208, 1031, 3662, 3663, 229, 84, 3664, 1021, 2209, 2054, 3665, 3666, 3667, 3668, 1506, 1997, 3669, 3670, 118, 2210, 203, 627, 341, 118, 2210, 3671, 118, 226, 3672, 701, 562, 243, 958, 128, 3673, 1215, 2211, 3674, 85, 3675, 1215, 60, 1421, 3676, 24, 70, 2212, 3677, 1031, 3678, 926, 5, 2213, 128, 3679, 433, 1525, 3680, 962, 1623, 632, 36, 109, 557, 1624, 1158, 117, 1293, 692, 457, 3681, 128, 2214, 2200, 3682, 1035, 1030, 741, 3683, 3684, 2191, 1004, 45, 1603, 3685, 1031, 16, 207, 3686, 146, 576, 611, 770, 627, 3687, 3688, 3689, 639, 561, 3690, 362, 3691, 3692, 868, 1288, 1032, 416, 929, 70, 1288, 971, 2187, 576, 1985, 436, 1583, 3693, 3694, 1288, 1038, 1185, 640, 3695, 491, 159, 171, 436, 1890, 616, 851, 243, 958, 3, 414, 612, 518, 1879, 3696, 3697, 3698, 3699, 2215, 3700, 330, 12, 175, 61, 1621, 518, 3701, 265, 3702, 3703, 641, 1421, 2216, 3, 3704, 532, 64, 3705, 1291, 1625, 113, 70, 669, 583, 3706, 3707, 2217, 3708, 641, 1522, 641, 1417, 395, 2218, 3709, 77, 371, 2219, 1299, 1859, 16, 641, 1417, 3710, 929, 863, 1522, 77, 1626, 4, 1291, 518, 575, 2220, 3711, 64, 3712, 462, 70, 1513, 642, 3713, 522, 136, 119, 2192, 1291, 518, 909, 1627, 2221, 839, 804, 3714, 635, 186, 45, 518, 583, 22, 5, 3715, 465, 65, 2219, 513, 2193, 668, 65, 1034, 252, 65, 861, 3716, 3717, 3718, 31, 503, 1628, 1039, 16, 3719, 1030, 2222, 2223, 65, 118, 2214, 3720, 77, 371, 196, 818, 55, 284, 1547, 708, 1629, 2224, 638, 462, 70, 45, 3721, 638, 672, 970, 3722, 779, 401, 1428, 639, 561, 1630, 3723, 498, 862, 3724, 548, 3725, 510, 468, 562, 970, 2201, 3726, 1631, 589, 929, 70, 836, 713, 453, 1292, 159, 3727, 12, 3728, 419, 3729, 3730, 3731, 3732, 258, 348, 1631, 742, 3733, 453, 510, 468, 3734, 584, 363, 672, 70, 3735, 970, 779, 171, 869, 3736, 45, 2225, 1631, 241, 1144, 1632, 1430, 159, 1292, 580, 2034, 510, 468, 2204, 2205, 77, 1633, 2226, 477, 3737, 673, 2227, 364, 70, 3738, 1610, 2225, 1634, 158, 3739, 3740, 362, 3741, 639, 561, 562, 3742, 329, 1023, 743, 3743, 3744, 2224, 113, 1300, 1634, 51, 3745, 1150, 471, 159, 1144, 1430, 94, 946, 3746, 3747, 3748, 3749, 3750, 3751, 1635, 3752, 1636, 1031, 3753, 3754, 281, 85, 929, 464, 3755, 12, 1634, 2228, 5, 1917, 1502, 3756, 275, 22, 3757, 3758, 1426, 1301, 517, 1637, 18, 469, 22, 29, 5, 1290, 18, 234, 77, 134, 179, 627, 3759, 639, 561, 2217, 341, 3760, 86, 214, 488, 389, 3761, 5, 1009, 142, 70, 40, 25, 1637, 78, 3762, 3763, 1628, 57, 204, 1267, 112, 471, 3764, 3765, 921, 77, 371, 118, 134, 1638, 18, 469, 811, 2229, 580, 160, 560, 308, 2218, 160, 118, 528, 28, 813, 450, 813, 260, 324, 260, 476, 3766, 3767, 1900, 1414, 304, 64, 953, 831, 2053, 593, 115, 37, 655, 105, 2230, 3768, 3769, 1639, 3770, 2093, 3771, 593, 3772, 3773, 28, 470, 292, 3774, 552, 3775, 2231, 1575, 3776, 451, 3777, 3778, 3779, 1878, 170, 2, 2232, 3780, 3781, 18, 2233, 3782, 2234, 170, 2, 114, 128, 456, 870, 128, 488, 3783, 3784, 2, 20, 3785, 70, 182, 90, 692, 61, 2133, 3786, 3787, 1302, 2073, 2235, 1013, 3788, 1441, 779, 3789, 3790, 182, 92, 5, 1040, 96, 78, 182, 3791, 126, 12, 665, 395, 2235, 1632, 3792, 96, 1142, 265, 470, 780, 421, 1429, 7, 3793, 3794, 674, 70, 1301, 762, 3795, 168, 680, 871, 329, 193, 836, 3796, 98, 1895, 1301, 283, 870, 193, 38, 1301, 517, 661, 662, 38, 35, 3797, 2236, 3798, 65, 403, 3799, 1554, 3800, 143, 185, 66, 118, 250, 2237, 3801, 3802, 177], [1613, 1614, 1615, 1616, 1617, 1618, 83, 14, 740, 14, 637, 216, 14, 1287, 3803, 462, 70, 521, 182, 450, 236, 181, 409, 182, 163, 40, 3804, 70, 12, 3805, 122, 5, 1640, 3806, 171, 233, 117, 1293, 251, 1557, 421, 3807, 240, 224, 3808, 12, 39, 3809, 3810, 70, 159, 759, 488, 181, 1641, 2238, 1960, 3811, 262, 3812, 40, 763, 537, 39, 95, 664, 3813, 40, 2239, 515, 274, 295, 96, 3814, 136, 171, 326, 1633, 2240, 1901, 96, 63, 3815, 3816, 12, 141, 207, 3817, 779, 1642, 462, 2111, 525, 2241, 1433, 1886, 1011, 934, 3818, 1032, 2242, 232, 558, 96, 188, 70, 54, 813, 24, 3819, 200, 2238, 289, 56, 781, 1431, 2, 1881, 12, 677, 3820, 1303, 1643, 1176, 791, 667, 3821, 378, 3822, 423, 1644, 847, 3823, 3824, 2243, 791, 3825, 3826, 2182, 51, 173, 109, 1032, 12, 1217, 3827, 288, 12, 3828, 690, 1302, 3829, 471, 3830, 910, 225, 12, 593, 455, 3831, 599, 3832, 210, 1645, 1851, 125, 2227, 12, 522, 473, 951, 621, 325, 386, 325, 3833, 538, 3834, 2244, 50, 110, 293, 51, 1627, 773, 137, 1539, 464, 1471, 3835, 3836, 2245, 932, 12, 45, 368, 2244, 3837, 963, 934, 1026, 3838, 2246, 240, 90, 1606, 12, 872, 225, 3839, 171, 3840, 3841, 3842, 2, 50, 12, 1646, 131, 3843, 63, 318, 2, 166, 326, 2101, 505, 1882, 3844, 462, 70, 739, 1294, 1647, 3845, 1176, 530, 430, 791, 521, 2247, 468, 3846, 192, 547, 3847, 3848, 38, 547, 3849, 462, 70, 2247, 468, 2248, 367, 1153, 1162, 2249, 248, 258], [441, 474, 91, 3850, 3851, 3852, 3853, 12, 135, 258, 3854, 320, 90, 1648, 3855, 69, 1905, 2250, 1906, 12, 282, 13, 1909, 1910, 168, 1515, 8, 588, 1649, 3856, 16, 579, 2251, 238, 12, 174, 3857, 713, 1023, 342, 1650, 1304, 32, 110, 94, 3858, 87, 64, 1156, 125, 5, 32, 9, 11, 287, 185, 291, 8, 588, 238, 94, 928, 1651, 563, 3859, 182, 2, 1245, 200, 1006, 417, 1652, 1245, 1653, 869, 12, 406, 641, 382, 97, 957, 1654, 105, 328, 320, 175, 3860, 2004, 406, 263, 3861, 737, 216, 201], [1613, 1614, 1615, 1616, 1617, 1618, 83, 14, 740, 14, 637, 216, 14, 1287, 69, 182, 57, 91, 90, 192, 161, 1902, 43, 1133, 596, 375, 192, 1903, 1916, 14, 3862, 3863, 1655, 14, 329, 106, 903, 2207, 238, 239, 110, 669, 242, 3864, 238, 94, 3865, 3866, 3867, 839, 1508, 3868, 35, 2066, 1655, 1534, 994, 233, 3869, 3870, 662, 233, 1656, 2252, 2253, 3871, 1657, 2254, 836, 545, 1153, 3872, 330, 3873, 3874, 643, 3875, 3876, 3877, 1439, 1904, 384, 1658, 578, 1454, 3878, 2254, 3879, 14, 3880, 2255, 3881, 22, 3882, 1659, 539, 193, 3883, 3884, 2253, 3885, 3886, 1918, 413, 107, 3887, 1911, 3888, 338, 1009, 81, 3889, 73, 3890, 104, 90, 1305, 403, 43, 112, 3891, 33, 1305, 3892, 1978, 12, 182, 3893, 1660, 408, 243, 50, 594, 2029, 852, 3894, 1143, 103, 182, 174, 3895, 474, 1926, 1647, 109, 182, 64, 109, 3896, 119, 37, 166, 599, 13, 204, 223, 871, 3897, 199, 1655, 4, 159, 1014, 289, 204, 1424, 414, 583, 262, 455, 31, 110, 2256, 1041, 238, 357, 488, 1123, 159, 1660, 270, 3898, 246, 114, 3899, 3900, 12, 1042, 8, 373, 171, 115, 3901, 3902, 3903, 3904, 3905, 803, 3906, 54, 107, 589, 3907, 3908, 3909, 163, 312, 333, 320, 680], [14, 43, 544, 644, 218, 91, 177, 24, 101, 605, 90, 534, 146, 379, 480, 154, 274, 1227, 873, 34, 82, 126, 94, 8, 248, 16, 522, 161, 1947, 161, 353, 3910, 220, 874, 19, 161, 131, 3911, 421, 161, 131, 267, 19, 33, 522, 1306, 1968, 50, 864, 59, 3912, 351, 1307, 19, 310, 1602, 45, 3913, 3914, 1305, 643, 147, 645, 596, 147, 19, 104, 689, 481, 147, 19, 524, 37, 85, 800, 801, 147, 16, 716, 43, 564, 875, 34, 769, 1043, 681, 744, 338, 44, 2, 99, 2137, 98, 7, 2257, 135, 266, 1416, 50, 3915, 3916, 147, 794, 266, 5, 384, 266, 864, 59, 1952, 421, 184, 174, 347, 144, 67, 176, 154, 259, 559, 23, 17, 34, 67, 22, 144, 49, 323, 3917, 447, 646, 2198, 94, 48, 45, 16, 3918, 33, 2, 1308, 834, 171, 96, 176, 64, 34, 22, 1044, 131, 1309, 298, 32, 116, 948, 350, 3919, 215, 7, 3920, 45, 430, 179, 2258, 3921, 3922, 22, 5, 3923, 918, 357, 3924, 150, 3925], [174, 347, 144, 67, 176, 1045, 43, 556, 97, 120, 213, 108, 2259, 3926, 240, 423, 27, 22, 3927, 192, 1005, 3928, 74, 2260, 225, 493, 2261, 141, 914, 57, 180, 3929, 1245, 3930, 3931, 218, 3932, 131, 2262, 3933, 822, 3934, 21, 75, 207, 108, 3935, 1661, 1165, 3936, 58, 2263, 501, 1662, 27, 287, 297, 3937, 18, 339, 326, 416, 3938, 371, 416, 3939, 532, 3, 84, 287, 461, 943, 139, 21, 3940, 3, 593, 255, 3941, 142, 3942, 532, 3, 287, 647, 428, 84, 134, 144, 49, 59, 400, 689, 772, 3943, 145, 3944, 3945, 266, 2, 1521, 171, 96, 2, 22, 291, 1310, 907, 5, 54, 185, 198, 346, 67, 119, 297, 45, 3946, 379, 3947, 280, 64, 54, 2264, 244, 250, 156, 66, 3948, 309, 79, 60, 23, 198, 180, 3949, 1042, 98, 3950, 79, 3951, 3952, 145, 2265, 550, 176, 347, 3, 793, 310, 49, 2266, 982, 533, 3953, 238, 280, 324, 227, 1490, 1439, 1246, 237, 215, 2267, 7, 272, 225, 1306, 213, 450, 59, 2131, 194, 661, 144, 23, 17, 243, 3954, 4, 147, 311, 114, 313, 2268, 194, 7, 2269, 23, 3955, 3, 115, 218, 21, 265, 67, 176, 1663, 144, 272, 2270, 1412, 94, 2, 993, 1, 675, 1179, 183], [14, 1664, 43, 155, 57, 15, 299, 218, 160, 56, 434, 389, 105, 21, 591, 160, 56, 434, 389, 2271, 119, 2272, 614, 2118, 3956, 2273, 2274, 50, 1311, 1514, 239, 41, 876, 20, 697, 78, 8, 1665, 1294, 520, 1312, 138, 99, 2275, 46, 151, 3957, 2276, 20, 21, 232, 379, 151, 3958, 877, 878, 1046, 160, 56, 389, 690, 1017, 467, 290, 2277, 688, 2278, 2279, 1195, 214, 56, 160, 434, 389, 484, 1620, 2280, 66, 119, 88, 498, 151, 56, 3959, 126, 834, 614, 1666, 249, 1667, 648, 3960, 113, 411, 3961, 1135, 86, 20, 21, 541, 3962, 2281, 3963, 32, 160, 565, 434, 138, 179, 947, 3964, 3965, 163, 32, 959, 376, 1907, 239, 389, 710, 347, 3, 2282, 20, 2283, 1261, 2284, 314, 9, 138, 346, 69, 9, 3966, 101, 3967, 1312, 20, 363, 3968, 314, 520, 448, 3969, 117, 766, 786, 820, 352, 339, 3, 143, 377, 853, 200, 986, 493, 62, 30, 10, 3970, 9, 27, 273, 126, 809, 3971, 932, 3972, 137, 3973, 1464, 685, 1184, 9, 27, 273, 2285, 162, 18, 9, 273, 27, 101, 3974, 2008, 1007, 19, 65, 41, 876, 65, 694, 695, 410, 96, 20, 2286, 3, 458, 1668, 2287, 16, 796, 563, 76, 328, 419, 72, 531, 3975, 249, 878, 3976, 118, 3977, 3978, 2, 7, 1442, 277, 246, 18, 2288, 85, 2289, 58, 102, 6, 2290, 1669, 1670, 1671, 879, 530, 448, 1672, 117, 1673, 30, 1, 409, 150, 162, 806, 3979, 179, 1674, 2291, 38, 363, 2292, 1675, 1, 224, 3980, 107, 1311, 249, 1046, 1047, 158, 1311, 1669, 3981, 3982, 250, 138, 3983, 151, 84, 2293, 64, 506, 566, 3984, 3985, 811, 2294, 372, 440, 390, 1, 158, 3986, 3987, 3988, 3989, 346, 84, 2295, 3990, 301, 24, 342, 2199, 1300, 3991, 444, 58, 3992, 18, 121, 175, 563, 444, 58, 97, 85, 160, 2, 27, 3993, 7, 469, 59, 3994, 126, 236, 3995, 263, 1676, 121, 3996, 82, 2296, 15, 1677, 3997, 481, 3998, 1313, 567, 1314, 567, 3999, 4000, 72, 6, 4001, 127, 939, 86, 2297, 4002, 4003, 36, 442, 2296, 15, 134, 56, 336, 4004, 263, 1676, 121, 1042, 167, 4005, 920, 253, 219, 2298, 307, 4006, 15, 139, 352, 15, 93, 4007, 430, 1008, 1678, 2299, 2300, 7, 745, 1456, 127, 301, 2301, 58, 1530, 344, 298, 2302, 1048, 1, 15, 810, 4008, 233, 1566, 4009, 56, 1671, 1300, 649, 4010, 1925, 296, 187, 298, 15, 148, 46, 151, 118, 1679, 72, 6, 2303, 1186, 15, 353, 415, 1662, 514, 519, 2304, 1645, 75, 1315, 68, 442, 4, 1316, 1418, 6, 58, 1517, 2305, 2306, 161, 2307, 657, 701, 218, 15, 101, 7, 927, 1197, 1022, 253, 219, 126, 236, 64, 93, 485, 92, 634, 123, 442, 74, 644, 130, 181, 1034, 28, 183, 483, 218, 484, 4011, 117, 4012, 4013, 65, 4014, 1256, 1049, 480, 880, 4015, 4016, 453, 1005, 476, 129, 4017, 4018, 484, 54, 107, 207, 1644, 4019, 105, 869, 86, 20, 21, 207, 4020, 206, 59, 105, 86, 20, 21, 4021, 404, 2272, 761, 4022, 44, 161, 674, 2266, 322, 1196, 298, 213, 139, 2308, 59, 134, 33, 2309, 1317, 193, 608, 1050, 1014, 1007, 1289, 80, 1680, 481, 97, 1010, 105, 869, 118, 301, 1182, 1189, 1051, 128, 24, 528, 814, 2310, 125, 210, 632, 2311, 879, 2312, 2313, 86, 1194, 2314, 2315, 56, 350, 23, 17, 4023, 3, 1681, 145, 4024, 90, 1682, 1052, 102, 737, 15, 538, 66, 119, 1608, 44, 42, 1053, 1683, 4, 1199, 139, 4025, 4026, 4027, 42, 2316, 4028, 1194, 721, 15, 4029, 1489, 93, 1262, 4030, 327, 538, 523, 378, 4031, 90, 4032, 4033, 485, 74], [14, 1664, 43, 155, 57, 15, 299, 218, 160, 56, 434, 389, 105, 21, 160, 565, 434, 65, 41, 2317, 2271, 4034, 609, 396, 7, 158, 163, 2273, 2274, 1311, 239, 498, 151, 253, 301, 685, 697, 78, 8, 1665, 35, 520, 138, 247, 4035, 4036, 43, 99, 2275, 411, 2276, 20, 21, 43, 2318, 102, 249, 881, 1962, 179, 160, 56, 434, 138, 690, 233, 467, 290, 20, 4037, 3, 4038, 2319, 4039, 498, 151, 56, 492, 126, 834, 289, 396, 4040, 813, 158, 41, 1046, 4041, 4042, 1189, 4043, 703, 4044, 165, 1638, 35, 42, 183, 102, 41, 4045, 1667, 290, 484, 4046, 2190, 4047, 4048, 2320, 1251, 4049, 4050, 614, 710, 347, 3, 2282, 20, 2283, 1261, 2284, 314, 9, 138, 20, 1054, 218, 68, 988, 1684, 631, 143, 1055, 75, 4051, 4052, 1496, 28, 74, 137, 2321, 1312, 27, 273, 339, 3, 143, 4053, 2, 4054, 1184, 9, 27, 273, 2285, 162, 513, 1622, 2322, 694, 695, 410, 20, 2286, 3, 458, 1668, 2287, 16, 796, 117, 563, 76, 19, 41, 2317, 152, 442, 1644, 444, 106, 58, 707, 1963, 4055, 9, 99, 565, 197, 1608, 1252, 41, 881, 4056, 4057, 548, 1318, 19, 2294, 1964, 498, 151, 256, 279, 2323, 1022, 158, 4058, 231, 746, 4059, 4060, 322, 187, 298, 964, 352, 1478, 1319, 183, 2290, 1669, 1670, 1671, 879, 530, 448, 1672, 117, 1673, 30, 1, 65, 1670, 152, 442, 4061, 78, 1007, 1179, 785, 153, 999, 625, 1239, 4062, 1179, 4063, 4064, 472, 1685, 15, 385, 4065, 817, 135, 1486, 472, 65, 1415, 2324, 389, 4066, 9, 27, 273, 65, 4067, 41, 878, 188, 116, 292, 1181, 301, 697, 54, 107, 19, 4068, 697, 38, 129, 1130, 53, 882, 2097, 42, 183, 4069, 4070, 9, 736, 273, 460, 2106, 85, 438, 565, 46, 151, 61, 276, 1056, 1057, 131, 4071, 131, 4072, 2288, 53, 482, 1320, 2325, 15, 56, 73, 58, 68, 442, 610, 4073, 515, 4074, 515, 97, 313, 55, 183, 1193, 1321, 1576, 939, 86, 46, 151, 152, 334, 2298, 118, 1679, 72, 6, 78, 838, 1, 389, 2, 27, 2206, 476, 4075, 34, 8, 4076, 3, 1162, 2009, 1425, 645, 4077, 882, 1317, 4078, 2326, 1686, 920, 36, 1183, 255, 1687, 272, 220, 4079, 65, 232, 41, 4080, 1, 56, 484, 5, 927, 1197, 9, 138, 7, 314, 4081, 416, 4082, 1322, 451, 472, 2327, 4083, 2328, 4084, 314, 1688, 1520, 1010, 774, 21, 265, 430, 2325, 1, 56, 431, 620, 15, 352, 1689, 4085, 127, 4086, 4087, 21, 4088, 7, 2230, 140, 2293, 4089, 1009, 9, 138, 1, 56, 484, 5, 228, 672, 106, 15, 747, 41, 15, 363, 129, 214, 609, 4090, 492, 253, 219, 2299, 2300, 7, 745, 1456, 127, 301, 2301, 58, 1530, 344, 298, 2302, 1048, 1, 46, 151, 118, 1679, 72, 6, 2303, 1186, 15, 353, 415, 1662, 514, 519, 2304, 1645, 75, 1315, 68, 442, 4, 1316, 1418, 6, 58, 1517, 2305, 2306, 161, 2307, 657, 710, 15, 101, 7, 927, 1197, 1022, 253, 219, 126, 236, 64, 93, 485, 92, 634, 123, 442, 74, 644, 130, 181, 59, 134, 33, 2309, 1317, 193, 608, 1050, 1014, 1007, 1289, 80, 1680, 481, 97, 1010, 105, 869, 118, 301, 1182, 1189, 1051, 128, 24, 528, 814, 2310, 125, 210, 632, 2311, 879, 2312, 2313, 86, 1194, 2314, 2315, 56, 20, 122, 38, 1310, 30, 4091, 34, 691, 150, 42, 329, 4092, 195, 54, 68, 4093, 1690, 1317, 392, 213, 150, 86, 20, 4094, 80, 1680, 1576, 2, 27, 4095, 480, 296, 4096, 917, 444, 1321, 4097, 4098, 139, 80, 4099, 227, 228, 97, 149, 300, 710, 295, 4100, 241, 4101, 856, 1151, 4102, 28, 869, 969, 15, 353, 621, 4103, 1295, 341, 4104, 959, 493, 945, 4105, 152, 2329, 969, 2330, 295, 817, 687, 1054, 15, 275, 1199, 29, 788, 44, 4106, 152, 442, 1022, 82, 34, 44, 42, 1053, 1683, 1166, 65, 557, 344, 1691, 1323, 4107, 1324, 219, 2105, 538, 8, 4108, 1058, 15, 439], [83, 48, 740, 1232, 146, 474, 57, 57, 4109, 76, 677, 77, 1896, 441, 246, 1622, 2321, 229, 84, 314, 677, 629, 185, 369, 690, 4110, 498, 98, 321, 57, 22, 533, 4111, 233, 237, 213, 180, 4112, 2331, 1308, 268, 2, 27, 715, 1692, 86, 190, 394, 115, 4113, 241, 363, 31, 63, 1693, 2265, 4114, 353, 2089, 1152, 94, 116, 354, 141, 774, 23, 17, 787, 834, 1560, 2332, 66, 727, 842, 4115, 485, 1478, 85, 6, 175, 106, 928, 4116, 1059, 57, 108, 86, 333, 28, 1619, 111, 1059, 654, 5, 523, 386, 1038, 4117, 3, 1694, 535, 332, 77, 811, 4118, 404, 1607, 199, 1261, 87, 4119, 1695, 32, 1152, 2028, 87, 1695, 645, 62, 86, 190, 394, 1325, 3, 1059, 57, 22, 533, 142, 97, 55, 1323, 86, 34, 1595, 1184, 2333, 74, 253, 2260, 188, 9, 27, 141, 2334, 4120, 1192, 969, 15, 353, 15, 57, 29, 4121, 1624, 153, 969, 15, 2327, 1060, 57, 19, 4122, 861, 4123, 8, 15, 353, 4124, 476, 4125, 4126, 2335, 8, 44, 2, 27, 415, 425, 132, 27, 1326, 1545, 425, 255, 4127, 536, 428, 4128, 249, 1667, 674, 2336, 1060, 2337, 1005, 75, 4, 2338, 4129, 1585, 482, 57, 19, 87, 2339, 650, 4130, 86, 4131, 3, 1607, 649, 249, 1046, 49, 183, 999, 191, 4132, 4133, 536, 86, 4134, 4135, 1327, 4136, 4137, 55, 4138, 4139, 459, 4140, 30, 273, 10, 86, 688, 835, 4141, 219, 2340, 2341, 877, 4142, 53, 57, 44, 2, 27, 2332, 2342, 267, 2292, 6, 146, 536, 86, 691, 1696, 4143, 4144, 4145, 142, 97, 57, 506, 1003, 1328, 56, 186, 1198, 1697, 2242, 13, 431, 280, 4146, 835, 2336, 782, 4147, 4148, 32, 1282, 4149, 79, 4150, 175, 777, 4151, 153, 4152, 42, 4153, 581, 1329, 2343, 2344, 251, 5, 4154, 4155, 49, 1626, 4, 4156, 4157, 224, 1330, 4158, 1060, 117, 97, 49, 684, 107, 1624, 153, 431, 103, 57, 23, 17, 581, 22, 5, 1698, 2240, 23, 17, 1129, 2345, 1198, 4159, 1699, 305, 87, 139, 32, 44, 2, 27, 939, 4160, 671, 273, 27, 107, 1951, 37, 386, 378, 18, 952, 4161, 159, 1464, 2346, 4162, 4163, 615, 358, 2, 27, 109, 4164, 9, 66, 165, 331, 4165, 33, 111, 4, 748, 204, 52, 31, 63, 1693, 4166, 494, 253, 74, 4167, 1026, 4168, 301, 33, 191, 331, 1874, 3, 185, 181, 290, 77, 265, 5, 149, 4169, 4170, 1136, 2347, 412, 416, 196, 57, 16, 311, 1699, 142, 361, 2, 27, 413, 4, 4171, 63, 425, 1128, 358, 61, 2333, 109, 74, 4172, 532, 3, 185, 22, 4173, 105, 8, 160, 2, 130, 30, 1700, 448, 568, 413, 1605, 52, 369, 242, 4174, 715, 651, 57, 11, 187, 298, 4175, 1493, 49, 4176, 2212, 954, 298, 125, 2348, 569, 4177, 295, 4178, 301, 2349, 4179, 4180, 677, 333, 472, 57, 1219, 1533, 368, 115, 1302, 4181, 1862, 117, 471, 53, 322, 1577, 115, 92, 4182, 199, 715, 23, 17, 934, 28, 2350, 65, 90, 1309, 4183, 16, 4184, 71, 4185, 4186, 205, 1435, 4187, 334, 6, 113, 97, 57, 86, 135, 1041, 56, 2216, 3, 262, 4188, 4189, 255, 4190, 19, 498, 130, 4191, 1462, 57, 4192, 4193, 1697, 2, 27, 293, 455, 1059, 429, 286, 105, 20, 428, 21, 477, 266, 4194, 749, 795, 53, 57, 72, 224, 1331, 2038, 19, 1525, 5, 4195, 4196, 72, 866, 457, 1958, 1061, 57, 4197, 60, 301, 323, 119, 1332, 532, 4198, 2, 27, 424, 44, 327, 1187, 8, 449, 4199, 4200, 1059, 676, 296, 4201, 1302, 15, 132, 4202, 275, 340, 1, 257, 4203, 1467, 51, 4204, 1273, 532, 367, 955, 79, 85, 44, 2, 27, 4205, 515, 130, 449, 4206, 568, 24, 56, 2035, 688, 331, 1701, 883, 542, 57, 2351, 310, 649, 816, 22, 394, 444, 776, 51, 1664, 313, 2322, 4207, 4208, 42, 183, 4209, 368, 1038, 1702, 2352, 4210, 210, 57, 429, 247, 1703, 295, 145, 103, 4211, 2352, 2349, 472, 395, 87, 1695, 4212, 472, 190, 394, 339, 149, 412, 142, 57, 44, 2, 4213, 1, 56, 1180, 34, 1333, 531, 612, 195, 27, 1308, 539, 309, 76, 57, 345, 16, 4214, 4215, 325, 645, 18, 4216, 4217, 884, 472, 185, 914, 118, 2208, 4218, 288, 4219, 288, 80], [475, 25, 329, 427, 426, 463, 1578, 49, 449, 62, 21, 113, 53, 267, 147, 2250, 210, 939, 930, 483, 2, 27, 1334, 684, 1698, 4220, 750, 4221, 21, 1335, 1259, 61, 73, 277, 5, 140, 18, 1018, 882, 3, 935, 2295, 2330, 29, 351, 369, 141, 4222, 8, 4223, 34, 261, 525, 276, 816, 14, 885, 413, 1229, 1, 81, 77, 234, 138, 135, 267, 4224, 4225, 42, 4226, 1682, 631, 121, 1661, 29, 5, 1494, 4227, 77, 265, 4228, 4229, 2353, 603, 198, 4230, 2, 990, 291, 263, 251, 558, 28, 4231, 921, 4232, 288, 4233, 288, 168, 65, 111, 213, 1148, 361, 381, 339, 1062, 4234, 118, 720, 4235, 1687, 272, 23, 4236, 4237, 60, 80, 180, 983, 1000, 23, 17, 4238, 2, 4239, 570, 1996, 54, 736, 4240, 949, 4241, 319, 465, 319, 455, 4242, 4243, 4244, 11, 214, 570, 279, 758, 1336, 28, 62, 565, 1028, 3, 125, 179, 245, 1599, 1492, 2, 736, 122, 4245, 88, 4246, 127, 11, 1063, 4247, 4248, 2348, 569, 4249, 4250, 102, 234, 8, 4251, 148, 34, 242, 907, 250, 24, 1661, 1704, 1221, 77, 1299, 670, 280, 324, 1699, 558, 975, 808, 4252, 288, 2135, 210, 659, 198, 791, 76, 736, 142, 97, 85, 270, 19, 2068, 155, 57, 15, 299, 218, 102, 151, 2233, 695, 4253, 695, 4254, 18, 4255, 65, 41, 876, 253, 301, 685, 697, 4256, 8, 1665, 227, 228, 520, 1312, 138, 636, 4257, 18, 329, 537, 850, 113, 2324, 2249, 4258, 28, 74, 541, 11, 13, 4259, 46, 130, 703, 4260, 61, 4261, 8, 4262, 2354, 2269, 7, 1062, 436, 1155, 4263, 1431, 19, 232, 249, 876, 102, 877, 878, 1046, 160, 56, 434, 389, 690, 1694, 233, 467, 290, 1140, 4264, 817, 2277, 688, 2278, 2279, 1195, 214, 56, 160, 434, 4265, 3, 453, 73, 4266, 389, 484, 1620, 2280, 66, 119, 88, 15, 244, 54, 2, 102, 794, 4267, 69, 736, 102, 17, 4268, 4269, 312, 4270, 54, 1597, 286, 8, 44, 199, 1552, 38, 341, 128, 1577, 23, 654, 38, 199, 332, 4271, 144, 17, 4272, 4273, 95, 54, 4274, 2, 346, 47, 649, 4275, 2355, 307, 496, 52, 2318, 1961, 4276, 4277, 111, 99, 4278, 1, 1282, 15, 9, 140, 450, 582, 2356, 426, 4279, 30, 587, 1931, 4280, 15, 746, 244, 245, 2357, 187, 554, 4281, 112, 461, 85, 1295, 15, 148, 1705, 1058, 1970, 85, 6, 1028, 3, 7, 327, 20, 2343, 4282, 115, 74, 2358, 1560, 1050, 615, 4283, 412, 188, 279, 2, 750, 4284, 62, 4285, 834, 965, 1485, 95, 4286, 160, 565, 434], [1064, 60, 25, 2359, 17, 4, 400, 547, 194, 886, 4287, 53, 2360, 4288, 2361, 8, 160, 172, 392, 17, 4289, 4290, 53, 223, 71, 443, 4291, 675, 320, 529, 2360, 293, 4292, 194, 716, 4, 1000, 4293, 4294, 758, 1638, 4295, 66, 734, 1273, 66, 1232, 64, 760, 1175, 4296, 1044, 1015, 188, 832, 918, 161, 928, 1488, 4297], [14, 167, 48, 973, 535, 48, 14, 862, 447, 1337, 1338, 1706, 1707, 1708, 1709, 167, 60, 25, 2362, 406, 50, 716, 321, 406, 4298, 399, 372, 55, 4299, 4300, 4301, 4302, 4303, 4304, 4305, 4306, 4, 400, 22, 2363, 1319, 406, 425, 2364, 205, 4307, 4308, 1510, 239, 229, 84, 477, 4309, 2364, 406, 879, 66, 12], [14, 167, 48, 1146, 535, 48, 14, 862, 447, 1337, 1338, 1706, 1707, 1708, 1709, 1064, 60, 17, 76, 37, 203, 50, 2365, 443, 1339, 457, 559, 37, 96, 76, 48, 180, 2366, 37, 76, 2367, 2368, 4, 400, 22, 303, 202, 203, 1319, 443, 1339, 542, 1436, 641, 766, 477, 2369, 457, 559, 37, 222, 2370, 2371, 2372], [14, 167, 48, 1146, 535, 48, 14, 862, 447, 1337, 1338, 1706, 1707, 1708, 1709, 1064, 60, 17, 76, 37, 203, 50, 2365, 443, 1339, 457, 559, 37, 96, 76, 48, 180, 2366, 37, 76, 2367, 2368, 4, 400, 22, 303, 202, 203, 1319, 443, 1339, 542, 1436, 641, 766, 477, 2369, 457, 559, 37, 222, 2370, 2371, 2372], [14, 14, 83, 48, 148, 1047, 400, 14, 203, 789, 67, 24, 336, 429, 277, 1493, 1965, 115, 312, 4310, 1578, 160, 2373, 633, 820, 4311, 2374, 2375, 789, 2308, 2376, 1336, 44, 2377, 1221, 1340, 1710, 633, 1992, 50, 1341, 314, 760, 187, 254, 2378, 4312, 106, 2291, 4313, 4314, 4315, 592, 76, 4316, 1590, 4317, 954, 1047, 400, 656, 144, 789, 24, 4318, 2379, 1340, 1710, 4319, 633, 1495, 4320, 254, 4321, 50, 1340, 4322, 4323, 51, 173, 1156, 975, 28, 504, 260, 4324, 4325, 4326, 4327, 1495, 94, 31, 4328, 4329, 1213, 119, 4330, 2377, 513, 4331, 1853, 404, 1593, 2245, 606, 411, 44, 2380, 1832, 4332, 52, 382, 142, 4333, 2380, 1205, 52, 2381, 432, 4334, 2382, 4335, 103, 4336, 4337, 656, 377, 53, 1047, 44, 4338, 1144, 1143, 7, 4339, 825, 2383, 633, 4340, 4341, 41, 4342, 62, 4343, 3, 941, 4344, 1340, 1710, 4345, 4346, 4347, 633, 144, 2383, 2384, 4348, 4349, 2385, 189, 4350, 640, 432, 998, 2378, 4351, 714, 208, 106, 81, 982, 250, 1687, 418, 62, 2239, 902, 1663, 264, 4352, 4353, 223, 1201, 4354, 4355, 2385, 44, 4356, 4357, 4358, 2386, 4359, 4360, 688, 41, 4361, 44, 1934, 171, 1483, 254, 4362, 973, 95, 121, 4363, 4364, 470, 237, 401, 1545, 121, 309, 160, 2373, 633, 54, 107, 674, 2374, 2375, 4365, 4366, 4367, 633, 483, 4368, 2258, 4369, 4370, 4371, 1471, 4372, 270, 4373, 4374, 4375, 4376, 189, 4377, 4378, 364, 81, 104, 100, 1, 2387], [1064, 60, 25, 2359, 17, 4, 400, 194, 1711, 222, 4379, 25, 1290, 4380, 24, 67, 35, 44, 2, 4, 2220, 312, 4381, 4382, 80, 59, 134, 4383, 2388, 1026, 611, 2, 392, 213, 202, 716, 4384, 222, 1290, 427, 994, 4, 4385, 1170, 1711, 222, 53, 320, 529, 513, 4386, 1271, 581, 23, 2389, 991, 76, 2390, 4387, 55, 2268, 4388, 28, 2246, 218, 1712, 4389, 456, 4390, 4391, 209, 4392, 146, 202, 973, 489, 4393, 4394, 1589, 31, 231, 2391, 2116, 93, 4395, 271, 5, 797, 1713, 4396, 31, 4397, 607, 93, 2392, 271, 7, 4398, 2393, 90, 625, 1891, 222, 2389, 31, 4399, 237, 607, 2391, 870, 4400, 43, 1013, 53, 4401, 320, 680, 190, 231, 4402, 1123, 222, 790, 4403, 1712, 1063, 4404, 607, 558, 315, 222, 346, 4405, 376, 68, 31, 231, 4406, 446, 42, 1309, 1409, 23, 17, 4407, 309, 53, 222, 589], [14, 302, 441, 139, 47, 43, 1567, 2394, 593, 61, 2395, 229, 41, 32, 390, 276, 19, 310, 217, 45, 1714, 2396, 2397, 61, 4408, 41, 214, 4409, 253, 687, 7, 2398, 188, 1132, 458, 1674, 2, 27, 113, 857, 308, 1, 257, 712, 53, 20, 414, 10, 1065, 71, 28, 188, 622, 1715, 4410, 4411, 390, 276, 1177, 19, 4412, 690, 1694, 1702, 679, 422, 85, 402, 1300, 1939, 921, 4413, 56, 728, 550, 35, 33, 1174, 2399, 2400, 4, 322, 2394, 1505, 748, 5, 35, 237, 748, 5, 355, 456, 2401, 43, 1716, 883, 20, 405, 646, 153, 1, 257, 1275, 3, 883, 376, 96, 972, 4414, 19, 321, 376, 2256, 357, 382, 250, 85, 1491, 2402, 71, 217, 1714, 4415, 367, 651, 355, 1318, 19, 71, 651, 4416, 458, 785, 83, 43, 1219, 328, 71, 217, 241, 35, 364, 2403, 28, 405, 20, 384, 1446, 676, 546, 646, 75, 6, 111, 62, 324, 22, 5, 2404, 1681, 374, 39, 2405, 783, 241, 119, 39, 417, 28, 4417, 435, 1227, 4418, 127, 324, 2043, 193, 4419, 4420, 324, 1015, 39, 374, 92, 5, 4421, 35, 4422, 453, 4423, 1066, 144, 209, 629, 38, 255, 4424, 4425, 374, 621, 75, 780, 187, 2281, 77, 265, 92, 5, 1409, 82, 1118, 40, 43, 781, 597, 179, 458, 492, 178, 458, 2406, 116, 292, 165, 170, 988, 188, 18, 304, 43, 1716, 45, 173, 597, 32, 2407, 22, 4426, 2123, 195, 4427, 2408, 2409, 2410, 1713, 4, 257, 412, 1067, 1281, 74, 837, 1536, 178, 2411, 164, 643, 195, 245, 1717, 271, 20, 417, 28, 4, 1342, 748, 2412, 972, 1343, 140, 178, 73, 1344, 1067, 1427, 73, 37, 249, 1641, 602, 2413, 1246, 421, 2414, 2415, 73, 37, 357, 20, 43, 781, 597, 79, 2416, 2417, 20, 47, 252, 2418, 775, 2419, 32, 20, 37, 1459, 63, 1011, 54, 4428, 119, 88, 2420, 74, 150, 1639, 567, 35, 2421, 20, 413, 1546, 11, 13, 475, 230, 1718, 1029, 1719, 1720, 978, 104, 1688, 2422, 95, 1721, 87, 2423, 2424, 165, 1646, 866, 1722, 5, 140, 52, 265, 166, 5, 1324, 248, 302, 781, 597, 47, 252, 2425, 5, 355, 5, 35, 2426, 69, 23, 17, 36, 301, 7, 4429, 4430, 1345, 324, 33, 117, 2040, 5, 2404, 22, 852, 882, 2427, 24, 56, 346, 143, 348, 542, 69, 24, 560, 1040, 2428, 129, 278, 69, 27, 122, 5, 255, 1651, 1279, 595, 2429, 4431, 36, 1214, 557, 68, 136, 52, 329, 1329, 254, 2, 714, 4432, 43, 2430, 1039, 503, 4433, 47, 22, 1346, 36, 23, 17, 29, 511, 2329, 1452, 103, 55, 36, 2426, 69, 5, 792, 36, 808, 250, 60, 808, 92, 4434, 261, 271, 69, 130, 260, 186, 4435, 643, 1040, 71, 835, 85, 47, 47, 22, 1346, 36, 23, 17, 29, 511, 4436, 2431, 1723, 743, 4437, 607, 266, 4438, 1723, 254, 2432, 447, 934, 31, 4439, 2432, 1124, 103, 4440, 4441, 2431, 907, 818, 35, 153, 1131, 355, 4442, 220, 4, 1310, 49, 47, 19, 261, 544, 835, 614, 1347, 4443, 91, 4444, 293, 1347, 4445, 55, 1348, 4, 1342, 4446, 1723, 270, 36, 405, 1254, 391, 68, 4447, 1697, 75, 6, 2248, 4448, 1959, 4449, 424, 41, 121, 607, 1347, 4450, 1334, 35, 19, 513, 43, 809, 1029, 1719, 1720, 728, 386, 942, 625, 4451, 19, 724, 163, 67, 358, 25, 32, 635, 71, 960, 2, 1221, 136, 2203, 79, 635, 4452, 36, 74, 1332, 32, 427, 4453, 632, 1183, 196, 2002, 426, 52, 1702, 290, 2433, 956, 4454, 196, 1724, 163, 4455, 542, 4456, 4457, 3, 33, 2353, 2338, 1966, 557, 42, 635, 96, 1274, 9, 825, 247, 1579, 826, 4458, 602, 1244, 107, 278, 179, 655, 563, 331, 302, 94, 178, 2255, 458, 421, 978, 174, 447, 4459, 113, 492, 178, 2228, 751, 178, 4460, 94, 1677, 4461, 75, 6, 2434, 4462, 53, 4463, 77, 749, 655, 563, 179, 1673, 178, 4464, 751, 363, 1162, 1016, 4465, 607, 4466, 751, 22, 511, 349, 71, 625, 4467, 855, 4468, 1016, 751, 43, 781, 79, 597, 169, 189, 42, 6, 2297, 1068, 447, 1333, 116, 1349, 19, 1345, 671, 20, 19, 43, 1716, 149, 267, 234, 2, 27, 102, 41, 1725, 51, 173, 9, 27, 1058, 161, 116, 1726, 1727, 190, 394, 170, 1728, 603, 11, 837, 71, 936, 170, 1602, 544, 614, 4469, 330, 4470, 116, 1651, 559, 1349, 4471, 515, 169, 2435, 49, 64, 854, 189, 2, 6, 35, 713, 453, 81, 308, 7, 792, 52, 730, 99, 256, 51, 173, 169, 29, 857, 189, 2, 52, 887, 9, 859, 2, 1705, 647, 2436, 30, 1700, 448, 21, 2437, 167, 287, 1052, 71, 49, 2438, 2439, 7, 1643, 1556, 60, 1060, 169, 189, 2, 47, 252, 2440, 1039, 453, 206, 271, 1350, 169, 2441, 2442, 646, 1350, 1069, 2443, 84, 646, 2444, 1050, 1068, 749, 43, 1271, 9, 255, 122, 1039, 235, 1280, 7, 848, 235, 189, 2, 89, 45, 91, 187, 123, 2445, 2446, 652, 235, 189, 2, 89, 370, 235, 630, 106, 41, 678, 2, 1729, 2447, 2448, 123, 1191, 2449, 652, 624, 1070, 69, 315, 143, 558, 1437, 123, 331, 2430, 235, 2450, 630, 251, 286, 69, 888, 505, 798, 2451, 187, 798, 205, 187, 187, 241, 315, 205, 315, 187, 2452, 199, 190, 254, 2453, 546, 315, 522, 1648, 103, 123, 558, 655, 576, 62, 123, 2454, 1345, 43, 1482, 4472, 2455, 75, 6, 79, 1163, 67, 380, 67, 364, 500, 2456, 5, 4473, 114, 235, 88, 75, 6, 1528, 3, 925, 854, 75, 6, 560, 1348, 4474, 55, 559, 391, 6, 31, 678, 2, 1422, 592, 2, 36, 6, 4475, 240, 130, 260, 308, 75, 6, 560, 2384, 240, 972, 229, 41, 4476, 3, 1264, 171, 364, 500, 659, 79, 400, 2457, 79, 656, 4477, 4478, 1681, 582, 2, 18, 1018, 361, 105, 1730, 2132, 391, 43, 1219, 1348, 1323, 4, 630, 266, 4, 1027, 1731, 31, 129, 6, 925, 511, 321, 4479, 1351, 454, 546, 172, 580, 2458, 2459, 22, 3, 599, 103, 1445, 2460, 310, 1581, 64, 1346, 2461, 192, 261, 69, 27, 335, 1124, 1351, 2462, 45, 103, 2463, 69, 172, 47, 252, 2464, 2465, 2466, 172, 2467, 2468, 119, 2469, 172, 2470, 2471, 4, 2472, 172, 335, 364, 500, 4480, 351, 829, 818, 4481, 4482, 60, 364, 2473, 443, 2474, 1343, 140, 178, 73, 1344, 1730, 55, 292, 216, 346, 2475, 2476, 2477, 169, 189, 2, 2478, 88, 235, 49, 819, 92, 1250, 2479, 188, 55, 2480, 2481, 54, 107, 355, 19], [14, 302, 441, 139, 47, 302, 1567, 1275, 747, 4483, 41, 593, 61, 2395, 390, 276, 328, 217, 1714, 2397, 2396, 4484, 112, 307, 4485, 1937, 614, 4486, 61, 424, 259, 877, 214, 19, 4487, 4488, 817, 253, 687, 295, 2398, 111, 1132, 45, 454, 179, 328, 217, 4489, 647, 4490, 1251, 622, 1715, 2, 20, 107, 386, 239, 81, 358, 402, 4491, 4492, 109, 15, 4493, 472, 454, 458, 1674, 2, 27, 113, 857, 308, 1, 257, 454, 712, 53, 20, 414, 10, 1065, 71, 28, 188, 622, 1715, 728, 35, 33, 1174, 2399, 2400, 4, 322, 1505, 748, 5, 35, 190, 355, 4494, 75, 2, 196, 1458, 1188, 4495, 651, 651, 1142, 386, 1941, 4496, 1071, 71, 41, 4497, 1071, 171, 4498, 364, 1509, 4499, 7, 4500, 71, 71, 651, 292, 4501, 2401, 1345, 93, 20, 405, 47, 252, 35, 883, 20, 405, 646, 153, 1, 257, 390, 276, 2482, 722, 3, 883, 405, 20, 364, 4502, 19, 45, 557, 42, 21, 321, 20, 77, 371, 405, 4503, 93, 2335, 382, 9, 85, 1491, 2402, 1065, 28, 4504, 863, 374, 132, 275, 836, 473, 112, 786, 393, 651, 58, 92, 4505, 93, 331, 1635, 430, 2483, 2484, 20, 1135, 492, 4506, 178, 4507, 171, 96, 20, 170, 7, 59, 134, 458, 492, 178, 458, 2406, 116, 292, 165, 170, 988, 188, 18, 304, 166, 889, 2407, 4508, 2485, 195, 4509, 2408, 2409, 2410, 1713, 4, 257, 412, 1067, 1281, 74, 837, 1536, 178, 2411, 164, 643, 195, 245, 1717, 271, 20, 417, 28, 4, 1342, 748, 2412, 972, 1343, 140, 178, 73, 1344, 1067, 1427, 73, 37, 249, 1641, 602, 2413, 1246, 421, 2414, 2415, 73, 37, 357, 20, 43, 331, 4510, 922, 79, 2416, 2417, 20, 47, 252, 2418, 775, 2419, 32, 20, 37, 1459, 63, 1011, 54, 2264, 119, 88, 2420, 74, 150, 1639, 567, 35, 2421, 20, 413, 1546, 11, 13, 475, 230, 1718, 1029, 1719, 1720, 978, 104, 1688, 2422, 95, 1721, 87, 2423, 2424, 165, 1646, 866, 1722, 5, 140, 52, 265, 166, 5, 1324, 248, 567, 4511, 4512, 4513, 35, 4514, 32, 650, 2482, 4515, 267, 627, 838, 10, 424, 4516, 22, 5, 4517, 63, 1660, 4518, 4519, 43, 1271, 179, 169, 189, 2, 6, 1732, 1068, 447, 1333, 116, 1349, 19, 930, 20, 149, 267, 234, 2, 27, 102, 41, 1725, 51, 173, 9, 27, 1058, 161, 116, 1726, 1727, 190, 394, 170, 1728, 603, 11, 837, 71, 936, 170, 169, 2435, 49, 64, 854, 189, 2, 6, 35, 713, 453, 81, 308, 7, 792, 52, 730, 99, 256, 51, 173, 169, 29, 857, 189, 2, 52, 887, 9, 859, 2, 1705, 647, 2436, 30, 1700, 448, 21, 2437, 167, 287, 1052, 71, 49, 2438, 2439, 7, 1643, 1556, 60, 1060, 302, 1258, 64, 262, 255, 1279, 122, 5, 407, 235, 1280, 2456, 511, 235, 189, 2, 89, 45, 187, 123, 2445, 2446, 652, 235, 189, 2, 89, 370, 235, 630, 106, 41, 678, 2, 1729, 2447, 2448, 123, 1191, 2449, 1337, 652, 624, 1070, 69, 315, 143, 558, 1437, 123, 4520, 3, 235, 2450, 630, 251, 286, 69, 888, 505, 798, 2451, 187, 798, 205, 187, 187, 241, 315, 205, 315, 187, 2452, 199, 190, 254, 2453, 546, 315, 522, 1648, 103, 123, 558, 655, 576, 62, 123, 2454, 43, 331, 1701, 1348, 1323, 4, 630, 266, 4, 1027, 1731, 31, 129, 6, 925, 1250, 1489, 1351, 16, 1024, 454, 546, 172, 580, 2458, 2459, 22, 3, 599, 103, 1445, 2460, 310, 1581, 64, 1346, 2461, 192, 261, 69, 27, 335, 1124, 1351, 2462, 45, 103, 2463, 69, 172, 47, 252, 2464, 2465, 2466, 172, 2467, 2468, 119, 2469, 172, 2470, 2471, 4, 2472, 172, 1701, 321, 55, 1733, 4521, 1677, 65, 41, 1734, 4522, 652, 966, 935, 4523, 4524, 550, 3, 2486, 2487, 315, 1583, 2379, 70, 4525, 38, 4526, 1717, 242, 55, 4527, 62, 1735, 215, 1352, 1353, 125, 2485, 1605, 4528, 325, 2393, 762, 4529, 4530, 38, 4531, 69, 215, 4532, 4533, 1032, 1352, 4534, 1353, 241, 315, 1270, 244, 946, 325, 118, 1352, 1070, 55, 188, 311, 287, 250, 325, 2289, 4, 4535, 2, 620, 4536, 4, 4537, 62, 1735, 215, 4538, 4539, 328, 651, 41, 585, 890, 953, 2211, 1703, 184, 143, 1027, 129, 852, 2486, 2487, 1070, 457, 1892, 1353, 205, 1270, 64, 1070, 69, 123, 2337, 61, 290, 732, 1889, 4540, 643, 4541, 337, 4542, 45, 1347, 65, 4543, 4544, 3, 69, 62, 1735, 215, 55, 70, 215, 4545, 1352, 1353, 4546, 4547, 331, 302, 4548, 88, 364, 500, 7, 4549, 53, 34, 45, 364, 2473, 443, 2474, 1343, 140, 178, 73, 1344, 1730, 55, 292, 216, 346, 2475, 2476, 2477, 169, 189, 2, 2478, 88, 235, 49, 819, 92, 1250, 2479, 188, 55, 2480, 2481, 54, 107, 355, 19], [302, 47, 136, 61, 229, 57, 4550, 4551, 161, 1736, 1481, 126, 671, 27, 273, 1627, 142, 925, 246, 62, 663, 286, 32, 20, 2334, 83, 382, 132, 275, 812, 706, 117, 393, 195, 19, 8, 126, 625, 1239, 636, 458, 785, 19, 2434, 5, 4552, 328, 217, 812, 466, 707, 195, 27, 314, 1659, 4553, 441, 976, 435, 28, 2488, 39, 2489, 59, 1065, 4554, 1718, 165, 1737, 87, 1721, 2215, 11, 13, 1635, 1298, 40, 2323, 13, 397, 1738, 4555, 53, 793, 128, 24, 721, 961, 195, 126, 4556, 80, 112, 393, 114, 441, 1972, 22, 11, 214, 570, 38, 793, 142, 49, 849, 33, 169, 49, 464, 849, 23, 17, 236, 1739, 95, 1062, 2346, 3, 479, 117, 393, 1336, 60, 71, 278, 370, 33, 113, 334, 4557, 1336, 75, 4558, 53, 103, 1484, 612, 1884, 16, 831, 4559, 2128, 1277, 68, 152, 514, 54, 103, 59, 294, 2234, 902, 1176, 465, 683, 1564, 103, 67, 1190, 63, 235, 32, 49, 797, 319, 319, 382, 254, 87, 139, 4560, 18, 397, 299, 1276, 103, 20, 4561, 66, 186, 1739, 4562, 80, 23, 17, 268, 600, 61, 130, 282, 231, 1928, 793, 128, 24, 664, 2490, 1126, 318, 9], [14, 14, 83, 48, 148, 302, 1275, 616, 247, 849, 43, 403, 47, 1332, 41, 4563, 1672, 369, 4564, 47, 4565, 152, 355, 4566, 401, 153, 139, 4567, 115, 4568, 137, 1513, 386, 47, 4569, 355, 2491, 1036, 1470, 89, 41, 1734, 81, 1294, 90, 163, 1440, 59, 4570, 1253, 288, 47, 650, 20, 21, 13, 4571, 59, 4572, 126, 196, 1440, 270, 1999, 2061, 25, 4573, 1048, 855, 74, 8, 449, 19, 4574, 1002, 4575, 47, 34, 1028, 106, 41, 1734, 77, 2010, 1632, 4576, 2356, 4577, 35, 617, 1692, 503, 364, 500, 652, 278, 762, 121, 4578, 503, 1740, 1741, 1742, 31, 652, 2492, 6, 329, 89, 152, 129, 1954, 97, 254, 55, 4579, 1034, 117, 229, 84, 811, 4580, 9, 1743, 184, 503, 1740, 1741, 420, 501, 215, 172, 37, 425, 215, 172, 230, 1003, 250, 283, 286, 62, 215, 39, 798, 172, 4581, 185, 914, 482, 4582, 40, 25, 4583, 2270, 420, 501, 106, 122, 185, 205, 582, 1621, 4584, 4585, 4586, 2493, 2494, 420, 2386, 4587, 71, 4588, 4589, 112, 679, 292, 2494, 37, 425, 1888, 76, 408, 4590, 320, 529, 205, 537, 8, 1438, 277, 320, 529, 14, 126, 5, 140, 1654, 839, 675, 320, 529, 457, 529, 13, 418, 182, 47, 4591, 1422, 394, 1744, 1072, 60, 108, 1354, 891, 33, 369, 368, 82, 1233, 357, 5, 980, 170, 77, 126, 1745, 200, 2495, 4592, 814, 297, 186, 214, 411, 473, 4593, 127, 643, 14, 1588, 943, 2496, 27, 29, 5, 469, 229, 81, 401, 212, 385, 707, 159, 42, 183, 2340, 229, 57, 14, 11, 45, 403, 97, 2497, 741, 569, 183, 14, 616, 85, 36, 344, 438, 56, 32, 86, 20, 2381, 678, 76, 311, 1129, 55, 183, 185, 20, 1746, 1233, 4594, 1289, 482, 165, 1582, 170, 717, 870, 2, 417, 28, 19, 90, 299, 1276, 22, 856, 1277, 401, 47, 19, 120, 166, 411, 328, 299, 955, 438, 8, 6, 144, 2496, 27, 345, 2492, 6, 89, 7, 407, 652, 4595, 267, 578, 4596, 88, 1131, 616, 4597, 240, 48, 1740, 1741, 420, 501, 215, 172, 37, 425], [302, 227, 228, 42, 6, 35, 713, 453, 454, 81, 308, 454, 7, 792, 454, 52, 730, 99, 256, 51, 173, 169, 29, 857, 189, 2, 1586, 433, 146, 202, 243, 81, 308, 244, 2138, 57, 62, 16, 2139, 2140, 326, 455, 267, 19, 230, 58, 654, 147, 2141, 3, 99, 1025, 858, 21, 29, 3, 267, 19, 15, 587, 1563, 13, 240, 1026, 2142, 790, 297, 39, 1269, 297, 39, 502, 127, 685, 341, 500, 493, 470, 18, 234, 589, 859, 1587, 148, 195, 349, 212, 731, 6, 2, 39, 143, 212, 1588, 143, 2, 732, 1589, 606, 1590, 199, 456, 212, 606, 543, 2, 2143, 860, 361, 861, 862, 2144, 456, 212, 860, 220, 861, 30, 578, 5, 2145, 2146, 251, 2147, 361, 1002, 335, 26, 26, 461, 2148, 212, 354, 1591, 26, 631, 26, 291, 733, 58, 2149, 734, 2150, 2151, 202, 46, 98, 23, 17, 29, 1592, 212, 29, 1511, 2152, 180, 734, 2153, 18, 2154, 39, 131, 483, 212, 908, 38, 707, 1593, 2155, 161, 2156, 6, 59, 2157, 1278, 148, 982, 303, 255, 1279, 59, 122, 5, 407, 235, 1280, 114, 235, 189, 2, 89, 45, 187, 123, 7, 64, 1027, 75, 635, 105, 116, 2158, 730, 678, 2, 233, 213, 619, 358, 230, 228, 426, 838, 178, 47, 5, 278, 2159, 952, 519, 2160, 329, 729, 559, 2161, 106, 58, 212, 385, 731, 1451, 631, 1281, 82, 7, 1594, 1455, 860, 38, 1229, 153, 158, 322, 2162, 156, 72, 958, 3, 2163, 162, 2164, 2165, 180, 3, 628, 307, 47, 1595, 1282, 290, 806, 305, 1, 2166, 712, 9, 735, 283, 58, 1028, 3, 52, 1283, 60, 2167, 1284, 2, 1596, 311, 29, 38, 47, 2168, 221, 1283, 87, 1, 1243, 18, 736, 79, 55, 344, 46, 2169, 221, 354, 2170, 89, 407, 299, 2171, 163, 2172, 776, 2173, 828, 308, 60, 15, 148, 1285, 95, 384, 15, 213, 86, 54, 1286, 1597, 1284, 54, 734, 34, 143, 1598, 2174, 383, 46, 8, 6, 29, 54, 68, 964, 595, 322, 1029, 1599, 54, 309, 1531, 1535, 8, 2175, 1218, 2176, 2177, 16, 53, 545, 2178, 106, 981, 1600, 445, 184], [441, 139, 47, 302, 299, 1276, 1277, 401, 47, 44, 35, 158, 272, 153, 47, 78, 671, 1659, 1482, 630, 2498, 75, 1, 35, 1654, 49, 122, 5, 1168, 251, 1574, 2499, 299, 18, 952, 883, 20, 405, 1, 257, 771, 58, 2500, 3, 165, 4598, 4599, 1183, 125, 2483, 2484, 267, 212, 385, 42, 551, 89, 887, 277, 165, 99, 4600, 1199, 587, 502, 352, 1689, 185, 297, 245, 165, 2403, 28, 2129, 1747, 36, 405, 241, 272, 86, 240, 130, 273, 307, 405, 422, 328, 217, 241, 390, 364, 1065, 28, 405, 20, 318, 248, 1223, 538, 79, 4601, 194, 20, 405, 240, 47, 252, 949, 614, 328, 217, 1303, 2209, 390, 276, 2501, 1292, 393, 20, 14, 484, 194, 2455, 94, 2, 19, 20, 170, 1492, 142, 73, 37, 380, 94, 178, 94, 632, 178, 2502, 4602, 141, 103, 20, 170, 2252, 1001, 178, 247, 4603, 4604, 621, 4605, 4606, 4607, 47, 252, 2425, 5, 355, 5, 35, 922, 4608, 69, 23, 17, 24, 565, 22, 852, 882, 2427, 24, 56, 346, 143, 348, 542, 69, 24, 560, 1040, 2428, 129, 278, 68, 36, 1329, 268, 6, 19, 1332, 2495, 4609, 75, 6, 63, 4610, 69, 24, 191, 441, 139, 169, 189, 2, 6, 1732, 1068, 447, 1333, 116, 1349, 19, 930, 20, 149, 267, 234, 2, 27, 102, 41, 1725, 51, 173, 9, 27, 1058, 161, 116, 1726, 1727, 190, 394, 170, 1728, 603, 11, 837, 71, 936, 170, 169, 189, 2, 47, 252, 2440, 1039, 453, 206, 271, 1350, 169, 2441, 2442, 646, 1350, 1069, 2443, 84, 646, 2444, 1050, 1068, 749, 616, 299, 2488, 126, 163, 391, 4611, 24, 336, 50, 345, 2, 51, 4612, 4613, 487, 1487, 4614, 4615, 209, 1035, 17, 4616, 4617, 466, 402, 198, 17, 423, 129, 882, 971, 391, 2, 114, 487, 2503, 326, 791, 128, 24, 4618, 161, 4619, 4620, 1298, 66, 36, 4621, 6, 2504, 17, 24, 1554, 64, 366, 4622, 2505, 8, 72, 6, 48, 114, 570, 487, 4623, 128, 24, 656, 9, 214, 4624, 23, 17, 1308, 615, 268], [157, 48, 91, 553, 499, 722, 46, 98, 998, 34, 4625, 314, 4626, 624, 108, 104, 723, 843, 79, 60, 19, 4, 154, 323, 119, 45, 504, 314, 1610, 26, 4627, 695, 410, 704, 902, 237, 4, 627, 695, 451, 1411, 26, 1203, 1732, 174, 724, 79, 208, 211, 384, 99, 201, 997, 76, 19, 4628, 4629, 80, 51, 1434, 52, 76, 612, 1537, 666, 199, 555, 452, 157, 1650, 4630, 627, 18, 4, 1559, 139, 585, 99, 134, 844, 177, 146, 72, 1650, 76, 84, 342, 5, 4631, 2457, 586, 845, 846, 64, 44, 6, 4, 627, 25, 48, 4632, 1067, 51, 4, 5, 1192, 23, 624, 4633, 1448, 1217, 144, 1484, 1073, 1233, 2070, 4634, 286, 250, 17, 4635, 1073, 924, 157, 109, 23, 359, 208, 83, 772, 144, 163, 4636, 946, 683, 220, 1355, 95, 149, 725, 59, 446, 303, 194, 76, 177, 726, 1267, 727, 514, 2506, 369, 242], [91, 553, 499, 722, 46, 98, 154, 553, 499, 34, 612, 104, 723, 843, 79, 60, 19, 4, 154, 34, 201, 947, 119, 39, 1052, 60, 174, 724, 79, 208, 211, 384, 666, 199, 555, 452, 157, 384, 73, 585, 99, 134, 844, 177, 146, 1255, 15, 1486, 353, 586, 845, 846, 64, 44, 6, 4, 4637, 60, 924, 157, 109, 23, 359, 208, 83, 598, 366, 297, 1355, 95, 149, 725, 59, 446, 303, 194, 76, 177, 726, 727, 556, 850, 1936, 16, 4638, 794], [157, 2507, 48, 91, 553, 499, 722, 46, 98, 1666, 4639, 2114, 11, 4640, 2429, 1880, 1074, 475, 543, 83, 4641, 1230, 499, 1842, 2263, 104, 723, 843, 79, 60, 19, 4, 154, 723, 34, 947, 323, 119, 1075, 446, 60, 19, 202, 4642, 119, 2202, 1946, 975, 174, 724, 79, 208, 211, 1570, 4, 1748, 34, 175, 195, 1307, 201, 4643, 543, 1666, 543, 84, 1612, 645, 4644, 83, 666, 199, 555, 452, 157, 199, 384, 73, 892, 2345, 585, 99, 134, 844, 177, 146, 2508, 1452, 1017, 1255, 709, 211, 106, 122, 4645, 543, 229, 2344, 586, 845, 846, 64, 44, 6, 201, 543, 60, 4, 4646, 924, 157, 109, 23, 359, 208, 83, 4647, 2505, 37, 609, 1355, 95, 149, 725, 59, 446, 303, 194, 76, 177, 726, 727, 556, 850, 1570, 1062, 4648, 4649, 274, 1612, 4650, 4651, 232, 83, 892, 4652, 201, 408, 598, 2509, 4653, 2509, 387, 2122, 979], [14, 216, 83, 48, 740, 157, 553, 499, 722, 46, 98, 120, 154, 866, 4654, 499, 399, 4655, 737, 1243, 794, 632, 842, 8, 6, 2115, 208, 201, 636, 42, 183, 2489, 1214, 350, 1193, 6, 526, 1000, 723, 843, 79, 60, 19, 4, 120, 4656, 1929, 2, 323, 156, 92, 5, 941, 4657, 4658, 8, 6, 156, 1263, 724, 79, 208, 211, 120, 1938, 2223, 208, 108, 2117, 199, 555, 452, 157, 120, 201, 4659, 4660, 112, 187, 743, 17, 4661, 403, 432, 227, 4662, 4663, 381, 114, 1021, 156, 1263, 6, 256, 43, 275, 47, 51, 71, 99, 134, 844, 177, 146, 72, 120, 1051, 99, 2498, 1342, 227, 95, 492, 116, 2350, 1683, 632, 156, 1640, 108, 1177, 51, 5, 1703, 17, 57, 4664, 342, 4665, 1480, 80, 11, 27, 50, 408, 4666, 1626, 846, 64, 44, 6, 120, 1145, 2243, 4667, 2341, 108, 157, 109, 23, 359, 208, 83, 120, 23, 359, 947, 683, 342, 1908, 4668, 342, 637, 211, 1193, 342, 752, 23, 95, 149, 725, 59, 446, 303, 194, 76, 177, 726, 727, 556, 850, 120, 4669, 2094, 2042, 201, 4670, 4671, 725, 33, 548, 2339, 637, 311, 4672, 737, 4673, 4674, 4675, 60, 548, 613], [399, 4676, 2508, 196, 2113, 1420, 191, 242, 4677, 38, 4678, 180, 377, 196, 4679, 11, 21, 4680, 926, 394, 384, 73, 13, 1076, 156, 1640, 232, 4681, 112, 4682, 4683, 6, 59, 636, 4684, 154, 34, 4685, 38, 989, 1930, 358, 60, 839, 4, 2184, 1975, 2320, 1296, 2510, 125, 131, 1177, 776, 51, 663, 1230, 855, 4686, 637, 59, 1956, 106, 184, 591, 196, 4687, 34, 4688, 112, 1061, 543, 108, 49, 7, 2125, 4, 4689, 230, 112, 4690, 277, 201, 95, 4691, 166, 54, 368, 847, 4692, 989, 275, 855, 23, 17, 112, 430, 274, 127, 1006, 730, 49, 83, 64, 54, 377, 166, 5, 1324, 4693, 21, 1187, 16, 287, 54, 4694, 128, 24, 193, 828, 413, 4695, 350, 412, 66, 186, 391, 54, 59, 749, 492, 113, 7, 514, 38, 943, 54, 387, 683, 24, 777, 490, 2267, 2511, 4696, 1038, 4697, 1008, 295, 68, 1633, 4698, 268, 107, 179, 408, 564, 1446, 95, 8, 4699, 112, 208, 201, 333, 184, 2512, 108, 225, 1749, 34, 4700, 2376, 108, 1948, 1739, 112, 4701], [157, 2507, 48, 91, 553, 499, 722, 46, 98, 120, 14, 196, 1682, 5, 1748, 1230, 106, 231, 104, 723, 843, 79, 60, 19, 4, 120, 14, 196, 1601, 4702, 2120, 4703, 38, 4704, 19, 174, 724, 79, 208, 211, 120, 14, 4705, 108, 4706, 135, 75, 1040, 1974, 666, 199, 555, 452, 157, 120, 14, 553, 196, 499, 585, 99, 134, 844, 177, 146, 72, 120, 14, 1731, 4707, 147, 295, 136, 119, 156, 1263, 586, 845, 846, 64, 44, 6, 120, 14, 53, 476, 1587, 1750, 924, 157, 109, 23, 359, 208, 83, 120, 14, 2513, 1490, 4708, 58, 148, 429, 702, 49, 1751, 1305, 146, 202, 2257, 1355, 95, 149, 725, 59, 446, 303, 194, 76, 177, 726, 727, 120, 14, 4709, 1061, 1676, 4710, 4711, 4712, 1220, 424, 232], [14, 14, 826, 1057, 618, 1356, 1752, 1753, 1357, 826, 1057, 618, 1356, 1752, 1753, 1357, 121, 469, 214, 1, 1573, 151, 216, 967, 826, 1057, 618, 1356, 1752, 1753, 1357, 967, 14, 77, 2514, 4713, 4714, 4715, 1071, 91, 433, 1240, 11, 13, 812, 1652, 103, 1207, 104, 976, 305, 1057, 618, 1356, 1207, 4716, 1357, 812, 1652, 103, 1207, 721, 280, 433, 1754, 532, 820, 4717], [14, 14, 165, 1, 1077, 72, 6, 165, 1, 1077, 72, 6, 121, 469, 214, 1, 1573, 151, 216, 967, 165, 1, 1077, 72, 6, 967, 14, 77, 2514, 4718, 4719, 4720, 1071, 91, 976, 1299, 72, 6, 1073, 23, 17, 1663, 1078, 142, 282, 202, 1077, 104, 433, 8, 72, 6, 103, 1077, 64, 34, 629, 40, 1582, 940, 38, 117, 268, 282, 202, 16, 72, 6, 339, 2515, 805, 4721, 1148, 1078, 142, 282, 202], [14, 14, 841, 683, 886, 194, 886, 841, 683, 886, 976, 228, 78, 113, 1967, 94, 886, 841, 1957, 961, 2, 699, 433, 2, 699, 1130, 53, 185, 105, 915, 11, 13, 274, 4, 392, 1755, 4722, 476, 2491, 4723, 50, 891, 748, 5, 620, 286, 1145, 231, 2110, 13, 1453, 60, 2433, 53, 4724, 368, 1038, 163, 268, 4725, 163, 4726, 746, 112, 163, 263, 2490, 108, 4727, 1299, 4728, 1037, 1358, 706, 4729, 268, 615, 149, 1358, 4730, 392, 159, 191, 1696, 276, 100, 155, 2516, 1241, 808, 152, 68, 193, 2517, 283, 349, 211, 16, 279, 186, 122, 2045, 682, 60, 4, 2382, 2030, 1756, 210, 8, 6, 75, 129, 134, 682, 11, 841, 142, 961, 268, 2, 699, 75, 1053, 185, 53, 2518, 4731, 4732, 105, 231, 11, 2181, 279, 2, 699, 2512, 108, 4733, 26, 93, 35, 502, 340, 1171, 4734, 4735, 2506, 377, 18, 397, 112, 105, 4736, 886, 29, 2357, 186, 1475, 2504, 1218, 42, 1733, 159, 1037, 4737, 53, 488, 552, 4738, 4739, 1414, 4740, 143, 412, 80, 16, 54, 103, 1756, 1182, 16, 287, 533, 961, 256, 2, 699, 63, 339, 3, 383, 2, 4741, 1151, 1475, 4742, 4, 1748, 4743, 191, 1696, 276, 100, 155, 2516, 1241, 808, 152, 68, 193, 2517, 283, 349, 211, 129, 502, 161, 4744, 841, 4745, 1035, 441, 557, 2, 699, 2515, 1062, 50, 8, 6, 4746, 3, 186, 1689, 706, 268, 412, 105, 915, 60, 517, 1724, 380, 4747, 130, 181], [2092, 517, 4748, 4749, 753, 1757, 82, 227, 35, 4750, 535, 37, 4751, 4752, 1338, 199, 332, 2362, 455, 382, 1751, 115, 1010, 63, 141, 879, 653, 95, 4753, 28, 1692, 93, 51, 173, 738, 49, 849, 23, 17, 2518, 4754, 116, 2222, 23, 805, 4755, 1008, 121, 23, 17, 4756, 78, 53, 350, 1064, 1322, 4757, 4758, 236, 78, 53, 676, 871, 414, 11, 13, 105, 110, 327, 34, 653, 523, 871, 4759, 4760, 292, 4761, 239, 134, 60, 1258, 53, 653, 753, 1757, 130, 162, 100, 21, 1547, 498, 278, 797, 4762, 764, 53, 2519, 2520, 753, 2521, 11, 13, 285, 243, 875, 1751, 4763, 741, 310, 331, 397, 202, 22, 3, 4764, 202, 1267, 3, 4765, 980, 214, 4766, 4767, 4768, 1152, 4769, 473, 1539, 4770, 210, 893, 397, 581, 49, 298, 102, 108, 2259, 59, 4771, 4772, 1328, 109, 100, 4773, 108, 2390, 1712, 108, 1320, 241, 4774, 1186, 4775, 109, 76, 379, 231, 753, 2521, 4776, 4777, 4778, 2316, 2326, 136, 2405, 4779, 155, 653, 428, 241, 1488, 358, 1448, 21, 16, 214, 1442, 162, 653, 743, 592, 162, 407, 1244, 4780, 188, 97, 48, 2342, 39, 1079, 385, 731, 754, 4781, 220, 567, 1328, 343, 1120, 4782, 528, 1444, 1601, 4783, 2392, 1746, 1359, 18, 397, 87, 18, 135, 8, 403, 1360, 18, 1864, 24, 1559, 300, 21, 220, 87, 1328, 656, 403, 139, 80, 1973, 3, 64, 1698, 4784, 164, 4785, 4786, 334, 73, 37, 300, 30, 754, 751, 4787, 78, 1861, 119, 4788, 37, 2522, 231, 932, 4789, 1335, 4790, 125, 4791, 4792, 2027, 995, 4793, 1875, 4794, 78, 4795, 4796, 4797, 641, 4798, 710, 138, 4799, 117, 584, 4800, 653, 1361, 753, 1286, 325, 207, 57, 204, 2523, 1461, 149, 1316, 802, 127, 310, 247, 1361, 2524, 247, 2525, 151, 894, 2526, 894, 2527, 271, 2528, 894, 2529, 2530, 635, 68, 134, 963, 545, 4801, 868, 4802, 16, 4803, 1297, 227, 129, 1412, 1080, 127, 57, 204, 4804, 4805, 289, 653, 1361, 1286, 325, 207, 57, 204, 2523, 1461, 149, 1316, 802, 1441, 310, 247, 1361, 2524, 247, 2525, 151, 894, 2526, 894, 2527, 271, 2528, 894, 2529, 2530, 635, 68, 134, 963, 545, 5, 617, 17, 423, 198, 606, 38, 349, 2229, 23, 17, 4806, 33, 42, 2363, 517, 1724, 4807, 4808, 227, 980, 214, 741, 4809, 210, 1081, 4810, 3, 78, 563, 1586, 466, 87, 1852, 180, 58, 4811, 2500, 1558, 10, 4812, 178, 327, 1758, 465, 112, 351, 732, 30, 4813, 909, 1923, 185, 37, 230, 228, 4814, 1443, 4815, 119, 136, 95, 150, 1551, 2104, 4816, 11, 732, 2361, 114, 1711, 215, 4817, 172, 185, 4818, 12, 424, 8, 1438, 1729, 582, 4819, 4820, 185, 501, 1976, 457, 4821, 4822, 277, 4823, 501, 62, 193, 612, 790, 234, 2522, 4824, 2100, 150, 1537, 291, 596, 55, 183, 1733, 48, 172, 215, 300, 592, 84, 150, 414, 612, 4825, 37, 4826, 115, 4827, 64, 853, 374, 28, 1447, 65, 457, 48, 4828, 24, 55, 344, 551, 999, 381, 431, 261, 754, 4829, 4830, 195, 1759, 195, 571, 617, 163, 2531, 4831, 804, 615, 4832, 1259, 195, 2531, 197, 864, 601, 243, 81, 52, 24, 15, 148, 1750, 497, 4833, 1190, 197, 864, 369, 4834, 4835, 4836, 4837, 2236, 4838, 141, 824, 287, 1746, 819, 197, 864, 2388, 1759, 5, 1637, 338, 1750, 2355, 4839, 244, 190, 394, 4840, 4841, 197, 1759, 275, 615, 224, 4842, 1443, 4843, 498, 98, 4844, 962, 2213, 913, 4845, 640, 109, 2351, 1, 4846, 668, 266, 444, 52, 2354, 3, 839, 224, 114, 309, 24, 615, 4847, 700, 3, 318, 1467, 648, 139, 754, 751, 1285, 4848, 4849, 420, 2056, 631, 309, 1003, 5, 469, 48, 152, 885, 343, 4850, 198, 4851, 414, 4852, 37, 1295, 774, 320, 529, 675, 457, 137, 227, 228, 53, 49, 48, 130, 30, 49, 1168, 82, 4853, 1232, 4854, 4855, 58, 492, 418, 182, 34, 71, 217, 4856, 4857, 4858, 370, 2502, 182, 2251, 463, 7, 45, 138, 117, 330, 12, 653, 753, 4859, 4860, 191, 754, 1494, 2532, 45, 4861, 333, 296, 4862, 103, 4863, 4864, 505, 2186, 1693, 416, 4865, 1052, 4866, 1619, 4867, 4868, 4869, 39, 4870, 302, 4871, 2331, 24, 2532, 578, 4872, 4873, 4874, 333, 1760, 296, 4875, 71, 578, 659, 4876, 4877, 24, 2533, 4878, 113, 296, 4879, 467, 4880, 1015, 4881, 357, 31, 2127, 2, 2534, 667, 2241, 2534, 1761, 4882, 1761, 93, 2535, 2226, 2535, 1761, 24, 2533, 4883, 2039, 4884, 296, 309, 139, 24, 339, 4885, 32, 128, 24, 128, 22, 776, 4886, 4887, 24, 4888, 754, 751, 1285, 943, 4889, 2536, 4890, 4891, 335, 788, 473, 1081, 741, 4892, 1244, 1234, 1047, 4893, 2232, 4894, 4895, 392, 214, 15, 938, 904, 4896, 11, 285, 313, 684, 361, 1190, 672, 1008, 61, 1, 108, 2119, 540, 175, 78, 330, 1309, 4897, 337, 341, 72, 6, 966, 525, 130, 30, 1, 10, 370, 1118, 930, 334, 73, 24, 336, 82, 1054, 126, 343, 959, 82, 687, 580, 1235, 341, 146, 741, 183, 993, 94, 1, 1255, 4898, 309, 73, 657, 2319, 4899, 1, 158, 817, 82, 1971, 533, 334, 73, 48, 346, 179, 4900, 3, 2499, 4901, 153, 48, 244, 1298, 4902, 477, 4903, 4904, 111, 83, 4905, 38, 1296, 1, 1722, 4906, 1155, 4907, 4908, 73, 2503, 4909, 384, 1001, 2537, 4910, 1001, 181, 1868, 4911, 2537, 594, 2031, 4912, 4913, 210, 4914, 217, 4915, 4916, 2538, 4917, 4918, 673, 616, 28, 1329, 481, 2261, 82, 1141, 3, 295, 145, 15, 4919, 1658, 73, 163, 4920, 199, 1600, 108, 36, 4921, 48, 909, 676, 1736, 163, 1598, 555, 77, 371, 4922, 121, 353, 163, 40, 134, 4923, 82, 687, 4924, 1, 35, 158, 272, 153, 4925, 3, 381, 1483, 2103, 2102, 4926, 66, 2358, 4927, 993, 4928, 1, 4929, 16, 485, 2197, 2493, 380, 1756, 263, 4930, 4931, 710, 1174, 1658, 280, 456, 620, 1, 112, 228, 73, 1013, 1762, 1757, 1, 10, 2519, 2520, 753], [718, 719, 14, 14, 694, 133, 1571, 1553, 2539, 133, 398, 399, 64, 133, 1, 10, 337, 2540, 2541, 2542, 217, 673, 90, 2543, 476, 1318, 51, 173, 1548, 9, 399, 1234, 548, 396, 1, 10, 827, 591, 996, 133, 495, 828, 1235, 367, 133, 549, 135, 393, 830, 2544, 102, 2545, 701, 151, 942, 1763, 2546, 1249, 230, 1762, 638, 827, 996, 495, 1247, 549, 1004, 46, 98, 102, 830, 829, 1549, 711, 1, 10, 337, 410, 523, 78, 1236, 1, 10, 46, 98, 701, 1630, 1738, 393, 369, 200, 278, 926, 749, 1, 10, 29, 788, 367, 1297, 1037, 955, 247, 74, 965, 183, 483, 1362, 284, 1764, 75, 465, 312, 264, 209, 74, 124, 895, 312, 11, 13, 450, 264, 1321, 2547, 115, 668, 2, 264, 209, 124, 895, 159, 949, 97, 81, 11, 13, 28, 2548, 252, 2549, 264, 209, 74, 124, 2550, 3, 802, 496, 2551, 268, 563, 11, 13, 1765, 814, 318, 59, 251, 647, 1363, 334, 1656, 11, 13, 979, 89, 264, 209, 74, 124, 895, 89, 1006, 1625, 417, 28, 137, 77, 402, 460, 209, 74, 124, 539, 1260, 1363, 1678, 241, 129, 417, 28, 137, 718, 719, 14, 14, 694, 133, 1571, 1553, 2539, 133, 398, 399, 64, 133, 1, 10, 337, 2540, 2541, 2542, 217, 673, 90, 2543, 476, 1318, 51, 173, 1548, 9, 399, 1234, 548, 396, 1, 10, 827, 591, 996, 133, 495, 828, 1235, 367, 133, 549, 135, 393, 830, 2544, 102, 2545, 701, 151, 942, 1763, 2546, 1249, 230, 1762, 638, 827, 996, 495, 1247, 549, 1004, 46, 98, 102, 830, 829, 1549, 711, 1, 10, 337, 410, 523, 78, 1236, 1, 10, 46, 98, 701, 1630, 1738, 393, 369, 200, 278, 926, 749, 1, 10, 29, 788, 367, 1297, 1037, 955, 247, 74, 965, 183, 483, 1362, 284, 1764, 75, 465, 312, 264, 209, 74, 124, 895, 312, 11, 13, 450, 264, 1321, 2547, 115, 668, 2, 264, 209, 124, 895, 159, 949, 97, 81, 11, 13, 28, 2548, 252, 2549, 264, 209, 74, 124, 2550, 3, 802, 496, 2551, 268, 563, 11, 13, 1765, 814, 318, 59, 251, 647, 1363, 334, 1656, 11, 13, 979, 89, 264, 209, 74, 124, 895, 89, 1006, 1625, 417, 28, 137, 77, 402, 460, 209, 74, 124, 539, 1260, 1363, 1678, 241, 129, 417, 28, 137, 2059, 4932, 1, 1562, 398, 415, 995, 4933, 1540, 4934, 1071, 1541, 4935, 741, 48, 1562, 4936, 398, 1249, 4937, 319, 1763, 4938], [718, 719, 216, 1, 10, 619, 1364, 1, 1365, 198, 55, 36, 306, 26, 356, 478, 840, 148, 718, 719, 216, 1, 10, 619, 1364, 1, 1365, 198, 55, 36, 306, 26, 356, 478, 840, 148, 198, 55, 36, 306, 26, 356, 478, 1766, 571, 720, 219, 102, 487, 609, 107, 81, 9, 709, 497, 1082, 186, 156, 437, 983, 219, 23, 17, 46, 98, 97, 1767, 1768, 356, 429, 15, 439, 340, 950, 1769, 260, 987, 158, 261, 572, 1770, 1, 1771, 52, 1, 1772, 16, 7, 1773, 1137, 1178, 896, 242, 601, 1774, 750, 21, 29, 1775, 505, 1776, 224, 21, 1777, 704, 3, 560, 270, 540, 940, 1778, 1779, 348, 419, 337, 1780, 516, 312, 139, 514, 1169, 1781, 482, 40, 25, 11, 234, 77, 1160, 856, 1782, 150, 32, 13, 642, 370, 3, 342, 1783, 1784, 312, 30, 1313, 1785, 775, 1025, 1237, 572, 626, 1786, 218, 46, 130, 1, 527, 572, 33, 1149, 132, 1, 667, 1787, 132, 990, 437, 1788, 896, 21, 135, 566, 439, 1, 564, 1326, 97, 206, 130, 714, 129, 245, 131, 1083, 645, 300, 21, 240, 1789, 493, 376, 36, 22, 1790, 439, 1, 10, 8, 1331, 1, 1172, 1791, 15, 124, 718, 719, 216, 1, 10, 619, 1364, 1, 1365, 198, 55, 36, 306, 26, 356, 478, 840, 148, 198, 55, 36, 306, 26, 356, 478, 1766, 571, 720, 219, 102, 487, 609, 107, 81, 9, 709, 497, 1082, 186, 156, 437, 983, 219, 23, 17, 46, 98, 97, 1767, 1768, 356, 429, 15, 439, 340, 950, 1769, 260, 987, 158, 261, 572, 1770, 1, 1771, 52, 1, 1772, 16, 7, 1773, 1137, 1178, 896, 242, 601, 1774, 750, 21, 29, 1775, 505, 1776, 224, 21, 1777, 704, 3, 560, 270, 540, 940, 1778, 1779, 348, 419, 337, 1780, 516, 312, 139, 514, 1169, 1781, 482, 40, 25, 11, 234, 77, 1160, 856, 1782, 150, 32, 13, 642, 370, 3, 342, 1783, 1784, 312, 30, 1313, 1785, 775, 1025, 1237, 572, 626, 1786, 218, 46, 130, 1, 527, 572, 33, 1149, 132, 1, 667, 1787, 132, 990, 437, 1788, 896, 21, 135, 566, 439, 1, 564, 1326, 97, 206, 130, 714, 129, 245, 131, 1083, 645, 300, 21, 240, 1789, 493, 376, 36, 22, 1790, 439, 1, 10, 8, 1331, 1, 1172, 1791, 15, 124, 1685, 28, 137, 260, 778, 18, 51, 173, 460, 989, 51, 1257, 26, 50, 750, 2552, 2553, 1555, 200, 80, 648, 308, 13, 2554, 204, 46, 98, 68, 945, 1, 10, 637, 2555, 151, 737, 216, 2556, 554, 201, 2557, 892, 91, 1568, 349, 2558, 15, 340, 825, 485, 1, 2559, 365, 4, 489, 150, 162, 806, 51, 173, 2560, 4, 1278, 28, 2561, 137, 2562, 9, 68, 1569, 339, 149, 1642, 296, 219, 5, 140, 225, 2563, 37, 95, 2564, 1307, 847, 66, 752, 1611, 467, 11, 1018, 2565, 1792, 562, 33, 2566, 1141, 1793, 1075, 1684, 1366, 68, 34, 1794, 4, 144, 377, 1358, 18, 397, 1366, 68, 1264, 1463, 2567, 185, 18, 397, 109, 266, 1406, 4, 489, 358, 1367, 109, 200, 2568, 4, 565, 30, 568, 4, 2569, 491, 984, 2570, 2571, 358, 2572, 109, 350, 516, 4, 2573, 246, 62, 1335, 1017, 1423, 2574, 248, 69, 2575, 349, 206, 984, 248, 2576, 1223, 10, 300, 69, 1657, 2577, 366, 705, 25, 46, 242, 623, 21, 33, 2578, 530, 5, 140, 824, 2579, 10, 50, 393, 356, 106, 443, 2580, 7, 2581, 871, 223, 135, 709, 497, 681, 245, 1203, 2582, 300, 111, 21, 2583, 132, 246, 824, 501, 245, 1196, 718, 719, 216, 1, 10, 619, 1364, 1, 1365, 198, 55, 36, 306, 26, 356, 478, 840, 148, 198, 55, 36, 306, 26, 356, 478, 1766, 571, 720, 219, 102, 487, 609, 107, 81, 9, 709, 497, 1082, 186, 156, 437, 983, 219, 23, 17, 46, 98, 97, 1767, 1768, 356, 429, 15, 439, 340, 950, 1769, 260, 987, 158, 261, 572, 1770, 1, 1771, 52, 1, 1772, 16, 7, 1773, 1137, 1178, 896, 242, 601, 1774, 750, 21, 29, 1775, 505, 1776, 224, 21, 1777, 704, 3, 560, 270, 540, 940, 1778, 1779, 348, 419, 337, 1780, 516, 312, 139, 514, 1169, 1781, 482, 40, 25, 11, 234, 77, 1160, 856, 1782, 150, 32, 13, 642, 370, 3, 342, 1783, 1784, 312, 30, 1313, 1785, 775, 1025, 1237, 572, 626, 1786, 218, 46, 130, 1, 527, 572, 33, 1149, 132, 1, 667, 1787, 132, 990, 437, 1788, 896, 21, 135, 566, 439, 1, 564, 1326, 97, 206, 130, 714, 129, 245, 131, 1083, 645, 300, 21, 240, 1789, 493, 376, 36, 22, 1790, 439, 1, 10, 8, 1331, 1, 1172, 1791, 15, 124, 1685, 28, 137, 260, 778, 18, 51, 173, 460, 989, 51, 1257, 26, 50, 750, 2552, 2553, 1555, 200, 80, 648, 308, 13, 2554, 204, 46, 98, 68, 945, 1, 10, 637, 2555, 151, 737, 216, 2556, 554, 201, 2557, 892, 91, 1568, 349, 2558, 15, 340, 825, 485, 1, 2559, 365, 4, 489, 150, 162, 806, 51, 173, 2560, 4, 1278, 28, 2561, 137, 2562, 9, 68, 1569, 339, 149, 1642, 296, 219, 5, 140, 225, 2563, 37, 95, 2564, 1307, 847, 66, 752, 1611, 467, 11, 1018, 2565, 1792, 562, 33, 2566, 1141, 1793, 1075, 1684, 1366, 68, 34, 1794, 4, 144, 377, 1358, 18, 397, 1366, 68, 1264, 1463, 2567, 185, 18, 397, 109, 266, 1406, 4, 489, 358, 1367, 109, 200, 2568, 4, 565, 30, 568, 4, 2569, 491, 984, 2570, 2571, 358, 2572, 109, 350, 516, 4, 2573, 246, 62, 1335, 1017, 1423, 2574, 248, 69, 2575, 349, 206, 984, 248, 2576, 1223, 10, 300, 69, 1657, 2577, 366, 705, 25, 46, 242, 623, 21, 33, 2578, 530, 5, 140, 824, 2579, 10, 50, 393, 356, 106, 443, 2580, 7, 2581, 871, 223, 135, 709, 497, 681, 245, 1203, 2582, 300, 111, 21, 2583, 132, 246, 824, 501, 245, 1196, 114, 1, 489, 23, 17, 432, 4939, 4940, 1594, 4941, 4942, 4943, 121, 1943, 4944, 4945, 4946, 30, 10, 4947, 4948, 1585, 2584, 4949, 550, 26, 1310, 30, 130, 1, 10, 2584, 14, 4950, 4951, 4952, 1924, 4953, 626, 14, 1912, 2237, 4954, 4955, 1795, 120, 1792, 1795, 2060, 1795, 1793, 1, 2387, 4956, 1794, 4, 4957, 4958, 4959, 4960, 4961, 4962, 978, 91, 1512, 666, 626, 4963, 2536, 562], [83, 554, 1268, 1019, 1020, 740, 2585, 139, 47, 885, 14, 100, 44, 35, 153, 100, 1248, 31, 506, 153, 613, 440, 276, 100, 48, 426, 427, 1306, 3, 803, 36, 2586, 8, 322, 35, 153, 100, 2587, 231, 1048, 2588, 2589, 591, 391, 88, 116, 865, 503, 542, 276, 503, 534, 1303, 2590, 271, 88, 772, 599, 116, 865, 303, 42, 1053, 31, 506, 7, 523, 188, 15, 2591, 76, 617, 2592, 649, 2593, 2594, 490, 2595, 88, 810, 669, 194, 2596, 2597, 100, 2598, 107, 231, 109, 2599, 2600, 111, 401, 350, 386, 82, 1054, 1061, 500, 92, 2601, 121, 400, 703, 537, 61, 2602, 423, 555, 2603, 1367, 981, 84, 2604, 1747, 525, 276, 816, 885, 63, 1254, 35, 73, 1, 100, 234, 138, 357, 1745, 466, 2605, 1675, 150, 162, 2606, 715, 404, 711, 1082, 402, 1691, 742, 126, 1760, 1042, 1466, 471, 752, 160, 336, 181, 175, 329, 1704, 1737, 2607, 113, 1256, 65, 90, 150, 162, 138, 2608, 335, 466, 52, 2609, 1653, 1362, 833, 2610, 1686, 253, 1, 294, 365, 1623, 8, 44, 164, 265, 236, 62, 2611, 525, 1565, 401, 2612, 5, 2613, 494, 833, 470, 649, 674, 300, 80, 162, 2614, 2615, 696, 82, 353, 100, 385, 731, 395, 117, 1743, 487, 30, 2616, 391, 859, 55, 31, 506, 810, 325, 1584, 956, 115, 268, 30, 27, 294, 2617, 288, 65, 42, 663, 71, 1272, 1023, 2618, 494, 1208, 853, 374, 2619, 115, 243, 2620, 3, 1749, 171, 1021, 18, 732, 30, 76, 31, 506, 153, 48, 426, 427, 1334, 22, 533, 2621, 360, 197, 870, 2, 1580, 31, 423, 85, 1476, 74, 44, 83, 554, 1268, 1019, 1020, 740, 2585, 139, 47, 885, 14, 100, 44, 35, 153, 100, 1248, 31, 506, 153, 613, 440, 276, 100, 48, 426, 427, 1306, 3, 803, 36, 2586, 8, 322, 35, 153, 100, 2587, 231, 1048, 2588, 2589, 591, 391, 88, 116, 865, 503, 542, 276, 503, 534, 1303, 2590, 271, 88, 772, 599, 116, 865, 303, 42, 1053, 31, 506, 7, 523, 188, 15, 2591, 76, 617, 2592, 649, 2593, 2594, 490, 2595, 88, 810, 669, 194, 2596, 2597, 100, 2598, 107, 231, 109, 2599, 2600, 111, 401, 350, 386, 82, 1054, 1061, 500, 92, 2601, 121, 400, 703, 537, 61, 2602, 423, 555, 2603, 1367, 981, 84, 2604, 1747, 525, 276, 816, 885, 63, 1254, 35, 73, 1, 100, 234, 138, 357, 1745, 466, 2605, 1675, 150, 162, 2606, 715, 404, 711, 1082, 402, 1691, 742, 126, 1760, 1042, 1466, 471, 752, 160, 336, 181, 175, 329, 1704, 1737, 2607, 113, 1256, 65, 90, 150, 162, 138, 2608, 335, 466, 52, 2609, 1653, 1362, 833, 2610, 1686, 253, 1, 294, 365, 1623, 8, 44, 164, 265, 236, 62, 2611, 525, 1565, 401, 2612, 5, 2613, 494, 833, 470, 649, 674, 300, 80, 162, 2614, 2615, 696, 82, 353, 100, 385, 731, 395, 117, 1743, 487, 30, 2616, 391, 859, 55, 31, 506, 810, 325, 1584, 956, 115, 268, 30, 27, 294, 2617, 288, 65, 42, 663, 71, 1272, 1023, 2618, 494, 1208, 853, 374, 2619, 115, 243, 2620, 3, 1749, 171, 1021, 18, 732, 30, 76, 31, 506, 153, 48, 426, 427, 1334, 22, 533, 2621, 360, 197, 870, 2, 1580, 31, 423, 85, 1476, 74, 44, 2, 31, 676, 960, 99, 142, 4964, 4965, 254, 4966, 1171, 109, 62, 86, 4967, 118, 93, 21, 75, 4968, 1796, 62, 100, 2538, 459, 712, 1668, 140, 449, 30, 307, 4969, 4970, 44, 4971, 403, 18, 4972, 42, 48, 426, 427, 2497, 341, 105, 86, 20, 21, 4973, 4974, 1487, 374, 2136, 28, 2134, 2, 27, 309, 139, 496, 680, 1764, 2231, 292, 557, 42, 183, 483, 75, 1796, 15, 100, 2501, 786, 1034, 303, 774, 86, 20, 21, 213, 15, 275, 4975, 21, 63, 4976, 75, 1796, 1736, 207, 715, 116, 74, 2126, 4977, 1485, 965, 137, 71], [48, 544, 644, 218, 79, 23, 17, 43, 452, 23, 17, 359, 449, 19, 29, 38, 507, 388, 1084, 1085, 32, 123, 451, 552, 30, 568, 18, 138, 206, 59, 25, 101, 7, 1086, 1087, 82, 1088, 3, 39, 360, 88, 30, 1089, 650, 269, 39, 360, 88, 30, 623, 304, 708, 1090, 61, 123, 1091, 18, 166, 361, 61, 508, 125, 1092, 739, 872, 640, 4, 889, 634, 18, 1093, 1094, 111, 4, 594, 700, 388, 395, 490, 1095, 1096, 1097, 1098, 114, 145, 354, 508, 37, 747, 41, 29, 38, 507, 459, 7, 670, 167, 164, 126, 768, 26, 363, 1099, 372, 440, 35, 1, 158, 1100, 890, 1101, 1102, 1103, 104, 1104, 343, 1105, 1, 867, 686, 290, 1106, 307, 733, 880, 1107, 327, 610, 735, 9, 1108, 600, 167, 164, 815, 121, 475, 7, 16, 1, 257, 101, 7, 1109, 566, 167, 164, 884, 26, 502, 352, 42, 89, 496, 551, 119, 197, 365, 21, 11, 6, 256, 91, 177, 24, 101, 605, 90, 534, 146, 379, 480, 80, 175, 152, 1110, 32, 49, 131, 75, 893, 33, 608, 1111, 340, 745, 799, 93, 192, 6, 256, 166, 873, 34, 738, 1112, 210, 196, 1113, 330, 378, 1114, 82, 807, 504, 531, 1115, 193, 294, 54, 693, 65, 66, 118, 33, 1116, 154, 220, 874, 25, 155, 362, 48, 544, 644, 218, 79, 23, 17, 43, 452, 23, 17, 359, 449, 19, 29, 38, 507, 388, 1084, 1085, 32, 123, 451, 552, 30, 568, 18, 138, 206, 59, 25, 101, 7, 1086, 1087, 82, 1088, 3, 39, 360, 88, 30, 1089, 650, 269, 39, 360, 88, 30, 623, 304, 708, 1090, 61, 123, 1091, 18, 166, 361, 61, 508, 125, 1092, 739, 872, 640, 4, 889, 634, 18, 1093, 1094, 111, 4, 594, 700, 388, 395, 490, 1095, 1096, 1097, 1098, 114, 145, 354, 508, 37, 747, 41, 29, 38, 507, 459, 7, 670, 167, 164, 126, 768, 26, 363, 1099, 372, 440, 35, 1, 158, 1100, 890, 1101, 1102, 1103, 104, 1104, 343, 1105, 1, 867, 686, 290, 1106, 307, 733, 880, 1107, 327, 610, 735, 9, 1108, 600, 167, 164, 815, 121, 475, 7, 16, 1, 257, 101, 7, 1109, 566, 167, 164, 884, 26, 502, 352, 42, 89, 496, 551, 119, 197, 365, 21, 11, 6, 256, 91, 177, 24, 101, 605, 90, 534, 146, 379, 480, 80, 175, 152, 1110, 32, 49, 131, 75, 893, 33, 608, 1111, 340, 745, 799, 93, 192, 6, 256, 166, 873, 34, 738, 1112, 210, 196, 1113, 330, 378, 1114, 82, 807, 504, 531, 1115, 193, 294, 54, 693, 65, 66, 118, 33, 1116, 154, 220, 874, 25, 155, 362, 104, 689, 481, 147, 19, 524, 37, 85, 800, 801, 147, 1368, 377, 1033, 6, 564, 875, 1369, 1370, 769, 1043, 937, 744, 44, 338, 2, 648, 3, 275, 1371, 18, 1076, 99, 98, 1074, 310, 207, 261, 404, 1372, 150, 157, 257, 1373, 1, 1374, 32, 419, 437, 742, 81, 100, 1375, 26, 1376, 628, 1377, 642, 305, 6, 184, 141, 249, 1378, 25, 61, 1379, 8, 1380, 479, 459, 44, 2, 787, 1055, 156, 1056, 125, 891, 313, 977, 336, 1381, 858, 455, 1382, 277, 1383, 311, 1384, 1385, 66, 729, 746, 198, 486, 365, 383, 6, 24, 540, 1386, 3, 65, 255, 755, 58, 314, 756, 8, 72, 6, 341, 141, 232, 41, 881, 35, 128, 1387, 1388, 1389, 221, 89, 1079, 1390, 1391, 392, 213, 191, 757, 36, 269, 122, 351, 1392, 9, 221, 114, 89, 52, 1393, 122, 1080, 9, 968, 36, 122, 1394, 3, 67, 176, 8, 72, 6, 1066, 155, 868, 111, 4, 1395, 1396, 296, 1049, 571, 1397, 129, 992, 145, 66, 639, 561, 509, 174, 347, 144, 67, 176, 1045, 43, 556, 97, 1398, 43, 1399, 5, 613, 319, 1400, 399, 1401, 48, 544, 644, 218, 79, 23, 17, 43, 452, 23, 17, 359, 449, 19, 29, 38, 507, 388, 1084, 1085, 32, 123, 451, 552, 30, 568, 18, 138, 206, 59, 25, 101, 7, 1086, 1087, 82, 1088, 3, 39, 360, 88, 30, 1089, 650, 269, 39, 360, 88, 30, 623, 304, 708, 1090, 61, 123, 1091, 18, 166, 361, 61, 508, 125, 1092, 739, 872, 640, 4, 889, 634, 18, 1093, 1094, 111, 4, 594, 700, 388, 395, 490, 1095, 1096, 1097, 1098, 114, 145, 354, 508, 37, 747, 41, 29, 38, 507, 459, 7, 670, 167, 164, 126, 768, 26, 363, 1099, 372, 440, 35, 1, 158, 1100, 890, 1101, 1102, 1103, 104, 1104, 343, 1105, 1, 867, 686, 290, 1106, 307, 733, 880, 1107, 327, 610, 735, 9, 1108, 600, 167, 164, 815, 121, 475, 7, 16, 1, 257, 101, 7, 1109, 566, 167, 164, 884, 26, 502, 352, 42, 89, 496, 551, 119, 197, 365, 21, 11, 6, 256, 91, 177, 24, 101, 605, 90, 534, 146, 379, 480, 80, 175, 152, 1110, 32, 49, 131, 75, 893, 33, 608, 1111, 340, 745, 799, 93, 192, 6, 256, 166, 873, 34, 738, 1112, 210, 196, 1113, 330, 378, 1114, 82, 807, 504, 531, 1115, 193, 294, 54, 693, 65, 66, 118, 33, 1116, 154, 220, 874, 25, 155, 362, 104, 689, 481, 147, 19, 524, 37, 85, 800, 801, 147, 1368, 377, 1033, 6, 564, 875, 1369, 1370, 769, 1043, 937, 744, 44, 338, 2, 648, 3, 275, 1371, 18, 1076, 99, 98, 1074, 310, 207, 261, 404, 1372, 150, 157, 257, 1373, 1, 1374, 32, 419, 437, 742, 81, 100, 1375, 26, 1376, 628, 1377, 642, 305, 6, 184, 141, 249, 1378, 25, 61, 1379, 8, 1380, 479, 459, 44, 2, 787, 1055, 156, 1056, 125, 891, 313, 977, 336, 1381, 858, 455, 1382, 277, 1383, 311, 1384, 1385, 66, 729, 746, 198, 486, 365, 383, 6, 24, 540, 1386, 3, 65, 255, 755, 58, 314, 756, 8, 72, 6, 341, 141, 232, 41, 881, 35, 128, 1387, 1388, 1389, 221, 89, 1079, 1390, 1391, 392, 213, 191, 757, 36, 269, 122, 351, 1392, 9, 221, 114, 89, 52, 1393, 122, 1080, 9, 968, 36, 122, 1394, 3, 67, 176, 8, 72, 6, 1066, 155, 868, 111, 4, 1395, 1396, 296, 1049, 571, 1397, 129, 992, 145, 66, 639, 561, 509, 174, 347, 144, 67, 176, 1045, 43, 556, 97, 1398, 43, 1399, 5, 613, 319, 1400, 399, 1401, 348, 192, 743, 550, 36, 269, 67, 1341, 232, 622, 1797, 113, 291, 547, 611, 1798, 567, 1314, 34, 1799, 541, 323, 944, 1161, 67, 1800, 380, 1801, 526, 136, 96, 42, 183, 479, 87, 957, 80, 176, 4, 1044, 121, 332, 90, 116, 1802, 96, 948, 4, 1803, 602, 225, 848, 601, 334, 73, 25, 321, 165, 127, 1804, 897, 636, 295, 436, 1805, 1806, 1807, 706, 1330, 9, 221, 898, 899, 509, 191, 331, 1808, 1304, 60, 1078, 93, 383, 1809, 362, 1810, 898, 899, 509, 590, 305, 6, 294, 254, 2, 13, 1811, 1812, 823, 309, 1813, 55, 292, 28, 1041, 304, 702, 1814, 101, 31, 63, 7, 603, 661, 26, 432, 1815, 1816, 11, 34, 1325, 31, 63, 1817, 1818, 900, 888, 505, 262, 782, 1069, 900, 460, 73, 345, 321, 111, 20, 26, 109, 243, 590, 113, 1819, 147, 297, 186, 897, 108, 1820, 26, 851, 923, 757, 25, 155, 362, 1159, 344, 595, 444, 6, 25, 887, 438, 717, 832, 313, 573, 1024, 1359, 545, 570, 863, 638, 105, 313, 679, 573, 403, 1360, 569, 1821, 88, 127, 11, 1063, 1822, 1823, 1327, 569, 660, 901, 1824, 901, 473, 1081, 438, 660, 435, 28, 404, 146, 8, 6, 1825, 323, 152, 842, 136, 1826, 233, 1827, 756, 1828, 381, 1036, 277, 211, 58, 2, 519, 526, 573, 755, 58, 87, 56, 181, 1829, 48, 544, 644, 218, 79, 23, 17, 43, 452, 23, 17, 359, 449, 19, 29, 38, 507, 388, 1084, 1085, 32, 123, 451, 552, 30, 568, 18, 138, 206, 59, 25, 101, 7, 1086, 1087, 82, 1088, 3, 39, 360, 88, 30, 1089, 650, 269, 39, 360, 88, 30, 623, 304, 708, 1090, 61, 123, 1091, 18, 166, 361, 61, 508, 125, 1092, 739, 872, 640, 4, 889, 634, 18, 1093, 1094, 111, 4, 594, 700, 388, 395, 490, 1095, 1096, 1097, 1098, 114, 145, 354, 508, 37, 747, 41, 29, 38, 507, 459, 7, 670, 167, 164, 126, 768, 26, 363, 1099, 372, 440, 35, 1, 158, 1100, 890, 1101, 1102, 1103, 104, 1104, 343, 1105, 1, 867, 686, 290, 1106, 307, 733, 880, 1107, 327, 610, 735, 9, 1108, 600, 167, 164, 815, 121, 475, 7, 16, 1, 257, 101, 7, 1109, 566, 167, 164, 884, 26, 502, 352, 42, 89, 496, 551, 119, 197, 365, 21, 11, 6, 256, 91, 177, 24, 101, 605, 90, 534, 146, 379, 480, 80, 175, 152, 1110, 32, 49, 131, 75, 893, 33, 608, 1111, 340, 745, 799, 93, 192, 6, 256, 166, 873, 34, 738, 1112, 210, 196, 1113, 330, 378, 1114, 82, 807, 504, 531, 1115, 193, 294, 54, 693, 65, 66, 118, 33, 1116, 154, 220, 874, 25, 155, 362, 104, 689, 481, 147, 19, 524, 37, 85, 800, 801, 147, 1368, 377, 1033, 6, 564, 875, 1369, 1370, 769, 1043, 937, 744, 44, 338, 2, 648, 3, 275, 1371, 18, 1076, 99, 98, 1074, 310, 207, 261, 404, 1372, 150, 157, 257, 1373, 1, 1374, 32, 419, 437, 742, 81, 100, 1375, 26, 1376, 628, 1377, 642, 305, 6, 184, 141, 249, 1378, 25, 61, 1379, 8, 1380, 479, 459, 44, 2, 787, 1055, 156, 1056, 125, 891, 313, 977, 336, 1381, 858, 455, 1382, 277, 1383, 311, 1384, 1385, 66, 729, 746, 198, 486, 365, 383, 6, 24, 540, 1386, 3, 65, 255, 755, 58, 314, 756, 8, 72, 6, 341, 141, 232, 41, 881, 35, 128, 1387, 1388, 1389, 221, 89, 1079, 1390, 1391, 392, 213, 191, 757, 36, 269, 122, 351, 1392, 9, 221, 114, 89, 52, 1393, 122, 1080, 9, 968, 36, 122, 1394, 3, 67, 176, 8, 72, 6, 1066, 155, 868, 111, 4, 1395, 1396, 296, 1049, 571, 1397, 129, 992, 145, 66, 639, 561, 509, 174, 347, 144, 67, 176, 1045, 43, 556, 97, 1398, 43, 1399, 5, 613, 319, 1400, 399, 1401, 348, 192, 743, 550, 36, 269, 67, 1341, 232, 622, 1797, 113, 291, 547, 611, 1798, 567, 1314, 34, 1799, 541, 323, 944, 1161, 67, 1800, 380, 1801, 526, 136, 96, 42, 183, 479, 87, 957, 80, 176, 4, 1044, 121, 332, 90, 116, 1802, 96, 948, 4, 1803, 602, 225, 848, 601, 334, 73, 25, 321, 165, 127, 1804, 897, 636, 295, 436, 1805, 1806, 1807, 706, 1330, 9, 221, 898, 899, 509, 191, 331, 1808, 1304, 60, 1078, 93, 383, 1809, 362, 1810, 898, 899, 509, 590, 305, 6, 294, 254, 2, 13, 1811, 1812, 823, 309, 1813, 55, 292, 28, 1041, 304, 702, 1814, 101, 31, 63, 7, 603, 661, 26, 432, 1815, 1816, 11, 34, 1325, 31, 63, 1817, 1818, 900, 888, 505, 262, 782, 1069, 900, 460, 73, 345, 321, 111, 20, 26, 109, 243, 590, 113, 1819, 147, 297, 186, 897, 108, 1820, 26, 851, 923, 757, 25, 155, 362, 1159, 344, 595, 444, 6, 25, 887, 438, 717, 832, 313, 573, 1024, 1359, 545, 570, 863, 638, 105, 313, 679, 573, 403, 1360, 569, 1821, 88, 127, 11, 1063, 1822, 1823, 1327, 569, 660, 901, 1824, 901, 473, 1081, 438, 660, 435, 28, 404, 146, 8, 6, 1825, 323, 152, 842, 136, 1826, 233, 1827, 756, 1828, 381, 1036, 277, 211, 58, 2, 519, 526, 573, 755, 58, 87, 56, 181, 1829, 211, 1758, 311, 2622, 349, 1754, 18, 1609, 752, 87, 2623, 2, 27, 626, 2624, 87, 1128, 2625, 6, 2, 350, 2, 27, 538, 26, 1274, 2626, 32, 428, 30, 431, 2627, 211, 5, 598, 497, 25, 266, 38, 338, 428, 56, 2, 332, 1083, 1315, 744, 892, 145, 6, 94, 249, 876, 1252, 41, 878, 107, 2628, 396, 334, 19, 1320, 332, 36, 2629, 570, 2630, 5, 941, 81, 100, 141, 326, 136, 152, 36, 269, 2631, 541, 796, 436, 49, 131, 72, 1636, 113, 504, 24, 336, 1051, 335, 721, 8, 72, 6, 4, 125, 2632, 55, 604, 291, 596, 2, 2633, 65, 1690, 251, 647, 1629, 494, 105, 86, 20, 21, 13, 2634, 2635, 120, 2636, 175, 323, 152, 219, 229, 877, 363, 2637, 2638, 2639, 52, 136, 1075, 2640, 1457, 17, 368, 36, 33, 304, 2641, 1744, 1072, 127, 227, 366, 2642, 535, 332, 2643, 2644, 2645, 372, 440, 390, 1, 2646, 692, 431, 2647, 1073, 33, 1432, 785, 8, 2648, 1072, 42, 2649, 1226, 11, 108, 1354, 1649, 127, 17, 698, 1755, 272, 72, 357, 2650, 184, 804, 17, 698, 511, 2651, 2652, 282, 194, 231, 184, 134, 1742, 954, 298, 691, 2653, 2654, 2655, 7, 16, 8, 448, 34, 382, 2656, 78, 330, 184, 2657, 2658, 84, 78, 2659, 771, 467, 1322, 2660, 2661, 604, 2662, 2663, 562, 346, 22, 54, 17, 698, 48, 544, 644, 218, 79, 23, 17, 43, 452, 23, 17, 359, 449, 19, 29, 38, 507, 388, 1084, 1085, 32, 123, 451, 552, 30, 568, 18, 138, 206, 59, 25, 101, 7, 1086, 1087, 82, 1088, 3, 39, 360, 88, 30, 1089, 650, 269, 39, 360, 88, 30, 623, 304, 708, 1090, 61, 123, 1091, 18, 166, 361, 61, 508, 125, 1092, 739, 872, 640, 4, 889, 634, 18, 1093, 1094, 111, 4, 594, 700, 388, 395, 490, 1095, 1096, 1097, 1098, 114, 145, 354, 508, 37, 747, 41, 29, 38, 507, 459, 7, 670, 167, 164, 126, 768, 26, 363, 1099, 372, 440, 35, 1, 158, 1100, 890, 1101, 1102, 1103, 104, 1104, 343, 1105, 1, 867, 686, 290, 1106, 307, 733, 880, 1107, 327, 610, 735, 9, 1108, 600, 167, 164, 815, 121, 475, 7, 16, 1, 257, 101, 7, 1109, 566, 167, 164, 884, 26, 502, 352, 42, 89, 496, 551, 119, 197, 365, 21, 11, 6, 256, 91, 177, 24, 101, 605, 90, 534, 146, 379, 480, 80, 175, 152, 1110, 32, 49, 131, 75, 893, 33, 608, 1111, 340, 745, 799, 93, 192, 6, 256, 166, 873, 34, 738, 1112, 210, 196, 1113, 330, 378, 1114, 82, 807, 504, 531, 1115, 193, 294, 54, 693, 65, 66, 118, 33, 1116, 154, 220, 874, 25, 155, 362, 104, 689, 481, 147, 19, 524, 37, 85, 800, 801, 147, 1368, 377, 1033, 6, 564, 875, 1369, 1370, 769, 1043, 937, 744, 44, 338, 2, 648, 3, 275, 1371, 18, 1076, 99, 98, 1074, 310, 207, 261, 404, 1372, 150, 157, 257, 1373, 1, 1374, 32, 419, 437, 742, 81, 100, 1375, 26, 1376, 628, 1377, 642, 305, 6, 184, 141, 249, 1378, 25, 61, 1379, 8, 1380, 479, 459, 44, 2, 787, 1055, 156, 1056, 125, 891, 313, 977, 336, 1381, 858, 455, 1382, 277, 1383, 311, 1384, 1385, 66, 729, 746, 198, 486, 365, 383, 6, 24, 540, 1386, 3, 65, 255, 755, 58, 314, 756, 8, 72, 6, 341, 141, 232, 41, 881, 35, 128, 1387, 1388, 1389, 221, 89, 1079, 1390, 1391, 392, 213, 191, 757, 36, 269, 122, 351, 1392, 9, 221, 114, 89, 52, 1393, 122, 1080, 9, 968, 36, 122, 1394, 3, 67, 176, 8, 72, 6, 1066, 155, 868, 111, 4, 1395, 1396, 296, 1049, 571, 1397, 129, 992, 145, 66, 639, 561, 509, 174, 347, 144, 67, 176, 1045, 43, 556, 97, 1398, 43, 1399, 5, 613, 319, 1400, 399, 1401, 348, 192, 743, 550, 36, 269, 67, 1341, 232, 622, 1797, 113, 291, 547, 611, 1798, 567, 1314, 34, 1799, 541, 323, 944, 1161, 67, 1800, 380, 1801, 526, 136, 96, 42, 183, 479, 87, 957, 80, 176, 4, 1044, 121, 332, 90, 116, 1802, 96, 948, 4, 1803, 602, 225, 848, 601, 334, 73, 25, 321, 165, 127, 1804, 897, 636, 295, 436, 1805, 1806, 1807, 706, 1330, 9, 221, 898, 899, 509, 191, 331, 1808, 1304, 60, 1078, 93, 383, 1809, 362, 1810, 898, 899, 509, 590, 305, 6, 294, 254, 2, 13, 1811, 1812, 823, 309, 1813, 55, 292, 28, 1041, 304, 702, 1814, 101, 31, 63, 7, 603, 661, 26, 432, 1815, 1816, 11, 34, 1325, 31, 63, 1817, 1818, 900, 888, 505, 262, 782, 1069, 900, 460, 73, 345, 321, 111, 20, 26, 109, 243, 590, 113, 1819, 147, 297, 186, 897, 108, 1820, 26, 851, 923, 757, 25, 155, 362, 1159, 344, 595, 444, 6, 25, 887, 438, 717, 832, 313, 573, 1024, 1359, 545, 570, 863, 638, 105, 313, 679, 573, 403, 1360, 569, 1821, 88, 127, 11, 1063, 1822, 1823, 1327, 569, 660, 901, 1824, 901, 473, 1081, 438, 660, 435, 28, 404, 146, 8, 6, 1825, 323, 152, 842, 136, 1826, 233, 1827, 756, 1828, 381, 1036, 277, 211, 58, 2, 519, 526, 573, 755, 58, 87, 56, 181, 1829, 211, 1758, 311, 2622, 349, 1754, 18, 1609, 752, 87, 2623, 2, 27, 626, 2624, 87, 1128, 2625, 6, 2, 350, 2, 27, 538, 26, 1274, 2626, 32, 428, 30, 431, 2627, 211, 5, 598, 497, 25, 266, 38, 338, 428, 56, 2, 332, 1083, 1315, 744, 892, 145, 6, 94, 249, 876, 1252, 41, 878, 107, 2628, 396, 334, 19, 1320, 332, 36, 2629, 570, 2630, 5, 941, 81, 100, 141, 326, 136, 152, 36, 269, 2631, 541, 796, 436, 49, 131, 72, 1636, 113, 504, 24, 336, 1051, 335, 721, 8, 72, 6, 4, 125, 2632, 55, 604, 291, 596, 2, 2633, 65, 1690, 251, 647, 1629, 494, 105, 86, 20, 21, 13, 2634, 2635, 120, 2636, 175, 323, 152, 219, 229, 877, 363, 2637, 2638, 2639, 52, 136, 1075, 2640, 1457, 17, 368, 36, 33, 304, 2641, 1744, 1072, 127, 227, 366, 2642, 535, 332, 2643, 2644, 2645, 372, 440, 390, 1, 2646, 692, 431, 2647, 1073, 33, 1432, 785, 8, 2648, 1072, 42, 2649, 1226, 11, 108, 1354, 1649, 127, 17, 698, 1755, 272, 72, 357, 2650, 184, 804, 17, 698, 511, 2651, 2652, 282, 194, 231, 184, 134, 1742, 954, 298, 691, 2653, 2654, 2655, 7, 16, 8, 448, 34, 382, 2656, 78, 330, 184, 2657, 2658, 84, 78, 2659, 771, 467, 1322, 2660, 2661, 604, 2662, 2663, 562, 346, 22, 54, 17, 698, 1977, 4978, 127, 115, 1133, 2, 1521, 115, 2221, 180, 2513, 202, 716, 319, 465, 319, 4979, 4980, 852, 202, 4981, 4982, 4983, 643, 326, 17, 4984, 4, 4985, 966, 324, 146, 7, 4986, 7, 797, 99, 4987, 1765, 1260, 17, 22, 1035, 3, 571, 4988, 4989, 4990, 4991, 1566, 108, 1354, 386, 1628, 4992, 196, 429, 15, 184, 811, 4993, 191, 754, 562, 2, 8, 279, 1248, 2189, 211, 7, 16, 29, 5, 415, 4994, 49, 265, 526, 339, 2347, 191, 527, 1014, 168, 311, 29, 1591, 3, 1259, 197, 1238, 197, 87, 2328, 1647, 4995, 497, 305, 1, 139, 1296, 22, 2510, 1557, 255, 888, 288, 4996, 288, 77, 371, 4997, 288, 1, 29, 250, 311, 2511, 214, 2091, 4998, 4999, 175, 131, 2262, 5000, 402, 23, 17, 527, 536, 6, 33, 5001, 13, 431, 2, 5002, 866, 56, 5003, 1604]]\n"
          ],
          "name": "stdout"
        }
      ]
    },
    {
      "cell_type": "code",
      "metadata": {
        "id": "6yU349i7__41",
        "colab_type": "code",
        "colab": {}
      },
      "source": [
        "corpus"
      ],
      "execution_count": 0,
      "outputs": []
    },
    {
      "cell_type": "code",
      "metadata": {
        "id": "BBcappPQjXYf",
        "colab_type": "code",
        "outputId": "e0c96c80-b57f-4996-f723-09b516b3a45a",
        "colab": {
          "base_uri": "https://localhost:8080/",
          "height": 54
        }
      },
      "source": [
        "max_words_text = max(corpus, key=lambda sentence: len(nltk.word_tokenize(sentence, language='portuguese')))\n",
        "print(max_words_text[:200])"
      ],
      "execution_count": 13,
      "outputs": [
        {
          "output_type": "stream",
          "text": [
            "biologia tendências perspectivas atuais abordagem sala aula texto disponibilizado sala aula virtual, histórico ciências, deve ter percebido modificações ocorridas estreita relação transformações política, econômica, social cultural mundo país. desse modo, naturais vem sendo modificado sistematicamente escolas, adaptando-se diferentes modos organização social variadas concepções pedagógicas. diferentes modos organização social vivemos hoje, diretamente ligados mudanças transformações aceleradas mundo. podemos perceber mudanças ocorrendo apenas redor nós, ocorrem interior, forma conceber representar mundo (lévy, 1993). dessa forma, vamos percebendo modificações apresentam via mão dupla, transformamos transformados através situações vão ocorrendo vida. últimos anos, deve ter percebido ênfase sendo dada exercício cidadania, principalmente tocante escola. sido norteado lei diretrizes base educação nacional, nº 9.394/96, art. 2 0 diz: ”a educação, dever família estado, inspirada princípios liberdade ideais solidariedade humana, finalidade pleno desenvolvimento educando, preparo exercício cidadania qualificação trabalho.” sendo assim, educação básica vem sendo fundamentada preparação exercício cidadania, cabendo escola formar cidadãos conhecimentos, habilidades, valores, atitudes, formas pensar atuar sociedade meio aprendizagem significativa. 1) opinião, prática vem acontecendo? quais considerações acerca deste questionamento? realidade, apesar propostas renovadoras relação conteúdos métodos objetivos alcançados, ainda distante atingirmos cidadão preparado exercer papel termos aprendizagem significativa. podemos generalizar, pois sabemos pontualmente, resultados, pouco compararmos número pessoas saem escolas perfil. mudar aspecto, portando, algo possa fazer unicamente partir novas teorias, ainda exija, sim, nova caracterização naturais (brasil, 1998). biologia tendências perspectivas atuais abordagem sala aula texto disponibilizado sala aula virtual, histórico ciências, deve ter percebido modificações ocorridas estreita relação transformações política, econômica, social cultural mundo país. desse modo, naturais vem sendo modificado sistematicamente escolas, adaptando-se diferentes modos organização social variadas concepções pedagógicas. diferentes modos organização social vivemos hoje, diretamente ligados mudanças transformações aceleradas mundo. podemos perceber mudanças ocorrendo apenas redor nós, ocorrem interior, forma conceber representar mundo (lévy, 1993). dessa forma, vamos percebendo modificações apresentam via mão dupla, transformamos transformados através situações vão ocorrendo vida. últimos anos, deve ter percebido ênfase sendo dada exercício cidadania, principalmente tocante escola. sido norteado lei diretrizes base educação nacional, nº 9.394/96, art. 2 0 diz: ”a educação, dever família estado, inspirada princípios liberdade ideais solidariedade humana, finalidade pleno desenvolvimento educando, preparo exercício cidadania qualificação trabalho.” sendo assim, educação básica vem sendo fundamentada preparação exercício cidadania, cabendo escola formar cidadãos conhecimentos, habilidades, valores, atitudes, formas pensar atuar sociedade meio aprendizagem significativa. 1) opinião, prática vem acontecendo? quais considerações acerca deste questionamento? realidade, apesar propostas renovadoras relação conteúdos métodos objetivos alcançados, ainda distante atingirmos cidadão preparado exercer papel termos aprendizagem significativa. podemos generalizar, pois sabemos pontualmente, resultados, pouco compararmos número pessoas saem escolas perfil. mudar aspecto, portando, algo possa fazer unicamente partir novas teorias, ainda exija, sim, nova caracterização naturais (brasil, 1998). 2) sentem dificuldades aprender ciências? estuda vida processos motiva interessar aprender? começamos refletir, percebemos aprendizagem depende realizado. você, professorando, colocado mãos desafio conduzir construção próprio conhecimento, tornando-se crítico participativo mundo volta, maneira sentido estudando. vários estudos acordo pesquisas realizadas sistema avaliação básica ministério educação (saed) relação níveis desempenho brasileiros fundamental médio, indicam escola conseguido cumprir adequadamente tarefa promover aprendizagem alunos. desde década 80, naturais mudanças significativas processo ensino–aprendizagem, dando ênfase construção conhecimento , passando questionar metodologias preconizavam apenas memorização fatos. tendência pedagógica caracterizada construtivista porque orientava interação 'professor, estudante conhecimento' resultando novas aprendizagens docentes discentes. deveria atuar mediador aprendizagem prática educativa pautava-se partir ideias prévias estudantes. ideia construtivismo processo ensino- aprendizagem discussão desde final anos 60, base teoria jean piaget. sabido competências habilidades modalidades estruturais inteligência. nessa perspectiva, segundo pcns, práticas pedagógicas devem estar voltadas desenvolvimento competências através habilidades que, conseqüência, devem gerar desenvolvimento competência . práticas devem aliar-se interdisciplinaridade transversalidade processo ensino- aprendizagem sucesso (brasil, 1999). dessa forma, mobilize associe saberes teóricos, experiência afetividade objetivo solucionar situações novas ( et al, 2009). 3) entende trabalhar interdisciplinaridade transversalidade? elabore texto compartilhe compreensão! (este texto deverá ser apresentado dia prova primeira cp) biologia tendências perspectivas atuais abordagem sala aula texto disponibilizado sala aula virtual, histórico ciências, deve ter percebido modificações ocorridas estreita relação transformações política, econômica, social cultural mundo país. desse modo, naturais vem sendo modificado sistematicamente escolas, adaptando-se diferentes modos organização social variadas concepções pedagógicas. diferentes modos organização social vivemos hoje, diretamente ligados mudanças transformações aceleradas mundo. podemos perceber mudanças ocorrendo apenas redor nós, ocorrem interior, forma conceber representar mundo (lévy, 1993). dessa forma, vamos percebendo modificações apresentam via mão dupla, transformamos transformados através situações vão ocorrendo vida. últimos anos, deve ter percebido ênfase sendo dada exercício cidadania, principalmente tocante escola. sido norteado lei diretrizes base educação nacional, nº 9.394/96, art. 2 0 diz: ”a educação, dever família estado, inspirada princípios liberdade ideais solidariedade humana, finalidade pleno desenvolvimento educando, preparo exercício cidadania qualificação trabalho.” sendo assim, educação básica vem sendo fundamentada preparação exercício cidadania, cabendo escola formar cidadãos conhecimentos, habilidades, valores, atitudes, formas pensar atuar sociedade meio aprendizagem significativa. 1) opinião, prática vem acontecendo? quais considerações acerca deste questionamento? realidade, apesar propostas renovadoras relação conteúdos métodos objetivos alcançados, ainda distante atingirmos cidadão preparado exercer papel termos aprendizagem significativa. podemos generalizar, pois sabemos pontualmente, resultados, pouco compararmos número pessoas saem escolas perfil. mudar aspecto, portando, algo possa fazer unicamente partir novas teorias, ainda exija, sim, nova caracterização naturais (brasil, 1998). 2) sentem dificuldades aprender ciências? estuda vida processos motiva interessar aprender? começamos refletir, percebemos aprendizagem depende realizado. você, professorando, colocado mãos desafio conduzir construção próprio conhecimento, tornando-se crítico participativo mundo volta, maneira sentido estudando. vários estudos acordo pesquisas realizadas sistema avaliação básica ministério educação (saed) relação níveis desempenho brasileiros fundamental médio, indicam escola conseguido cumprir adequadamente tarefa promover aprendizagem alunos. desde década 80, naturais mudanças significativas processo ensino–aprendizagem, dando ênfase construção conhecimento , passando questionar metodologias preconizavam apenas memorização fatos. tendência pedagógica caracterizada construtivista porque orientava interação 'professor, estudante conhecimento' resultando novas aprendizagens docentes discentes. deveria atuar mediador aprendizagem prática educativa pautava-se partir ideias prévias estudantes. ideia construtivismo processo ensino- aprendizagem discussão desde final anos 60, base teoria jean piaget. sabido competências habilidades modalidades estruturais inteligência. nessa perspectiva, segundo pcns, práticas pedagógicas devem estar voltadas desenvolvimento competências através habilidades que, conseqüência, devem gerar desenvolvimento competência . práticas devem aliar-se interdisciplinaridade transversalidade processo ensino- aprendizagem sucesso (brasil, 1999). dessa forma, mobilize associe saberes teóricos, experiência afetividade objetivo solucionar situações novas ( et al, 2009). 3) entende trabalhar interdisciplinaridade transversalidade? elabore texto compartilhe compreensão! (este texto deverá ser apresentado dia prova primeira cp) dois termos utilizados fala práticas pedagógicas. interdisciplinaridade surgiu final século xix, necessidade dar resposta fragmentação causada concepção positivista, pois subdivididas surgindo várias disciplinas. idéia interdisciplinaridade elaborada visando restabelecer diálogo diversas áreas conhecimentos científicos, dando visão ampla realidade. transversalidade forma organizar trabalho didático quais temas integrados áreas convencionais forma estarem presentes todas elas. procura melhoria qualidade naturais, introdução tecnologias informações comunicações (tic) trouxe algumas alterações combate indisciplina insucesso, despertar motivação desenvolvimento competências (martinho pombo, 2009). segundo autores, passará exposição conteúdo assimilar, papel mediador. papert (1998, apud martinho pombo, 2009) cabe promover aprendizagem , possa construir conhecimento ambiente desafie motive exploração, reflexão descoberta conceitos relacionados problemas desenvolve. hoje, disponibilidade computadores vem cada vez sendo acessível, quer escola casa, salutar utilizarmos meio, pois observa cada vez cedo adquirem habilidade utilizá-lo. questão é: detém habilidade proporcionar qualidade propõe introdução dessa tecnologia escola? quanto isso, cabe necessidade atualizar aprender utilizar ferramentas tic aulas, juntamente escola responsáveis funcionamento. pcns naturais (brasil, 1998) argumentam procedimentos fundamentais possibilitar aprendizagem naturais permitam investigação, comunicação debate fatos idéias, como, também, observação, experimentação, comparação, estabelecimento relações fatos fenômenos idéias, leitura escrita textos informativos, organização informações meio desenhos, tabelas, gráficos, esquemas textos , proposição suposições, confronto suposições dados obtidos investigação, proposição solução problemas. pesquisas acerca processo aprendizagem levaram várias propostas metodológicas, diversas reunidas sob denominação construtivismo. pressupõem aprendizado dá interação professor/estudantes/conhecimento, estabelecer diálogo idéias prévias estudantes visão científica atual, mediação biologia tendências perspectivas atuais abordagem sala aula texto disponibilizado sala aula virtual, histórico ciências, deve ter percebido modificações ocorridas estreita relação transformações política, econômica, social cultural mundo país. desse modo, naturais vem sendo modificado sistematicamente escolas, adaptando-se diferentes modos organização social variadas concepções pedagógicas. diferentes modos organização social vivemos hoje, diretamente ligados mudanças transformações aceleradas mundo. podemos perceber mudanças ocorrendo apenas redor nós, ocorrem interior, forma conceber representar mundo (lévy, 1993). dessa forma, vamos percebendo modificações apresentam via mão dupla, transformamos transformados através situações vão ocorrendo vida. últimos anos, deve ter percebido ênfase sendo dada exercício cidadania, principalmente tocante escola. sido norteado lei diretrizes base educação nacional, nº 9.394/96, art. 2 0 diz: ”a educação, dever família estado, inspirada princípios liberdade ideais solidariedade humana, finalidade pleno desenvolvimento educando, preparo exercício cidadania qualificação trabalho.” sendo assim, educação básica vem sendo fundamentada preparação exercício cidadania, cabendo escola formar cidadãos conhecimentos, habilidades, valores, atitudes, formas pensar atuar sociedade meio aprendizagem significativa. 1) opinião, prática vem acontecendo? quais considerações acerca deste questionamento? realidade, apesar propostas renovadoras relação conteúdos métodos objetivos alcançados, ainda distante atingirmos cidadão preparado exercer papel termos aprendizagem significativa. podemos generalizar, pois sabemos pontualmente, resultados, pouco compararmos número pessoas saem escolas perfil. mudar aspecto, portando, algo possa fazer unicamente partir novas teorias, ainda exija, sim, nova caracterização naturais (brasil, 1998). 2) sentem dificuldades aprender ciências? estuda vida processos motiva interessar aprender? começamos refletir, percebemos aprendizagem depende realizado. você, professorando, colocado mãos desafio conduzir construção próprio conhecimento, tornando-se crítico participativo mundo volta, maneira sentido estudando. vários estudos acordo pesquisas realizadas sistema avaliação básica ministério educação (saed) relação níveis desempenho brasileiros fundamental médio, indicam escola conseguido cumprir adequadamente tarefa promover aprendizagem alunos. desde década 80, naturais mudanças significativas processo ensino–aprendizagem, dando ênfase construção conhecimento , passando questionar metodologias preconizavam apenas memorização fatos. tendência pedagógica caracterizada construtivista porque orientava interação 'professor, estudante conhecimento' resultando novas aprendizagens docentes discentes. deveria atuar mediador aprendizagem prática educativa pautava-se partir ideias prévias estudantes. ideia construtivismo processo ensino- aprendizagem discussão desde final anos 60, base teoria jean piaget. sabido competências habilidades modalidades estruturais inteligência. nessa perspectiva, segundo pcns, práticas pedagógicas devem estar voltadas desenvolvimento competências através habilidades que, conseqüência, devem gerar desenvolvimento competência . práticas devem aliar-se interdisciplinaridade transversalidade processo ensino- aprendizagem sucesso (brasil, 1999). dessa forma, mobilize associe saberes teóricos, experiência afetividade objetivo solucionar situações novas ( et al, 2009). 3) entende trabalhar interdisciplinaridade transversalidade? elabore texto compartilhe compreensão! (este texto deverá ser apresentado dia prova primeira cp) dois termos utilizados fala práticas pedagógicas. interdisciplinaridade surgiu final século xix, necessidade dar resposta fragmentação causada concepção positivista, pois subdivididas surgindo várias disciplinas. idéia interdisciplinaridade elaborada visando restabelecer diálogo diversas áreas conhecimentos científicos, dando visão ampla realidade. transversalidade forma organizar trabalho didático quais temas integrados áreas convencionais forma estarem presentes todas elas. procura melhoria qualidade naturais, introdução tecnologias informações comunicações (tic) trouxe algumas alterações combate indisciplina insucesso, despertar motivação desenvolvimento competências (martinho pombo, 2009). segundo autores, passará exposição conteúdo assimilar, papel mediador. papert (1998, apud martinho pombo, 2009) cabe promover aprendizagem , possa construir conhecimento ambiente desafie motive exploração, reflexão descoberta conceitos relacionados problemas desenvolve. hoje, disponibilidade computadores vem cada vez sendo acessível, quer escola casa, salutar utilizarmos meio, pois observa cada vez cedo adquirem habilidade utilizá-lo. questão é: detém habilidade proporcionar qualidade propõe introdução dessa tecnologia escola? quanto isso, cabe necessidade atualizar aprender utilizar ferramentas tic aulas, juntamente escola responsáveis funcionamento. pcns naturais (brasil, 1998) argumentam procedimentos fundamentais possibilitar aprendizagem naturais permitam investigação, comunicação debate fatos idéias, como, também, observação, experimentação, comparação, estabelecimento relações fatos fenômenos idéias, leitura escrita textos informativos, organização informações meio desenhos, tabelas, gráficos, esquemas textos , proposição suposições, confronto suposições dados obtidos investigação, proposição solução problemas. pesquisas acerca processo aprendizagem levaram várias propostas metodológicas, diversas reunidas sob denominação construtivismo. pressupõem aprendizado dá interação professor/estudantes/conhecimento, estabelecer diálogo idéias prévias estudantes visão científica atual, mediação professor, entendendo estudante reelabora percepção anterior mundo entrar contato visão trazida conhecimento científico (p.21). visão relacionada transposição aprendizagem conhecimento cotidiano conhecimento científico, requer escola promoção inter-relação cultura social escolar, mediada professor. ser bom educador naturais, precisa ter, próprio, cultura científica conhecimento didático possibilite planejar conduzir boas situações aprendizagem área. década 1950 início anos 1960, parte movimento internacional melhoria ciências, laboratório didático práticas denominadas experimentação começaram ser utilizadas fundamental médio. desde então, diversas propostas práticas pedagógicas vieram surgindo, trazendo alterações conteúdos métodos ensino. decorrente necessidade mudar prática pedagógica aplicada, fim melhorar processo ensino-aprendizagem, forma apenas memorizem conceitos, oportunidade dar significado conhecimento adquirido, partir vivências, possam participar tomada decisões relações ciência, tecnologia, sociedade ambiente (curvelho latini, r., 2007). apesar várias propostas educacionais longo décadas, sido praticado elaborações teóricas que, diversas maneiras expressam salas aula. muitas práticas, ainda hoje, baseadas mera transmissão informações, tendo recurso exclusivo livro didático transcrição lousa. promulgada lei diretrizes bases educação 1961, cenário escolar dominado tradicional, ainda esforços renovação processo. cabia transmissão conhecimentos acumulados humanidade, meio aulas expositivas, reprodução informações. aula expositiva modalidade comum ensino, função informar alunos. caracteriza aula expositiva haver discorre expõe determinado tema grupo alunos. geral, repetem livros didáticos, enquanto ficam passivamente ouvindo, sendo assim, processo econômico, pois permite atenda grande número alunos, conferindo-lhe, tempo, grande segurança garantindo domínio classe, mantido apática oportunidade manifestar (krasilchik, 2004). entanto, pode fazer aula expositiva biologia tendências perspectivas atuais abordagem sala aula texto disponibilizado sala aula virtual, histórico ciências, deve ter percebido modificações ocorridas estreita relação transformações política, econômica, social cultural mundo país. desse modo, naturais vem sendo modificado sistematicamente escolas, adaptando-se diferentes modos organização social variadas concepções pedagógicas. diferentes modos organização social vivemos hoje, diretamente ligados mudanças transformações aceleradas mundo. podemos perceber mudanças ocorrendo apenas redor nós, ocorrem interior, forma conceber representar mundo (lévy, 1993). dessa forma, vamos percebendo modificações apresentam via mão dupla, transformamos transformados através situações vão ocorrendo vida. últimos anos, deve ter percebido ênfase sendo dada exercício cidadania, principalmente tocante escola. sido norteado lei diretrizes base educação nacional, nº 9.394/96, art. 2 0 diz: ”a educação, dever família estado, inspirada princípios liberdade ideais solidariedade humana, finalidade pleno desenvolvimento educando, preparo exercício cidadania qualificação trabalho.” sendo assim, educação básica vem sendo fundamentada preparação exercício cidadania, cabendo escola formar cidadãos conhecimentos, habilidades, valores, atitudes, formas pensar atuar sociedade meio aprendizagem significativa. 1) opinião, prática vem acontecendo? quais considerações acerca deste questionamento? realidade, apesar propostas renovadoras relação conteúdos métodos objetivos alcançados, ainda distante atingirmos cidadão preparado exercer papel termos aprendizagem significativa. podemos generalizar, pois sabemos pontualmente, resultados, pouco compararmos número pessoas saem escolas perfil. mudar aspecto, portando, algo possa fazer unicamente partir novas teorias, ainda exija, sim, nova caracterização naturais (brasil, 1998). 2) sentem dificuldades aprender ciências? estuda vida processos motiva interessar aprender? começamos refletir, percebemos aprendizagem depende realizado. você, professorando, colocado mãos desafio conduzir construção próprio conhecimento, tornando-se crítico participativo mundo volta, maneira sentido estudando. vários estudos acordo pesquisas realizadas sistema avaliação básica ministério educação (saed) relação níveis desempenho brasileiros fundamental médio, indicam escola conseguido cumprir adequadamente tarefa promover aprendizagem alunos. desde década 80, naturais mudanças significativas processo ensino–aprendizagem, dando ênfase construção conhecimento , passando questionar metodologias preconizavam apenas memorização fatos. tendência pedagógica caracterizada construtivista porque orientava interação 'professor, estudante conhecimento' resultando novas aprendizagens docentes discentes. deveria atuar mediador aprendizagem prática educativa pautava-se partir ideias prévias estudantes. ideia construtivismo processo ensino- aprendizagem discussão desde final anos 60, base teoria jean piaget. sabido competências habilidades modalidades estruturais inteligência. nessa perspectiva, segundo pcns, práticas pedagógicas devem estar voltadas desenvolvimento competências através habilidades que, conseqüência, devem gerar desenvolvimento competência . práticas devem aliar-se interdisciplinaridade transversalidade processo ensino- aprendizagem sucesso (brasil, 1999). dessa forma, mobilize associe saberes teóricos, experiência afetividade objetivo solucionar situações novas ( et al, 2009). 3) entende trabalhar interdisciplinaridade transversalidade? elabore texto compartilhe compreensão! (este texto deverá ser apresentado dia prova primeira cp) dois termos utilizados fala práticas pedagógicas. interdisciplinaridade surgiu final século xix, necessidade dar resposta fragmentação causada concepção positivista, pois subdivididas surgindo várias disciplinas. idéia interdisciplinaridade elaborada visando restabelecer diálogo diversas áreas conhecimentos científicos, dando visão ampla realidade. transversalidade forma organizar trabalho didático quais temas integrados áreas convencionais forma estarem presentes todas elas. procura melhoria qualidade naturais, introdução tecnologias informações comunicações (tic) trouxe algumas alterações combate indisciplina insucesso, despertar motivação desenvolvimento competências (martinho pombo, 2009). segundo autores, passará exposição conteúdo assimilar, papel mediador. papert (1998, apud martinho pombo, 2009) cabe promover aprendizagem , possa construir conhecimento ambiente desafie motive exploração, reflexão descoberta conceitos relacionados problemas desenvolve. hoje, disponibilidade computadores vem cada vez sendo acessível, quer escola casa, salutar utilizarmos meio, pois observa cada vez cedo adquirem habilidade utilizá-lo. questão é: detém habilidade proporcionar qualidade propõe introdução dessa tecnologia escola? quanto isso, cabe necessidade atualizar aprender utilizar ferramentas tic aulas, juntamente escola responsáveis funcionamento. pcns naturais (brasil, 1998) argumentam procedimentos fundamentais possibilitar aprendizagem naturais permitam investigação, comunicação debate fatos idéias, como, também, observação, experimentação, comparação, estabelecimento relações fatos fenômenos idéias, leitura escrita textos informativos, organização informações meio desenhos, tabelas, gráficos, esquemas textos , proposição suposições, confronto suposições dados obtidos investigação, proposição solução problemas. pesquisas acerca processo aprendizagem levaram várias propostas metodológicas, diversas reunidas sob denominação construtivismo. pressupõem aprendizado dá interação professor/estudantes/conhecimento, estabelecer diálogo idéias prévias estudantes visão científica atual, mediação professor, entendendo estudante reelabora percepção anterior mundo entrar contato visão trazida conhecimento científico (p.21). visão relacionada transposição aprendizagem conhecimento cotidiano conhecimento científico, requer escola promoção inter-relação cultura social escolar, mediada professor. ser bom educador naturais, precisa ter, próprio, cultura científica conhecimento didático possibilite planejar conduzir boas situações aprendizagem área. década 1950 início anos 1960, parte movimento internacional melhoria ciências, laboratório didático práticas denominadas experimentação começaram ser utilizadas fundamental médio. desde então, diversas propostas práticas pedagógicas vieram surgindo, trazendo alterações conteúdos métodos ensino. decorrente necessidade mudar prática pedagógica aplicada, fim melhorar processo ensino-aprendizagem, forma apenas memorizem conceitos, oportunidade dar significado conhecimento adquirido, partir vivências, possam participar tomada decisões relações ciência, tecnologia, sociedade ambiente (curvelho latini, r., 2007). apesar várias propostas educacionais longo décadas, sido praticado elaborações teóricas que, diversas maneiras expressam salas aula. muitas práticas, ainda hoje, baseadas mera transmissão informações, tendo recurso exclusivo livro didático transcrição lousa. promulgada lei diretrizes bases educação 1961, cenário escolar dominado tradicional, ainda esforços renovação processo. cabia transmissão conhecimentos acumulados humanidade, meio aulas expositivas, reprodução informações. aula expositiva modalidade comum ensino, função informar alunos. caracteriza aula expositiva haver discorre expõe determinado tema grupo alunos. geral, repetem livros didáticos, enquanto ficam passivamente ouvindo, sendo assim, processo econômico, pois permite atenda grande número alunos, conferindo-lhe, tempo, grande segurança garantindo domínio classe, mantido apática oportunidade manifestar (krasilchik, 2004). entanto, pode fazer aula expositiva dialogada, intercalando informações questões busque conhecimento prévio . questões diretas, fazendo ponte assunto abordado dia-a-dia, perguntando escutou falar assunto familiares, amigos mídia, etc. então, aula planejada forma sequencial, levando problema acerca sendo informado, sendo desenvolvida maneira compreensível, motivando participarem, aula pode tornar-se experiência informativa, divertida estimulante, afastando pressuposto aulas expositivas maioria casos, cansativa pouco contribui formação alunos, conforme autora. segundo freire (2004), conhecimento processo busca feita ambos, professor. sendo assim, deve ser visto depósito conteúdos, portanto, diálogo torna imprescindível. segundo autor, qualquer caso, estudante deve sentir-se sujeito pensar, discutir pensar, visão visões colegas. contribuição educador promover educação crítica. mente pode limitar receber ideias utilizá-las, verificá-las e/ou transformá-las. educação deve desenvolver estudante gosto pesquisa, constatação revisão achados. apesar métodos inovadores privilegiam participação sala aula autor própria aprendizagem, ainda presenciamos ambiente escolar, conhecimento isento, verdade científica, tida inquestionável.\n"
          ],
          "name": "stdout"
        }
      ]
    },
    {
      "cell_type": "code",
      "metadata": {
        "id": "R_jRhtYJjfkf",
        "colab_type": "code",
        "outputId": "ff473ddc-493e-4e7f-fedf-0616251cbe91",
        "colab": {
          "base_uri": "https://localhost:8080/",
          "height": 34
        }
      },
      "source": [
        "max_sentence_len = len(nltk.word_tokenize(max_words_text, language='portuguese'))\n",
        "print(max_sentence_len)"
      ],
      "execution_count": 14,
      "outputs": [
        {
          "output_type": "stream",
          "text": [
            "3913\n"
          ],
          "name": "stdout"
        }
      ]
    },
    {
      "cell_type": "code",
      "metadata": {
        "id": "XDmfjQ2tjg4T",
        "colab_type": "code",
        "outputId": "71ff44f6-6220-467d-9bfb-e106440b7322",
        "colab": {
          "base_uri": "https://localhost:8080/",
          "height": 34
        }
      },
      "source": [
        "# Make all the sentences have the same length by padding with 0s at the end\n",
        "padded_sentences = pad_sequences(embedded_sentences, max_sentence_len, padding='post')\n",
        "\n",
        "padded_sentences.shape"
      ],
      "execution_count": 15,
      "outputs": [
        {
          "output_type": "execute_result",
          "data": {
            "text/plain": [
              "(69, 3913)"
            ]
          },
          "metadata": {
            "tags": []
          },
          "execution_count": 15
        }
      ]
    },
    {
      "cell_type": "code",
      "metadata": {
        "id": "rfw8qPMTj3_a",
        "colab_type": "code",
        "colab": {}
      },
      "source": [
        "vocab_len = len(tokenizer.word_index) + 1\n",
        "\n",
        "# Create an embedding matrix, in other words, use the weights from gloVe vector against all our corpus\n",
        "# In the end we will have a matrix of all our vocabulary x N dimensions\n",
        "def build_embd_matrix(size, embd_dic):\n",
        "  # initialize with all zeros\n",
        "  embedding_matrix = np.zeros((vocab_len, size))\n",
        "  for word, index in tokenizer.word_index.items():\n",
        "    embedding_vector = embd_dic.get(word)\n",
        "    # if the word is in gloVe, we will use its weigths \n",
        "    if embedding_vector is not None:\n",
        "      embedding_matrix[index] = embedding_vector[:size]\n",
        "  return embedding_matrix\n",
        "\n",
        "\n",
        "embedding_matrix_50 = build_embd_matrix(50, word_embedding_dict_50)\n",
        "\n",
        "embedding_matrix_100 = build_embd_matrix(100, word_embedding_dict_100)\n",
        "\n",
        "embedding_matrix_cbow_50 = build_embd_matrix(50, word_embedding_cbow_50)\n",
        "\n",
        "embedding_matrix_skipgram_50 = build_embd_matrix(50, word_embedding_skipgram_50)"
      ],
      "execution_count": 0,
      "outputs": []
    },
    {
      "cell_type": "code",
      "metadata": {
        "id": "EBbXSjHcJf3N",
        "colab_type": "code",
        "colab": {}
      },
      "source": [
        "# TODO: Update this model to user TensorFlow 2.x\n",
        "model = Sequential()\n",
        "model.add(Embedding(vocab_len, 50,weights=[embedding_matrix], input_length=max_sentence_len))\n",
        "model.add(Dropout(0.5))\n",
        "model.add(Conv1D(64, 5, activation='relu'))\n",
        "\n",
        "model.add(MaxPool1D(2, strides=2))\n",
        "model.add(Flatten())\n",
        "model.add(Dense(11, activation='softmax'))\n",
        "model.summary()\n",
        "model.compile(loss='categorical_crossentropy', optimizer='adam',metrics=['acc'])"
      ],
      "execution_count": 0,
      "outputs": []
    },
    {
      "cell_type": "code",
      "metadata": {
        "id": "WH6gkNfwXJjb",
        "colab_type": "code",
        "colab": {}
      },
      "source": [
        "model.metrics"
      ],
      "execution_count": 0,
      "outputs": []
    },
    {
      "cell_type": "code",
      "metadata": {
        "id": "L4CmlnXmKe22",
        "colab_type": "code",
        "colab": {}
      },
      "source": [
        "X = padded_sentences\n",
        "Y = np_utils.to_categorical(encoded_Y)\n",
        "cnn_model.fit(X, Y, epochs=50, verbose=1)"
      ],
      "execution_count": 0,
      "outputs": []
    },
    {
      "cell_type": "code",
      "metadata": {
        "id": "34ozDaDvdWKa",
        "colab_type": "code",
        "colab": {}
      },
      "source": [
        "def build_model(embd_matrix, size=50):\n",
        "  model = Sequential()\n",
        "  embedding_layer = Embedding(vocab_len, 50, input_length=max_sentence_len, \n",
        "                              embeddings_initializer=Constant(embedding_matrix_50), trainable=False)\n",
        "  model.add(embedding_layer)\n",
        "  model.add(Dropout(0.3))\n",
        "  model.add(Flatten())\n",
        "  number_of_classes = len(np_utils.to_categorical(encoded_raw_Y)[0])\n",
        "  model.add(Dense(number_of_classes, activation='softmax'))\n",
        "\n",
        "  model.compile(optimizer='rmsprop',\n",
        "                    loss='categorical_crossentropy', metrics=['accuracy'])\n",
        "  return model"
      ],
      "execution_count": 0,
      "outputs": []
    },
    {
      "cell_type": "code",
      "metadata": {
        "id": "O0shQVV6d7Nz",
        "colab_type": "code",
        "colab": {}
      },
      "source": [
        "model.layers"
      ],
      "execution_count": 0,
      "outputs": []
    },
    {
      "cell_type": "code",
      "metadata": {
        "id": "71gTUZklld6b",
        "colab_type": "code",
        "colab": {}
      },
      "source": [
        "cv_scores = []\n",
        "kfold = StratifiedKFold(n_splits=3, shuffle=True, random_state=7)\n",
        "models = []\n",
        "\n",
        "X = padded_sentences\n",
        "\n",
        "X, X_val, Y_train, y_val = train_test_split(padded_sentences, encoded_raw_Y, stratify=encoded_raw_Y, random_state=11, test_size=0.20)\n",
        "model = build_model()\n",
        "accs = []\n",
        "for i in range(0,10):\n",
        "  # stratified k-fold validation\n",
        "  for train_index, test_index in kfold.split(X, Y_train):\n",
        "    # Convert integers to vectors (e.g One hot encoding)\n",
        "    Y = np_utils.to_categorical(Y_train)\n",
        "\n",
        "    #print(\"TRAIN:\", train_index, \"TEST:\", test_index)\n",
        "    X_train, X_test = X[train_index], X[test_index]\n",
        "    y_train, y_test = Y[train_index], Y[test_index]\n",
        "\n",
        "    # train the model\n",
        "    model.fit(X_train, y_train, epochs=50, verbose=0)\n",
        "\n",
        "    # Evaluate the model\n",
        "    scores = model.evaluate(X_test, y_test)\n",
        "    #print(\"%s: %.2f%%\" % (model.metrics_names[1], scores[1] * 100))\n",
        "    cv_scores.append(scores[1] * 100)\n",
        "  accs.append(np.mean(cv_scores))\n",
        "\n",
        "# Brief summary of the scores\n",
        "print(\"%.2f%% (+/- %.2f%%)\" % (np.mean(accs), np.std(accs)))"
      ],
      "execution_count": 0,
      "outputs": []
    },
    {
      "cell_type": "code",
      "metadata": {
        "id": "22bWRKETwqEc",
        "colab_type": "code",
        "colab": {}
      },
      "source": [
        "y_val.shape\n",
        "y_val_dummy = np_utils.to_categorical(y_val)\n",
        "X_val.shape"
      ],
      "execution_count": 0,
      "outputs": []
    },
    {
      "cell_type": "code",
      "metadata": {
        "id": "F5oTvDXl0lwZ",
        "colab_type": "code",
        "colab": {}
      },
      "source": [
        "scores = model.evaluate(X_val, y_val_dummy)\n",
        "print(\"Test score: %.2f%%\" % (scores[1] * 100))"
      ],
      "execution_count": 0,
      "outputs": []
    },
    {
      "cell_type": "code",
      "metadata": {
        "id": "82-C9horrGZj",
        "colab_type": "code",
        "colab": {}
      },
      "source": [
        "#scores = model.evaluate(X_val, y_val_dummy)\n",
        "\n",
        "X, X_val, Y_train, y_val = train_test_split(padded_sentences, encoded_raw_Y, random_state=11, stratify=encoded_raw_Y, test_size=0.20)"
      ],
      "execution_count": 0,
      "outputs": []
    },
    {
      "cell_type": "code",
      "metadata": {
        "id": "o-jx9oR2kbNu",
        "colab_type": "code",
        "colab": {
          "base_uri": "https://localhost:8080/",
          "height": 34
        },
        "outputId": "c34ef621-18ac-426f-b29b-147a21c4284d"
      },
      "source": [
        "def test_model(iter, embedding, name, epochs):\n",
        "  test_scores = []\n",
        "  val_scores = []\n",
        "  for i in range(iter):\n",
        "    Y = np_utils.to_categorical(encoded_raw_Y)\n",
        "\n",
        "    X, X_test, Y, y_test = train_test_split(padded_sentences, Y, stratify=Y, random_state=11, test_size=0.2)\n",
        "    X_test, X_val, y_test, y_val = train_test_split(X_test, y_test, random_state=11, test_size=0.5)\n",
        "\n",
        "    model = build_model(embedding, 100)\n",
        "\n",
        "    model.fit(X, Y, epochs=epochs, verbose=0)\n",
        "    scores = model.evaluate(X_test, y_test)\n",
        "\n",
        "    print(\"Test score \" + name + \": %.2f%%\" % (scores[1] * 100))\n",
        "    test_scores.append(scores[1] * 100)\n",
        "\n",
        "    scores = model.evaluate(X_val, y_val)\n",
        "    print(\"Validation score \" + name + \": %.2f%%\" % (scores[1] * 100))\n",
        "    val_scores.append(scores[1] * 100)\n",
        "  print(\"Mean test scores:\" + \": %.2f%%\" % (np.mean(test_scores)))\n",
        "  print(\"Mean val scores:\" + \": %.2f%%\" % (np.mean(val_scores)))"
      ],
      "execution_count": 60,
      "outputs": [
        {
          "output_type": "stream",
          "text": [
            "ERROR! Session/line number was not unique in database. History logging moved to new session 65\n"
          ],
          "name": "stdout"
        }
      ]
    },
    {
      "cell_type": "code",
      "metadata": {
        "id": "nwC-e46eh4vf",
        "colab_type": "code",
        "outputId": "a9a1d7db-feee-49e6-c4bb-5fe45c467df2",
        "colab": {
          "base_uri": "https://localhost:8080/",
          "height": 1000
        }
      },
      "source": [
        "# Run and print models output\n",
        "test_model(10,embedding_matrix_50, 'Glove 50D', 150)\n",
        "test_model(10,embedding_matrix_100,'Glove 100D', 150 )\n",
        "test_model(10,embedding_matrix_cbow_50, 'CBOW 50D', 150)\n",
        "test_model(10,embedding_matrix_skipgram_50, 'SkipGram 50D', 150)"
      ],
      "execution_count": 62,
      "outputs": [
        {
          "output_type": "stream",
          "text": [
            "1/1 [==============================] - 0s 2ms/step - loss: 6.0006 - accuracy: 0.0000e+00\n",
            "Test score Glove 50D: 0.00%\n",
            "1/1 [==============================] - 0s 1ms/step - loss: 2.3094 - accuracy: 0.1429\n",
            "Validation score Glove 50D: 14.29%\n",
            "1/1 [==============================] - 0s 2ms/step - loss: 7.1147 - accuracy: 0.0000e+00\n",
            "Test score Glove 50D: 0.00%\n",
            "1/1 [==============================] - 0s 1ms/step - loss: 2.5297 - accuracy: 0.2857\n",
            "Validation score Glove 50D: 28.57%\n",
            "1/1 [==============================] - 0s 2ms/step - loss: 6.6109 - accuracy: 0.0000e+00\n",
            "Test score Glove 50D: 0.00%\n",
            "1/1 [==============================] - 0s 1ms/step - loss: 2.5558 - accuracy: 0.1429\n",
            "Validation score Glove 50D: 14.29%\n",
            "1/1 [==============================] - 0s 2ms/step - loss: 6.4495 - accuracy: 0.0000e+00\n",
            "Test score Glove 50D: 0.00%\n",
            "1/1 [==============================] - 0s 2ms/step - loss: 2.5137 - accuracy: 0.1429\n",
            "Validation score Glove 50D: 14.29%\n",
            "1/1 [==============================] - 0s 2ms/step - loss: 5.9270 - accuracy: 0.1429\n",
            "Test score Glove 50D: 14.29%\n",
            "1/1 [==============================] - 0s 4ms/step - loss: 2.6874 - accuracy: 0.1429\n",
            "Validation score Glove 50D: 14.29%\n",
            "1/1 [==============================] - 0s 2ms/step - loss: 6.0615 - accuracy: 0.1429\n",
            "Test score Glove 50D: 14.29%\n",
            "1/1 [==============================] - 0s 2ms/step - loss: 2.1033 - accuracy: 0.2857\n",
            "Validation score Glove 50D: 28.57%\n",
            "1/1 [==============================] - 0s 2ms/step - loss: 6.5544 - accuracy: 0.0000e+00\n",
            "Test score Glove 50D: 0.00%\n",
            "1/1 [==============================] - 0s 1ms/step - loss: 2.4091 - accuracy: 0.1429\n",
            "Validation score Glove 50D: 14.29%\n",
            "1/1 [==============================] - 0s 2ms/step - loss: 5.9149 - accuracy: 0.1429\n",
            "Test score Glove 50D: 14.29%\n",
            "1/1 [==============================] - 0s 2ms/step - loss: 2.2663 - accuracy: 0.1429\n",
            "Validation score Glove 50D: 14.29%\n",
            "1/1 [==============================] - 0s 2ms/step - loss: 6.3017 - accuracy: 0.0000e+00\n",
            "Test score Glove 50D: 0.00%\n",
            "1/1 [==============================] - 0s 2ms/step - loss: 2.4939 - accuracy: 0.1429\n",
            "Validation score Glove 50D: 14.29%\n",
            "1/1 [==============================] - 0s 2ms/step - loss: 6.9747 - accuracy: 0.0000e+00\n",
            "Test score Glove 50D: 0.00%\n",
            "1/1 [==============================] - 0s 2ms/step - loss: 2.5349 - accuracy: 0.1429\n",
            "Validation score Glove 50D: 14.29%\n",
            "Mean test scores:: 4.29%\n",
            "Mean val scores:: 17.14%\n",
            "1/1 [==============================] - 0s 6ms/step - loss: 6.0217 - accuracy: 0.1429\n",
            "Test score Glove 100D: 14.29%\n",
            "1/1 [==============================] - 0s 2ms/step - loss: 2.7587 - accuracy: 0.2857\n",
            "Validation score Glove 100D: 28.57%\n",
            "1/1 [==============================] - 0s 2ms/step - loss: 5.9253 - accuracy: 0.1429\n",
            "Test score Glove 100D: 14.29%\n",
            "1/1 [==============================] - 0s 2ms/step - loss: 3.0436 - accuracy: 0.1429\n",
            "Validation score Glove 100D: 14.29%\n",
            "1/1 [==============================] - 0s 2ms/step - loss: 6.8876 - accuracy: 0.0000e+00\n",
            "Test score Glove 100D: 0.00%\n",
            "1/1 [==============================] - 0s 2ms/step - loss: 2.6002 - accuracy: 0.1429\n",
            "Validation score Glove 100D: 14.29%\n",
            "1/1 [==============================] - 0s 2ms/step - loss: 6.2198 - accuracy: 0.1429\n",
            "Test score Glove 100D: 14.29%\n",
            "1/1 [==============================] - 0s 2ms/step - loss: 2.5442 - accuracy: 0.2857\n",
            "Validation score Glove 100D: 28.57%\n",
            "1/1 [==============================] - 0s 2ms/step - loss: 5.9541 - accuracy: 0.0000e+00\n",
            "Test score Glove 100D: 0.00%\n",
            "1/1 [==============================] - 0s 2ms/step - loss: 2.3494 - accuracy: 0.2857\n",
            "Validation score Glove 100D: 28.57%\n",
            "1/1 [==============================] - 0s 2ms/step - loss: 6.3604 - accuracy: 0.0000e+00\n",
            "Test score Glove 100D: 0.00%\n",
            "1/1 [==============================] - 0s 2ms/step - loss: 2.4087 - accuracy: 0.1429\n",
            "Validation score Glove 100D: 14.29%\n",
            "1/1 [==============================] - 0s 2ms/step - loss: 5.8538 - accuracy: 0.0000e+00\n",
            "Test score Glove 100D: 0.00%\n",
            "1/1 [==============================] - 0s 2ms/step - loss: 2.6856 - accuracy: 0.1429\n",
            "Validation score Glove 100D: 14.29%\n",
            "1/1 [==============================] - 0s 2ms/step - loss: 6.4800 - accuracy: 0.0000e+00\n",
            "Test score Glove 100D: 0.00%\n",
            "1/1 [==============================] - 0s 1ms/step - loss: 2.4581 - accuracy: 0.1429\n",
            "Validation score Glove 100D: 14.29%\n",
            "1/1 [==============================] - 0s 2ms/step - loss: 6.2655 - accuracy: 0.0000e+00\n",
            "Test score Glove 100D: 0.00%\n",
            "1/1 [==============================] - 0s 1ms/step - loss: 2.2628 - accuracy: 0.2857\n",
            "Validation score Glove 100D: 28.57%\n",
            "1/1 [==============================] - 0s 2ms/step - loss: 6.2376 - accuracy: 0.0000e+00\n",
            "Test score Glove 100D: 0.00%\n",
            "1/1 [==============================] - 0s 2ms/step - loss: 2.5324 - accuracy: 0.1429\n",
            "Validation score Glove 100D: 14.29%\n",
            "Mean test scores:: 4.29%\n",
            "Mean val scores:: 20.00%\n",
            "1/1 [==============================] - 0s 2ms/step - loss: 5.6853 - accuracy: 0.1429\n",
            "Test score CBOW 50D: 14.29%\n",
            "1/1 [==============================] - 0s 2ms/step - loss: 2.5239 - accuracy: 0.1429\n",
            "Validation score CBOW 50D: 14.29%\n",
            "1/1 [==============================] - 0s 2ms/step - loss: 6.2125 - accuracy: 0.1429\n",
            "Test score CBOW 50D: 14.29%\n",
            "1/1 [==============================] - 0s 2ms/step - loss: 2.4808 - accuracy: 0.1429\n",
            "Validation score CBOW 50D: 14.29%\n",
            "1/1 [==============================] - 0s 2ms/step - loss: 5.9861 - accuracy: 0.1429\n",
            "Test score CBOW 50D: 14.29%\n",
            "1/1 [==============================] - 0s 2ms/step - loss: 2.1533 - accuracy: 0.2857\n",
            "Validation score CBOW 50D: 28.57%\n",
            "1/1 [==============================] - 0s 2ms/step - loss: 5.9502 - accuracy: 0.1429\n",
            "Test score CBOW 50D: 14.29%\n",
            "1/1 [==============================] - 0s 2ms/step - loss: 2.3813 - accuracy: 0.1429\n",
            "Validation score CBOW 50D: 14.29%\n",
            "1/1 [==============================] - 0s 2ms/step - loss: 5.8476 - accuracy: 0.1429\n",
            "Test score CBOW 50D: 14.29%\n",
            "1/1 [==============================] - 0s 1ms/step - loss: 2.8224 - accuracy: 0.1429\n",
            "Validation score CBOW 50D: 14.29%\n",
            "1/1 [==============================] - 0s 2ms/step - loss: 5.9619 - accuracy: 0.0000e+00\n",
            "Test score CBOW 50D: 0.00%\n",
            "1/1 [==============================] - 0s 1ms/step - loss: 2.4256 - accuracy: 0.1429\n",
            "Validation score CBOW 50D: 14.29%\n",
            "1/1 [==============================] - 0s 2ms/step - loss: 7.0770 - accuracy: 0.0000e+00\n",
            "Test score CBOW 50D: 0.00%\n",
            "1/1 [==============================] - 0s 1ms/step - loss: 2.4553 - accuracy: 0.1429\n",
            "Validation score CBOW 50D: 14.29%\n",
            "1/1 [==============================] - 0s 2ms/step - loss: 5.6870 - accuracy: 0.1429\n",
            "Test score CBOW 50D: 14.29%\n",
            "1/1 [==============================] - 0s 2ms/step - loss: 2.5488 - accuracy: 0.1429\n",
            "Validation score CBOW 50D: 14.29%\n",
            "1/1 [==============================] - 0s 2ms/step - loss: 6.3780 - accuracy: 0.0000e+00\n",
            "Test score CBOW 50D: 0.00%\n",
            "1/1 [==============================] - 0s 1ms/step - loss: 2.4887 - accuracy: 0.1429\n",
            "Validation score CBOW 50D: 14.29%\n",
            "1/1 [==============================] - 0s 2ms/step - loss: 5.9666 - accuracy: 0.1429\n",
            "Test score CBOW 50D: 14.29%\n",
            "1/1 [==============================] - 0s 1ms/step - loss: 2.6777 - accuracy: 0.1429\n",
            "Validation score CBOW 50D: 14.29%\n",
            "Mean test scores:: 10.00%\n",
            "Mean val scores:: 15.71%\n",
            "1/1 [==============================] - 0s 2ms/step - loss: 5.8018 - accuracy: 0.0000e+00\n",
            "Test score SkipGram 50D: 0.00%\n",
            "1/1 [==============================] - 0s 2ms/step - loss: 2.5930 - accuracy: 0.1429\n",
            "Validation score SkipGram 50D: 14.29%\n",
            "1/1 [==============================] - 0s 2ms/step - loss: 5.7962 - accuracy: 0.1429\n",
            "Test score SkipGram 50D: 14.29%\n",
            "1/1 [==============================] - 0s 1ms/step - loss: 2.7192 - accuracy: 0.2857\n",
            "Validation score SkipGram 50D: 28.57%\n",
            "1/1 [==============================] - 0s 2ms/step - loss: 6.9899 - accuracy: 0.0000e+00\n",
            "Test score SkipGram 50D: 0.00%\n",
            "1/1 [==============================] - 0s 1ms/step - loss: 2.4283 - accuracy: 0.2857\n",
            "Validation score SkipGram 50D: 28.57%\n",
            "1/1 [==============================] - 0s 2ms/step - loss: 6.0843 - accuracy: 0.0000e+00\n",
            "Test score SkipGram 50D: 0.00%\n",
            "1/1 [==============================] - 0s 2ms/step - loss: 2.4836 - accuracy: 0.2857\n",
            "Validation score SkipGram 50D: 28.57%\n",
            "1/1 [==============================] - 0s 2ms/step - loss: 5.9065 - accuracy: 0.1429\n",
            "Test score SkipGram 50D: 14.29%\n",
            "1/1 [==============================] - 0s 2ms/step - loss: 2.2763 - accuracy: 0.2857\n",
            "Validation score SkipGram 50D: 28.57%\n",
            "1/1 [==============================] - 0s 2ms/step - loss: 6.0919 - accuracy: 0.0000e+00\n",
            "Test score SkipGram 50D: 0.00%\n",
            "1/1 [==============================] - 0s 2ms/step - loss: 2.3921 - accuracy: 0.2857\n",
            "Validation score SkipGram 50D: 28.57%\n",
            "1/1 [==============================] - 0s 2ms/step - loss: 6.8256 - accuracy: 0.0000e+00\n",
            "Test score SkipGram 50D: 0.00%\n",
            "1/1 [==============================] - 0s 1ms/step - loss: 2.3623 - accuracy: 0.1429\n",
            "Validation score SkipGram 50D: 14.29%\n",
            "1/1 [==============================] - 0s 2ms/step - loss: 5.8163 - accuracy: 0.0000e+00\n",
            "Test score SkipGram 50D: 0.00%\n",
            "1/1 [==============================] - 0s 1ms/step - loss: 2.5715 - accuracy: 0.1429\n",
            "Validation score SkipGram 50D: 14.29%\n",
            "1/1 [==============================] - 0s 2ms/step - loss: 7.0107 - accuracy: 0.0000e+00\n",
            "Test score SkipGram 50D: 0.00%\n",
            "1/1 [==============================] - 0s 2ms/step - loss: 2.5475 - accuracy: 0.2857\n",
            "Validation score SkipGram 50D: 28.57%\n",
            "1/1 [==============================] - 0s 2ms/step - loss: 6.3354 - accuracy: 0.0000e+00\n",
            "Test score SkipGram 50D: 0.00%\n",
            "1/1 [==============================] - 0s 2ms/step - loss: 2.6962 - accuracy: 0.1429\n",
            "Validation score SkipGram 50D: 14.29%\n",
            "Mean test scores:: 2.86%\n",
            "Mean val scores:: 22.86%\n"
          ],
          "name": "stdout"
        }
      ]
    },
    {
      "cell_type": "code",
      "metadata": {
        "id": "y-osuIZnooif",
        "colab_type": "code",
        "colab": {}
      },
      "source": [
        "# Brief summary of the scores\n",
        "print(\"%.2f%% (+/- %.2f%%)\" % (np.mean(cv_scores), np.std(cv_scores)))"
      ],
      "execution_count": 0,
      "outputs": []
    },
    {
      "cell_type": "markdown",
      "metadata": {
        "id": "8ogQ63sPwLUX",
        "colab_type": "text"
      },
      "source": [
        "Atuais questionamentos\n",
        "\n",
        "1.   Como o algoritmo irá se comportar diante de um vobaculário não visto anteriormente ?   \n",
        "  1.1. Utilizar os novos dados obtidos (últimas 2 atividades para validação do modelo após solucionar o problema acima)\n",
        "2.   Será que por meio dessa abordagem estamos aprendendendo o estilo de escrita do usuário ou o conteúdo escrito?\n",
        "  2.2. Seria possível unir features estilométricas em conjunto aos word embeddings?    \n"
      ]
    },
    {
      "cell_type": "code",
      "metadata": {
        "id": "D5VQi88Og0Of",
        "colab_type": "code",
        "colab": {}
      },
      "source": [
        "# Save and upload model\n",
        "\n",
        "model_json = model.to_json()\n",
        "with open('model-lstm-2.json', 'w') as json_file:\n",
        "  json_file.write(model_json)\n",
        "model.save_weights('model-lstm-2.h5')\n",
        "\n",
        "uploaded = drive.CreateFile({'title': 'model-lstm-2.h5'})\n",
        "uploaded.SetContentFile('model-lstm-2.h5')\n",
        "uploaded.Upload()\n",
        "print('Uploaded file with ID {}'.format(uploaded.get('id')))\n",
        "\n",
        "uploaded = drive.CreateFile({'title': 'model-lstm-2.json'})\n",
        "uploaded.SetContentFile('model-lstm-2.json')\n",
        "uploaded.Upload()\n"
      ],
      "execution_count": 0,
      "outputs": []
    },
    {
      "cell_type": "code",
      "metadata": {
        "id": "o2ShTMqnSciS",
        "colab_type": "code",
        "colab": {}
      },
      "source": [
        "!ls -la"
      ],
      "execution_count": 0,
      "outputs": []
    },
    {
      "cell_type": "code",
      "metadata": {
        "id": "hKOtkssWQr7Y",
        "colab_type": "code",
        "colab": {}
      },
      "source": [
        "from google.colab import files\n",
        "files.download('model-lstm.h5')"
      ],
      "execution_count": 0,
      "outputs": []
    }
  ]
}