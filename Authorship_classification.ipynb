{
  "nbformat": 4,
  "nbformat_minor": 0,
  "metadata": {
    "colab": {
      "name": "Authorship classification.ipynb",
      "provenance": [],
      "collapsed_sections": []
    },
    "kernelspec": {
      "name": "python3",
      "display_name": "Python 3"
    }
  },
  "cells": [
    {
      "cell_type": "code",
      "metadata": {
        "id": "RjmJ0x0Nky_B",
        "colab": {
          "base_uri": "https://localhost:8080/"
        },
        "outputId": "0fc2c8a6-083b-45bf-c1b6-ccfd8e8f64ae"
      },
      "source": [
        "w!pip install -U -q PyDrive\n",
        "from pydrive.auth import GoogleAuth\n",
        "from pydrive.drive import GoogleDrive\n",
        "from google.colab import auth\n",
        "from oauth2client.client import GoogleCredentials\n",
        "import warnings\n",
        "warnings.filterwarnings('ignore')\n",
        "\n",
        "# Authenticate and create the PyDrive client.\n",
        "auth.authenticate_user()\n",
        "gauth = GoogleAuth()\n",
        "gauth.credentials = GoogleCredentials.get_application_default()\n",
        "drive = GoogleDrive(gauth)\n",
        "\n",
        "# The dataset shareable link\n",
        "\n",
        "#new stylo data\n",
        "#link = 'https://drive.google.com/open?id=15e0XWZR1CYx0nyBOLasWJuwMyFgF-U5l'\n",
        "link = 'https://drive.google.com/file/d/1LEbg13-KBZzHmIWAv9SnthGUzjvcbJuA/'\n",
        "id= '1LEbg13-KBZzHmIWAv9SnthGUzjvcbJuA'\n",
        "\n",
        "#fluff, id = link.split('=')\n",
        "filename = 'stylo-data.csv'\n",
        "downloaded = drive.CreateFile({'id':id})\n",
        "downloaded.GetContentFile(filename)\n",
        "\n",
        "\n",
        "#raw_data_link = 'https://drive.google.com/file/d/1DZkGVcBNQ1WUk11dVRzJcbGNeAb8rOaJ/view?usp=sharing'\n",
        "raw_id = '1DZkGVcBNQ1WUk11dVRzJcbGNeAb8rOaJ'\n",
        "#fluff, id = raw_data_link.split('=')\n",
        "print(raw_id)\n",
        "raw_filename = 'raw_data.csv'\n",
        "downloaded = drive.CreateFile({'id':raw_id})\n",
        "downloaded.GetContentFile(raw_filename)\n",
        "\n",
        "\n",
        "#news stylo dataset\n",
        "news_id = '15zZXsks6cI0FY4vpL555lBQSBr1QyjT4'\n",
        "news_filename = 'news-data.csv'\n",
        "downloaded = drive.CreateFile({'id':news_id})\n",
        "downloaded.GetContentFile(news_filename)"
      ],
      "execution_count": null,
      "outputs": [
        {
          "output_type": "stream",
          "text": [
            "1DZkGVcBNQ1WUk11dVRzJcbGNeAb8rOaJ\n"
          ],
          "name": "stdout"
        }
      ]
    },
    {
      "cell_type": "code",
      "metadata": {
        "id": "QDJ9k4ISEyG2"
      },
      "source": [
        "import pandas as pd\n",
        "\n",
        "import numpy as np\n",
        "from matplotlib import pyplot as plt\n",
        "\n",
        "import nltk\n",
        "nltk.download('stopwords')\n",
        "nltk.download('punkt')\n",
        "\n",
        "from sklearn.model_selection import train_test_split, cross_validate, StratifiedKFold, RandomizedSearchCV\n",
        "from sklearn.metrics import classification_report, confusion_matrix, accuracy_score\n",
        "from sklearn.preprocessing import LabelEncoder, StandardScaler\n",
        "from sklearn.mixture import GaussianMixture, BayesianGaussianMixture\n",
        "from sklearn.cluster import KMeans\n",
        "from sklearn.decomposition import PCA\n",
        "from sklearn.pipeline import Pipeline, make_pipeline\n",
        "from sklearn.linear_model import SGDClassifier, LogisticRegression\n",
        "from sklearn.ensemble import AdaBoostClassifier, BaggingClassifier, ExtraTreesClassifier, GradientBoostingClassifier, RandomForestClassifier\n",
        "from sklearn.svm import SVC, LinearSVC\n",
        "from sklearn.feature_extraction.text import CountVectorizer, TfidfTransformer,TfidfVectorizer\n",
        "from sklearn.naive_bayes import GaussianNB, BernoulliNB, MultinomialNB\n",
        "from sklearn.neural_network import MLPClassifier\n",
        "from sklearn.neighbors import KNeighborsClassifier\n",
        "from sklearn.feature_selection import SelectKBest, VarianceThreshold, SelectPercentile, SelectFwe, RFECV,  chi2, f_classif, mutual_info_classif\n",
        "from sklearn.preprocessing import StandardScaler, MinMaxScaler, PowerTransformer, QuantileTransformer, Normalizer\n",
        "\n",
        "!pip install -U keras\n",
        "!pip install -U shap\n",
        "!pip install -U eli5\n",
        "import shap\n",
        "import eli5\n",
        "\n",
        "from keras.utils import np_utils\n",
        "from keras.preprocessing.text import Tokenizer\n",
        "from keras.preprocessing.sequence import pad_sequences\n",
        "from tensorflow.python.keras.layers import InputLayer, Embedding, Conv1D, MaxPool1D, Dense, Flatten, Dropout, GRU, LSTM, Input\n",
        "from tensorflow.python.keras import Sequential, Model\n",
        "from tensorflow.python.keras import Sequential\n",
        "from keras.initializers import Constant\n",
        "\n",
        "from pprint import pprint\n",
        "\n",
        "from imblearn.over_sampling import SMOTE"
      ],
      "execution_count": null,
      "outputs": []
    },
    {
      "cell_type": "code",
      "metadata": {
        "id": "pbymYhVUjAYD",
        "colab": {
          "base_uri": "https://localhost:8080/"
        },
        "outputId": "706458bd-228d-450a-8055-6fdc6efdb0fc"
      },
      "source": [
        "from google.colab import drive\n",
        "drive.mount('/content/drive')"
      ],
      "execution_count": null,
      "outputs": [
        {
          "output_type": "stream",
          "text": [
            "Mounted at /content/drive\n"
          ],
          "name": "stdout"
        }
      ]
    },
    {
      "cell_type": "markdown",
      "metadata": {
        "id": "UdSHLajCxFOr"
      },
      "source": [
        "*PS: Para baixar os arquivos do Google Drive, é preciso clicar no link que irá aparecer no console, aceitar as permissões do Drive e em seguida colar o código de verificação no local indicado (console)*\n",
        "\n",
        "*Sem o arquivo não é possível executar os outros trechos do notebook*"
      ]
    },
    {
      "cell_type": "code",
      "metadata": {
        "id": "sZ9Qh3LPNDN_"
      },
      "source": [
        "# read dataset\n",
        "df = pd.read_csv(filename)\n",
        "raw_df = pd.read_csv(raw_filename)\n",
        "df_news = pd.read_csv(news_filename)\n",
        "\n",
        "\n",
        "# Remove single class entries (We need at least 3 samples of an author)#\n",
        "df = df.groupby('Author').filter(lambda x: len(x) > 3)\n",
        "raw_df = raw_df.groupby('Author').filter(lambda x: len(x) > 3)"
      ],
      "execution_count": null,
      "outputs": []
    },
    {
      "cell_type": "code",
      "metadata": {
        "id": "B-SGc_MBRjyN"
      },
      "source": [
        "#Separate data from labels\n",
        "\n",
        "y = df.pop('Author')\n",
        "y_raw = raw_df.pop('Author')\n",
        "y_news = df_news.pop('Author')\n",
        "\n",
        "le = LabelEncoder()\n",
        "le.fit(y)\n",
        "encoded_Y = le.transform(y)\n",
        "\n",
        "le.fit(y_raw)\n",
        "encoded_raw_Y = le.transform(y_raw)\n",
        "\n",
        "le.fit(y_news)\n",
        "encoded_y_news = le.transform(y_news)"
      ],
      "execution_count": null,
      "outputs": []
    },
    {
      "cell_type": "code",
      "metadata": {
        "id": "yYSCvf-g1oyd"
      },
      "source": [
        "raw_df"
      ],
      "execution_count": null,
      "outputs": []
    },
    {
      "cell_type": "code",
      "metadata": {
        "id": "SsqfbzdbtMfV",
        "colab": {
          "base_uri": "https://localhost:8080/"
        },
        "outputId": "6bc13107-b246-453f-dc79-06eae9f3168e"
      },
      "source": [
        "# Feature selection\n",
        "\n",
        "# Baseline (Variance threshold):\n",
        "threshold=(.01)\n",
        "selector = VarianceThreshold(threshold)\n",
        "selector.fit(df)\n",
        "\n",
        "df.columns[selector.get_support(indices=True)] # 22 features, data has very low variance (features are mostly very close)\n",
        "\n",
        "# selector.fit(df)\n",
        "\n",
        "# df.columns[selector.get_support(indices=True)]"
      ],
      "execution_count": null,
      "outputs": [
        {
          "output_type": "execute_result",
          "data": {
            "text/plain": [
              "22"
            ]
          },
          "metadata": {
            "tags": []
          },
          "execution_count": 52
        }
      ]
    },
    {
      "cell_type": "code",
      "metadata": {
        "id": "R1dCWlly5who"
      },
      "source": [
        ""
      ],
      "execution_count": null,
      "outputs": []
    },
    {
      "cell_type": "code",
      "metadata": {
        "id": "_qFPfnjikFk7",
        "colab": {
          "base_uri": "https://localhost:8080/"
        },
        "outputId": "b7304dd1-c842-4c46-df4c-10fc6552ce8f"
      },
      "source": [
        "# 50% better based on percentile using chi2 (37f)\n",
        "selector = SelectPercentile(chi2, percentile=50)\n",
        "selector.fit(df, y)\n",
        "df.columns[selector.get_support(indices=True)]"
      ],
      "execution_count": null,
      "outputs": [
        {
          "output_type": "execute_result",
          "data": {
            "text/plain": [
              "Index(['DiversidadeLexica', 'TamanhoMedioDasPalavras', 'TamanhoMedioSentencas',\n",
              "       'StdevSentencas', 'TamanhoMedioParagrafos', 'StdevTamParagrafos',\n",
              "       'FrequenciaDeParagrafos', 'Monossilabas', 'Ponto', 'Virgulas',\n",
              "       'Exclamacoes', 'DoisPontos', 'Citacoes', 'QuebrasDeLinha', 'Digitos',\n",
              "       'PronomesPorPreposicao', 'Passado', 'EntAbstracao', 'EntAcontecimento',\n",
              "       'EntCoisa', 'EntLocal', 'EntOrganizacao', 'EntObra', 'EntOutro',\n",
              "       'EntPessoa', 'EntTempo', 'EntValor', 'GuiraudR', 'HerdanV', 'DugastU',\n",
              "       'HonoresH', 'HapaxLegomenaLocal', 'BRFleshIndex', 'top 1-gram',\n",
              "       'top 3-gram', 'top 4-gram', 'top 5-gram'],\n",
              "      dtype='object')"
            ]
          },
          "metadata": {
            "tags": []
          },
          "execution_count": 7
        }
      ]
    },
    {
      "cell_type": "code",
      "metadata": {
        "id": "4TlAWkNb3s6W",
        "colab": {
          "base_uri": "https://localhost:8080/"
        },
        "outputId": "dc730221-e7e0-46d2-ed5c-43322415bcc7"
      },
      "source": [
        "# 50% better based on percentile using chi2 (37f)\n",
        "selector = SelectPercentile(chi2, percentile=50)\n",
        "selector.fit(df_news, y_news)\n",
        "df.columns[selector.get_support(indices=True)]"
      ],
      "execution_count": null,
      "outputs": [
        {
          "output_type": "execute_result",
          "data": {
            "text/plain": [
              "Index(['DiversidadeLexica', 'TamanhoMedioDasPalavras', 'TamanhoMedioSentencas',\n",
              "       'StdevSentencas', 'TamanhoMedioParagrafos', 'StdevTamParagrafos',\n",
              "       'Monossilabas', 'Ponto', 'Virgulas', 'Exclamacoes', 'DoisPontos',\n",
              "       'Citacoes', 'QuebrasDeLinha', 'Adverbios', 'VerbosPtcp', 'Pronomes',\n",
              "       'PronomesPorPreposicao', 'TermosNaoTageados', 'PrimeiraPessoa',\n",
              "       'Presente', 'EntCoisa', 'EntObra', 'EntOutro', 'EntPessoa', 'EntTempo',\n",
              "       'EntValor', 'GuiraudR', 'HerdanV', 'DugastU', 'PalavrasErroOrtografico',\n",
              "       'HapaxLegomenaLocal', 'BRFleshIndex', 'PalavrasCapitalizadas',\n",
              "       'top 1-gram', 'top 3-gram', 'top 4-gram', 'top 5-gram'],\n",
              "      dtype='object')"
            ]
          },
          "metadata": {
            "tags": []
          },
          "execution_count": 9
        }
      ]
    },
    {
      "cell_type": "code",
      "metadata": {
        "id": "cbKN8D8OJtkY",
        "colab": {
          "base_uri": "https://localhost:8080/"
        },
        "outputId": "14326be8-d427-42f4-f28a-7f85b13e72c9"
      },
      "source": [
        "selector = SelectPercentile(percentile=50)\n",
        "selector.fit(df, y)\n",
        "df.columns[selector.get_support(indices=True)]"
      ],
      "execution_count": null,
      "outputs": [
        {
          "output_type": "execute_result",
          "data": {
            "text/plain": [
              "Index(['DiversidadeLexica', 'TamanhoMedioDasPalavras', 'TamanhoMedioSentencas',\n",
              "       'StdevSentencas', 'TamanhoMedioParagrafos', 'FrequenciaDeParagrafos',\n",
              "       'FrequenciaPalavrasDuplicadas', 'MediaSilabasPorPalavra',\n",
              "       'Monossilabas', 'Ponto', 'Virgulas', 'Citacoes', 'QuebrasDeLinha',\n",
              "       'Digitos', 'Adjetivos', 'Preposicoes', 'Conjuncoes',\n",
              "       'TermosNaoTageados', 'PalavrasDeConteudo', 'GenMasc', 'GenFem',\n",
              "       'SemGenero', 'TotalEntidadesNomeadas', 'HerdanC', 'DugastU', 'MaasA',\n",
              "       'HonoresH', 'PalavrasErroOrtografico', 'HapaxLegomenaLocal',\n",
              "       'PalavrasComunsTam2', 'StopWords', 'BRFleshIndex', 'Global hapax',\n",
              "       'top 1-gram', 'top 3-gram', 'top 4-gram', 'top 5-gram'],\n",
              "      dtype='object')"
            ]
          },
          "metadata": {
            "tags": []
          },
          "execution_count": 10
        }
      ]
    },
    {
      "cell_type": "code",
      "metadata": {
        "id": "TncVnkdo4anr",
        "colab": {
          "base_uri": "https://localhost:8080/"
        },
        "outputId": "7ce88148-9df2-44bb-efed-5ee35fb17b4b"
      },
      "source": [
        "selector = SelectPercentile(percentile=50)\n",
        "selector.fit(df_news, y_news)\n",
        "df_news.columns[selector.get_support(indices=True)]"
      ],
      "execution_count": null,
      "outputs": [
        {
          "output_type": "execute_result",
          "data": {
            "text/plain": [
              "Index(['DiversidadeLexica', 'TamanhoMedioDasPalavras', 'StdevSentencas',\n",
              "       'TamanhoMedioParagrafos', 'StdevTamParagrafos',\n",
              "       'FrequenciaDeParagrafos', 'Monossilabas', 'Exclamacoes', 'Citacoes',\n",
              "       'QuebrasDeLinha', 'Adverbios', 'Substantivos', 'Preposicoes',\n",
              "       'VerbosPtcp', 'Pronomes', 'PronomesPorPreposicao', 'TermosNaoTageados',\n",
              "       'PalavrasDeConteudo', 'FrasesVerbais', 'SemGenero', 'Singular',\n",
              "       'TerceiraPessoa', 'Presente', 'Futuro', 'GuiraudR', 'HerdanV',\n",
              "       'MedidaK', 'DugastU', 'MaasA', 'PalavrasErroOrtografico',\n",
              "       'HapaxLegomenaLocal', 'PalavrasComunsTam4', 'StopWords',\n",
              "       'PalavrasCapitalizadas', 'Global hapax', 'top 4-gram', 'top 5-gram'],\n",
              "      dtype='object')"
            ]
          },
          "metadata": {
            "tags": []
          },
          "execution_count": 12
        }
      ]
    },
    {
      "cell_type": "code",
      "metadata": {
        "id": "bs8jp-5XxMC8",
        "colab": {
          "base_uri": "https://localhost:8080/"
        },
        "outputId": "3643d69a-516b-4fea-f72b-c96f34241367"
      },
      "source": [
        "# K-Best (chi2)\n",
        "best_k_features = SelectKBest(chi2, k=74).fit(df, y)\n",
        "dfscores = pd.DataFrame(best_k_features.scores_)\n",
        "dfcolumns = pd.DataFrame(df.columns)\n",
        "featureScores = pd.concat([dfcolumns,dfscores],axis=1)\n",
        "featureScores.columns = ['Feature','Score'] \n",
        "print(featureScores.nlargest(35,'Score'))"
      ],
      "execution_count": null,
      "outputs": [
        {
          "output_type": "stream",
          "text": [
            "                    Feature        Score\n",
            "55                  HerdanV  3240.480483\n",
            "4    TamanhoMedioParagrafos  2660.335980\n",
            "5        StdevTamParagrafos  1373.072039\n",
            "3            StdevSentencas   150.375319\n",
            "0         DiversidadeLexica   138.597858\n",
            "2     TamanhoMedioSentencas   126.791038\n",
            "70               top 1-gram   114.339214\n",
            "57                  DugastU    79.869125\n",
            "13               DoisPontos    55.254317\n",
            "11                 Virgulas    35.802381\n",
            "15           QuebrasDeLinha    25.352158\n",
            "12              Exclamacoes    25.096919\n",
            "10                    Ponto    17.111885\n",
            "53                 GuiraudR    15.582640\n",
            "66             BRFleshIndex     9.122961\n",
            "71               top 3-gram     6.813025\n",
            "26    PronomesPorPreposicao     5.663002\n",
            "72               top 4-gram     4.827784\n",
            "73               top 5-gram     4.433602\n",
            "1   TamanhoMedioDasPalavras     2.611150\n",
            "59                 HonoresH     2.088297\n",
            "61       HapaxLegomenaLocal     1.980219\n",
            "44         EntAcontecimento     1.915102\n",
            "49                 EntOutro     1.436834\n",
            "43             EntAbstracao     1.397091\n",
            "47           EntOrganizacao     1.258447\n",
            "51                 EntTempo     1.088513\n",
            "52                 EntValor     1.085980\n",
            "6    FrequenciaDeParagrafos     1.077922\n",
            "48                  EntObra     1.064877\n",
            "45                 EntCoisa     1.043115\n",
            "16                  Digitos     1.039257\n",
            "50                EntPessoa     1.022828\n",
            "9              Monossilabas     0.926692\n",
            "46                 EntLocal     0.825038\n"
          ],
          "name": "stdout"
        }
      ]
    },
    {
      "cell_type": "code",
      "metadata": {
        "id": "eA6hAlJi5ARi",
        "colab": {
          "base_uri": "https://localhost:8080/"
        },
        "outputId": "63a8b1d4-dfa6-4847-fe45-619bcb087c48"
      },
      "source": [
        "# K-Best (chi2)\n",
        "best_k_features = SelectKBest(chi2, k=74).fit(df_news, y_news)\n",
        "dfscores = pd.DataFrame(best_k_features.scores_)\n",
        "dfcolumns = pd.DataFrame(df_news.columns)\n",
        "featureScores = pd.concat([dfcolumns,dfscores],axis=1)\n",
        "featureScores.columns = ['Feature','Score'] \n",
        "print(featureScores.nlargest(35,'Score'))"
      ],
      "execution_count": null,
      "outputs": [
        {
          "output_type": "stream",
          "text": [
            "                    Feature        Score\n",
            "55                  HerdanV  2688.503948\n",
            "5        StdevTamParagrafos  1707.831479\n",
            "4    TamanhoMedioParagrafos  1103.327474\n",
            "2     TamanhoMedioSentencas   862.748893\n",
            "12              Exclamacoes    59.697231\n",
            "3            StdevSentencas    59.007230\n",
            "0         DiversidadeLexica    37.698913\n",
            "57                  DugastU    33.392403\n",
            "53                 GuiraudR    22.573746\n",
            "11                 Virgulas    21.582665\n",
            "10                    Ponto    16.308883\n",
            "13               DoisPontos    12.164414\n",
            "70               top 1-gram    10.241280\n",
            "26    PronomesPorPreposicao     6.568906\n",
            "66             BRFleshIndex     4.978543\n",
            "72               top 4-gram     2.430000\n",
            "73               top 5-gram     2.430000\n",
            "1   TamanhoMedioDasPalavras     1.791193\n",
            "68    PalavrasCapitalizadas     0.921331\n",
            "27        TermosNaoTageados     0.810441\n",
            "71               top 3-gram     0.713333\n",
            "37           PrimeiraPessoa     0.702100\n",
            "9              Monossilabas     0.686709\n",
            "49                 EntOutro     0.551372\n",
            "48                  EntObra     0.526174\n",
            "25                 Pronomes     0.487441\n",
            "61       HapaxLegomenaLocal     0.448121\n",
            "60  PalavrasErroOrtografico     0.419544\n",
            "14                 Citacoes     0.399479\n",
            "45                 EntCoisa     0.389917\n",
            "50                EntPessoa     0.377552\n",
            "15           QuebrasDeLinha     0.358533\n",
            "51                 EntTempo     0.349568\n",
            "18                Adverbios     0.333384\n",
            "23               VerbosPtcp     0.316366\n"
          ],
          "name": "stdout"
        }
      ]
    },
    {
      "cell_type": "code",
      "metadata": {
        "id": "RpEw6KTq27Q6",
        "colab": {
          "base_uri": "https://localhost:8080/"
        },
        "outputId": "7531af17-a560-4d4d-baae-52ab7cd278d9"
      },
      "source": [
        "# K-Best (f_classif)\n",
        "best_k_features = SelectKBest(f_classif, k=54).fit(df_news, y_news)\n",
        "dfscores = pd.DataFrame(best_k_features.scores_)\n",
        "dfcolumns = pd.DataFrame(df_news.columns)\n",
        "featureScores = pd.concat([dfcolumns,dfscores],axis=1)\n",
        "featureScores.columns = ['Feature','Score'] \n",
        "print(featureScores.nlargest(35,'Score'))"
      ],
      "execution_count": null,
      "outputs": [
        {
          "output_type": "stream",
          "text": [
            "                    Feature      Score\n",
            "72               top 4-gram  81.000000\n",
            "73               top 5-gram  81.000000\n",
            "12              Exclamacoes  19.089614\n",
            "69             Global hapax  13.503812\n",
            "53                 GuiraudR  13.162995\n",
            "25                 Pronomes  12.735249\n",
            "28       PalavrasDeConteudo  12.442170\n",
            "27        TermosNaoTageados  12.376033\n",
            "56                  MedidaK  12.152812\n",
            "26    PronomesPorPreposicao  10.844617\n",
            "1   TamanhoMedioDasPalavras  10.182217\n",
            "18                Adverbios   9.488145\n",
            "9              Monossilabas   9.470314\n",
            "65                StopWords   9.293226\n",
            "55                  HerdanV   9.033462\n",
            "68    PalavrasCapitalizadas   8.862075\n",
            "21              Preposicoes   8.457826\n",
            "20             Substantivos   8.408751\n",
            "6    FrequenciaDeParagrafos   8.297498\n",
            "40                 Presente   7.427606\n",
            "15           QuebrasDeLinha   7.420883\n",
            "23               VerbosPtcp   6.958381\n",
            "4    TamanhoMedioParagrafos   6.232976\n",
            "38           TerceiraPessoa   6.224789\n",
            "57                  DugastU   6.214147\n",
            "60  PalavrasErroOrtografico   6.084080\n",
            "0         DiversidadeLexica   5.951390\n",
            "35                 Singular   5.758693\n",
            "58                    MaasA   5.555713\n",
            "34                SemGenero   5.453416\n",
            "41                   Futuro   5.447073\n",
            "5        StdevTamParagrafos   5.414068\n",
            "31            FrasesVerbais   5.323598\n",
            "14                 Citacoes   5.060375\n",
            "64       PalavrasComunsTam4   4.877481\n"
          ],
          "name": "stdout"
        }
      ]
    },
    {
      "cell_type": "code",
      "metadata": {
        "id": "dtJLynQx3Cfo",
        "colab": {
          "base_uri": "https://localhost:8080/"
        },
        "outputId": "371d03b4-604c-4841-9b57-8f3ced2c9442"
      },
      "source": [
        "from sklearn.ensemble import ExtraTreesClassifier\n",
        "from sklearn.feature_selection import SelectFromModel\n",
        "\n",
        "#SelectFromModel will select those features which importance is greater than the mean importance of all the features by default\n",
        "sel = SelectFromModel(ExtraTreesClassifier(n_estimators = 200, random_state=0))\n",
        "sel.fit(df_news, y_news)\n",
        "selected_feat= df.columns[(sel.get_support())]\n",
        "print(len(selected_feat))\n",
        "print(selected_feat)\n"
      ],
      "execution_count": null,
      "outputs": [
        {
          "output_type": "stream",
          "text": [
            "30\n",
            "Index(['TamanhoMedioDasPalavras', 'TamanhoMedioSentencas', 'StdevSentencas',\n",
            "       'TamanhoMedioParagrafos', 'StdevTamParagrafos',\n",
            "       'FrequenciaDeParagrafos', 'Monossilabas', 'Ponto', 'Virgulas',\n",
            "       'Exclamacoes', 'DoisPontos', 'QuebrasDeLinha', 'Adverbios',\n",
            "       'Preposicoes', 'Pronomes', 'TermosNaoTageados', 'PalavrasDeConteudo',\n",
            "       'GuiraudR', 'HerdanV', 'MedidaK', 'DugastU', 'MaasA',\n",
            "       'PalavrasComunsTam3', 'PalavrasComunsTam4', 'StopWords',\n",
            "       'PalavrasCapitalizadas', 'Global hapax', 'top 1-gram', 'top 4-gram',\n",
            "       'top 5-gram'],\n",
            "      dtype='object')\n"
          ],
          "name": "stdout"
        }
      ]
    },
    {
      "cell_type": "code",
      "metadata": {
        "id": "v1zOqpR9PALf",
        "colab": {
          "base_uri": "https://localhost:8080/",
          "height": 561
        },
        "outputId": "0e20e76b-6972-40bb-f401-1755db2a8f42"
      },
      "source": [
        "clf = ExtraTreesClassifier(n_estimators = 200, random_state=0)\n",
        "clf.fit(df, y)\n",
        "#Pass the model instance along with the feature names to ELI5\n",
        "eli5.show_weights(clf, feature_names=list(df.columns), top = 30)"
      ],
      "execution_count": null,
      "outputs": [
        {
          "output_type": "execute_result",
          "data": {
            "text/html": [
              "\n",
              "    <style>\n",
              "    table.eli5-weights tr:hover {\n",
              "        filter: brightness(85%);\n",
              "    }\n",
              "</style>\n",
              "\n",
              "\n",
              "\n",
              "    \n",
              "\n",
              "    \n",
              "\n",
              "    \n",
              "\n",
              "    \n",
              "\n",
              "    \n",
              "\n",
              "    \n",
              "\n",
              "\n",
              "    \n",
              "\n",
              "    \n",
              "\n",
              "    \n",
              "\n",
              "    \n",
              "\n",
              "    \n",
              "\n",
              "    \n",
              "\n",
              "\n",
              "    \n",
              "\n",
              "    \n",
              "\n",
              "    \n",
              "\n",
              "    \n",
              "\n",
              "    \n",
              "        <table class=\"eli5-weights eli5-feature-importances\" style=\"border-collapse: collapse; border: none; margin-top: 0em; table-layout: auto;\">\n",
              "    <thead>\n",
              "    <tr style=\"border: none;\">\n",
              "        <th style=\"padding: 0 1em 0 0.5em; text-align: right; border: none;\">Weight</th>\n",
              "        <th style=\"padding: 0 0.5em 0 0.5em; text-align: left; border: none;\">Feature</th>\n",
              "    </tr>\n",
              "    </thead>\n",
              "    <tbody>\n",
              "    \n",
              "        <tr style=\"background-color: hsl(120, 100.00%, 80.00%); border: none;\">\n",
              "            <td style=\"padding: 0 1em 0 0.5em; text-align: right; border: none;\">\n",
              "                0.0217\n",
              "                \n",
              "                    &plusmn; 0.0497\n",
              "                \n",
              "            </td>\n",
              "            <td style=\"padding: 0 0.5em 0 0.5em; text-align: left; border: none;\">\n",
              "                HerdanC\n",
              "            </td>\n",
              "        </tr>\n",
              "    \n",
              "        <tr style=\"background-color: hsl(120, 100.00%, 80.38%); border: none;\">\n",
              "            <td style=\"padding: 0 1em 0 0.5em; text-align: right; border: none;\">\n",
              "                0.0211\n",
              "                \n",
              "                    &plusmn; 0.0457\n",
              "                \n",
              "            </td>\n",
              "            <td style=\"padding: 0 0.5em 0 0.5em; text-align: left; border: none;\">\n",
              "                Virgulas\n",
              "            </td>\n",
              "        </tr>\n",
              "    \n",
              "        <tr style=\"background-color: hsl(120, 100.00%, 81.13%); border: none;\">\n",
              "            <td style=\"padding: 0 1em 0 0.5em; text-align: right; border: none;\">\n",
              "                0.0199\n",
              "                \n",
              "                    &plusmn; 0.0430\n",
              "                \n",
              "            </td>\n",
              "            <td style=\"padding: 0 0.5em 0 0.5em; text-align: left; border: none;\">\n",
              "                Digitos\n",
              "            </td>\n",
              "        </tr>\n",
              "    \n",
              "        <tr style=\"background-color: hsl(120, 100.00%, 81.29%); border: none;\">\n",
              "            <td style=\"padding: 0 1em 0 0.5em; text-align: right; border: none;\">\n",
              "                0.0197\n",
              "                \n",
              "                    &plusmn; 0.0449\n",
              "                \n",
              "            </td>\n",
              "            <td style=\"padding: 0 0.5em 0 0.5em; text-align: left; border: none;\">\n",
              "                StopWords\n",
              "            </td>\n",
              "        </tr>\n",
              "    \n",
              "        <tr style=\"background-color: hsl(120, 100.00%, 81.38%); border: none;\">\n",
              "            <td style=\"padding: 0 1em 0 0.5em; text-align: right; border: none;\">\n",
              "                0.0196\n",
              "                \n",
              "                    &plusmn; 0.0417\n",
              "                \n",
              "            </td>\n",
              "            <td style=\"padding: 0 0.5em 0 0.5em; text-align: left; border: none;\">\n",
              "                StdevSentencas\n",
              "            </td>\n",
              "        </tr>\n",
              "    \n",
              "        <tr style=\"background-color: hsl(120, 100.00%, 81.97%); border: none;\">\n",
              "            <td style=\"padding: 0 1em 0 0.5em; text-align: right; border: none;\">\n",
              "                0.0187\n",
              "                \n",
              "                    &plusmn; 0.0400\n",
              "                \n",
              "            </td>\n",
              "            <td style=\"padding: 0 0.5em 0 0.5em; text-align: left; border: none;\">\n",
              "                Artigos\n",
              "            </td>\n",
              "        </tr>\n",
              "    \n",
              "        <tr style=\"background-color: hsl(120, 100.00%, 82.14%); border: none;\">\n",
              "            <td style=\"padding: 0 1em 0 0.5em; text-align: right; border: none;\">\n",
              "                0.0184\n",
              "                \n",
              "                    &plusmn; 0.0419\n",
              "                \n",
              "            </td>\n",
              "            <td style=\"padding: 0 0.5em 0 0.5em; text-align: left; border: none;\">\n",
              "                DugastU\n",
              "            </td>\n",
              "        </tr>\n",
              "    \n",
              "        <tr style=\"background-color: hsl(120, 100.00%, 82.26%); border: none;\">\n",
              "            <td style=\"padding: 0 1em 0 0.5em; text-align: right; border: none;\">\n",
              "                0.0183\n",
              "                \n",
              "                    &plusmn; 0.0428\n",
              "                \n",
              "            </td>\n",
              "            <td style=\"padding: 0 0.5em 0 0.5em; text-align: left; border: none;\">\n",
              "                MaasA\n",
              "            </td>\n",
              "        </tr>\n",
              "    \n",
              "        <tr style=\"background-color: hsl(120, 100.00%, 82.49%); border: none;\">\n",
              "            <td style=\"padding: 0 1em 0 0.5em; text-align: right; border: none;\">\n",
              "                0.0179\n",
              "                \n",
              "                    &plusmn; 0.0446\n",
              "                \n",
              "            </td>\n",
              "            <td style=\"padding: 0 0.5em 0 0.5em; text-align: left; border: none;\">\n",
              "                HonoresH\n",
              "            </td>\n",
              "        </tr>\n",
              "    \n",
              "        <tr style=\"background-color: hsl(120, 100.00%, 82.66%); border: none;\">\n",
              "            <td style=\"padding: 0 1em 0 0.5em; text-align: right; border: none;\">\n",
              "                0.0177\n",
              "                \n",
              "                    &plusmn; 0.0375\n",
              "                \n",
              "            </td>\n",
              "            <td style=\"padding: 0 0.5em 0 0.5em; text-align: left; border: none;\">\n",
              "                DiversidadeLexica\n",
              "            </td>\n",
              "        </tr>\n",
              "    \n",
              "        <tr style=\"background-color: hsl(120, 100.00%, 82.72%); border: none;\">\n",
              "            <td style=\"padding: 0 1em 0 0.5em; text-align: right; border: none;\">\n",
              "                0.0176\n",
              "                \n",
              "                    &plusmn; 0.0395\n",
              "                \n",
              "            </td>\n",
              "            <td style=\"padding: 0 0.5em 0 0.5em; text-align: left; border: none;\">\n",
              "                FrasesNominais\n",
              "            </td>\n",
              "        </tr>\n",
              "    \n",
              "        <tr style=\"background-color: hsl(120, 100.00%, 82.72%); border: none;\">\n",
              "            <td style=\"padding: 0 1em 0 0.5em; text-align: right; border: none;\">\n",
              "                0.0176\n",
              "                \n",
              "                    &plusmn; 0.0450\n",
              "                \n",
              "            </td>\n",
              "            <td style=\"padding: 0 0.5em 0 0.5em; text-align: left; border: none;\">\n",
              "                EntOutro\n",
              "            </td>\n",
              "        </tr>\n",
              "    \n",
              "        <tr style=\"background-color: hsl(120, 100.00%, 82.85%); border: none;\">\n",
              "            <td style=\"padding: 0 1em 0 0.5em; text-align: right; border: none;\">\n",
              "                0.0174\n",
              "                \n",
              "                    &plusmn; 0.0385\n",
              "                \n",
              "            </td>\n",
              "            <td style=\"padding: 0 0.5em 0 0.5em; text-align: left; border: none;\">\n",
              "                TamanhoMedioParagrafos\n",
              "            </td>\n",
              "        </tr>\n",
              "    \n",
              "        <tr style=\"background-color: hsl(120, 100.00%, 83.40%); border: none;\">\n",
              "            <td style=\"padding: 0 1em 0 0.5em; text-align: right; border: none;\">\n",
              "                0.0166\n",
              "                \n",
              "                    &plusmn; 0.0398\n",
              "                \n",
              "            </td>\n",
              "            <td style=\"padding: 0 0.5em 0 0.5em; text-align: left; border: none;\">\n",
              "                FrequenciaPalavrasDuplicadas\n",
              "            </td>\n",
              "        </tr>\n",
              "    \n",
              "        <tr style=\"background-color: hsl(120, 100.00%, 83.57%); border: none;\">\n",
              "            <td style=\"padding: 0 1em 0 0.5em; text-align: right; border: none;\">\n",
              "                0.0164\n",
              "                \n",
              "                    &plusmn; 0.0402\n",
              "                \n",
              "            </td>\n",
              "            <td style=\"padding: 0 0.5em 0 0.5em; text-align: left; border: none;\">\n",
              "                Verbos\n",
              "            </td>\n",
              "        </tr>\n",
              "    \n",
              "        <tr style=\"background-color: hsl(120, 100.00%, 83.62%); border: none;\">\n",
              "            <td style=\"padding: 0 1em 0 0.5em; text-align: right; border: none;\">\n",
              "                0.0163\n",
              "                \n",
              "                    &plusmn; 0.0388\n",
              "                \n",
              "            </td>\n",
              "            <td style=\"padding: 0 0.5em 0 0.5em; text-align: left; border: none;\">\n",
              "                TamanhoMedioDasPalavras\n",
              "            </td>\n",
              "        </tr>\n",
              "    \n",
              "        <tr style=\"background-color: hsl(120, 100.00%, 83.96%); border: none;\">\n",
              "            <td style=\"padding: 0 1em 0 0.5em; text-align: right; border: none;\">\n",
              "                0.0158\n",
              "                \n",
              "                    &plusmn; 0.0374\n",
              "                \n",
              "            </td>\n",
              "            <td style=\"padding: 0 0.5em 0 0.5em; text-align: left; border: none;\">\n",
              "                HapaxLegomenaLocal\n",
              "            </td>\n",
              "        </tr>\n",
              "    \n",
              "        <tr style=\"background-color: hsl(120, 100.00%, 84.05%); border: none;\">\n",
              "            <td style=\"padding: 0 1em 0 0.5em; text-align: right; border: none;\">\n",
              "                0.0157\n",
              "                \n",
              "                    &plusmn; 0.0372\n",
              "                \n",
              "            </td>\n",
              "            <td style=\"padding: 0 0.5em 0 0.5em; text-align: left; border: none;\">\n",
              "                Global hapax\n",
              "            </td>\n",
              "        </tr>\n",
              "    \n",
              "        <tr style=\"background-color: hsl(120, 100.00%, 84.16%); border: none;\">\n",
              "            <td style=\"padding: 0 1em 0 0.5em; text-align: right; border: none;\">\n",
              "                0.0155\n",
              "                \n",
              "                    &plusmn; 0.0380\n",
              "                \n",
              "            </td>\n",
              "            <td style=\"padding: 0 0.5em 0 0.5em; text-align: left; border: none;\">\n",
              "                Preposicoes\n",
              "            </td>\n",
              "        </tr>\n",
              "    \n",
              "        <tr style=\"background-color: hsl(120, 100.00%, 84.24%); border: none;\">\n",
              "            <td style=\"padding: 0 1em 0 0.5em; text-align: right; border: none;\">\n",
              "                0.0154\n",
              "                \n",
              "                    &plusmn; 0.0359\n",
              "                \n",
              "            </td>\n",
              "            <td style=\"padding: 0 0.5em 0 0.5em; text-align: left; border: none;\">\n",
              "                Futuro\n",
              "            </td>\n",
              "        </tr>\n",
              "    \n",
              "        <tr style=\"background-color: hsl(120, 100.00%, 84.64%); border: none;\">\n",
              "            <td style=\"padding: 0 1em 0 0.5em; text-align: right; border: none;\">\n",
              "                0.0149\n",
              "                \n",
              "                    &plusmn; 0.0372\n",
              "                \n",
              "            </td>\n",
              "            <td style=\"padding: 0 0.5em 0 0.5em; text-align: left; border: none;\">\n",
              "                FrequenciaDeParagrafos\n",
              "            </td>\n",
              "        </tr>\n",
              "    \n",
              "        <tr style=\"background-color: hsl(120, 100.00%, 84.64%); border: none;\">\n",
              "            <td style=\"padding: 0 1em 0 0.5em; text-align: right; border: none;\">\n",
              "                0.0149\n",
              "                \n",
              "                    &plusmn; 0.0366\n",
              "                \n",
              "            </td>\n",
              "            <td style=\"padding: 0 0.5em 0 0.5em; text-align: left; border: none;\">\n",
              "                MedidaK\n",
              "            </td>\n",
              "        </tr>\n",
              "    \n",
              "        <tr style=\"background-color: hsl(120, 100.00%, 84.70%); border: none;\">\n",
              "            <td style=\"padding: 0 1em 0 0.5em; text-align: right; border: none;\">\n",
              "                0.0148\n",
              "                \n",
              "                    &plusmn; 0.0328\n",
              "                \n",
              "            </td>\n",
              "            <td style=\"padding: 0 0.5em 0 0.5em; text-align: left; border: none;\">\n",
              "                GuiraudR\n",
              "            </td>\n",
              "        </tr>\n",
              "    \n",
              "        <tr style=\"background-color: hsl(120, 100.00%, 84.81%); border: none;\">\n",
              "            <td style=\"padding: 0 1em 0 0.5em; text-align: right; border: none;\">\n",
              "                0.0146\n",
              "                \n",
              "                    &plusmn; 0.0344\n",
              "                \n",
              "            </td>\n",
              "            <td style=\"padding: 0 0.5em 0 0.5em; text-align: left; border: none;\">\n",
              "                GenFem\n",
              "            </td>\n",
              "        </tr>\n",
              "    \n",
              "        <tr style=\"background-color: hsl(120, 100.00%, 84.90%); border: none;\">\n",
              "            <td style=\"padding: 0 1em 0 0.5em; text-align: right; border: none;\">\n",
              "                0.0145\n",
              "                \n",
              "                    &plusmn; 0.0355\n",
              "                \n",
              "            </td>\n",
              "            <td style=\"padding: 0 0.5em 0 0.5em; text-align: left; border: none;\">\n",
              "                HerdanV\n",
              "            </td>\n",
              "        </tr>\n",
              "    \n",
              "        <tr style=\"background-color: hsl(120, 100.00%, 85.04%); border: none;\">\n",
              "            <td style=\"padding: 0 1em 0 0.5em; text-align: right; border: none;\">\n",
              "                0.0143\n",
              "                \n",
              "                    &plusmn; 0.0326\n",
              "                \n",
              "            </td>\n",
              "            <td style=\"padding: 0 0.5em 0 0.5em; text-align: left; border: none;\">\n",
              "                PalavrasFuncionais\n",
              "            </td>\n",
              "        </tr>\n",
              "    \n",
              "        <tr style=\"background-color: hsl(120, 100.00%, 85.09%); border: none;\">\n",
              "            <td style=\"padding: 0 1em 0 0.5em; text-align: right; border: none;\">\n",
              "                0.0142\n",
              "                \n",
              "                    &plusmn; 0.0341\n",
              "                \n",
              "            </td>\n",
              "            <td style=\"padding: 0 0.5em 0 0.5em; text-align: left; border: none;\">\n",
              "                TerceiraPessoa\n",
              "            </td>\n",
              "        </tr>\n",
              "    \n",
              "        <tr style=\"background-color: hsl(120, 100.00%, 85.17%); border: none;\">\n",
              "            <td style=\"padding: 0 1em 0 0.5em; text-align: right; border: none;\">\n",
              "                0.0141\n",
              "                \n",
              "                    &plusmn; 0.0355\n",
              "                \n",
              "            </td>\n",
              "            <td style=\"padding: 0 0.5em 0 0.5em; text-align: left; border: none;\">\n",
              "                Ponto\n",
              "            </td>\n",
              "        </tr>\n",
              "    \n",
              "        <tr style=\"background-color: hsl(120, 100.00%, 85.22%); border: none;\">\n",
              "            <td style=\"padding: 0 1em 0 0.5em; text-align: right; border: none;\">\n",
              "                0.0141\n",
              "                \n",
              "                    &plusmn; 0.0311\n",
              "                \n",
              "            </td>\n",
              "            <td style=\"padding: 0 0.5em 0 0.5em; text-align: left; border: none;\">\n",
              "                Conjuncoes\n",
              "            </td>\n",
              "        </tr>\n",
              "    \n",
              "        <tr style=\"background-color: hsl(120, 100.00%, 85.22%); border: none;\">\n",
              "            <td style=\"padding: 0 1em 0 0.5em; text-align: right; border: none;\">\n",
              "                0.0141\n",
              "                \n",
              "                    &plusmn; 0.0347\n",
              "                \n",
              "            </td>\n",
              "            <td style=\"padding: 0 0.5em 0 0.5em; text-align: left; border: none;\">\n",
              "                GenMasc\n",
              "            </td>\n",
              "        </tr>\n",
              "    \n",
              "    \n",
              "        \n",
              "            <tr style=\"background-color: hsl(120, 100.00%, 85.22%); border: none;\">\n",
              "                <td colspan=\"2\" style=\"padding: 0 0.5em 0 0.5em; text-align: center; border: none; white-space: nowrap;\">\n",
              "                    <i>&hellip; 44 more &hellip;</i>\n",
              "                </td>\n",
              "            </tr>\n",
              "        \n",
              "    \n",
              "    </tbody>\n",
              "</table>\n",
              "    \n",
              "\n",
              "    \n",
              "\n",
              "\n",
              "    \n",
              "\n",
              "    \n",
              "\n",
              "    \n",
              "\n",
              "    \n",
              "\n",
              "    \n",
              "\n",
              "    \n",
              "\n",
              "\n",
              "\n"
            ],
            "text/plain": [
              "<IPython.core.display.HTML object>"
            ]
          },
          "metadata": {
            "tags": []
          },
          "execution_count": 77
        }
      ]
    },
    {
      "cell_type": "code",
      "metadata": {
        "colab": {
          "base_uri": "https://localhost:8080/"
        },
        "id": "VoyMWASA6d0W",
        "outputId": "ee2e6aac-8675-4641-8b48-b1cd3f27e7c4"
      },
      "source": [
        "encoded_y_news"
      ],
      "execution_count": null,
      "outputs": [
        {
          "output_type": "execute_result",
          "data": {
            "text/plain": [
              "array([8, 8, 8, 8, 8, 8, 8, 8, 8, 8, 9, 9, 9, 9, 9, 9, 9, 9, 9, 9, 1, 1,\n",
              "       1, 1, 1, 1, 1, 1, 1, 1, 3, 3, 3, 3, 3, 3, 3, 3, 3, 3, 5, 5, 5, 5,\n",
              "       5, 5, 5, 5, 5, 5, 7, 7, 7, 7, 7, 7, 7, 7, 7, 7, 6, 6, 6, 6, 6, 6,\n",
              "       6, 6, 6, 6, 4, 4, 4, 4, 4, 4, 4, 4, 4, 4, 0, 0, 0, 0, 0, 0, 0, 0,\n",
              "       0, 0, 2, 2, 2, 2, 2, 2, 2, 2, 2, 2])"
            ]
          },
          "metadata": {
            "tags": []
          },
          "execution_count": 8
        }
      ]
    },
    {
      "cell_type": "code",
      "metadata": {
        "id": "ifIFpGFaSsJC",
        "colab": {
          "base_uri": "https://localhost:8080/",
          "height": 581
        },
        "outputId": "9e24b164-89e9-40a6-9c62-a7c9a3541ee6"
      },
      "source": [
        ""
      ],
      "execution_count": null,
      "outputs": [
        {
          "output_type": "display_data",
          "data": {
            "image/png": "[encoded data removed]",
            "text/plain": [
              "<Figure size 576x684 with 1 Axes>"
            ]
          },
          "metadata": {
            "tags": [],
            "needs_background": "light"
          }
        }
      ]
    },
    {
      "cell_type": "code",
      "metadata": {
        "id": "QHrOSn3i64ot",
        "colab": {
          "base_uri": "https://localhost:8080/",
          "height": 581
        },
        "outputId": "9160138c-9c8c-4b6f-df24-68a890d1f0af"
      },
      "source": [
        "# Create the RFE object and compute a cross-validated score.\n",
        "rfc = RandomForestClassifier(n_estimators=200)\n",
        "# The \"accuracy\" scoring is proportional to the number of correct classifications\n",
        "\n",
        "rfecv = RFECV(estimator=rfc, step=1, cv=5,scoring='accuracy')\n",
        "rfecv.fit(df_news, y_news)\n",
        "\n",
        "print(\"Optimal number of features news-dataset: %d\" % rfecv.n_features_)\n",
        "\n",
        "rfecv2 = RFECV(estimator=rfc, step=1, cv=3,\n",
        "              scoring='accuracy')\n",
        "rfecv2.fit(df, y)\n",
        "\n",
        "print(\"Optimal number of features students-dataset: %d\" % rfecv2.n_features_)\n",
        "\n",
        "fig, (ax1, ax2) = plt.subplots(1, 2)\n",
        "fig.set_size_inches(12, 8)\n",
        "\n",
        "ax1.plot(range(1, len(rfecv.grid_scores_) + 1), rfecv.grid_scores_)\n",
        "ax1.set_xlabel(\"Number of features selected\")\n",
        "ax1.set_ylabel(\"Cross validation score (nb of correct classifications)\")\n",
        "ax1.set_title('Random Forest n=200 - News dataset')\n",
        "\n",
        "ax2.plot(range(1, len(rfecv2.grid_scores_) + 1), rfecv2.grid_scores_)\n",
        "ax2.set_xlabel(\"Number of features selected\")\n",
        "ax2.set_ylabel(\"Cross validation score (nb of correct classifications)\")\n",
        "ax2.set_title('Random Forest n=200 - Students dataset')\n",
        "\n",
        "plt.figure()"
      ],
      "execution_count": null,
      "outputs": [
        {
          "output_type": "stream",
          "text": [
            "Optimal number of features news-dataset: 71\n",
            "Optimal number of features students-dataset: 50\n"
          ],
          "name": "stdout"
        },
        {
          "output_type": "execute_result",
          "data": {
            "text/plain": [
              "<Figure size 432x288 with 0 Axes>"
            ]
          },
          "metadata": {
            "tags": []
          },
          "execution_count": 7
        },
        {
          "output_type": "display_data",
          "data": {
            "image/png": "[encoded data removed]",
            "text/plain": [
              "<Figure size 864x576 with 2 Axes>"
            ]
          },
          "metadata": {
            "tags": [],
            "needs_background": "light"
          }
        },
        {
          "output_type": "display_data",
          "data": {
            "text/plain": [
              "<Figure size 432x288 with 0 Axes>"
            ]
          },
          "metadata": {
            "tags": []
          }
        }
      ]
    },
    {
      "cell_type": "code",
      "metadata": {
        "id": "SrMzJ2vOtsZG",
        "colab": {
          "base_uri": "https://localhost:8080/",
          "height": 316
        },
        "outputId": "cff3f05b-67b7-4495-fc2c-22f0eb8c9cc6"
      },
      "source": [
        "svc = RandomForestClassifier(n_estimators=200)\n",
        "# The \"accuracy\" scoring is proportional to the number of correct\n",
        "# classifications\n",
        "rfecv = RFECV(estimator=svc, step=1, cv=5,\n",
        "              scoring='accuracy')\n",
        "rfecv.fit(df_news, y_news)\n",
        "\n",
        "print(\"Optimal number of features : %d\" % rfecv.n_features_)\n",
        "\n",
        "# Plot number of features VS. cross-validation scores\n",
        "plt.figure()\n",
        "plt.xlabel(\"Number of features selected\")\n",
        "plt.ylabel(\"Cross validation score (nb of correct classifications)\")\n",
        "plt.plot(range(1, len(rfecv.grid_scores_) + 1), rfecv.grid_scores_)\n",
        "plt.show()"
      ],
      "execution_count": null,
      "outputs": [
        {
          "output_type": "stream",
          "text": [
            "Optimal number of features : 34\n"
          ],
          "name": "stdout"
        },
        {
          "output_type": "display_data",
          "data": {
            "image/png": "[encoded data removed]",
            "text/plain": [
              "<Figure size 432x288 with 1 Axes>"
            ]
          },
          "metadata": {
            "tags": [],
            "needs_background": "light"
          }
        }
      ]
    },
    {
      "cell_type": "code",
      "metadata": {
        "id": "xX-rbG4pTw8R",
        "colab": {
          "base_uri": "https://localhost:8080/",
          "height": 204
        },
        "outputId": "5590747d-290b-44f4-aa71-6b6c9f5ef52e"
      },
      "source": [
        "# Visualize data\n",
        "df.shape\n",
        "df.head()\n",
        "df.shape\n",
        "raw_df.head()"
      ],
      "execution_count": null,
      "outputs": [
        {
          "output_type": "execute_result",
          "data": {
            "text/html": [
              "<div>\n",
              "<style scoped>\n",
              "    .dataframe tbody tr th:only-of-type {\n",
              "        vertical-align: middle;\n",
              "    }\n",
              "\n",
              "    .dataframe tbody tr th {\n",
              "        vertical-align: top;\n",
              "    }\n",
              "\n",
              "    .dataframe thead th {\n",
              "        text-align: right;\n",
              "    }\n",
              "</style>\n",
              "<table border=\"1\" class=\"dataframe\">\n",
              "  <thead>\n",
              "    <tr style=\"text-align: right;\">\n",
              "      <th></th>\n",
              "      <th>Text</th>\n",
              "    </tr>\n",
              "  </thead>\n",
              "  <tbody>\n",
              "    <tr>\n",
              "      <th>1</th>\n",
              "      <td>respostas ecologia evolutiva retirar amostra p...</td>\n",
              "    </tr>\n",
              "    <tr>\n",
              "      <th>2</th>\n",
              "      <td>1 - competição membros espécies diferentes usa...</td>\n",
              "    </tr>\n",
              "    <tr>\n",
              "      <th>3</th>\n",
              "      <td>embora temática questão ambiental crescente an...</td>\n",
              "    </tr>\n",
              "    <tr>\n",
              "      <th>5</th>\n",
              "      <td>vem cada dia buscando entender relações estabe...</td>\n",
              "    </tr>\n",
              "    <tr>\n",
              "      <th>6</th>\n",
              "      <td>pode-se dizer que, conservar dado habitat dada...</td>\n",
              "    </tr>\n",
              "  </tbody>\n",
              "</table>\n",
              "</div>"
            ],
            "text/plain": [
              "                                                Text\n",
              "1  respostas ecologia evolutiva retirar amostra p...\n",
              "2  1 - competição membros espécies diferentes usa...\n",
              "3  embora temática questão ambiental crescente an...\n",
              "5  vem cada dia buscando entender relações estabe...\n",
              "6  pode-se dizer que, conservar dado habitat dada..."
            ]
          },
          "metadata": {
            "tags": []
          },
          "execution_count": 18
        }
      ]
    },
    {
      "cell_type": "code",
      "metadata": {
        "id": "EWwBfLgS-zZA"
      },
      "source": [
        "#stopwords = nltk.corpus.stopwords.words('portuguese')\n",
        "raw_df['Text'] = raw_df['Text'].apply(lambda x: ' '.join([word for word in x.split()]))"
      ],
      "execution_count": null,
      "outputs": []
    },
    {
      "cell_type": "code",
      "metadata": {
        "id": "gxmBkJBicT8u"
      },
      "source": [
        "raw_df = raw_df.replace(to_replace ='\\r', value = ' ', regex = True) \n",
        "raw_df = raw_df.replace(to_replace ='\\n ', value = '\\n', regex = True) \n",
        "raw_df = raw_df.replace(to_replace ='\\n{2,*}', value = ' ', regex = True)"
      ],
      "execution_count": null,
      "outputs": []
    },
    {
      "cell_type": "code",
      "metadata": {
        "id": "2zKovLDZF0Le",
        "colab": {
          "base_uri": "https://localhost:8080/"
        },
        "outputId": "8ae00653-9491-4fd9-c5fa-4da8c1524adb"
      },
      "source": [
        "raw_df['Text']"
      ],
      "execution_count": null,
      "outputs": [
        {
          "output_type": "execute_result",
          "data": {
            "text/plain": [
              "1      respostas ecologia evolutiva retirar uma amost...\n",
              "2      1 - competição entre membros de espécies difer...\n",
              "3      embora a temática questão ambiental esteja num...\n",
              "5      a ciência vem a cada dia buscando entender as ...\n",
              "6      pode-se dizer que, conservar um dado habitat o...\n",
              "                             ...                        \n",
              "92     referencial teórico: anuras ( bufonídeos ) ou ...\n",
              "93     congregação santa dorotéia do brasil – – a seg...\n",
              "94     congregação santa doroteia do brasil em ciênci...\n",
              "95     disciplina: orientação e supervisão de estágio...\n",
              "102    metodologia do ensino de ciências e de biologi...\n",
              "Name: Text, Length: 69, dtype: object"
            ]
          },
          "metadata": {
            "tags": []
          },
          "execution_count": 11
        }
      ]
    },
    {
      "cell_type": "code",
      "metadata": {
        "id": "XKDn9mh9-DJ7"
      },
      "source": [
        "#X_idf = tfidf_transformer.fit_transform(raw_df['Text'])\n",
        "X_tfidf = TfidfVectorizer().fit_transform(raw_df['Text'])\n",
        "\n",
        "from sklearn.decomposition import TruncatedSVD\n",
        "\n",
        "svd = TruncatedSVD(n_components=3, random_state=42)\n",
        "data = svd.fit_transform(X_tfidf) "
      ],
      "execution_count": null,
      "outputs": []
    },
    {
      "cell_type": "code",
      "metadata": {
        "id": "MOMw5Fol0K4e",
        "colab": {
          "base_uri": "https://localhost:8080/",
          "height": 280
        },
        "outputId": "41899cbd-3a1a-4246-d9ee-8c5a910412b3"
      },
      "source": [
        "gx = GaussianMixture()\n",
        "\n",
        "#gx.fit(df)\n",
        "n_components = np.arange(1, 30)\n",
        "models = [GaussianMixture(n, covariance_type='full', random_state=0).fit(df) for n in n_components]\n",
        "plt.plot(n_components, [m.bic(df) for m in models], label='BIC')\n",
        "plt.plot(n_components, [m.aic(df) for m in models], label='AIC')\n",
        "plt.legend(loc='best')\n",
        "plt.xlabel('n_components');"
      ],
      "execution_count": null,
      "outputs": [
        {
          "output_type": "display_data",
          "data": {
            "image/png": "[encoded data removed]",
            "text/plain": [
              "<Figure size 432x288 with 1 Axes>"
            ]
          },
          "metadata": {
            "tags": [],
            "needs_background": "light"
          }
        }
      ]
    },
    {
      "cell_type": "code",
      "metadata": {
        "id": "RKlDyIDsFaxY",
        "colab": {
          "base_uri": "https://localhost:8080/",
          "height": 265
        },
        "outputId": "ce09972f-490a-4848-f81a-d151a47690c1"
      },
      "source": [
        "gmm = GaussianMixture(n_components=5)\n",
        "gmm.fit(df)\n",
        "labels = gmm.predict(df.values)\n",
        "plt.scatter(df.values[:, 0], df.values[:, 6], c=labels, cmap='viridis');"
      ],
      "execution_count": null,
      "outputs": [
        {
          "output_type": "display_data",
          "data": {
            "image/png": "[encoded data removed]",
            "text/plain": [
              "<Figure size 432x288 with 1 Axes>"
            ]
          },
          "metadata": {
            "tags": [],
            "needs_background": "light"
          }
        }
      ]
    },
    {
      "cell_type": "code",
      "metadata": {
        "id": "Ic8g1H1gBU-n"
      },
      "source": [
        "scaler = StandardScaler()\n",
        "# Fit on training set only.\n",
        "x = scaler.fit_transform(df)\n",
        "\n",
        "pca = PCA(0.95)\n",
        "X = pca.fit_transform(x)"
      ],
      "execution_count": null,
      "outputs": []
    },
    {
      "cell_type": "code",
      "metadata": {
        "id": "sFRc0ZG2_r6l"
      },
      "source": [
        "#W2Vec tryout\n",
        "from sklearn.feature_extraction.text import CountVectorizer, TfidfTransformer,TfidfVectorizer\n",
        "from sklearn.naive_bayes import MultinomialNB\n",
        "\n",
        "\n",
        "# count_vect = CountVectorizer()\n",
        "# word_count_vector = count_vect.fit_transform(raw_df['Text'])\n",
        " \n",
        "# settings that you use for count vectorizer will go here\n",
        "#tfidf_vectorizer=TfidfVectorizer(use_idf=True)\n",
        " \n",
        "# just send in all your docs here\n",
        "#tfidf_vectorizer_vectors=tfidf_vectorizer.fit_transform(raw_df['Text'])\n",
        "\n",
        "# tfidf_transformer = TfidfTransformer()\n",
        "# X_raw = tfidf_transformer.fit_transform(X_train_counts)\n",
        "#tfidf_vectorizer_vectors[0].to\n",
        "\n",
        "# for train_index, test_index in kfold.split(X_raw, encoded_raw_Y):\n",
        "#   X_train, y_train = X_raw[train_index], encoded_raw_Y[train_index]\n",
        "#   X_test, y_test = X_raw[test_index], encoded_raw_Y[test_index]\n",
        "#   print(X_raw[train_index])\n",
        "\n",
        "\n",
        "X_train, X_test, y_train, y_test = train_test_split(raw_df['Text'], encoded_raw_Y, random_state = 0)\n",
        "count_vect = CountVectorizer()\n",
        "X_train_counts = count_vect.fit_transform(X_train)\n",
        "tfidf_transformer = TfidfTransformer()\n",
        "X_train_tfidf = tfidf_transformer.fit_transform(X_train_counts)\n",
        "clf = MultinomialNB().fit(X_train_tfidf, y_train)"
      ],
      "execution_count": null,
      "outputs": []
    },
    {
      "cell_type": "code",
      "metadata": {
        "id": "EEPBnuGac-Jw",
        "colab": {
          "base_uri": "https://localhost:8080/",
          "height": 394
        },
        "outputId": "884bb39e-73ca-43fb-c23b-bb423cc3397d"
      },
      "source": [
        "stopwords = nltk.corpus.stopwords.words('portuguese')\n",
        "#models = [AdaBoostClassifier(), BaggingClassifier(),ExtraTreesClassifier(), GradientBoostingClassifier(),\n",
        "           #RandomForestClassifier(), SGDClassifier(), LinearSVC(), SVC(), BernoulliNB(), MultinomialNB(), MLPClassifier() ]\n",
        "\n",
        "models = [ExtraTreesClassifier(), RandomForestClassifier(), SGDClassifier(), MultinomialNB(), MLPClassifier()]\n",
        "names = ['extratrees', 'randomf', 'sgdclassfier','multinomialNB', 'mlp']\n",
        "\n",
        "results = []\n",
        "accuracies = {}\n",
        "for idx, model in enumerate(models):\n",
        "  for ngram in range(1,5):\n",
        "    clf = make_pipeline(TfidfVectorizer(use_idf=True, stop_words = stopwords, ngram_range=(1, ngram)), model)\n",
        "    accs = []\n",
        "    for i in range(0, 10):\n",
        "      scores = cross_validate(clf, raw_df['Text'], encoded_raw_Y, scoring=['accuracy'], cv=3, return_train_score=True)\n",
        "      #print(np.mean(scores['test_accuracy']))\n",
        "      #print(component, names[idx])\n",
        "      #print(scores['test_accuracy'])\n",
        "      mean = np.mean(scores['test_accuracy'])\n",
        "    accs.append(mean)\n",
        "    results.append((np.mean(accs), ngram, names[idx]))\n",
        "\n",
        "print(results)\n",
        "results"
      ],
      "execution_count": null,
      "outputs": [
        {
          "output_type": "stream",
          "text": [
            "[(0.21739130434782608, 1, 'extratrees'), (0.24637681159420288, 2, 'extratrees'), (0.2028985507246377, 3, 'extratrees'), (0.2028985507246377, 4, 'extratrees'), (0.2318840579710145, 1, 'randomf'), (0.24637681159420288, 2, 'randomf'), (0.20289855072463767, 3, 'randomf'), (0.14492753623188406, 4, 'randomf'), (0.18840579710144925, 1, 'sgdclassfier'), (0.1884057971014493, 2, 'sgdclassfier'), (0.20289855072463767, 3, 'sgdclassfier'), (0.2028985507246377, 4, 'sgdclassfier'), (0.17391304347826086, 1, 'multinomialNB'), (0.14492753623188406, 2, 'multinomialNB'), (0.14492753623188406, 3, 'multinomialNB'), (0.14492753623188406, 4, 'multinomialNB'), (0.2318840579710145, 1, 'mlp'), (0.17391304347826086, 2, 'mlp'), (0.2028985507246377, 3, 'mlp'), (0.24637681159420288, 4, 'mlp')]\n"
          ],
          "name": "stdout"
        },
        {
          "output_type": "execute_result",
          "data": {
            "text/plain": [
              "[(0.21739130434782608, 1, 'extratrees'),\n",
              " (0.24637681159420288, 2, 'extratrees'),\n",
              " (0.2028985507246377, 3, 'extratrees'),\n",
              " (0.2028985507246377, 4, 'extratrees'),\n",
              " (0.2318840579710145, 1, 'randomf'),\n",
              " (0.24637681159420288, 2, 'randomf'),\n",
              " (0.20289855072463767, 3, 'randomf'),\n",
              " (0.14492753623188406, 4, 'randomf'),\n",
              " (0.18840579710144925, 1, 'sgdclassfier'),\n",
              " (0.1884057971014493, 2, 'sgdclassfier'),\n",
              " (0.20289855072463767, 3, 'sgdclassfier'),\n",
              " (0.2028985507246377, 4, 'sgdclassfier'),\n",
              " (0.17391304347826086, 1, 'multinomialNB'),\n",
              " (0.14492753623188406, 2, 'multinomialNB'),\n",
              " (0.14492753623188406, 3, 'multinomialNB'),\n",
              " (0.14492753623188406, 4, 'multinomialNB'),\n",
              " (0.2318840579710145, 1, 'mlp'),\n",
              " (0.17391304347826086, 2, 'mlp'),\n",
              " (0.2028985507246377, 3, 'mlp'),\n",
              " (0.24637681159420288, 4, 'mlp')]"
            ]
          },
          "metadata": {
            "tags": []
          },
          "execution_count": 27
        }
      ]
    },
    {
      "cell_type": "code",
      "metadata": {
        "id": "7HyGlvnLJROc"
      },
      "source": [
        "# Data normalization/scaling\n",
        "scaled_features = PowerTransformer().fit_transform(df.values)\n",
        "df = pd.DataFrame(scaled_features, index=df.index, columns=df.columns)\n"
      ],
      "execution_count": null,
      "outputs": []
    },
    {
      "cell_type": "code",
      "metadata": {
        "id": "CXgZaN4As-nl",
        "colab": {
          "base_uri": "https://localhost:8080/",
          "height": 153
        },
        "outputId": "b5d5dfb1-3cbb-4304-9155-9606a3770021"
      },
      "source": [
        "X, X_test, Y, y_test = train_test_split(df_news.values, encoded_y_news, random_state=7, test_size=0.3)\n",
        "X_test, X_val, y_test, y_val = train_test_split(X_test, y_test, random_state=7, test_size=0.5)\n",
        "\n",
        "model = ExtraTreesClassifier(n_estimators=350, random_state=11)\n",
        "print(X.shape)\n",
        "model.fit(X, Y)\n",
        "\n",
        "print(X_test.shape)\n",
        "y_pred = model.predict(X_test)\n",
        "\n",
        "print(y_pred)\n",
        "print(y_test)\n",
        "score = accuracy_score(y_test, y_pred)\n",
        "print(\"Test score: %.2f%%\" % (score * 100))\n",
        "\n",
        "y_pred = model.predict(X_val)\n",
        "print(y_pred)\n",
        "print(y_val)\n",
        "score = accuracy_score(y_val, y_pred)\n",
        "print(\"Validation score: %.2f%%\" % (score * 100))"
      ],
      "execution_count": null,
      "outputs": [
        {
          "output_type": "stream",
          "text": [
            "(70, 54)\n",
            "(15, 54)\n",
            "[2 6 7 2 7 2 0 2 0 8 2 2 2 4 4]\n",
            "[2 6 6 8 7 0 0 3 0 8 2 8 2 4 4]\n",
            "Test score: 66.67%\n",
            "[3 5 3 1 4 2 1 7 2 2 6 2 8 7 3]\n",
            "[3 5 1 1 4 8 1 7 2 2 6 8 8 2 3]\n",
            "Validation score: 73.33%\n"
          ],
          "name": "stdout"
        }
      ]
    },
    {
      "cell_type": "code",
      "metadata": {
        "id": "vX53th7hZJSW",
        "colab": {
          "base_uri": "https://localhost:8080/",
          "height": 54
        },
        "outputId": "b6334ccb-4ebf-4117-fcd1-2101da550715"
      },
      "source": [
        "#stopwords = nltk.corpus.stopwords.words('portuguese')\n",
        "models = [ExtraTreesClassifier(), \n",
        "           RandomForestClassifier(), SVC(kernel='poly'), SVC(), MLPClassifier() ]\n",
        "\n",
        "names = ['extratrees','randomf', 'svcpoly', 'svcrbf', 'mlp']\n",
        "\n",
        "#results = []\n",
        "results2 = []\n",
        "accuracies = {}\n",
        "kfold = StratifiedKFold(n_splits=4, shuffle=True, random_state=7)\n",
        "for idx, model in enumerate(models):\n",
        "  for component in range(5, 48):\n",
        "    clf = make_pipeline(PCA(n_components=component), model)\n",
        "    accs = []\n",
        "    for i in range(0, 10):\n",
        "      scores = []\n",
        "      for train_index, test_index in kfold.split(df, encoded_Y):\n",
        "        X_train, y_train = df.iloc[train_index], encoded_Y[train_index]\n",
        "        X_test, y_test = df.iloc[test_index], encoded_Y[test_index]\n",
        "        #X_train_oversampled, y_train_oversampled = SMOTE(k_neighbors=2).fit_sample(X_train, y_train)\n",
        "        model.fit(X_train, y_train)\n",
        "        y_pred = model.predict(X_test)\n",
        "        scores.append(accuracy_score(y_test, y_pred))\n",
        "        #print(np.mean(scores['test_accuracy']))\n",
        "        #print(component, names[idx])\n",
        "        #print(scores['test_accuracy'])\n",
        "      mean = np.mean(scores)\n",
        "      accs.append(mean)\n",
        "    results2.append((np.mean(accs), component, names[idx]))\n",
        "print(results2)"
      ],
      "execution_count": null,
      "outputs": [
        {
          "output_type": "stream",
          "text": [
            "[(0.17663398692810456, 5, 'extratrees'), (0.18815359477124183, 6, 'extratrees'), (0.19133986928104574, 7, 'extratrees'), (0.1793300653594771, 8, 'extratrees'), (0.17058823529411765, 9, 'extratrees'), (0.17908496732026144, 10, 'extratrees'), (0.17181372549019608, 11, 'extratrees'), (0.18341503267973855, 12, 'extratrees'), (0.1853758169934641, 13, 'extratrees'), (0.1883986928104575, 14, 'extratrees'), (0.1901143790849673, 15, 'extratrees'), (0.18235294117647058, 16, 'extratrees'), (0.1935457516339869, 17, 'extratrees'), (0.1849673202614379, 18, 'extratrees'), (0.16911764705882354, 19, 'extratrees'), (0.175, 20, 'extratrees'), (0.19387254901960782, 21, 'extratrees'), (0.17230392156862745, 22, 'extratrees'), (0.1919934640522876, 23, 'extratrees'), (0.18766339869281043, 24, 'extratrees'), (0.16830065359477125, 25, 'extratrees'), (0.1730392156862745, 26, 'extratrees'), (0.18031045751633987, 27, 'extratrees'), (0.18382352941176472, 28, 'extratrees'), (0.17508169934640522, 29, 'extratrees'), (0.18790849673202614, 30, 'extratrees'), (0.1707516339869281, 31, 'extratrees'), (0.20212418300653595, 32, 'extratrees'), (0.18513071895424837, 33, 'extratrees'), (0.18562091503267975, 34, 'extratrees'), (0.1724673202614379, 35, 'extratrees'), (0.1824346405228758, 36, 'extratrees'), (0.19215686274509805, 37, 'extratrees'), (0.1926470588235294, 38, 'extratrees'), (0.16331699346405232, 39, 'extratrees'), (0.19501633986928107, 40, 'extratrees'), (0.1834967320261438, 41, 'extratrees'), (0.19150326797385622, 42, 'extratrees'), (0.1920751633986928, 43, 'extratrees'), (0.1936274509803922, 44, 'extratrees'), (0.18521241830065363, 45, 'extratrees'), (0.1847222222222222, 46, 'extratrees'), (0.1951797385620915, 47, 'extratrees'), (0.19477124183006536, 5, 'randomf'), (0.2051470588235294, 6, 'randomf'), (0.2079248366013072, 7, 'randomf'), (0.20375816993464052, 8, 'randomf'), (0.2053104575163399, 9, 'randomf'), (0.2008169934640523, 10, 'randomf'), (0.2107843137254902, 11, 'randomf'), (0.19060457516339868, 12, 'randomf'), (0.19060457516339868, 13, 'randomf'), (0.1982843137254902, 14, 'randomf'), (0.1946078431372549, 15, 'randomf'), (0.2090686274509804, 16, 'randomf'), (0.20106209150326798, 17, 'randomf'), (0.20767973856209151, 18, 'randomf'), (0.20522875816993466, 19, 'randomf'), (0.19477124183006536, 20, 'randomf'), (0.21086601307189543, 21, 'randomf'), (0.19926470588235295, 22, 'randomf'), (0.19362745098039214, 23, 'randomf'), (0.19207516339869282, 24, 'randomf'), (0.17467320261437908, 25, 'randomf'), (0.19076797385620917, 26, 'randomf'), (0.19501633986928105, 27, 'randomf'), (0.20089869281045752, 28, 'randomf'), (0.20375816993464055, 29, 'randomf'), (0.20359477124183006, 30, 'randomf'), (0.20375816993464052, 31, 'randomf'), (0.19035947712418302, 32, 'randomf'), (0.21495098039215685, 33, 'randomf'), (0.1852124183006536, 34, 'randomf'), (0.2125, 35, 'randomf'), (0.1931372549019608, 36, 'randomf'), (0.20351307189542484, 37, 'randomf'), (0.20359477124183006, 38, 'randomf'), (0.21830065359477122, 39, 'randomf'), (0.20816993464052286, 40, 'randomf'), (0.2125, 41, 'randomf'), (0.20988562091503268, 42, 'randomf'), (0.2019607843137255, 43, 'randomf'), (0.2107843137254902, 44, 'randomf'), (0.1821078431372549, 45, 'randomf'), (0.21666666666666665, 46, 'randomf'), (0.2011437908496732, 47, 'randomf'), (0.13071895424836602, 5, 'svcpoly'), (0.13071895424836602, 6, 'svcpoly'), (0.13071895424836602, 7, 'svcpoly'), (0.13071895424836602, 8, 'svcpoly'), (0.13071895424836602, 9, 'svcpoly'), (0.13071895424836602, 10, 'svcpoly'), (0.13071895424836602, 11, 'svcpoly'), (0.13071895424836602, 12, 'svcpoly'), (0.13071895424836602, 13, 'svcpoly'), (0.13071895424836602, 14, 'svcpoly'), (0.13071895424836602, 15, 'svcpoly'), (0.13071895424836602, 16, 'svcpoly'), (0.13071895424836602, 17, 'svcpoly'), (0.13071895424836602, 18, 'svcpoly'), (0.13071895424836602, 19, 'svcpoly'), (0.13071895424836602, 20, 'svcpoly'), (0.13071895424836602, 21, 'svcpoly'), (0.13071895424836602, 22, 'svcpoly'), (0.13071895424836602, 23, 'svcpoly'), (0.13071895424836602, 24, 'svcpoly'), (0.13071895424836602, 25, 'svcpoly'), (0.13071895424836602, 26, 'svcpoly'), (0.13071895424836602, 27, 'svcpoly'), (0.13071895424836602, 28, 'svcpoly'), (0.13071895424836602, 29, 'svcpoly'), (0.13071895424836602, 30, 'svcpoly'), (0.13071895424836602, 31, 'svcpoly'), (0.13071895424836602, 32, 'svcpoly'), (0.13071895424836602, 33, 'svcpoly'), (0.13071895424836602, 34, 'svcpoly'), (0.13071895424836602, 35, 'svcpoly'), (0.13071895424836602, 36, 'svcpoly'), (0.13071895424836602, 37, 'svcpoly'), (0.13071895424836602, 38, 'svcpoly'), (0.13071895424836602, 39, 'svcpoly'), (0.13071895424836602, 40, 'svcpoly'), (0.13071895424836602, 41, 'svcpoly'), (0.13071895424836602, 42, 'svcpoly'), (0.13071895424836602, 43, 'svcpoly'), (0.13071895424836602, 44, 'svcpoly'), (0.13071895424836602, 45, 'svcpoly'), (0.13071895424836602, 46, 'svcpoly'), (0.13071895424836602, 47, 'svcpoly'), (0.14297385620915032, 5, 'svcrbf'), (0.14297385620915032, 6, 'svcrbf'), (0.14297385620915032, 7, 'svcrbf'), (0.14297385620915032, 8, 'svcrbf'), (0.14297385620915032, 9, 'svcrbf'), (0.14297385620915032, 10, 'svcrbf'), (0.14297385620915032, 11, 'svcrbf'), (0.14297385620915032, 12, 'svcrbf'), (0.14297385620915032, 13, 'svcrbf'), (0.14297385620915032, 14, 'svcrbf'), (0.14297385620915032, 15, 'svcrbf'), (0.14297385620915032, 16, 'svcrbf'), (0.14297385620915032, 17, 'svcrbf'), (0.14297385620915032, 18, 'svcrbf'), (0.14297385620915032, 19, 'svcrbf'), (0.14297385620915032, 20, 'svcrbf'), (0.14297385620915032, 21, 'svcrbf'), (0.14297385620915032, 22, 'svcrbf'), (0.14297385620915032, 23, 'svcrbf'), (0.14297385620915032, 24, 'svcrbf'), (0.14297385620915032, 25, 'svcrbf'), (0.14297385620915032, 26, 'svcrbf'), (0.14297385620915032, 27, 'svcrbf'), (0.14297385620915032, 28, 'svcrbf'), (0.14297385620915032, 29, 'svcrbf'), (0.14297385620915032, 30, 'svcrbf'), (0.14297385620915032, 31, 'svcrbf'), (0.14297385620915032, 32, 'svcrbf'), (0.14297385620915032, 33, 'svcrbf'), (0.14297385620915032, 34, 'svcrbf'), (0.14297385620915032, 35, 'svcrbf'), (0.14297385620915032, 36, 'svcrbf'), (0.14297385620915032, 37, 'svcrbf'), (0.14297385620915032, 38, 'svcrbf'), (0.14297385620915032, 39, 'svcrbf'), (0.14297385620915032, 40, 'svcrbf'), (0.14297385620915032, 41, 'svcrbf'), (0.14297385620915032, 42, 'svcrbf'), (0.14297385620915032, 43, 'svcrbf'), (0.14297385620915032, 44, 'svcrbf'), (0.14297385620915032, 45, 'svcrbf'), (0.14297385620915032, 46, 'svcrbf'), (0.14297385620915032, 47, 'svcrbf'), (0.1929738562091503, 5, 'mlp'), (0.17679738562091502, 6, 'mlp'), (0.19452614379084968, 7, 'mlp'), (0.180718954248366, 8, 'mlp'), (0.17802287581699344, 9, 'mlp'), (0.183578431372549, 10, 'mlp'), (0.1724673202614379, 11, 'mlp'), (0.17540849673202613, 12, 'mlp'), (0.1705065359477124, 13, 'mlp'), (0.19844771241830064, 14, 'mlp'), (0.1793300653594771, 15, 'mlp'), (0.1736111111111111, 16, 'mlp'), (0.19272875816993465, 17, 'mlp'), (0.18562091503267975, 18, 'mlp'), (0.16307189542483658, 19, 'mlp'), (0.1824346405228758, 20, 'mlp'), (0.18276143790849672, 21, 'mlp'), (0.18709150326797386, 22, 'mlp'), (0.18112745098039215, 23, 'mlp'), (0.18112745098039212, 24, 'mlp'), (0.19722222222222224, 25, 'mlp'), (0.17949346405228755, 26, 'mlp'), (0.1826797385620915, 27, 'mlp'), (0.19697712418300653, 28, 'mlp'), (0.18815359477124183, 29, 'mlp'), (0.17802287581699344, 30, 'mlp'), (0.17524509803921567, 31, 'mlp'), (0.18537581699346406, 32, 'mlp'), (0.1652777777777778, 33, 'mlp'), (0.1790849673202614, 34, 'mlp'), (0.19003267973856208, 35, 'mlp'), (0.17230392156862742, 36, 'mlp'), (0.19411764705882356, 37, 'mlp'), (0.1580065359477124, 38, 'mlp'), (0.18251633986928104, 39, 'mlp'), (0.17933006535947715, 40, 'mlp'), (0.1690359477124183, 41, 'mlp'), (0.17352941176470588, 42, 'mlp'), (0.18366013071895423, 43, 'mlp'), (0.172140522875817, 44, 'mlp'), (0.17483660130718953, 45, 'mlp'), (0.17361111111111113, 46, 'mlp'), (0.18120915032679738, 47, 'mlp')]\n"
          ],
          "name": "stdout"
        }
      ]
    },
    {
      "cell_type": "code",
      "metadata": {
        "id": "cHU4EuiXKQV9",
        "colab": {
          "base_uri": "https://localhost:8080/",
          "height": 34
        },
        "outputId": "8f7f4832-b941-493c-b766-8cec8bbeff07"
      },
      "source": [
        "np.mean(accs)"
      ],
      "execution_count": null,
      "outputs": [
        {
          "output_type": "execute_result",
          "data": {
            "text/plain": [
              "0.18120915032679738"
            ]
          },
          "metadata": {
            "tags": []
          },
          "execution_count": 31
        }
      ]
    },
    {
      "cell_type": "code",
      "metadata": {
        "id": "Ez2sJwp__yQm",
        "colab": {
          "base_uri": "https://localhost:8080/",
          "height": 34
        },
        "outputId": "aa935ae0-32fa-45e3-c4a4-aac045a3d372"
      },
      "source": [
        "kfold = StratifiedKFold(n_splits=3, shuffle=True, random_state=7)\n",
        "Y = encoded_Y\n",
        "accuracies = []\n",
        "variances = []\n",
        "X = df\n",
        "\n",
        "models = [ExtraTreesClassifier(), RandomForestClassifier(), MLPClassifier(), SVC(kernel='poly')]\n",
        "for i in range(0,100):\n",
        "  scores = []\n",
        "  for train_index, test_index in kfold.split(X, Y):\n",
        "      #convert integers to dummy variables (i.e. one hot encoded)\n",
        "      #dummy_y = np_utils.to_categorical(Y)\n",
        "      X_train, y_train = X.iloc[train_index], Y[train_index]\n",
        "      X_test, y_test = X.iloc[test_index], Y[test_index]\n",
        "      X_train_oversampled, y_train_oversampled = SMOTE(k_neighbors=1).fit_sample(X_train, y_train)\n",
        "      #rfclf = LinearSVC(multi_class='crammer_singer')\n",
        "      \n",
        "      #rfclf = KNeighborsClassifier(n_neighbors=5)\n",
        "      #rclf = BaggingClassifier(base_estimator=KNeighborsClassifier(n_neighbors=5), n_estimators=100, random_state=0)\n",
        "      #rfclf = ExtraTreesClassifier(max_depth=None, n_estimators=500)\n",
        "      rfclf = LogisticRegression(max_iter=500,solver ='lbfgs')\n",
        "      #rfclf = RandomForestClassifier(n_estimators=500)\n",
        "      rfclf.fit(X_train_oversampled, y_train_oversampled)\n",
        "      y_pred = rfclf.predict(X_test)\n",
        "      #print(confusion_matrix(y_test,y_pred))\n",
        "      #print(classification_report(y_test,y_pred))\n",
        "      #print(accuracy_score(y_test, y_pred))\n",
        "      scores.append(accuracy_score(y_test, y_pred))\n",
        "\n",
        "  accuracies.append(np.mean(scores))\n",
        "print(np.mean(accuracies))"
      ],
      "execution_count": null,
      "outputs": [
        {
          "output_type": "stream",
          "text": [
            "0.16521739130434782\n"
          ],
          "name": "stdout"
        }
      ]
    },
    {
      "cell_type": "code",
      "metadata": {
        "id": "0CHmkX29E9dk",
        "colab": {
          "base_uri": "https://localhost:8080/",
          "height": 34
        },
        "outputId": "4d12d954-53af-4dc1-dc10-b95557c49312"
      },
      "source": [
        "from sklearn.model_selection import cross_val_score\n",
        "clf = RandomForestClassifier(n_estimators=200, random_state=0)\n",
        "scores = cross_val_score(clf, X, Y, cv=4)\n",
        "scores"
      ],
      "execution_count": null,
      "outputs": [
        {
          "output_type": "execute_result",
          "data": {
            "text/plain": [
              "array([0.16666667, 0.11764706, 0.35294118, 0.29411765])"
            ]
          },
          "metadata": {
            "tags": []
          },
          "execution_count": 33
        }
      ]
    },
    {
      "cell_type": "code",
      "metadata": {
        "id": "l-LWQrc-6El7",
        "colab": {
          "base_uri": "https://localhost:8080/",
          "height": 323
        },
        "outputId": "44915d48-cc0d-4c29-e23e-7bc7e6d4bae9"
      },
      "source": [
        "# Oversampling \n",
        "from imblearn.over_sampling import SMOTE\n",
        "\n",
        "\n",
        "smt = SMOTE(k_neighbors=1)\n",
        "X_resampled, y_resampled = smt.fit_resample(X_train, y_train)\n",
        "\n",
        "X_resampled, y_resampled"
      ],
      "execution_count": null,
      "outputs": [
        {
          "output_type": "execute_result",
          "data": {
            "text/plain": [
              "(array([[-0.55435527, -0.2501882 ,  0.26426935, ...,  1.099827  ,\n",
              "         -0.34048617,  1.09949053],\n",
              "        [ 0.20627463, -0.06161256,  0.58115466, ..., -0.40604434,\n",
              "          0.72685816, -0.94413924],\n",
              "        [ 3.26473613, -2.43843207, -0.27922395, ..., -0.26862725,\n",
              "         -0.96006101,  0.41517329],\n",
              "        ...,\n",
              "        [-0.22854103,  1.1883863 , -0.62574551, ...,  0.45081812,\n",
              "          0.14941078,  1.60373883],\n",
              "        [ 0.45928549, -0.59271705, -0.06906793, ...,  0.55687088,\n",
              "         -0.09401901,  0.15694371],\n",
              "        [ 0.37338248, -0.57500306, -0.10807071, ...,  0.35622545,\n",
              "         -0.00905081,  0.14349321]]),\n",
              " array([ 4,  1,  8,  7,  0,  0,  0,  4, 10,  7,  9,  7,  6,  7,  1,  5,  8,\n",
              "         8,  8,  1,  5,  6,  9,  4,  3,  3,  3,  6,  0, 10,  6,  2,  4,  3,\n",
              "        10,  6,  7,  0, 10,  2,  7,  0, 10,  6,  0,  1,  1,  1,  1,  2,  2,\n",
              "         2,  2,  2,  3,  3,  3,  4,  4,  4,  5,  5,  5,  5,  5,  6,  7,  8,\n",
              "         8,  8,  9,  9,  9,  9,  9, 10, 10]))"
            ]
          },
          "metadata": {
            "tags": []
          },
          "execution_count": 34
        }
      ]
    },
    {
      "cell_type": "code",
      "metadata": {
        "id": "NNCvBjOW2vYS",
        "colab": {
          "base_uri": "https://localhost:8080/",
          "height": 68
        },
        "outputId": "b1d10915-38b6-48f4-a837-cba15466b43d"
      },
      "source": [
        "# Data split\n",
        "\n",
        "X_train, X_test, y_train, y_test = train_test_split(df, encoded_Y, test_size=0.3, random_state=0)\n",
        "#X_test, X_application, y_test, y_application = train_test_split(X_test, y_test, test_size=0.5, random_state=0)\n",
        "\n",
        "y_train"
      ],
      "execution_count": null,
      "outputs": [
        {
          "output_type": "execute_result",
          "data": {
            "text/plain": [
              "array([ 8,  9,  7,  7,  0,  2, 10,  6,  0,  6, 10,  4,  9,  4,  0,  5,  7,\n",
              "        7,  7,  4,  1,  8, 10,  1,  1,  0,  7,  8,  6,  6,  2,  7, 10, 10,\n",
              "        0,  1,  9,  7,  8,  0,  5,  3,  6,  5,  4,  0,  3, 10])"
            ]
          },
          "metadata": {
            "tags": []
          },
          "execution_count": 35
        }
      ]
    },
    {
      "cell_type": "code",
      "metadata": {
        "id": "Od0EJHyl898g",
        "colab": {
          "base_uri": "https://localhost:8080/",
          "height": 527
        },
        "outputId": "ff120bc5-dbff-4a25-9d1b-f18100353f37"
      },
      "source": [
        "#Random Forest baseline + accuracy versus test\n",
        "rfclf = RandomForestClassifier(n_estimators=200, random_state=0)\n",
        "rfclf.fit(X_resampled, y_resampled)\n",
        "y_pred = rfclf.predict(X_test)\n",
        "\n",
        "print(confusion_matrix(y_test,y_pred))\n",
        "print(classification_report(y_test,y_pred))\n",
        "print(accuracy_score(y_test, y_pred))"
      ],
      "execution_count": null,
      "outputs": [
        {
          "output_type": "stream",
          "text": [
            "[[2 0 0 0 0 0 0 0 0 1 0]\n",
            " [0 2 0 0 0 0 0 0 0 0 0]\n",
            " [0 0 1 0 0 0 1 0 0 0 0]\n",
            " [0 0 0 2 0 0 1 0 0 0 0]\n",
            " [0 0 0 0 1 0 0 0 0 0 0]\n",
            " [0 0 0 0 0 1 0 0 0 0 0]\n",
            " [0 0 0 0 0 1 2 0 0 0 0]\n",
            " [0 0 0 0 0 0 1 0 0 0 0]\n",
            " [0 1 0 1 0 0 0 0 1 0 0]\n",
            " [0 0 0 0 0 0 0 0 0 1 0]\n",
            " [0 0 0 0 0 0 0 0 0 0 1]]\n",
            "              precision    recall  f1-score   support\n",
            "\n",
            "           0       1.00      0.67      0.80         3\n",
            "           1       0.67      1.00      0.80         2\n",
            "           2       1.00      0.50      0.67         2\n",
            "           3       0.67      0.67      0.67         3\n",
            "           4       1.00      1.00      1.00         1\n",
            "           5       0.50      1.00      0.67         1\n",
            "           6       0.40      0.67      0.50         3\n",
            "           7       0.00      0.00      0.00         1\n",
            "           8       1.00      0.33      0.50         3\n",
            "           9       0.50      1.00      0.67         1\n",
            "          10       1.00      1.00      1.00         1\n",
            "\n",
            "    accuracy                           0.67        21\n",
            "   macro avg       0.70      0.71      0.66        21\n",
            "weighted avg       0.74      0.67      0.65        21\n",
            "\n",
            "0.6666666666666666\n"
          ],
          "name": "stdout"
        }
      ]
    },
    {
      "cell_type": "code",
      "metadata": {
        "id": "VIq3fFWjEqpV",
        "colab": {
          "base_uri": "https://localhost:8080/",
          "height": 323
        },
        "outputId": "1f1141e0-9711-496f-9c52-83aff5feca35"
      },
      "source": [
        "# Random Forest hyperparam discovery\n",
        "\n",
        "# Number of trees in random forest\n",
        "n_estimators = [int(x) for x in np.linspace(start = 10, stop = 800, num = 10)]\n",
        "# Number of features to consider at every split\n",
        "#max_features = ['auto', 'sqrt']\n",
        "loss = ['deviance', 'exponential']\n",
        "learning_rate = [0.1, 0.2, 0.3, 0.4,0.5]\n",
        "# Maximum number of levels in tree\n",
        "max_depth = [int(x) for x in np.linspace(10, 110, num = 11)]\n",
        "max_depth.append(None)\n",
        "# Minimum number of samples required to split a node\n",
        "min_samples_split = [0, 1, 2, 5, 10]\n",
        "# Minimum number of samples required at each leaf node\n",
        "min_samples_leaf = [0, 1, 2, 4]\n",
        "# Method of selecting samples for training each tree\n",
        "bootstrap = [True, False]\n",
        "# Create the random grid\n",
        "random_grid = {'n_estimators': n_estimators,\n",
        "               #'loss': loss,\n",
        "               'max_depth': max_depth,\n",
        "               'min_samples_split': min_samples_split,\n",
        "               'min_samples_leaf': min_samples_leaf}\n",
        "               #'learning_rate': learning_rate}\n",
        "               #'bootstrap': bootstrap}\n",
        "\n",
        "kfold = StratifiedKFold(n_splits=3, shuffle=True, random_state=7)\n",
        "Y = encoded_Y\n",
        "scores = []\n",
        "model = []\n",
        "best_params = []\n",
        "X = df\n",
        "for train_index, test_index in kfold.split(X, Y):\n",
        "    #convert integers to dummy variables (i.e. one hot encoded)\n",
        "    #dummy_y = np_utils.to_categorical(Y)\n",
        "    X_train, y_train = X.iloc[train_index], Y[train_index]\n",
        "    X_test, y_test = X.iloc[test_index], Y[test_index]\n",
        "    X_train_oversampled, y_train_oversampled = SMOTE(k_neighbors=1).fit_sample(X_train, y_train)\n",
        "    hrfclf = ExtraTreesClassifier()\n",
        "    rf_random = RandomizedSearchCV(estimator = hrfclf, param_distributions = random_grid, n_iter = 100, cv = 3, verbose=2, random_state=42, n_jobs = -1)\n",
        "    rf_random.fit(X_train_oversampled, y_train_oversampled)\n",
        "    model.append(rf_random.best_estimator_)\n",
        "    best_params.append(rf_random.best_params_)\n",
        "    y_pred = rf_random.best_estimator_.predict(X_test)\n",
        "    #print(confusion_matrix(y_test,y_pred))\n",
        "    #print(classification_report(y_test,y_pred))\n",
        "    print(accuracy_score(y_test, y_pred))\n",
        "    scores.append(accuracy_score(y_test, y_pred))\n",
        "\n",
        "\n",
        "# Fit the random search model\n",
        "#rf_random.fit(X_resampled, y_resampled)"
      ],
      "execution_count": null,
      "outputs": [
        {
          "output_type": "stream",
          "text": [
            "Fitting 3 folds for each of 100 candidates, totalling 300 fits\n"
          ],
          "name": "stdout"
        },
        {
          "output_type": "stream",
          "text": [
            "[Parallel(n_jobs=-1)]: Using backend LokyBackend with 2 concurrent workers.\n",
            "[Parallel(n_jobs=-1)]: Done  37 tasks      | elapsed:   12.4s\n",
            "[Parallel(n_jobs=-1)]: Done 158 tasks      | elapsed:   37.2s\n",
            "[Parallel(n_jobs=-1)]: Done 300 out of 300 | elapsed:  1.1min finished\n",
            "[Parallel(n_jobs=-1)]: Using backend LokyBackend with 2 concurrent workers.\n"
          ],
          "name": "stderr"
        },
        {
          "output_type": "stream",
          "text": [
            "0.043478260869565216\n",
            "Fitting 3 folds for each of 100 candidates, totalling 300 fits\n"
          ],
          "name": "stdout"
        },
        {
          "output_type": "stream",
          "text": [
            "[Parallel(n_jobs=-1)]: Done  37 tasks      | elapsed:   11.5s\n",
            "[Parallel(n_jobs=-1)]: Done 158 tasks      | elapsed:   36.5s\n",
            "[Parallel(n_jobs=-1)]: Done 300 out of 300 | elapsed:  1.1min finished\n"
          ],
          "name": "stderr"
        },
        {
          "output_type": "stream",
          "text": [
            "0.21739130434782608\n",
            "Fitting 3 folds for each of 100 candidates, totalling 300 fits\n"
          ],
          "name": "stdout"
        },
        {
          "output_type": "stream",
          "text": [
            "[Parallel(n_jobs=-1)]: Using backend LokyBackend with 2 concurrent workers.\n",
            "[Parallel(n_jobs=-1)]: Done  37 tasks      | elapsed:   11.4s\n",
            "[Parallel(n_jobs=-1)]: Done 158 tasks      | elapsed:   36.3s\n",
            "[Parallel(n_jobs=-1)]: Done 300 out of 300 | elapsed:  1.1min finished\n"
          ],
          "name": "stderr"
        },
        {
          "output_type": "stream",
          "text": [
            "0.2608695652173913\n"
          ],
          "name": "stdout"
        }
      ]
    },
    {
      "cell_type": "code",
      "metadata": {
        "id": "VeWYLSyoHe0B",
        "colab": {
          "base_uri": "https://localhost:8080/",
          "height": 221
        },
        "outputId": "953a6f76-dadf-4a7c-9619-029e2a90883a"
      },
      "source": [
        "best_params"
      ],
      "execution_count": null,
      "outputs": [
        {
          "output_type": "execute_result",
          "data": {
            "text/plain": [
              "[{'max_depth': None,\n",
              "  'min_samples_leaf': 2,\n",
              "  'min_samples_split': 2,\n",
              "  'n_estimators': 97},\n",
              " {'max_depth': None,\n",
              "  'min_samples_leaf': 1,\n",
              "  'min_samples_split': 2,\n",
              "  'n_estimators': 536},\n",
              " {'max_depth': 30,\n",
              "  'min_samples_leaf': 1,\n",
              "  'min_samples_split': 5,\n",
              "  'n_estimators': 448}]"
            ]
          },
          "metadata": {
            "tags": []
          },
          "execution_count": 38
        }
      ]
    },
    {
      "cell_type": "code",
      "metadata": {
        "id": "tH3TNQD0Hvt0",
        "colab": {
          "base_uri": "https://localhost:8080/",
          "height": 34
        },
        "outputId": "0c52d687-fed8-4dd6-9942-57547690f9c2"
      },
      "source": [
        "y_pred = rf_random.best_estimator_.predict(X_test)\n",
        "print(accuracy_score(y_test, y_pred))"
      ],
      "execution_count": null,
      "outputs": [
        {
          "output_type": "stream",
          "text": [
            "0.2608695652173913\n"
          ],
          "name": "stdout"
        }
      ]
    },
    {
      "cell_type": "code",
      "metadata": {
        "id": "l-2p_e_F_Pnd",
        "colab": {
          "base_uri": "https://localhost:8080/",
          "height": 34
        },
        "outputId": "44a4f9e6-278b-4193-c094-3ad5007171a9"
      },
      "source": [
        "# RFC w/ tunned HP\n",
        "rfclf = RandomForestClassifier(bootstrap='True', max_depth=20, max_features='sqrt', n_estimators=900, random_state=0)\n",
        "rfclf.fit(X_resampled, y_resampled)\n",
        "pred= rfclf.predict(X_test)\n",
        "accuracy_score(pred, y_test)"
      ],
      "execution_count": null,
      "outputs": [
        {
          "output_type": "execute_result",
          "data": {
            "text/plain": [
              "0.2608695652173913"
            ]
          },
          "metadata": {
            "tags": []
          },
          "execution_count": 40
        }
      ]
    },
    {
      "cell_type": "code",
      "metadata": {
        "id": "0HB3cf2La26x"
      },
      "source": [
        "glove_100_link = 'https://drive.google.com/open?id=1hW4DhKFWJJPNIEI3GelC1WLzEqU-lrub'\n",
        "\n",
        "glove_50_link = 'https://drive.google.com/open?id=10MW2F53DYYxizSXLbvfsphs77Fu1U9Gz'\n",
        "\n",
        "skip_text_link = 'https://drive.google.com/open?id=1WXpYIhDI8Hhne3cOZUQshScjwsWO2wRR'\n",
        "\n",
        "cbow_link = 'https://drive.google.com/open?id=1o6bO6QDAOFd_bASWuZHfbBlk8OBNA0uQ'\n",
        "\n",
        "def load_file(link, filename):\n",
        "  # Download gloVe word embedding for portuguese-BR (100-dimensions)\n",
        "  auth.authenticate_user()\n",
        "  gauth = GoogleAuth()\n",
        "  gauth.credentials = GoogleCredentials.get_application_default()\n",
        "  drive = GoogleDrive(gauth)\n",
        "  fluff, id = link.split('=')\n",
        "  downloaded = drive.CreateFile({'id':id})\n",
        "  downloaded.GetContentFile(filename)\n",
        "\n",
        "def build_embedding_dict(filename):\n",
        "  embd_dict = {}\n",
        "  with open(filename, 'r', encoding='utf-8') as f:\n",
        "    for line in f:\n",
        "      word, coefs = line.split(maxsplit=1)\n",
        "      coefs = np.fromstring(coefs, 'f', sep=' ')\n",
        "      embd_dict[word] = coefs\n",
        "  return embd_dict\n",
        "  "
      ],
      "execution_count": null,
      "outputs": []
    },
    {
      "cell_type": "code",
      "metadata": {
        "id": "3DK4tokfAYo3"
      },
      "source": [
        "# Download and load embeddings into dictionaries (eg: {'oi' : n1, n2, ..., n100})\n",
        "\n",
        "load_file(glove_100_link, 'glove_100.txt')\n",
        "load_file(glove_50_link, 'glove_50.txt')\n",
        "load_file(cbow_link, 'cbow_50.txt')\n",
        "load_file(skip_text_link, 'skipgram_50.txt')\n",
        "\n",
        "word_embedding_dict_50 = build_embedding_dict('glove_50.txt')\n",
        "word_embedding_dict_100 = build_embedding_dict('glove_100.txt')\n",
        "word_embedding_cbow_50 = build_embedding_dict('cbow_50.txt')\n",
        "word_embedding_skipgram_50 = build_embedding_dict('skipgram_50.txt')"
      ],
      "execution_count": null,
      "outputs": []
    },
    {
      "cell_type": "code",
      "metadata": {
        "id": "abWAExN5hmuy"
      },
      "source": [
        "corpus = raw_df['Text']\n",
        "\n",
        "# Create a Keras tokenizer and convert words to integer values\n",
        "tokenizer = Tokenizer(num_words=20000)\n",
        "tokenizer.fit_on_texts(corpus)\n",
        "\n",
        "# Convert strings to their corresponding integer value created by the Tokenizer\n",
        "embedded_sentences = tokenizer.texts_to_sequences(corpus)\n",
        "print(embedded_sentences)"
      ],
      "execution_count": null,
      "outputs": []
    },
    {
      "cell_type": "code",
      "metadata": {
        "id": "6yU349i7__41"
      },
      "source": [
        "import pandas as pd\n",
        "\n",
        "rows = pd.Series(['Regressão Logística', 'Naive Bayes MN', 'Naive Bayer Gausiano', 'SVM Linear', 'SVM RBF', 'SVM Polinomial', 'Random Forest',\n",
        "              'Árvores Extra','Árvore com gradiente descendente', 'MLP'])\n",
        "\n",
        "cols = pd.Series(['acc', 'roc auc'])\n",
        "\n",
        "df = pd.DataFrame(index=rows, columns=cols)"
      ],
      "execution_count": null,
      "outputs": []
    },
    {
      "cell_type": "code",
      "metadata": {
        "colab": {
          "base_uri": "https://localhost:8080/",
          "height": 359
        },
        "id": "F3lUSFBdNNHe",
        "outputId": "80802cd4-a87a-4491-b1fb-6a64513c364d"
      },
      "source": [
        "df.loc['Regressão Logística']['acc'] = 10"
      ],
      "execution_count": null,
      "outputs": [
        {
          "output_type": "execute_result",
          "data": {
            "text/html": [
              "<div>\n",
              "<style scoped>\n",
              "    .dataframe tbody tr th:only-of-type {\n",
              "        vertical-align: middle;\n",
              "    }\n",
              "\n",
              "    .dataframe tbody tr th {\n",
              "        vertical-align: top;\n",
              "    }\n",
              "\n",
              "    .dataframe thead th {\n",
              "        text-align: right;\n",
              "    }\n",
              "</style>\n",
              "<table border=\"1\" class=\"dataframe\">\n",
              "  <thead>\n",
              "    <tr style=\"text-align: right;\">\n",
              "      <th></th>\n",
              "      <th>acc</th>\n",
              "      <th>roc auc</th>\n",
              "    </tr>\n",
              "  </thead>\n",
              "  <tbody>\n",
              "    <tr>\n",
              "      <th>Regressão Logística</th>\n",
              "      <td>10</td>\n",
              "      <td>NaN</td>\n",
              "    </tr>\n",
              "    <tr>\n",
              "      <th>Naive Bayes MN</th>\n",
              "      <td>NaN</td>\n",
              "      <td>NaN</td>\n",
              "    </tr>\n",
              "    <tr>\n",
              "      <th>Naive Bayer Gausiano</th>\n",
              "      <td>NaN</td>\n",
              "      <td>NaN</td>\n",
              "    </tr>\n",
              "    <tr>\n",
              "      <th>SVM Linear</th>\n",
              "      <td>NaN</td>\n",
              "      <td>NaN</td>\n",
              "    </tr>\n",
              "    <tr>\n",
              "      <th>SVM RBF</th>\n",
              "      <td>NaN</td>\n",
              "      <td>NaN</td>\n",
              "    </tr>\n",
              "    <tr>\n",
              "      <th>SVM Polinomial</th>\n",
              "      <td>NaN</td>\n",
              "      <td>NaN</td>\n",
              "    </tr>\n",
              "    <tr>\n",
              "      <th>Random Forest</th>\n",
              "      <td>NaN</td>\n",
              "      <td>NaN</td>\n",
              "    </tr>\n",
              "    <tr>\n",
              "      <th>Árvores Extra</th>\n",
              "      <td>NaN</td>\n",
              "      <td>NaN</td>\n",
              "    </tr>\n",
              "    <tr>\n",
              "      <th>Árvore com gradiente descendente</th>\n",
              "      <td>NaN</td>\n",
              "      <td>NaN</td>\n",
              "    </tr>\n",
              "    <tr>\n",
              "      <th>MLP</th>\n",
              "      <td>NaN</td>\n",
              "      <td>NaN</td>\n",
              "    </tr>\n",
              "  </tbody>\n",
              "</table>\n",
              "</div>"
            ],
            "text/plain": [
              "                                  acc roc auc\n",
              "Regressão Logística                10     NaN\n",
              "Naive Bayes MN                    NaN     NaN\n",
              "Naive Bayer Gausiano              NaN     NaN\n",
              "SVM Linear                        NaN     NaN\n",
              "SVM RBF                           NaN     NaN\n",
              "SVM Polinomial                    NaN     NaN\n",
              "Random Forest                     NaN     NaN\n",
              "Árvores Extra                     NaN     NaN\n",
              "Árvore com gradiente descendente  NaN     NaN\n",
              "MLP                               NaN     NaN"
            ]
          },
          "metadata": {
            "tags": []
          },
          "execution_count": 9
        }
      ]
    },
    {
      "cell_type": "code",
      "metadata": {
        "id": "BBcappPQjXYf",
        "colab": {
          "base_uri": "https://localhost:8080/",
          "height": 34
        },
        "outputId": "d13a0af3-add7-42ed-f769-ad6874951f2d"
      },
      "source": [
        "max_words_text = max(corpus, key=lambda sentence: len(nltk.word_tokenize(sentence, language='portuguese')))\n",
        "print(max_words_text[:200])"
      ],
      "execution_count": null,
      "outputs": [
        {
          "output_type": "stream",
          "text": [
            "biologia tendências perspectivas atuais abordagem sala aula texto disponibilizado sala aula virtual, histórico ciências, deve ter percebido modificações ocorridas estreita relação transformações polít\n"
          ],
          "name": "stdout"
        }
      ]
    },
    {
      "cell_type": "code",
      "metadata": {
        "id": "R_jRhtYJjfkf",
        "colab": {
          "base_uri": "https://localhost:8080/",
          "height": 34
        },
        "outputId": "9b90254c-48b0-4e68-f6c8-e3e270508d83"
      },
      "source": [
        "max_sentence_len = len(nltk.word_tokenize(max_words_text, language='portuguese'))\n",
        "print(max_sentence_len)"
      ],
      "execution_count": null,
      "outputs": [
        {
          "output_type": "stream",
          "text": [
            "3913\n"
          ],
          "name": "stdout"
        }
      ]
    },
    {
      "cell_type": "code",
      "metadata": {
        "id": "XDmfjQ2tjg4T",
        "colab": {
          "base_uri": "https://localhost:8080/",
          "height": 34
        },
        "outputId": "2cc8d610-1d7f-499a-b17d-cb2f571954fc"
      },
      "source": [
        "# Make all the sentences have the same length by padding with 0s at the end\n",
        "padded_sentences = pad_sequences(embedded_sentences, max_sentence_len, padding='post')\n",
        "\n",
        "padded_sentences.shape"
      ],
      "execution_count": null,
      "outputs": [
        {
          "output_type": "execute_result",
          "data": {
            "text/plain": [
              "(69, 3913)"
            ]
          },
          "metadata": {
            "tags": []
          },
          "execution_count": 47
        }
      ]
    },
    {
      "cell_type": "code",
      "metadata": {
        "id": "rfw8qPMTj3_a"
      },
      "source": [
        "vocab_len = len(tokenizer.word_index) + 1\n",
        "\n",
        "# Create an embedding matrix, in other words, use the weights from gloVe vector against all our corpus\n",
        "# In the end we will have a matrix of all our vocabulary x N dimensions\n",
        "def build_embd_matrix(size, embd_dic):\n",
        "  # initialize with all zeros\n",
        "  embedding_matrix = np.zeros((vocab_len, size))\n",
        "  for word, index in tokenizer.word_index.items():\n",
        "    embedding_vector = embd_dic.get(word)\n",
        "    # if the word is in gloVe, we will use its weigths \n",
        "    if embedding_vector is not None:\n",
        "      embedding_matrix[index] = embedding_vector[:size]\n",
        "  return embedding_matrix\n",
        "\n",
        "\n",
        "embedding_matrix_50 = build_embd_matrix(50, word_embedding_dict_50)\n",
        "\n",
        "embedding_matrix_100 = build_embd_matrix(100, word_embedding_dict_100)\n",
        "\n",
        "embedding_matrix_cbow_50 = build_embd_matrix(50, word_embedding_cbow_50)\n",
        "\n",
        "embedding_matrix_skipgram_50 = build_embd_matrix(50, word_embedding_skipgram_50)"
      ],
      "execution_count": null,
      "outputs": []
    },
    {
      "cell_type": "code",
      "metadata": {
        "id": "EBbXSjHcJf3N",
        "colab": {
          "base_uri": "https://localhost:8080/",
          "height": 357
        },
        "outputId": "ab080bb5-3356-4664-9e8b-2e146a9d8dfd"
      },
      "source": [
        "# TODO: Update this model to user TensorFlow 2.x\n",
        "model = Sequential()\n",
        "model.add(Embedding(vocab_len, 50,weights=[embedding_matrix_50], input_length=max_sentence_len))\n",
        "model.add(Dropout(0.5))\n",
        "model.add(Conv1D(64, 5, activation='relu'))\n",
        "\n",
        "model.add(MaxPool1D(2, strides=2))\n",
        "model.add(Flatten())\n",
        "model.add(Dense(11, activation='softmax'))\n",
        "model.summary()\n",
        "model.compile(loss='categorical_crossentropy', optimizer='adam',metrics=['acc'])"
      ],
      "execution_count": null,
      "outputs": [
        {
          "output_type": "stream",
          "text": [
            "Model: \"sequential_1\"\n",
            "_________________________________________________________________\n",
            "Layer (type)                 Output Shape              Param #   \n",
            "=================================================================\n",
            "embedding (Embedding)        (None, 3913, 50)          250200    \n",
            "_________________________________________________________________\n",
            "dropout (Dropout)            (None, 3913, 50)          0         \n",
            "_________________________________________________________________\n",
            "conv1d (Conv1D)              (None, 3909, 64)          16064     \n",
            "_________________________________________________________________\n",
            "max_pooling1d (MaxPooling1D) (None, 1954, 64)          0         \n",
            "_________________________________________________________________\n",
            "flatten (Flatten)            (None, 125056)            0         \n",
            "_________________________________________________________________\n",
            "dense (Dense)                (None, 11)                1375627   \n",
            "=================================================================\n",
            "Total params: 1,641,891\n",
            "Trainable params: 1,641,891\n",
            "Non-trainable params: 0\n",
            "_________________________________________________________________\n"
          ],
          "name": "stdout"
        }
      ]
    },
    {
      "cell_type": "code",
      "metadata": {
        "id": "L4CmlnXmKe22",
        "colab": {
          "base_uri": "https://localhost:8080/",
          "height": 1000
        },
        "outputId": "6ac20d2f-fd03-4576-a7a7-e1411f003771"
      },
      "source": [
        "X = padded_sentences\n",
        "Y = np_utils.to_categorical(encoded_Y)\n",
        "model.fit(X, Y, epochs=50, verbose=1)"
      ],
      "execution_count": null,
      "outputs": [
        {
          "output_type": "stream",
          "text": [
            "Epoch 1/50\n",
            "3/3 [==============================] - 1s 187ms/step - loss: 5.0218 - acc: 0.0870\n",
            "Epoch 2/50\n",
            "3/3 [==============================] - 1s 182ms/step - loss: 2.5624 - acc: 0.2609\n",
            "Epoch 3/50\n",
            "3/3 [==============================] - 1s 181ms/step - loss: 1.7085 - acc: 0.4638\n",
            "Epoch 4/50\n",
            "3/3 [==============================] - 1s 181ms/step - loss: 1.0356 - acc: 0.6812\n",
            "Epoch 5/50\n",
            "3/3 [==============================] - 1s 177ms/step - loss: 0.8874 - acc: 0.7681\n",
            "Epoch 6/50\n",
            "3/3 [==============================] - 1s 178ms/step - loss: 0.8151 - acc: 0.7681\n",
            "Epoch 7/50\n",
            "3/3 [==============================] - 1s 180ms/step - loss: 0.7911 - acc: 0.8406\n",
            "Epoch 8/50\n",
            "3/3 [==============================] - 1s 178ms/step - loss: 0.4871 - acc: 0.8261\n",
            "Epoch 9/50\n",
            "3/3 [==============================] - 1s 178ms/step - loss: 0.6800 - acc: 0.8696\n",
            "Epoch 10/50\n",
            "3/3 [==============================] - 1s 179ms/step - loss: 0.3977 - acc: 0.9275\n",
            "Epoch 11/50\n",
            "3/3 [==============================] - 1s 182ms/step - loss: 0.3537 - acc: 0.9130\n",
            "Epoch 12/50\n",
            "3/3 [==============================] - 1s 178ms/step - loss: 0.3576 - acc: 0.9420\n",
            "Epoch 13/50\n",
            "3/3 [==============================] - 1s 179ms/step - loss: 0.2597 - acc: 0.9565\n",
            "Epoch 14/50\n",
            "3/3 [==============================] - 1s 177ms/step - loss: 0.2264 - acc: 0.9565\n",
            "Epoch 15/50\n",
            "3/3 [==============================] - 1s 179ms/step - loss: 0.1925 - acc: 0.9710\n",
            "Epoch 16/50\n",
            "3/3 [==============================] - 1s 177ms/step - loss: 0.1363 - acc: 0.9855\n",
            "Epoch 17/50\n",
            "3/3 [==============================] - 1s 177ms/step - loss: 0.1330 - acc: 0.9855\n",
            "Epoch 18/50\n",
            "3/3 [==============================] - 1s 178ms/step - loss: 0.0977 - acc: 0.9855\n",
            "Epoch 19/50\n",
            "3/3 [==============================] - 1s 187ms/step - loss: 0.1264 - acc: 0.9855\n",
            "Epoch 20/50\n",
            "3/3 [==============================] - 1s 179ms/step - loss: 0.1349 - acc: 0.9855\n",
            "Epoch 21/50\n",
            "3/3 [==============================] - 1s 177ms/step - loss: 0.0947 - acc: 0.9855\n",
            "Epoch 22/50\n",
            "3/3 [==============================] - 1s 175ms/step - loss: 0.0810 - acc: 0.9855\n",
            "Epoch 23/50\n",
            "3/3 [==============================] - 1s 177ms/step - loss: 0.0739 - acc: 0.9855\n",
            "Epoch 24/50\n",
            "3/3 [==============================] - 1s 177ms/step - loss: 0.0656 - acc: 0.9855\n",
            "Epoch 25/50\n",
            "3/3 [==============================] - 1s 179ms/step - loss: 0.0627 - acc: 0.9855\n",
            "Epoch 26/50\n",
            "3/3 [==============================] - 1s 180ms/step - loss: 0.0728 - acc: 0.9855\n",
            "Epoch 27/50\n",
            "3/3 [==============================] - 1s 177ms/step - loss: 0.0546 - acc: 0.9855\n",
            "Epoch 28/50\n",
            "3/3 [==============================] - 1s 180ms/step - loss: 0.0430 - acc: 0.9855\n",
            "Epoch 29/50\n",
            "3/3 [==============================] - 1s 188ms/step - loss: 0.0399 - acc: 0.9855\n",
            "Epoch 30/50\n",
            "3/3 [==============================] - 1s 179ms/step - loss: 0.0352 - acc: 0.9710\n",
            "Epoch 31/50\n",
            "3/3 [==============================] - 1s 181ms/step - loss: 0.0320 - acc: 1.0000\n",
            "Epoch 32/50\n",
            "3/3 [==============================] - 1s 180ms/step - loss: 0.0319 - acc: 0.9855\n",
            "Epoch 33/50\n",
            "3/3 [==============================] - 1s 182ms/step - loss: 0.0269 - acc: 0.9855\n",
            "Epoch 34/50\n",
            "3/3 [==============================] - 1s 181ms/step - loss: 0.0755 - acc: 0.9855\n",
            "Epoch 35/50\n",
            "3/3 [==============================] - 1s 185ms/step - loss: 0.0474 - acc: 0.9855\n",
            "Epoch 36/50\n",
            "3/3 [==============================] - 1s 180ms/step - loss: 0.0375 - acc: 0.9855\n",
            "Epoch 37/50\n",
            "3/3 [==============================] - 1s 182ms/step - loss: 0.0563 - acc: 0.9855\n",
            "Epoch 38/50\n",
            "3/3 [==============================] - 1s 180ms/step - loss: 0.0582 - acc: 0.9855\n",
            "Epoch 39/50\n",
            "3/3 [==============================] - 1s 180ms/step - loss: 0.0435 - acc: 0.9855\n",
            "Epoch 40/50\n",
            "3/3 [==============================] - 1s 180ms/step - loss: 0.0400 - acc: 0.9855\n",
            "Epoch 41/50\n",
            "3/3 [==============================] - 1s 180ms/step - loss: 0.0295 - acc: 0.9855\n",
            "Epoch 42/50\n",
            "3/3 [==============================] - 1s 181ms/step - loss: 0.0309 - acc: 1.0000\n",
            "Epoch 43/50\n",
            "3/3 [==============================] - 1s 179ms/step - loss: 0.0208 - acc: 1.0000\n",
            "Epoch 44/50\n",
            "3/3 [==============================] - 1s 182ms/step - loss: 0.0260 - acc: 0.9855\n",
            "Epoch 45/50\n",
            "3/3 [==============================] - 1s 180ms/step - loss: 0.0961 - acc: 0.9855\n",
            "Epoch 46/50\n",
            "3/3 [==============================] - 1s 180ms/step - loss: 0.0286 - acc: 0.9855\n",
            "Epoch 47/50\n",
            "3/3 [==============================] - 1s 181ms/step - loss: 0.0389 - acc: 0.9855\n",
            "Epoch 48/50\n",
            "3/3 [==============================] - 1s 179ms/step - loss: 0.0386 - acc: 0.9855\n",
            "Epoch 49/50\n",
            "3/3 [==============================] - 1s 177ms/step - loss: 0.0464 - acc: 0.9855\n",
            "Epoch 50/50\n",
            "3/3 [==============================] - 1s 178ms/step - loss: 0.0247 - acc: 0.9855\n"
          ],
          "name": "stdout"
        },
        {
          "output_type": "execute_result",
          "data": {
            "text/plain": [
              "<tensorflow.python.keras.callbacks.History at 0x7f67d208b6a0>"
            ]
          },
          "metadata": {
            "tags": []
          },
          "execution_count": 53
        }
      ]
    },
    {
      "cell_type": "code",
      "metadata": {
        "id": "34ozDaDvdWKa"
      },
      "source": [
        "def build_model(embd_matrix, size=50):\n",
        "  model = Sequential()\n",
        "  embedding_layer = Embedding(vocab_len, 50, input_length=max_sentence_len, \n",
        "                              embeddings_initializer=Constant(embedding_matrix_50), trainable=False)\n",
        "  model.add(embedding_layer)\n",
        "  model.add(Dropout(0.3))\n",
        "  model.add(Flatten())\n",
        "  number_of_classes = len(np_utils.to_categorical(encoded_raw_Y)[0])\n",
        "  model.add(Dense(number_of_classes, activation='softmax'))\n",
        "\n",
        "  model.compile(optimizer='rmsprop',\n",
        "                    loss='categorical_crossentropy', metrics=['accuracy'])\n",
        "  return model"
      ],
      "execution_count": null,
      "outputs": []
    },
    {
      "cell_type": "code",
      "metadata": {
        "id": "71gTUZklld6b",
        "colab": {
          "base_uri": "https://localhost:8080/",
          "height": 544
        },
        "outputId": "13131bd6-a14f-4f1e-913d-98cbc9cd37b2"
      },
      "source": [
        "cv_scores = []\n",
        "kfold = StratifiedKFold(n_splits=3, shuffle=True, random_state=7)\n",
        "models = []\n",
        "\n",
        "X = padded_sentences\n",
        "\n",
        "X, X_val, Y_train, y_val = train_test_split(padded_sentences, encoded_raw_Y, stratify=encoded_raw_Y, random_state=11, test_size=0.20)\n",
        "\n",
        "accs = []\n",
        "for i in range(0,10):\n",
        "  # stratified k-fold validation\n",
        "  for train_index, test_index in kfold.split(X, Y_train):\n",
        "    model = build_model(embd_matrix=embedding_matrix_100)\n",
        "    \n",
        "    # Convert integers to vectors (e.g One hot encoding)\n",
        "    Y = np_utils.to_categorical(Y_train)\n",
        "\n",
        "    #print(\"TRAIN:\", train_index, \"TEST:\", test_index)\n",
        "    X_train, X_test = X[train_index], X[test_index]\n",
        "    y_train, y_test = Y[train_index], Y[test_index]\n",
        "\n",
        "    # train the model\n",
        "    model.fit(X_train, y_train, epochs=50, verbose=0)\n",
        "\n",
        "    # Evaluate the model\n",
        "    scores = model.evaluate(X_test, y_test)\n",
        "    #print(\"%s: %.2f%%\" % (model.metrics_names[1], scores[1] * 100))\n",
        "    cv_scores.append(scores[1] * 100)\n",
        "  accs.append(np.mean(cv_scores))\n",
        "\n",
        "# Brief summary of the scores\n",
        "print(\"%.2f%% (+/- %.2f%%)\" % (np.mean(accs), np.std(accs)))"
      ],
      "execution_count": null,
      "outputs": [
        {
          "output_type": "stream",
          "text": [
            "1/1 [==============================] - 0s 2ms/step - loss: 3.9614 - accuracy: 0.2105\n",
            "1/1 [==============================] - 0s 1ms/step - loss: 2.7498 - accuracy: 0.3333\n",
            "1/1 [==============================] - 0s 1ms/step - loss: 4.3058 - accuracy: 0.3889\n",
            "1/1 [==============================] - 0s 2ms/step - loss: 3.9903 - accuracy: 0.2105\n",
            "1/1 [==============================] - 0s 1ms/step - loss: 3.3617 - accuracy: 0.2778\n",
            "1/1 [==============================] - 0s 1ms/step - loss: 4.5151 - accuracy: 0.2778\n",
            "1/1 [==============================] - 0s 1ms/step - loss: 3.6268 - accuracy: 0.2105\n",
            "1/1 [==============================] - 0s 1ms/step - loss: 2.9173 - accuracy: 0.2778\n",
            "1/1 [==============================] - 0s 1ms/step - loss: 4.7232 - accuracy: 0.2778\n",
            "1/1 [==============================] - 0s 1ms/step - loss: 3.6035 - accuracy: 0.1579\n",
            "1/1 [==============================] - 0s 1ms/step - loss: 3.0039 - accuracy: 0.1667\n",
            "1/1 [==============================] - 0s 1ms/step - loss: 4.7960 - accuracy: 0.1667\n",
            "1/1 [==============================] - 0s 1ms/step - loss: 3.6179 - accuracy: 0.2105\n",
            "1/1 [==============================] - 0s 1ms/step - loss: 3.3036 - accuracy: 0.2222\n",
            "1/1 [==============================] - 0s 1ms/step - loss: 4.0724 - accuracy: 0.1667\n",
            "1/1 [==============================] - 0s 1ms/step - loss: 3.6237 - accuracy: 0.2105\n",
            "1/1 [==============================] - 0s 1ms/step - loss: 3.2248 - accuracy: 0.1667\n",
            "1/1 [==============================] - 0s 1ms/step - loss: 4.3326 - accuracy: 0.2778\n",
            "1/1 [==============================] - 0s 1ms/step - loss: 3.4954 - accuracy: 0.2105\n",
            "1/1 [==============================] - 0s 1ms/step - loss: 3.4534 - accuracy: 0.2222\n",
            "1/1 [==============================] - 0s 1ms/step - loss: 4.2424 - accuracy: 0.2778\n",
            "1/1 [==============================] - 0s 1ms/step - loss: 4.0016 - accuracy: 0.2105\n",
            "1/1 [==============================] - 0s 1ms/step - loss: 3.2591 - accuracy: 0.2222\n",
            "1/1 [==============================] - 0s 1ms/step - loss: 4.3005 - accuracy: 0.1667\n",
            "1/1 [==============================] - 0s 1ms/step - loss: 4.0055 - accuracy: 0.1579\n",
            "1/1 [==============================] - 0s 1ms/step - loss: 3.4227 - accuracy: 0.1667\n",
            "1/1 [==============================] - 0s 1ms/step - loss: 5.4700 - accuracy: 0.2222\n",
            "1/1 [==============================] - 0s 1ms/step - loss: 3.5081 - accuracy: 0.1579\n",
            "1/1 [==============================] - 0s 1ms/step - loss: 3.7841 - accuracy: 0.2222\n",
            "1/1 [==============================] - 0s 1ms/step - loss: 4.5791 - accuracy: 0.2222\n",
            "24.97% (+/- 2.81%)\n"
          ],
          "name": "stdout"
        }
      ]
    },
    {
      "cell_type": "code",
      "metadata": {
        "id": "22bWRKETwqEc",
        "colab": {
          "base_uri": "https://localhost:8080/",
          "height": 34
        },
        "outputId": "3f95e9ef-75fa-469f-bc0d-ed592fb6f2c8"
      },
      "source": [
        "y_val.shape\n",
        "y_val_dummy = np_utils.to_categorical(y_val)\n",
        "X_val.shape"
      ],
      "execution_count": null,
      "outputs": [
        {
          "output_type": "execute_result",
          "data": {
            "text/plain": [
              "(14, 3913)"
            ]
          },
          "metadata": {
            "tags": []
          },
          "execution_count": 58
        }
      ]
    },
    {
      "cell_type": "code",
      "metadata": {
        "id": "F5oTvDXl0lwZ",
        "colab": {
          "base_uri": "https://localhost:8080/",
          "height": 51
        },
        "outputId": "0bcc01cd-505a-4e58-ea25-7c9eebeae97d"
      },
      "source": [
        "scores = model.evaluate(X_val, y_val_dummy)\n",
        "print(\"Test score: %.2f%%\" % (scores[1] * 100))"
      ],
      "execution_count": null,
      "outputs": [
        {
          "output_type": "stream",
          "text": [
            "1/1 [==============================] - 0s 1ms/step - loss: 7.8574 - accuracy: 0.0714\n",
            "Test score: 7.14%\n"
          ],
          "name": "stdout"
        }
      ]
    },
    {
      "cell_type": "code",
      "metadata": {
        "id": "82-C9horrGZj"
      },
      "source": [
        "#scores = model.evaluate(X_val, y_val_dummy)\n",
        "\n",
        "X, X_val, Y_train, y_val = train_test_split(padded_sentences, encoded_raw_Y, random_state=11, stratify=encoded_raw_Y, test_size=0.20)"
      ],
      "execution_count": null,
      "outputs": []
    },
    {
      "cell_type": "code",
      "metadata": {
        "id": "o-jx9oR2kbNu"
      },
      "source": [
        "def test_model(iter, embedding, name, epochs):\n",
        "  test_scores = []\n",
        "  val_scores = []\n",
        "  for i in range(iter):\n",
        "    Y = np_utils.to_categorical(encoded_raw_Y)\n",
        "\n",
        "    X, X_test, Y, y_test = train_test_split(padded_sentences, Y, stratify=Y, random_state=11, test_size=0.2)\n",
        "    X_test, X_val, y_test, y_val = train_test_split(X_test, y_test, random_state=11, test_size=0.5)\n",
        "\n",
        "    model = build_model(embedding, 100)\n",
        "\n",
        "    model.fit(X, Y, epochs=epochs, verbose=0)\n",
        "    scores = model.evaluate(X_test, y_test)\n",
        "\n",
        "    #print(\"Test score \" + name + \": %.2f%%\" % (scores[1] * 100))\n",
        "    test_scores.append(scores[1] * 100)\n",
        "\n",
        "    scores = model.evaluate(X_val, y_val)\n",
        "    #print(\"Validation score \" + name + \": %.2f%%\" % (scores[1] * 100))\n",
        "    val_scores.append(scores[1] * 100)\n",
        "  print(\"Mean test scores:\" + \": %.2f%%\" % (np.mean(test_scores)))\n",
        "  print(\"Mean val scores:\" + \": %.2f%%\" % (np.mean(val_scores)))"
      ],
      "execution_count": null,
      "outputs": []
    },
    {
      "cell_type": "code",
      "metadata": {
        "id": "nwC-e46eh4vf",
        "colab": {
          "base_uri": "https://localhost:8080/",
          "height": 1000
        },
        "outputId": "60e91a34-d4f3-4e41-d394-7b6a68025732"
      },
      "source": [
        "# Run and print models output\n",
        "test_model(10,embedding_matrix_50, 'Glove 50D', 150)\n",
        "test_model(10,embedding_matrix_100,'Glove 100D', 150 )\n",
        "test_model(10,embedding_matrix_cbow_50, 'CBOW 50D', 150)\n",
        "test_model(10,embedding_matrix_skipgram_50, 'SkipGram 50D', 150)"
      ],
      "execution_count": null,
      "outputs": [
        {
          "output_type": "stream",
          "text": [
            "1/1 [==============================] - 0s 1ms/step - loss: 6.2562 - accuracy: 0.0000e+00\n",
            "Test score Glove 100D: 0.00%\n",
            "1/1 [==============================] - 0s 1ms/step - loss: 2.7050 - accuracy: 0.1429\n",
            "Validation score Glove 100D: 14.29%\n",
            "1/1 [==============================] - 0s 1ms/step - loss: 6.2642 - accuracy: 0.0000e+00\n",
            "Test score Glove 100D: 0.00%\n",
            "1/1 [==============================] - 0s 1ms/step - loss: 2.8893 - accuracy: 0.2857\n",
            "Validation score Glove 100D: 28.57%\n",
            "1/1 [==============================] - 0s 1ms/step - loss: 5.5345 - accuracy: 0.1429\n",
            "Test score Glove 100D: 14.29%\n",
            "1/1 [==============================] - 0s 949us/step - loss: 2.4820 - accuracy: 0.1429\n",
            "Validation score Glove 100D: 14.29%\n",
            "1/1 [==============================] - 0s 1ms/step - loss: 5.9260 - accuracy: 0.1429\n",
            "Test score Glove 100D: 14.29%\n",
            "1/1 [==============================] - 0s 1ms/step - loss: 2.6927 - accuracy: 0.1429\n",
            "Validation score Glove 100D: 14.29%\n",
            "1/1 [==============================] - 0s 1ms/step - loss: 6.5702 - accuracy: 0.0000e+00\n",
            "Test score Glove 100D: 0.00%\n",
            "1/1 [==============================] - 0s 1ms/step - loss: 2.5701 - accuracy: 0.1429\n",
            "Validation score Glove 100D: 14.29%\n",
            "Mean test scores:: 5.71%\n",
            "Mean val scores:: 20.00%\n",
            "1/1 [==============================] - 0s 1ms/step - loss: 6.3067 - accuracy: 0.0000e+00\n",
            "Test score CBOW 50D: 0.00%\n",
            "1/1 [==============================] - 0s 2ms/step - loss: 2.5512 - accuracy: 0.1429\n",
            "Validation score CBOW 50D: 14.29%\n",
            "1/1 [==============================] - 0s 1ms/step - loss: 6.1061 - accuracy: 0.1429\n",
            "Test score CBOW 50D: 14.29%\n",
            "1/1 [==============================] - 0s 1ms/step - loss: 2.5028 - accuracy: 0.2857\n",
            "Validation score CBOW 50D: 28.57%\n",
            "1/1 [==============================] - 0s 1ms/step - loss: 6.9835 - accuracy: 0.0000e+00\n",
            "Test score CBOW 50D: 0.00%\n",
            "1/1 [==============================] - 0s 1ms/step - loss: 2.2893 - accuracy: 0.2857\n",
            "Validation score CBOW 50D: 28.57%\n",
            "1/1 [==============================] - 0s 1ms/step - loss: 5.7673 - accuracy: 0.1429\n",
            "Test score CBOW 50D: 14.29%\n",
            "1/1 [==============================] - 0s 942us/step - loss: 2.6939 - accuracy: 0.1429\n",
            "Validation score CBOW 50D: 14.29%\n",
            "1/1 [==============================] - 0s 1ms/step - loss: 5.7428 - accuracy: 0.1429\n",
            "Test score CBOW 50D: 14.29%\n",
            "1/1 [==============================] - 0s 961us/step - loss: 2.4026 - accuracy: 0.2857\n",
            "Validation score CBOW 50D: 28.57%\n",
            "1/1 [==============================] - 0s 1ms/step - loss: 6.0620 - accuracy: 0.0000e+00\n",
            "Test score CBOW 50D: 0.00%\n",
            "1/1 [==============================] - 0s 1000us/step - loss: 2.8216 - accuracy: 0.1429\n",
            "Validation score CBOW 50D: 14.29%\n",
            "1/1 [==============================] - 0s 1ms/step - loss: 6.9297 - accuracy: 0.0000e+00\n",
            "Test score CBOW 50D: 0.00%\n",
            "1/1 [==============================] - 0s 1ms/step - loss: 2.3155 - accuracy: 0.2857\n",
            "Validation score CBOW 50D: 28.57%\n",
            "1/1 [==============================] - 0s 1ms/step - loss: 6.0325 - accuracy: 0.1429\n",
            "Test score CBOW 50D: 14.29%\n",
            "1/1 [==============================] - 0s 995us/step - loss: 2.4516 - accuracy: 0.2857\n",
            "Validation score CBOW 50D: 28.57%\n",
            "1/1 [==============================] - 0s 1ms/step - loss: 7.1121 - accuracy: 0.0000e+00\n",
            "Test score CBOW 50D: 0.00%\n",
            "1/1 [==============================] - 0s 952us/step - loss: 2.3683 - accuracy: 0.2857\n",
            "Validation score CBOW 50D: 28.57%\n",
            "1/1 [==============================] - 0s 1ms/step - loss: 6.7365 - accuracy: 0.0000e+00\n",
            "Test score CBOW 50D: 0.00%\n",
            "1/1 [==============================] - 0s 954us/step - loss: 2.7488 - accuracy: 0.2857\n",
            "Validation score CBOW 50D: 28.57%\n",
            "Mean test scores:: 5.71%\n",
            "Mean val scores:: 24.29%\n",
            "1/1 [==============================] - 0s 1ms/step - loss: 7.1122 - accuracy: 0.0000e+00\n",
            "Test score SkipGram 50D: 0.00%\n",
            "1/1 [==============================] - 0s 959us/step - loss: 2.3311 - accuracy: 0.1429\n",
            "Validation score SkipGram 50D: 14.29%\n",
            "1/1 [==============================] - 0s 1ms/step - loss: 6.3884 - accuracy: 0.0000e+00\n",
            "Test score SkipGram 50D: 0.00%\n",
            "1/1 [==============================] - 0s 1ms/step - loss: 2.5705 - accuracy: 0.1429\n",
            "Validation score SkipGram 50D: 14.29%\n",
            "1/1 [==============================] - 0s 1ms/step - loss: 5.6183 - accuracy: 0.0000e+00\n",
            "Test score SkipGram 50D: 0.00%\n",
            "1/1 [==============================] - 0s 1ms/step - loss: 2.6775 - accuracy: 0.1429\n",
            "Validation score SkipGram 50D: 14.29%\n",
            "1/1 [==============================] - 0s 1ms/step - loss: 6.7372 - accuracy: 0.0000e+00\n",
            "Test score SkipGram 50D: 0.00%\n",
            "1/1 [==============================] - 0s 952us/step - loss: 2.7506 - accuracy: 0.1429\n",
            "Validation score SkipGram 50D: 14.29%\n",
            "1/1 [==============================] - 0s 1ms/step - loss: 7.0895 - accuracy: 0.0000e+00\n",
            "Test score SkipGram 50D: 0.00%\n",
            "1/1 [==============================] - 0s 972us/step - loss: 2.5244 - accuracy: 0.1429\n",
            "Validation score SkipGram 50D: 14.29%\n",
            "1/1 [==============================] - 0s 1ms/step - loss: 5.6499 - accuracy: 0.1429\n",
            "Test score SkipGram 50D: 14.29%\n",
            "1/1 [==============================] - 0s 934us/step - loss: 2.1916 - accuracy: 0.4286\n",
            "Validation score SkipGram 50D: 42.86%\n",
            "1/1 [==============================] - 0s 1ms/step - loss: 6.5952 - accuracy: 0.0000e+00\n",
            "Test score SkipGram 50D: 0.00%\n",
            "1/1 [==============================] - 0s 1ms/step - loss: 2.4960 - accuracy: 0.1429\n",
            "Validation score SkipGram 50D: 14.29%\n",
            "1/1 [==============================] - 0s 1ms/step - loss: 5.5344 - accuracy: 0.1429\n",
            "Test score SkipGram 50D: 14.29%\n",
            "1/1 [==============================] - 0s 966us/step - loss: 2.4800 - accuracy: 0.1429\n",
            "Validation score SkipGram 50D: 14.29%\n",
            "1/1 [==============================] - 0s 2ms/step - loss: 7.1039 - accuracy: 0.0000e+00\n",
            "Test score SkipGram 50D: 0.00%\n",
            "1/1 [==============================] - 0s 1ms/step - loss: 2.6466 - accuracy: 0.1429\n",
            "Validation score SkipGram 50D: 14.29%\n",
            "1/1 [==============================] - 0s 1ms/step - loss: 5.8226 - accuracy: 0.1429\n",
            "Test score SkipGram 50D: 14.29%\n",
            "1/1 [==============================] - 0s 992us/step - loss: 2.2712 - accuracy: 0.2857\n",
            "Validation score SkipGram 50D: 28.57%\n",
            "Mean test scores:: 4.29%\n",
            "Mean val scores:: 18.57%\n"
          ],
          "name": "stdout"
        }
      ]
    },
    {
      "cell_type": "code",
      "metadata": {
        "id": "y-osuIZnooif",
        "colab": {
          "base_uri": "https://localhost:8080/",
          "height": 34
        },
        "outputId": "3ae954c6-84cc-4784-f533-7e5c03e7ee83"
      },
      "source": [
        "# Brief summary of the scores\n",
        "print(\"%.2f%% (+/- %.2f%%)\" % (np.mean(cv_scores), np.std(cv_scores)))"
      ],
      "execution_count": null,
      "outputs": [
        {
          "output_type": "stream",
          "text": [
            "22.23% (+/- 5.49%)\n"
          ],
          "name": "stdout"
        }
      ]
    },
    {
      "cell_type": "code",
      "metadata": {
        "id": "D5VQi88Og0Of"
      },
      "source": [
        "# Save and upload model\n",
        "\n",
        "model_json = model.to_json()\n",
        "with open('model-lstm-2.json', 'w') as json_file:\n",
        "  json_file.write(model_json)\n",
        "model.save_weights('model-lstm-2.h5')\n",
        "\n",
        "uploaded = drive.CreateFile({'title': 'model-lstm-2.h5'})\n",
        "uploaded.SetContentFile('model-lstm-2.h5')\n",
        "uploaded.Upload()\n",
        "print('Uploaded file with ID {}'.format(uploaded.get('id')))\n",
        "\n",
        "uploaded = drive.CreateFile({'title': 'model-lstm-2.json'})\n",
        "uploaded.SetContentFile('model-lstm-2.json')\n",
        "uploaded.Upload()\n"
      ],
      "execution_count": null,
      "outputs": []
    },
    {
      "cell_type": "code",
      "metadata": {
        "id": "o2ShTMqnSciS"
      },
      "source": [
        "!ls -la"
      ],
      "execution_count": null,
      "outputs": []
    },
    {
      "cell_type": "code",
      "metadata": {
        "id": "hKOtkssWQr7Y"
      },
      "source": [
        "from google.colab import files\n",
        "files.download('model-lstm.h5')"
      ],
      "execution_count": null,
      "outputs": []
    }
  ]
}