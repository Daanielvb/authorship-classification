{
  "nbformat": 4,
  "nbformat_minor": 0,
  "metadata": {
    "colab": {
      "name": "news dataset comparison.ipynb",
      "provenance": [],
      "collapsed_sections": []
    },
    "kernelspec": {
      "name": "python3",
      "display_name": "Python 3"
    }
  },
  "cells": [
    {
      "cell_type": "code",
      "metadata": {
        "id": "Xddwaic6Uf00",
        "colab_type": "code",
        "outputId": "6d3417bc-259a-4bf3-e5dc-592779b8bdc6",
        "colab": {
          "base_uri": "https://localhost:8080/",
          "height": 51
        }
      },
      "source": [
        "!pip install -U -q PyDrive\n",
        "from pydrive.auth import GoogleAuth\n",
        "from pydrive.drive import GoogleDrive\n",
        "from google.colab import auth\n",
        "from oauth2client.client import GoogleCredentials\n",
        "import warnings\n",
        "\n",
        "# Authenticate and create the PyDrive client.\n",
        "auth.authenticate_user()\n",
        "gauth = GoogleAuth()\n",
        "gauth.credentials = GoogleCredentials.get_application_default()\n",
        "drive = GoogleDrive(gauth)\n",
        "\n",
        "# The dataset shareable link\n",
        "\n",
        "#new stylo data\n",
        "#link = 'https://drive.google.com/open?id=1qg3fx5JyibrfBBycl3y8hCQJWBiXkP2N'\n",
        "link = 'https://drive.google.com/open?id=15e0XWZR1CYx0nyBOLasWJuwMyFgF-U5l'\n",
        "\n",
        "fluff, id = link.split('=')\n",
        "print(id)\n",
        "filename = 'stylo-data.csv'\n",
        "downloaded = drive.CreateFile({'id':id})\n",
        "downloaded.GetContentFile(filename)\n",
        "\n",
        "#news stylo dataset\n",
        "news_link = 'https://drive.google.com/open?id=1C5MS8fWH2yS5GKS_TVddhuXPgR63JC-c'\n",
        "fluff, id = news_link.split('=')\n",
        "print(id)\n",
        "news_filename = 'news-data.csv'\n",
        "downloaded = drive.CreateFile({'id':id})\n",
        "downloaded.GetContentFile(news_filename)"
      ],
      "execution_count": 2,
      "outputs": [
        {
          "output_type": "stream",
          "text": [
            "15e0XWZR1CYx0nyBOLasWJuwMyFgF-U5l\n",
            "1C5MS8fWH2yS5GKS_TVddhuXPgR63JC-c\n"
          ],
          "name": "stdout"
        }
      ]
    },
    {
      "cell_type": "code",
      "metadata": {
        "id": "1zGcn_MPPWv-",
        "colab_type": "code",
        "colab": {}
      },
      "source": [
        "import pandas as pd\n",
        "\n",
        "import numpy as np\n",
        "from matplotlib import pyplot as plt\n",
        "\n",
        "from sklearn.model_selection import train_test_split, cross_validate, StratifiedKFold, RandomizedSearchCV\n",
        "from sklearn.metrics import classification_report, confusion_matrix, accuracy_score, roc_auc_score\n",
        "from sklearn.preprocessing import LabelEncoder, StandardScaler\n",
        "from sklearn.mixture import GaussianMixture, BayesianGaussianMixture\n",
        "from sklearn.cluster import KMeans\n",
        "from sklearn.decomposition import PCA\n",
        "from sklearn.pipeline import Pipeline, make_pipeline\n",
        "from sklearn.linear_model import SGDClassifier, LogisticRegression\n",
        "from sklearn.ensemble import AdaBoostClassifier, BaggingClassifier, ExtraTreesClassifier, GradientBoostingClassifier, RandomForestClassifier\n",
        "from sklearn.svm import SVC, SVR, LinearSVC\n",
        "from sklearn.feature_extraction.text import TfidfTransformer,TfidfVectorizer\n",
        "from sklearn.naive_bayes import GaussianNB, BernoulliNB, MultinomialNB\n",
        "from sklearn.neural_network import MLPClassifier\n",
        "from sklearn.neighbors import KNeighborsClassifier\n",
        "from sklearn.feature_selection import SelectKBest, SelectFromModel, VarianceThreshold, SelectPercentile, SelectFwe, RFECV,  chi2, f_classif, mutual_info_classif\n",
        "from sklearn.preprocessing import StandardScaler, MinMaxScaler, PowerTransformer, QuantileTransformer, Normalizer\n",
        "\n",
        "!pip install -U keras\n",
        "from keras.utils import np_utils\n",
        "from keras.preprocessing.text import Tokenizer\n",
        "from keras.preprocessing.sequence import pad_sequences\n",
        "from tensorflow.python.keras.layers import InputLayer, Embedding, Conv1D, MaxPool1D, Dense, Flatten, Dropout, GRU, LSTM, Input\n",
        "from tensorflow.python.keras import Sequential, Model\n",
        "from keras.initializers import Constant\n",
        "\n",
        "from pprint import pprint\n",
        "\n",
        "from imblearn.over_sampling import SMOTE"
      ],
      "execution_count": 0,
      "outputs": []
    },
    {
      "cell_type": "code",
      "metadata": {
        "colab_type": "code",
        "id": "vCg33ap_U4ei",
        "colab": {}
      },
      "source": [
        "# read dataset\n",
        "df = pd.read_csv(filename)\n",
        "df_news = pd.read_csv(news_filename)\n",
        "\n",
        "# Remove single class entries (We need at least 3 samples of an author)#\n",
        "df = df.groupby('Author').filter(lambda x: len(x) > 3)"
      ],
      "execution_count": 0,
      "outputs": []
    },
    {
      "cell_type": "code",
      "metadata": {
        "id": "z0nBZUDPU5mN",
        "colab_type": "code",
        "colab": {}
      },
      "source": [
        "#Separate data from labels\n",
        "\n",
        "y = df.pop('Author')\n",
        "y_news = df_news.pop('Author')\n",
        "\n",
        "le = LabelEncoder()\n",
        "le.fit(y)\n",
        "encoded_Y = le.transform(y)\n",
        "\n",
        "le.fit(y_news)\n",
        "encoded_y_news = le.transform(y_news)"
      ],
      "execution_count": 0,
      "outputs": []
    },
    {
      "cell_type": "code",
      "metadata": {
        "id": "CLqTaPXgU80J",
        "colab_type": "code",
        "outputId": "d40619ba-0857-4f56-c645-3fd8480ac198",
        "colab": {
          "base_uri": "https://localhost:8080/",
          "height": 119
        }
      },
      "source": [
        "# Feature selection\n",
        "\n",
        "# Baseline (Variance threshold):\n",
        "threshold=(.01)\n",
        "selector = VarianceThreshold(threshold)\n",
        "selector.fit(df)\n",
        "\n",
        "df.columns[selector.get_support(indices=True)] # 20 features, data has very low variance (features are mostly very close)\n",
        "\n",
        "selector.fit(df_news)\n",
        "\n",
        "df_news.columns[selector.get_support(indices=True)]"
      ],
      "execution_count": 5,
      "outputs": [
        {
          "output_type": "execute_result",
          "data": {
            "text/plain": [
              "Index(['DiversidadeLexica', 'TamanhoMedioDasPalavras', 'TamanhoMedioSentencas',\n",
              "       'StdevSentencas', 'TamanhoMedioParagrafos', 'StdevTamParagrafos',\n",
              "       'MediaSilabasPorPalavra', 'Ponto', 'Virgulas', 'Exclamacoes',\n",
              "       'DoisPontos', 'PronomesPorPreposicao', 'GuiraudR', 'HerdanV', 'MedidaK',\n",
              "       'DugastU', 'BRFleshIndex'],\n",
              "      dtype='object')"
            ]
          },
          "metadata": {
            "tags": []
          },
          "execution_count": 5
        }
      ]
    },
    {
      "cell_type": "code",
      "metadata": {
        "id": "E1hUjRi3U_Si",
        "colab_type": "code",
        "outputId": "ef45597a-1cd0-4d0d-feb5-265441207435",
        "colab": {
          "base_uri": "https://localhost:8080/",
          "height": 170
        }
      },
      "source": [
        "# 50% better based on percentile using chi2\n",
        "selector = SelectPercentile(chi2, percentile=50)\n",
        "selector.fit(df, y)\n",
        "df.columns[selector.get_support(indices=True)]"
      ],
      "execution_count": 6,
      "outputs": [
        {
          "output_type": "execute_result",
          "data": {
            "text/plain": [
              "Index(['DiversidadeLexica', 'TamanhoMedioDasPalavras', 'TamanhoMedioSentencas',\n",
              "       'StdevSentencas', 'TamanhoMedioParagrafos', 'StdevTamParagrafos',\n",
              "       'FrequenciaDeParagrafos', 'Ponto', 'Virgulas', 'Exclamacoes',\n",
              "       'DoisPontos', 'PronomesPorPreposicao', 'FreqEAbstracao',\n",
              "       'FreqEAcontecimento', 'FreqECoisa', 'FreqEOrganizacao', 'FreqEObra',\n",
              "       'FreqEOutro', 'FreqEPessoa', 'FreqETempo', 'FreqEValor', 'GuiraudR',\n",
              "       'HerdanV', 'DugastU', 'HonoresH', 'FrequenciaDeHapaxLegomenaLocal',\n",
              "       'BRFleshIndex'],\n",
              "      dtype='object')"
            ]
          },
          "metadata": {
            "tags": []
          },
          "execution_count": 6
        }
      ]
    },
    {
      "cell_type": "code",
      "metadata": {
        "id": "F_v7US4sVB_J",
        "colab_type": "code",
        "outputId": "5086acf8-f615-40fa-eb92-bd9c0234511c",
        "colab": {
          "base_uri": "https://localhost:8080/",
          "height": 170
        }
      },
      "source": [
        "selector = SelectPercentile(chi2, percentile=50)\n",
        "selector.fit(df_news, y_news)\n",
        "df.columns[selector.get_support(indices=True)]"
      ],
      "execution_count": 7,
      "outputs": [
        {
          "output_type": "execute_result",
          "data": {
            "text/plain": [
              "Index(['DiversidadeLexica', 'TamanhoMedioDasPalavras', 'TamanhoMedioSentencas',\n",
              "       'StdevSentencas', 'TamanhoMedioParagrafos', 'StdevTamParagrafos',\n",
              "       'Ponto', 'Virgulas', 'Exclamacoes', 'DoisPontos', 'FreqCitacoes',\n",
              "       'FreqAdv', 'FreqVerbosPtcp', 'FreqPronomes', 'PronomesPorPreposicao',\n",
              "       'FreqTermosNaoTageados', 'FreqECoisa', 'FreqEObra', 'FreqEOutro',\n",
              "       'FreqEPessoa', 'FreqETempo', 'GuiraudR', 'HerdanV', 'DugastU',\n",
              "       'FreqPalavrasErradas', 'FrequenciaDeHapaxLegomenaLocal',\n",
              "       'BRFleshIndex'],\n",
              "      dtype='object')"
            ]
          },
          "metadata": {
            "tags": []
          },
          "execution_count": 7
        }
      ]
    },
    {
      "cell_type": "code",
      "metadata": {
        "id": "cwHSf7U5VEWl",
        "colab_type": "code",
        "outputId": "0d0b1270-0517-45d2-dce9-e48fd4fe7597",
        "colab": {
          "base_uri": "https://localhost:8080/",
          "height": 952
        }
      },
      "source": [
        "# K-Best (chi2)\n",
        "best_k_features = SelectKBest(chi2, k=54).fit(df, y)\n",
        "dfscores = pd.DataFrame(best_k_features.scores_)\n",
        "dfcolumns = pd.DataFrame(df.columns)\n",
        "featureScores = pd.concat([dfcolumns,dfscores],axis=1)\n",
        "featureScores.columns = ['Feature','Score'] \n",
        "print(featureScores.nlargest(54,'Score'))"
      ],
      "execution_count": 8,
      "outputs": [
        {
          "output_type": "stream",
          "text": [
            "                           Feature        Score\n",
            "41                         HerdanV  1640.030726\n",
            "5               StdevTamParagrafos  1190.145679\n",
            "4           TamanhoMedioParagrafos  1083.505879\n",
            "3                   StdevSentencas    83.212074\n",
            "0                DiversidadeLexica    68.963605\n",
            "2            TamanhoMedioSentencas    42.317390\n",
            "43                         DugastU    40.001632\n",
            "10                        Virgulas    12.506046\n",
            "9                            Ponto     8.796392\n",
            "12                      DoisPontos     8.654201\n",
            "39                        GuiraudR     7.570860\n",
            "11                     Exclamacoes     5.398750\n",
            "52                    BRFleshIndex     2.558055\n",
            "23           PronomesPorPreposicao     2.380678\n",
            "47  FrequenciaDeHapaxLegomenaLocal     1.056917\n",
            "1          TamanhoMedioDasPalavras     1.034314\n",
            "45                        HonoresH     0.898729\n",
            "30              FreqEAcontecimento     0.542428\n",
            "37                      FreqETempo     0.538987\n",
            "35                      FreqEOutro     0.433414\n",
            "33                FreqEOrganizacao     0.386386\n",
            "34                       FreqEObra     0.323971\n",
            "6           FrequenciaDeParagrafos     0.316969\n",
            "29                  FreqEAbstracao     0.289026\n",
            "36                     FreqEPessoa     0.276762\n",
            "38                      FreqEValor     0.222563\n",
            "31                      FreqECoisa     0.208482\n",
            "50          FreqPalavrasComunsTam4     0.172185\n",
            "32                      FreqELocal     0.163691\n",
            "7     FrequenciaPalavrasDuplicadas     0.154284\n",
            "42                         MedidaK     0.124415\n",
            "24           FreqTermosNaoTageados     0.119277\n",
            "22                    FreqPronomes     0.105890\n",
            "15                         FreqAdv     0.100361\n",
            "46             FreqPalavrasErradas     0.084512\n",
            "14                   FreqAdjetivos     0.083546\n",
            "13                    FreqCitacoes     0.079495\n",
            "49          FreqPalavrasComunsTam3     0.076480\n",
            "20                  FreqVerbosPtcp     0.074478\n",
            "28      FreqTotalEntidadesNomeadas     0.069403\n",
            "8           MediaSilabasPorPalavra     0.069180\n",
            "21                        FreqConj     0.062580\n",
            "26          FreqPalavrasFuncionais     0.056714\n",
            "48          FreqPalavrasComunsTam2     0.054638\n",
            "16                         FreqArt     0.048959\n",
            "18                        FreqPrep     0.048056\n",
            "53           FreqOperadoresLogicos     0.042504\n",
            "19                        FreqVerb     0.035827\n",
            "51             FrequenciaStopWords     0.034237\n",
            "40                         HerdanC     0.028714\n",
            "27        FrequenciaFrasesNominais     0.025541\n",
            "17                        FreqSubs     0.024090\n",
            "25          FreqPalavrasDeConteudo     0.019389\n",
            "44                           MaasA     0.018078\n"
          ],
          "name": "stdout"
        }
      ]
    },
    {
      "cell_type": "code",
      "metadata": {
        "id": "nMRUzFOTVJ23",
        "colab_type": "code",
        "outputId": "d090b016-3a2c-46c6-f01a-77545ebefe0b",
        "colab": {
          "base_uri": "https://localhost:8080/",
          "height": 952
        }
      },
      "source": [
        "# K-Best (chi2)\n",
        "best_k_features = SelectKBest(chi2, k=54).fit(df_news, y_news)\n",
        "dfscores = pd.DataFrame(best_k_features.scores_)\n",
        "dfcolumns = pd.DataFrame(df.columns)\n",
        "featureScores = pd.concat([dfcolumns,dfscores],axis=1)\n",
        "featureScores.columns = ['Feature','Score'] \n",
        "print(featureScores.nlargest(54,'Score'))"
      ],
      "execution_count": 9,
      "outputs": [
        {
          "output_type": "stream",
          "text": [
            "                           Feature        Score\n",
            "41                         HerdanV  2688.503948\n",
            "5               StdevTamParagrafos  1707.831428\n",
            "4           TamanhoMedioParagrafos  1103.327501\n",
            "2            TamanhoMedioSentencas   862.748654\n",
            "11                     Exclamacoes    59.697231\n",
            "3                   StdevSentencas    59.007145\n",
            "0                DiversidadeLexica    37.698913\n",
            "43                         DugastU    33.392413\n",
            "39                        GuiraudR    22.573796\n",
            "10                        Virgulas    21.582665\n",
            "9                            Ponto    16.308883\n",
            "12                      DoisPontos    12.164414\n",
            "23           PronomesPorPreposicao     6.568906\n",
            "52                    BRFleshIndex     4.978543\n",
            "1          TamanhoMedioDasPalavras     1.791226\n",
            "24           FreqTermosNaoTageados     0.810441\n",
            "35                      FreqEOutro     0.551372\n",
            "34                       FreqEObra     0.526174\n",
            "22                    FreqPronomes     0.487441\n",
            "47  FrequenciaDeHapaxLegomenaLocal     0.448172\n",
            "46             FreqPalavrasErradas     0.419544\n",
            "13                    FreqCitacoes     0.399479\n",
            "31                      FreqECoisa     0.389917\n",
            "36                     FreqEPessoa     0.377552\n",
            "37                      FreqETempo     0.349568\n",
            "15                         FreqAdv     0.333384\n",
            "20                  FreqVerbosPtcp     0.316366\n",
            "38                      FreqEValor     0.279046\n",
            "42                         MedidaK     0.263620\n",
            "50          FreqPalavrasComunsTam4     0.252240\n",
            "29                  FreqEAbstracao     0.252198\n",
            "32                      FreqELocal     0.227958\n",
            "17                        FreqSubs     0.222467\n",
            "49          FreqPalavrasComunsTam3     0.205825\n",
            "30              FreqEAcontecimento     0.198315\n",
            "25          FreqPalavrasDeConteudo     0.169387\n",
            "18                        FreqPrep     0.164189\n",
            "6           FrequenciaDeParagrafos     0.163249\n",
            "51             FrequenciaStopWords     0.147728\n",
            "33                FreqEOrganizacao     0.141496\n",
            "8           MediaSilabasPorPalavra     0.141112\n",
            "21                        FreqConj     0.116501\n",
            "53           FreqOperadoresLogicos     0.110885\n",
            "48          FreqPalavrasComunsTam2     0.100544\n",
            "45                        HonoresH     0.099920\n",
            "26          FreqPalavrasFuncionais     0.092239\n",
            "7     FrequenciaPalavrasDuplicadas     0.077802\n",
            "28      FreqTotalEntidadesNomeadas     0.076904\n",
            "16                         FreqArt     0.076476\n",
            "19                        FreqVerb     0.065210\n",
            "27        FrequenciaFrasesNominais     0.060383\n",
            "14                   FreqAdjetivos     0.051196\n",
            "44                           MaasA     0.009959\n",
            "40                         HerdanC     0.006941\n"
          ],
          "name": "stdout"
        }
      ]
    },
    {
      "cell_type": "code",
      "metadata": {
        "id": "Z1JHmkocVEhl",
        "colab_type": "code",
        "outputId": "91d5f71a-620a-42b7-f552-ca85653e3769",
        "colab": {
          "base_uri": "https://localhost:8080/",
          "height": 952
        }
      },
      "source": [
        "# K-Best (f_classif)\n",
        "best_k_features = SelectKBest(f_classif, k=54).fit(df, y)\n",
        "dfscores = pd.DataFrame(best_k_features.scores_)\n",
        "dfcolumns = pd.DataFrame(df.columns)\n",
        "featureScores = pd.concat([dfcolumns,dfscores],axis=1)\n",
        "featureScores.columns = ['Feature','Score'] \n",
        "print(featureScores.nlargest(54,'Score'))"
      ],
      "execution_count": 10,
      "outputs": [
        {
          "output_type": "stream",
          "text": [
            "                           Feature     Score\n",
            "40                         HerdanC  3.929198\n",
            "47  FrequenciaDeHapaxLegomenaLocal  3.897632\n",
            "0                DiversidadeLexica  3.704376\n",
            "45                        HonoresH  3.677677\n",
            "3                   StdevSentencas  2.980987\n",
            "10                        Virgulas  2.902532\n",
            "7     FrequenciaPalavrasDuplicadas  2.701226\n",
            "43                         DugastU  2.634572\n",
            "9                            Ponto  2.433186\n",
            "44                           MaasA  2.357812\n",
            "28      FreqTotalEntidadesNomeadas  1.975839\n",
            "1          TamanhoMedioDasPalavras  1.816000\n",
            "51             FrequenciaStopWords  1.799109\n",
            "2            TamanhoMedioSentencas  1.750471\n",
            "4           TamanhoMedioParagrafos  1.721667\n",
            "6           FrequenciaDeParagrafos  1.646904\n",
            "50          FreqPalavrasComunsTam4  1.563717\n",
            "41                         HerdanV  1.523790\n",
            "14                   FreqAdjetivos  1.523693\n",
            "42                         MedidaK  1.509841\n",
            "37                      FreqETempo  1.461829\n",
            "5               StdevTamParagrafos  1.418687\n",
            "21                        FreqConj  1.260874\n",
            "26          FreqPalavrasFuncionais  1.251260\n",
            "8           MediaSilabasPorPalavra  1.249751\n",
            "52                    BRFleshIndex  1.248959\n",
            "20                  FreqVerbosPtcp  1.227229\n",
            "18                        FreqPrep  1.220524\n",
            "39                        GuiraudR  1.203934\n",
            "16                         FreqArt  1.140225\n",
            "22                    FreqPronomes  1.088508\n",
            "46             FreqPalavrasErradas  1.001306\n",
            "48          FreqPalavrasComunsTam2  0.981618\n",
            "35                      FreqEOutro  0.942357\n",
            "19                        FreqVerb  0.933703\n",
            "24           FreqTermosNaoTageados  0.931985\n",
            "23           PronomesPorPreposicao  0.916805\n",
            "30              FreqEAcontecimento  0.887278\n",
            "15                         FreqAdv  0.861767\n",
            "33                FreqEOrganizacao  0.850837\n",
            "25          FreqPalavrasDeConteudo  0.805462\n",
            "17                        FreqSubs  0.779586\n",
            "53           FreqOperadoresLogicos  0.748357\n",
            "49          FreqPalavrasComunsTam3  0.743125\n",
            "13                    FreqCitacoes  0.721224\n",
            "29                  FreqEAbstracao  0.718008\n",
            "27        FrequenciaFrasesNominais  0.684562\n",
            "11                     Exclamacoes  0.650388\n",
            "36                     FreqEPessoa  0.559506\n",
            "34                       FreqEObra  0.546502\n",
            "12                      DoisPontos  0.500607\n",
            "31                      FreqECoisa  0.433196\n",
            "38                      FreqEValor  0.411576\n",
            "32                      FreqELocal  0.365574\n"
          ],
          "name": "stdout"
        }
      ]
    },
    {
      "cell_type": "code",
      "metadata": {
        "id": "I8iXtTWbVVBi",
        "colab_type": "code",
        "outputId": "df3e0c12-5490-4860-fc7b-d915edadc9eb",
        "colab": {
          "base_uri": "https://localhost:8080/",
          "height": 581
        }
      },
      "source": [
        "# Create the RFE object and compute a cross-validated score.\n",
        "rfc = RandomForestClassifier(n_estimators=200)\n",
        "# The \"accuracy\" scoring is proportional to the number of correct classifications\n",
        "\n",
        "rfecv = RFECV(estimator=rfc, step=1, cv=5,scoring='accuracy')\n",
        "rfecv.fit(df_news, y_news)\n",
        "\n",
        "print(\"Optimal number of features news-dataset: %d\" % rfecv.n_features_)\n",
        "\n",
        "rfecv2 = RFECV(estimator=rfc, step=1, cv=3,\n",
        "              scoring='accuracy')\n",
        "rfecv2.fit(df, y)\n",
        "\n",
        "print(\"Optimal number of features students-dataset: %d\" % rfecv2.n_features_)\n",
        "\n",
        "fig, (ax1, ax2) = plt.subplots(1, 2)\n",
        "fig.set_size_inches(12, 8)\n",
        "\n",
        "ax1.plot(range(1, len(rfecv.grid_scores_) + 1), rfecv.grid_scores_)\n",
        "ax1.set_xlabel(\"Number of features selected\")\n",
        "ax1.set_ylabel(\"Cross validation score (nb of correct classifications)\")\n",
        "ax1.set_title('Random Forest n=200 - News dataset')\n",
        "\n",
        "ax2.plot(range(1, len(rfecv2.grid_scores_) + 1), rfecv2.grid_scores_)\n",
        "ax2.set_xlabel(\"Number of features selected\")\n",
        "ax2.set_ylabel(\"Cross validation score (nb of correct classifications)\")\n",
        "ax2.set_title('Random Forest n=200 - Students dataset')\n",
        "\n",
        "plt.figure()"
      ],
      "execution_count": 12,
      "outputs": [
        {
          "output_type": "stream",
          "text": [
            "Optimal number of features news-dataset: 30\n",
            "Optimal number of features students-dataset: 45\n"
          ],
          "name": "stdout"
        },
        {
          "output_type": "execute_result",
          "data": {
            "text/plain": [
              "<Figure size 432x288 with 0 Axes>"
            ]
          },
          "metadata": {
            "tags": []
          },
          "execution_count": 12
        },
        {
          "output_type": "display_data",
          "data": {
            "image/png": "[encoded data removed]",
            "text/plain": [
              "<Figure size 864x576 with 2 Axes>"
            ]
          },
          "metadata": {
            "tags": [],
            "needs_background": "light"
          }
        },
        {
          "output_type": "display_data",
          "data": {
            "text/plain": [
              "<Figure size 432x288 with 0 Axes>"
            ]
          },
          "metadata": {
            "tags": []
          }
        }
      ]
    },
    {
      "cell_type": "code",
      "metadata": {
        "id": "4FXajxW9RXU0",
        "colab_type": "code",
        "colab": {}
      },
      "source": [
        "X, X_test, Y, y_test = train_test_split(df_news.values, encoded_y_news, random_state=7, test_size=0.3)\n",
        "X_test, X_val, y_test, y_val = train_test_split(X_test, y_test, random_state=7, test_size=0.5)\n",
        "\n",
        "X_student, X_student_test, Y_student, Y_student_test = train_test_split(df.values, encoded_Y, random_state=11, test_size=0.2)\n",
        "X_student_test, X_student_val, Y_student_test, y_student_val = train_test_split(X_student_test, Y_student_test, random_state=11, test_size=0.5)"
      ],
      "execution_count": 0,
      "outputs": []
    },
    {
      "cell_type": "code",
      "metadata": {
        "id": "mcDwTcTarJRK",
        "colab_type": "code",
        "outputId": "e28355b3-1dcb-4cd5-b9e4-1a6aec3b6f0f",
        "colab": {
          "base_uri": "https://localhost:8080/",
          "height": 224
        }
      },
      "source": [
        "df.head()"
      ],
      "execution_count": 15,
      "outputs": [
        {
          "output_type": "execute_result",
          "data": {
            "text/html": [
              "<div>\n",
              "<style scoped>\n",
              "    .dataframe tbody tr th:only-of-type {\n",
              "        vertical-align: middle;\n",
              "    }\n",
              "\n",
              "    .dataframe tbody tr th {\n",
              "        vertical-align: top;\n",
              "    }\n",
              "\n",
              "    .dataframe thead th {\n",
              "        text-align: right;\n",
              "    }\n",
              "</style>\n",
              "<table border=\"1\" class=\"dataframe\">\n",
              "  <thead>\n",
              "    <tr style=\"text-align: right;\">\n",
              "      <th></th>\n",
              "      <th>DiversidadeLexica</th>\n",
              "      <th>TamanhoMedioDasPalavras</th>\n",
              "      <th>TamanhoMedioSentencas</th>\n",
              "      <th>StdevSentencas</th>\n",
              "      <th>TamanhoMedioParagrafos</th>\n",
              "      <th>StdevTamParagrafos</th>\n",
              "      <th>FrequenciaDeParagrafos</th>\n",
              "      <th>FrequenciaPalavrasDuplicadas</th>\n",
              "      <th>MediaSilabasPorPalavra</th>\n",
              "      <th>Ponto</th>\n",
              "      <th>Virgulas</th>\n",
              "      <th>Exclamacoes</th>\n",
              "      <th>DoisPontos</th>\n",
              "      <th>FreqCitacoes</th>\n",
              "      <th>FreqAdjetivos</th>\n",
              "      <th>FreqAdv</th>\n",
              "      <th>FreqArt</th>\n",
              "      <th>FreqSubs</th>\n",
              "      <th>FreqPrep</th>\n",
              "      <th>FreqVerb</th>\n",
              "      <th>FreqVerbosPtcp</th>\n",
              "      <th>FreqConj</th>\n",
              "      <th>FreqPronomes</th>\n",
              "      <th>PronomesPorPreposicao</th>\n",
              "      <th>FreqTermosNaoTageados</th>\n",
              "      <th>FreqPalavrasDeConteudo</th>\n",
              "      <th>FreqPalavrasFuncionais</th>\n",
              "      <th>FrequenciaFrasesNominais</th>\n",
              "      <th>FreqTotalEntidadesNomeadas</th>\n",
              "      <th>FreqEAbstracao</th>\n",
              "      <th>FreqEAcontecimento</th>\n",
              "      <th>FreqECoisa</th>\n",
              "      <th>FreqELocal</th>\n",
              "      <th>FreqEOrganizacao</th>\n",
              "      <th>FreqEObra</th>\n",
              "      <th>FreqEOutro</th>\n",
              "      <th>FreqEPessoa</th>\n",
              "      <th>FreqETempo</th>\n",
              "      <th>FreqEValor</th>\n",
              "      <th>GuiraudR</th>\n",
              "      <th>HerdanC</th>\n",
              "      <th>HerdanV</th>\n",
              "      <th>MedidaK</th>\n",
              "      <th>DugastU</th>\n",
              "      <th>MaasA</th>\n",
              "      <th>HonoresH</th>\n",
              "      <th>FreqPalavrasErradas</th>\n",
              "      <th>FrequenciaDeHapaxLegomenaLocal</th>\n",
              "      <th>FreqPalavrasComunsTam2</th>\n",
              "      <th>FreqPalavrasComunsTam3</th>\n",
              "      <th>FreqPalavrasComunsTam4</th>\n",
              "      <th>FrequenciaStopWords</th>\n",
              "      <th>BRFleshIndex</th>\n",
              "      <th>FreqOperadoresLogicos</th>\n",
              "    </tr>\n",
              "  </thead>\n",
              "  <tbody>\n",
              "    <tr>\n",
              "      <th>1</th>\n",
              "      <td>44.303797</td>\n",
              "      <td>6.417143</td>\n",
              "      <td>29.666667</td>\n",
              "      <td>14.550678</td>\n",
              "      <td>44.500000</td>\n",
              "      <td>24.197107</td>\n",
              "      <td>0.020253</td>\n",
              "      <td>0.116456</td>\n",
              "      <td>2.248101</td>\n",
              "      <td>2.784810</td>\n",
              "      <td>5.316456</td>\n",
              "      <td>0.253165</td>\n",
              "      <td>0.000000</td>\n",
              "      <td>0.0</td>\n",
              "      <td>0.020253</td>\n",
              "      <td>0.037975</td>\n",
              "      <td>0.116456</td>\n",
              "      <td>0.189873</td>\n",
              "      <td>0.091139</td>\n",
              "      <td>0.022785</td>\n",
              "      <td>0.144304</td>\n",
              "      <td>0.065823</td>\n",
              "      <td>0.103797</td>\n",
              "      <td>1.138889</td>\n",
              "      <td>0.078481</td>\n",
              "      <td>0.417722</td>\n",
              "      <td>0.273418</td>\n",
              "      <td>0.002532</td>\n",
              "      <td>0.070886</td>\n",
              "      <td>0.035714</td>\n",
              "      <td>0.000000</td>\n",
              "      <td>0.035714</td>\n",
              "      <td>0.107143</td>\n",
              "      <td>0.071429</td>\n",
              "      <td>0.00</td>\n",
              "      <td>0.107143</td>\n",
              "      <td>0.071429</td>\n",
              "      <td>0.214286</td>\n",
              "      <td>0.357143</td>\n",
              "      <td>8.805206</td>\n",
              "      <td>0.863838</td>\n",
              "      <td>175.0</td>\n",
              "      <td>2.396934</td>\n",
              "      <td>63.348656</td>\n",
              "      <td>0.125641</td>\n",
              "      <td>0.588571</td>\n",
              "      <td>0.037975</td>\n",
              "      <td>0.260759</td>\n",
              "      <td>0.037975</td>\n",
              "      <td>0.050633</td>\n",
              "      <td>0.050633</td>\n",
              "      <td>0.405063</td>\n",
              "      <td>438.993532</td>\n",
              "      <td>0.063291</td>\n",
              "    </tr>\n",
              "    <tr>\n",
              "      <th>2</th>\n",
              "      <td>52.647975</td>\n",
              "      <td>6.538462</td>\n",
              "      <td>32.444444</td>\n",
              "      <td>16.806818</td>\n",
              "      <td>97.333333</td>\n",
              "      <td>9.809293</td>\n",
              "      <td>0.009346</td>\n",
              "      <td>0.093458</td>\n",
              "      <td>2.367601</td>\n",
              "      <td>2.803738</td>\n",
              "      <td>4.984424</td>\n",
              "      <td>0.000000</td>\n",
              "      <td>0.000000</td>\n",
              "      <td>0.0</td>\n",
              "      <td>0.046729</td>\n",
              "      <td>0.024922</td>\n",
              "      <td>0.080997</td>\n",
              "      <td>0.183801</td>\n",
              "      <td>0.149533</td>\n",
              "      <td>0.028037</td>\n",
              "      <td>0.105919</td>\n",
              "      <td>0.043614</td>\n",
              "      <td>0.090343</td>\n",
              "      <td>0.604167</td>\n",
              "      <td>0.077882</td>\n",
              "      <td>0.417445</td>\n",
              "      <td>0.274143</td>\n",
              "      <td>0.006231</td>\n",
              "      <td>0.077882</td>\n",
              "      <td>0.120000</td>\n",
              "      <td>0.040000</td>\n",
              "      <td>0.000000</td>\n",
              "      <td>0.200000</td>\n",
              "      <td>0.160000</td>\n",
              "      <td>0.04</td>\n",
              "      <td>0.200000</td>\n",
              "      <td>0.000000</td>\n",
              "      <td>0.120000</td>\n",
              "      <td>0.120000</td>\n",
              "      <td>9.432660</td>\n",
              "      <td>0.888842</td>\n",
              "      <td>169.0</td>\n",
              "      <td>2.420409</td>\n",
              "      <td>74.906190</td>\n",
              "      <td>0.115542</td>\n",
              "      <td>0.692308</td>\n",
              "      <td>0.068536</td>\n",
              "      <td>0.364486</td>\n",
              "      <td>0.012461</td>\n",
              "      <td>0.024922</td>\n",
              "      <td>0.034268</td>\n",
              "      <td>0.364486</td>\n",
              "      <td>449.105607</td>\n",
              "      <td>0.031153</td>\n",
              "    </tr>\n",
              "    <tr>\n",
              "      <th>3</th>\n",
              "      <td>80.701754</td>\n",
              "      <td>5.000000</td>\n",
              "      <td>25.000000</td>\n",
              "      <td>6.000000</td>\n",
              "      <td>50.000000</td>\n",
              "      <td>0.000000</td>\n",
              "      <td>0.017544</td>\n",
              "      <td>0.070175</td>\n",
              "      <td>2.175439</td>\n",
              "      <td>3.508772</td>\n",
              "      <td>8.771930</td>\n",
              "      <td>0.000000</td>\n",
              "      <td>0.000000</td>\n",
              "      <td>0.0</td>\n",
              "      <td>0.140351</td>\n",
              "      <td>0.017544</td>\n",
              "      <td>0.035088</td>\n",
              "      <td>0.192982</td>\n",
              "      <td>0.035088</td>\n",
              "      <td>0.000000</td>\n",
              "      <td>0.140351</td>\n",
              "      <td>0.070175</td>\n",
              "      <td>0.105263</td>\n",
              "      <td>3.000000</td>\n",
              "      <td>0.087719</td>\n",
              "      <td>0.543860</td>\n",
              "      <td>0.140351</td>\n",
              "      <td>0.035088</td>\n",
              "      <td>0.087719</td>\n",
              "      <td>0.000000</td>\n",
              "      <td>0.200000</td>\n",
              "      <td>0.000000</td>\n",
              "      <td>0.200000</td>\n",
              "      <td>0.000000</td>\n",
              "      <td>0.20</td>\n",
              "      <td>0.000000</td>\n",
              "      <td>0.000000</td>\n",
              "      <td>0.400000</td>\n",
              "      <td>0.000000</td>\n",
              "      <td>6.092849</td>\n",
              "      <td>0.946968</td>\n",
              "      <td>46.0</td>\n",
              "      <td>2.171032</td>\n",
              "      <td>109.988748</td>\n",
              "      <td>0.095351</td>\n",
              "      <td>0.847826</td>\n",
              "      <td>0.070175</td>\n",
              "      <td>0.684211</td>\n",
              "      <td>0.000000</td>\n",
              "      <td>0.000000</td>\n",
              "      <td>0.000000</td>\n",
              "      <td>0.368421</td>\n",
              "      <td>432.841491</td>\n",
              "      <td>0.052632</td>\n",
              "    </tr>\n",
              "    <tr>\n",
              "      <th>5</th>\n",
              "      <td>52.654867</td>\n",
              "      <td>6.836134</td>\n",
              "      <td>26.866667</td>\n",
              "      <td>14.403086</td>\n",
              "      <td>80.600000</td>\n",
              "      <td>74.816041</td>\n",
              "      <td>0.011062</td>\n",
              "      <td>0.090708</td>\n",
              "      <td>2.329646</td>\n",
              "      <td>3.318584</td>\n",
              "      <td>4.424779</td>\n",
              "      <td>0.000000</td>\n",
              "      <td>0.442478</td>\n",
              "      <td>0.0</td>\n",
              "      <td>0.046460</td>\n",
              "      <td>0.033186</td>\n",
              "      <td>0.079646</td>\n",
              "      <td>0.219027</td>\n",
              "      <td>0.106195</td>\n",
              "      <td>0.022124</td>\n",
              "      <td>0.110619</td>\n",
              "      <td>0.075221</td>\n",
              "      <td>0.088496</td>\n",
              "      <td>0.833333</td>\n",
              "      <td>0.064159</td>\n",
              "      <td>0.453540</td>\n",
              "      <td>0.261062</td>\n",
              "      <td>0.004425</td>\n",
              "      <td>0.061947</td>\n",
              "      <td>0.071429</td>\n",
              "      <td>0.107143</td>\n",
              "      <td>0.035714</td>\n",
              "      <td>0.178571</td>\n",
              "      <td>0.107143</td>\n",
              "      <td>0.00</td>\n",
              "      <td>0.000000</td>\n",
              "      <td>0.035714</td>\n",
              "      <td>0.250000</td>\n",
              "      <td>0.214286</td>\n",
              "      <td>11.194578</td>\n",
              "      <td>0.895086</td>\n",
              "      <td>238.0</td>\n",
              "      <td>2.513626</td>\n",
              "      <td>84.070476</td>\n",
              "      <td>0.109063</td>\n",
              "      <td>0.705882</td>\n",
              "      <td>0.046460</td>\n",
              "      <td>0.371681</td>\n",
              "      <td>0.015487</td>\n",
              "      <td>0.024336</td>\n",
              "      <td>0.030973</td>\n",
              "      <td>0.358407</td>\n",
              "      <td>445.887124</td>\n",
              "      <td>0.050885</td>\n",
              "    </tr>\n",
              "    <tr>\n",
              "      <th>6</th>\n",
              "      <td>69.230769</td>\n",
              "      <td>5.679012</td>\n",
              "      <td>26.750000</td>\n",
              "      <td>14.113380</td>\n",
              "      <td>107.000000</td>\n",
              "      <td>0.000000</td>\n",
              "      <td>0.008547</td>\n",
              "      <td>0.042735</td>\n",
              "      <td>2.196581</td>\n",
              "      <td>3.418803</td>\n",
              "      <td>5.128205</td>\n",
              "      <td>0.000000</td>\n",
              "      <td>0.000000</td>\n",
              "      <td>0.0</td>\n",
              "      <td>0.051282</td>\n",
              "      <td>0.017094</td>\n",
              "      <td>0.085470</td>\n",
              "      <td>0.222222</td>\n",
              "      <td>0.094017</td>\n",
              "      <td>0.017094</td>\n",
              "      <td>0.145299</td>\n",
              "      <td>0.076923</td>\n",
              "      <td>0.076923</td>\n",
              "      <td>0.818182</td>\n",
              "      <td>0.042735</td>\n",
              "      <td>0.521368</td>\n",
              "      <td>0.256410</td>\n",
              "      <td>0.017094</td>\n",
              "      <td>0.051282</td>\n",
              "      <td>0.000000</td>\n",
              "      <td>0.000000</td>\n",
              "      <td>0.166667</td>\n",
              "      <td>0.333333</td>\n",
              "      <td>0.333333</td>\n",
              "      <td>0.00</td>\n",
              "      <td>0.000000</td>\n",
              "      <td>0.166667</td>\n",
              "      <td>0.000000</td>\n",
              "      <td>0.000000</td>\n",
              "      <td>7.488453</td>\n",
              "      <td>0.922782</td>\n",
              "      <td>81.0</td>\n",
              "      <td>2.280204</td>\n",
              "      <td>88.973802</td>\n",
              "      <td>0.106015</td>\n",
              "      <td>0.802469</td>\n",
              "      <td>0.025641</td>\n",
              "      <td>0.555556</td>\n",
              "      <td>0.000000</td>\n",
              "      <td>0.000000</td>\n",
              "      <td>0.000000</td>\n",
              "      <td>0.393162</td>\n",
              "      <td>434.631068</td>\n",
              "      <td>0.051282</td>\n",
              "    </tr>\n",
              "  </tbody>\n",
              "</table>\n",
              "</div>"
            ],
            "text/plain": [
              "   DiversidadeLexica  ...  FreqOperadoresLogicos\n",
              "1          44.303797  ...               0.063291\n",
              "2          52.647975  ...               0.031153\n",
              "3          80.701754  ...               0.052632\n",
              "5          52.654867  ...               0.050885\n",
              "6          69.230769  ...               0.051282\n",
              "\n",
              "[5 rows x 54 columns]"
            ]
          },
          "metadata": {
            "tags": []
          },
          "execution_count": 15
        }
      ]
    },
    {
      "cell_type": "code",
      "metadata": {
        "id": "MvjESmURRgbI",
        "colab_type": "code",
        "outputId": "297a41fc-bb98-4d94-8b5e-2cd9cea69b95",
        "colab": {
          "base_uri": "https://localhost:8080/",
          "height": 51
        }
      },
      "source": [
        "model = ExtraTreesClassifier(n_estimators=350, random_state=11)\n",
        "model.fit(X, Y)\n",
        "\n",
        "y_pred = model.predict(X_test)\n",
        "\n",
        "score = accuracy_score(y_test, y_pred)\n",
        "print(\"News Test score: %.2f%%\" % (score * 100))\n",
        "\n",
        "\n",
        "model = ExtraTreesClassifier(n_estimators=350, random_state=11)\n",
        "model.fit(X_student, Y_student)\n",
        "\n",
        "y_pred = model.predict(X_student_test)\n",
        "\n",
        "score = accuracy_score(Y_student_test, y_pred)\n",
        "print(\"Students Test score: %.2f%%\" % (score * 100))"
      ],
      "execution_count": 7,
      "outputs": [
        {
          "output_type": "stream",
          "text": [
            "News Test score: 73.33%\n",
            "Students Test score: 14.29%\n"
          ],
          "name": "stdout"
        }
      ]
    },
    {
      "cell_type": "code",
      "metadata": {
        "id": "pep2ZehISvJK",
        "colab_type": "code",
        "outputId": "ba59d3bc-a2f7-4380-d8ac-09e70498ccb1",
        "colab": {
          "base_uri": "https://localhost:8080/",
          "height": 289
        }
      },
      "source": [
        "# Hyper-tuning our classifiers\n",
        "\n",
        "n_estimators = [int(x) for x in np.linspace(start = 150, stop = 1500, num = 50)]\n",
        "max_features = ['auto', 'sqrt']\n",
        "max_depth = [int(x) for x in np.linspace(10, 110, num = 11)]\n",
        "max_depth.append(None)\n",
        "min_samples_split = [2, 5, 10]\n",
        "min_samples_leaf = [1, 2, 4]\n",
        "bootstrap = [True, False]\n",
        "\n",
        "random_grid = {'n_estimators': n_estimators,\n",
        "               'max_features': max_features,\n",
        "               'max_depth': max_depth,\n",
        "               'min_samples_split': min_samples_split,\n",
        "               'min_samples_leaf': min_samples_leaf,\n",
        "               'bootstrap': bootstrap}\n",
        "                \n",
        "etc = ExtraTreesClassifier(random_state=11)\n",
        "\n",
        "# search across 100 different combinations, and use all available cores\n",
        "news_best_estimator_search = RandomizedSearchCV(estimator = etc, param_distributions = random_grid, n_iter = 100, cv = 5, verbose=0, random_state=11, n_jobs=-1)\n",
        "\n",
        "news_best_estimator_search.fit(X, Y)\n",
        "\n",
        "students_best_estimator_search = RandomizedSearchCV(estimator = etc, param_distributions = random_grid, n_iter = 100, cv = 3, verbose=0, random_state=11, n_jobs=-1)\n",
        "\n",
        "students_best_estimator_search.fit(X_student, Y_student)\n",
        "\n",
        "pprint(news_best_estimator_search.best_params_)\n",
        "pprint(students_best_estimator_search.best_params_)"
      ],
      "execution_count": 8,
      "outputs": [
        {
          "output_type": "stream",
          "text": [
            "/usr/local/lib/python3.6/dist-packages/sklearn/model_selection/_split.py:667: UserWarning: The least populated class in y has only 4 members, which is less than n_splits=5.\n",
            "  % (min_groups, self.n_splits)), UserWarning)\n",
            "/usr/local/lib/python3.6/dist-packages/sklearn/model_selection/_split.py:667: UserWarning: The least populated class in y has only 2 members, which is less than n_splits=3.\n",
            "  % (min_groups, self.n_splits)), UserWarning)\n"
          ],
          "name": "stderr"
        },
        {
          "output_type": "stream",
          "text": [
            "{'bootstrap': False,\n",
            " 'max_depth': 60,\n",
            " 'max_features': 'sqrt',\n",
            " 'min_samples_leaf': 1,\n",
            " 'min_samples_split': 2,\n",
            " 'n_estimators': 866}\n",
            "{'bootstrap': True,\n",
            " 'max_depth': 10,\n",
            " 'max_features': 'auto',\n",
            " 'min_samples_leaf': 4,\n",
            " 'min_samples_split': 2,\n",
            " 'n_estimators': 535}\n"
          ],
          "name": "stdout"
        }
      ]
    },
    {
      "cell_type": "code",
      "metadata": {
        "id": "ZSXJpOjhAr-d",
        "colab_type": "code",
        "outputId": "6d366baa-7781-45ad-e830-ed14f451b00a",
        "colab": {
          "base_uri": "https://localhost:8080/",
          "height": 119
        }
      },
      "source": [
        "pprint(news_best_estimator_search.best_params_)"
      ],
      "execution_count": 18,
      "outputs": [
        {
          "output_type": "stream",
          "text": [
            "{'bootstrap': False,\n",
            " 'max_depth': 60,\n",
            " 'max_features': 'sqrt',\n",
            " 'min_samples_leaf': 1,\n",
            " 'min_samples_split': 2,\n",
            " 'n_estimators': 866}\n"
          ],
          "name": "stdout"
        }
      ]
    },
    {
      "cell_type": "code",
      "metadata": {
        "id": "BGPCA-Jnf5e2",
        "colab_type": "code",
        "outputId": "63dd63d9-b9f2-4d74-d009-48513bc12486",
        "colab": {
          "base_uri": "https://localhost:8080/",
          "height": 51
        }
      },
      "source": [
        "from sklearn.metrics import average_precision_score\n",
        "from sklearn.metrics import precision_recall_fscore_support\n",
        "\n",
        "# Let's now check the accuracy on both validation datasets (not seen by the classifier yet)\n",
        "new_X = np.concatenate((X, X_test))\n",
        "new_Y = np.concatenate((Y, y_test))\n",
        "\n",
        "news_best_estimator_search.best_estimator_.fit(new_X, new_Y)\n",
        "predictions = news_best_estimator_search.best_estimator_.predict(X_val)\n",
        "base_score = accuracy_score(predictions, y_val)\n",
        "print('Average accuracy news:' + str(base_score))\n",
        "#pprint(classification_report(y_val, predictions))\n",
        "\n",
        "new_X_student = np.concatenate((X_student, X_student_test))\n",
        "new_Y_student = np.concatenate((Y_student, Y_student_test))\n",
        "\n",
        "students_best_estimator_search.best_estimator_.fit(new_X_student, new_Y_student)\n",
        "predictions = students_best_estimator_search.best_estimator_.predict(X_student_val)\n",
        "base_score = accuracy_score(predictions, y_student_val)\n",
        "print('Average accuracy students:' + str(base_score))\n",
        "\n",
        "\n",
        "#precision_recall_fscore_support(y_test, predictions, average='macro')\n",
        "\n",
        "#pprint(classification_report(y_student_val, predictions))\n",
        "\n",
        "#print (\"AUC&ROC\",roc_auc_score(y_test, predictions, multi_class='ovr'))"
      ],
      "execution_count": 12,
      "outputs": [
        {
          "output_type": "stream",
          "text": [
            "Average accuracy news:0.8\n",
            "Average accuracy students:0.14285714285714285\n"
          ],
          "name": "stdout"
        }
      ]
    },
    {
      "cell_type": "code",
      "metadata": {
        "id": "GIGbPqTN25-V",
        "colab_type": "code",
        "outputId": "9d013e36-71a1-450c-95d2-2bce89b7948a",
        "colab": {
          "base_uri": "https://localhost:8080/",
          "height": 581
        }
      },
      "source": [
        "rfecv = RFECV(estimator=news_best_estimator_search.best_estimator_, step=1, cv=5,scoring='accuracy')\n",
        "rfecv.fit(df_news, encoded_y_news)\n",
        "\n",
        "news_best_features_num = rfecv.n_features_\n",
        "\n",
        "print(\"Optimal number of features for best estimator news-dataset: %d\" % news_best_features_num)\n",
        "\n",
        "rfecv2 = RFECV(estimator=students_best_estimator_search.best_estimator_, step=1, cv=3,\n",
        "              scoring='accuracy')\n",
        "rfecv2.fit(df, encoded_Y)\n",
        "\n",
        "students_best_features_num = rfecv2.n_features_\n",
        "\n",
        "print(\"Optimal number of features for best estimator students-dataset: %d\" % students_best_features_num)\n",
        "\n",
        "fig, (ax1, ax2) = plt.subplots(1, 2)\n",
        "fig.set_size_inches(12, 8)\n",
        "\n",
        "ax1.plot(range(1, len(rfecv.grid_scores_) + 1), rfecv.grid_scores_)\n",
        "ax1.set_xlabel(\"Number of features selected\")\n",
        "ax1.set_ylabel(\"Cross validation score (nb of correct classifications)\")\n",
        "ax1.set_title('Best classifier (ExtraTrees) - News dataset')\n",
        "\n",
        "ax2.plot(range(1, len(rfecv2.grid_scores_) + 1), rfecv2.grid_scores_)\n",
        "ax2.set_xlabel(\"Number of features selected\")\n",
        "ax2.set_ylabel(\"Cross validation score (nb of correct classifications)\")\n",
        "ax2.set_title('Best classifier (ExtraTrees) - Students dataset')\n",
        "\n",
        "plt.figure()"
      ],
      "execution_count": 13,
      "outputs": [
        {
          "output_type": "stream",
          "text": [
            "Optimal number of features for best estimator news-dataset: 23\n",
            "Optimal number of features for best estimator students-dataset: 26\n"
          ],
          "name": "stdout"
        },
        {
          "output_type": "execute_result",
          "data": {
            "text/plain": [
              "<Figure size 432x288 with 0 Axes>"
            ]
          },
          "metadata": {
            "tags": []
          },
          "execution_count": 13
        },
        {
          "output_type": "display_data",
          "data": {
            "image/png": "[encoded data removed]",
            "text/plain": [
              "<Figure size 864x576 with 2 Axes>"
            ]
          },
          "metadata": {
            "tags": [],
            "needs_background": "light"
          }
        },
        {
          "output_type": "display_data",
          "data": {
            "text/plain": [
              "<Figure size 432x288 with 0 Axes>"
            ]
          },
          "metadata": {
            "tags": []
          }
        }
      ]
    },
    {
      "cell_type": "code",
      "metadata": {
        "id": "VfrMBcY-Rz8T",
        "colab_type": "code",
        "colab": {}
      },
      "source": [
        "# TODO: Plot best features on each optimal classifier/n-features side by side\n",
        "\n",
        "\n",
        "\n",
        "news_feat_importances = pd.Series(news_best_estimator_search.best_estimator_.feature_importances_, index=df_news.columns)\n",
        "news_feat_importances.nlargest(news_best_features_num).plot(kind='barh')\n",
        "print(news_feat_importances.nlargest(news_best_features_num))\n",
        "print('\\n')\n",
        "\n",
        "\n",
        "student_feat_importances = pd.Series(students_best_estimator_search.best_estimator_.feature_importances_, index=df.columns)\n",
        "student_feat_importances.nlargest(students_best_features_num).plot(kind='barh')\n",
        "\n",
        "\n",
        "\n",
        "\n",
        "# plt.figure()\n",
        "\n",
        "\n",
        "print(student_feat_importances.nlargest(students_best_features_num))"
      ],
      "execution_count": 0,
      "outputs": []
    },
    {
      "cell_type": "code",
      "metadata": {
        "id": "jN_DZ_XO7K1Z",
        "colab_type": "code",
        "colab": {}
      },
      "source": [
        "# Dummy function to make label names shorter and help visualize our graph\n",
        "\n",
        "def make_label(text):\n",
        "  if len(text) > 6:\n",
        "    sub_text = text[:6]\n",
        "    capitals = ''.join([c for c in text if c.isupper()])\n",
        "    numbers = ''.join([c for c in text if c.isdigit()])\n",
        "    text = capitals[0] + sub_text[1:] + capitals[1:] + numbers \n",
        "  return text"
      ],
      "execution_count": 0,
      "outputs": []
    },
    {
      "cell_type": "code",
      "metadata": {
        "id": "5N4gO4Ipu1ah",
        "colab_type": "code",
        "colab": {
          "base_uri": "https://localhost:8080/",
          "height": 533
        },
        "outputId": "66c6c902-e703-4297-d160-d9051a5da13a"
      },
      "source": [
        "fig, (ax1, ax2) = plt.subplots(1, 2)\n",
        "fig.set_size_inches(60, 8)\n",
        "\n",
        "news_features = news_feat_importances.nlargest(news_best_features_num)\n",
        "height_news = [i for i in news_features]\n",
        " \n",
        "ax1.set_xlabel(\"Feature name\")\n",
        "ax1.set_ylabel(\"Feature score\")\n",
        "ax1.set_title('News dataset best features')\n",
        "smaller_news_labels = [make_label(ft) for ft in news_features.index]\n",
        "ax1.bar(smaller_news_labels, height_news, 0.5)\n",
        "\n",
        "std_features = student_feat_importances.nlargest(students_best_features_num)\n",
        "height_std = [i for i in std_features]\n",
        "ax2.set_xlabel(\"Feature name\")\n",
        "ax2.set_ylabel(\"Feature score\")\n",
        "ax2.set_title('News dataset best features')\n",
        "smaller_std_labels = [make_label(ft) for ft in std_features.index]\n",
        "ax2.bar(smaller_std_labels, height_std, 0.5)\n",
        "\n",
        "\n",
        "plt.show()"
      ],
      "execution_count": 120,
      "outputs": [
        {
          "output_type": "display_data",
          "data": {
            "image/png": "[encoded data removed]",
            "text/plain": [
              "<Figure size 4320x576 with 2 Axes>"
            ]
          },
          "metadata": {
            "tags": [],
            "needs_background": "light"
          }
        }
      ]
    },
    {
      "cell_type": "code",
      "metadata": {
        "id": "IGMK2P869VOG",
        "colab_type": "code",
        "colab": {
          "base_uri": "https://localhost:8080/",
          "height": 306
        },
        "outputId": "8d8664fb-6ce5-4fec-fefb-8762812f2d5c"
      },
      "source": [
        "print(news_features.index)\n",
        "print(std_features.index)"
      ],
      "execution_count": 122,
      "outputs": [
        {
          "output_type": "stream",
          "text": [
            "Index(['TamanhoMedioParagrafos', 'FrequenciaDeParagrafos',\n",
            "       'FreqPalavrasDeConteudo', 'MedidaK', 'Virgulas', 'GuiraudR', 'HerdanV',\n",
            "       'FreqTermosNaoTageados', 'Ponto', 'FreqPronomes', 'Exclamacoes',\n",
            "       'StdevTamParagrafos', 'FreqPalavrasErradas', 'PronomesPorPreposicao',\n",
            "       'FrequenciaStopWords', 'TamanhoMedioDasPalavras', 'StdevSentencas',\n",
            "       'FreqSubs', 'FreqVerbosPtcp', 'FreqAdv', 'DugastU', 'FreqPrep',\n",
            "       'TamanhoMedioSentencas'],\n",
            "      dtype='object')\n",
            "Index(['FrequenciaDeParagrafos', 'StdevSentencas', 'MedidaK', 'FreqPronomes',\n",
            "       'TamanhoMedioSentencas', 'FreqPalavrasComunsTam2', 'DiversidadeLexica',\n",
            "       'FreqEAbstracao', 'MaasA', 'DugastU', 'Virgulas', 'FreqVerbosPtcp',\n",
            "       'FreqSubs', 'FreqTotalEntidadesNomeadas', 'FreqEPessoa', 'HerdanV',\n",
            "       'FrequenciaStopWords', 'FrequenciaDeHapaxLegomenaLocal', 'GuiraudR',\n",
            "       'TamanhoMedioDasPalavras', 'FrequenciaPalavrasDuplicadas',\n",
            "       'TamanhoMedioParagrafos', 'Ponto', 'FreqPalavrasErradas', 'HerdanC',\n",
            "       'FreqPalavrasComunsTam4'],\n",
            "      dtype='object')\n"
          ],
          "name": "stdout"
        }
      ]
    },
    {
      "cell_type": "code",
      "metadata": {
        "id": "1C2UZePwRo72",
        "colab_type": "code",
        "outputId": "c01936d4-edff-4d1e-eeb8-201ab7a827b5",
        "colab": {
          "base_uri": "https://localhost:8080/",
          "height": 68
        }
      },
      "source": [
        "# TODO: Finish the pipeline with feature selection + normalization + classification + metrics report\n",
        "X, X_test, Y, y_test = train_test_split(df_news.values, encoded_y_news, random_state=7, test_size=0.3)\n",
        "\n",
        "treeclf = ExtraTreesClassifier(n_estimators=400, random_state=11)\n",
        "\n",
        "clf = Pipeline([\n",
        "  ('feature_selection', RFECV(estimator=treeclf, step=1, cv=5, scoring='accuracy')),\n",
        "  ('classification', ExtraTreesClassifier(random_state=11))\n",
        "])\n",
        "clf.fit(X, Y)\n",
        "\n",
        "y_pred = clf.predict(X_test)\n",
        "\n",
        "score = accuracy_score(y_test, y_pred)\n",
        "print(\"Test score: %.2f%%\" % (score * 100))"
      ],
      "execution_count": 22,
      "outputs": [
        {
          "output_type": "stream",
          "text": [
            "/usr/local/lib/python3.6/dist-packages/sklearn/model_selection/_split.py:667: UserWarning: The least populated class in y has only 4 members, which is less than n_splits=5.\n",
            "  % (min_groups, self.n_splits)), UserWarning)\n"
          ],
          "name": "stderr"
        },
        {
          "output_type": "stream",
          "text": [
            "Test score: 66.67%\n"
          ],
          "name": "stdout"
        }
      ]
    },
    {
      "cell_type": "code",
      "metadata": {
        "colab_type": "code",
        "outputId": "2ba94bfe-670b-498f-e613-1617a76c2103",
        "id": "kRBMmNAOdNl_",
        "colab": {
          "base_uri": "https://localhost:8080/",
          "height": 51
        }
      },
      "source": [
        "X, X_test, Y, y_test = train_test_split(df_news, encoded_y_news, random_state=7, test_size=0.3)\n",
        "#X, X_test, Y, y_test = train_test_split(df.values, encoded_Y, random_state=7, test_size=0.3)\n",
        "X_test, X_val, y_test, y_val = train_test_split(X_test, y_test, random_state=7, test_size=0.5)\n",
        "\n",
        "test_scores = []\n",
        "val_scores = []\n",
        "for i in range(0,10):\n",
        "\n",
        "  model = ExtraTreesClassifier(n_estimators=400, random_state=11)\n",
        "  model.fit(X, Y)\n",
        "\n",
        "  y_pred = model.predict(X_test)\n",
        "\n",
        "  score = accuracy_score(y_test, y_pred)\n",
        "  #print(\"Test score: %.2f%%\" % (score * 100))\n",
        "  test_scores.append(score * 100)\n",
        "\n",
        "  y_pred = model.predict(X_val)\n",
        "  score = accuracy_score(y_val, y_pred)\n",
        "  #print(\"Validation score: %.2f%%\" % (score * 100))\n",
        "  val_scores.append(score * 100)\n",
        "\n",
        "\n",
        "print(\"Test score: %.2f%%\" % (np.mean(test_scores)))\n",
        "print(\"Validation score: %.2f%%\" % (np.mean(val_scores)))\n"
      ],
      "execution_count": 23,
      "outputs": [
        {
          "output_type": "stream",
          "text": [
            "Test score: 73.33%\n",
            "Validation score: 66.67%\n"
          ],
          "name": "stdout"
        }
      ]
    },
    {
      "cell_type": "code",
      "metadata": {
        "id": "78rziGfir8oe",
        "colab_type": "code",
        "colab": {}
      },
      "source": [
        "# Let's manually imballance the dataset to make it look more like students dataset\n",
        "from random import randrange\n",
        "\n",
        "df_test = pd.read_csv(news_filename)\n",
        "\n",
        "safe_ids = [i for i in set([randrange(5) * i for i in range(1,40)]) if i < 100]\n",
        "df_test = df_test.drop(safe_ids)\n",
        "df_test.shape\n",
        "\n",
        "# Let's remove more samples for the first 3 classes\n",
        "def remove_by_author(author, df):\n",
        "  for idx in df.loc[df['Author'] == author].index:\n",
        "    #lets give 0.5 chance to drop each feature\n",
        "    chance = randrange(2)\n",
        "    if chance == 1:\n",
        "      df = df.drop(idx)\n",
        "  return df\n",
        "\n",
        "# Lets also give a random chance of removing these authors texts\n",
        "df_test = remove_by_author(\"'SP'\", df_test)\n",
        "df_test = remove_by_author(\"'VSAL'\", df_test)\n",
        "df_test = remove_by_author(\"'MC'\", df_test)\n",
        "df_test = remove_by_author(\"'KM'\", df_test)"
      ],
      "execution_count": 0,
      "outputs": []
    },
    {
      "cell_type": "code",
      "metadata": {
        "id": "SmKw5AODwaJP",
        "colab_type": "code",
        "outputId": "19d810a0-0b9c-4d8b-b1ea-7e2b1e88f7ab",
        "colab": {
          "base_uri": "https://localhost:8080/",
          "height": 281
        }
      },
      "source": [
        "authors = {}\n",
        "for author in set(df_test['Author']):\n",
        "  authors[author] = len(df_test.loc[df_test['Author'] == author])\n",
        "\n",
        "height = authors.values()\n",
        "bars = authors.keys()\n",
        "y_pos = np.arange(len(bars))\n",
        " \n",
        "plt.bar(y_pos, height)\n",
        "plt.xticks(y_pos, bars)\n",
        " \n",
        "plt.title('Imbalanced news dataset')\n",
        "plt.ylabel('Number of samples')\n",
        "plt.show()"
      ],
      "execution_count": 25,
      "outputs": [
        {
          "output_type": "display_data",
          "data": {
            "image/png": "[encoded data removed]",
            "text/plain": [
              "<Figure size 432x288 with 1 Axes>"
            ]
          },
          "metadata": {
            "tags": [],
            "needs_background": "light"
          }
        }
      ]
    },
    {
      "cell_type": "code",
      "metadata": {
        "id": "LuVq48xq4RTK",
        "colab_type": "code",
        "colab": {}
      },
      "source": [
        "#Separate data from labels\n",
        "y_news_imbalanced = df_test.pop('Author')\n",
        "\n",
        "le = LabelEncoder()\n",
        "le.fit(y_news_imbalanced)\n",
        "encoded_Y_news_imbalanced = le.transform(y_news_imbalanced)"
      ],
      "execution_count": 0,
      "outputs": []
    },
    {
      "cell_type": "code",
      "metadata": {
        "id": "RnYp8ZrY4Snu",
        "colab_type": "code",
        "outputId": "3f22e5cc-4306-4633-a9e5-be9bd1cd2203",
        "colab": {
          "base_uri": "https://localhost:8080/",
          "height": 272
        }
      },
      "source": [
        "# Now let's use our best classifier from balanced dataset do see accuracy after imbalance\n",
        "\n",
        "X, X_test, Y, y_test = train_test_split(df_test.values, encoded_Y_news_imbalanced, random_state=7, test_size=0.3)\n",
        "X_test, X_val, y_test, y_val = train_test_split(X_test, y_test, random_state=7, test_size=0.5)\n",
        "\n",
        "# Hyper-tuning our classifier\n",
        "n_estimators = [int(x) for x in np.linspace(start = 150, stop = 1500, num = 50)]\n",
        "max_features = ['auto', 'sqrt']\n",
        "max_depth = [int(x) for x in np.linspace(10, 110, num = 11)]\n",
        "max_depth.append(None)\n",
        "min_samples_split = [2, 5, 10]\n",
        "min_samples_leaf = [1, 2, 4]\n",
        "bootstrap = [True, False]\n",
        "\n",
        "random_grid = {'n_estimators': n_estimators,\n",
        "               'max_features': max_features,\n",
        "               'max_depth': max_depth,\n",
        "               'min_samples_split': min_samples_split,\n",
        "               'min_samples_leaf': min_samples_leaf,\n",
        "               'bootstrap': bootstrap}\n",
        "                \n",
        "\n",
        "rf_random_imbalanced = RandomizedSearchCV(estimator = ExtraTreesClassifier(random_state=11), \n",
        "                                          param_distributions = random_grid, n_iter = 100, cv = 5, verbose=2, random_state=42, n_jobs = -1)\n",
        "\n",
        "rf_random_imbalanced.fit(X, Y)\n",
        "\n",
        "pprint(rf_random_imbalanced.best_params_)\n",
        "\n",
        "best_imbl_model = rf_random_imbalanced.best_estimator_\n",
        "imbl_predictions = best_imbl_model.predict(X_test)\n",
        "best_score = accuracy_score(imbl_predictions, y_test)\n",
        "print(best_score)"
      ],
      "execution_count": 27,
      "outputs": [
        {
          "output_type": "stream",
          "text": [
            "Fitting 5 folds for each of 100 candidates, totalling 500 fits\n"
          ],
          "name": "stdout"
        },
        {
          "output_type": "stream",
          "text": [
            "/usr/local/lib/python3.6/dist-packages/sklearn/model_selection/_split.py:667: UserWarning: The least populated class in y has only 1 members, which is less than n_splits=5.\n",
            "  % (min_groups, self.n_splits)), UserWarning)\n",
            "[Parallel(n_jobs=-1)]: Using backend LokyBackend with 2 concurrent workers.\n",
            "[Parallel(n_jobs=-1)]: Done  37 tasks      | elapsed:   28.9s\n",
            "[Parallel(n_jobs=-1)]: Done 158 tasks      | elapsed:  2.2min\n",
            "[Parallel(n_jobs=-1)]: Done 361 tasks      | elapsed:  4.9min\n",
            "[Parallel(n_jobs=-1)]: Done 500 out of 500 | elapsed:  7.0min finished\n"
          ],
          "name": "stderr"
        },
        {
          "output_type": "stream",
          "text": [
            "{'bootstrap': False,\n",
            " 'max_depth': 60,\n",
            " 'max_features': 'sqrt',\n",
            " 'min_samples_leaf': 1,\n",
            " 'min_samples_split': 2,\n",
            " 'n_estimators': 1389}\n",
            "0.875\n"
          ],
          "name": "stdout"
        }
      ]
    },
    {
      "cell_type": "code",
      "metadata": {
        "id": "WWex1pbUqdR2",
        "colab_type": "code",
        "outputId": "58d6e9cc-bd8b-40e5-956c-23afc5285fdf",
        "colab": {
          "base_uri": "https://localhost:8080/",
          "height": 34
        }
      },
      "source": [
        "# Let's now check the accuracy of our new imbalanced model\n",
        "new_X = np.concatenate((X, X_test))\n",
        "new_Y = np.concatenate((Y, y_test))\n",
        "\n",
        "best_imbl_model.fit(new_X, new_Y)\n",
        "imbl_predictions = best_imbl_model.predict(X_val)\n",
        "best_score = accuracy_score(imbl_predictions, y_val)\n",
        "\n",
        "# It looks like class imbalance was not a problem after all\n",
        "print(best_score)"
      ],
      "execution_count": 28,
      "outputs": [
        {
          "output_type": "stream",
          "text": [
            "0.7777777777777778\n"
          ],
          "name": "stdout"
        }
      ]
    },
    {
      "cell_type": "code",
      "metadata": {
        "id": "5_GMuIacdOUA",
        "colab_type": "code",
        "colab": {}
      },
      "source": [
        "# Checking the results of a simple neural network..\n",
        "# Looks like TensorFlow 2.x is causing neural networks not to work correctly - In my machine it works :p\n",
        "X, X_test, Y, y_test = train_test_split(df_news, encoded_y_news, random_state=11, test_size=0.3)\n",
        "model = Sequential()\n",
        "model.add(Dense(12, input_shape=[54], activation='relu'))\n",
        "model.add(Dropout(0.3))\n",
        "model.add(Dense(10, activation='softmax'))\n",
        "model.compile(loss='categorical_crossentropy', optimizer='adam', metrics=['accuracy'])\n",
        "\n",
        "model.fit(X, Y, epochs=250, verbose=1)\n",
        "\n",
        "scores = model.evaluate(X_test, y_test, verbose=1)\n",
        "print(\"%s: %.2f%%\" % (model.metrics_names[1], scores[1] * 100))"
      ],
      "execution_count": 0,
      "outputs": []
    }
  ]
}