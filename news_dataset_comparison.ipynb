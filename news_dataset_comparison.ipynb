{
  "nbformat": 4,
  "nbformat_minor": 0,
  "metadata": {
    "colab": {
      "name": "news dataset comparison.ipynb",
      "provenance": [],
      "collapsed_sections": [],
      "machine_shape": "hm"
    },
    "kernelspec": {
      "name": "python3",
      "display_name": "Python 3"
    }
  },
  "cells": [
    {
      "cell_type": "code",
      "metadata": {
        "id": "Xddwaic6Uf00",
        "colab_type": "code",
        "outputId": "7df7ead4-f3f1-4dc7-d6db-0b577bf02c46",
        "colab": {
          "base_uri": "https://localhost:8080/",
          "height": 68
        }
      },
      "source": [
        "!pip install -U -q PyDrive\n",
        "from pydrive.auth import GoogleAuth\n",
        "from pydrive.drive import GoogleDrive\n",
        "from google.colab import auth\n",
        "from oauth2client.client import GoogleCredentials\n",
        "import warnings\n",
        "\n",
        "# Authenticate and create the PyDrive client.\n",
        "auth.authenticate_user()\n",
        "gauth = GoogleAuth()\n",
        "gauth.credentials = GoogleCredentials.get_application_default()\n",
        "drive = GoogleDrive(gauth)\n",
        "\n",
        "# The dataset shareable link\n",
        "\n",
        "#new stylo data\n",
        "#link = 'https://drive.google.com/open?id=1qg3fx5JyibrfBBycl3y8hCQJWBiXkP2N'\n",
        "link = 'https://drive.google.com/open?id=15e0XWZR1CYx0nyBOLasWJuwMyFgF-U5l'\n",
        "\n",
        "fluff, id = link.split('=')\n",
        "print(id)\n",
        "filename = 'stylo-data.csv'\n",
        "downloaded = drive.CreateFile({'id':id})\n",
        "downloaded.GetContentFile(filename)\n",
        "\n",
        "#news stylo dataset\n",
        "news_link = 'https://drive.google.com/open?id=1C5MS8fWH2yS5GKS_TVddhuXPgR63JC-c'\n",
        "fluff, id = news_link.split('=')\n",
        "print(id)\n",
        "news_filename = 'news-data.csv'\n",
        "downloaded = drive.CreateFile({'id':id})\n",
        "downloaded.GetContentFile(news_filename)\n",
        "\n",
        "# varela stylo dataset\n",
        "varela_link = 'https://drive.google.com/open?id=1_RZDCOie5xAD2IMcrLFFMNZjkzHtZQEl'\n",
        "fluff, id = varela_link.split('=')\n",
        "print(id)\n",
        "varela_filename = 'varela-data.csv'\n",
        "downloaded = drive.CreateFile({'id':id})\n",
        "downloaded.GetContentFile(varela_filename)"
      ],
      "execution_count": 2,
      "outputs": [
        {
          "output_type": "stream",
          "text": [
            "15e0XWZR1CYx0nyBOLasWJuwMyFgF-U5l\n",
            "1C5MS8fWH2yS5GKS_TVddhuXPgR63JC-c\n",
            "1_RZDCOie5xAD2IMcrLFFMNZjkzHtZQEl\n"
          ],
          "name": "stdout"
        }
      ]
    },
    {
      "cell_type": "code",
      "metadata": {
        "id": "1zGcn_MPPWv-",
        "colab_type": "code",
        "outputId": "84ed7519-cae7-4008-d065-b8fa0623505f",
        "colab": {
          "base_uri": "https://localhost:8080/",
          "height": 258
        }
      },
      "source": [
        "import pandas as pd\n",
        "\n",
        "import numpy as np\n",
        "from matplotlib import pyplot as plt\n",
        "\n",
        "from sklearn.model_selection import train_test_split, cross_validate, StratifiedKFold, RandomizedSearchCV\n",
        "from sklearn.metrics import classification_report, confusion_matrix, accuracy_score, roc_auc_score\n",
        "from sklearn.preprocessing import LabelEncoder, StandardScaler\n",
        "from sklearn.mixture import GaussianMixture, BayesianGaussianMixture\n",
        "from sklearn.cluster import KMeans\n",
        "from sklearn.decomposition import PCA\n",
        "from sklearn.pipeline import Pipeline, make_pipeline\n",
        "from sklearn.linear_model import SGDClassifier, LogisticRegression\n",
        "from sklearn.ensemble import AdaBoostClassifier, BaggingClassifier, ExtraTreesClassifier, GradientBoostingClassifier, RandomForestClassifier\n",
        "from sklearn.svm import SVC, SVR, LinearSVC\n",
        "from sklearn.feature_extraction.text import TfidfTransformer,TfidfVectorizer\n",
        "from sklearn.naive_bayes import GaussianNB, BernoulliNB, MultinomialNB\n",
        "from sklearn.neural_network import MLPClassifier\n",
        "from sklearn.neighbors import KNeighborsClassifier\n",
        "from sklearn.feature_selection import SelectKBest, SelectFromModel, VarianceThreshold, SelectPercentile, SelectFwe, RFECV,  chi2, f_classif, mutual_info_classif\n",
        "from sklearn.preprocessing import StandardScaler, MinMaxScaler, PowerTransformer, QuantileTransformer, Normalizer\n",
        "\n",
        "!pip install -U keras\n",
        "from keras.utils import np_utils\n",
        "from keras.preprocessing.text import Tokenizer\n",
        "from keras.preprocessing.sequence import pad_sequences\n",
        "from tensorflow.python.keras.layers import InputLayer, Embedding, Conv1D, MaxPool1D, Dense, Flatten, Dropout, GRU, LSTM, Input\n",
        "from tensorflow.python.keras import Sequential, Model\n",
        "from keras.initializers import Constant\n",
        "\n",
        "from pprint import pprint\n",
        "\n",
        "from imblearn.over_sampling import SMOTE"
      ],
      "execution_count": 3,
      "outputs": [
        {
          "output_type": "stream",
          "text": [
            "Requirement already up-to-date: keras in /usr/local/lib/python3.6/dist-packages (2.3.1)\n",
            "Requirement already satisfied, skipping upgrade: pyyaml in /usr/local/lib/python3.6/dist-packages (from keras) (3.13)\n",
            "Requirement already satisfied, skipping upgrade: six>=1.9.0 in /usr/local/lib/python3.6/dist-packages (from keras) (1.12.0)\n",
            "Requirement already satisfied, skipping upgrade: keras-applications>=1.0.6 in /usr/local/lib/python3.6/dist-packages (from keras) (1.0.8)\n",
            "Requirement already satisfied, skipping upgrade: numpy>=1.9.1 in /usr/local/lib/python3.6/dist-packages (from keras) (1.18.3)\n",
            "Requirement already satisfied, skipping upgrade: h5py in /usr/local/lib/python3.6/dist-packages (from keras) (2.10.0)\n",
            "Requirement already satisfied, skipping upgrade: keras-preprocessing>=1.0.5 in /usr/local/lib/python3.6/dist-packages (from keras) (1.1.0)\n",
            "Requirement already satisfied, skipping upgrade: scipy>=0.14 in /usr/local/lib/python3.6/dist-packages (from keras) (1.4.1)\n"
          ],
          "name": "stdout"
        },
        {
          "output_type": "stream",
          "text": [
            "Using TensorFlow backend.\n",
            "/usr/local/lib/python3.6/dist-packages/sklearn/externals/six.py:31: FutureWarning: The module is deprecated in version 0.21 and will be removed in version 0.23 since we've dropped support for Python 2.7. Please rely on the official version of six (https://pypi.org/project/six/).\n",
            "  \"(https://pypi.org/project/six/).\", FutureWarning)\n",
            "/usr/local/lib/python3.6/dist-packages/sklearn/utils/deprecation.py:144: FutureWarning: The sklearn.neighbors.base module is  deprecated in version 0.22 and will be removed in version 0.24. The corresponding classes / functions should instead be imported from sklearn.neighbors. Anything that cannot be imported from sklearn.neighbors is now part of the private API.\n",
            "  warnings.warn(message, FutureWarning)\n"
          ],
          "name": "stderr"
        }
      ]
    },
    {
      "cell_type": "code",
      "metadata": {
        "colab_type": "code",
        "id": "vCg33ap_U4ei",
        "colab": {}
      },
      "source": [
        "# read dataset\n",
        "df = pd.read_csv(filename)\n",
        "df_news = pd.read_csv(news_filename)\n",
        "df_varela = pd.read_csv(varela_filename)\n",
        "\n",
        "# Remove subject column\n",
        "df_varela.pop('Subject')\n",
        "\n",
        "# Remove single class entries (We need at least 3 samples of an author)#\n",
        "df = df.groupby('Author').filter(lambda x: len(x) > 3)\n"
      ],
      "execution_count": 0,
      "outputs": []
    },
    {
      "cell_type": "code",
      "metadata": {
        "id": "HgSanrNolnvv",
        "colab_type": "code",
        "colab": {}
      },
      "source": [
        "#Let's drop all the features that are not in our 'best' list\n",
        "\n",
        "best_features = ['DiversidadeLexica', 'TamanhoMedioDasPalavras', 'TamanhoMedioSentencas', 'StdevSentencas', 'TamanhoMedioParagrafos', 'StdevTamParagrafos', 'FrequenciaDeParagrafos',\n",
        "'FrequenciaDeHapaxLegomenaLocal', 'Ponto', 'Virgulas','Exclamacoes', 'DoisPontos', 'FreqCitacoes', 'FreqAdv', \n",
        "'FreqSubs','FreqPrep','FreqVerbosPtcp','FreqPronomes','PronomesPorPreposicao','FreqTermosNaoTageados','FreqPalavrasDeConteudo',\n",
        "'FreqECoisa','FreqEObra','FreqEOutro','FreqEPessoa','FreqETempo','GuiraudR','HerdanV','MedidaK','DugastU','FreqPalavrasComunsTam4',\n",
        "'FreqPalavrasErradas','FrequenciaStopWords','BRFleshIndex']\n",
        "\n",
        "df_news = df_news[best_features]"
      ],
      "execution_count": 0,
      "outputs": []
    },
    {
      "cell_type": "code",
      "metadata": {
        "id": "z0nBZUDPU5mN",
        "colab_type": "code",
        "colab": {}
      },
      "source": [
        "#Separate data from labels\n",
        "\n",
        "y = df.pop('Author')\n",
        "y_news = df_news.pop('Author')\n",
        "y_varela = df_varela.pop('Author')\n",
        "\n",
        "le = LabelEncoder()\n",
        "le.fit(y)\n",
        "encoded_Y = le.transform(y)\n",
        "\n",
        "le.fit(y_news)\n",
        "encoded_y_news = le.transform(y_news)\n",
        "\n",
        "le = LabelEncoder()\n",
        "le.fit(y_varela)\n",
        "encoded_Y_varela = le.transform(y_varela)"
      ],
      "execution_count": 0,
      "outputs": []
    },
    {
      "cell_type": "code",
      "metadata": {
        "id": "CLqTaPXgU80J",
        "colab_type": "code",
        "outputId": "1a73b290-ecb6-45d8-9096-77ec37d8b2af",
        "colab": {
          "base_uri": "https://localhost:8080/",
          "height": 119
        }
      },
      "source": [
        "# Feature selection\n",
        "\n",
        "# Baseline (Variance threshold):\n",
        "threshold=(.01)\n",
        "selector = VarianceThreshold(threshold)\n",
        "selector.fit(df)\n",
        "\n",
        "#df.columns[selector.get_support(indices=True)] # 20 features, data has very low variance (features are mostly very close)\n",
        "\n",
        "selector.fit(df_news)\n",
        "\n",
        "df_news.columns[selector.get_support(indices=True)]"
      ],
      "execution_count": 0,
      "outputs": [
        {
          "output_type": "execute_result",
          "data": {
            "text/plain": [
              "Index(['DiversidadeLexica', 'TamanhoMedioDasPalavras', 'TamanhoMedioSentencas',\n",
              "       'StdevSentencas', 'TamanhoMedioParagrafos', 'StdevTamParagrafos',\n",
              "       'MediaSilabasPorPalavra', 'Ponto', 'Virgulas', 'Exclamacoes',\n",
              "       'DoisPontos', 'PronomesPorPreposicao', 'GuiraudR', 'HerdanV', 'MedidaK',\n",
              "       'DugastU', 'BRFleshIndex'],\n",
              "      dtype='object')"
            ]
          },
          "metadata": {
            "tags": []
          },
          "execution_count": 17
        }
      ]
    },
    {
      "cell_type": "code",
      "metadata": {
        "id": "E1hUjRi3U_Si",
        "colab_type": "code",
        "outputId": "ebcfb4cd-2a2b-446d-93dd-6657c3515b17",
        "colab": {
          "base_uri": "https://localhost:8080/",
          "height": 153
        }
      },
      "source": [
        "# 50% better based on percentile using chi2\n",
        "selector = SelectPercentile(chi2, percentile=40)\n",
        "selector.fit(df, y)\n",
        "df.columns[selector.get_support(indices=True)]"
      ],
      "execution_count": 0,
      "outputs": [
        {
          "output_type": "execute_result",
          "data": {
            "text/plain": [
              "Index(['DiversidadeLexica', 'TamanhoMedioDasPalavras', 'TamanhoMedioSentencas',\n",
              "       'StdevSentencas', 'TamanhoMedioParagrafos', 'StdevTamParagrafos',\n",
              "       'Ponto', 'Virgulas', 'Exclamacoes', 'DoisPontos',\n",
              "       'PronomesPorPreposicao', 'FreqEAcontecimento', 'FreqEOrganizacao',\n",
              "       'FreqEObra', 'FreqEOutro', 'FreqETempo', 'GuiraudR', 'HerdanV',\n",
              "       'DugastU', 'HonoresH', 'FrequenciaDeHapaxLegomenaLocal',\n",
              "       'BRFleshIndex'],\n",
              "      dtype='object')"
            ]
          },
          "metadata": {
            "tags": []
          },
          "execution_count": 16
        }
      ]
    },
    {
      "cell_type": "code",
      "metadata": {
        "id": "F_v7US4sVB_J",
        "colab_type": "code",
        "outputId": "f6a20d3f-0c95-4e61-aad7-6e6d91c64f6c",
        "colab": {
          "base_uri": "https://localhost:8080/",
          "height": 170
        }
      },
      "source": [
        "selector = SelectPercentile(chi2, percentile=50)\n",
        "selector.fit(df_news, y_news)\n",
        "df.columns[selector.get_support(indices=True)]"
      ],
      "execution_count": 0,
      "outputs": [
        {
          "output_type": "execute_result",
          "data": {
            "text/plain": [
              "Index(['DiversidadeLexica', 'TamanhoMedioDasPalavras', 'TamanhoMedioSentencas',\n",
              "       'StdevSentencas', 'TamanhoMedioParagrafos', 'StdevTamParagrafos',\n",
              "       'Ponto', 'Virgulas', 'Exclamacoes', 'DoisPontos', 'FreqCitacoes',\n",
              "       'FreqAdv', 'FreqVerbosPtcp', 'FreqPronomes', 'PronomesPorPreposicao',\n",
              "       'FreqTermosNaoTageados', 'FreqECoisa', 'FreqEObra', 'FreqEOutro',\n",
              "       'FreqEPessoa', 'FreqETempo', 'GuiraudR', 'HerdanV', 'DugastU',\n",
              "       'FreqPalavrasErradas', 'FrequenciaDeHapaxLegomenaLocal',\n",
              "       'BRFleshIndex'],\n",
              "      dtype='object')"
            ]
          },
          "metadata": {
            "tags": []
          },
          "execution_count": 18
        }
      ]
    },
    {
      "cell_type": "code",
      "metadata": {
        "id": "4YT-nBFoOCJ7",
        "colab_type": "code",
        "outputId": "20119f2b-47d4-4ef7-9f83-9588516cec56",
        "colab": {
          "base_uri": "https://localhost:8080/",
          "height": 51
        }
      },
      "source": [
        "selector.get_support(indices=True)"
      ],
      "execution_count": 0,
      "outputs": [
        {
          "output_type": "execute_result",
          "data": {
            "text/plain": [
              "array([ 0,  1,  2,  3,  4,  5,  9, 10, 11, 12, 13, 15, 20, 22, 23, 24, 31,\n",
              "       34, 35, 36, 37, 39, 41, 43, 46, 47, 52])"
            ]
          },
          "metadata": {
            "tags": []
          },
          "execution_count": 21
        }
      ]
    },
    {
      "cell_type": "code",
      "metadata": {
        "id": "cwHSf7U5VEWl",
        "colab_type": "code",
        "outputId": "663e06e2-55ed-41a3-fc64-b09bceea27b6",
        "colab": {
          "base_uri": "https://localhost:8080/",
          "height": 952
        }
      },
      "source": [
        "# K-Best (chi2)\n",
        "best_k_features = SelectKBest(chi2, k=54).fit(df, y)\n",
        "dfscores = pd.DataFrame(best_k_features.scores_)\n",
        "dfcolumns = pd.DataFrame(df.columns)\n",
        "featureScores = pd.concat([dfcolumns,dfscores],axis=1)\n",
        "featureScores.columns = ['Feature','Score'] \n",
        "print(featureScores.nlargest(54,'Score'))"
      ],
      "execution_count": 0,
      "outputs": [
        {
          "output_type": "stream",
          "text": [
            "                           Feature        Score\n",
            "41                         HerdanV  1640.030726\n",
            "5               StdevTamParagrafos  1190.145679\n",
            "4           TamanhoMedioParagrafos  1083.505879\n",
            "3                   StdevSentencas    83.212074\n",
            "0                DiversidadeLexica    68.963605\n",
            "2            TamanhoMedioSentencas    42.317390\n",
            "43                         DugastU    40.001632\n",
            "10                        Virgulas    12.506046\n",
            "9                            Ponto     8.796392\n",
            "12                      DoisPontos     8.654201\n",
            "39                        GuiraudR     7.570860\n",
            "11                     Exclamacoes     5.398750\n",
            "52                    BRFleshIndex     2.558055\n",
            "23           PronomesPorPreposicao     2.380678\n",
            "47  FrequenciaDeHapaxLegomenaLocal     1.056917\n",
            "1          TamanhoMedioDasPalavras     1.034314\n",
            "45                        HonoresH     0.898729\n",
            "30              FreqEAcontecimento     0.542428\n",
            "37                      FreqETempo     0.538987\n",
            "35                      FreqEOutro     0.433414\n",
            "33                FreqEOrganizacao     0.386386\n",
            "34                       FreqEObra     0.323971\n",
            "6           FrequenciaDeParagrafos     0.316969\n",
            "29                  FreqEAbstracao     0.289026\n",
            "36                     FreqEPessoa     0.276762\n",
            "38                      FreqEValor     0.222563\n",
            "31                      FreqECoisa     0.208482\n",
            "50          FreqPalavrasComunsTam4     0.172185\n",
            "32                      FreqELocal     0.163691\n",
            "7     FrequenciaPalavrasDuplicadas     0.154284\n",
            "42                         MedidaK     0.124415\n",
            "24           FreqTermosNaoTageados     0.119277\n",
            "22                    FreqPronomes     0.105890\n",
            "15                         FreqAdv     0.100361\n",
            "46             FreqPalavrasErradas     0.084512\n",
            "14                   FreqAdjetivos     0.083546\n",
            "13                    FreqCitacoes     0.079495\n",
            "49          FreqPalavrasComunsTam3     0.076480\n",
            "20                  FreqVerbosPtcp     0.074478\n",
            "28      FreqTotalEntidadesNomeadas     0.069403\n",
            "8           MediaSilabasPorPalavra     0.069180\n",
            "21                        FreqConj     0.062580\n",
            "26          FreqPalavrasFuncionais     0.056714\n",
            "48          FreqPalavrasComunsTam2     0.054638\n",
            "16                         FreqArt     0.048959\n",
            "18                        FreqPrep     0.048056\n",
            "53           FreqOperadoresLogicos     0.042504\n",
            "19                        FreqVerb     0.035827\n",
            "51             FrequenciaStopWords     0.034237\n",
            "40                         HerdanC     0.028714\n",
            "27        FrequenciaFrasesNominais     0.025541\n",
            "17                        FreqSubs     0.024090\n",
            "25          FreqPalavrasDeConteudo     0.019389\n",
            "44                           MaasA     0.018078\n"
          ],
          "name": "stdout"
        }
      ]
    },
    {
      "cell_type": "code",
      "metadata": {
        "id": "nMRUzFOTVJ23",
        "colab_type": "code",
        "outputId": "cde10eba-d74d-4d06-8053-ee05dcc465c3",
        "colab": {
          "base_uri": "https://localhost:8080/",
          "height": 952
        }
      },
      "source": [
        "# K-Best (chi2)\n",
        "best_k_features = SelectKBest(chi2, k=54).fit(df_news, y_news)\n",
        "dfscores = pd.DataFrame(best_k_features.scores_)\n",
        "dfcolumns = pd.DataFrame(df.columns)\n",
        "featureScores = pd.concat([dfcolumns,dfscores],axis=1)\n",
        "featureScores.columns = ['Feature','Score'] \n",
        "print(featureScores.nlargest(54,'Score'))"
      ],
      "execution_count": 0,
      "outputs": [
        {
          "output_type": "stream",
          "text": [
            "                           Feature        Score\n",
            "41                         HerdanV  2688.503948\n",
            "5               StdevTamParagrafos  1707.831428\n",
            "4           TamanhoMedioParagrafos  1103.327501\n",
            "2            TamanhoMedioSentencas   862.748654\n",
            "11                     Exclamacoes    59.697231\n",
            "3                   StdevSentencas    59.007145\n",
            "0                DiversidadeLexica    37.698913\n",
            "43                         DugastU    33.392413\n",
            "39                        GuiraudR    22.573796\n",
            "10                        Virgulas    21.582665\n",
            "9                            Ponto    16.308883\n",
            "12                      DoisPontos    12.164414\n",
            "23           PronomesPorPreposicao     6.568906\n",
            "52                    BRFleshIndex     4.978543\n",
            "1          TamanhoMedioDasPalavras     1.791226\n",
            "24           FreqTermosNaoTageados     0.810441\n",
            "35                      FreqEOutro     0.551372\n",
            "34                       FreqEObra     0.526174\n",
            "22                    FreqPronomes     0.487441\n",
            "47  FrequenciaDeHapaxLegomenaLocal     0.448172\n",
            "46             FreqPalavrasErradas     0.419544\n",
            "13                    FreqCitacoes     0.399479\n",
            "31                      FreqECoisa     0.389917\n",
            "36                     FreqEPessoa     0.377552\n",
            "37                      FreqETempo     0.349568\n",
            "15                         FreqAdv     0.333384\n",
            "20                  FreqVerbosPtcp     0.316366\n",
            "38                      FreqEValor     0.279046\n",
            "42                         MedidaK     0.263620\n",
            "50          FreqPalavrasComunsTam4     0.252240\n",
            "29                  FreqEAbstracao     0.252198\n",
            "32                      FreqELocal     0.227958\n",
            "17                        FreqSubs     0.222467\n",
            "49          FreqPalavrasComunsTam3     0.205825\n",
            "30              FreqEAcontecimento     0.198315\n",
            "25          FreqPalavrasDeConteudo     0.169387\n",
            "18                        FreqPrep     0.164189\n",
            "6           FrequenciaDeParagrafos     0.163249\n",
            "51             FrequenciaStopWords     0.147728\n",
            "33                FreqEOrganizacao     0.141496\n",
            "8           MediaSilabasPorPalavra     0.141112\n",
            "21                        FreqConj     0.116501\n",
            "53           FreqOperadoresLogicos     0.110885\n",
            "48          FreqPalavrasComunsTam2     0.100544\n",
            "45                        HonoresH     0.099920\n",
            "26          FreqPalavrasFuncionais     0.092239\n",
            "7     FrequenciaPalavrasDuplicadas     0.077802\n",
            "28      FreqTotalEntidadesNomeadas     0.076904\n",
            "16                         FreqArt     0.076476\n",
            "19                        FreqVerb     0.065210\n",
            "27        FrequenciaFrasesNominais     0.060383\n",
            "14                   FreqAdjetivos     0.051196\n",
            "44                           MaasA     0.009959\n",
            "40                         HerdanC     0.006941\n"
          ],
          "name": "stdout"
        }
      ]
    },
    {
      "cell_type": "code",
      "metadata": {
        "id": "Z1JHmkocVEhl",
        "colab_type": "code",
        "outputId": "ecf16734-f5ff-40ce-8b7e-fcc132a5a78b",
        "colab": {
          "base_uri": "https://localhost:8080/",
          "height": 544
        }
      },
      "source": [
        "# K-Best (f_classif)\n",
        "best_k_features = SelectKBest(f_classif, k=30).fit(df_news, y_news)\n",
        "dfscores = pd.DataFrame(best_k_features.scores_)\n",
        "dfcolumns = pd.DataFrame(df_news.columns)\n",
        "featureScores = pd.concat([dfcolumns,dfscores],axis=1)\n",
        "featureScores.columns = ['Feature','Score'] \n",
        "print(featureScores.nlargest(30,'Score'))"
      ],
      "execution_count": 0,
      "outputs": [
        {
          "output_type": "stream",
          "text": [
            "                           Feature      Score\n",
            "11                     Exclamacoes  19.089614\n",
            "39                        GuiraudR  13.163038\n",
            "22                    FreqPronomes  12.735249\n",
            "25          FreqPalavrasDeConteudo  12.442170\n",
            "24           FreqTermosNaoTageados  12.376033\n",
            "42                         MedidaK  12.154679\n",
            "23           PronomesPorPreposicao  10.844617\n",
            "1          TamanhoMedioDasPalavras  10.182572\n",
            "15                         FreqAdv   9.488145\n",
            "51             FrequenciaStopWords   9.291832\n",
            "41                         HerdanV   9.033462\n",
            "18                        FreqPrep   8.457826\n",
            "17                        FreqSubs   8.408751\n",
            "6           FrequenciaDeParagrafos   8.297498\n",
            "20                  FreqVerbosPtcp   6.958381\n",
            "4           TamanhoMedioParagrafos   6.232975\n",
            "43                         DugastU   6.214138\n",
            "46             FreqPalavrasErradas   6.084080\n",
            "0                DiversidadeLexica   5.951392\n",
            "44                           MaasA   5.548263\n",
            "5               StdevTamParagrafos   5.414068\n",
            "13                    FreqCitacoes   5.060375\n",
            "50          FreqPalavrasComunsTam4   4.877481\n",
            "3                   StdevSentencas   4.812311\n",
            "47  FrequenciaDeHapaxLegomenaLocal   4.667679\n",
            "26          FreqPalavrasFuncionais   4.503462\n",
            "49          FreqPalavrasComunsTam3   4.445219\n",
            "21                        FreqConj   4.396515\n",
            "40                         HerdanC   4.370510\n",
            "10                        Virgulas   4.346741\n"
          ],
          "name": "stdout"
        }
      ]
    },
    {
      "cell_type": "code",
      "metadata": {
        "id": "I8iXtTWbVVBi",
        "colab_type": "code",
        "outputId": "cec3ffea-338c-41fb-c6cb-6917ed6654dd",
        "colab": {
          "base_uri": "https://localhost:8080/",
          "height": 581
        }
      },
      "source": [
        "# Create the RFE object and compute a cross-validated score.\n",
        "rfc = RandomForestClassifier(n_estimators=200)\n",
        "# The \"accuracy\" scoring is proportional to the number of correct classifications\n",
        "\n",
        "rfecv = RFECV(estimator=rfc, step=1, cv=5,scoring='accuracy')\n",
        "rfecv.fit(df_news, y_news)\n",
        "\n",
        "print(\"Optimal number of features news-dataset: %d\" % rfecv.n_features_)\n",
        "\n",
        "rfecv2 = RFECV(estimator=rfc, step=1, cv=3,\n",
        "              scoring='accuracy')\n",
        "rfecv2.fit(df, y)\n",
        "\n",
        "print(\"Optimal number of features students-dataset: %d\" % rfecv2.n_features_)\n",
        "\n",
        "fig, (ax1, ax2) = plt.subplots(1, 2)\n",
        "fig.set_size_inches(12, 8)\n",
        "\n",
        "ax1.plot(range(1, len(rfecv.grid_scores_) + 1), rfecv.grid_scores_)\n",
        "ax1.set_xlabel(\"Number of features selected\")\n",
        "ax1.set_ylabel(\"Cross validation score (nb of correct classifications)\")\n",
        "ax1.set_title('Random Forest n=200 - News dataset')\n",
        "\n",
        "ax2.plot(range(1, len(rfecv2.grid_scores_) + 1), rfecv2.grid_scores_)\n",
        "ax2.set_xlabel(\"Number of features selected\")\n",
        "ax2.set_ylabel(\"Cross validation score (nb of correct classifications)\")\n",
        "ax2.set_title('Random Forest n=200 - Students dataset')\n",
        "\n",
        "plt.figure()"
      ],
      "execution_count": 0,
      "outputs": [
        {
          "output_type": "stream",
          "text": [
            "Optimal number of features news-dataset: 40\n",
            "Optimal number of features students-dataset: 49\n"
          ],
          "name": "stdout"
        },
        {
          "output_type": "execute_result",
          "data": {
            "text/plain": [
              "<Figure size 432x288 with 0 Axes>"
            ]
          },
          "metadata": {
            "tags": []
          },
          "execution_count": 11
        },
        {
          "output_type": "display_data",
          "data": {
            "image/png": "[encoded data removed]",
            "text/plain": [
              "<Figure size 864x576 with 2 Axes>"
            ]
          },
          "metadata": {
            "tags": [],
            "needs_background": "light"
          }
        },
        {
          "output_type": "display_data",
          "data": {
            "text/plain": [
              "<Figure size 432x288 with 0 Axes>"
            ]
          },
          "metadata": {
            "tags": []
          }
        }
      ]
    },
    {
      "cell_type": "code",
      "metadata": {
        "id": "4FXajxW9RXU0",
        "colab_type": "code",
        "colab": {}
      },
      "source": [
        "X, X_test, Y, y_test = train_test_split(df_news.values, encoded_y_news, random_state=7, test_size=0.3)\n",
        "X_test, X_val, y_test, y_val = train_test_split(X_test, y_test, random_state=7, test_size=0.5)\n",
        "\n",
        "X_student, X_student_test, Y_student, Y_student_test = train_test_split(df.values, encoded_Y, random_state=11, test_size=0.2)\n",
        "X_student_test, X_student_val, Y_student_test, y_student_val = train_test_split(X_student_test, Y_student_test, random_state=11, test_size=0.5)\n",
        "\n",
        "X_varela, X_varela_test, Y_varela, y_varela_test = train_test_split(df_varela, encoded_Y_varela, random_state=7, test_size=0.3)\n",
        "X_varela_test, X_varela_val, y_varela_test, y_varela_val = train_test_split(X_varela_test, y_varela_test, random_state=7, test_size=0.5)"
      ],
      "execution_count": 0,
      "outputs": []
    },
    {
      "cell_type": "code",
      "metadata": {
        "id": "mcDwTcTarJRK",
        "colab_type": "code",
        "outputId": "16c39051-69fc-492a-be9c-b1958918b111",
        "colab": {
          "base_uri": "https://localhost:8080/",
          "height": 224
        }
      },
      "source": [
        "X_varela.head()"
      ],
      "execution_count": 21,
      "outputs": [
        {
          "output_type": "execute_result",
          "data": {
            "text/html": [
              "<div>\n",
              "<style scoped>\n",
              "    .dataframe tbody tr th:only-of-type {\n",
              "        vertical-align: middle;\n",
              "    }\n",
              "\n",
              "    .dataframe tbody tr th {\n",
              "        vertical-align: top;\n",
              "    }\n",
              "\n",
              "    .dataframe thead th {\n",
              "        text-align: right;\n",
              "    }\n",
              "</style>\n",
              "<table border=\"1\" class=\"dataframe\">\n",
              "  <thead>\n",
              "    <tr style=\"text-align: right;\">\n",
              "      <th></th>\n",
              "      <th>DiversidadeLexica</th>\n",
              "      <th>TamanhoMedioDasPalavras</th>\n",
              "      <th>TamanhoMedioSentencas</th>\n",
              "      <th>StdevSentencas</th>\n",
              "      <th>TamanhoMedioParagrafos</th>\n",
              "      <th>StdevTamParagrafos</th>\n",
              "      <th>FrequenciaDeParagrafos</th>\n",
              "      <th>FrequenciaPalavrasDuplicadas</th>\n",
              "      <th>MediaSilabasPorPalavra</th>\n",
              "      <th>Ponto</th>\n",
              "      <th>Virgulas</th>\n",
              "      <th>Exclamacoes</th>\n",
              "      <th>DoisPontos</th>\n",
              "      <th>FreqCitacoes</th>\n",
              "      <th>FreqAdjetivos</th>\n",
              "      <th>FreqAdv</th>\n",
              "      <th>FreqArt</th>\n",
              "      <th>FreqSubs</th>\n",
              "      <th>FreqPrep</th>\n",
              "      <th>FreqVerb</th>\n",
              "      <th>FreqVerbosPtcp</th>\n",
              "      <th>FreqConj</th>\n",
              "      <th>FreqPronomes</th>\n",
              "      <th>PronomesPorPreposicao</th>\n",
              "      <th>FreqTermosNaoTageados</th>\n",
              "      <th>FreqPalavrasDeConteudo</th>\n",
              "      <th>FreqPalavrasFuncionais</th>\n",
              "      <th>FrequenciaFrasesNominais</th>\n",
              "      <th>FreqTotalEntidadesNomeadas</th>\n",
              "      <th>FreqEAbstracao</th>\n",
              "      <th>FreqEAcontecimento</th>\n",
              "      <th>FreqECoisa</th>\n",
              "      <th>FreqELocal</th>\n",
              "      <th>FreqEOrganizacao</th>\n",
              "      <th>FreqEObra</th>\n",
              "      <th>FreqEOutro</th>\n",
              "      <th>FreqEPessoa</th>\n",
              "      <th>FreqETempo</th>\n",
              "      <th>FreqEValor</th>\n",
              "      <th>GuiraudR</th>\n",
              "      <th>HerdanC</th>\n",
              "      <th>HerdanV</th>\n",
              "      <th>MedidaK</th>\n",
              "      <th>DugastU</th>\n",
              "      <th>MaasA</th>\n",
              "      <th>HonoresH</th>\n",
              "      <th>FreqPalavrasErradas</th>\n",
              "      <th>FrequenciaDeHapaxLegomenaLocal</th>\n",
              "      <th>FreqPalavrasComunsTam2</th>\n",
              "      <th>FreqPalavrasComunsTam3</th>\n",
              "      <th>FreqPalavrasComunsTam4</th>\n",
              "      <th>FrequenciaStopWords</th>\n",
              "      <th>BRFleshIndex</th>\n",
              "      <th>FreqOperadoresLogicos</th>\n",
              "    </tr>\n",
              "  </thead>\n",
              "  <tbody>\n",
              "    <tr>\n",
              "      <th>1283</th>\n",
              "      <td>77.631579</td>\n",
              "      <td>5.389831</td>\n",
              "      <td>23.000000</td>\n",
              "      <td>7.071068</td>\n",
              "      <td>69.0</td>\n",
              "      <td>0.0</td>\n",
              "      <td>0.013158</td>\n",
              "      <td>0.026316</td>\n",
              "      <td>2.065789</td>\n",
              "      <td>3.947368</td>\n",
              "      <td>2.631579</td>\n",
              "      <td>0.000000</td>\n",
              "      <td>0.000000</td>\n",
              "      <td>0.026316</td>\n",
              "      <td>0.052632</td>\n",
              "      <td>0.039474</td>\n",
              "      <td>0.105263</td>\n",
              "      <td>0.171053</td>\n",
              "      <td>0.157895</td>\n",
              "      <td>0.013158</td>\n",
              "      <td>0.092105</td>\n",
              "      <td>0.039474</td>\n",
              "      <td>0.000000</td>\n",
              "      <td>0.000000</td>\n",
              "      <td>0.197368</td>\n",
              "      <td>0.394737</td>\n",
              "      <td>0.302632</td>\n",
              "      <td>0.000000</td>\n",
              "      <td>0.092105</td>\n",
              "      <td>0.000000</td>\n",
              "      <td>0.000000</td>\n",
              "      <td>0.000000</td>\n",
              "      <td>0.000000</td>\n",
              "      <td>0.000000</td>\n",
              "      <td>0.142857</td>\n",
              "      <td>0.285714</td>\n",
              "      <td>0.000000</td>\n",
              "      <td>0.285714</td>\n",
              "      <td>0.285714</td>\n",
              "      <td>6.767764</td>\n",
              "      <td>0.941535</td>\n",
              "      <td>59.0</td>\n",
              "      <td>2.225427</td>\n",
              "      <td>106.866298</td>\n",
              "      <td>0.096734</td>\n",
              "      <td>0.864407</td>\n",
              "      <td>0.105263</td>\n",
              "      <td>0.671053</td>\n",
              "      <td>0.000000</td>\n",
              "      <td>0.000000</td>\n",
              "      <td>0.000000</td>\n",
              "      <td>0.394737</td>\n",
              "      <td>423.520658</td>\n",
              "      <td>0.039474</td>\n",
              "    </tr>\n",
              "    <tr>\n",
              "      <th>1888</th>\n",
              "      <td>53.703704</td>\n",
              "      <td>6.800000</td>\n",
              "      <td>26.333333</td>\n",
              "      <td>18.168349</td>\n",
              "      <td>395.0</td>\n",
              "      <td>0.0</td>\n",
              "      <td>0.002315</td>\n",
              "      <td>0.046296</td>\n",
              "      <td>2.243056</td>\n",
              "      <td>3.472222</td>\n",
              "      <td>4.861111</td>\n",
              "      <td>0.000000</td>\n",
              "      <td>0.000000</td>\n",
              "      <td>0.000000</td>\n",
              "      <td>0.064815</td>\n",
              "      <td>0.048611</td>\n",
              "      <td>0.081019</td>\n",
              "      <td>0.196759</td>\n",
              "      <td>0.115741</td>\n",
              "      <td>0.020833</td>\n",
              "      <td>0.134259</td>\n",
              "      <td>0.067130</td>\n",
              "      <td>0.062500</td>\n",
              "      <td>0.540000</td>\n",
              "      <td>0.069444</td>\n",
              "      <td>0.495370</td>\n",
              "      <td>0.263889</td>\n",
              "      <td>0.013889</td>\n",
              "      <td>0.111111</td>\n",
              "      <td>0.020833</td>\n",
              "      <td>0.104167</td>\n",
              "      <td>0.041667</td>\n",
              "      <td>0.104167</td>\n",
              "      <td>0.104167</td>\n",
              "      <td>0.041667</td>\n",
              "      <td>0.125000</td>\n",
              "      <td>0.062500</td>\n",
              "      <td>0.291667</td>\n",
              "      <td>0.104167</td>\n",
              "      <td>11.162105</td>\n",
              "      <td>0.897554</td>\n",
              "      <td>232.0</td>\n",
              "      <td>2.510466</td>\n",
              "      <td>85.458244</td>\n",
              "      <td>0.108174</td>\n",
              "      <td>0.801724</td>\n",
              "      <td>0.050926</td>\n",
              "      <td>0.430556</td>\n",
              "      <td>0.006944</td>\n",
              "      <td>0.011574</td>\n",
              "      <td>0.013889</td>\n",
              "      <td>0.416667</td>\n",
              "      <td>438.545810</td>\n",
              "      <td>0.074074</td>\n",
              "    </tr>\n",
              "    <tr>\n",
              "      <th>1454</th>\n",
              "      <td>61.320755</td>\n",
              "      <td>5.776923</td>\n",
              "      <td>23.250000</td>\n",
              "      <td>14.838716</td>\n",
              "      <td>186.0</td>\n",
              "      <td>0.0</td>\n",
              "      <td>0.004717</td>\n",
              "      <td>0.056604</td>\n",
              "      <td>1.995283</td>\n",
              "      <td>3.773585</td>\n",
              "      <td>6.132075</td>\n",
              "      <td>0.000000</td>\n",
              "      <td>0.471698</td>\n",
              "      <td>0.009434</td>\n",
              "      <td>0.042453</td>\n",
              "      <td>0.033019</td>\n",
              "      <td>0.099057</td>\n",
              "      <td>0.169811</td>\n",
              "      <td>0.117925</td>\n",
              "      <td>0.009434</td>\n",
              "      <td>0.108491</td>\n",
              "      <td>0.033019</td>\n",
              "      <td>0.028302</td>\n",
              "      <td>0.240000</td>\n",
              "      <td>0.141509</td>\n",
              "      <td>0.457547</td>\n",
              "      <td>0.250000</td>\n",
              "      <td>0.018868</td>\n",
              "      <td>0.113208</td>\n",
              "      <td>0.208333</td>\n",
              "      <td>0.041667</td>\n",
              "      <td>0.083333</td>\n",
              "      <td>0.125000</td>\n",
              "      <td>0.125000</td>\n",
              "      <td>0.083333</td>\n",
              "      <td>0.125000</td>\n",
              "      <td>0.000000</td>\n",
              "      <td>0.125000</td>\n",
              "      <td>0.083333</td>\n",
              "      <td>8.928437</td>\n",
              "      <td>0.908701</td>\n",
              "      <td>130.0</td>\n",
              "      <td>2.380399</td>\n",
              "      <td>84.643939</td>\n",
              "      <td>0.108693</td>\n",
              "      <td>0.800000</td>\n",
              "      <td>0.070755</td>\n",
              "      <td>0.490566</td>\n",
              "      <td>0.004717</td>\n",
              "      <td>0.009434</td>\n",
              "      <td>0.009434</td>\n",
              "      <td>0.344340</td>\n",
              "      <td>417.597642</td>\n",
              "      <td>0.033019</td>\n",
              "    </tr>\n",
              "    <tr>\n",
              "      <th>1523</th>\n",
              "      <td>44.954955</td>\n",
              "      <td>6.494990</td>\n",
              "      <td>17.627451</td>\n",
              "      <td>11.263268</td>\n",
              "      <td>899.0</td>\n",
              "      <td>0.0</td>\n",
              "      <td>0.000901</td>\n",
              "      <td>0.053153</td>\n",
              "      <td>1.995495</td>\n",
              "      <td>3.873874</td>\n",
              "      <td>8.738739</td>\n",
              "      <td>0.270270</td>\n",
              "      <td>0.810811</td>\n",
              "      <td>0.000000</td>\n",
              "      <td>0.059459</td>\n",
              "      <td>0.045946</td>\n",
              "      <td>0.090090</td>\n",
              "      <td>0.137838</td>\n",
              "      <td>0.079279</td>\n",
              "      <td>0.009910</td>\n",
              "      <td>0.091892</td>\n",
              "      <td>0.045946</td>\n",
              "      <td>0.065766</td>\n",
              "      <td>0.829545</td>\n",
              "      <td>0.127027</td>\n",
              "      <td>0.381982</td>\n",
              "      <td>0.215315</td>\n",
              "      <td>0.010811</td>\n",
              "      <td>0.091892</td>\n",
              "      <td>0.058824</td>\n",
              "      <td>0.137255</td>\n",
              "      <td>0.058824</td>\n",
              "      <td>0.088235</td>\n",
              "      <td>0.098039</td>\n",
              "      <td>0.098039</td>\n",
              "      <td>0.049020</td>\n",
              "      <td>0.009804</td>\n",
              "      <td>0.245098</td>\n",
              "      <td>0.156863</td>\n",
              "      <td>14.977491</td>\n",
              "      <td>0.885982</td>\n",
              "      <td>499.0</td>\n",
              "      <td>2.684614</td>\n",
              "      <td>88.725646</td>\n",
              "      <td>0.106164</td>\n",
              "      <td>0.779559</td>\n",
              "      <td>0.084685</td>\n",
              "      <td>0.350450</td>\n",
              "      <td>0.014414</td>\n",
              "      <td>0.018018</td>\n",
              "      <td>0.018018</td>\n",
              "      <td>0.352252</td>\n",
              "      <td>417.608198</td>\n",
              "      <td>0.037838</td>\n",
              "    </tr>\n",
              "    <tr>\n",
              "      <th>1696</th>\n",
              "      <td>41.788478</td>\n",
              "      <td>6.374486</td>\n",
              "      <td>24.631579</td>\n",
              "      <td>17.504016</td>\n",
              "      <td>936.0</td>\n",
              "      <td>0.0</td>\n",
              "      <td>0.000860</td>\n",
              "      <td>0.081685</td>\n",
              "      <td>1.964746</td>\n",
              "      <td>2.837489</td>\n",
              "      <td>9.114359</td>\n",
              "      <td>0.171969</td>\n",
              "      <td>0.687876</td>\n",
              "      <td>0.049871</td>\n",
              "      <td>0.030095</td>\n",
              "      <td>0.042132</td>\n",
              "      <td>0.084265</td>\n",
              "      <td>0.161651</td>\n",
              "      <td>0.076526</td>\n",
              "      <td>0.020636</td>\n",
              "      <td>0.105761</td>\n",
              "      <td>0.045572</td>\n",
              "      <td>0.061909</td>\n",
              "      <td>0.808989</td>\n",
              "      <td>0.124678</td>\n",
              "      <td>0.437661</td>\n",
              "      <td>0.206363</td>\n",
              "      <td>0.012898</td>\n",
              "      <td>0.085985</td>\n",
              "      <td>0.070000</td>\n",
              "      <td>0.080000</td>\n",
              "      <td>0.030000</td>\n",
              "      <td>0.170000</td>\n",
              "      <td>0.060000</td>\n",
              "      <td>0.030000</td>\n",
              "      <td>0.090000</td>\n",
              "      <td>0.080000</td>\n",
              "      <td>0.310000</td>\n",
              "      <td>0.080000</td>\n",
              "      <td>14.251035</td>\n",
              "      <td>0.876388</td>\n",
              "      <td>486.0</td>\n",
              "      <td>2.665571</td>\n",
              "      <td>82.383655</td>\n",
              "      <td>0.110174</td>\n",
              "      <td>0.707819</td>\n",
              "      <td>0.049011</td>\n",
              "      <td>0.295787</td>\n",
              "      <td>0.017197</td>\n",
              "      <td>0.017197</td>\n",
              "      <td>0.017197</td>\n",
              "      <td>0.351677</td>\n",
              "      <td>415.014140</td>\n",
              "      <td>0.036113</td>\n",
              "    </tr>\n",
              "  </tbody>\n",
              "</table>\n",
              "</div>"
            ],
            "text/plain": [
              "      DiversidadeLexica  ...  FreqOperadoresLogicos\n",
              "1283          77.631579  ...               0.039474\n",
              "1888          53.703704  ...               0.074074\n",
              "1454          61.320755  ...               0.033019\n",
              "1523          44.954955  ...               0.037838\n",
              "1696          41.788478  ...               0.036113\n",
              "\n",
              "[5 rows x 54 columns]"
            ]
          },
          "metadata": {
            "tags": []
          },
          "execution_count": 21
        }
      ]
    },
    {
      "cell_type": "code",
      "metadata": {
        "id": "MvjESmURRgbI",
        "colab_type": "code",
        "outputId": "4f41bacc-f815-48ad-ddbb-dd687c904e63",
        "colab": {
          "base_uri": "https://localhost:8080/",
          "height": 68
        }
      },
      "source": [
        "model = ExtraTreesClassifier(n_estimators=350, random_state=11)\n",
        "\n",
        "model.fit(X, Y)\n",
        "\n",
        "y_pred = model.predict(X_test)\n",
        "\n",
        "score = accuracy_score(y_test, y_pred)\n",
        "print(\"News Test score: %.2f%%\" % (score * 100))\n",
        "\n",
        "\n",
        "model = ExtraTreesClassifier(n_estimators=350, random_state=11)\n",
        "model.fit(X_student, Y_student)\n",
        "\n",
        "y_pred = model.predict(X_student_test)\n",
        "\n",
        "score = accuracy_score(Y_student_test, y_pred)\n",
        "print(\"Students Test score: %.2f%%\" % (score * 100))\n",
        "\n",
        "\n",
        "model = ExtraTreesClassifier(n_estimators=800, random_state=11)\n",
        "model.fit(X_varela, Y_varela)\n",
        "\n",
        "y_pred = model.predict(X_varela_test)\n",
        "\n",
        "score = accuracy_score(y_varela_test, y_pred)\n",
        "print(\"Varela Test score: %.2f%%\" % (score * 100))"
      ],
      "execution_count": 17,
      "outputs": [
        {
          "output_type": "stream",
          "text": [
            "News Test score: 73.33%\n",
            "Students Test score: 14.29%\n",
            "Varela Test score: 56.67%\n"
          ],
          "name": "stdout"
        }
      ]
    },
    {
      "cell_type": "code",
      "metadata": {
        "id": "1iA5Gg74j5Nx",
        "colab_type": "code",
        "colab": {}
      },
      "source": [
        ""
      ],
      "execution_count": 0,
      "outputs": []
    },
    {
      "cell_type": "code",
      "metadata": {
        "id": "pep2ZehISvJK",
        "colab_type": "code",
        "colab": {}
      },
      "source": [
        "# Hyper-tuning our classifiers\n",
        "\n",
        "# TODO: Extract this into reusable function!\n",
        "\n",
        "n_estimators = [int(x) for x in np.linspace(start = 150, stop = 1500, num = 50)]\n",
        "max_features = ['auto', 'sqrt']\n",
        "max_depth = [int(x) for x in np.linspace(10, 110, num = 11)]\n",
        "max_depth.append(None)\n",
        "min_samples_split = [2, 5, 10]\n",
        "min_samples_leaf = [1, 2, 4]\n",
        "bootstrap = [True, False]\n",
        "\n",
        "random_grid = {'n_estimators': n_estimators,\n",
        "               'max_features': max_features,\n",
        "               'max_depth': max_depth,\n",
        "               'min_samples_split': min_samples_split,\n",
        "               'min_samples_leaf': min_samples_leaf,\n",
        "               'bootstrap': bootstrap}\n",
        "                \n",
        "etc = ExtraTreesClassifier(random_state=11)\n",
        "\n",
        "# search across 100 different combinations, and use all available cores\n",
        "news_best_estimator_search = RandomizedSearchCV(estimator = etc, param_distributions = random_grid, n_iter = 100, cv = 5, verbose=0, random_state=11, n_jobs=-1)\n",
        "\n",
        "news_best_estimator_search.fit(X, Y)\n",
        "\n",
        "students_best_estimator_search = RandomizedSearchCV(estimator = etc, param_distributions = random_grid, n_iter = 100, cv = 3, verbose=0, random_state=11, n_jobs=-1)\n",
        "\n",
        "students_best_estimator_search.fit(X_student, Y_student)\n",
        "\n",
        "\n",
        "pprint(news_best_estimator_search.best_params_)\n",
        "pprint(students_best_estimator_search.best_params_)"
      ],
      "execution_count": 0,
      "outputs": []
    },
    {
      "cell_type": "code",
      "metadata": {
        "id": "Eb7EeVT7KyEb",
        "colab_type": "code",
        "colab": {
          "base_uri": "https://localhost:8080/",
          "height": 34
        },
        "outputId": "ff563e7e-5861-41ef-da47-f0e134382cf7"
      },
      "source": [
        "Y_varela.shape"
      ],
      "execution_count": 26,
      "outputs": [
        {
          "output_type": "execute_result",
          "data": {
            "text/plain": [
              "(2100,)"
            ]
          },
          "metadata": {
            "tags": []
          },
          "execution_count": 26
        }
      ]
    },
    {
      "cell_type": "code",
      "metadata": {
        "id": "jl8FGC0HKwBJ",
        "colab_type": "code",
        "colab": {
          "base_uri": "https://localhost:8080/",
          "height": 173
        },
        "outputId": "86a53c3e-f819-4b0d-90f4-ef55e1c0e5cc"
      },
      "source": [
        "varela_best_estimator_search = RandomizedSearchCV(estimator = etc, param_distributions = random_grid, n_iter = 100, cv = 5, verbose=0, random_state=11, n_jobs=-1)\n",
        "\n",
        "varela_best_estimator_search.fit(X_varela, Y_varela)\n",
        "pprint(varela_best_estimator_search.best_params_)"
      ],
      "execution_count": 27,
      "outputs": [
        {
          "output_type": "stream",
          "text": [
            "/usr/local/lib/python3.6/dist-packages/joblib/externals/loky/process_executor.py:706: UserWarning: A worker stopped while some jobs were given to the executor. This can be caused by a too short worker timeout or by a memory leak.\n",
            "  \"timeout or by a memory leak.\", UserWarning\n"
          ],
          "name": "stderr"
        },
        {
          "output_type": "stream",
          "text": [
            "{'bootstrap': False,\n",
            " 'max_depth': 60,\n",
            " 'max_features': 'sqrt',\n",
            " 'min_samples_leaf': 1,\n",
            " 'min_samples_split': 2,\n",
            " 'n_estimators': 866}\n"
          ],
          "name": "stdout"
        }
      ]
    },
    {
      "cell_type": "code",
      "metadata": {
        "id": "BGPCA-Jnf5e2",
        "colab_type": "code",
        "outputId": "90c3e517-1289-4d1b-f46d-c035dcbd39b9",
        "colab": {
          "base_uri": "https://localhost:8080/",
          "height": 68
        }
      },
      "source": [
        "from sklearn.metrics import average_precision_score\n",
        "from sklearn.metrics import precision_recall_fscore_support\n",
        "\n",
        "# Let's now check the accuracy on both validation datasets (not seen by the classifier yet)\n",
        "new_X = np.concatenate((X, X_test))\n",
        "new_Y = np.concatenate((Y, y_test))\n",
        "\n",
        "news_best_estimator_search.best_estimator_.fit(new_X, new_Y)\n",
        "predictions = news_best_estimator_search.best_estimator_.predict(X_val)\n",
        "base_score = accuracy_score(predictions, y_val)\n",
        "print('Average accuracy news:' + str(base_score))\n",
        "#pprint(classification_report(y_val, predictions))\n",
        "\n",
        "new_X_student = np.concatenate((X_student, X_student_test))\n",
        "new_Y_student = np.concatenate((Y_student, Y_student_test))\n",
        "\n",
        "students_best_estimator_search.best_estimator_.fit(new_X_student, new_Y_student)\n",
        "predictions = students_best_estimator_search.best_estimator_.predict(X_student_val)\n",
        "base_score = accuracy_score(predictions, y_student_val)\n",
        "print('Average accuracy students:' + str(base_score))\n",
        "\n",
        "new_X_varela = np.concatenate((X_varela, X_varela_test))\n",
        "new_Y_varela = np.concatenate((Y_varela, y_varela_test))\n",
        "\n",
        "varela_best_estimator_search.best_estimator_.fit(new_X_varela, new_Y_varela)\n",
        "predictions = varela_best_estimator_search.best_estimator_.predict(X_varela_val)\n",
        "varela_score = accuracy_score(predictions, y_varela_val)\n",
        "print('Accuracy varela:' + str(varela_score))\n"
      ],
      "execution_count": 29,
      "outputs": [
        {
          "output_type": "stream",
          "text": [
            "Average accuracy news:0.8\n",
            "Average accuracy students:0.14285714285714285\n",
            "Accuracy varela:0.5644444444444444\n"
          ],
          "name": "stdout"
        }
      ]
    },
    {
      "cell_type": "code",
      "metadata": {
        "id": "_UV62Xl8RCWR",
        "colab_type": "code",
        "colab": {
          "base_uri": "https://localhost:8080/",
          "height": 564
        },
        "outputId": "4188c709-7aee-4ef8-c81e-6186e4cdfb0f"
      },
      "source": [
        "rfecv_varela = RFECV(estimator=ExtraTreesClassifier(n_estimators=866), step=1, cv=5,scoring='accuracy')\n",
        "rfecv_varela.fit(df_varela, encoded_Y_varela)\n",
        "\n",
        "varela_best_features_num = rfecv_varela.n_features_\n",
        "\n",
        "print(\"Optimal number of features for best estimator news-dataset: %d\" % varela_best_features_num)\n",
        "\n",
        "fig, (ax1) = plt.subplots(1, 1)\n",
        "fig.set_size_inches(12, 8)\n",
        "\n",
        "ax1.plot(range(1, len(rfecv_varela.grid_scores_) + 1), rfecv_varela.grid_scores_)\n",
        "ax1.set_xlabel(\"Number of features selected\")\n",
        "ax1.set_ylabel(\"Cross validation score (nb of correct classifications)\")\n",
        "ax1.set_title('Best classifier (ExtraTrees) - Varela dataset')\n",
        "\n",
        "\n",
        "plt.figure()"
      ],
      "execution_count": 11,
      "outputs": [
        {
          "output_type": "stream",
          "text": [
            "Optimal number of features for best estimator news-dataset: 54\n"
          ],
          "name": "stdout"
        },
        {
          "output_type": "execute_result",
          "data": {
            "text/plain": [
              "<Figure size 432x288 with 0 Axes>"
            ]
          },
          "metadata": {
            "tags": []
          },
          "execution_count": 11
        },
        {
          "output_type": "display_data",
          "data": {
            "image/png": "[encoded data removed]",
            "text/plain": [
              "<Figure size 864x576 with 1 Axes>"
            ]
          },
          "metadata": {
            "tags": [],
            "needs_background": "light"
          }
        },
        {
          "output_type": "display_data",
          "data": {
            "text/plain": [
              "<Figure size 432x288 with 0 Axes>"
            ]
          },
          "metadata": {
            "tags": []
          }
        }
      ]
    },
    {
      "cell_type": "code",
      "metadata": {
        "id": "7LPhbq7lIreZ",
        "colab_type": "code",
        "colab": {}
      },
      "source": [
        "\n",
        "# print the metrics if needed\n",
        "\n",
        "# precision_recall_fscore_support(y_test, predictions, average='macro')\n",
        "\n",
        "# pprint(classification_report(y_student_val, predictions))\n",
        "\n",
        " #print (\"AUC&ROC\",roc_auc_score(y_test, predictions, multi_class='ovr'))"
      ],
      "execution_count": 0,
      "outputs": []
    },
    {
      "cell_type": "code",
      "metadata": {
        "id": "GIGbPqTN25-V",
        "colab_type": "code",
        "outputId": "6457b24b-96b0-486c-ee65-0a5f573cf7d9",
        "colab": {
          "base_uri": "https://localhost:8080/",
          "height": 581
        }
      },
      "source": [
        "rfecv = RFECV(estimator=news_best_estimator_search.best_estimator_, step=1, cv=5,scoring='accuracy')\n",
        "rfecv.fit(df_news, encoded_y_news)\n",
        "\n",
        "news_best_features_num = rfecv.n_features_\n",
        "\n",
        "print(\"Optimal number of features for best estimator news-dataset: %d\" % news_best_features_num)\n",
        "\n",
        "rfecv2 = RFECV(estimator=students_best_estimator_search.best_estimator_, step=1, cv=3,\n",
        "              scoring='accuracy')\n",
        "rfecv2.fit(df, encoded_Y)\n",
        "\n",
        "students_best_features_num = rfecv2.n_features_\n",
        "\n",
        "print(\"Optimal number of features for best estimator students-dataset: %d\" % students_best_features_num)\n",
        "\n",
        "fig, (ax1, ax2) = plt.subplots(1, 2)\n",
        "fig.set_size_inches(12, 8)\n",
        "\n",
        "ax1.plot(range(1, len(rfecv.grid_scores_) + 1), rfecv.grid_scores_)\n",
        "ax1.set_xlabel(\"Number of features selected\")\n",
        "ax1.set_ylabel(\"Cross validation score (nb of correct classifications)\")\n",
        "ax1.set_title('Best classifier (ExtraTrees) - News dataset')\n",
        "\n",
        "ax2.plot(range(1, len(rfecv2.grid_scores_) + 1), rfecv2.grid_scores_)\n",
        "ax2.set_xlabel(\"Number of features selected\")\n",
        "ax2.set_ylabel(\"Cross validation score (nb of correct classifications)\")\n",
        "ax2.set_title('Best classifier (ExtraTrees) - Students dataset')\n",
        "\n",
        "plt.figure()"
      ],
      "execution_count": 0,
      "outputs": [
        {
          "output_type": "stream",
          "text": [
            "Optimal number of features for best estimator news-dataset: 22\n",
            "Optimal number of features for best estimator students-dataset: 26\n"
          ],
          "name": "stdout"
        },
        {
          "output_type": "execute_result",
          "data": {
            "text/plain": [
              "<Figure size 432x288 with 0 Axes>"
            ]
          },
          "metadata": {
            "tags": []
          },
          "execution_count": 99
        },
        {
          "output_type": "display_data",
          "data": {
            "image/png": "[encoded data removed]",
            "text/plain": [
              "<Figure size 864x576 with 2 Axes>"
            ]
          },
          "metadata": {
            "tags": [],
            "needs_background": "light"
          }
        },
        {
          "output_type": "display_data",
          "data": {
            "text/plain": [
              "<Figure size 432x288 with 0 Axes>"
            ]
          },
          "metadata": {
            "tags": []
          }
        }
      ]
    },
    {
      "cell_type": "code",
      "metadata": {
        "id": "jN_DZ_XO7K1Z",
        "colab_type": "code",
        "colab": {}
      },
      "source": [
        "# Dummy function to make label names shorter and help visualize our graph\n",
        "\n",
        "def make_label(text):\n",
        "  if len(text) > 6:\n",
        "    sub_text = text[:6]\n",
        "    capitals = ''.join([c for c in text if c.isupper()])\n",
        "    numbers = ''.join([c for c in text if c.isdigit()])\n",
        "    text = capitals[0] + sub_text[1:] + capitals[1:] + numbers \n",
        "  return text"
      ],
      "execution_count": 0,
      "outputs": []
    },
    {
      "cell_type": "code",
      "metadata": {
        "id": "5N4gO4Ipu1ah",
        "colab_type": "code",
        "outputId": "014ea275-f4f0-40ed-9b28-49f4a8b529d3",
        "colab": {
          "base_uri": "https://localhost:8080/",
          "height": 278
        }
      },
      "source": [
        "fig, (ax1, ax2) = plt.subplots(1, 2)\n",
        "fig.set_size_inches(60, 8)\n",
        "\n",
        "news_features = news_feat_importances.nlargest(news_best_features_num)\n",
        "height_news = [i for i in news_features]\n",
        " \n",
        "ax1.set_xlabel(\"Feature name\")\n",
        "ax1.set_ylabel(\"Feature score\")\n",
        "ax1.set_title('News dataset best features')\n",
        "smaller_news_labels = [make_label(ft) for ft in news_features.index]\n",
        "ax1.bar(smaller_news_labels, height_news, 0.5)\n",
        "\n",
        "std_features = student_feat_importances.nlargest(students_best_features_num)\n",
        "height_std = [i for i in std_features]\n",
        "ax2.set_xlabel(\"Feature name\")\n",
        "ax2.set_ylabel(\"Feature score\")\n",
        "ax2.set_title('News dataset best features')\n",
        "smaller_std_labels = [make_label(ft) for ft in std_features.index]\n",
        "ax2.bar(smaller_std_labels, height_std, 0.5)\n",
        "\n",
        "\n",
        "plt.show()"
      ],
      "execution_count": 0,
      "outputs": [
        {
          "output_type": "display_data",
          "data": {
            "image/png": "[encoded data removed]",
            "text/plain": [
              "<Figure size 4320x576 with 2 Axes>"
            ]
          },
          "metadata": {
            "tags": [],
            "needs_background": "light"
          }
        }
      ]
    },
    {
      "cell_type": "code",
      "metadata": {
        "id": "IGMK2P869VOG",
        "colab_type": "code",
        "outputId": "94741a0b-384b-46e7-8608-6fd95e9f386b",
        "colab": {
          "base_uri": "https://localhost:8080/",
          "height": 289
        }
      },
      "source": [
        "print(news_features.index)\n",
        "print(std_features.index)"
      ],
      "execution_count": 0,
      "outputs": [
        {
          "output_type": "stream",
          "text": [
            "Index(['TamanhoMedioParagrafos', 'FrequenciaDeParagrafos',\n",
            "       'FreqPalavrasDeConteudo', 'MedidaK', 'Virgulas', 'GuiraudR', 'HerdanV',\n",
            "       'FreqTermosNaoTageados', 'Ponto', 'FreqPronomes', 'Exclamacoes',\n",
            "       'StdevTamParagrafos', 'FreqPalavrasErradas', 'PronomesPorPreposicao',\n",
            "       'FrequenciaStopWords', 'TamanhoMedioDasPalavras', 'StdevSentencas',\n",
            "       'FreqSubs', 'FreqVerbosPtcp', 'FreqAdv', 'DugastU', 'FreqPrep'],\n",
            "      dtype='object')\n",
            "Index(['FrequenciaDeParagrafos', 'StdevSentencas', 'MedidaK', 'FreqPronomes',\n",
            "       'TamanhoMedioSentencas', 'FreqPalavrasComunsTam2', 'DiversidadeLexica',\n",
            "       'FreqEAbstracao', 'MaasA', 'DugastU', 'Virgulas', 'FreqVerbosPtcp',\n",
            "       'FreqSubs', 'FreqTotalEntidadesNomeadas', 'FreqEPessoa', 'HerdanV',\n",
            "       'FrequenciaStopWords', 'FrequenciaDeHapaxLegomenaLocal', 'GuiraudR',\n",
            "       'TamanhoMedioDasPalavras', 'FrequenciaPalavrasDuplicadas',\n",
            "       'TamanhoMedioParagrafos', 'Ponto', 'FreqPalavrasErradas', 'HerdanC',\n",
            "       'FreqPalavrasComunsTam4'],\n",
            "      dtype='object')\n"
          ],
          "name": "stdout"
        }
      ]
    },
    {
      "cell_type": "code",
      "metadata": {
        "id": "1C2UZePwRo72",
        "colab_type": "code",
        "outputId": "c01936d4-edff-4d1e-eeb8-201ab7a827b5",
        "colab": {
          "base_uri": "https://localhost:8080/",
          "height": 68
        }
      },
      "source": [
        "# TODO: Finish the pipeline with feature selection + normalization + classification + hypertuning + metrics report\n",
        "X, X_test, Y, y_test = train_test_split(df_news.values, encoded_y_news, random_state=7, test_size=0.3)\n",
        "\n",
        "treeclf = ExtraTreesClassifier(n_estimators=400, random_state=11)\n",
        "\n",
        "clf = Pipeline([\n",
        "  ('feature_selection', RFECV(estimator=treeclf, step=1, cv=5, scoring='accuracy')),\n",
        "  ('classification', ExtraTreesClassifier(random_state=11))\n",
        "])\n",
        "clf.fit(X, Y)\n",
        "\n",
        "y_pred = clf.predict(X_test)\n",
        "\n",
        "score = accuracy_score(y_test, y_pred)\n",
        "print(\"Test score: %.2f%%\" % (score * 100))"
      ],
      "execution_count": 0,
      "outputs": [
        {
          "output_type": "stream",
          "text": [
            "/usr/local/lib/python3.6/dist-packages/sklearn/model_selection/_split.py:667: UserWarning: The least populated class in y has only 4 members, which is less than n_splits=5.\n",
            "  % (min_groups, self.n_splits)), UserWarning)\n"
          ],
          "name": "stderr"
        },
        {
          "output_type": "stream",
          "text": [
            "Test score: 66.67%\n"
          ],
          "name": "stdout"
        }
      ]
    },
    {
      "cell_type": "code",
      "metadata": {
        "colab_type": "code",
        "outputId": "b5eef7da-4ee2-4d7f-e9de-f2862039004c",
        "id": "kRBMmNAOdNl_",
        "colab": {
          "base_uri": "https://localhost:8080/",
          "height": 51
        }
      },
      "source": [
        "X, X_test, Y, y_test = train_test_split(df_news, encoded_y_news, random_state=7, test_size=0.3)\n",
        "#X, X_test, Y, y_test = train_test_split(df.values, encoded_Y, random_state=7, test_size=0.3)\n",
        "X_test, X_val, y_test, y_val = train_test_split(X_test, y_test, random_state=7, test_size=0.5)\n",
        "\n",
        "test_scores = []\n",
        "val_scores = []\n",
        "for i in range(0,10):\n",
        "\n",
        "  model = ExtraTreesClassifier(n_estimators=400, random_state=11)\n",
        "  model.fit(X, Y)\n",
        "\n",
        "  y_pred = model.predict(X_test)\n",
        "\n",
        "  score = accuracy_score(y_test, y_pred)\n",
        "  #print(\"Test score: %.2f%%\" % (score * 100))\n",
        "  test_scores.append(score * 100)\n",
        "\n",
        "  y_pred = model.predict(X_val)\n",
        "  score = accuracy_score(y_val, y_pred)\n",
        "  #print(\"Validation score: %.2f%%\" % (score * 100))\n",
        "  val_scores.append(score * 100)\n",
        "\n",
        "\n",
        "print(\"Test score: %.2f%%\" % (np.mean(test_scores)))\n",
        "print(\"Validation score: %.2f%%\" % (np.mean(val_scores)))\n"
      ],
      "execution_count": 0,
      "outputs": [
        {
          "output_type": "stream",
          "text": [
            "Test score: 73.33%\n",
            "Validation score: 66.67%\n"
          ],
          "name": "stdout"
        }
      ]
    },
    {
      "cell_type": "code",
      "metadata": {
        "id": "78rziGfir8oe",
        "colab_type": "code",
        "colab": {}
      },
      "source": [
        "# Let's manually imballance the dataset to make it look more like students dataset\n",
        "from random import randrange\n",
        "\n",
        "df_test = pd.read_csv(news_filename)\n",
        "\n",
        "safe_ids = [i for i in set([randrange(5) * i for i in range(1,40)]) if i < 100]\n",
        "df_test = df_test.drop(safe_ids)\n",
        "df_test.shape\n",
        "\n",
        "# Let's remove more samples for the first 3 classes\n",
        "def remove_by_author(author, df):\n",
        "  for idx in df.loc[df['Author'] == author].index:\n",
        "    #lets give 0.5 chance to drop each feature\n",
        "    chance = randrange(2)\n",
        "    if chance == 1:\n",
        "      df = df.drop(idx)\n",
        "  return df\n",
        "\n",
        "# Lets also give a random chance of removing these authors texts\n",
        "df_test = remove_by_author(\"'SP'\", df_test)\n",
        "df_test = remove_by_author(\"'VSAL'\", df_test)\n",
        "df_test = remove_by_author(\"'MC'\", df_test)\n",
        "df_test = remove_by_author(\"'KM'\", df_test)"
      ],
      "execution_count": 0,
      "outputs": []
    },
    {
      "cell_type": "code",
      "metadata": {
        "id": "SmKw5AODwaJP",
        "colab_type": "code",
        "outputId": "19d810a0-0b9c-4d8b-b1ea-7e2b1e88f7ab",
        "colab": {
          "base_uri": "https://localhost:8080/",
          "height": 281
        }
      },
      "source": [
        "authors = {}\n",
        "for author in set(df_test['Author']):\n",
        "  authors[author] = len(df_test.loc[df_test['Author'] == author])\n",
        "\n",
        "height = authors.values()\n",
        "bars = authors.keys()\n",
        "y_pos = np.arange(len(bars))\n",
        " \n",
        "plt.bar(y_pos, height)\n",
        "plt.xticks(y_pos, bars)\n",
        " \n",
        "plt.title('Imbalanced news dataset')\n",
        "plt.ylabel('Number of samples')\n",
        "plt.show()"
      ],
      "execution_count": 0,
      "outputs": [
        {
          "output_type": "display_data",
          "data": {
            "image/png": "[encoded data removed]",
            "text/plain": [
              "<Figure size 432x288 with 1 Axes>"
            ]
          },
          "metadata": {
            "tags": [],
            "needs_background": "light"
          }
        }
      ]
    },
    {
      "cell_type": "code",
      "metadata": {
        "id": "LuVq48xq4RTK",
        "colab_type": "code",
        "colab": {}
      },
      "source": [
        "#Separate data from labels\n",
        "y_news_imbalanced = df_test.pop('Author')\n",
        "\n",
        "le = LabelEncoder()\n",
        "le.fit(y_news_imbalanced)\n",
        "encoded_Y_news_imbalanced = le.transform(y_news_imbalanced)"
      ],
      "execution_count": 0,
      "outputs": []
    },
    {
      "cell_type": "code",
      "metadata": {
        "id": "RnYp8ZrY4Snu",
        "colab_type": "code",
        "outputId": "3f22e5cc-4306-4633-a9e5-be9bd1cd2203",
        "colab": {
          "base_uri": "https://localhost:8080/",
          "height": 272
        }
      },
      "source": [
        "# Now let's use our best classifier from balanced dataset do see accuracy after imbalance\n",
        "\n",
        "X, X_test, Y, y_test = train_test_split(df_test.values, encoded_Y_news_imbalanced, random_state=7, test_size=0.3)\n",
        "X_test, X_val, y_test, y_val = train_test_split(X_test, y_test, random_state=7, test_size=0.5)\n",
        "\n",
        "# Hyper-tuning our classifier\n",
        "n_estimators = [int(x) for x in np.linspace(start = 150, stop = 1500, num = 50)]\n",
        "max_features = ['auto', 'sqrt']\n",
        "max_depth = [int(x) for x in np.linspace(10, 110, num = 11)]\n",
        "max_depth.append(None)\n",
        "min_samples_split = [2, 5, 10]\n",
        "min_samples_leaf = [1, 2, 4]\n",
        "bootstrap = [True, False]\n",
        "\n",
        "random_grid = {'n_estimators': n_estimators,\n",
        "               'max_features': max_features,\n",
        "               'max_depth': max_depth,\n",
        "               'min_samples_split': min_samples_split,\n",
        "               'min_samples_leaf': min_samples_leaf,\n",
        "               'bootstrap': bootstrap}\n",
        "                \n",
        "\n",
        "rf_random_imbalanced = RandomizedSearchCV(estimator = ExtraTreesClassifier(random_state=11), \n",
        "                                          param_distributions = random_grid, n_iter = 100, cv = 5, verbose=2, random_state=42, n_jobs = -1)\n",
        "\n",
        "rf_random_imbalanced.fit(X, Y)\n",
        "\n",
        "pprint(rf_random_imbalanced.best_params_)\n",
        "\n",
        "best_imbl_model = rf_random_imbalanced.best_estimator_\n",
        "imbl_predictions = best_imbl_model.predict(X_test)\n",
        "best_score = accuracy_score(imbl_predictions, y_test)\n",
        "print(best_score)"
      ],
      "execution_count": 0,
      "outputs": [
        {
          "output_type": "stream",
          "text": [
            "Fitting 5 folds for each of 100 candidates, totalling 500 fits\n"
          ],
          "name": "stdout"
        },
        {
          "output_type": "stream",
          "text": [
            "/usr/local/lib/python3.6/dist-packages/sklearn/model_selection/_split.py:667: UserWarning: The least populated class in y has only 1 members, which is less than n_splits=5.\n",
            "  % (min_groups, self.n_splits)), UserWarning)\n",
            "[Parallel(n_jobs=-1)]: Using backend LokyBackend with 2 concurrent workers.\n",
            "[Parallel(n_jobs=-1)]: Done  37 tasks      | elapsed:   28.9s\n",
            "[Parallel(n_jobs=-1)]: Done 158 tasks      | elapsed:  2.2min\n",
            "[Parallel(n_jobs=-1)]: Done 361 tasks      | elapsed:  4.9min\n",
            "[Parallel(n_jobs=-1)]: Done 500 out of 500 | elapsed:  7.0min finished\n"
          ],
          "name": "stderr"
        },
        {
          "output_type": "stream",
          "text": [
            "{'bootstrap': False,\n",
            " 'max_depth': 60,\n",
            " 'max_features': 'sqrt',\n",
            " 'min_samples_leaf': 1,\n",
            " 'min_samples_split': 2,\n",
            " 'n_estimators': 1389}\n",
            "0.875\n"
          ],
          "name": "stdout"
        }
      ]
    },
    {
      "cell_type": "code",
      "metadata": {
        "id": "WWex1pbUqdR2",
        "colab_type": "code",
        "outputId": "58d6e9cc-bd8b-40e5-956c-23afc5285fdf",
        "colab": {
          "base_uri": "https://localhost:8080/",
          "height": 34
        }
      },
      "source": [
        "# Let's now check the accuracy of our new imbalanced model\n",
        "new_X = np.concatenate((X, X_test))\n",
        "new_Y = np.concatenate((Y, y_test))\n",
        "\n",
        "best_imbl_model.fit(new_X, new_Y)\n",
        "imbl_predictions = best_imbl_model.predict(X_val)\n",
        "best_score = accuracy_score(imbl_predictions, y_val)\n",
        "\n",
        "# It looks like class imbalance was not a problem after all\n",
        "print(best_score)"
      ],
      "execution_count": 0,
      "outputs": [
        {
          "output_type": "stream",
          "text": [
            "0.7777777777777778\n"
          ],
          "name": "stdout"
        }
      ]
    },
    {
      "cell_type": "code",
      "metadata": {
        "id": "5_GMuIacdOUA",
        "colab_type": "code",
        "colab": {}
      },
      "source": [
        "# Checking the results of a simple neural network..\n",
        "# Looks like TensorFlow 2.x is causing neural networks not to work correctly - In my machine it works :p\n",
        "X, X_test, Y, y_test = train_test_split(df_news, encoded_y_news, random_state=11, test_size=0.3)\n",
        "model = Sequential()\n",
        "model.add(Dense(12, input_shape=[54], activation='relu'))\n",
        "model.add(Dropout(0.3))\n",
        "model.add(Dense(10, activation='softmax'))\n",
        "model.compile(loss='categorical_crossentropy', optimizer='adam', metrics=['accuracy'])\n",
        "\n",
        "model.fit(X, Y, epochs=250, verbose=1)\n",
        "\n",
        "scores = model.evaluate(X_test, y_test, verbose=1)\n",
        "print(\"%s: %.2f%%\" % (model.metrics_names[1], scores[1] * 100))"
      ],
      "execution_count": 0,
      "outputs": []
    }
  ]
}